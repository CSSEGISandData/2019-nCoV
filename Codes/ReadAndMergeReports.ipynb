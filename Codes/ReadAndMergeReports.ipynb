{
 "cells": [
  {
   "cell_type": "code",
   "execution_count": null,
   "metadata": {},
   "outputs": [],
   "source": [
    "# Reading and Merging daily_reports ##"
   ]
  },
  {
   "cell_type": "code",
   "execution_count": null,
   "metadata": {},
   "outputs": [],
   "source": [
    "import numpy as np\n",
    "import pandas as pd \n",
    "import matplotlib.pyplot as plt\n",
    "%matplotlib inline"
   ]
  },
  {
   "cell_type": "code",
   "execution_count": null,
   "metadata": {
    "scrolled": true
   },
   "outputs": [],
   "source": [
    "# list all files under  directory\n",
    "\n",
    "import os\n",
    "for dirname, _, filenames in os.walk('Your Input Path'):\n",
    "    for filename in filenames:\n",
    "        print(os.path.join(dirname, filename))\n",
    "        \n"
   ]
  },
  {
   "cell_type": "code",
   "execution_count": null,
   "metadata": {
    "scrolled": true
   },
   "outputs": [],
   "source": [
    "import glob, os\n",
    "os.chdir('''yourpath/.../COVID-19/'''\n",
    "                                     '''csse_covid_19_data/csse_covid_19_daily_reports/''')\n",
    "dir = '''/home/...../COVID-19/csse_covid_19_data/csse_covid_19_daily_reports/Sorted/'''\n",
    "\n",
    "\n",
    "# It creates a new csv file.\n",
    "\n",
    "for file in glob.glob(\"*.csv\"):\n",
    "    print(file)\n",
    "    globl = pd.read_csv(str(file))\n",
    "    globl.set_index('Country/Region')\n",
    "    sort= globl.sort_values('Country/Region')\n",
    "    sort['Last Update'] = pd.to_datetime(sort['Last Update'],utc=False)\n",
    "    dicti = {\"Id\":sort.index,'Province/State':sort[\"Province/State\"],\n",
    "          \"Country/Region\":sort[\"Country/Region\"],\"Date\":sort['Last Update'],\"ConfirmedCases\":sort.Confirmed,\"Fatalities\":\n",
    "          sort.Deaths,\"Recovered\":sort.Recovered\n",
    "}\n",
    "    \n",
    "    df = pd.DataFrame(dicti) \n",
    "    df.to_csv(dir+file, index = False)"
   ]
  },
  {
   "cell_type": "code",
   "execution_count": null,
   "metadata": {},
   "outputs": [],
   "source": [
    "# Listing new csv files:\n",
    "\n",
    "\n",
    "files = [f for f in glob.glob(dir + \"*.csv\", recursive=True)]\n",
    "filesort=sorted(files)\n",
    "filesort"
   ]
  },
  {
   "cell_type": "code",
   "execution_count": null,
   "metadata": {},
   "outputs": [],
   "source": [
    "# Merging Reports:\n",
    "\n",
    "from collections import OrderedDict\n",
    "\n",
    "dict_of_df = OrderedDict((f, pd.read_csv(f)) for f in filesort)\n",
    "file_all = pd.concat(dict_of_df, axis=0)"
   ]
  },
  {
   "cell_type": "code",
   "execution_count": null,
   "metadata": {
    "scrolled": true
   },
   "outputs": [],
   "source": [
    "# Fixing or changing values:\n",
    "\n",
    "file_all.loc[file_all['Country/Region'].str.match('Mainland China'),\"Country/Region\"]='China'\n",
    "file_all"
   ]
  },
  {
   "cell_type": "code",
   "execution_count": null,
   "metadata": {},
   "outputs": [],
   "source": [
    "file_all2 = file_all.reset_index(drop=True)\n",
    "file_all2"
   ]
  },
  {
   "cell_type": "code",
   "execution_count": null,
   "metadata": {},
   "outputs": [],
   "source": [
    "file_all3 = file_all2.set_index('Country/Region',drop=False)\n",
    "file_all3['Date'] = pd.to_datetime(file_all3['Date'])\n",
    "file_all3['Date']=file_all3['Date'].dt.date\n",
    "file_all3"
   ]
  },
  {
   "cell_type": "code",
   "execution_count": null,
   "metadata": {},
   "outputs": [],
   "source": [
    "FILE_ALL = file_all3.sort_values('Date').sort_index(kind='mergesort')"
   ]
  },
  {
   "cell_type": "code",
   "execution_count": null,
   "metadata": {},
   "outputs": [],
   "source": [
    "FILE_ALL "
   ]
  },
  {
   "cell_type": "code",
   "execution_count": null,
   "metadata": {},
   "outputs": [],
   "source": [
    "FILE_ALL.to_csv(dir+\"ALL_updated.csv\", index = False)"
   ]
  },
  {
   "cell_type": "code",
   "execution_count": null,
   "metadata": {},
   "outputs": [],
   "source": [
    "FILE_ALL.to_csv(dir+\"trainn.csv\", index = False)"
   ]
  },
  {
   "cell_type": "code",
   "execution_count": null,
   "metadata": {},
   "outputs": [],
   "source": []
  }
 ],
 "metadata": {
  "kernelspec": {
   "display_name": "Python 3",
   "language": "python",
   "name": "python3"
  },
  "language_info": {
   "codemirror_mode": {
    "name": "ipython",
    "version": 3
   },
   "file_extension": ".py",
   "mimetype": "text/x-python",
   "name": "python",
   "nbconvert_exporter": "python",
   "pygments_lexer": "ipython3",
   "version": "3.6.7"
  }
 },
 "nbformat": 4,
 "nbformat_minor": 2
}
