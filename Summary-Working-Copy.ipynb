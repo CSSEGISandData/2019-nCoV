{
 "cells": [
  {
   "cell_type": "markdown",
   "metadata": {},
   "source": [
    "# Assuming full mitigation: \n",
    "## There will be a peak of over 2,000 daily deaths on April 15"
   ]
  },
  {
   "cell_type": "markdown",
   "metadata": {},
   "source": [
    "[https://www.worldometers.info/coronavirus/country/us/](USA Coronavirus)<br />\n",
    "[https://gisanddata.maps.arcgis.com/apps/opsdashboard/index.html#/bda7594740fd40299423467b48e9ecf6](https://gisanddata.maps.arcgis.com/apps/opsdashboard/index.html#/bda7594740fd40299423467b48e9ecf6)\n",
    "\n",
    "### https://catalog.data.gov/dataset?groups=manufacturing7382&#topic=manufacturing_navigation"
   ]
  },
  {
   "cell_type": "markdown",
   "metadata": {},
   "source": [
    "## Contents:\n",
    "<a id=\"home\"></a></b>\n",
    "<b>\n",
    "<a href=\"#mortality\">MORTALITY</a>&nbsp;&nbsp;&nbsp;&nbsp;&nbsp;\n",
    "<a href=\"#plotly\">PLOTLY</a>&nbsp;&nbsp;&nbsp;&nbsp;&nbsp;\n",
    "<a href=\"#edit\">EDIT DATABASE</a>&nbsp;&nbsp;&nbsp;&nbsp;&nbsp;\n",
    "<a href=\"#textplot\">Matplotlib Plot/Graph</a></b></b>"
   ]
  },
  {
   "cell_type": "code",
   "execution_count": 440,
   "metadata": {},
   "outputs": [],
   "source": [
    "from __future__ import division\n",
    "import sys\n",
    "import glob\n",
    "import time\n",
    "import os\n",
    "%matplotlib inline \n",
    "import matplotlib\n",
    "import matplotlib.pyplot as plt\n",
    "from matplotlib.pyplot import figure\n",
    "import numpy as np"
   ]
  },
  {
   "cell_type": "raw",
   "metadata": {},
   "source": [
    "import sqlite3\n",
    "from datetime import datetime\n",
    "from time import gmtime, strftime\n",
    "import glob\n",
    "import time\n",
    "import os\n",
    "import requests\n",
    "if not os.path.exists('DATA'):\n",
    "    os.makedirs('DATA')\n",
    "print (time.strftime('%a_%d_%b_%Y_%I_%M_%S_%p_%Z', time.gmtime())+\".html\")\n",
    "filename = \"DATA/\"+(time.strftime('%a_%d_%b_%Y_%I_%M_%S_%p_%Z', time.gmtime())+\".html\")\n",
    "DataIn = open(filename,\"w\")\n",
    "listTEXT = []\n",
    "stringTEXT = \"\"\n",
    "response = requests.get('https://www.worldometers.info/coronavirus/country/us/')\n",
    "DATA = str(response.content)\n",
    "listTEXT.append(DATA)\n",
    "stringTEXT = stringTEXT+DATA\n",
    "DataIn.write(str(listTEXT))\n",
    "DataIn.close()\n",
    "print(filename)\n",
    "files = glob.glob('DATA/*.html') # * means format then *.html\n",
    "File = max(files, key=os.path.getctime)\n",
    "print (\"Opening: \",File)\n",
    "DataOut = open(File, \"r\").read()\n",
    "dataout = DataOut\n",
    "dataout = str(dataout)\n",
    "dataout = dataout.replace(\"March\",\"\\n\\n\\nXXXXXXXXMarch\")\n",
    "dataout = dataout.replace(\"<strong>\",\"\")\n",
    "dataout = dataout.replace(\"</strong>\",\"\")\n",
    "dataout = dataout.replace(\">\",\"\")\n",
    "dataout= dataout.split(\"XXXXXXXX\")\n",
    "data = (dataout[1][0:129])\n",
    "time = datetime.now().strftime(\"%B %d, %Y %I:%M%p\")\n",
    "conn2=sqlite3.connect(\"DATA/CoronaData2.db\")\n",
    "c2 = conn2.cursor()\n",
    "c2.execute(\"CREATE TABLE IF NOT EXISTS CORONA( TEXT UNIQUE)\")\n",
    "c2.execute(\"INSERT OR IGNORE into CORONA values (?)\",(data,))    \n",
    "conn2.commit()\n",
    "conn2.close()\n",
    "conn=sqlite3.connect(\"DATA/CoronaData.db\")    \n",
    "c = conn.cursor()\n",
    "sql = '''create table if not exists CORONA(\n",
    "         Filename, text\n",
    "         Time text,\n",
    "         data TEXT);'''\n",
    "conn.execute(sql)\n",
    "c.execute(\"insert into CORONA values (?,?,?)\",(File,time,data))    \n",
    "conn.commit()\n",
    "conn.close()\n",
    "\n",
    "conn=sqlite3.connect(\"DATA/CoronaData.db\")\n",
    "c= conn.cursor()\n",
    "for row in c.execute('SELECT rowid,* from CORONA'):\n",
    "     print (row[0],row[1],row[2],row[3])\n",
    "conn.close()"
   ]
  },
  {
   "cell_type": "code",
   "execution_count": 441,
   "metadata": {},
   "outputs": [
    {
     "name": "stdout",
     "output_type": "stream",
     "text": [
      "Sat 04 Apr 2020 11:27:43 AM PST\r\n"
     ]
    }
   ],
   "source": [
    "\n",
    "!date +%c"
   ]
  },
  {
   "cell_type": "code",
   "execution_count": 442,
   "metadata": {},
   "outputs": [
    {
     "name": "stdout",
     "output_type": "stream",
     "text": [
      "Overwriting M2D.py\n"
     ]
    }
   ],
   "source": [
    "%%writefile M2D.py\n",
    "\"\"\"\n",
    "Month2Num(month)\n",
    "span(timestamp1, timestamp2): This will show the span in hours between two timestamps.\n",
    "\n",
    "\"\"\"\n",
    "from __future__ import division\n",
    "def Month2Num(month):\n",
    "    number=\"\"\n",
    "    months=[\"January\",\"February\",\"March\",\"April\",\"May\",\"June\",\"July\",\\\n",
    "            \"August\",\"September\",\"October\",\"November\",\"December\"]\n",
    "    Numbers=[\"01\",\"02\",\"03\",\"04\",\"05\",\"06\",\"07\",\"08\",\"09\",\"10\",\"11\",\"12\"]\n",
    "    if month==months[0]:number=Numbers[0]\n",
    "    if month==months[1]:number=Numbers[1]\n",
    "    if month==months[2]:number=Numbers[2]\n",
    "    if month==months[3]:number=Numbers[3]\n",
    "    if month==months[4]:number=Numbers[4]\n",
    "    if month==months[5]:number=Numbers[5]\n",
    "    if month==months[6]:number=Numbers[6]\n",
    "    if month==months[7]:number=Numbers[7]\n",
    "    if month==months[8]:number=Numbers[8]\n",
    "    if month==months[9]:number=Numbers[9]\n",
    "    if month==months[10]:number=Numbers[10]\n",
    "    if month==months[11]:number=Numbers[11]    \n",
    "    return number\n",
    "\n",
    "def span(timestamp1, timestamp2):\n",
    "    SPAN = timestamp2-timestamp1\n",
    "    res =SPAN/3600\n",
    "    result = round(res,2)\n",
    "    return result"
   ]
  },
  {
   "cell_type": "code",
   "execution_count": 443,
   "metadata": {},
   "outputs": [
    {
     "data": {
      "text/plain": [
       "'06'"
      ]
     },
     "execution_count": 443,
     "metadata": {},
     "output_type": "execute_result"
    }
   ],
   "source": [
    "from M2D import *\n",
    "month = \"June\"\n",
    "Month2Num(month)"
   ]
  },
  {
   "cell_type": "markdown",
   "metadata": {},
   "source": [
    "<a id=\"#edit\">*</a>\n",
    "# EDIT DATA"
   ]
  },
  {
   "cell_type": "code",
   "execution_count": 444,
   "metadata": {},
   "outputs": [
    {
     "name": "stdout",
     "output_type": "stream",
     "text": [
      "216 :  April 02, 2020 at 12:49 GMT, there have been 216722 confirmed cases and 5140 deaths due to coronavirus COVID-19 in the United States\n",
      "217 :  April 02, 2020 at 14:49 GMT, there have been 219832 confirmed cases and 5227 deaths due to coronavirus COVID-19 in the United States\n",
      "218 :  April 02, 2020 at 16:49 GMT, there have been 222658 confirmed cases and 5356 deaths due to coronavirus COVID-19 in the United States\n",
      "219 :  April 02, 2020 at 18:49 GMT, there have been 232899 confirmed cases and 5665 deaths due to coronavirus COVID-19 in the United States\n",
      "220 :  April 02, 2020 at 20:49 GMT, there have been 243298 confirmed cases and 5883 deaths due to coronavirus COVID-19 in the United States\n",
      "221 :  April 02, 2020 at 22:19 GMT, there have been 244230 confirmed cases and 5883 deaths due to coronavirus COVID-19 in the United States\n",
      "222 :  April 03, 2020 at 01:20 GMT, there have been 244877 confirmed cases and 6070 deaths due to coronavirus COVID-19 in the United States.\n",
      "223 :  April 03, 2020 at 01:36 GMT, there have been 245066 confirmed cases and 6075 deaths due to coronavirus COVID-19 in the United States.\n",
      "224 :  April 03, 2020 at 03:20 GMT, there have been 245088 confirmed cases and 6075 deaths due to coronavirus COVID-19 in the United States.\n",
      "225 :  April 03, 2020 at 05:20 GMT, there have been 245341 confirmed cases and 6095 deaths due to coronavirus COVID-19 in the United States.\n",
      "226 :  April 03, 2020 at 07:20 GMT, there have been 245373 confirmed cases and 6095 deaths due to coronavirus COVID-19 in the United States.\n",
      "227 :  April 03, 2020 at 09:20 GMT, there have been 245373 confirmed cases and 6095 deaths due to coronavirus COVID-19 in the United States.\n",
      "228 :  April 03, 2020 at 11:20 GMT, there have been 245380 confirmed cases and 6095 deaths due to coronavirus COVID-19 in the United States.\n",
      "229 :  April 03, 2020 at 13:20 GMT, there have been 245442 confirmed cases and 6098 deaths due to coronavirus COVID-19 in the United States.\n",
      "230 :  April 03, 2020 at 14:49 GMT, there have been 245442 confirmed cases and 6099 deaths due to coronavirus COVID-19 in the United States.\n",
      "231 :  April 03, 2020 at 16:49 GMT, there have been 259750 confirmed cases and 6603 deaths due to coronavirus COVID-19 in the United States.\n",
      "232 :  April 03, 2020 at 18:49 GMT, there have been 266279 confirmed cases and 6803 deaths due to coronavirus COVID-19 in the United States.\n",
      "233 :  April 03, 2020 at 20:49 GMT, there have been 272614 confirmed cases and 6988 deaths due to coronavirus COVID-19 in the United States.\n",
      "234 :  April 03, 2020 at 22:49 GMT, there have been 275802 confirmed cases and 7087 deaths due to coronavirus COVID-19 in the United States.\n",
      "235 :  April 04, 2020 at 00:49 GMT, there have been 276965 confirmed cases and 7391 deaths due to coronavirus COVID-19 in the United States.\n",
      "236 :  April 04, 2020 at 02:49 GMT, there have been 277161 confirmed cases and 7392 deaths due to coronavirus COVID-19 in the United States.\n"
     ]
    }
   ],
   "source": [
    "import sqlite3\n",
    "conn=sqlite3.connect(\"DATA/CoronaData2.db\")\n",
    "c= conn.cursor()\n",
    "cnt=0\n",
    "for row in c.execute(\"Select ROWID,* from CORONA\"):\n",
    "    cnt=cnt+1\n",
    "    if cnt>215:print(row[0],\": \",row[1])"
   ]
  },
  {
   "cell_type": "raw",
   "metadata": {},
   "source": [
    "import sqlite3\n",
    "conn=sqlite3.connect(\"DATA/CoronaData2.db\")\n",
    "c2= conn.cursor()\n",
    "ID = \n",
    "row = c2.execute(\"Select ROWID, * from CORONA where ROWID = ?\",(ID,))\n",
    "for row in c2.fetchone():\n",
    "    print (row)"
   ]
  },
  {
   "cell_type": "raw",
   "metadata": {},
   "source": [
    "import sqlite3\n",
    "conn=sqlite3.connect(\"DATA/CoronaData2.db\")\n",
    "c= conn.cursor()\n",
    "enter = \"March 31, 2020 at 08:42 GMT, there have been 164359 confirmed cases and 3173 deaths due to coronavirus COVID-19 in the United States\"\n",
    "ID = 199\n",
    "c.execute(\"UPDATE CORONA SET data = ? WHERE ROWID = ?\", (enter, ID,))\n",
    "conn.commit()\n",
    "conn.close()"
   ]
  },
  {
   "cell_type": "raw",
   "metadata": {},
   "source": [
    "import sqlite3\n",
    "conn=sqlite3.connect(\"DATA/CoronaData2.db\")\n",
    "c2= conn.cursor()\n",
    "ID = 202\n",
    "c2.execute(\"DELETE from CORONA WHERE ROWID = ?\",(ID,))\n",
    "conn.commit()\n",
    "conn.close()\n",
    "#row = c2.execute(\"Select ROWID, * from CORONA where ROWID = 25\")\n",
    "#for row in c2.fetchone():\n",
    "#    print (row)"
   ]
  },
  {
   "cell_type": "raw",
   "metadata": {},
   "source": [
    "import time\n",
    "import shutil\n",
    "DATE = time.strftime(\"%Y%m%d%H%M%S\")\n",
    "shutil.copyfile(\"DATA/CoronaData2.db\", \"DATA/\"+DATE+\"CoronaData2.db\")\n",
    "try:\n",
    "    shutil.move(\"DATA/CleanCorona.db\", \"DATA/\"+DATE+\"CleanCorona.db\")\n",
    "except:\n",
    "    pass"
   ]
  },
  {
   "cell_type": "code",
   "execution_count": 445,
   "metadata": {},
   "outputs": [
    {
     "name": "stdout",
     "output_type": "stream",
     "text": [
      "236\n",
      "('March 08, 2020 at 23:30 GMT, there have been 537 confirmed cases and 21 deaths due to coronavirus COVID-19 in the United States',)\n",
      "04/04/2020,00:49,276965,7391\n",
      "-------------------------------\n"
     ]
    }
   ],
   "source": [
    "import datetime\n",
    "import calendar\n",
    "import time\n",
    "from M2D import *\n",
    "import sqlite3\n",
    "DDATA= []\n",
    "arrangedDdata = ''\n",
    "Ddata=arrangedDdata+\"date,time,cases,deaths\\n\"\n",
    "conn=sqlite3.connect(\"DATA/CoronaData2.db\")\n",
    "c= conn.cursor()\n",
    "cnt=0\n",
    "cnt2=0\n",
    "for row in c.execute('SELECT * from CORONA'):\n",
    "    cnt2=cnt2+1\n",
    "print(cnt2)\n",
    "for row in c.execute('SELECT * from CORONA'):\n",
    "    if len(row[0])>5:\n",
    "        if cnt==0:print(row)\n",
    "        cnt=cnt+1\n",
    "        MISC=row[0]\n",
    "        MISC=MISC.replace(\",\",\"\")\n",
    "        Str = MISC.split(\" \")\n",
    "        month = Str[0]\n",
    "        #OUT = Month2Num(month)+\"/\"+Str[1]+\"/\"+Str[2]+\",\"+Str[4]\n",
    "        OUT = Month2Num(month)+\"/\"+Str[1]+\"/\"+Str[2]+\",\"+Str[4]+\",\"+Str[9]+\",\"+Str[13]\n",
    "        if cnt==cnt2-1:print (OUT)\n",
    "        Ddata=Ddata+OUT+\"\\n\"\n",
    "        DDATA.append(Ddata)\n",
    "conn.close()\n",
    "print(\"-------------------------------\")\n"
   ]
  },
  {
   "cell_type": "code",
   "execution_count": 446,
   "metadata": {},
   "outputs": [
    {
     "name": "stdout",
     "output_type": "stream",
     "text": [
      "cnt:201 \n",
      "ROWID:201 :  April 01, 2020 at 06:49 GMT, there have been 188592 confirmed cases and 4055 deaths due to coronavirus COVID-19 in the United States.\n",
      "cnt:202 \n",
      "ROWID:202 :  April 01, 2020 at 08:49 GMT, there have been 188592 confirmed cases and 4056 deaths due to coronavirus COVID-19 in the United States.\n",
      "cnt:203 \n",
      "ROWID:203 :  April 01, 2020 at 10:49 GMT, there have been 188639 confirmed cases and 4059 deaths due to coronavirus COVID-19 in the United States.\n",
      "cnt:204 \n",
      "ROWID:204 :  April 01, 2020 at 12:49 GMT, there have been 188647 confirmed cases and 4059 deaths due to coronavirus COVID-19 in the United States.\n",
      "cnt:205 \n",
      "ROWID:205 :  April 01, 2020 at 14:49 GMT, there have been 189711 confirmed cases and 4099 deaths due to coronavirus COVID-19 in the United States.\n",
      "cnt:206 \n",
      "ROWID:206 :  April 01, 2020 at 16:49 GMT, there have been 200289 confirmed cases and 4394 deaths due to coronavirus COVID-19 in the United States.\n",
      "cnt:207 \n",
      "ROWID:207 :  April 01, 2020 at 18:49 GMT, there have been 205438 confirmed cases and 4528 deaths due to coronavirus COVID-19 in the United States.\n",
      "cnt:208 \n",
      "ROWID:208 :  April 01, 2020 at 20:49 GMT, there have been 211143 confirmed cases and 4713 deaths due to coronavirus COVID-19 in the United States.\n",
      "cnt:209 \n",
      "ROWID:209 :  April 01, 2020 at 22:49 GMT, there have been 212980 confirmed cases and 4759 deaths due to coronavirus COVID-19 in the United States.\n",
      "cnt:210 \n",
      "ROWID:210 :  April 02, 2020 at 00:49 GMT, there have been 215003 confirmed cases and 5102 deaths due to coronavirus COVID-19 in the United States.\n",
      "cnt:211 \n",
      "ROWID:211 :  April 02, 2020 at 02:49 GMT, there have been 215175 confirmed cases and 5110 deaths due to coronavirus COVID-19 in the United States.\n",
      "cnt:212 \n",
      "ROWID:212 :  April 02, 2020 at 04:49 GMT, there have been 215300 confirmed cases and 5110 deaths due to coronavirus COVID-19 in the United States.\n",
      "cnt:213 \n",
      "ROWID:213 :  April 02, 2020 at 06:49 GMT, there have been 215324 confirmed cases and 5112 deaths due to coronavirus COVID-19 in the United States.\n",
      "cnt:214 \n",
      "ROWID:214 :  April 02, 2020 at 08:49 GMT, there have been 215344 confirmed cases and 5112 deaths due to coronavirus COVID-19 in the United States.\n",
      "cnt:215 \n",
      "ROWID:215 :  April 02, 2020 at 10:49 GMT, there have been 215344 confirmed cases and 5112 deaths due to coronavirus COVID-19 in the United States.\n",
      "cnt:216 \n",
      "ROWID:216 :  April 02, 2020 at 12:49 GMT, there have been 216722 confirmed cases and 5140 deaths due to coronavirus COVID-19 in the United States.\n",
      "cnt:217 \n",
      "ROWID:217 :  April 02, 2020 at 14:49 GMT, there have been 219832 confirmed cases and 5227 deaths due to coronavirus COVID-19 in the United States.\n",
      "cnt:218 \n",
      "ROWID:218 :  April 02, 2020 at 16:49 GMT, there have been 222658 confirmed cases and 5356 deaths due to coronavirus COVID-19 in the United States.\n",
      "cnt:219 \n",
      "ROWID:219 :  April 02, 2020 at 18:49 GMT, there have been 232899 confirmed cases and 5665 deaths due to coronavirus COVID-19 in the United States.\n",
      "cnt:220 \n",
      "ROWID:220 :  April 02, 2020 at 20:49 GMT, there have been 243298 confirmed cases and 5883 deaths due to coronavirus COVID-19 in the United States.\n",
      "cnt:221 \n",
      "ROWID:221 :  April 02, 2020 at 22:19 GMT, there have been 244230 confirmed cases and 5883 deaths due to coronavirus COVID-19 in the United States.\n",
      "cnt:222 \n",
      "ROWID:222 :  April 03, 2020 at 01:20 GMT, there have been 244877 confirmed cases and 6070 deaths due to coronavirus COVID-19 in the United States..\n",
      "cnt:223 \n",
      "ROWID:223 :  April 03, 2020 at 01:36 GMT, there have been 245066 confirmed cases and 6075 deaths due to coronavirus COVID-19 in the United States..\n",
      "cnt:224 \n",
      "ROWID:224 :  April 03, 2020 at 03:20 GMT, there have been 245088 confirmed cases and 6075 deaths due to coronavirus COVID-19 in the United States..\n",
      "cnt:225 \n",
      "ROWID:225 :  April 03, 2020 at 05:20 GMT, there have been 245341 confirmed cases and 6095 deaths due to coronavirus COVID-19 in the United States..\n",
      "cnt:226 \n",
      "ROWID:226 :  April 03, 2020 at 07:20 GMT, there have been 245373 confirmed cases and 6095 deaths due to coronavirus COVID-19 in the United States..\n",
      "cnt:227 \n",
      "ROWID:227 :  April 03, 2020 at 09:20 GMT, there have been 245373 confirmed cases and 6095 deaths due to coronavirus COVID-19 in the United States..\n",
      "cnt:228 \n",
      "ROWID:228 :  April 03, 2020 at 11:20 GMT, there have been 245380 confirmed cases and 6095 deaths due to coronavirus COVID-19 in the United States..\n",
      "cnt:229 \n",
      "ROWID:229 :  April 03, 2020 at 13:20 GMT, there have been 245442 confirmed cases and 6098 deaths due to coronavirus COVID-19 in the United States..\n",
      "cnt:230 \n",
      "ROWID:230 :  April 03, 2020 at 14:49 GMT, there have been 245442 confirmed cases and 6099 deaths due to coronavirus COVID-19 in the United States..\n",
      "cnt:231 \n",
      "ROWID:231 :  April 03, 2020 at 16:49 GMT, there have been 259750 confirmed cases and 6603 deaths due to coronavirus COVID-19 in the United States..\n",
      "cnt:232 \n",
      "ROWID:232 :  April 03, 2020 at 18:49 GMT, there have been 266279 confirmed cases and 6803 deaths due to coronavirus COVID-19 in the United States..\n",
      "cnt:233 \n",
      "ROWID:233 :  April 03, 2020 at 20:49 GMT, there have been 272614 confirmed cases and 6988 deaths due to coronavirus COVID-19 in the United States..\n",
      "cnt:234 \n",
      "ROWID:234 :  April 03, 2020 at 22:49 GMT, there have been 275802 confirmed cases and 7087 deaths due to coronavirus COVID-19 in the United States..\n",
      "cnt:235 \n",
      "ROWID:235 :  April 04, 2020 at 00:49 GMT, there have been 276965 confirmed cases and 7391 deaths due to coronavirus COVID-19 in the United States..\n",
      "cnt:236 \n",
      "ROWID:236 :  April 04, 2020 at 02:49 GMT, there have been 277161 confirmed cases and 7392 deaths due to coronavirus COVID-19 in the United States..\n"
     ]
    }
   ],
   "source": [
    "import datetime\n",
    "import calendar\n",
    "import time\n",
    "from M2D import *\n",
    "import sqlite3\n",
    "conn=sqlite3.connect(\"DATA/CoronaData2.db\")\n",
    "c= conn.cursor()\n",
    "cnt=0\n",
    "for row in c.execute('SELECT ROWID,* from CORONA'):\n",
    "    cnt=cnt+1\n",
    "    if cnt >200:\n",
    "        nt=str(cnt)\n",
    "        print (\"cnt:\"+nt,\"\\nROWID:\"+str(row[0]),\": \",row[1]+\".\")\n",
    "\n",
    "conn.close()\n",
    "\n",
    "#2329"
   ]
  },
  {
   "cell_type": "code",
   "execution_count": 447,
   "metadata": {},
   "outputs": [
    {
     "name": "stdout",
     "output_type": "stream",
     "text": [
      "Sat 04 Apr 2020 03:27:44 AM UTC\r\n"
     ]
    }
   ],
   "source": [
    "!date -u +%c"
   ]
  },
  {
   "cell_type": "markdown",
   "metadata": {},
   "source": [
    "import sqlite3\n",
    "conn=sqlite3.connect(\"DATA/CoronaData2.db\")\n",
    "c= conn.cursor()\n",
    "enter = \"March 14, 2020 at 07:14 GMT, there have been 2319 confirmed cases and 50 deaths due to coronavirus COVID-19 in the United States\"\n",
    "ID = \n",
    "c.execute(\"UPDATE CORONA SET data = ? WHERE ROWID = ?\", (enter, ID,))\n",
    "conn.commit()\n",
    "conn.close()"
   ]
  },
  {
   "cell_type": "code",
   "execution_count": 448,
   "metadata": {},
   "outputs": [
    {
     "name": "stdout",
     "output_type": "stream",
     "text": [
      "date,time,cases,deaths\n",
      "03/08/2020,23:30,537,21\n",
      "03/09/2020,04:30,589,22\n",
      "03/10/2020,05:30,708,27\n",
      "03/10/2020,23:35,975,30\n",
      "03/11/2020,04:25,1010,31\n",
      "03/11/2020,15:17,1016,31\n",
      "\n",
      "-------------------------------\n"
     ]
    }
   ],
   "source": [
    "print(DDATA[5])\n",
    "print(\"-------------------------------\")\n",
    "#print(DDATA[1:])"
   ]
  },
  {
   "cell_type": "code",
   "execution_count": 449,
   "metadata": {},
   "outputs": [
    {
     "name": "stdout",
     "output_type": "stream",
     "text": [
      "472 date,time,cases,deaths\n",
      "03/08/2020,23:30,537,21\n",
      "03/09/2020,04:30,589,22\n",
      "03/10/2020,05:30,708,27\n",
      "03/10/2020,23:35,975,30\n",
      "03/11/2020,04:25,1010,31\n",
      "03/11/2020,15:17,1016,31\n",
      "03/11/2020,23:35,1301,38\n",
      "03/12/2020,03:25,1327,38\n",
      "03/12/2020,11:37,1336,38\n",
      "03/12/2020,22:00,1639,40\n",
      "03/13/2020,00:05,1715,41\n",
      "03/13/2020,01:35,1725,41\n",
      "03/13/2020,03:45,1747,41\n",
      "03/13/2020,06:00,1762,41\n",
      "03/13/2020,15:25,1832,41\n",
      "03/13/2020,22:25,2269,48\n",
      "03/14/2020,02:40,2291,50\n",
      "03/14/2020,07:14,2319,50\n",
      "03/14/2020,16:45,2499,51\n",
      "03/14/2020,23:03,2836,57\n",
      "03/15/2020,05:00,2982,60\n",
      "03/15/2020,05:40,2995,60\n",
      "03/15/2020,07:05,3043,60\n",
      "03/15/2020,19:00,3329,63\n",
      "03/15/2020,20:05,3400,63\n",
      "03/15/2020,21:15,3621,63\n",
      "03/15/2020,22:15,3502,63\n",
      "03/16/2020,00:35,3714,68\n",
      "03/16/2020,02:48,3777,69\n",
      "03/16/2020,05:36,3782,69\n",
      "03/16/2020,08:29,3802,69\n",
      "03/16/2020,18:40,4186,73\n",
      "03/16/2020,22:40,4597,86\n",
      "03/17/2020,00:45,4667,87\n",
      "03/17/2020,02:40,4704,91\n",
      "03/17/2020,06:35,4727,93\n",
      "03/17/2020,10:31,4743,93\n",
      "03/17/2020,14:38,4752,93\n",
      "03/17/2020,18:41,5723,97\n",
      "03/17/2020,21:55,6211,102\n",
      "03/17/2020,22:40,6349,106\n",
      "03/18/2020,02:20,6499,112\n",
      "03/18/2020,06:05,6522,116\n",
      "03/18/2020,10:10,6524,116\n",
      "03/18/2020,16:15,7601,116\n",
      "03/18/2020,18:16,7708,120\n",
      "03/18/2020,20:21,8710,132\n",
      "03/18/2020,22:10,8998,150\n",
      "03/19/2020,02:17,9371,153\n",
      "03/19/2020,10:16,9464,155\n",
      "03/19/2020,12:18,9473,155\n",
      "03/19/2020,14:15,9486,157\n",
      "03/19/2020,16:22,10692,160\n",
      "03/19/2020,18:17,11355,171\n",
      "03/19/2020,22:45,13737,201\n",
      "03/20/2020,00:48,13865,211\n",
      "03/20/2020,02:40,14316,218\n",
      "03/20/2020,04:34,14336,218\n",
      "03/20/2020,06:35,14366,217\n",
      "03/20/2020,08:10,14366,217\n",
      "03/20/2020,10:11,14366,217\n",
      "03/20/2020,12:11,14366,217\n",
      "03/20/2020,14:10,14373,218\n",
      "03/20/2020,16:11,16067,219\n",
      "03/20/2020,18:12,16545,225\n",
      "03/20/2020,20:12,18121,233\n",
      "03/20/2020,22:12,18876,237\n",
      "03/21/2020,00:06,19393,256\n",
      "03/21/2020,02:07,19643,263\n",
      "03/21/2020,04:08,19652,264\n",
      "03/21/2020,06:05,19774,275\n",
      "03/21/2020,08:10,19774,275\n",
      "03/21/2020,10:12,19774,275\n",
      "03/21/2020,12:46,19775,276\n",
      "03/21/2020,14:48,19823,276\n",
      "03/21/2020,16:48,22085,282\n",
      "03/21/2020,18:45,22813,288\n",
      "03/21/2020,20:45,24142,288\n",
      "03/21/2020,22:45,23940,301\n",
      "03/22/2020,00:40,26111,324\n",
      "03/22/2020,02:40,26711,341\n",
      "03/22/2020,04:45,26867,348\n",
      "03/22/2020,06:30,26892,348\n",
      "03/22/2020,08:45,26892,348\n",
      "03/22/2020,10:45,26900,348\n",
      "03/22/2020,12:48,26905,348\n",
      "03/22/2020,14:45,27031,349\n",
      "03/22/2020,16:42,30239,388\n",
      "03/22/2020,18:48,38757,400\n",
      "03/22/2020,20:44,32356,414\n",
      "03/22/2020,21:41,32356,414\n",
      "03/23/2020,00:44,33346,414\n",
      "03/23/2020,02:37,33546,419\n",
      "03/23/2020,03:55,34717,452\n",
      "03/23/2020,06:45,35060,457\n",
      "03/23/2020,08:47,35070,458\n",
      "03/23/2020,10:47,35070,458\n",
      "03/23/2020,12:46,35075,458\n",
      "03/23/2020,14:45,35179,459\n",
      "03/23/2020,16:45,40773,479\n",
      "03/23/2020,18:46,41569,504\n",
      "03/23/2020,20:47,42443,517\n",
      "03/23/2020,22:31,43449,545\n",
      "03/24/2020,00:47,43718,552\n",
      "03/24/2020,02:33,43734,553\n",
      "03/24/2020,04:46,46145,582\n",
      "03/24/2020,06:43,46145,582\n",
      "03/24/2020,08:48,46145,582\n",
      "03/24/2020,10:47,46168,582\n",
      "03/24/2020,12:47,46168,582\n",
      "03/24/2020,14:47,46274,588\n",
      "03/24/2020,16:47,49594,622\n",
      "03/24/2020,18:45,50982,655\n",
      "03/24/2020,20:42,52921,684\n",
      "03/24/2020,22:48,53205,687\n",
      "03/25/2020,00:29,53655,698\n",
      "03/25/2020,02:44,54823,778\n",
      "03/25/2020,04:46,54867,782\n",
      "03/25/2020,06:47,54916,784\n",
      "03/25/2020,08:48,54935,784\n",
      "03/25/2020,10:43,54941,784\n",
      "03/25/2020,12:48,54979,785\n",
      "03/25/2020,14:48,55081,785\n",
      "03/25/2020,16:48,60642,817\n",
      "03/25/2020,18:48,62364,878\n",
      "03/25/2020,20:33,64765,910\n",
      "03/25/2020,22:44,65527,928\n",
      "03/26/2020,00:34,65797,935\n",
      "03/26/2020,02:43,66741,963\n",
      "03/26/2020,05:24,68472,1032\n",
      "03/26/2020,07:03,68489,1032\n",
      "03/26/2020,09:02,68489,1032\n",
      "03/26/2020,11:02,68581,1036\n",
      "03/26/2020,13:01,68594,1036\n",
      "03/26/2020,14:52,68905,1037\n",
      "03/26/2020,17:02,75069,1080\n",
      "03/26/2020,19:00,79082,1143\n",
      "03/26/2020,21:01,81946,1177\n",
      "03/26/2020,23:02,83206,1201\n",
      "03/27/2020,01:00,85280,1293\n",
      "03/27/2020,03:01,85520,1297\n",
      "03/27/2020,04:36,85594,1300\n",
      "03/27/2020,07:33,85612,1301\n",
      "03/27/2020,09:32,85612,1301\n",
      "03/27/2020,11:31,85749,1304\n",
      "03/27/2020,13:32,85755,1304\n",
      "03/27/2020,15:33,86548,1321\n",
      "03/27/2020,17:32,94425,1429\n",
      "03/27/2020,19:33,98180,1513\n",
      "03/27/2020,21:33,100514,1546\n",
      "03/27/2020,23:33,102325,1591\n",
      "03/28/2020,01:32,104126,1692\n",
      "03/28/2020,03:34,104205,1704\n",
      "03/28/2020,05:35,104205,1704\n",
      "03/28/2020,07:35,104256,1704\n",
      "03/28/2020,09:35,104256,1704\n",
      "03/28/2020,11:40,104256,1704\n",
      "03/28/2020,13:36,104277,1704\n",
      "03/28/2020,15:45,105726,1730\n",
      "03/28/2020,17:45,116050,1937\n",
      "03/28/2020,19:43,118592,1979\n",
      "03/28/2020,21:44,120204,1997\n",
      "03/28/2020,23:43,123311,2211\n",
      "03/29/2020,01:46,123578,2221\n",
      "03/29/2020,03:46,123750,2227\n",
      "03/29/2020,05:48,123774,2228\n",
      "03/29/2020,07:41,123776,2229\n",
      "03/29/2020,09:45,123781,2229\n",
      "03/29/2020,11:44,123781,2229\n",
      "03/29/2020,13:46,123828,2229\n",
      "03/29/2020,15:47,125099,2238\n",
      "03/29/2020,17:49,133146,2363\n",
      "03/29/2020,19:47,137943,2431\n",
      "03/29/2020,21:48,139904,2449\n",
      "03/29/2020,23:49,141781,2471\n",
      "03/30/2020,01:44,142004,2484\n",
      "03/30/2020,03:46,142735,2488\n",
      "03/30/2020,06:46,142735,2488\n",
      "03/30/2020,08:50,142735,2489\n",
      "03/30/2020,10:50,142746,2489\n",
      "03/30/2020,12:50,142793,2490\n",
      "03/30/2020,14:50,144410,2600\n",
      "03/30/2020,16:50,145542,2616\n",
      "03/30/2020,18:50,156565,2870\n",
      "03/30/2020,20:50,159689,2951\n",
      "03/30/2020,22:50,161358,2974\n",
      "03/31/2020,00:50,163479,3148\n",
      "03/31/2020,02:50,164253,3165\n",
      "03/31/2020,04:50,164253,3167\n",
      "03/31/2020,06:50,164323,3170\n",
      "03/31/2020,08:42,164359,3173\n",
      "03/31/2020,10:49,164359,3173\n",
      "03/31/2020,12:49,164435,3175\n",
      "03/31/2020,14:49,165392,3182\n",
      "03/31/2020,16:49,175669,3424\n",
      "03/31/2020,18:49,180340,3573\n",
      "03/31/2020,20:49,186046,3807\n",
      "03/31/2020,22:49,187729,3867\n",
      "04/01/2020,02:49,188530,3889\n",
      "04/01/2020,04:49,188578,4054\n",
      "04/01/2020,06:49,188592,4055\n",
      "04/01/2020,08:49,188592,4056\n",
      "04/01/2020,10:49,188639,4059\n",
      "04/01/2020,12:49,188647,4059\n",
      "04/01/2020,14:49,189711,4099\n",
      "04/01/2020,16:49,200289,4394\n",
      "04/01/2020,18:49,205438,4528\n",
      "04/01/2020,20:49,211143,4713\n",
      "04/01/2020,22:49,212980,4759\n",
      "04/02/2020,00:49,215003,5102\n",
      "04/02/2020,02:49,215175,5110\n",
      "04/02/2020,04:49,215300,5110\n",
      "04/02/2020,06:49,215324,5112\n",
      "04/02/2020,08:49,215344,5112\n",
      "04/02/2020,10:49,215344,5112\n",
      "04/02/2020,12:49,216722,5140\n",
      "04/02/2020,14:49,219832,5227\n",
      "04/02/2020,16:49,222658,5356\n",
      "04/02/2020,18:49,232899,5665\n",
      "04/02/2020,20:49,243298,5883\n",
      "04/02/2020,22:19,244230,5883\n",
      "04/03/2020,01:20,244877,6070\n",
      "04/03/2020,01:36,245066,6075\n",
      "04/03/2020,03:20,245088,6075\n",
      "04/03/2020,05:20,245341,6095\n",
      "04/03/2020,07:20,245373,6095\n",
      "04/03/2020,09:20,245373,6095\n",
      "04/03/2020,11:20,245380,6095\n",
      "04/03/2020,13:20,245442,6098\n",
      "04/03/2020,14:49,245442,6099\n",
      "04/03/2020,16:49,259750,6603\n",
      "04/03/2020,18:49,266279,6803\n",
      "04/03/2020,20:49,272614,6988\n",
      "04/03/2020,22:49,275802,7087\n",
      "04/04/2020,00:49,276965,7391\n",
      "04/04/2020,02:49,277161,7392\n",
      "\n"
     ]
    }
   ],
   "source": [
    "DLINES = DDATA\n",
    "for line in DDATA:\n",
    "    cnt=cnt+1\n",
    "print(cnt,line)    "
   ]
  },
  {
   "cell_type": "code",
   "execution_count": 450,
   "metadata": {},
   "outputs": [],
   "source": [
    "import datetime\n",
    "import calendar\n",
    "import time\n",
    "from M2D import *\n",
    "import sqlite3\n",
    "\n",
    "arrangedDdata = ''\n",
    "arrangedDdata=arrangedDdata+\"date_time,cases\\n\"\n",
    "conn=sqlite3.connect(\"DATA/CoronaData2.db\")\n",
    "c= conn.cursor()\n",
    "for row in c.execute('SELECT rowid,* from CORONA'):\n",
    "    MISC=row[1]\n",
    "    Str = MISC.split(\" \")\n",
    "    month = Str[0][0:5]\n",
    "    OUT = Month2Num(month)+\",\"+MISC[5:15]+\" \"+MISC[18:24]+\":00\"\n",
    "    OUT = OUT.replace(\", \",\"-\")\n",
    "    OUT = OUT.replace(\"c\",\"\")\n",
    "    #OUT = OUT.replace(\",\",\"-\")\n",
    "    OUT = OUT.replace(\" \",\",\");\n",
    "    OUT = OUT.replace(\",,\",\" \")\n",
    "    OUT = OUT.rstrip(\",\");\n",
    "    OUT = OUT.replace(\",\",\"\") \n",
    "    #print (OUT) \n",
    "    arrangedDdata = arrangedDdata+OUT+\"\\n\"\n",
    "conn.close() "
   ]
  },
  {
   "cell_type": "code",
   "execution_count": 451,
   "metadata": {},
   "outputs": [
    {
     "name": "stdout",
     "output_type": "stream",
     "text": [
      "date_time,cases\n",
      "03-08-2020 23:30:00\n",
      "03-09-2020 04:30:00\n",
      "03-10-2020 05:30:00\n",
      "03-10-2020 23:35:00\n",
      "03-11-2020 04:25:00\n",
      "03-11-2020 15:17:00\n",
      "03-11-2020 23:35:00\n",
      "03-12-2020 03:25:00\n",
      "03-12-2020 11:37:00\n",
      "03-12-2020 22:00:00\n",
      "03-13-2020 00:05:00\n",
      "03-13-2020 01:35:00\n",
      "03-13-2020 03:45:00\n",
      "03-13-2020 06:00:00\n",
      "03-13-2020 15:25:00\n",
      "03-13-2020 22:25:00\n",
      "03-14-2020 02:40:00\n",
      "03-14-2020 07:14:00\n",
      "03-14-2020 16:45:00\n",
      "03-14-2020 23:03:00\n",
      "03-15-2020 05:00:00\n",
      "03-15-2020 05:40:00\n",
      "03-15-2020 07:05:00\n",
      "03-15-2020 19:00:00\n",
      "03-15-2020 20:05:00\n",
      "03-15-2020 21:15:00\n",
      "03-15-2020 22:15:00\n",
      "03-16-2020 00:35:00\n",
      "03-16-2020 02:48:00\n",
      "03-16-2020 05:36:00\n",
      "03-16-2020 08:29:00\n",
      "03-16-2020 18:40:00\n",
      "03-16-2020 22:40:00\n",
      "03-17-2020 00:45:00\n",
      "03-17-2020 02:40:00\n",
      "03-17-2020 06:35:00\n",
      "03-17-2020 10:31:00\n",
      "03-17-2020 14:38:00\n",
      "03-17-2020 18:41:00\n",
      "03-17-2020 21:55:00\n",
      "03-17-2020 22:40:00\n",
      "03-18-2020 02:20:00\n",
      "03-18-2020 06:05:00\n",
      "03-18-2020 10:10:00\n",
      "03-18-2020 16:15:00\n",
      "03-18-2020 18:16:00\n",
      "03-18-2020 20:21:00\n",
      "03-18-2020 22:10:00\n",
      "03-19-2020 02:17:00\n",
      "03-19-2020 10:16:00\n",
      "03-19-2020 12:18:00\n",
      "03-19-2020 14:15:00\n",
      "03-19-2020 16:22:00\n",
      "03-19-2020 18:17:00\n",
      "03-19-2020 22:45:00\n",
      "03-20-2020 00:48:00\n",
      "03-20-2020 02:40:00\n",
      "03-20-2020 04:34:00\n",
      "03-20-2020 06:35:00\n",
      "03-20-2020 08:10:00\n",
      "03-20-2020 10:11:00\n",
      "03-20-2020 12:11:00\n",
      "03-20-2020 14:10:00\n",
      "03-20-2020 16:11:00\n",
      "03-20-2020 18:12:00\n",
      "03-20-2020 20:12:00\n",
      "03-20-2020 22:12:00\n",
      "03-21-2020 00:06:00\n",
      "03-21-2020 02:07:00\n",
      "03-21-2020 04:08:00\n",
      "03-21-2020 06:05:00\n",
      "03-21-2020 08:10:00\n",
      "03-21-2020 10:12:00\n",
      "03-21-2020 12:46:00\n",
      "03-21-2020 14:48:00\n",
      "03-21-2020 16:48:00\n",
      "03-21-2020 18:45:00\n",
      "03-21-2020 20:45:00\n",
      "03-21-2020 22:45:00\n",
      "03-22-2020 00:40:00\n",
      "03-22-2020 02:40:00\n",
      "03-22-2020 04:45:00\n",
      "03-22-2020 06:30:00\n",
      "03-22-2020 08:45:00\n",
      "03-22-2020 10:45:00\n",
      "03-22-2020 12:48:00\n",
      "03-22-2020 14:45:00\n",
      "03-22-2020 16:42:00\n",
      "03-22-2020 18:48:00\n",
      "03-22-2020 20:44:00\n",
      "03-22-2020 21:41:00\n",
      "03-23-2020 00:44:00\n",
      "03-23-2020 02:37:00\n",
      "03-23-2020 03:55:00\n",
      "03-23-2020 06:45:00\n",
      "03-23-2020 08:47:00\n",
      "03-23-2020 10:47:00\n",
      "03-23-2020 12:46:00\n",
      "03-23-2020 14:45:00\n",
      "03-23-2020 16:45:00\n",
      "03-23-2020 18:46:00\n",
      "03-23-2020 20:47:00\n",
      "03-23-2020 22:31:00\n",
      "03-24-2020 00:47:00\n",
      "03-24-2020 02:33:00\n",
      "03-24-2020 04:46:00\n",
      "03-24-2020 06:43:00\n",
      "03-24-2020 08:48:00\n",
      "03-24-2020 10:47:00\n",
      "03-24-2020 12:47:00\n",
      "03-24-2020 14:47:00\n",
      "03-24-2020 16:47:00\n",
      "03-24-2020 18:45:00\n",
      "03-24-2020 20:42:00\n",
      "03-24-2020 22:48:00\n",
      "03-25-2020 00:29:00\n",
      "03-25-2020 02:44:00\n",
      "03-25-2020 04:46:00\n",
      "03-25-2020 06:47:00\n",
      "03-25-2020 08:48:00\n",
      "03-25-2020 10:43:00\n",
      "03-25-2020 12:48:00\n",
      "03-25-2020 14:48:00\n",
      "03-25-2020 16:48:00\n",
      "03-25-2020 18:48:00\n",
      "03-25-2020 20:33:00\n",
      "03-25-2020 22:44:00\n",
      "03-26-2020 00:34:00\n",
      "03-26-2020 02:43:00\n",
      "03-26-2020 05:24:00\n",
      "03-26-2020 07:03:00\n",
      "03-26-2020 09:02:00\n",
      "03-26-2020 11:02:00\n",
      "03-26-2020 13:01:00\n",
      "03-26-2020 14:52:00\n",
      "03-26-2020 17:02:00\n",
      "03-26-2020 19:00:00\n",
      "03-26-2020 21:01:00\n",
      "03-26-2020 23:02:00\n",
      "03-27-2020 01:00:00\n",
      "03-27-2020 03:01:00\n",
      "03-27-2020 04:36:00\n",
      "03-27-2020 07:33:00\n",
      "03-27-2020 09:32:00\n",
      "03-27-2020 11:31:00\n",
      "03-27-2020 13:32:00\n",
      "03-27-2020 15:33:00\n",
      "03-27-2020 17:32:00\n",
      "03-27-2020 19:33:00\n",
      "03-27-2020 21:33:00\n",
      "03-27-2020 23:33:00\n",
      "03-28-2020 01:32:00\n",
      "03-28-2020 03:34:00\n",
      "03-28-2020 05:35:00\n",
      "03-28-2020 07:35:00\n",
      "03-28-2020 09:35:00\n",
      "03-28-2020 11:40:00\n",
      "03-28-2020 13:36:00\n",
      "03-28-2020 15:45:00\n",
      "03-28-2020 17:45:00\n",
      "03-28-2020 19:43:00\n",
      "03-28-2020 21:44:00\n",
      "03-28-2020 23:43:00\n",
      "03-29-2020 01:46:00\n",
      "03-29-2020 03:46:00\n",
      "03-29-2020 05:48:00\n",
      "03-29-2020 07:41:00\n",
      "03-29-2020 09:45:00\n",
      "03-29-2020 11:44:00\n",
      "03-29-2020 13:46:00\n",
      "03-29-2020 15:47:00\n",
      "03-29-2020 17:49:00\n",
      "03-29-2020 19:47:00\n",
      "03-29-2020 21:48:00\n",
      "03-29-2020 23:49:00\n",
      "03-30-2020 01:44:00\n",
      "03-30-2020 03:46:00\n",
      "03-30-2020 06:46:00\n",
      "03-30-2020 08:50:00\n",
      "03-30-2020 10:50:00\n",
      "03-30-2020 12:50:00\n",
      "03-30-2020 14:50:00\n",
      "03-30-2020 16:50:00\n",
      "03-30-2020 18:50:00\n",
      "03-30-2020 20:50:00\n",
      "03-30-2020 22:50:00\n",
      "03-31-2020 00:50:00\n",
      "03-31-2020 02:50:00\n",
      "03-31-2020 04:50:00\n",
      "03-31-2020 06:50:00\n",
      "03-31-2020 08:42:00\n",
      "03-31-2020 10:49:00\n",
      "03-31-2020 12:49:00\n",
      "03-31-2020 14:49:00\n",
      "03-31-2020 16:49:00\n",
      "03-31-2020 18:49:00\n",
      "03-31-2020 20:49:00\n",
      "03-31-2020 22:49:00\n",
      "04-01-2020 02:49:00\n",
      "04-01-2020 04:49:00\n",
      "04-01-2020 06:49:00\n",
      "04-01-2020 08:49:00\n",
      "04-01-2020 10:49:00\n",
      "04-01-2020 12:49:00\n",
      "04-01-2020 14:49:00\n",
      "04-01-2020 16:49:00\n",
      "04-01-2020 18:49:00\n",
      "04-01-2020 20:49:00\n",
      "04-01-2020 22:49:00\n",
      "04-02-2020 00:49:00\n",
      "04-02-2020 02:49:00\n",
      "04-02-2020 04:49:00\n",
      "04-02-2020 06:49:00\n",
      "04-02-2020 08:49:00\n",
      "04-02-2020 10:49:00\n",
      "04-02-2020 12:49:00\n",
      "04-02-2020 14:49:00\n",
      "04-02-2020 16:49:00\n",
      "04-02-2020 18:49:00\n",
      "04-02-2020 20:49:00\n",
      "04-02-2020 22:19:00\n",
      "04-03-2020 01:20:00\n",
      "04-03-2020 01:36:00\n",
      "04-03-2020 03:20:00\n",
      "04-03-2020 05:20:00\n",
      "04-03-2020 07:20:00\n",
      "04-03-2020 09:20:00\n",
      "04-03-2020 11:20:00\n",
      "04-03-2020 13:20:00\n",
      "04-03-2020 14:49:00\n",
      "04-03-2020 16:49:00\n",
      "04-03-2020 18:49:00\n",
      "04-03-2020 20:49:00\n",
      "04-03-2020 22:49:00\n",
      "04-04-2020 00:49:00\n",
      "04-04-2020 02:49:00\n",
      "\n"
     ]
    }
   ],
   "source": [
    "arrangedDdata = arrangedDdata.split(\"\\n\")\n",
    "for line in arrangedDdata:\n",
    "    print (line)"
   ]
  },
  {
   "cell_type": "code",
   "execution_count": 452,
   "metadata": {},
   "outputs": [
    {
     "name": "stdout",
     "output_type": "stream",
     "text": [
      "['03', '08', '2020 23:30:00']\n",
      "['03', '09', '2020 04:30:00']\n",
      "['03', '10', '2020 05:30:00']\n",
      "['03', '10', '2020 23:35:00']\n",
      "['03', '11', '2020 04:25:00']\n",
      "['03', '11', '2020 15:17:00']\n",
      "['03', '11', '2020 23:35:00']\n",
      "['03', '12', '2020 03:25:00']\n",
      "['03', '12', '2020 11:37:00']\n",
      "['03', '12', '2020 22:00:00']\n",
      "['03', '13', '2020 00:05:00']\n",
      "['03', '13', '2020 01:35:00']\n",
      "['03', '13', '2020 03:45:00']\n",
      "['03', '13', '2020 06:00:00']\n",
      "['03', '13', '2020 15:25:00']\n",
      "['03', '13', '2020 22:25:00']\n",
      "['03', '14', '2020 02:40:00']\n",
      "['03', '14', '2020 07:14:00']\n",
      "['03', '14', '2020 16:45:00']\n",
      "['03', '14', '2020 23:03:00']\n",
      "['03', '15', '2020 05:00:00']\n",
      "['03', '15', '2020 05:40:00']\n",
      "['03', '15', '2020 07:05:00']\n",
      "['03', '15', '2020 19:00:00']\n",
      "['03', '15', '2020 20:05:00']\n",
      "['03', '15', '2020 21:15:00']\n",
      "['03', '15', '2020 22:15:00']\n",
      "['03', '16', '2020 00:35:00']\n",
      "['03', '16', '2020 02:48:00']\n",
      "['03', '16', '2020 05:36:00']\n",
      "['03', '16', '2020 08:29:00']\n",
      "['03', '16', '2020 18:40:00']\n",
      "['03', '16', '2020 22:40:00']\n",
      "['03', '17', '2020 00:45:00']\n",
      "['03', '17', '2020 02:40:00']\n",
      "['03', '17', '2020 06:35:00']\n",
      "['03', '17', '2020 10:31:00']\n",
      "['03', '17', '2020 14:38:00']\n",
      "['03', '17', '2020 18:41:00']\n",
      "['03', '17', '2020 21:55:00']\n",
      "['03', '17', '2020 22:40:00']\n",
      "['03', '18', '2020 02:20:00']\n",
      "['03', '18', '2020 06:05:00']\n",
      "['03', '18', '2020 10:10:00']\n",
      "['03', '18', '2020 16:15:00']\n",
      "['03', '18', '2020 18:16:00']\n",
      "['03', '18', '2020 20:21:00']\n",
      "['03', '18', '2020 22:10:00']\n",
      "['03', '19', '2020 02:17:00']\n",
      "['03', '19', '2020 10:16:00']\n",
      "['03', '19', '2020 12:18:00']\n",
      "['03', '19', '2020 14:15:00']\n",
      "['03', '19', '2020 16:22:00']\n",
      "['03', '19', '2020 18:17:00']\n",
      "['03', '19', '2020 22:45:00']\n",
      "['03', '20', '2020 00:48:00']\n",
      "['03', '20', '2020 02:40:00']\n",
      "['03', '20', '2020 04:34:00']\n",
      "['03', '20', '2020 06:35:00']\n",
      "['03', '20', '2020 08:10:00']\n",
      "['03', '20', '2020 10:11:00']\n",
      "['03', '20', '2020 12:11:00']\n",
      "['03', '20', '2020 14:10:00']\n",
      "['03', '20', '2020 16:11:00']\n",
      "['03', '20', '2020 18:12:00']\n",
      "['03', '20', '2020 20:12:00']\n",
      "['03', '20', '2020 22:12:00']\n",
      "['03', '21', '2020 00:06:00']\n",
      "['03', '21', '2020 02:07:00']\n",
      "['03', '21', '2020 04:08:00']\n",
      "['03', '21', '2020 06:05:00']\n",
      "['03', '21', '2020 08:10:00']\n",
      "['03', '21', '2020 10:12:00']\n",
      "['03', '21', '2020 12:46:00']\n",
      "['03', '21', '2020 14:48:00']\n",
      "['03', '21', '2020 16:48:00']\n",
      "['03', '21', '2020 18:45:00']\n",
      "['03', '21', '2020 20:45:00']\n",
      "['03', '21', '2020 22:45:00']\n",
      "['03', '22', '2020 00:40:00']\n",
      "['03', '22', '2020 02:40:00']\n",
      "['03', '22', '2020 04:45:00']\n",
      "['03', '22', '2020 06:30:00']\n",
      "['03', '22', '2020 08:45:00']\n",
      "['03', '22', '2020 10:45:00']\n",
      "['03', '22', '2020 12:48:00']\n",
      "['03', '22', '2020 14:45:00']\n",
      "['03', '22', '2020 16:42:00']\n",
      "['03', '22', '2020 18:48:00']\n",
      "['03', '22', '2020 20:44:00']\n",
      "['03', '22', '2020 21:41:00']\n",
      "['03', '23', '2020 00:44:00']\n",
      "['03', '23', '2020 02:37:00']\n",
      "['03', '23', '2020 03:55:00']\n",
      "['03', '23', '2020 06:45:00']\n",
      "['03', '23', '2020 08:47:00']\n",
      "['03', '23', '2020 10:47:00']\n",
      "['03', '23', '2020 12:46:00']\n",
      "['03', '23', '2020 14:45:00']\n",
      "['03', '23', '2020 16:45:00']\n",
      "['03', '23', '2020 18:46:00']\n",
      "['03', '23', '2020 20:47:00']\n",
      "['03', '23', '2020 22:31:00']\n",
      "['03', '24', '2020 00:47:00']\n",
      "['03', '24', '2020 02:33:00']\n",
      "['03', '24', '2020 04:46:00']\n",
      "['03', '24', '2020 06:43:00']\n",
      "['03', '24', '2020 08:48:00']\n",
      "['03', '24', '2020 10:47:00']\n",
      "['03', '24', '2020 12:47:00']\n",
      "['03', '24', '2020 14:47:00']\n",
      "['03', '24', '2020 16:47:00']\n",
      "['03', '24', '2020 18:45:00']\n",
      "['03', '24', '2020 20:42:00']\n",
      "['03', '24', '2020 22:48:00']\n",
      "['03', '25', '2020 00:29:00']\n",
      "['03', '25', '2020 02:44:00']\n",
      "['03', '25', '2020 04:46:00']\n",
      "['03', '25', '2020 06:47:00']\n",
      "['03', '25', '2020 08:48:00']\n",
      "['03', '25', '2020 10:43:00']\n",
      "['03', '25', '2020 12:48:00']\n",
      "['03', '25', '2020 14:48:00']\n",
      "['03', '25', '2020 16:48:00']\n",
      "['03', '25', '2020 18:48:00']\n",
      "['03', '25', '2020 20:33:00']\n",
      "['03', '25', '2020 22:44:00']\n",
      "['03', '26', '2020 00:34:00']\n",
      "['03', '26', '2020 02:43:00']\n",
      "['03', '26', '2020 05:24:00']\n",
      "['03', '26', '2020 07:03:00']\n",
      "['03', '26', '2020 09:02:00']\n",
      "['03', '26', '2020 11:02:00']\n",
      "['03', '26', '2020 13:01:00']\n",
      "['03', '26', '2020 14:52:00']\n",
      "['03', '26', '2020 17:02:00']\n",
      "['03', '26', '2020 19:00:00']\n",
      "['03', '26', '2020 21:01:00']\n",
      "['03', '26', '2020 23:02:00']\n",
      "['03', '27', '2020 01:00:00']\n",
      "['03', '27', '2020 03:01:00']\n",
      "['03', '27', '2020 04:36:00']\n",
      "['03', '27', '2020 07:33:00']\n",
      "['03', '27', '2020 09:32:00']\n",
      "['03', '27', '2020 11:31:00']\n",
      "['03', '27', '2020 13:32:00']\n",
      "['03', '27', '2020 15:33:00']\n",
      "['03', '27', '2020 17:32:00']\n",
      "['03', '27', '2020 19:33:00']\n",
      "['03', '27', '2020 21:33:00']\n",
      "['03', '27', '2020 23:33:00']\n",
      "['03', '28', '2020 01:32:00']\n",
      "['03', '28', '2020 03:34:00']\n",
      "['03', '28', '2020 05:35:00']\n",
      "['03', '28', '2020 07:35:00']\n",
      "['03', '28', '2020 09:35:00']\n",
      "['03', '28', '2020 11:40:00']\n",
      "['03', '28', '2020 13:36:00']\n",
      "['03', '28', '2020 15:45:00']\n",
      "['03', '28', '2020 17:45:00']\n",
      "['03', '28', '2020 19:43:00']\n",
      "['03', '28', '2020 21:44:00']\n",
      "['03', '28', '2020 23:43:00']\n",
      "['03', '29', '2020 01:46:00']\n",
      "['03', '29', '2020 03:46:00']\n",
      "['03', '29', '2020 05:48:00']\n",
      "['03', '29', '2020 07:41:00']\n",
      "['03', '29', '2020 09:45:00']\n",
      "['03', '29', '2020 11:44:00']\n",
      "['03', '29', '2020 13:46:00']\n",
      "['03', '29', '2020 15:47:00']\n",
      "['03', '29', '2020 17:49:00']\n",
      "['03', '29', '2020 19:47:00']\n",
      "['03', '29', '2020 21:48:00']\n",
      "['03', '29', '2020 23:49:00']\n",
      "['03', '30', '2020 01:44:00']\n",
      "['03', '30', '2020 03:46:00']\n",
      "['03', '30', '2020 06:46:00']\n",
      "['03', '30', '2020 08:50:00']\n",
      "['03', '30', '2020 10:50:00']\n",
      "['03', '30', '2020 12:50:00']\n",
      "['03', '30', '2020 14:50:00']\n",
      "['03', '30', '2020 16:50:00']\n",
      "['03', '30', '2020 18:50:00']\n",
      "['03', '30', '2020 20:50:00']\n",
      "['03', '30', '2020 22:50:00']\n",
      "['03', '31', '2020 00:50:00']\n",
      "['03', '31', '2020 02:50:00']\n",
      "['03', '31', '2020 04:50:00']\n",
      "['03', '31', '2020 06:50:00']\n",
      "['03', '31', '2020 08:42:00']\n",
      "['03', '31', '2020 10:49:00']\n",
      "['03', '31', '2020 12:49:00']\n",
      "['03', '31', '2020 14:49:00']\n",
      "['03', '31', '2020 16:49:00']\n",
      "['03', '31', '2020 18:49:00']\n",
      "['03', '31', '2020 20:49:00']\n",
      "['03', '31', '2020 22:49:00']\n",
      "['04', '01', '2020 02:49:00']\n",
      "['04', '01', '2020 04:49:00']\n",
      "['04', '01', '2020 06:49:00']\n",
      "['04', '01', '2020 08:49:00']\n",
      "['04', '01', '2020 10:49:00']\n",
      "['04', '01', '2020 12:49:00']\n",
      "['04', '01', '2020 14:49:00']\n",
      "['04', '01', '2020 16:49:00']\n",
      "['04', '01', '2020 18:49:00']\n",
      "['04', '01', '2020 20:49:00']\n",
      "['04', '01', '2020 22:49:00']\n",
      "['04', '02', '2020 00:49:00']\n",
      "['04', '02', '2020 02:49:00']\n",
      "['04', '02', '2020 04:49:00']\n",
      "['04', '02', '2020 06:49:00']\n",
      "['04', '02', '2020 08:49:00']\n",
      "['04', '02', '2020 10:49:00']\n",
      "['04', '02', '2020 12:49:00']\n",
      "['04', '02', '2020 14:49:00']\n",
      "['04', '02', '2020 16:49:00']\n",
      "['04', '02', '2020 18:49:00']\n",
      "['04', '02', '2020 20:49:00']\n",
      "['04', '02', '2020 22:19:00']\n",
      "['04', '03', '2020 01:20:00']\n",
      "['04', '03', '2020 01:36:00']\n",
      "['04', '03', '2020 03:20:00']\n",
      "['04', '03', '2020 05:20:00']\n",
      "['04', '03', '2020 07:20:00']\n",
      "['04', '03', '2020 09:20:00']\n",
      "['04', '03', '2020 11:20:00']\n",
      "['04', '03', '2020 13:20:00']\n",
      "['04', '03', '2020 14:49:00']\n",
      "['04', '03', '2020 16:49:00']\n",
      "['04', '03', '2020 18:49:00']\n",
      "['04', '03', '2020 20:49:00']\n",
      "['04', '03', '2020 22:49:00']\n",
      "['04', '04', '2020 00:49:00']\n",
      "['04', '04', '2020 02:49:00']\n",
      "08/03/2020 23:30:00 1583681400 5.56\n",
      "09/03/2020 04:30:00 1583699400 5.0\n",
      "10/03/2020 05:30:00 1583789400 25.0\n",
      "10/03/2020 23:35:00 1583854500 18.08\n",
      "11/03/2020 04:25:00 1583871900 4.83\n",
      "11/03/2020 15:17:00 1583911020 10.87\n",
      "11/03/2020 23:35:00 1583940900 8.3\n",
      "12/03/2020 03:25:00 1583954700 3.83\n",
      "12/03/2020 11:37:00 1583984220 8.2\n",
      "12/03/2020 22:00:00 1584021600 10.38\n",
      "13/03/2020 00:05:00 1584029100 2.08\n",
      "13/03/2020 01:35:00 1584034500 1.5\n",
      "13/03/2020 03:45:00 1584042300 2.17\n",
      "13/03/2020 06:00:00 1584050400 2.25\n",
      "13/03/2020 15:25:00 1584084300 9.42\n",
      "13/03/2020 22:25:00 1584109500 7.0\n",
      "14/03/2020 02:40:00 1584124800 4.25\n",
      "14/03/2020 07:14:00 1584141240 4.57\n",
      "14/03/2020 16:45:00 1584175500 9.52\n",
      "14/03/2020 23:03:00 1584198180 6.3\n",
      "15/03/2020 05:00:00 1584219600 5.95\n",
      "15/03/2020 05:40:00 1584222000 0.67\n",
      "15/03/2020 07:05:00 1584227100 1.42\n",
      "15/03/2020 19:00:00 1584270000 11.92\n",
      "15/03/2020 20:05:00 1584273900 1.08\n",
      "15/03/2020 21:15:00 1584278100 1.17\n",
      "15/03/2020 22:15:00 1584281700 1.0\n",
      "16/03/2020 00:35:00 1584290100 2.33\n",
      "16/03/2020 02:48:00 1584298080 2.22\n",
      "16/03/2020 05:36:00 1584308160 2.8\n",
      "16/03/2020 08:29:00 1584318540 2.88\n",
      "16/03/2020 18:40:00 1584355200 10.18\n",
      "16/03/2020 22:40:00 1584369600 4.0\n",
      "17/03/2020 00:45:00 1584377100 2.08\n",
      "17/03/2020 02:40:00 1584384000 1.92\n",
      "17/03/2020 06:35:00 1584398100 3.92\n",
      "17/03/2020 10:31:00 1584412260 3.93\n",
      "17/03/2020 14:38:00 1584427080 4.12\n",
      "17/03/2020 18:41:00 1584441660 4.05\n",
      "17/03/2020 21:55:00 1584453300 3.23\n",
      "17/03/2020 22:40:00 1584456000 0.75\n",
      "18/03/2020 02:20:00 1584469200 3.67\n",
      "18/03/2020 06:05:00 1584482700 3.75\n",
      "18/03/2020 10:10:00 1584497400 4.08\n",
      "18/03/2020 16:15:00 1584519300 6.08\n",
      "18/03/2020 18:16:00 1584526560 2.02\n",
      "18/03/2020 20:21:00 1584534060 2.08\n",
      "18/03/2020 22:10:00 1584540600 1.82\n",
      "19/03/2020 02:17:00 1584555420 4.12\n",
      "19/03/2020 10:16:00 1584584160 7.98\n",
      "19/03/2020 12:18:00 1584591480 2.03\n",
      "19/03/2020 14:15:00 1584598500 1.95\n",
      "19/03/2020 16:22:00 1584606120 2.12\n",
      "19/03/2020 18:17:00 1584613020 1.92\n",
      "19/03/2020 22:45:00 1584629100 4.47\n",
      "20/03/2020 00:48:00 1584636480 2.05\n",
      "20/03/2020 02:40:00 1584643200 1.87\n",
      "20/03/2020 04:34:00 1584650040 1.9\n",
      "20/03/2020 06:35:00 1584657300 2.02\n",
      "20/03/2020 08:10:00 1584663000 1.58\n",
      "20/03/2020 10:11:00 1584670260 2.02\n",
      "20/03/2020 12:11:00 1584677460 2.0\n",
      "20/03/2020 14:10:00 1584684600 1.98\n",
      "20/03/2020 16:11:00 1584691860 2.02\n",
      "20/03/2020 18:12:00 1584699120 2.02\n",
      "20/03/2020 20:12:00 1584706320 2.0\n",
      "20/03/2020 22:12:00 1584713520 2.0\n",
      "21/03/2020 00:06:00 1584720360 1.9\n",
      "21/03/2020 02:07:00 1584727620 2.02\n",
      "21/03/2020 04:08:00 1584734880 2.02\n",
      "21/03/2020 06:05:00 1584741900 1.95\n",
      "21/03/2020 08:10:00 1584749400 2.08\n",
      "21/03/2020 10:12:00 1584756720 2.03\n",
      "21/03/2020 12:46:00 1584765960 2.57\n",
      "21/03/2020 14:48:00 1584773280 2.03\n",
      "21/03/2020 16:48:00 1584780480 2.0\n",
      "21/03/2020 18:45:00 1584787500 1.95\n",
      "21/03/2020 20:45:00 1584794700 2.0\n",
      "21/03/2020 22:45:00 1584801900 2.0\n",
      "22/03/2020 00:40:00 1584808800 1.92\n",
      "22/03/2020 02:40:00 1584816000 2.0\n",
      "22/03/2020 04:45:00 1584823500 2.08\n",
      "22/03/2020 06:30:00 1584829800 1.75\n",
      "22/03/2020 08:45:00 1584837900 2.25\n",
      "22/03/2020 10:45:00 1584845100 2.0\n",
      "22/03/2020 12:48:00 1584852480 2.05\n",
      "22/03/2020 14:45:00 1584859500 1.95\n",
      "22/03/2020 16:42:00 1584866520 1.95\n",
      "22/03/2020 18:48:00 1584874080 2.1\n",
      "22/03/2020 20:44:00 1584881040 1.93\n",
      "22/03/2020 21:41:00 1584884460 0.95\n",
      "23/03/2020 00:44:00 1584895440 3.05\n",
      "23/03/2020 02:37:00 1584902220 1.88\n",
      "23/03/2020 03:55:00 1584906900 1.3\n",
      "23/03/2020 06:45:00 1584917100 2.83\n",
      "23/03/2020 08:47:00 1584924420 2.03\n",
      "23/03/2020 10:47:00 1584931620 2.0\n",
      "23/03/2020 12:46:00 1584938760 1.98\n",
      "23/03/2020 14:45:00 1584945900 1.98\n",
      "23/03/2020 16:45:00 1584953100 2.0\n",
      "23/03/2020 18:46:00 1584960360 2.02\n",
      "23/03/2020 20:47:00 1584967620 2.02\n",
      "23/03/2020 22:31:00 1584973860 1.73\n",
      "24/03/2020 00:47:00 1584982020 2.27\n",
      "24/03/2020 02:33:00 1584988380 1.77\n",
      "24/03/2020 04:46:00 1584996360 2.22\n",
      "24/03/2020 06:43:00 1585003380 1.95\n",
      "24/03/2020 08:48:00 1585010880 2.08\n",
      "24/03/2020 10:47:00 1585018020 1.98\n",
      "24/03/2020 12:47:00 1585025220 2.0\n",
      "24/03/2020 14:47:00 1585032420 2.0\n",
      "24/03/2020 16:47:00 1585039620 2.0\n",
      "24/03/2020 18:45:00 1585046700 1.97\n",
      "24/03/2020 20:42:00 1585053720 1.95\n",
      "24/03/2020 22:48:00 1585061280 2.1\n",
      "25/03/2020 00:29:00 1585067340 1.68\n",
      "25/03/2020 02:44:00 1585075440 2.25\n",
      "25/03/2020 04:46:00 1585082760 2.03\n",
      "25/03/2020 06:47:00 1585090020 2.02\n",
      "25/03/2020 08:48:00 1585097280 2.02\n",
      "25/03/2020 10:43:00 1585104180 1.92\n",
      "25/03/2020 12:48:00 1585111680 2.08\n",
      "25/03/2020 14:48:00 1585118880 2.0\n",
      "25/03/2020 16:48:00 1585126080 2.0\n",
      "25/03/2020 18:48:00 1585133280 2.0\n",
      "25/03/2020 20:33:00 1585139580 1.75\n",
      "25/03/2020 22:44:00 1585147440 2.18\n",
      "26/03/2020 00:34:00 1585154040 1.83\n",
      "26/03/2020 02:43:00 1585161780 2.15\n",
      "26/03/2020 05:24:00 1585171440 2.68\n",
      "26/03/2020 07:03:00 1585177380 1.65\n",
      "26/03/2020 09:02:00 1585184520 1.98\n",
      "26/03/2020 11:02:00 1585191720 2.0\n",
      "26/03/2020 13:01:00 1585198860 1.98\n",
      "26/03/2020 14:52:00 1585205520 1.85\n",
      "26/03/2020 17:02:00 1585213320 2.17\n",
      "26/03/2020 19:00:00 1585220400 1.97\n",
      "26/03/2020 21:01:00 1585227660 2.02\n",
      "26/03/2020 23:02:00 1585234920 2.02\n",
      "27/03/2020 01:00:00 1585242000 1.97\n",
      "27/03/2020 03:01:00 1585249260 2.02\n",
      "27/03/2020 04:36:00 1585254960 1.58\n",
      "27/03/2020 07:33:00 1585265580 2.95\n",
      "27/03/2020 09:32:00 1585272720 1.98\n",
      "27/03/2020 11:31:00 1585279860 1.98\n",
      "27/03/2020 13:32:00 1585287120 2.02\n",
      "27/03/2020 15:33:00 1585294380 2.02\n",
      "27/03/2020 17:32:00 1585301520 1.98\n",
      "27/03/2020 19:33:00 1585308780 2.02\n",
      "27/03/2020 21:33:00 1585315980 2.0\n",
      "27/03/2020 23:33:00 1585323180 2.0\n",
      "28/03/2020 01:32:00 1585330320 1.98\n",
      "28/03/2020 03:34:00 1585337640 2.03\n",
      "28/03/2020 05:35:00 1585344900 2.02\n",
      "28/03/2020 07:35:00 1585352100 2.0\n",
      "28/03/2020 09:35:00 1585359300 2.0\n",
      "28/03/2020 11:40:00 1585366800 2.08\n",
      "28/03/2020 13:36:00 1585373760 1.93\n",
      "28/03/2020 15:45:00 1585381500 2.15\n",
      "28/03/2020 17:45:00 1585388700 2.0\n",
      "28/03/2020 19:43:00 1585395780 1.97\n",
      "28/03/2020 21:44:00 1585403040 2.02\n",
      "28/03/2020 23:43:00 1585410180 1.98\n",
      "29/03/2020 01:46:00 1585417560 2.05\n",
      "29/03/2020 03:46:00 1585424760 2.0\n",
      "29/03/2020 05:48:00 1585432080 2.03\n",
      "29/03/2020 07:41:00 1585438860 1.88\n",
      "29/03/2020 09:45:00 1585446300 2.07\n",
      "29/03/2020 11:44:00 1585453440 1.98\n",
      "29/03/2020 13:46:00 1585460760 2.03\n",
      "29/03/2020 15:47:00 1585468020 2.02\n",
      "29/03/2020 17:49:00 1585475340 2.03\n",
      "29/03/2020 19:47:00 1585482420 1.97\n",
      "29/03/2020 21:48:00 1585489680 2.02\n",
      "29/03/2020 23:49:00 1585496940 2.02\n",
      "30/03/2020 01:44:00 1585503840 1.92\n",
      "30/03/2020 03:46:00 1585511160 2.03\n",
      "30/03/2020 06:46:00 1585521960 3.0\n",
      "30/03/2020 08:50:00 1585529400 2.07\n",
      "30/03/2020 10:50:00 1585536600 2.0\n",
      "30/03/2020 12:50:00 1585543800 2.0\n",
      "30/03/2020 14:50:00 1585551000 2.0\n",
      "30/03/2020 16:50:00 1585558200 2.0\n",
      "30/03/2020 18:50:00 1585565400 2.0\n",
      "30/03/2020 20:50:00 1585572600 2.0\n",
      "30/03/2020 22:50:00 1585579800 2.0\n",
      "31/03/2020 00:50:00 1585587000 2.0\n",
      "31/03/2020 02:50:00 1585594200 2.0\n",
      "31/03/2020 04:50:00 1585601400 2.0\n",
      "31/03/2020 06:50:00 1585608600 2.0\n",
      "31/03/2020 08:42:00 1585615320 1.87\n",
      "31/03/2020 10:49:00 1585622940 2.12\n",
      "31/03/2020 12:49:00 1585630140 2.0\n",
      "31/03/2020 14:49:00 1585637340 2.0\n",
      "31/03/2020 16:49:00 1585644540 2.0\n",
      "31/03/2020 18:49:00 1585651740 2.0\n",
      "31/03/2020 20:49:00 1585658940 2.0\n",
      "31/03/2020 22:49:00 1585666140 2.0\n",
      "01/04/2020 02:49:00 1585680540 4.0\n",
      "01/04/2020 04:49:00 1585687740 2.0\n",
      "01/04/2020 06:49:00 1585694940 2.0\n",
      "01/04/2020 08:49:00 1585702140 2.0\n",
      "01/04/2020 10:49:00 1585709340 2.0\n",
      "01/04/2020 12:49:00 1585716540 2.0\n",
      "01/04/2020 14:49:00 1585723740 2.0\n",
      "01/04/2020 16:49:00 1585730940 2.0\n",
      "01/04/2020 18:49:00 1585738140 2.0\n",
      "01/04/2020 20:49:00 1585745340 2.0\n",
      "01/04/2020 22:49:00 1585752540 2.0\n",
      "02/04/2020 00:49:00 1585759740 2.0\n",
      "02/04/2020 02:49:00 1585766940 2.0\n",
      "02/04/2020 04:49:00 1585774140 2.0\n",
      "02/04/2020 06:49:00 1585781340 2.0\n",
      "02/04/2020 08:49:00 1585788540 2.0\n",
      "02/04/2020 10:49:00 1585795740 2.0\n",
      "02/04/2020 12:49:00 1585802940 2.0\n",
      "02/04/2020 14:49:00 1585810140 2.0\n",
      "02/04/2020 16:49:00 1585817340 2.0\n",
      "02/04/2020 18:49:00 1585824540 2.0\n",
      "02/04/2020 20:49:00 1585831740 2.0\n",
      "02/04/2020 22:19:00 1585837140 1.5\n",
      "03/04/2020 01:20:00 1585848000 3.02\n",
      "03/04/2020 01:36:00 1585848960 0.27\n",
      "03/04/2020 03:20:00 1585855200 1.73\n",
      "03/04/2020 05:20:00 1585862400 2.0\n",
      "03/04/2020 07:20:00 1585869600 2.0\n",
      "03/04/2020 09:20:00 1585876800 2.0\n",
      "03/04/2020 11:20:00 1585884000 2.0\n",
      "03/04/2020 13:20:00 1585891200 2.0\n",
      "03/04/2020 14:49:00 1585896540 1.48\n",
      "03/04/2020 16:49:00 1585903740 2.0\n",
      "03/04/2020 18:49:00 1585910940 2.0\n",
      "03/04/2020 20:49:00 1585918140 2.0\n",
      "03/04/2020 22:49:00 1585925340 2.0\n",
      "04/04/2020 00:49:00 1585932540 2.0\n",
      "04/04/2020 02:49:00 1585939740 2.0\n"
     ]
    }
   ],
   "source": [
    "import datetime\n",
    "import calendar\n",
    "import time\n",
    "from M2D import *\n",
    "import sqlite3\n",
    "\n",
    "arrangedDdata = ''\n",
    "arrangedDdata=arrangedDdata+\"date_time,cases\\n\"\n",
    "conn=sqlite3.connect(\"DATA/CoronaData2.db\")\n",
    "c= conn.cursor()\n",
    "for row in c.execute('SELECT rowid,* from CORONA'):\n",
    "    MISC=row[1]\n",
    "    Str = MISC.split(\" \")\n",
    "    month = Str[0][0:5]\n",
    "    OUT = Month2Num(month)+\",\"+MISC[5:15]+\" \"+MISC[18:24]+\":00\"\n",
    "    OUT = OUT.replace(\", \",\"-\")\n",
    "    OUT = OUT.replace(\"c\",\"\")\n",
    "    #OUT = OUT.replace(\",\",\"-\")\n",
    "    OUT = OUT.replace(\" \",\",\");\n",
    "    OUT = OUT.replace(\",,\",\" \")\n",
    "    OUT = OUT.rstrip(\",\");\n",
    "    OUT = OUT.replace(\",\",\"\") \n",
    "    #print (OUT) \n",
    "    arrangedDdata = arrangedDdata+OUT+\"\\n\"\n",
    "conn.close() \n",
    "\n",
    "text =arrangedDdata.split(\"\\n\")\n",
    "text= text[1:-1]\n",
    "EPOCHa=[]\n",
    "Scnt=0\n",
    "SPANS = []\n",
    "for line in text:\n",
    "    #print(line)\n",
    "    #line=str(LINE)\n",
    "    line = line.split(\"-\")\n",
    "    print (line)\n",
    "    #print (str(line[1]+'/'+line[0]+'/'+line[2][:-3]))\n",
    "    dt = time.strftime((str(line[1]+'/'+line[0]+'/'+line[2][:-3])))\n",
    "    #print (dt+\":00\")\n",
    "\n",
    "    dt_ti = dt+\":00\"\n",
    "    #print (dt_ti)\n",
    "    #03-16-2020 02:48,3777\n",
    "    pattern = '%d/%m/%Y %H:%M:%S'\n",
    "    #pattern = '%m/%d/%Y %H:%M:%S'\n",
    "    epochs = int(time.mktime(time.strptime(dt_ti, pattern)))\n",
    "    #print (dt_ti, epochs)\n",
    "    \n",
    "    if Scnt>1:SPANS.append(span(int(last),int(epochs)))\n",
    "    if Scnt==0:last=1583661400  \n",
    "    SPan = span(int(last),int(epochs))    \n",
    "    data = dt_ti+\" \"+str(epochs)+\" \"+str(SPan)\n",
    "    \n",
    "    entry = str(data)\n",
    "    Scnt=Scnt+1\n",
    "    \n",
    "    last = int(epochs)    \n",
    "    #print (span(int(last),int(epochs)))\n",
    "    EPOCHa.append(data)\n",
    "    \n",
    "    \n",
    "for lines in EPOCHa:\n",
    "    print (lines)\n",
    "    \n",
    "#08/03/2020 23:30:00 1583681400 -274.68\n",
    "#09/03/2020 04:30:00 1583699400 5.0    "
   ]
  },
  {
   "cell_type": "code",
   "execution_count": 453,
   "metadata": {},
   "outputs": [
    {
     "name": "stdout",
     "output_type": "stream",
     "text": [
      "Help on module M2D:\n",
      "\n",
      "NAME\n",
      "    M2D\n",
      "\n",
      "DESCRIPTION\n",
      "    Month2Num(month)\n",
      "    span(timestamp1, timestamp2): This will show the span in hours between two timestamps.\n",
      "\n",
      "FUNCTIONS\n",
      "    Month2Num(month)\n",
      "    \n",
      "    span(timestamp1, timestamp2)\n",
      "\n",
      "DATA\n",
      "    division = _Feature((2, 2, 0, 'alpha', 2), (3, 0, 0, 'alpha', 0), 8192...\n",
      "\n",
      "FILE\n",
      "    /home/jack/Desktop/cOVID-19/M2D.py\n",
      "\n",
      "\n"
     ]
    }
   ],
   "source": [
    "import M2D\n",
    "help(M2D)"
   ]
  },
  {
   "cell_type": "code",
   "execution_count": 454,
   "metadata": {},
   "outputs": [],
   "source": [
    "!rm DATA/CleanCorona.db"
   ]
  },
  {
   "cell_type": "code",
   "execution_count": 455,
   "metadata": {},
   "outputs": [
    {
     "name": "stdout",
     "output_type": "stream",
     "text": [
      "08/03/2020 23:30 537 21\n",
      "09/03/2020 04:30 589 22\n",
      "10/03/2020 05:30 708 27\n",
      "10/03/2020 23:35 975 30\n",
      "11/03/2020 04:25 1010 31\n",
      "11/03/2020 15:17 1016 31\n",
      "11/03/2020 23:35 1301 38\n",
      "12/03/2020 03:25 1327 38\n",
      "12/03/2020 11:37 1336 38\n",
      "12/03/2020 22:00 1639 40\n",
      "13/03/2020 00:05 1715 41\n",
      "13/03/2020 01:35 1725 41\n",
      "13/03/2020 03:45 1747 41\n",
      "13/03/2020 06:00 1762 41\n",
      "13/03/2020 15:25 1832 41\n",
      "13/03/2020 22:25 2269 48\n",
      "14/03/2020 02:40 2291 50\n",
      "14/03/2020 07:14 2319 50\n",
      "14/03/2020 16:45 2499 51\n",
      "14/03/2020 23:03 2836 57\n",
      "15/03/2020 05:00 2982 60\n",
      "15/03/2020 05:40 2995 60\n",
      "15/03/2020 07:05 3043 60\n",
      "15/03/2020 19:00 3329 63\n",
      "15/03/2020 20:05 3400 63\n",
      "15/03/2020 21:15 3621 63\n",
      "15/03/2020 22:15 3502 63\n",
      "16/03/2020 00:35 3714 68\n",
      "16/03/2020 02:48 3777 69\n",
      "16/03/2020 05:36 3782 69\n",
      "16/03/2020 08:29 3802 69\n",
      "16/03/2020 18:40 4186 73\n",
      "16/03/2020 22:40 4597 86\n",
      "17/03/2020 00:45 4667 87\n",
      "17/03/2020 02:40 4704 91\n",
      "17/03/2020 06:35 4727 93\n",
      "17/03/2020 10:31 4743 93\n",
      "17/03/2020 14:38 4752 93\n",
      "17/03/2020 18:41 5723 97\n",
      "17/03/2020 21:55 6211 102\n",
      "17/03/2020 22:40 6349 106\n",
      "18/03/2020 02:20 6499 112\n",
      "18/03/2020 06:05 6522 116\n",
      "18/03/2020 10:10 6524 116\n",
      "18/03/2020 16:15 7601 116\n",
      "18/03/2020 18:16 7708 120\n",
      "18/03/2020 20:21 8710 132\n",
      "18/03/2020 22:10 8998 150\n",
      "19/03/2020 02:17 9371 153\n",
      "19/03/2020 10:16 9464 155\n",
      "19/03/2020 12:18 9473 155\n",
      "19/03/2020 14:15 9486 157\n",
      "19/03/2020 16:22 10692 160\n",
      "19/03/2020 18:17 11355 171\n",
      "19/03/2020 22:45 13737 201\n",
      "20/03/2020 00:48 13865 211\n",
      "20/03/2020 02:40 14316 218\n",
      "20/03/2020 04:34 14336 218\n",
      "20/03/2020 06:35 14366 217\n",
      "20/03/2020 08:10 14366 217\n",
      "20/03/2020 10:11 14366 217\n",
      "20/03/2020 12:11 14366 217\n",
      "20/03/2020 14:10 14373 218\n",
      "20/03/2020 16:11 16067 219\n",
      "20/03/2020 18:12 16545 225\n",
      "20/03/2020 20:12 18121 233\n",
      "20/03/2020 22:12 18876 237\n",
      "21/03/2020 00:06 19393 256\n",
      "21/03/2020 02:07 19643 263\n",
      "21/03/2020 04:08 19652 264\n",
      "21/03/2020 06:05 19774 275\n",
      "21/03/2020 08:10 19774 275\n",
      "21/03/2020 10:12 19774 275\n",
      "21/03/2020 12:46 19775 276\n",
      "21/03/2020 14:48 19823 276\n",
      "21/03/2020 16:48 22085 282\n",
      "21/03/2020 18:45 22813 288\n",
      "21/03/2020 20:45 24142 288\n",
      "21/03/2020 22:45 23940 301\n",
      "22/03/2020 00:40 26111 324\n",
      "22/03/2020 02:40 26711 341\n",
      "22/03/2020 04:45 26867 348\n",
      "22/03/2020 06:30 26892 348\n",
      "22/03/2020 08:45 26892 348\n",
      "22/03/2020 10:45 26900 348\n",
      "22/03/2020 12:48 26905 348\n",
      "22/03/2020 14:45 27031 349\n",
      "22/03/2020 16:42 30239 388\n",
      "22/03/2020 18:48 38757 400\n",
      "22/03/2020 20:44 32356 414\n",
      "22/03/2020 21:41 32356 414\n",
      "23/03/2020 00:44 33346 414\n",
      "23/03/2020 02:37 33546 419\n",
      "23/03/2020 03:55 34717 452\n",
      "23/03/2020 06:45 35060 457\n",
      "23/03/2020 08:47 35070 458\n",
      "23/03/2020 10:47 35070 458\n",
      "23/03/2020 12:46 35075 458\n",
      "23/03/2020 14:45 35179 459\n",
      "23/03/2020 16:45 40773 479\n",
      "23/03/2020 18:46 41569 504\n",
      "23/03/2020 20:47 42443 517\n",
      "23/03/2020 22:31 43449 545\n",
      "24/03/2020 00:47 43718 552\n",
      "24/03/2020 02:33 43734 553\n",
      "24/03/2020 04:46 46145 582\n",
      "24/03/2020 06:43 46145 582\n",
      "24/03/2020 08:48 46145 582\n",
      "24/03/2020 10:47 46168 582\n",
      "24/03/2020 12:47 46168 582\n",
      "24/03/2020 14:47 46274 588\n",
      "24/03/2020 16:47 49594 622\n",
      "24/03/2020 18:45 50982 655\n",
      "24/03/2020 20:42 52921 684\n",
      "24/03/2020 22:48 53205 687\n",
      "25/03/2020 00:29 53655 698\n",
      "25/03/2020 02:44 54823 778\n",
      "25/03/2020 04:46 54867 782\n",
      "25/03/2020 06:47 54916 784\n",
      "25/03/2020 08:48 54935 784\n",
      "25/03/2020 10:43 54941 784\n",
      "25/03/2020 12:48 54979 785\n",
      "25/03/2020 14:48 55081 785\n",
      "25/03/2020 16:48 60642 817\n",
      "25/03/2020 18:48 62364 878\n",
      "25/03/2020 20:33 64765 910\n",
      "25/03/2020 22:44 65527 928\n",
      "26/03/2020 00:34 65797 935\n",
      "26/03/2020 02:43 66741 963\n",
      "26/03/2020 05:24 68472 1032\n",
      "26/03/2020 07:03 68489 1032\n",
      "26/03/2020 09:02 68489 1032\n",
      "26/03/2020 11:02 68581 1036\n",
      "26/03/2020 13:01 68594 1036\n",
      "26/03/2020 14:52 68905 1037\n",
      "26/03/2020 17:02 75069 1080\n",
      "26/03/2020 19:00 79082 1143\n",
      "26/03/2020 21:01 81946 1177\n",
      "26/03/2020 23:02 83206 1201\n",
      "27/03/2020 01:00 85280 1293\n",
      "27/03/2020 03:01 85520 1297\n",
      "27/03/2020 04:36 85594 1300\n",
      "27/03/2020 07:33 85612 1301\n",
      "27/03/2020 09:32 85612 1301\n",
      "27/03/2020 11:31 85749 1304\n",
      "27/03/2020 13:32 85755 1304\n",
      "27/03/2020 15:33 86548 1321\n",
      "27/03/2020 17:32 94425 1429\n",
      "27/03/2020 19:33 98180 1513\n",
      "27/03/2020 21:33 100514 1546\n",
      "27/03/2020 23:33 102325 1591\n",
      "28/03/2020 01:32 104126 1692\n",
      "28/03/2020 03:34 104205 1704\n",
      "28/03/2020 05:35 104205 1704\n",
      "28/03/2020 07:35 104256 1704\n",
      "28/03/2020 09:35 104256 1704\n",
      "28/03/2020 11:40 104256 1704\n",
      "28/03/2020 13:36 104277 1704\n",
      "28/03/2020 15:45 105726 1730\n",
      "28/03/2020 17:45 116050 1937\n",
      "28/03/2020 19:43 118592 1979\n",
      "28/03/2020 21:44 120204 1997\n",
      "28/03/2020 23:43 123311 2211\n",
      "29/03/2020 01:46 123578 2221\n",
      "29/03/2020 03:46 123750 2227\n",
      "29/03/2020 05:48 123774 2228\n",
      "29/03/2020 07:41 123776 2229\n",
      "29/03/2020 09:45 123781 2229\n",
      "29/03/2020 11:44 123781 2229\n",
      "29/03/2020 13:46 123828 2229\n",
      "29/03/2020 15:47 125099 2238\n",
      "29/03/2020 17:49 133146 2363\n",
      "29/03/2020 19:47 137943 2431\n",
      "29/03/2020 21:48 139904 2449\n",
      "29/03/2020 23:49 141781 2471\n",
      "30/03/2020 01:44 142004 2484\n",
      "30/03/2020 03:46 142735 2488\n",
      "30/03/2020 06:46 142735 2488\n",
      "30/03/2020 08:50 142735 2489\n",
      "30/03/2020 10:50 142746 2489\n",
      "30/03/2020 12:50 142793 2490\n",
      "30/03/2020 14:50 144410 2600\n",
      "30/03/2020 16:50 145542 2616\n",
      "30/03/2020 18:50 156565 2870\n",
      "30/03/2020 20:50 159689 2951\n",
      "30/03/2020 22:50 161358 2974\n",
      "31/03/2020 00:50 163479 3148\n",
      "31/03/2020 02:50 164253 3165\n",
      "31/03/2020 04:50 164253 3167\n",
      "31/03/2020 06:50 164323 3170\n",
      "31/03/2020 08:42 164359 3173\n",
      "31/03/2020 10:49 164359 3173\n",
      "31/03/2020 12:49 164435 3175\n",
      "31/03/2020 14:49 165392 3182\n",
      "31/03/2020 16:49 175669 3424\n",
      "31/03/2020 18:49 180340 3573\n",
      "31/03/2020 20:49 186046 3807\n",
      "31/03/2020 22:49 187729 3867\n",
      "01/04/2020 02:49 188530 3889\n",
      "01/04/2020 04:49 188578 4054\n",
      "01/04/2020 06:49 188592 4055\n",
      "01/04/2020 08:49 188592 4056\n",
      "01/04/2020 10:49 188639 4059\n",
      "01/04/2020 12:49 188647 4059\n",
      "01/04/2020 14:49 189711 4099\n",
      "01/04/2020 16:49 200289 4394\n",
      "01/04/2020 18:49 205438 4528\n",
      "01/04/2020 20:49 211143 4713\n",
      "01/04/2020 22:49 212980 4759\n",
      "02/04/2020 00:49 215003 5102\n",
      "02/04/2020 02:49 215175 5110\n",
      "02/04/2020 04:49 215300 5110\n",
      "02/04/2020 06:49 215324 5112\n",
      "02/04/2020 08:49 215344 5112\n",
      "02/04/2020 10:49 215344 5112\n",
      "02/04/2020 12:49 216722 5140\n",
      "02/04/2020 14:49 219832 5227\n",
      "02/04/2020 16:49 222658 5356\n",
      "02/04/2020 18:49 232899 5665\n",
      "02/04/2020 20:49 243298 5883\n",
      "02/04/2020 22:19 244230 5883\n",
      "03/04/2020 01:20 244877 6070\n",
      "03/04/2020 01:36 245066 6075\n",
      "03/04/2020 03:20 245088 6075\n",
      "03/04/2020 05:20 245341 6095\n",
      "03/04/2020 07:20 245373 6095\n",
      "03/04/2020 09:20 245373 6095\n",
      "03/04/2020 11:20 245380 6095\n",
      "03/04/2020 13:20 245442 6098\n",
      "03/04/2020 14:49 245442 6099\n",
      "03/04/2020 16:49 259750 6603\n",
      "03/04/2020 18:49 266279 6803\n",
      "03/04/2020 20:49 272614 6988\n",
      "03/04/2020 22:49 275802 7087\n",
      "04/04/2020 00:49 276965 7391\n",
      "04/04/2020 02:49 277161 7392\n",
      "08/03/2020 23:30:00 1583681400 5.56 537 21\n",
      "09/03/2020 04:30:00 1583699400 5.0 589 22\n",
      "10/03/2020 05:30:00 1583789400 25.0 708 27\n",
      "10/03/2020 23:35:00 1583854500 18.08 975 30\n",
      "11/03/2020 04:25:00 1583871900 4.83 1010 31\n",
      "11/03/2020 15:17:00 1583911020 10.87 1016 31\n",
      "11/03/2020 23:35:00 1583940900 8.3 1301 38\n",
      "12/03/2020 03:25:00 1583954700 3.83 1327 38\n",
      "12/03/2020 11:37:00 1583984220 8.2 1336 38\n",
      "12/03/2020 22:00:00 1584021600 10.38 1639 40\n",
      "13/03/2020 00:05:00 1584029100 2.08 1715 41\n",
      "13/03/2020 01:35:00 1584034500 1.5 1725 41\n",
      "13/03/2020 03:45:00 1584042300 2.17 1747 41\n",
      "13/03/2020 06:00:00 1584050400 2.25 1762 41\n",
      "13/03/2020 15:25:00 1584084300 9.42 1832 41\n",
      "13/03/2020 22:25:00 1584109500 7.0 2269 48\n",
      "14/03/2020 02:40:00 1584124800 4.25 2291 50\n",
      "14/03/2020 07:14:00 1584141240 4.57 2319 50\n",
      "14/03/2020 16:45:00 1584175500 9.52 2499 51\n",
      "14/03/2020 23:03:00 1584198180 6.3 2836 57\n",
      "15/03/2020 05:00:00 1584219600 5.95 2982 60\n",
      "15/03/2020 05:40:00 1584222000 0.67 2995 60\n",
      "15/03/2020 07:05:00 1584227100 1.42 3043 60\n",
      "15/03/2020 19:00:00 1584270000 11.92 3329 63\n",
      "15/03/2020 20:05:00 1584273900 1.08 3400 63\n",
      "15/03/2020 21:15:00 1584278100 1.17 3621 63\n",
      "15/03/2020 22:15:00 1584281700 1.0 3502 63\n",
      "16/03/2020 00:35:00 1584290100 2.33 3714 68\n",
      "16/03/2020 02:48:00 1584298080 2.22 3777 69\n",
      "16/03/2020 05:36:00 1584308160 2.8 3782 69\n",
      "16/03/2020 08:29:00 1584318540 2.88 3802 69\n",
      "16/03/2020 18:40:00 1584355200 10.18 4186 73\n",
      "16/03/2020 22:40:00 1584369600 4.0 4597 86\n",
      "17/03/2020 00:45:00 1584377100 2.08 4667 87\n",
      "17/03/2020 02:40:00 1584384000 1.92 4704 91\n",
      "17/03/2020 06:35:00 1584398100 3.92 4727 93\n",
      "17/03/2020 10:31:00 1584412260 3.93 4743 93\n",
      "17/03/2020 14:38:00 1584427080 4.12 4752 93\n",
      "17/03/2020 18:41:00 1584441660 4.05 5723 97\n",
      "17/03/2020 21:55:00 1584453300 3.23 6211 102\n",
      "17/03/2020 22:40:00 1584456000 0.75 6349 106\n",
      "18/03/2020 02:20:00 1584469200 3.67 6499 112\n",
      "18/03/2020 06:05:00 1584482700 3.75 6522 116\n",
      "18/03/2020 10:10:00 1584497400 4.08 6524 116\n",
      "18/03/2020 16:15:00 1584519300 6.08 7601 116\n",
      "18/03/2020 18:16:00 1584526560 2.02 7708 120\n",
      "18/03/2020 20:21:00 1584534060 2.08 8710 132\n",
      "18/03/2020 22:10:00 1584540600 1.82 8998 150\n",
      "19/03/2020 02:17:00 1584555420 4.12 9371 153\n",
      "19/03/2020 10:16:00 1584584160 7.98 9464 155\n",
      "19/03/2020 12:18:00 1584591480 2.03 9473 155\n",
      "19/03/2020 14:15:00 1584598500 1.95 9486 157\n",
      "19/03/2020 16:22:00 1584606120 2.12 10692 160\n",
      "19/03/2020 18:17:00 1584613020 1.92 11355 171\n",
      "19/03/2020 22:45:00 1584629100 4.47 13737 201\n",
      "20/03/2020 00:48:00 1584636480 2.05 13865 211\n",
      "20/03/2020 02:40:00 1584643200 1.87 14316 218\n",
      "20/03/2020 04:34:00 1584650040 1.9 14336 218\n",
      "20/03/2020 06:35:00 1584657300 2.02 14366 217\n",
      "20/03/2020 08:10:00 1584663000 1.58 14366 217\n",
      "20/03/2020 10:11:00 1584670260 2.02 14366 217\n",
      "20/03/2020 12:11:00 1584677460 2.0 14366 217\n",
      "20/03/2020 14:10:00 1584684600 1.98 14373 218\n",
      "20/03/2020 16:11:00 1584691860 2.02 16067 219\n",
      "20/03/2020 18:12:00 1584699120 2.02 16545 225\n",
      "20/03/2020 20:12:00 1584706320 2.0 18121 233\n",
      "20/03/2020 22:12:00 1584713520 2.0 18876 237\n",
      "21/03/2020 00:06:00 1584720360 1.9 19393 256\n",
      "21/03/2020 02:07:00 1584727620 2.02 19643 263\n",
      "21/03/2020 04:08:00 1584734880 2.02 19652 264\n",
      "21/03/2020 06:05:00 1584741900 1.95 19774 275\n",
      "21/03/2020 08:10:00 1584749400 2.08 19774 275\n",
      "21/03/2020 10:12:00 1584756720 2.03 19774 275\n",
      "21/03/2020 12:46:00 1584765960 2.57 19775 276\n",
      "21/03/2020 14:48:00 1584773280 2.03 19823 276\n",
      "21/03/2020 16:48:00 1584780480 2.0 22085 282\n",
      "21/03/2020 18:45:00 1584787500 1.95 22813 288\n",
      "21/03/2020 20:45:00 1584794700 2.0 24142 288\n",
      "21/03/2020 22:45:00 1584801900 2.0 23940 301\n",
      "22/03/2020 00:40:00 1584808800 1.92 26111 324\n",
      "22/03/2020 02:40:00 1584816000 2.0 26711 341\n",
      "22/03/2020 04:45:00 1584823500 2.08 26867 348\n",
      "22/03/2020 06:30:00 1584829800 1.75 26892 348\n",
      "22/03/2020 08:45:00 1584837900 2.25 26892 348\n",
      "22/03/2020 10:45:00 1584845100 2.0 26900 348\n",
      "22/03/2020 12:48:00 1584852480 2.05 26905 348\n",
      "22/03/2020 14:45:00 1584859500 1.95 27031 349\n",
      "22/03/2020 16:42:00 1584866520 1.95 30239 388\n",
      "22/03/2020 18:48:00 1584874080 2.1 38757 400\n",
      "22/03/2020 20:44:00 1584881040 1.93 32356 414\n",
      "22/03/2020 21:41:00 1584884460 0.95 32356 414\n",
      "23/03/2020 00:44:00 1584895440 3.05 33346 414\n",
      "23/03/2020 02:37:00 1584902220 1.88 33546 419\n",
      "23/03/2020 03:55:00 1584906900 1.3 34717 452\n",
      "23/03/2020 06:45:00 1584917100 2.83 35060 457\n",
      "23/03/2020 08:47:00 1584924420 2.03 35070 458\n",
      "23/03/2020 10:47:00 1584931620 2.0 35070 458\n",
      "23/03/2020 12:46:00 1584938760 1.98 35075 458\n",
      "23/03/2020 14:45:00 1584945900 1.98 35179 459\n",
      "23/03/2020 16:45:00 1584953100 2.0 40773 479\n",
      "23/03/2020 18:46:00 1584960360 2.02 41569 504\n",
      "23/03/2020 20:47:00 1584967620 2.02 42443 517\n",
      "23/03/2020 22:31:00 1584973860 1.73 43449 545\n",
      "24/03/2020 00:47:00 1584982020 2.27 43718 552\n",
      "24/03/2020 02:33:00 1584988380 1.77 43734 553\n",
      "24/03/2020 04:46:00 1584996360 2.22 46145 582\n",
      "24/03/2020 06:43:00 1585003380 1.95 46145 582\n",
      "24/03/2020 08:48:00 1585010880 2.08 46145 582\n",
      "24/03/2020 10:47:00 1585018020 1.98 46168 582\n",
      "24/03/2020 12:47:00 1585025220 2.0 46168 582\n",
      "24/03/2020 14:47:00 1585032420 2.0 46274 588\n",
      "24/03/2020 16:47:00 1585039620 2.0 49594 622\n",
      "24/03/2020 18:45:00 1585046700 1.97 50982 655\n",
      "24/03/2020 20:42:00 1585053720 1.95 52921 684\n",
      "24/03/2020 22:48:00 1585061280 2.1 53205 687\n",
      "25/03/2020 00:29:00 1585067340 1.68 53655 698\n",
      "25/03/2020 02:44:00 1585075440 2.25 54823 778\n",
      "25/03/2020 04:46:00 1585082760 2.03 54867 782\n",
      "25/03/2020 06:47:00 1585090020 2.02 54916 784\n",
      "25/03/2020 08:48:00 1585097280 2.02 54935 784\n",
      "25/03/2020 10:43:00 1585104180 1.92 54941 784\n",
      "25/03/2020 12:48:00 1585111680 2.08 54979 785\n",
      "25/03/2020 14:48:00 1585118880 2.0 55081 785\n",
      "25/03/2020 16:48:00 1585126080 2.0 60642 817\n",
      "25/03/2020 18:48:00 1585133280 2.0 62364 878\n",
      "25/03/2020 20:33:00 1585139580 1.75 64765 910\n",
      "25/03/2020 22:44:00 1585147440 2.18 65527 928\n",
      "26/03/2020 00:34:00 1585154040 1.83 65797 935\n",
      "26/03/2020 02:43:00 1585161780 2.15 66741 963\n",
      "26/03/2020 05:24:00 1585171440 2.68 68472 1032\n",
      "26/03/2020 07:03:00 1585177380 1.65 68489 1032\n",
      "26/03/2020 09:02:00 1585184520 1.98 68489 1032\n",
      "26/03/2020 11:02:00 1585191720 2.0 68581 1036\n",
      "26/03/2020 13:01:00 1585198860 1.98 68594 1036\n",
      "26/03/2020 14:52:00 1585205520 1.85 68905 1037\n",
      "26/03/2020 17:02:00 1585213320 2.17 75069 1080\n",
      "26/03/2020 19:00:00 1585220400 1.97 79082 1143\n",
      "26/03/2020 21:01:00 1585227660 2.02 81946 1177\n",
      "26/03/2020 23:02:00 1585234920 2.02 83206 1201\n",
      "27/03/2020 01:00:00 1585242000 1.97 85280 1293\n",
      "27/03/2020 03:01:00 1585249260 2.02 85520 1297\n",
      "27/03/2020 04:36:00 1585254960 1.58 85594 1300\n",
      "27/03/2020 07:33:00 1585265580 2.95 85612 1301\n",
      "27/03/2020 09:32:00 1585272720 1.98 85612 1301\n",
      "27/03/2020 11:31:00 1585279860 1.98 85749 1304\n",
      "27/03/2020 13:32:00 1585287120 2.02 85755 1304\n",
      "27/03/2020 15:33:00 1585294380 2.02 86548 1321\n",
      "27/03/2020 17:32:00 1585301520 1.98 94425 1429\n",
      "27/03/2020 19:33:00 1585308780 2.02 98180 1513\n",
      "27/03/2020 21:33:00 1585315980 2.0 100514 1546\n",
      "27/03/2020 23:33:00 1585323180 2.0 102325 1591\n",
      "28/03/2020 01:32:00 1585330320 1.98 104126 1692\n",
      "28/03/2020 03:34:00 1585337640 2.03 104205 1704\n",
      "28/03/2020 05:35:00 1585344900 2.02 104205 1704\n",
      "28/03/2020 07:35:00 1585352100 2.0 104256 1704\n",
      "28/03/2020 09:35:00 1585359300 2.0 104256 1704\n",
      "28/03/2020 11:40:00 1585366800 2.08 104256 1704\n",
      "28/03/2020 13:36:00 1585373760 1.93 104277 1704\n",
      "28/03/2020 15:45:00 1585381500 2.15 105726 1730\n",
      "28/03/2020 17:45:00 1585388700 2.0 116050 1937\n",
      "28/03/2020 19:43:00 1585395780 1.97 118592 1979\n",
      "28/03/2020 21:44:00 1585403040 2.02 120204 1997\n",
      "28/03/2020 23:43:00 1585410180 1.98 123311 2211\n",
      "29/03/2020 01:46:00 1585417560 2.05 123578 2221\n",
      "29/03/2020 03:46:00 1585424760 2.0 123750 2227\n",
      "29/03/2020 05:48:00 1585432080 2.03 123774 2228\n",
      "29/03/2020 07:41:00 1585438860 1.88 123776 2229\n",
      "29/03/2020 09:45:00 1585446300 2.07 123781 2229\n",
      "29/03/2020 11:44:00 1585453440 1.98 123781 2229\n",
      "29/03/2020 13:46:00 1585460760 2.03 123828 2229\n",
      "29/03/2020 15:47:00 1585468020 2.02 125099 2238\n",
      "29/03/2020 17:49:00 1585475340 2.03 133146 2363\n",
      "29/03/2020 19:47:00 1585482420 1.97 137943 2431\n",
      "29/03/2020 21:48:00 1585489680 2.02 139904 2449\n",
      "29/03/2020 23:49:00 1585496940 2.02 141781 2471\n",
      "30/03/2020 01:44:00 1585503840 1.92 142004 2484\n",
      "30/03/2020 03:46:00 1585511160 2.03 142735 2488\n",
      "30/03/2020 06:46:00 1585521960 3.0 142735 2488\n",
      "30/03/2020 08:50:00 1585529400 2.07 142735 2489\n",
      "30/03/2020 10:50:00 1585536600 2.0 142746 2489\n",
      "30/03/2020 12:50:00 1585543800 2.0 142793 2490\n",
      "30/03/2020 14:50:00 1585551000 2.0 144410 2600\n",
      "30/03/2020 16:50:00 1585558200 2.0 145542 2616\n",
      "30/03/2020 18:50:00 1585565400 2.0 156565 2870\n",
      "30/03/2020 20:50:00 1585572600 2.0 159689 2951\n",
      "30/03/2020 22:50:00 1585579800 2.0 161358 2974\n",
      "31/03/2020 00:50:00 1585587000 2.0 163479 3148\n",
      "31/03/2020 02:50:00 1585594200 2.0 164253 3165\n",
      "31/03/2020 04:50:00 1585601400 2.0 164253 3167\n",
      "31/03/2020 06:50:00 1585608600 2.0 164323 3170\n",
      "31/03/2020 08:42:00 1585615320 1.87 164359 3173\n",
      "31/03/2020 10:49:00 1585622940 2.12 164359 3173\n",
      "31/03/2020 12:49:00 1585630140 2.0 164435 3175\n",
      "31/03/2020 14:49:00 1585637340 2.0 165392 3182\n",
      "31/03/2020 16:49:00 1585644540 2.0 175669 3424\n",
      "31/03/2020 18:49:00 1585651740 2.0 180340 3573\n",
      "31/03/2020 20:49:00 1585658940 2.0 186046 3807\n",
      "31/03/2020 22:49:00 1585666140 2.0 187729 3867\n",
      "01/04/2020 02:49:00 1585680540 4.0 188530 3889\n",
      "01/04/2020 04:49:00 1585687740 2.0 188578 4054\n",
      "01/04/2020 06:49:00 1585694940 2.0 188592 4055\n",
      "01/04/2020 08:49:00 1585702140 2.0 188592 4056\n",
      "01/04/2020 10:49:00 1585709340 2.0 188639 4059\n",
      "01/04/2020 12:49:00 1585716540 2.0 188647 4059\n",
      "01/04/2020 14:49:00 1585723740 2.0 189711 4099\n",
      "01/04/2020 16:49:00 1585730940 2.0 200289 4394\n",
      "01/04/2020 18:49:00 1585738140 2.0 205438 4528\n",
      "01/04/2020 20:49:00 1585745340 2.0 211143 4713\n",
      "01/04/2020 22:49:00 1585752540 2.0 212980 4759\n",
      "02/04/2020 00:49:00 1585759740 2.0 215003 5102\n",
      "02/04/2020 02:49:00 1585766940 2.0 215175 5110\n",
      "02/04/2020 04:49:00 1585774140 2.0 215300 5110\n",
      "02/04/2020 06:49:00 1585781340 2.0 215324 5112\n",
      "02/04/2020 08:49:00 1585788540 2.0 215344 5112\n",
      "02/04/2020 10:49:00 1585795740 2.0 215344 5112\n",
      "02/04/2020 12:49:00 1585802940 2.0 216722 5140\n",
      "02/04/2020 14:49:00 1585810140 2.0 219832 5227\n",
      "02/04/2020 16:49:00 1585817340 2.0 222658 5356\n",
      "02/04/2020 18:49:00 1585824540 2.0 232899 5665\n",
      "02/04/2020 20:49:00 1585831740 2.0 243298 5883\n",
      "02/04/2020 22:19:00 1585837140 1.5 244230 5883\n",
      "03/04/2020 01:20:00 1585848000 3.02 244877 6070\n",
      "03/04/2020 01:36:00 1585848960 0.27 245066 6075\n",
      "03/04/2020 03:20:00 1585855200 1.73 245088 6075\n",
      "03/04/2020 05:20:00 1585862400 2.0 245341 6095\n",
      "03/04/2020 07:20:00 1585869600 2.0 245373 6095\n",
      "03/04/2020 09:20:00 1585876800 2.0 245373 6095\n",
      "03/04/2020 11:20:00 1585884000 2.0 245380 6095\n",
      "03/04/2020 13:20:00 1585891200 2.0 245442 6098\n",
      "03/04/2020 14:49:00 1585896540 1.48 245442 6099\n",
      "03/04/2020 16:49:00 1585903740 2.0 259750 6603\n",
      "03/04/2020 18:49:00 1585910940 2.0 266279 6803\n",
      "03/04/2020 20:49:00 1585918140 2.0 272614 6988\n",
      "03/04/2020 22:49:00 1585925340 2.0 275802 7087\n",
      "04/04/2020 00:49:00 1585932540 2.0 276965 7391\n",
      "04/04/2020 02:49:00 1585939740 2.0 277161 7392\n"
     ]
    }
   ],
   "source": [
    "import datetime\n",
    "import calendar\n",
    "import time\n",
    "from M2D import *\n",
    "import sqlite3\n",
    "\n",
    "conn2=sqlite3.connect(\"DATA/CleanCorona.db\")\n",
    "c2 = conn2.cursor()\n",
    "c2.execute(\"CREATE TABLE IF NOT EXISTS CORONA(data TEXT UNIQUE)\")\n",
    "conn2.commit()\n",
    "\n",
    "arrangedDdata = ''\n",
    "CASES = []\n",
    "DEATHS=[]\n",
    "arrangedDdata=arrangedDdata+\"date_time,cases\\n\"\n",
    "conn=sqlite3.connect(\"DATA/CoronaData2.db\")\n",
    "c= conn.cursor()\n",
    "cnt = 0\n",
    "for row in c.execute('SELECT * from CORONA'):\n",
    "    cnt = cnt +1\n",
    "    row = str(row)\n",
    "    row = row.replace(\",\",\"\");row = row.replace(\"(\",\"\");row = row.replace(\"'\",\"\")\n",
    "    row=row.split(\" \")\n",
    "    month = Month2Num(row[0])\n",
    "    print(row[1]+\"/\"+month+\"/\"+row[2]+\" \"+row[4]+\" \"+row[9]+\" \"+row[13])\n",
    "    OUT = row[1]+\"/\"+month+\"/\"+row[2]+\" \"+row[4]+\" \"+row[9]+\" \"+row[13]\n",
    "    #print(OUT)\n",
    "    # Result 03/12/2020 03:25:00 1327 38\n",
    "    arrangedDdata = arrangedDdata+OUT+\"\\n\"\n",
    "conn.close() \n",
    "\n",
    "text =arrangedDdata.split(\"\\n\")\n",
    "text= text[1:-1]\n",
    "EPOCHa=[]\n",
    "Scnt=0\n",
    "SPANS = []\n",
    "for line in text:\n",
    "    #print(line)\n",
    "    #line=str(LINE)\n",
    "    line = line.split(\" \")\n",
    "    #print (str(line[1]+'/'+line[0]+'/'+line[2][:-3]))\n",
    "    dt = time.strftime(line[0]+' '+line[1])\n",
    "    \n",
    "    dt_ti = dt+\":00\"\n",
    "\n",
    "    pattern = '%d/%m/%Y %H:%M:%S'\n",
    "    \n",
    "    epochs = int(time.mktime(time.strptime(dt_ti, pattern)))\n",
    "    #print (dt_ti, epochs)\n",
    "    \n",
    "    if Scnt>1:SPANS.append(span(int(last),int(epochs)))\n",
    "    if Scnt==0:last=1583661400  \n",
    "    SPan = span(int(last),int(epochs))    \n",
    "    data = dt_ti+\" \"+str(epochs)+\" \"+str(SPan)+\" \"+line[2]+\" \"+line[3]\n",
    "    CASES.append(line[2])\n",
    "    DEATHS.append(line[3])\n",
    "    entry = str(data)\n",
    "    Scnt=Scnt+1\n",
    "    print(data)\n",
    "    c2.execute(\"INSERT OR IGNORE into CORONA values (?)\",(data,))  \n",
    "    last = int(epochs)    \n",
    "    #print (span(int(last),int(epochs)))\n",
    "    EPOCHa.append(data)\n",
    "conn2.commit()\n",
    "conn2.close()\n",
    "Scn=0    \n",
    "for lines in EPOCHa:\n",
    "    #print (Scn,\": \",lines)\n",
    "    Scn = Scn+1\n",
    "    \n",
    "#08/03/2020 23:30:00 1583681400 -274.68\n",
    "#09/03/2020 04:30:00 1583699400 5.0    "
   ]
  },
  {
   "cell_type": "code",
   "execution_count": 456,
   "metadata": {},
   "outputs": [
    {
     "name": "stdout",
     "output_type": "stream",
     "text": [
      "-rw-r--r-- 1 1000 1000 40960 Apr  4 11:27 DATA/CleanCorona.db\r\n",
      "-rw-r--r-- 1 1000 1000 94208 Apr  4 10:49 DATA/CoronaData2.db\r\n",
      "-rw-r--r-- 1 1000 1000 90112 Apr  4 09:35 DATA/CoronaData2-bak.db\r\n",
      "-rw-r--r-- 1 1000 1000 45056 Apr  3 06:54 DATA/CoronaData.db\r\n",
      "-rw-r--r-- 1 1000 1000 12288 Apr  3 06:54 DATA/CoronaData3.db\r\n",
      "-rw-r--r-- 1 1000 1000 69632 Apr  1 14:25 DATA/JUNK.db\r\n",
      "-rw-r--r-- 1 1000 1000 69632 Apr  1 09:54 DATA/good-back-april-CoronaData2.db\r\n",
      "-rw-rw-r-- 1 1000 1000 36864 Mar 31 17:26 DATA/20200331172642CoronaData2.db\r\n",
      "-rw-rw-r-- 1 1000 1000 36864 Mar 31 15:00 DATA/20200331150023CoronaData2.db\r\n",
      "-rw-r--r-- 1 1000 1000 36864 Mar 31 12:43 DATA/20200331150023CleanCorona.db\r\n",
      "-rw-rw-r-- 1 1000 1000 36864 Mar 31 12:43 DATA/20200331124342CoronaData2.db\r\n",
      "-rw-r--r-- 1 1000 1000 36864 Mar 31 12:33 DATA/20200331124342CleanCorona.db\r\n",
      "-rw-rw-r-- 1 1000 1000 36864 Mar 31 12:33 DATA/20200331123321CoronaData2.db\r\n",
      "-rw-rw-r-- 1 1000 1000 36864 Mar 31 10:10 DATA/20200331101038CoronaData2.db\r\n",
      "-rw-r--r-- 1 1000 1000 36864 Mar 30 11:25 DATA/20200331101038CleanCorona.db\r\n",
      "-rw-rw-r-- 1 1000 1000 36864 Mar 30 11:25 DATA/20200330112547CoronaData2.db\r\n",
      "-rw-r--r-- 1 1000 1000 36864 Mar 30 11:10 DATA/20200330112547CleanCorona.db\r\n",
      "-rw-rw-r-- 1 1000 1000 36864 Mar 30 11:10 DATA/20200330111001CoronaData2.db\r\n",
      "-rw-r--r-- 1 1000 1000 36864 Mar 30 11:07 DATA/20200330111001CleanCorona.db\r\n",
      "-rw-rw-r-- 1 1000 1000 36864 Mar 30 11:07 DATA/20200330110756CoronaData2.db\r\n",
      "-rw-r--r-- 1 1000 1000 20480 Mar 30 08:38 DATA/junk.db\r\n",
      "-rw-r--r-- 1 1000 1000 36864 Mar 30 08:22 DATA/20200330110756CleanCorona.db\r\n",
      "-rw-rw-r-- 1 1000 1000 32768 Mar 30 08:22 DATA/20200330082243CoronaData2.db\r\n",
      "-rw-r--r-- 1 1000 1000 36864 Mar 30 07:40 DATA/20200330082243CleanCorona.db\r\n",
      "-rw-rw-r-- 1 1000 1000 32768 Mar 30 07:40 DATA/20200330074035CoronaData2.db\r\n",
      "-rw-r--r-- 1 1000 1000 36864 Mar 30 06:07 DATA/20200330074035CleanCorona.db\r\n",
      "-rw-rw-r-- 1 1000 1000 32768 Mar 30 06:07 DATA/20200330060712CoronaData2.db\r\n",
      "-rw-r--r-- 1 1000 1000 36864 Mar 30 04:18 DATA/20200330060712CleanCorona.db\r\n",
      "-rw-rw-r-- 1 1000 1000 32768 Mar 30 04:18 DATA/20200330041855CoronaData2.db\r\n",
      "-rw-r--r-- 1 1000 1000 36864 Mar 30 04:09 DATA/20200330041855CleanCorona.db\r\n",
      "-rw-rw-r-- 1 1000 1000 32768 Mar 30 04:09 DATA/20200330040905CoronaData2.db\r\n",
      "-rw-r--r-- 1 1000 1000 36864 Mar 30 03:55 DATA/20200330040905CleanCorona.db\r\n",
      "-rw-rw-r-- 1 1000 1000 32768 Mar 30 03:55 DATA/20200330035549CoronaData2.db\r\n",
      "-rw-r--r-- 1 1000 1000 36864 Mar 30 03:17 DATA/20200330035549CleanCorona.db\r\n",
      "-rw-rw-r-- 1 1000 1000 32768 Mar 30 03:17 DATA/20200330031717CoronaData2.db\r\n",
      "-rw-r--r-- 1 1000 1000 36864 Mar 29 22:34 DATA/toybox.db\r\n",
      "-rw-r--r-- 1 1000 1000 36864 Mar 29 22:28 DATA/20200330031717CleanCorona.db\r\n",
      "-rw-rw-r-- 1 1000 1000 32768 Mar 29 22:28 DATA/20200329222820CoronaData2.db\r\n",
      "-rw-r--r-- 1 1000 1000 36864 Mar 29 22:26 DATA/20200329222820CleanCorona.db\r\n",
      "-rw-rw-r-- 1 1000 1000 32768 Mar 29 22:26 DATA/20200329222631CoronaData2.db\r\n",
      "-rw-r--r-- 1 1000 1000 36864 Mar 29 18:20 DATA/20200329222631CleanCorona.db\r\n",
      "-rw-rw-r-- 1 1000 1000 32768 Mar 29 18:19 DATA/20200329181958CoronaData2.db\r\n",
      "-rw-r--r-- 1 1000 1000 36864 Mar 29 14:39 DATA/20200329181958CleanCorona.db\r\n",
      "-rw-rw-r-- 1 1000 1000 32768 Mar 29 14:39 DATA/20200329143937CoronaData2.db\r\n",
      "-rw-r--r-- 1 1000 1000 36864 Mar 29 14:14 DATA/20200329143937CleanCorona.db\r\n",
      "-rw-rw-r-- 1 1000 1000 32768 Mar 29 14:14 DATA/20200329141406CoronaData2.db\r\n",
      "-rw-r--r-- 1 1000 1000 36864 Mar 29 12:49 DATA/20200329141406CleanCorona.db\r\n",
      "-rw-rw-r-- 1 1000 1000 32768 Mar 29 12:49 DATA/20200329124901CoronaData2.db\r\n",
      "-rw-r--r-- 1 1000 1000 36864 Mar 29 12:47 DATA/20200329124901CleanCorona.db\r\n",
      "-rw-rw-r-- 1 1000 1000 32768 Mar 29 12:47 DATA/20200329124750CoronaData2.db\r\n",
      "-rw-r--r-- 1 1000 1000 36864 Mar 29 12:43 DATA/20200329124750CleanCorona.db\r\n",
      "-rw-rw-r-- 1 1000 1000 32768 Mar 29 12:43 DATA/20200329124328CoronaData2.db\r\n",
      "-rw-rw-r-- 1 1000 1000 32768 Mar 29 12:30 DATA/20200329123021CoronaData2.db\r\n",
      "-rw-r--r-- 1 1000 1000 36864 Mar 29 12:27 DATA/toybox2.db\r\n",
      "-rw-r--r-- 1 1000 1000 32768 Mar 29 11:02 DATA/Summary-Original-All-Working.db\r\n",
      "-rw-r--r-- 1 1000 1000 36864 Mar 29 10:56 DATA/20200329123021CleanCorona.db\r\n",
      "-rw-rw-r-- 1 1000 1000 32768 Mar 29 10:56 DATA/20200329105655CoronaData2.db\r\n",
      "-rw-r--r-- 1 1000 1000 36864 Mar 29 10:03 DATA/20200329105655CleanCorona.db\r\n",
      "-rw-rw-r-- 1 1000 1000 32768 Mar 29 10:03 DATA/20200329100343CoronaData2.db\r\n",
      "-rw-rw-r-- 1 1000 1000 32768 Mar 29 10:03 DATA/20200329100331CoronaData2.db\r\n",
      "-rw-rw-r-- 1 1000 1000 32768 Mar 29 10:02 DATA/20200329100239CoronaData2.db\r\n",
      "-rw-rw-r-- 1 1000 1000 32768 Mar 29 10:01 DATA/20200329100143CoronaData2.db\r\n",
      "-rw-rw-r-- 1 1000 1000 32768 Mar 29 10:01 DATA/20200329100135CoronaData2.db\r\n",
      "-rw-rw-r-- 1 1000 1000 36864 Mar 29 09:16 DATA/20200329091621CleanCorona.db\r\n",
      "-rw-rw-r-- 1 1000 1000 32768 Mar 29 09:16 DATA/20200329091621CoronaData2.db\r\n",
      "-rw-rw-r-- 1 1000 1000 36864 Mar 29 09:15 DATA/20200329091505CleanCorona.db\r\n",
      "-rw-rw-r-- 1 1000 1000 32768 Mar 29 09:15 DATA/20200329091505CoronaData2.db\r\n",
      "-rw-rw-r-- 1 1000 1000 36864 Mar 29 08:58 DATA/20200329085847CleanCorona.db\r\n",
      "-rw-rw-r-- 1 1000 1000 32768 Mar 29 08:58 DATA/20200329085847CoronaData2.db\r\n",
      "-rw-rw-r-- 1 1000 1000 36864 Mar 29 08:57 DATA/20200329085728CleanCorona.db\r\n",
      "-rw-rw-r-- 1 1000 1000 32768 Mar 29 08:57 DATA/20200329085728CoronaData2.db\r\n",
      "-rw-rw-r-- 1 1000 1000 36864 Mar 29 07:17 DATA/20200329071735CleanCorona.db\r\n",
      "-rw-rw-r-- 1 1000 1000 32768 Mar 29 07:17 DATA/20200329071735CoronaData2.db\r\n",
      "-rw-rw-r-- 1 1000 1000     0 Mar 29 06:43 DATA/20200329064325CoronaData2.db\r\n",
      "-rw-rw-r-- 1 1000 1000 32768 Mar 29 06:37 DATA/20200329063709CoronaData2.db\r\n",
      "-rw-rw-r-- 1 1000 1000 32768 Mar 28 15:49 DATA/20200328154932CoronaData2.db\r\n",
      "-rw-r--r-- 1 1000 1000 32768 Mar 28 14:10 DATA/Coronadata.db\r\n",
      "-rw-rw-r-- 1 1000 1000 32768 Mar 28 11:56 DATA/20200328115654CoronaData2.db\r\n",
      "-rw-rw-r-- 1 1000 1000 61440 Mar 28 11:39 DATA/20200328113923CoronaData2.db\r\n",
      "-rw-rw-r-- 1 1000 1000 61440 Mar 28 09:35 DATA/20200328093509CoronaData2.db\r\n",
      "-rw-rw-r-- 1 1000 1000 61440 Mar 28 09:07 DATA/20200328090713CoronaData2.db\r\n",
      "-rw-rw-r-- 1 1000 1000 32768 Mar 28 08:41 DATA/20200328084152Coronadata.db\r\n",
      "-rw-rw-r-- 1 1000 1000 32768 Mar 28 08:40 DATA/20200328084002Coronadata.db\r\n",
      "-rw-rw-r-- 1 1000 1000 61440 Mar 28 07:43 DATA/20200328074353CoronaData2.db\r\n",
      "-rw-rw-r-- 1 1000 1000 61440 Mar 28 05:37 DATA/20200328053717CoronaData2.db\r\n",
      "-rw-rw-r-- 1 1000 1000 61440 Mar 28 04:59 DATA/20200328045915CoronaData2.db\r\n",
      "-rw-rw-r-- 1 1000 1000 61440 Mar 28 03:33 DATA/20200328033300CoronaData2.db\r\n",
      "-rw-rw-r-- 1 1000 1000 61440 Mar 27 20:36 DATA/20200327203650CoronaData2.db\r\n",
      "-rw-rw-r-- 1 1000 1000 61440 Mar 27 20:25 DATA/20200327202507CoronaData2.db\r\n",
      "-rw-rw-r-- 1 1000 1000 61440 Mar 27 20:20 DATA/20200327202039CoronaData2.db\r\n",
      "-rw-r--r-- 1 1000 1000 61440 Mar 27 20:02 DATA/CoronaData-March18-2020-bak.db\r\n",
      "-rw-rw-r-- 1 1000 1000 61440 Mar 27 19:59 DATA/20200327195924CoronaData2.db\r\n",
      "-rw-rw-r-- 1 1000 1000 57344 Mar 27 18:08 DATA/20200327180836CoronaData2.db\r\n",
      "-rw-rw-r-- 1 1000 1000 57344 Mar 27 18:06 DATA/20200327180651CoronaData2.db\r\n",
      "-rw-r--r-- 1 1000 1000 81920 Mar 27 10:35 DATA/covid192bak.db\r\n",
      "-rw-rw-r-- 1 1000 1000 57344 Mar 27 10:32 DATA/20200327103205CoronaData2.db\r\n",
      "-rw-rw-r-- 1 1000 1000 57344 Mar 27 08:43 DATA/20200327084347CoronaData2.db\r\n",
      "-rw-rw-r-- 1 1000 1000 57344 Mar 27 07:45 DATA/20200327074539CoronaData2.db\r\n",
      "-rw-rw-r-- 1 1000 1000 57344 Mar 27 07:35 DATA/20200327073548CoronaData2.db\r\n",
      "-rw-rw-r-- 1 1000 1000 57344 Mar 27 05:22 DATA/20200327052237CoronaData2.db\r\n",
      "-rw-rw-r-- 1 1000 1000 57344 Mar 27 05:17 DATA/20200327051731CoronaData2.db\r\n",
      "-rw-rw-r-- 1 1000 1000 57344 Mar 26 23:05 DATA/20200326230506CoronaData2.db\r\n",
      "-rw-rw-r-- 1 1000 1000 57344 Mar 26 21:04 DATA/20200326210455CoronaData2.db\r\n",
      "-rw-rw-r-- 1 1000 1000 53248 Mar 26 19:31 DATA/20200326193132CoronaData2.db\r\n",
      "-rw-rw-r-- 1 1000 1000 53248 Mar 26 15:46 DATA/20200326154631CoronaData2.db\r\n",
      "-rw-rw-r-- 1 1000 1000 53248 Mar 26 15:22 DATA/20200326152257CoronaData2.db\r\n",
      "-rw-rw-r-- 1 1000 1000 53248 Mar 26 13:56 DATA/20200326135642CoronaData2.db\r\n",
      "-rw-rw-r-- 1 1000 1000 53248 Mar 26 13:46 DATA/20200326134659CoronaData2.db\r\n",
      "-rw-rw-r-- 1 1000 1000 53248 Mar 26 13:44 DATA/FIX-CoronaData2.db\r\n",
      "-rw-rw-r-- 1 1000 1000 53248 Mar 26 13:26 DATA/20200326132658CoronaData2.db\r\n",
      "-rw-rw-r-- 1 1000 1000 53248 Mar 26 13:20 DATA/20200326132009CoronaData2.db\r\n",
      "-rw-rw-r-- 1 1000 1000 53248 Mar 26 13:00 DATA/20200326130031CoronaData2.db\r\n",
      "-rw-r--r-- 1 1000 1000 53248 Mar 26 05:33 DATA/20200326053352CoronaData2.db\r\n",
      "-rw-r--r-- 1 1000 1000 53248 Mar 25 22:02 DATA/20200325220250CoronaData2.db\r\n",
      "-rw-r--r-- 1 1000 1000 53248 Mar 25 20:53 DATA/20200325205319CoronaData2.db\r\n",
      "-rw-r--r-- 1 1000 1000 53248 Mar 25 18:07 DATA/20200325180710CoronaData2.db\r\n",
      "-rw-r--r-- 1 1000 1000 53248 Mar 25 15:43 DATA/20200325154344CoronaData2.db\r\n",
      "-rw-r--r-- 1 1000 1000 53248 Mar 25 13:32 DATA/20200325133239CoronaData2.db\r\n",
      "-rw-r--r-- 1 1000 1000 53248 Mar 25 13:31 DATA/20200325133156CoronaData2.db\r\n",
      "-rw-r--r-- 1 1000 1000 49152 Mar 25 12:19 DATA/20200325121904CoronaData2.db\r\n",
      "-rw-r--r-- 1 1000 1000 49152 Mar 25 12:18 DATA/20200325121806CoronaData2.db\r\n",
      "-rw-r--r-- 1 1000 1000 49152 Mar 25 12:15 DATA/20200325121554CoronaData2.db\r\n",
      "-rw-r--r-- 1 1000 1000 49152 Mar 25 08:05 DATA/20200325080536CoronaData2.db\r\n",
      "-rw-r--r-- 1 1000 1000 49152 Mar 25 08:04 DATA/20200325080408CoronaData2.db\r\n",
      "-rw-r--r-- 1 1000 1000 49152 Mar 25 06:50 DATA/20200325065005CoronaData2.db\r\n",
      "-rw-r--r-- 1 1000 1000 49152 Mar 25 05:41 DATA/20200325054117CoronaData2.db\r\n",
      "-rw-r--r-- 1 1000 1000 40960 Mar 22 07:25 DATA/CoronaData-March17-2020-bak.db\r\n",
      "-rw-r--r-- 1 1000 1000 81920 Mar 21 19:19 DATA/Sat_21_Mar_2020_11_19_44_AM_GMT_covid192.db.db\r\n",
      "-rw-r--r-- 1 1000 1000 81920 Mar 19 10:25 DATA/covid192.db\r\n",
      "-rw-r--r-- 1 1000 1000 81920 Mar 19 10:21 DATA/Thu_19_Mar_2020_02_25_08_AM_GMT_covid192.db\r\n",
      "-rw-r--r-- 1 1000 1000 81920 Mar 19 10:14 DATA/Thu_19_Mar_2020_02_14_26_AM_GMT_covid192.db.db\r\n",
      "-rw-r--r-- 1 1000 1000 81920 Mar 19 10:14 DATA/Thu_19_Mar_2020_02_14_01_AM_GMT_.db\r\n",
      "-rw-r--r-- 1 1000 1000 28672 Mar 19 10:08 DATA/covid19.db\r\n"
     ]
    }
   ],
   "source": [
    "!ls -ant DATA/*.db"
   ]
  },
  {
   "cell_type": "code",
   "execution_count": 457,
   "metadata": {
    "scrolled": false
   },
   "outputs": [
    {
     "name": "stdout",
     "output_type": "stream",
     "text": [
      "1 08/03/2020 23:30:00 1583681400 5.56 537 21 5.56\n",
      "2 09/03/2020 04:30:00 1583699400 5.0 589 22 10.56\n",
      "3 10/03/2020 05:30:00 1583789400 25.0 708 27 35.56\n",
      "4 10/03/2020 23:35:00 1583854500 18.08 975 30 53.64\n",
      "5 11/03/2020 04:25:00 1583871900 4.83 1010 31 58.47\n",
      "6 11/03/2020 15:17:00 1583911020 10.87 1016 31 69.34\n",
      "7 11/03/2020 23:35:00 1583940900 8.3 1301 38 77.64\n",
      "8 12/03/2020 03:25:00 1583954700 3.83 1327 38 81.47\n",
      "9 12/03/2020 11:37:00 1583984220 8.2 1336 38 89.67\n",
      "10 12/03/2020 22:00:00 1584021600 10.38 1639 40 100.05\n",
      "11 13/03/2020 00:05:00 1584029100 2.08 1715 41 102.13\n",
      "12 13/03/2020 01:35:00 1584034500 1.5 1725 41 103.63\n",
      "13 13/03/2020 03:45:00 1584042300 2.17 1747 41 105.8\n",
      "14 13/03/2020 06:00:00 1584050400 2.25 1762 41 108.05\n",
      "15 13/03/2020 15:25:00 1584084300 9.42 1832 41 117.47\n",
      "16 13/03/2020 22:25:00 1584109500 7.0 2269 48 124.47\n",
      "17 14/03/2020 02:40:00 1584124800 4.25 2291 50 128.72\n",
      "18 14/03/2020 07:14:00 1584141240 4.57 2319 50 133.29\n",
      "19 14/03/2020 16:45:00 1584175500 9.52 2499 51 142.81\n",
      "20 14/03/2020 23:03:00 1584198180 6.3 2836 57 149.11\n",
      "21 15/03/2020 05:00:00 1584219600 5.95 2982 60 155.06\n",
      "22 15/03/2020 05:40:00 1584222000 0.67 2995 60 155.73\n",
      "23 15/03/2020 07:05:00 1584227100 1.42 3043 60 157.15\n",
      "24 15/03/2020 19:00:00 1584270000 11.92 3329 63 169.07\n",
      "25 15/03/2020 20:05:00 1584273900 1.08 3400 63 170.15\n",
      "26 15/03/2020 21:15:00 1584278100 1.17 3621 63 171.32\n",
      "27 15/03/2020 22:15:00 1584281700 1.0 3502 63 172.32\n",
      "28 16/03/2020 00:35:00 1584290100 2.33 3714 68 174.65\n",
      "29 16/03/2020 02:48:00 1584298080 2.22 3777 69 176.87\n",
      "30 16/03/2020 05:36:00 1584308160 2.8 3782 69 179.67\n",
      "31 16/03/2020 08:29:00 1584318540 2.88 3802 69 182.55\n",
      "32 16/03/2020 18:40:00 1584355200 10.18 4186 73 192.73\n",
      "33 16/03/2020 22:40:00 1584369600 4.0 4597 86 196.73\n",
      "34 17/03/2020 00:45:00 1584377100 2.08 4667 87 198.81\n",
      "35 17/03/2020 02:40:00 1584384000 1.92 4704 91 200.73\n",
      "36 17/03/2020 06:35:00 1584398100 3.92 4727 93 204.65\n",
      "37 17/03/2020 10:31:00 1584412260 3.93 4743 93 208.58\n",
      "38 17/03/2020 14:38:00 1584427080 4.12 4752 93 212.7\n",
      "39 17/03/2020 18:41:00 1584441660 4.05 5723 97 216.75\n",
      "40 17/03/2020 21:55:00 1584453300 3.23 6211 102 219.98\n",
      "41 17/03/2020 22:40:00 1584456000 0.75 6349 106 220.73\n",
      "42 18/03/2020 02:20:00 1584469200 3.67 6499 112 224.4\n",
      "43 18/03/2020 06:05:00 1584482700 3.75 6522 116 228.15\n",
      "44 18/03/2020 10:10:00 1584497400 4.08 6524 116 232.23\n",
      "45 18/03/2020 16:15:00 1584519300 6.08 7601 116 238.31\n",
      "46 18/03/2020 18:16:00 1584526560 2.02 7708 120 240.33\n",
      "47 18/03/2020 20:21:00 1584534060 2.08 8710 132 242.41\n",
      "48 18/03/2020 22:10:00 1584540600 1.82 8998 150 244.23\n",
      "49 19/03/2020 02:17:00 1584555420 4.12 9371 153 248.35\n",
      "50 19/03/2020 10:16:00 1584584160 7.98 9464 155 256.33\n",
      "51 19/03/2020 12:18:00 1584591480 2.03 9473 155 258.36\n",
      "52 19/03/2020 14:15:00 1584598500 1.95 9486 157 260.31\n",
      "53 19/03/2020 16:22:00 1584606120 2.12 10692 160 262.43\n",
      "54 19/03/2020 18:17:00 1584613020 1.92 11355 171 264.35\n",
      "55 19/03/2020 22:45:00 1584629100 4.47 13737 201 268.82\n",
      "56 20/03/2020 00:48:00 1584636480 2.05 13865 211 270.87\n",
      "57 20/03/2020 02:40:00 1584643200 1.87 14316 218 272.74\n",
      "58 20/03/2020 04:34:00 1584650040 1.9 14336 218 274.64\n",
      "59 20/03/2020 06:35:00 1584657300 2.02 14366 217 276.66\n",
      "60 20/03/2020 08:10:00 1584663000 1.58 14366 217 278.24\n",
      "61 20/03/2020 10:11:00 1584670260 2.02 14366 217 280.26\n",
      "62 20/03/2020 12:11:00 1584677460 2.0 14366 217 282.26\n",
      "63 20/03/2020 14:10:00 1584684600 1.98 14373 218 284.24\n",
      "64 20/03/2020 16:11:00 1584691860 2.02 16067 219 286.26\n",
      "65 20/03/2020 18:12:00 1584699120 2.02 16545 225 288.28\n",
      "66 20/03/2020 20:12:00 1584706320 2.0 18121 233 290.28\n",
      "67 20/03/2020 22:12:00 1584713520 2.0 18876 237 292.28\n",
      "68 21/03/2020 00:06:00 1584720360 1.9 19393 256 294.18\n",
      "69 21/03/2020 02:07:00 1584727620 2.02 19643 263 296.2\n",
      "70 21/03/2020 04:08:00 1584734880 2.02 19652 264 298.22\n",
      "71 21/03/2020 06:05:00 1584741900 1.95 19774 275 300.17\n",
      "72 21/03/2020 08:10:00 1584749400 2.08 19774 275 302.25\n",
      "73 21/03/2020 10:12:00 1584756720 2.03 19774 275 304.28\n",
      "74 21/03/2020 12:46:00 1584765960 2.57 19775 276 306.85\n",
      "75 21/03/2020 14:48:00 1584773280 2.03 19823 276 308.88\n",
      "76 21/03/2020 16:48:00 1584780480 2.0 22085 282 310.88\n",
      "77 21/03/2020 18:45:00 1584787500 1.95 22813 288 312.83\n",
      "78 21/03/2020 20:45:00 1584794700 2.0 24142 288 314.83\n",
      "79 21/03/2020 22:45:00 1584801900 2.0 23940 301 316.83\n",
      "80 22/03/2020 00:40:00 1584808800 1.92 26111 324 318.75\n",
      "81 22/03/2020 02:40:00 1584816000 2.0 26711 341 320.75\n",
      "82 22/03/2020 04:45:00 1584823500 2.08 26867 348 322.83\n",
      "83 22/03/2020 06:30:00 1584829800 1.75 26892 348 324.58\n",
      "84 22/03/2020 08:45:00 1584837900 2.25 26892 348 326.83\n",
      "85 22/03/2020 10:45:00 1584845100 2.0 26900 348 328.83\n",
      "86 22/03/2020 12:48:00 1584852480 2.05 26905 348 330.88\n",
      "87 22/03/2020 14:45:00 1584859500 1.95 27031 349 332.83\n",
      "88 22/03/2020 16:42:00 1584866520 1.95 30239 388 334.78\n",
      "89 22/03/2020 18:48:00 1584874080 2.1 38757 400 336.88\n",
      "90 22/03/2020 20:44:00 1584881040 1.93 32356 414 338.81\n",
      "91 22/03/2020 21:41:00 1584884460 0.95 32356 414 339.76\n",
      "92 23/03/2020 00:44:00 1584895440 3.05 33346 414 342.81\n",
      "93 23/03/2020 02:37:00 1584902220 1.88 33546 419 344.69\n",
      "94 23/03/2020 03:55:00 1584906900 1.3 34717 452 345.99\n",
      "95 23/03/2020 06:45:00 1584917100 2.83 35060 457 348.82\n",
      "96 23/03/2020 08:47:00 1584924420 2.03 35070 458 350.85\n",
      "97 23/03/2020 10:47:00 1584931620 2.0 35070 458 352.85\n",
      "98 23/03/2020 12:46:00 1584938760 1.98 35075 458 354.83\n",
      "99 23/03/2020 14:45:00 1584945900 1.98 35179 459 356.81\n",
      "100 23/03/2020 16:45:00 1584953100 2.0 40773 479 358.81\n",
      "101 23/03/2020 18:46:00 1584960360 2.02 41569 504 360.83\n",
      "102 23/03/2020 20:47:00 1584967620 2.02 42443 517 362.85\n",
      "103 23/03/2020 22:31:00 1584973860 1.73 43449 545 364.58\n",
      "104 24/03/2020 00:47:00 1584982020 2.27 43718 552 366.85\n",
      "105 24/03/2020 02:33:00 1584988380 1.77 43734 553 368.62\n",
      "106 24/03/2020 04:46:00 1584996360 2.22 46145 582 370.84\n",
      "107 24/03/2020 06:43:00 1585003380 1.95 46145 582 372.79\n",
      "108 24/03/2020 08:48:00 1585010880 2.08 46145 582 374.87\n",
      "109 24/03/2020 10:47:00 1585018020 1.98 46168 582 376.85\n",
      "110 24/03/2020 12:47:00 1585025220 2.0 46168 582 378.85\n",
      "111 24/03/2020 14:47:00 1585032420 2.0 46274 588 380.85\n",
      "112 24/03/2020 16:47:00 1585039620 2.0 49594 622 382.85\n",
      "113 24/03/2020 18:45:00 1585046700 1.97 50982 655 384.82\n",
      "114 24/03/2020 20:42:00 1585053720 1.95 52921 684 386.77\n",
      "115 24/03/2020 22:48:00 1585061280 2.1 53205 687 388.87\n",
      "116 25/03/2020 00:29:00 1585067340 1.68 53655 698 390.55\n",
      "117 25/03/2020 02:44:00 1585075440 2.25 54823 778 392.8\n",
      "118 25/03/2020 04:46:00 1585082760 2.03 54867 782 394.83\n",
      "119 25/03/2020 06:47:00 1585090020 2.02 54916 784 396.85\n",
      "120 25/03/2020 08:48:00 1585097280 2.02 54935 784 398.87\n",
      "121 25/03/2020 10:43:00 1585104180 1.92 54941 784 400.79\n",
      "122 25/03/2020 12:48:00 1585111680 2.08 54979 785 402.87\n",
      "123 25/03/2020 14:48:00 1585118880 2.0 55081 785 404.87\n",
      "124 25/03/2020 16:48:00 1585126080 2.0 60642 817 406.87\n",
      "125 25/03/2020 18:48:00 1585133280 2.0 62364 878 408.87\n",
      "126 25/03/2020 20:33:00 1585139580 1.75 64765 910 410.62\n",
      "127 25/03/2020 22:44:00 1585147440 2.18 65527 928 412.8\n",
      "128 26/03/2020 00:34:00 1585154040 1.83 65797 935 414.63\n",
      "129 26/03/2020 02:43:00 1585161780 2.15 66741 963 416.78\n",
      "130 26/03/2020 05:24:00 1585171440 2.68 68472 1032 419.46\n",
      "131 26/03/2020 07:03:00 1585177380 1.65 68489 1032 421.11\n",
      "132 26/03/2020 09:02:00 1585184520 1.98 68489 1032 423.09\n",
      "133 26/03/2020 11:02:00 1585191720 2.0 68581 1036 425.09\n",
      "134 26/03/2020 13:01:00 1585198860 1.98 68594 1036 427.07\n",
      "135 26/03/2020 14:52:00 1585205520 1.85 68905 1037 428.92\n",
      "136 26/03/2020 17:02:00 1585213320 2.17 75069 1080 431.09\n",
      "137 26/03/2020 19:00:00 1585220400 1.97 79082 1143 433.06\n",
      "138 26/03/2020 21:01:00 1585227660 2.02 81946 1177 435.08\n",
      "139 26/03/2020 23:02:00 1585234920 2.02 83206 1201 437.1\n",
      "140 27/03/2020 01:00:00 1585242000 1.97 85280 1293 439.07\n",
      "141 27/03/2020 03:01:00 1585249260 2.02 85520 1297 441.09\n",
      "142 27/03/2020 04:36:00 1585254960 1.58 85594 1300 442.67\n",
      "143 27/03/2020 07:33:00 1585265580 2.95 85612 1301 445.62\n",
      "144 27/03/2020 09:32:00 1585272720 1.98 85612 1301 447.6\n",
      "145 27/03/2020 11:31:00 1585279860 1.98 85749 1304 449.58\n",
      "146 27/03/2020 13:32:00 1585287120 2.02 85755 1304 451.6\n",
      "147 27/03/2020 15:33:00 1585294380 2.02 86548 1321 453.62\n",
      "148 27/03/2020 17:32:00 1585301520 1.98 94425 1429 455.6\n",
      "149 27/03/2020 19:33:00 1585308780 2.02 98180 1513 457.62\n",
      "150 27/03/2020 21:33:00 1585315980 2.0 100514 1546 459.62\n",
      "151 27/03/2020 23:33:00 1585323180 2.0 102325 1591 461.62\n",
      "152 28/03/2020 01:32:00 1585330320 1.98 104126 1692 463.6\n",
      "153 28/03/2020 03:34:00 1585337640 2.03 104205 1704 465.63\n",
      "154 28/03/2020 05:35:00 1585344900 2.02 104205 1704 467.65\n",
      "155 28/03/2020 07:35:00 1585352100 2.0 104256 1704 469.65\n",
      "156 28/03/2020 09:35:00 1585359300 2.0 104256 1704 471.65\n",
      "157 28/03/2020 11:40:00 1585366800 2.08 104256 1704 473.73\n",
      "158 28/03/2020 13:36:00 1585373760 1.93 104277 1704 475.66\n",
      "159 28/03/2020 15:45:00 1585381500 2.15 105726 1730 477.81\n",
      "160 28/03/2020 17:45:00 1585388700 2.0 116050 1937 479.81\n",
      "161 28/03/2020 19:43:00 1585395780 1.97 118592 1979 481.78\n",
      "162 28/03/2020 21:44:00 1585403040 2.02 120204 1997 483.8\n",
      "163 28/03/2020 23:43:00 1585410180 1.98 123311 2211 485.78\n",
      "164 29/03/2020 01:46:00 1585417560 2.05 123578 2221 487.83\n",
      "165 29/03/2020 03:46:00 1585424760 2.0 123750 2227 489.83\n",
      "166 29/03/2020 05:48:00 1585432080 2.03 123774 2228 491.86\n",
      "167 29/03/2020 07:41:00 1585438860 1.88 123776 2229 493.74\n",
      "168 29/03/2020 09:45:00 1585446300 2.07 123781 2229 495.81\n",
      "169 29/03/2020 11:44:00 1585453440 1.98 123781 2229 497.79\n",
      "170 29/03/2020 13:46:00 1585460760 2.03 123828 2229 499.82\n",
      "171 29/03/2020 15:47:00 1585468020 2.02 125099 2238 501.84\n",
      "172 29/03/2020 17:49:00 1585475340 2.03 133146 2363 503.87\n",
      "173 29/03/2020 19:47:00 1585482420 1.97 137943 2431 505.84\n",
      "174 29/03/2020 21:48:00 1585489680 2.02 139904 2449 507.86\n",
      "175 29/03/2020 23:49:00 1585496940 2.02 141781 2471 509.88\n",
      "176 30/03/2020 01:44:00 1585503840 1.92 142004 2484 511.8\n",
      "177 30/03/2020 03:46:00 1585511160 2.03 142735 2488 513.83\n",
      "178 30/03/2020 06:46:00 1585521960 3.0 142735 2488 516.83\n",
      "179 30/03/2020 08:50:00 1585529400 2.07 142735 2489 518.9\n",
      "180 30/03/2020 10:50:00 1585536600 2.0 142746 2489 520.9\n",
      "181 30/03/2020 12:50:00 1585543800 2.0 142793 2490 522.9\n",
      "182 30/03/2020 14:50:00 1585551000 2.0 144410 2600 524.9\n",
      "183 30/03/2020 16:50:00 1585558200 2.0 145542 2616 526.9\n",
      "184 30/03/2020 18:50:00 1585565400 2.0 156565 2870 528.9\n",
      "185 30/03/2020 20:50:00 1585572600 2.0 159689 2951 530.9\n",
      "186 30/03/2020 22:50:00 1585579800 2.0 161358 2974 532.9\n",
      "187 31/03/2020 00:50:00 1585587000 2.0 163479 3148 534.9\n",
      "188 31/03/2020 02:50:00 1585594200 2.0 164253 3165 536.9\n",
      "189 31/03/2020 04:50:00 1585601400 2.0 164253 3167 538.9\n",
      "190 31/03/2020 06:50:00 1585608600 2.0 164323 3170 540.9\n",
      "191 31/03/2020 08:42:00 1585615320 1.87 164359 3173 542.77\n",
      "192 31/03/2020 10:49:00 1585622940 2.12 164359 3173 544.89\n",
      "193 31/03/2020 12:49:00 1585630140 2.0 164435 3175 546.89\n",
      "194 31/03/2020 14:49:00 1585637340 2.0 165392 3182 548.89\n",
      "195 31/03/2020 16:49:00 1585644540 2.0 175669 3424 550.89\n",
      "196 31/03/2020 18:49:00 1585651740 2.0 180340 3573 552.89\n",
      "197 31/03/2020 20:49:00 1585658940 2.0 186046 3807 554.89\n",
      "198 31/03/2020 22:49:00 1585666140 2.0 187729 3867 556.89\n",
      "199 01/04/2020 02:49:00 1585680540 4.0 188530 3889 560.89\n",
      "200 01/04/2020 04:49:00 1585687740 2.0 188578 4054 562.89\n",
      "201 01/04/2020 06:49:00 1585694940 2.0 188592 4055 564.89\n",
      "202 01/04/2020 08:49:00 1585702140 2.0 188592 4056 566.89\n",
      "203 01/04/2020 10:49:00 1585709340 2.0 188639 4059 568.89\n",
      "204 01/04/2020 12:49:00 1585716540 2.0 188647 4059 570.89\n",
      "205 01/04/2020 14:49:00 1585723740 2.0 189711 4099 572.89\n",
      "206 01/04/2020 16:49:00 1585730940 2.0 200289 4394 574.89\n",
      "207 01/04/2020 18:49:00 1585738140 2.0 205438 4528 576.89\n",
      "208 01/04/2020 20:49:00 1585745340 2.0 211143 4713 578.89\n",
      "209 01/04/2020 22:49:00 1585752540 2.0 212980 4759 580.89\n",
      "210 02/04/2020 00:49:00 1585759740 2.0 215003 5102 582.89\n",
      "211 02/04/2020 02:49:00 1585766940 2.0 215175 5110 584.89\n",
      "212 02/04/2020 04:49:00 1585774140 2.0 215300 5110 586.89\n",
      "213 02/04/2020 06:49:00 1585781340 2.0 215324 5112 588.89\n",
      "214 02/04/2020 08:49:00 1585788540 2.0 215344 5112 590.89\n",
      "215 02/04/2020 10:49:00 1585795740 2.0 215344 5112 592.89\n",
      "216 02/04/2020 12:49:00 1585802940 2.0 216722 5140 594.89\n",
      "217 02/04/2020 14:49:00 1585810140 2.0 219832 5227 596.89\n",
      "218 02/04/2020 16:49:00 1585817340 2.0 222658 5356 598.89\n",
      "219 02/04/2020 18:49:00 1585824540 2.0 232899 5665 600.89\n",
      "220 02/04/2020 20:49:00 1585831740 2.0 243298 5883 602.89\n",
      "221 02/04/2020 22:19:00 1585837140 1.5 244230 5883 604.39\n",
      "222 03/04/2020 01:20:00 1585848000 3.02 244877 6070 607.41\n",
      "223 03/04/2020 01:36:00 1585848960 0.27 245066 6075 607.68\n",
      "224 03/04/2020 03:20:00 1585855200 1.73 245088 6075 609.41\n",
      "225 03/04/2020 05:20:00 1585862400 2.0 245341 6095 611.41\n",
      "226 03/04/2020 07:20:00 1585869600 2.0 245373 6095 613.41\n",
      "227 03/04/2020 09:20:00 1585876800 2.0 245373 6095 615.41\n",
      "228 03/04/2020 11:20:00 1585884000 2.0 245380 6095 617.41\n",
      "229 03/04/2020 13:20:00 1585891200 2.0 245442 6098 619.41\n",
      "230 03/04/2020 14:49:00 1585896540 1.48 245442 6099 620.89\n",
      "231 03/04/2020 16:49:00 1585903740 2.0 259750 6603 622.89\n",
      "232 03/04/2020 18:49:00 1585910940 2.0 266279 6803 624.89\n",
      "233 03/04/2020 20:49:00 1585918140 2.0 272614 6988 626.89\n",
      "234 03/04/2020 22:49:00 1585925340 2.0 275802 7087 628.89\n",
      "235 04/04/2020 00:49:00 1585932540 2.0 276965 7391 630.89\n",
      "236 04/04/2020 02:49:00 1585939740 2.0 277161 7392 632.89\n"
     ]
    }
   ],
   "source": [
    "import datetime\n",
    "import calendar\n",
    "import time\n",
    "from M2D import *\n",
    "import sqlite3\n",
    "filein = open(\"all-data.data\",'w')\n",
    "arrangedDdata = ''\n",
    "arrangedDdata=arrangedDdata+\"date_time,cases\\n\"\n",
    "conn=sqlite3.connect(\"DATA/CoronaData2.db\")\n",
    "c= conn.cursor()\n",
    "for row in c.execute('SELECT rowid,* from CORONA'):\n",
    "    row =str(row)\n",
    "    row=row.replace(\",\",\"\")\n",
    "    row = row.split(\" \")\n",
    "    Month = row[1]\n",
    "    month = Month2Num(Month[1:])\n",
    "    OUT = row[2]+\"/\"+month+\"/\"+row[3]+\" \"+row[5]+\" \"+row[10]+\" \"+row[14]\n",
    "    # Result 03/12/2020 03:25:00 1327 38\n",
    "    arrangedDdata = arrangedDdata+OUT+\"\\n\"\n",
    "conn.close() \n",
    "\n",
    "text =arrangedDdata.split(\"\\n\")\n",
    "text= text[1:-1]\n",
    "EPOCHa=[]\n",
    "Scnt=0\n",
    "acc=0\n",
    "SPANS = []\n",
    "for line in text:\n",
    "    #print(line)\n",
    "    #line=str(LINE)\n",
    "    line = line.split(\" \")\n",
    "    #print (str(line[1]+'/'+line[0]+'/'+line[2][:-3]))\n",
    "    dt = time.strftime(line[0]+' '+line[1])\n",
    "    \n",
    "    dt_ti = dt+\":00\"\n",
    "    #dt_ti =dt_ti.replace(\"\\n\",\"\")\n",
    "    #print (line)\n",
    "    #print (dt_ti)\n",
    "    #03-16-2020 02:48,3777\n",
    "    pattern = '%d/%m/%Y %H:%M:%S'\n",
    "    #pattern = '%m/%d/%Y %H:%M:%S'\n",
    "    #dt_ti = '08/03/2020 23:30:00'\n",
    "    #print (dt_ti)\n",
    "    #datetime.strptime('2012-11-14 14:32:30', '%Y-%m-%d %H:%M:%S')\n",
    "    \n",
    "    epochs = int(time.mktime(time.strptime(dt_ti, pattern)))\n",
    "    #print (dt_ti, epochs)\n",
    "    \n",
    "    if Scnt>1:SPANS.append(span(int(last),int(epochs)))\n",
    "    if Scnt==0:last=1583661400  \n",
    "    SPan = span(int(last),int(epochs)) \n",
    "    acc=acc+float(SPan)\n",
    "    acc_in = round(acc,3)\n",
    "    data = dt_ti+\" \"+str(epochs)+\" \"+str(SPan)+\" \"+line[2]+\" \"+line[3]+\" \"+str(acc_in)\n",
    "    \n",
    "    \n",
    "    entry = str(data)\n",
    "    Scnt=Scnt+1\n",
    "    \n",
    "    last = int(epochs)    \n",
    "    #print (span(int(last),int(epochs)))\n",
    "    EPOCHa.append(data)\n",
    "    \n",
    "cnt=0    \n",
    "for lines in EPOCHa:\n",
    "    cnt=cnt+1\n",
    "    print (cnt,lines)\n",
    "    filein.write(lines+\"\\n\")\n",
    "filein.close()    \n",
    "#08/03/2020 23:30:00 1583681400 -274.68\n",
    "#09/03/2020 04:30:00 1583699400 5.0    "
   ]
  },
  {
   "cell_type": "code",
   "execution_count": 458,
   "metadata": {},
   "outputs": [
    {
     "name": "stdout",
     "output_type": "stream",
     "text": [
      "DATA/04/04/2020-11:27:45CleanCorona.db\n",
      "mv: cannot stat 'DATA/CleanCorona.db,': No such file or directory\n"
     ]
    }
   ],
   "source": [
    "import time\n",
    "\n",
    "dt = time.strftime('%m/%d/%Y-%H:%M:%S')\n",
    "file = \"DATA/\"+dt+\"CleanCorona.db\"\n",
    "print (file)\n",
    "!mv DATA/CleanCorona.db, file"
   ]
  },
  {
   "cell_type": "code",
   "execution_count": 459,
   "metadata": {},
   "outputs": [
    {
     "name": "stdout",
     "output_type": "stream",
     "text": [
      "(1, '08/03/2020 23:30:00 1583681400 5.56 537 21')\n",
      "(2, '09/03/2020 04:30:00 1583699400 5.0 589 22')\n",
      "(3, '10/03/2020 05:30:00 1583789400 25.0 708 27')\n",
      "(4, '10/03/2020 23:35:00 1583854500 18.08 975 30')\n",
      "(5, '11/03/2020 04:25:00 1583871900 4.83 1010 31')\n",
      "(6, '11/03/2020 15:17:00 1583911020 10.87 1016 31')\n",
      "(7, '11/03/2020 23:35:00 1583940900 8.3 1301 38')\n",
      "(8, '12/03/2020 03:25:00 1583954700 3.83 1327 38')\n",
      "(9, '12/03/2020 11:37:00 1583984220 8.2 1336 38')\n",
      "(10, '12/03/2020 22:00:00 1584021600 10.38 1639 40')\n",
      "(11, '13/03/2020 00:05:00 1584029100 2.08 1715 41')\n",
      "(12, '13/03/2020 01:35:00 1584034500 1.5 1725 41')\n",
      "(13, '13/03/2020 03:45:00 1584042300 2.17 1747 41')\n",
      "(14, '13/03/2020 06:00:00 1584050400 2.25 1762 41')\n",
      "(15, '13/03/2020 15:25:00 1584084300 9.42 1832 41')\n",
      "(16, '13/03/2020 22:25:00 1584109500 7.0 2269 48')\n",
      "(17, '14/03/2020 02:40:00 1584124800 4.25 2291 50')\n",
      "(18, '14/03/2020 07:14:00 1584141240 4.57 2319 50')\n",
      "(19, '14/03/2020 16:45:00 1584175500 9.52 2499 51')\n",
      "(20, '14/03/2020 23:03:00 1584198180 6.3 2836 57')\n",
      "(21, '15/03/2020 05:00:00 1584219600 5.95 2982 60')\n",
      "(22, '15/03/2020 05:40:00 1584222000 0.67 2995 60')\n",
      "(23, '15/03/2020 07:05:00 1584227100 1.42 3043 60')\n",
      "(24, '15/03/2020 19:00:00 1584270000 11.92 3329 63')\n",
      "(25, '15/03/2020 20:05:00 1584273900 1.08 3400 63')\n",
      "(26, '15/03/2020 21:15:00 1584278100 1.17 3621 63')\n",
      "(27, '15/03/2020 22:15:00 1584281700 1.0 3502 63')\n",
      "(28, '16/03/2020 00:35:00 1584290100 2.33 3714 68')\n",
      "(29, '16/03/2020 02:48:00 1584298080 2.22 3777 69')\n",
      "(30, '16/03/2020 05:36:00 1584308160 2.8 3782 69')\n",
      "(31, '16/03/2020 08:29:00 1584318540 2.88 3802 69')\n",
      "(32, '16/03/2020 18:40:00 1584355200 10.18 4186 73')\n",
      "(33, '16/03/2020 22:40:00 1584369600 4.0 4597 86')\n",
      "(34, '17/03/2020 00:45:00 1584377100 2.08 4667 87')\n",
      "(35, '17/03/2020 02:40:00 1584384000 1.92 4704 91')\n",
      "(36, '17/03/2020 06:35:00 1584398100 3.92 4727 93')\n",
      "(37, '17/03/2020 10:31:00 1584412260 3.93 4743 93')\n",
      "(38, '17/03/2020 14:38:00 1584427080 4.12 4752 93')\n",
      "(39, '17/03/2020 18:41:00 1584441660 4.05 5723 97')\n",
      "(40, '17/03/2020 21:55:00 1584453300 3.23 6211 102')\n",
      "(41, '17/03/2020 22:40:00 1584456000 0.75 6349 106')\n",
      "(42, '18/03/2020 02:20:00 1584469200 3.67 6499 112')\n",
      "(43, '18/03/2020 06:05:00 1584482700 3.75 6522 116')\n",
      "(44, '18/03/2020 10:10:00 1584497400 4.08 6524 116')\n",
      "(45, '18/03/2020 16:15:00 1584519300 6.08 7601 116')\n",
      "(46, '18/03/2020 18:16:00 1584526560 2.02 7708 120')\n",
      "(47, '18/03/2020 20:21:00 1584534060 2.08 8710 132')\n",
      "(48, '18/03/2020 22:10:00 1584540600 1.82 8998 150')\n",
      "(49, '19/03/2020 02:17:00 1584555420 4.12 9371 153')\n",
      "(50, '19/03/2020 10:16:00 1584584160 7.98 9464 155')\n",
      "(51, '19/03/2020 12:18:00 1584591480 2.03 9473 155')\n",
      "(52, '19/03/2020 14:15:00 1584598500 1.95 9486 157')\n",
      "(53, '19/03/2020 16:22:00 1584606120 2.12 10692 160')\n",
      "(54, '19/03/2020 18:17:00 1584613020 1.92 11355 171')\n",
      "(55, '19/03/2020 22:45:00 1584629100 4.47 13737 201')\n",
      "(56, '20/03/2020 00:48:00 1584636480 2.05 13865 211')\n",
      "(57, '20/03/2020 02:40:00 1584643200 1.87 14316 218')\n",
      "(58, '20/03/2020 04:34:00 1584650040 1.9 14336 218')\n",
      "(59, '20/03/2020 06:35:00 1584657300 2.02 14366 217')\n",
      "(60, '20/03/2020 08:10:00 1584663000 1.58 14366 217')\n",
      "(61, '20/03/2020 10:11:00 1584670260 2.02 14366 217')\n",
      "(62, '20/03/2020 12:11:00 1584677460 2.0 14366 217')\n",
      "(63, '20/03/2020 14:10:00 1584684600 1.98 14373 218')\n",
      "(64, '20/03/2020 16:11:00 1584691860 2.02 16067 219')\n",
      "(65, '20/03/2020 18:12:00 1584699120 2.02 16545 225')\n",
      "(66, '20/03/2020 20:12:00 1584706320 2.0 18121 233')\n",
      "(67, '20/03/2020 22:12:00 1584713520 2.0 18876 237')\n",
      "(68, '21/03/2020 00:06:00 1584720360 1.9 19393 256')\n",
      "(69, '21/03/2020 02:07:00 1584727620 2.02 19643 263')\n",
      "(70, '21/03/2020 04:08:00 1584734880 2.02 19652 264')\n",
      "(71, '21/03/2020 06:05:00 1584741900 1.95 19774 275')\n",
      "(72, '21/03/2020 08:10:00 1584749400 2.08 19774 275')\n",
      "(73, '21/03/2020 10:12:00 1584756720 2.03 19774 275')\n",
      "(74, '21/03/2020 12:46:00 1584765960 2.57 19775 276')\n",
      "(75, '21/03/2020 14:48:00 1584773280 2.03 19823 276')\n",
      "(76, '21/03/2020 16:48:00 1584780480 2.0 22085 282')\n",
      "(77, '21/03/2020 18:45:00 1584787500 1.95 22813 288')\n",
      "(78, '21/03/2020 20:45:00 1584794700 2.0 24142 288')\n",
      "(79, '21/03/2020 22:45:00 1584801900 2.0 23940 301')\n",
      "(80, '22/03/2020 00:40:00 1584808800 1.92 26111 324')\n",
      "(81, '22/03/2020 02:40:00 1584816000 2.0 26711 341')\n",
      "(82, '22/03/2020 04:45:00 1584823500 2.08 26867 348')\n",
      "(83, '22/03/2020 06:30:00 1584829800 1.75 26892 348')\n",
      "(84, '22/03/2020 08:45:00 1584837900 2.25 26892 348')\n",
      "(85, '22/03/2020 10:45:00 1584845100 2.0 26900 348')\n",
      "(86, '22/03/2020 12:48:00 1584852480 2.05 26905 348')\n",
      "(87, '22/03/2020 14:45:00 1584859500 1.95 27031 349')\n",
      "(88, '22/03/2020 16:42:00 1584866520 1.95 30239 388')\n",
      "(89, '22/03/2020 18:48:00 1584874080 2.1 38757 400')\n",
      "(90, '22/03/2020 20:44:00 1584881040 1.93 32356 414')\n",
      "(91, '22/03/2020 21:41:00 1584884460 0.95 32356 414')\n",
      "(92, '23/03/2020 00:44:00 1584895440 3.05 33346 414')\n",
      "(93, '23/03/2020 02:37:00 1584902220 1.88 33546 419')\n",
      "(94, '23/03/2020 03:55:00 1584906900 1.3 34717 452')\n",
      "(95, '23/03/2020 06:45:00 1584917100 2.83 35060 457')\n",
      "(96, '23/03/2020 08:47:00 1584924420 2.03 35070 458')\n",
      "(97, '23/03/2020 10:47:00 1584931620 2.0 35070 458')\n",
      "(98, '23/03/2020 12:46:00 1584938760 1.98 35075 458')\n",
      "(99, '23/03/2020 14:45:00 1584945900 1.98 35179 459')\n",
      "(100, '23/03/2020 16:45:00 1584953100 2.0 40773 479')\n",
      "(101, '23/03/2020 18:46:00 1584960360 2.02 41569 504')\n",
      "(102, '23/03/2020 20:47:00 1584967620 2.02 42443 517')\n",
      "(103, '23/03/2020 22:31:00 1584973860 1.73 43449 545')\n",
      "(104, '24/03/2020 00:47:00 1584982020 2.27 43718 552')\n",
      "(105, '24/03/2020 02:33:00 1584988380 1.77 43734 553')\n",
      "(106, '24/03/2020 04:46:00 1584996360 2.22 46145 582')\n",
      "(107, '24/03/2020 06:43:00 1585003380 1.95 46145 582')\n",
      "(108, '24/03/2020 08:48:00 1585010880 2.08 46145 582')\n",
      "(109, '24/03/2020 10:47:00 1585018020 1.98 46168 582')\n",
      "(110, '24/03/2020 12:47:00 1585025220 2.0 46168 582')\n",
      "(111, '24/03/2020 14:47:00 1585032420 2.0 46274 588')\n",
      "(112, '24/03/2020 16:47:00 1585039620 2.0 49594 622')\n",
      "(113, '24/03/2020 18:45:00 1585046700 1.97 50982 655')\n",
      "(114, '24/03/2020 20:42:00 1585053720 1.95 52921 684')\n",
      "(115, '24/03/2020 22:48:00 1585061280 2.1 53205 687')\n",
      "(116, '25/03/2020 00:29:00 1585067340 1.68 53655 698')\n",
      "(117, '25/03/2020 02:44:00 1585075440 2.25 54823 778')\n",
      "(118, '25/03/2020 04:46:00 1585082760 2.03 54867 782')\n",
      "(119, '25/03/2020 06:47:00 1585090020 2.02 54916 784')\n",
      "(120, '25/03/2020 08:48:00 1585097280 2.02 54935 784')\n",
      "(121, '25/03/2020 10:43:00 1585104180 1.92 54941 784')\n",
      "(122, '25/03/2020 12:48:00 1585111680 2.08 54979 785')\n",
      "(123, '25/03/2020 14:48:00 1585118880 2.0 55081 785')\n",
      "(124, '25/03/2020 16:48:00 1585126080 2.0 60642 817')\n",
      "(125, '25/03/2020 18:48:00 1585133280 2.0 62364 878')\n",
      "(126, '25/03/2020 20:33:00 1585139580 1.75 64765 910')\n",
      "(127, '25/03/2020 22:44:00 1585147440 2.18 65527 928')\n",
      "(128, '26/03/2020 00:34:00 1585154040 1.83 65797 935')\n",
      "(129, '26/03/2020 02:43:00 1585161780 2.15 66741 963')\n",
      "(130, '26/03/2020 05:24:00 1585171440 2.68 68472 1032')\n",
      "(131, '26/03/2020 07:03:00 1585177380 1.65 68489 1032')\n",
      "(132, '26/03/2020 09:02:00 1585184520 1.98 68489 1032')\n",
      "(133, '26/03/2020 11:02:00 1585191720 2.0 68581 1036')\n",
      "(134, '26/03/2020 13:01:00 1585198860 1.98 68594 1036')\n",
      "(135, '26/03/2020 14:52:00 1585205520 1.85 68905 1037')\n",
      "(136, '26/03/2020 17:02:00 1585213320 2.17 75069 1080')\n",
      "(137, '26/03/2020 19:00:00 1585220400 1.97 79082 1143')\n",
      "(138, '26/03/2020 21:01:00 1585227660 2.02 81946 1177')\n",
      "(139, '26/03/2020 23:02:00 1585234920 2.02 83206 1201')\n",
      "(140, '27/03/2020 01:00:00 1585242000 1.97 85280 1293')\n",
      "(141, '27/03/2020 03:01:00 1585249260 2.02 85520 1297')\n",
      "(142, '27/03/2020 04:36:00 1585254960 1.58 85594 1300')\n",
      "(143, '27/03/2020 07:33:00 1585265580 2.95 85612 1301')\n",
      "(144, '27/03/2020 09:32:00 1585272720 1.98 85612 1301')\n",
      "(145, '27/03/2020 11:31:00 1585279860 1.98 85749 1304')\n",
      "(146, '27/03/2020 13:32:00 1585287120 2.02 85755 1304')\n",
      "(147, '27/03/2020 15:33:00 1585294380 2.02 86548 1321')\n",
      "(148, '27/03/2020 17:32:00 1585301520 1.98 94425 1429')\n",
      "(149, '27/03/2020 19:33:00 1585308780 2.02 98180 1513')\n",
      "(150, '27/03/2020 21:33:00 1585315980 2.0 100514 1546')\n",
      "(151, '27/03/2020 23:33:00 1585323180 2.0 102325 1591')\n",
      "(152, '28/03/2020 01:32:00 1585330320 1.98 104126 1692')\n",
      "(153, '28/03/2020 03:34:00 1585337640 2.03 104205 1704')\n",
      "(154, '28/03/2020 05:35:00 1585344900 2.02 104205 1704')\n",
      "(155, '28/03/2020 07:35:00 1585352100 2.0 104256 1704')\n",
      "(156, '28/03/2020 09:35:00 1585359300 2.0 104256 1704')\n",
      "(157, '28/03/2020 11:40:00 1585366800 2.08 104256 1704')\n",
      "(158, '28/03/2020 13:36:00 1585373760 1.93 104277 1704')\n",
      "(159, '28/03/2020 15:45:00 1585381500 2.15 105726 1730')\n",
      "(160, '28/03/2020 17:45:00 1585388700 2.0 116050 1937')\n",
      "(161, '28/03/2020 19:43:00 1585395780 1.97 118592 1979')\n",
      "(162, '28/03/2020 21:44:00 1585403040 2.02 120204 1997')\n",
      "(163, '28/03/2020 23:43:00 1585410180 1.98 123311 2211')\n",
      "(164, '29/03/2020 01:46:00 1585417560 2.05 123578 2221')\n",
      "(165, '29/03/2020 03:46:00 1585424760 2.0 123750 2227')\n",
      "(166, '29/03/2020 05:48:00 1585432080 2.03 123774 2228')\n",
      "(167, '29/03/2020 07:41:00 1585438860 1.88 123776 2229')\n",
      "(168, '29/03/2020 09:45:00 1585446300 2.07 123781 2229')\n",
      "(169, '29/03/2020 11:44:00 1585453440 1.98 123781 2229')\n",
      "(170, '29/03/2020 13:46:00 1585460760 2.03 123828 2229')\n",
      "(171, '29/03/2020 15:47:00 1585468020 2.02 125099 2238')\n",
      "(172, '29/03/2020 17:49:00 1585475340 2.03 133146 2363')\n",
      "(173, '29/03/2020 19:47:00 1585482420 1.97 137943 2431')\n",
      "(174, '29/03/2020 21:48:00 1585489680 2.02 139904 2449')\n",
      "(175, '29/03/2020 23:49:00 1585496940 2.02 141781 2471')\n",
      "(176, '30/03/2020 01:44:00 1585503840 1.92 142004 2484')\n",
      "(177, '30/03/2020 03:46:00 1585511160 2.03 142735 2488')\n",
      "(178, '30/03/2020 06:46:00 1585521960 3.0 142735 2488')\n",
      "(179, '30/03/2020 08:50:00 1585529400 2.07 142735 2489')\n",
      "(180, '30/03/2020 10:50:00 1585536600 2.0 142746 2489')\n",
      "(181, '30/03/2020 12:50:00 1585543800 2.0 142793 2490')\n",
      "(182, '30/03/2020 14:50:00 1585551000 2.0 144410 2600')\n",
      "(183, '30/03/2020 16:50:00 1585558200 2.0 145542 2616')\n",
      "(184, '30/03/2020 18:50:00 1585565400 2.0 156565 2870')\n",
      "(185, '30/03/2020 20:50:00 1585572600 2.0 159689 2951')\n",
      "(186, '30/03/2020 22:50:00 1585579800 2.0 161358 2974')\n",
      "(187, '31/03/2020 00:50:00 1585587000 2.0 163479 3148')\n",
      "(188, '31/03/2020 02:50:00 1585594200 2.0 164253 3165')\n",
      "(189, '31/03/2020 04:50:00 1585601400 2.0 164253 3167')\n",
      "(190, '31/03/2020 06:50:00 1585608600 2.0 164323 3170')\n",
      "(191, '31/03/2020 08:42:00 1585615320 1.87 164359 3173')\n",
      "(192, '31/03/2020 10:49:00 1585622940 2.12 164359 3173')\n",
      "(193, '31/03/2020 12:49:00 1585630140 2.0 164435 3175')\n",
      "(194, '31/03/2020 14:49:00 1585637340 2.0 165392 3182')\n",
      "(195, '31/03/2020 16:49:00 1585644540 2.0 175669 3424')\n",
      "(196, '31/03/2020 18:49:00 1585651740 2.0 180340 3573')\n",
      "(197, '31/03/2020 20:49:00 1585658940 2.0 186046 3807')\n",
      "(198, '31/03/2020 22:49:00 1585666140 2.0 187729 3867')\n",
      "(199, '01/04/2020 02:49:00 1585680540 4.0 188530 3889')\n",
      "(200, '01/04/2020 04:49:00 1585687740 2.0 188578 4054')\n",
      "(201, '01/04/2020 06:49:00 1585694940 2.0 188592 4055')\n",
      "(202, '01/04/2020 08:49:00 1585702140 2.0 188592 4056')\n",
      "(203, '01/04/2020 10:49:00 1585709340 2.0 188639 4059')\n",
      "(204, '01/04/2020 12:49:00 1585716540 2.0 188647 4059')\n",
      "(205, '01/04/2020 14:49:00 1585723740 2.0 189711 4099')\n",
      "(206, '01/04/2020 16:49:00 1585730940 2.0 200289 4394')\n",
      "(207, '01/04/2020 18:49:00 1585738140 2.0 205438 4528')\n",
      "(208, '01/04/2020 20:49:00 1585745340 2.0 211143 4713')\n",
      "(209, '01/04/2020 22:49:00 1585752540 2.0 212980 4759')\n",
      "(210, '02/04/2020 00:49:00 1585759740 2.0 215003 5102')\n",
      "(211, '02/04/2020 02:49:00 1585766940 2.0 215175 5110')\n",
      "(212, '02/04/2020 04:49:00 1585774140 2.0 215300 5110')\n",
      "(213, '02/04/2020 06:49:00 1585781340 2.0 215324 5112')\n",
      "(214, '02/04/2020 08:49:00 1585788540 2.0 215344 5112')\n",
      "(215, '02/04/2020 10:49:00 1585795740 2.0 215344 5112')\n",
      "(216, '02/04/2020 12:49:00 1585802940 2.0 216722 5140')\n",
      "(217, '02/04/2020 14:49:00 1585810140 2.0 219832 5227')\n",
      "(218, '02/04/2020 16:49:00 1585817340 2.0 222658 5356')\n",
      "(219, '02/04/2020 18:49:00 1585824540 2.0 232899 5665')\n",
      "(220, '02/04/2020 20:49:00 1585831740 2.0 243298 5883')\n",
      "(221, '02/04/2020 22:19:00 1585837140 1.5 244230 5883')\n",
      "(222, '03/04/2020 01:20:00 1585848000 3.02 244877 6070')\n",
      "(223, '03/04/2020 01:36:00 1585848960 0.27 245066 6075')\n",
      "(224, '03/04/2020 03:20:00 1585855200 1.73 245088 6075')\n",
      "(225, '03/04/2020 05:20:00 1585862400 2.0 245341 6095')\n",
      "(226, '03/04/2020 07:20:00 1585869600 2.0 245373 6095')\n",
      "(227, '03/04/2020 09:20:00 1585876800 2.0 245373 6095')\n",
      "(228, '03/04/2020 11:20:00 1585884000 2.0 245380 6095')\n",
      "(229, '03/04/2020 13:20:00 1585891200 2.0 245442 6098')\n",
      "(230, '03/04/2020 14:49:00 1585896540 1.48 245442 6099')\n",
      "(231, '03/04/2020 16:49:00 1585903740 2.0 259750 6603')\n",
      "(232, '03/04/2020 18:49:00 1585910940 2.0 266279 6803')\n",
      "(233, '03/04/2020 20:49:00 1585918140 2.0 272614 6988')\n",
      "(234, '03/04/2020 22:49:00 1585925340 2.0 275802 7087')\n",
      "(235, '04/04/2020 00:49:00 1585932540 2.0 276965 7391')\n",
      "(236, '04/04/2020 02:49:00 1585939740 2.0 277161 7392')\n"
     ]
    }
   ],
   "source": [
    "conn2=sqlite3.connect(\"DATA/CleanCorona.db\")\n",
    "c2 = conn2.cursor()\n",
    "rows = c2.execute(\"SELECT ROWID,* from CORONA\")\n",
    "for row in rows:\n",
    "    print (row)"
   ]
  },
  {
   "cell_type": "code",
   "execution_count": 460,
   "metadata": {},
   "outputs": [
    {
     "data": {
      "text/plain": [
       "347.39052"
      ]
     },
     "execution_count": 460,
     "metadata": {},
     "output_type": "execute_result"
    }
   ],
   "source": [
    "#19429 confirmed cases and 257\n",
    "\n",
    ".01788*19429"
   ]
  },
  {
   "cell_type": "code",
   "execution_count": 461,
   "metadata": {},
   "outputs": [
    {
     "name": "stdout",
     "output_type": "stream",
     "text": [
      "example: 18876 237\n",
      "0.012555626191989829\n",
      "0.016497285256856467\n"
     ]
    }
   ],
   "source": [
    "# When working with mortality a history must be involved. \n",
    "print (\"example: 18876 237\")\n",
    "\n",
    "print (237/18876)\n",
    "print (237/14366)"
   ]
  },
  {
   "cell_type": "raw",
   "metadata": {},
   "source": [
    "(60, '03/20/2020 14:10:00 1584684600 1.98 14373 218')\n",
    "(61, '03/20/2020 16:11:00 1584691860 2.02 16067 219')\n",
    "(62, '03/20/2020 18:12:00 1584699120 2.02 16545 225')\n",
    "(63, '03/20/2020 20:12:00 1584706320 2.0 18121 233')\n",
    "(64, '03/20/2020 22:12:00 1584713520 2.0 18876 237')\n"
   ]
  },
  {
   "cell_type": "code",
   "execution_count": null,
   "metadata": {},
   "outputs": [],
   "source": []
  },
  {
   "cell_type": "code",
   "execution_count": 462,
   "metadata": {},
   "outputs": [
    {
     "name": "stdout",
     "output_type": "stream",
     "text": [
      "0.016218850062647918\n",
      "0.016218850062647918\n"
     ]
    }
   ],
   "source": [
    "print (233/14366)\n",
    "print (233/14366)"
   ]
  },
  {
   "cell_type": "code",
   "execution_count": 463,
   "metadata": {},
   "outputs": [
    {
     "name": "stdout",
     "output_type": "stream",
     "text": [
      "08/03/2020 23:30:00 1583681400 5.56 537 21\n",
      "09/03/2020 04:30:00 1583699400 5.0 589 22\n",
      "10/03/2020 05:30:00 1583789400 25.0 708 27\n",
      "10/03/2020 23:35:00 1583854500 18.08 975 30\n",
      "11/03/2020 04:25:00 1583871900 4.83 1010 31\n",
      "11/03/2020 15:17:00 1583911020 10.87 1016 31\n",
      "11/03/2020 23:35:00 1583940900 8.3 1301 38\n",
      "12/03/2020 03:25:00 1583954700 3.83 1327 38\n",
      "12/03/2020 11:37:00 1583984220 8.2 1336 38\n",
      "12/03/2020 22:00:00 1584021600 10.38 1639 40\n",
      "13/03/2020 00:05:00 1584029100 2.08 1715 41\n",
      "13/03/2020 01:35:00 1584034500 1.5 1725 41\n",
      "13/03/2020 03:45:00 1584042300 2.17 1747 41\n",
      "13/03/2020 06:00:00 1584050400 2.25 1762 41\n",
      "13/03/2020 15:25:00 1584084300 9.42 1832 41\n",
      "13/03/2020 22:25:00 1584109500 7.0 2269 48\n",
      "14/03/2020 02:40:00 1584124800 4.25 2291 50\n",
      "14/03/2020 07:14:00 1584141240 4.57 2319 50\n",
      "14/03/2020 16:45:00 1584175500 9.52 2499 51\n",
      "14/03/2020 23:03:00 1584198180 6.3 2836 57\n",
      "15/03/2020 05:00:00 1584219600 5.95 2982 60\n",
      "15/03/2020 05:40:00 1584222000 0.67 2995 60\n",
      "15/03/2020 07:05:00 1584227100 1.42 3043 60\n",
      "15/03/2020 19:00:00 1584270000 11.92 3329 63\n",
      "15/03/2020 20:05:00 1584273900 1.08 3400 63\n",
      "15/03/2020 21:15:00 1584278100 1.17 3621 63\n",
      "15/03/2020 22:15:00 1584281700 1.0 3502 63\n",
      "16/03/2020 00:35:00 1584290100 2.33 3714 68\n",
      "16/03/2020 02:48:00 1584298080 2.22 3777 69\n",
      "16/03/2020 05:36:00 1584308160 2.8 3782 69\n",
      "16/03/2020 08:29:00 1584318540 2.88 3802 69\n",
      "16/03/2020 18:40:00 1584355200 10.18 4186 73\n",
      "16/03/2020 22:40:00 1584369600 4.0 4597 86\n",
      "17/03/2020 00:45:00 1584377100 2.08 4667 87\n",
      "17/03/2020 02:40:00 1584384000 1.92 4704 91\n",
      "17/03/2020 06:35:00 1584398100 3.92 4727 93\n",
      "17/03/2020 10:31:00 1584412260 3.93 4743 93\n",
      "17/03/2020 14:38:00 1584427080 4.12 4752 93\n",
      "17/03/2020 18:41:00 1584441660 4.05 5723 97\n",
      "17/03/2020 21:55:00 1584453300 3.23 6211 102\n",
      "17/03/2020 22:40:00 1584456000 0.75 6349 106\n",
      "18/03/2020 02:20:00 1584469200 3.67 6499 112\n",
      "18/03/2020 06:05:00 1584482700 3.75 6522 116\n",
      "18/03/2020 10:10:00 1584497400 4.08 6524 116\n",
      "18/03/2020 16:15:00 1584519300 6.08 7601 116\n",
      "18/03/2020 18:16:00 1584526560 2.02 7708 120\n",
      "18/03/2020 20:21:00 1584534060 2.08 8710 132\n",
      "18/03/2020 22:10:00 1584540600 1.82 8998 150\n",
      "19/03/2020 02:17:00 1584555420 4.12 9371 153\n",
      "19/03/2020 10:16:00 1584584160 7.98 9464 155\n",
      "19/03/2020 12:18:00 1584591480 2.03 9473 155\n",
      "19/03/2020 14:15:00 1584598500 1.95 9486 157\n",
      "19/03/2020 16:22:00 1584606120 2.12 10692 160\n",
      "19/03/2020 18:17:00 1584613020 1.92 11355 171\n",
      "19/03/2020 22:45:00 1584629100 4.47 13737 201\n",
      "20/03/2020 00:48:00 1584636480 2.05 13865 211\n",
      "20/03/2020 02:40:00 1584643200 1.87 14316 218\n",
      "20/03/2020 04:34:00 1584650040 1.9 14336 218\n",
      "20/03/2020 06:35:00 1584657300 2.02 14366 217\n",
      "20/03/2020 08:10:00 1584663000 1.58 14366 217\n",
      "20/03/2020 10:11:00 1584670260 2.02 14366 217\n",
      "20/03/2020 12:11:00 1584677460 2.0 14366 217\n",
      "20/03/2020 14:10:00 1584684600 1.98 14373 218\n",
      "20/03/2020 16:11:00 1584691860 2.02 16067 219\n",
      "20/03/2020 18:12:00 1584699120 2.02 16545 225\n",
      "20/03/2020 20:12:00 1584706320 2.0 18121 233\n",
      "20/03/2020 22:12:00 1584713520 2.0 18876 237\n",
      "21/03/2020 00:06:00 1584720360 1.9 19393 256\n",
      "21/03/2020 02:07:00 1584727620 2.02 19643 263\n",
      "21/03/2020 04:08:00 1584734880 2.02 19652 264\n",
      "21/03/2020 06:05:00 1584741900 1.95 19774 275\n",
      "21/03/2020 08:10:00 1584749400 2.08 19774 275\n",
      "21/03/2020 10:12:00 1584756720 2.03 19774 275\n",
      "21/03/2020 12:46:00 1584765960 2.57 19775 276\n",
      "21/03/2020 14:48:00 1584773280 2.03 19823 276\n",
      "21/03/2020 16:48:00 1584780480 2.0 22085 282\n",
      "21/03/2020 18:45:00 1584787500 1.95 22813 288\n",
      "21/03/2020 20:45:00 1584794700 2.0 24142 288\n",
      "21/03/2020 22:45:00 1584801900 2.0 23940 301\n",
      "22/03/2020 00:40:00 1584808800 1.92 26111 324\n",
      "22/03/2020 02:40:00 1584816000 2.0 26711 341\n",
      "22/03/2020 04:45:00 1584823500 2.08 26867 348\n",
      "22/03/2020 06:30:00 1584829800 1.75 26892 348\n",
      "22/03/2020 08:45:00 1584837900 2.25 26892 348\n",
      "22/03/2020 10:45:00 1584845100 2.0 26900 348\n",
      "22/03/2020 12:48:00 1584852480 2.05 26905 348\n",
      "22/03/2020 14:45:00 1584859500 1.95 27031 349\n",
      "22/03/2020 16:42:00 1584866520 1.95 30239 388\n",
      "22/03/2020 18:48:00 1584874080 2.1 38757 400\n",
      "22/03/2020 20:44:00 1584881040 1.93 32356 414\n",
      "22/03/2020 21:41:00 1584884460 0.95 32356 414\n",
      "23/03/2020 00:44:00 1584895440 3.05 33346 414\n",
      "23/03/2020 02:37:00 1584902220 1.88 33546 419\n",
      "23/03/2020 03:55:00 1584906900 1.3 34717 452\n",
      "23/03/2020 06:45:00 1584917100 2.83 35060 457\n",
      "23/03/2020 08:47:00 1584924420 2.03 35070 458\n",
      "23/03/2020 10:47:00 1584931620 2.0 35070 458\n",
      "23/03/2020 12:46:00 1584938760 1.98 35075 458\n",
      "23/03/2020 14:45:00 1584945900 1.98 35179 459\n",
      "23/03/2020 16:45:00 1584953100 2.0 40773 479\n",
      "23/03/2020 18:46:00 1584960360 2.02 41569 504\n",
      "23/03/2020 20:47:00 1584967620 2.02 42443 517\n",
      "23/03/2020 22:31:00 1584973860 1.73 43449 545\n",
      "24/03/2020 00:47:00 1584982020 2.27 43718 552\n",
      "24/03/2020 02:33:00 1584988380 1.77 43734 553\n",
      "24/03/2020 04:46:00 1584996360 2.22 46145 582\n",
      "24/03/2020 06:43:00 1585003380 1.95 46145 582\n",
      "24/03/2020 08:48:00 1585010880 2.08 46145 582\n",
      "24/03/2020 10:47:00 1585018020 1.98 46168 582\n",
      "24/03/2020 12:47:00 1585025220 2.0 46168 582\n",
      "24/03/2020 14:47:00 1585032420 2.0 46274 588\n",
      "24/03/2020 16:47:00 1585039620 2.0 49594 622\n",
      "24/03/2020 18:45:00 1585046700 1.97 50982 655\n",
      "24/03/2020 20:42:00 1585053720 1.95 52921 684\n",
      "24/03/2020 22:48:00 1585061280 2.1 53205 687\n",
      "25/03/2020 00:29:00 1585067340 1.68 53655 698\n",
      "25/03/2020 02:44:00 1585075440 2.25 54823 778\n",
      "25/03/2020 04:46:00 1585082760 2.03 54867 782\n",
      "25/03/2020 06:47:00 1585090020 2.02 54916 784\n",
      "25/03/2020 08:48:00 1585097280 2.02 54935 784\n",
      "25/03/2020 10:43:00 1585104180 1.92 54941 784\n",
      "25/03/2020 12:48:00 1585111680 2.08 54979 785\n",
      "25/03/2020 14:48:00 1585118880 2.0 55081 785\n",
      "25/03/2020 16:48:00 1585126080 2.0 60642 817\n",
      "25/03/2020 18:48:00 1585133280 2.0 62364 878\n",
      "25/03/2020 20:33:00 1585139580 1.75 64765 910\n",
      "25/03/2020 22:44:00 1585147440 2.18 65527 928\n",
      "26/03/2020 00:34:00 1585154040 1.83 65797 935\n",
      "26/03/2020 02:43:00 1585161780 2.15 66741 963\n",
      "26/03/2020 05:24:00 1585171440 2.68 68472 1032\n",
      "26/03/2020 07:03:00 1585177380 1.65 68489 1032\n",
      "26/03/2020 09:02:00 1585184520 1.98 68489 1032\n",
      "26/03/2020 11:02:00 1585191720 2.0 68581 1036\n",
      "26/03/2020 13:01:00 1585198860 1.98 68594 1036\n",
      "26/03/2020 14:52:00 1585205520 1.85 68905 1037\n",
      "26/03/2020 17:02:00 1585213320 2.17 75069 1080\n",
      "26/03/2020 19:00:00 1585220400 1.97 79082 1143\n",
      "26/03/2020 21:01:00 1585227660 2.02 81946 1177\n",
      "26/03/2020 23:02:00 1585234920 2.02 83206 1201\n",
      "27/03/2020 01:00:00 1585242000 1.97 85280 1293\n",
      "27/03/2020 03:01:00 1585249260 2.02 85520 1297\n",
      "27/03/2020 04:36:00 1585254960 1.58 85594 1300\n",
      "27/03/2020 07:33:00 1585265580 2.95 85612 1301\n",
      "27/03/2020 09:32:00 1585272720 1.98 85612 1301\n",
      "27/03/2020 11:31:00 1585279860 1.98 85749 1304\n",
      "27/03/2020 13:32:00 1585287120 2.02 85755 1304\n",
      "27/03/2020 15:33:00 1585294380 2.02 86548 1321\n",
      "27/03/2020 17:32:00 1585301520 1.98 94425 1429\n",
      "27/03/2020 19:33:00 1585308780 2.02 98180 1513\n",
      "27/03/2020 21:33:00 1585315980 2.0 100514 1546\n",
      "27/03/2020 23:33:00 1585323180 2.0 102325 1591\n",
      "28/03/2020 01:32:00 1585330320 1.98 104126 1692\n",
      "28/03/2020 03:34:00 1585337640 2.03 104205 1704\n",
      "28/03/2020 05:35:00 1585344900 2.02 104205 1704\n",
      "28/03/2020 07:35:00 1585352100 2.0 104256 1704\n",
      "28/03/2020 09:35:00 1585359300 2.0 104256 1704\n",
      "28/03/2020 11:40:00 1585366800 2.08 104256 1704\n",
      "28/03/2020 13:36:00 1585373760 1.93 104277 1704\n",
      "28/03/2020 15:45:00 1585381500 2.15 105726 1730\n",
      "28/03/2020 17:45:00 1585388700 2.0 116050 1937\n",
      "28/03/2020 19:43:00 1585395780 1.97 118592 1979\n",
      "28/03/2020 21:44:00 1585403040 2.02 120204 1997\n",
      "28/03/2020 23:43:00 1585410180 1.98 123311 2211\n",
      "29/03/2020 01:46:00 1585417560 2.05 123578 2221\n",
      "29/03/2020 03:46:00 1585424760 2.0 123750 2227\n",
      "29/03/2020 05:48:00 1585432080 2.03 123774 2228\n",
      "29/03/2020 07:41:00 1585438860 1.88 123776 2229\n",
      "29/03/2020 09:45:00 1585446300 2.07 123781 2229\n",
      "29/03/2020 11:44:00 1585453440 1.98 123781 2229\n",
      "29/03/2020 13:46:00 1585460760 2.03 123828 2229\n",
      "29/03/2020 15:47:00 1585468020 2.02 125099 2238\n",
      "29/03/2020 17:49:00 1585475340 2.03 133146 2363\n",
      "29/03/2020 19:47:00 1585482420 1.97 137943 2431\n",
      "29/03/2020 21:48:00 1585489680 2.02 139904 2449\n",
      "29/03/2020 23:49:00 1585496940 2.02 141781 2471\n",
      "30/03/2020 01:44:00 1585503840 1.92 142004 2484\n",
      "30/03/2020 03:46:00 1585511160 2.03 142735 2488\n",
      "30/03/2020 06:46:00 1585521960 3.0 142735 2488\n",
      "30/03/2020 08:50:00 1585529400 2.07 142735 2489\n",
      "30/03/2020 10:50:00 1585536600 2.0 142746 2489\n",
      "30/03/2020 12:50:00 1585543800 2.0 142793 2490\n",
      "30/03/2020 14:50:00 1585551000 2.0 144410 2600\n",
      "30/03/2020 16:50:00 1585558200 2.0 145542 2616\n",
      "30/03/2020 18:50:00 1585565400 2.0 156565 2870\n",
      "30/03/2020 20:50:00 1585572600 2.0 159689 2951\n",
      "30/03/2020 22:50:00 1585579800 2.0 161358 2974\n",
      "31/03/2020 00:50:00 1585587000 2.0 163479 3148\n",
      "31/03/2020 02:50:00 1585594200 2.0 164253 3165\n",
      "31/03/2020 04:50:00 1585601400 2.0 164253 3167\n",
      "31/03/2020 06:50:00 1585608600 2.0 164323 3170\n",
      "31/03/2020 08:42:00 1585615320 1.87 164359 3173\n",
      "31/03/2020 10:49:00 1585622940 2.12 164359 3173\n",
      "31/03/2020 12:49:00 1585630140 2.0 164435 3175\n",
      "31/03/2020 14:49:00 1585637340 2.0 165392 3182\n",
      "31/03/2020 16:49:00 1585644540 2.0 175669 3424\n",
      "31/03/2020 18:49:00 1585651740 2.0 180340 3573\n",
      "31/03/2020 20:49:00 1585658940 2.0 186046 3807\n",
      "31/03/2020 22:49:00 1585666140 2.0 187729 3867\n",
      "01/04/2020 02:49:00 1585680540 4.0 188530 3889\n",
      "01/04/2020 04:49:00 1585687740 2.0 188578 4054\n",
      "01/04/2020 06:49:00 1585694940 2.0 188592 4055\n",
      "01/04/2020 08:49:00 1585702140 2.0 188592 4056\n",
      "01/04/2020 10:49:00 1585709340 2.0 188639 4059\n",
      "01/04/2020 12:49:00 1585716540 2.0 188647 4059\n",
      "01/04/2020 14:49:00 1585723740 2.0 189711 4099\n",
      "01/04/2020 16:49:00 1585730940 2.0 200289 4394\n",
      "01/04/2020 18:49:00 1585738140 2.0 205438 4528\n",
      "01/04/2020 20:49:00 1585745340 2.0 211143 4713\n",
      "01/04/2020 22:49:00 1585752540 2.0 212980 4759\n",
      "02/04/2020 00:49:00 1585759740 2.0 215003 5102\n",
      "02/04/2020 02:49:00 1585766940 2.0 215175 5110\n",
      "02/04/2020 04:49:00 1585774140 2.0 215300 5110\n",
      "02/04/2020 06:49:00 1585781340 2.0 215324 5112\n",
      "02/04/2020 08:49:00 1585788540 2.0 215344 5112\n",
      "02/04/2020 10:49:00 1585795740 2.0 215344 5112\n",
      "02/04/2020 12:49:00 1585802940 2.0 216722 5140\n",
      "02/04/2020 14:49:00 1585810140 2.0 219832 5227\n",
      "02/04/2020 16:49:00 1585817340 2.0 222658 5356\n",
      "02/04/2020 18:49:00 1585824540 2.0 232899 5665\n",
      "02/04/2020 20:49:00 1585831740 2.0 243298 5883\n",
      "02/04/2020 22:19:00 1585837140 1.5 244230 5883\n",
      "03/04/2020 01:20:00 1585848000 3.02 244877 6070\n",
      "03/04/2020 01:36:00 1585848960 0.27 245066 6075\n",
      "03/04/2020 03:20:00 1585855200 1.73 245088 6075\n",
      "03/04/2020 05:20:00 1585862400 2.0 245341 6095\n",
      "03/04/2020 07:20:00 1585869600 2.0 245373 6095\n",
      "03/04/2020 09:20:00 1585876800 2.0 245373 6095\n",
      "03/04/2020 11:20:00 1585884000 2.0 245380 6095\n",
      "03/04/2020 13:20:00 1585891200 2.0 245442 6098\n",
      "03/04/2020 14:49:00 1585896540 1.48 245442 6099\n",
      "03/04/2020 16:49:00 1585903740 2.0 259750 6603\n",
      "03/04/2020 18:49:00 1585910940 2.0 266279 6803\n",
      "03/04/2020 20:49:00 1585918140 2.0 272614 6988\n",
      "03/04/2020 22:49:00 1585925340 2.0 275802 7087\n",
      "04/04/2020 00:49:00 1585932540 2.0 276965 7391\n",
      "04/04/2020 02:49:00 1585939740 2.0 277161 7392\n"
     ]
    }
   ],
   "source": [
    "import datetime\n",
    "import calendar\n",
    "import time\n",
    "from M2D import *\n",
    "import sqlite3\n",
    "arrangedDdata = ''\n",
    "DDATA =[]\n",
    "DDATA.append(\"Date Time Timestamp SpanBetweenSamples Cases Deaths\")\n",
    "arrangedDdata=arrangedDdata #+\"Date, Time, Cases, Deaths, Timestamp, TimeBetweenSamples\\n\"\n",
    "conn=sqlite3.connect(\"DATA/CoronaData2.db\")\n",
    "c= conn.cursor()\n",
    "cnt=0\n",
    "for row in c.execute('SELECT rowid,* from CORONA'):\n",
    "    cnt=cnt+1\n",
    "    row =str(row)\n",
    "    row=row.replace(\",\",\"\")\n",
    "    row = row.split(\" \")\n",
    "    #print (row)\n",
    "    #print (row[1],row[2],row[3],row[5],row[10],row[14])\n",
    "    Month = row[1]\n",
    "    #print (Month[1:])\n",
    "    month = Month2Num(Month[1:])\n",
    "    #print (month)\n",
    "    #if cnt==160:print(row)\n",
    "    #if cnt==160:print(OUT)               \n",
    "    OUT = row[2]+\"/\"+month+\"/\"+row[3]+\" \"+row[5]+\":00 \"+row[10]+\" \"+row[14]\n",
    "    # Result 03/12/2020 03:25:00 1327 38\n",
    "    #print (OUT) \n",
    "    arrangedDdata = arrangedDdata+OUT+\"\\n\"\n",
    "conn.close() \n",
    "\n",
    "text =arrangedDdata.split(\"\\n\")\n",
    "#text= text[1:-1]\n",
    "EPOCHa=[]\n",
    "Scnt=0\n",
    "SPANS = []\n",
    "for line in text:\n",
    "    if len(line)>5:\n",
    "        line = line.split(\" \")\n",
    "        #print (line[1],line[2],line[3])\n",
    "        if len(line)>2:dt = time.strftime(line[0]+' '+line[1])\n",
    "        #print (dt)\n",
    "\n",
    "        dt_ti = dt\n",
    "        #print (dt_ti)\n",
    "        #03-16-2020 02:48,3777\n",
    "        pattern = '%d/%m/%Y %H:%M:%S'\n",
    "        #pattern = '%m/%d/%Y %H:%M:%S'\n",
    "        epochs = int(time.mktime(time.strptime(dt_ti, pattern)))\n",
    "        #print (dt_ti, epochs)\n",
    "\n",
    "        if Scnt>1:SPANS.append(span(int(last),int(epochs)))\n",
    "        if Scnt==0:last=1583661400 \n",
    "        SPan = span(int(last),int(epochs)) \n",
    "\n",
    "        data = dt_ti+\" \"+str(epochs)+\" \"+str(SPan)+\" \"+line[2]+\" \"+line[3]\n",
    "        print (data)\n",
    "        DDATA.append(data)\n",
    "        entry = str(data)\n",
    "        Scnt=Scnt+1\n",
    "        last = int(epochs)    \n",
    "        EPOCHa.append(data)\n"
   ]
  },
  {
   "cell_type": "code",
   "execution_count": 464,
   "metadata": {},
   "outputs": [
    {
     "name": "stdout",
     "output_type": "stream",
     "text": [
      "['09/03/2020 04:30:00 589 22', '10/03/2020 05:30:00 708 27', '10/03/2020 23:35:00 975 30', '11/03/2020 04:25:00 1010 31', '11/03/2020 15:17:00 1016 31', '11/03/2020 23:35:00 1301 38', '12/03/2020 03:25:00 1327 38', '12/03/2020 11:37:00 1336 38', '12/03/2020 22:00:00 1639 40', '13/03/2020 00:05:00 1715 41', '13/03/2020 01:35:00 1725 41', '13/03/2020 03:45:00 1747 41', '13/03/2020 06:00:00 1762 41', '13/03/2020 15:25:00 1832 41', '13/03/2020 22:25:00 2269 48', '14/03/2020 02:40:00 2291 50', '14/03/2020 07:14:00 2319 50', '14/03/2020 16:45:00 2499 51', '14/03/2020 23:03:00 2836 57', '15/03/2020 05:00:00 2982 60', '15/03/2020 05:40:00 2995 60', '15/03/2020 07:05:00 3043 60', '15/03/2020 19:00:00 3329 63', '15/03/2020 20:05:00 3400 63', '15/03/2020 21:15:00 3621 63', '15/03/2020 22:15:00 3502 63', '16/03/2020 00:35:00 3714 68', '16/03/2020 02:48:00 3777 69', '16/03/2020 05:36:00 3782 69', '16/03/2020 08:29:00 3802 69', '16/03/2020 18:40:00 4186 73', '16/03/2020 22:40:00 4597 86', '17/03/2020 00:45:00 4667 87', '17/03/2020 02:40:00 4704 91', '17/03/2020 06:35:00 4727 93', '17/03/2020 10:31:00 4743 93', '17/03/2020 14:38:00 4752 93', '17/03/2020 18:41:00 5723 97', '17/03/2020 21:55:00 6211 102', '17/03/2020 22:40:00 6349 106', '18/03/2020 02:20:00 6499 112', '18/03/2020 06:05:00 6522 116', '18/03/2020 10:10:00 6524 116', '18/03/2020 16:15:00 7601 116', '18/03/2020 18:16:00 7708 120', '18/03/2020 20:21:00 8710 132', '18/03/2020 22:10:00 8998 150', '19/03/2020 02:17:00 9371 153', '19/03/2020 10:16:00 9464 155', '19/03/2020 12:18:00 9473 155', '19/03/2020 14:15:00 9486 157', '19/03/2020 16:22:00 10692 160', '19/03/2020 18:17:00 11355 171', '19/03/2020 22:45:00 13737 201', '20/03/2020 00:48:00 13865 211', '20/03/2020 02:40:00 14316 218', '20/03/2020 04:34:00 14336 218', '20/03/2020 06:35:00 14366 217', '20/03/2020 08:10:00 14366 217', '20/03/2020 10:11:00 14366 217', '20/03/2020 12:11:00 14366 217', '20/03/2020 14:10:00 14373 218', '20/03/2020 16:11:00 16067 219', '20/03/2020 18:12:00 16545 225', '20/03/2020 20:12:00 18121 233', '20/03/2020 22:12:00 18876 237', '21/03/2020 00:06:00 19393 256', '21/03/2020 02:07:00 19643 263', '21/03/2020 04:08:00 19652 264', '21/03/2020 06:05:00 19774 275', '21/03/2020 08:10:00 19774 275', '21/03/2020 10:12:00 19774 275', '21/03/2020 12:46:00 19775 276', '21/03/2020 14:48:00 19823 276', '21/03/2020 16:48:00 22085 282', '21/03/2020 18:45:00 22813 288', '21/03/2020 20:45:00 24142 288', '21/03/2020 22:45:00 23940 301', '22/03/2020 00:40:00 26111 324', '22/03/2020 02:40:00 26711 341', '22/03/2020 04:45:00 26867 348', '22/03/2020 06:30:00 26892 348', '22/03/2020 08:45:00 26892 348', '22/03/2020 10:45:00 26900 348', '22/03/2020 12:48:00 26905 348', '22/03/2020 14:45:00 27031 349', '22/03/2020 16:42:00 30239 388', '22/03/2020 18:48:00 38757 400', '22/03/2020 20:44:00 32356 414', '22/03/2020 21:41:00 32356 414', '23/03/2020 00:44:00 33346 414', '23/03/2020 02:37:00 33546 419', '23/03/2020 03:55:00 34717 452', '23/03/2020 06:45:00 35060 457', '23/03/2020 08:47:00 35070 458', '23/03/2020 10:47:00 35070 458', '23/03/2020 12:46:00 35075 458', '23/03/2020 14:45:00 35179 459', '23/03/2020 16:45:00 40773 479', '23/03/2020 18:46:00 41569 504', '23/03/2020 20:47:00 42443 517', '23/03/2020 22:31:00 43449 545', '24/03/2020 00:47:00 43718 552', '24/03/2020 02:33:00 43734 553', '24/03/2020 04:46:00 46145 582', '24/03/2020 06:43:00 46145 582', '24/03/2020 08:48:00 46145 582', '24/03/2020 10:47:00 46168 582', '24/03/2020 12:47:00 46168 582', '24/03/2020 14:47:00 46274 588', '24/03/2020 16:47:00 49594 622', '24/03/2020 18:45:00 50982 655', '24/03/2020 20:42:00 52921 684', '24/03/2020 22:48:00 53205 687', '25/03/2020 00:29:00 53655 698', '25/03/2020 02:44:00 54823 778', '25/03/2020 04:46:00 54867 782', '25/03/2020 06:47:00 54916 784', '25/03/2020 08:48:00 54935 784', '25/03/2020 10:43:00 54941 784', '25/03/2020 12:48:00 54979 785', '25/03/2020 14:48:00 55081 785', '25/03/2020 16:48:00 60642 817', '25/03/2020 18:48:00 62364 878', '25/03/2020 20:33:00 64765 910', '25/03/2020 22:44:00 65527 928', '26/03/2020 00:34:00 65797 935', '26/03/2020 02:43:00 66741 963', '26/03/2020 05:24:00 68472 1032', '26/03/2020 07:03:00 68489 1032', '26/03/2020 09:02:00 68489 1032', '26/03/2020 11:02:00 68581 1036', '26/03/2020 13:01:00 68594 1036', '26/03/2020 14:52:00 68905 1037', '26/03/2020 17:02:00 75069 1080', '26/03/2020 19:00:00 79082 1143', '26/03/2020 21:01:00 81946 1177', '26/03/2020 23:02:00 83206 1201', '27/03/2020 01:00:00 85280 1293', '27/03/2020 03:01:00 85520 1297', '27/03/2020 04:36:00 85594 1300', '27/03/2020 07:33:00 85612 1301', '27/03/2020 09:32:00 85612 1301', '27/03/2020 11:31:00 85749 1304', '27/03/2020 13:32:00 85755 1304', '27/03/2020 15:33:00 86548 1321', '27/03/2020 17:32:00 94425 1429', '27/03/2020 19:33:00 98180 1513', '27/03/2020 21:33:00 100514 1546', '27/03/2020 23:33:00 102325 1591', '28/03/2020 01:32:00 104126 1692', '28/03/2020 03:34:00 104205 1704', '28/03/2020 05:35:00 104205 1704', '28/03/2020 07:35:00 104256 1704', '28/03/2020 09:35:00 104256 1704', '28/03/2020 11:40:00 104256 1704', '28/03/2020 13:36:00 104277 1704', '28/03/2020 15:45:00 105726 1730', '28/03/2020 17:45:00 116050 1937', '28/03/2020 19:43:00 118592 1979', '28/03/2020 21:44:00 120204 1997', '28/03/2020 23:43:00 123311 2211', '29/03/2020 01:46:00 123578 2221', '29/03/2020 03:46:00 123750 2227', '29/03/2020 05:48:00 123774 2228', '29/03/2020 07:41:00 123776 2229', '29/03/2020 09:45:00 123781 2229', '29/03/2020 11:44:00 123781 2229', '29/03/2020 13:46:00 123828 2229', '29/03/2020 15:47:00 125099 2238', '29/03/2020 17:49:00 133146 2363', '29/03/2020 19:47:00 137943 2431', '29/03/2020 21:48:00 139904 2449', '29/03/2020 23:49:00 141781 2471', '30/03/2020 01:44:00 142004 2484', '30/03/2020 03:46:00 142735 2488', '30/03/2020 06:46:00 142735 2488', '30/03/2020 08:50:00 142735 2489', '30/03/2020 10:50:00 142746 2489', '30/03/2020 12:50:00 142793 2490', '30/03/2020 14:50:00 144410 2600', '30/03/2020 16:50:00 145542 2616', '30/03/2020 18:50:00 156565 2870', '30/03/2020 20:50:00 159689 2951', '30/03/2020 22:50:00 161358 2974', '31/03/2020 00:50:00 163479 3148', '31/03/2020 02:50:00 164253 3165', '31/03/2020 04:50:00 164253 3167', '31/03/2020 06:50:00 164323 3170', '31/03/2020 08:42:00 164359 3173', '31/03/2020 10:49:00 164359 3173', '31/03/2020 12:49:00 164435 3175', '31/03/2020 14:49:00 165392 3182', '31/03/2020 16:49:00 175669 3424', '31/03/2020 18:49:00 180340 3573', '31/03/2020 20:49:00 186046 3807', '31/03/2020 22:49:00 187729 3867', '01/04/2020 02:49:00 188530 3889', '01/04/2020 04:49:00 188578 4054', '01/04/2020 06:49:00 188592 4055', '01/04/2020 08:49:00 188592 4056', '01/04/2020 10:49:00 188639 4059', '01/04/2020 12:49:00 188647 4059', '01/04/2020 14:49:00 189711 4099', '01/04/2020 16:49:00 200289 4394', '01/04/2020 18:49:00 205438 4528', '01/04/2020 20:49:00 211143 4713', '01/04/2020 22:49:00 212980 4759', '02/04/2020 00:49:00 215003 5102', '02/04/2020 02:49:00 215175 5110', '02/04/2020 04:49:00 215300 5110', '02/04/2020 06:49:00 215324 5112', '02/04/2020 08:49:00 215344 5112', '02/04/2020 10:49:00 215344 5112', '02/04/2020 12:49:00 216722 5140', '02/04/2020 14:49:00 219832 5227', '02/04/2020 16:49:00 222658 5356', '02/04/2020 18:49:00 232899 5665', '02/04/2020 20:49:00 243298 5883', '02/04/2020 22:19:00 244230 5883', '03/04/2020 01:20:00 244877 6070', '03/04/2020 01:36:00 245066 6075', '03/04/2020 03:20:00 245088 6075', '03/04/2020 05:20:00 245341 6095', '03/04/2020 07:20:00 245373 6095', '03/04/2020 09:20:00 245373 6095', '03/04/2020 11:20:00 245380 6095', '03/04/2020 13:20:00 245442 6098', '03/04/2020 14:49:00 245442 6099', '03/04/2020 16:49:00 259750 6603', '03/04/2020 18:49:00 266279 6803', '03/04/2020 20:49:00 272614 6988', '03/04/2020 22:49:00 275802 7087', '04/04/2020 00:49:00 276965 7391', '04/04/2020 02:49:00 277161 7392']\n"
     ]
    }
   ],
   "source": [
    "import datetime\n",
    "import calendar\n",
    "import time\n",
    "from M2D import *\n",
    "# 3,13,2020,03:45,GMT,1747,41\n",
    "text =arrangedDdata.split(\"\\n\")\n",
    "text= text[1:-1]\n",
    "print (text)"
   ]
  },
  {
   "cell_type": "code",
   "execution_count": 465,
   "metadata": {},
   "outputs": [
    {
     "name": "stdout",
     "output_type": "stream",
     "text": [
      "\n",
      "--SPANS- 234 ---------------------------------------------------------\n",
      "\n"
     ]
    }
   ],
   "source": [
    "print(\"\\n--SPANS-\",len(SPANS),\"---------------------------------------------------------\\n\")  "
   ]
  },
  {
   "cell_type": "code",
   "execution_count": 466,
   "metadata": {
    "scrolled": false
   },
   "outputs": [
    {
     "name": "stdout",
     "output_type": "stream",
     "text": [
      "\n",
      "--SPANS- 233 ---------------------------------------------------------\n",
      "\n",
      "[18.08, 4.83, 10.87, 8.3, 3.83, 8.2, 10.38, 2.08, 1.5, 2.17, 2.25, 9.42, 7.0, 4.25, 4.57, 9.52, 6.3, 5.95, 0.67, 1.42, 11.92, 1.08, 1.17, 1.0, 2.33, 2.22, 2.8, 2.88, 10.18, 4.0, 2.08, 1.92, 3.92, 3.93, 4.12, 4.05, 3.23, 0.75, 3.67, 3.75, 4.08, 6.08, 2.02, 2.08, 1.82, 4.12, 7.98, 2.03, 1.95, 2.12, 1.92, 4.47, 2.05, 1.87, 1.9, 2.02, 1.58, 2.02, 2.0, 1.98, 2.02, 2.02, 2.0, 2.0, 1.9, 2.02, 2.02, 1.95, 2.08, 2.03, 2.57, 2.03, 2.0, 1.95, 2.0, 2.0, 1.92, 2.0, 2.08, 1.75, 2.25, 2.0, 2.05, 1.95, 1.95, 2.1, 1.93, 0.95, 3.05, 1.88, 1.3, 2.83, 2.03, 2.0, 1.98, 1.98, 2.0, 2.02, 2.02, 1.73, 2.27, 1.77, 2.22, 1.95, 2.08, 1.98, 2.0, 2.0, 2.0, 1.97, 1.95, 2.1, 1.68, 2.25, 2.03, 2.02, 2.02, 1.92, 2.08, 2.0, 2.0, 2.0, 1.75, 2.18, 1.83, 2.15, 2.68, 1.65, 1.98, 2.0, 1.98, 1.85, 2.17, 1.97, 2.02, 2.02, 1.97, 2.02, 1.58, 2.95, 1.98, 1.98, 2.02, 2.02, 1.98, 2.02, 2.0, 2.0, 1.98, 2.03, 2.02, 2.0, 2.0, 2.08, 1.93, 2.15, 2.0, 1.97, 2.02, 1.98, 2.05, 2.0, 2.03, 1.88, 2.07, 1.98, 2.03, 2.02, 2.03, 1.97, 2.02, 2.02, 1.92, 2.03, 3.0, 2.07, 2.0, 2.0, 2.0, 2.0, 2.0, 2.0, 2.0, 2.0, 2.0, 2.0, 2.0, 1.87, 2.12, 2.0, 2.0, 2.0, 2.0, 2.0, 2.0, 4.0, 2.0, 2.0, 2.0, 2.0, 2.0, 2.0, 2.0, 2.0, 2.0, 2.0, 2.0, 2.0, 2.0, 2.0, 2.0, 2.0, 2.0, 2.0, 2.0, 2.0, 2.0, 1.5, 3.02, 0.27, 1.73, 2.0, 2.0, 2.0, 2.0, 2.0, 1.48, 2.0, 2.0, 2.0, 2.0, 2.0, 2.0] \n",
      "\n",
      "\n",
      "--ALLdata- 235 ---------------------------------------------------------\n",
      "\n",
      "[\"('09/03/2020 04:30:00', 1583699400, 10.56, '589', '22')\", \"('10/03/2020 05:30:00', 1583789400, 25.0, '708', '27')\", \"('10/03/2020 23:35:00', 1583854500, 18.08, '975', '30')\", \"('11/03/2020 04:25:00', 1583871900, 4.83, '1010', '31')\", \"('11/03/2020 15:17:00', 1583911020, 10.87, '1016', '31')\", \"('11/03/2020 23:35:00', 1583940900, 8.3, '1301', '38')\", \"('12/03/2020 03:25:00', 1583954700, 3.83, '1327', '38')\", \"('12/03/2020 11:37:00', 1583984220, 8.2, '1336', '38')\", \"('12/03/2020 22:00:00', 1584021600, 10.38, '1639', '40')\", \"('13/03/2020 00:05:00', 1584029100, 2.08, '1715', '41')\", \"('13/03/2020 01:35:00', 1584034500, 1.5, '1725', '41')\", \"('13/03/2020 03:45:00', 1584042300, 2.17, '1747', '41')\", \"('13/03/2020 06:00:00', 1584050400, 2.25, '1762', '41')\", \"('13/03/2020 15:25:00', 1584084300, 9.42, '1832', '41')\", \"('13/03/2020 22:25:00', 1584109500, 7.0, '2269', '48')\", \"('14/03/2020 02:40:00', 1584124800, 4.25, '2291', '50')\", \"('14/03/2020 07:14:00', 1584141240, 4.57, '2319', '50')\", \"('14/03/2020 16:45:00', 1584175500, 9.52, '2499', '51')\", \"('14/03/2020 23:03:00', 1584198180, 6.3, '2836', '57')\", \"('15/03/2020 05:00:00', 1584219600, 5.95, '2982', '60')\", \"('15/03/2020 05:40:00', 1584222000, 0.67, '2995', '60')\", \"('15/03/2020 07:05:00', 1584227100, 1.42, '3043', '60')\", \"('15/03/2020 19:00:00', 1584270000, 11.92, '3329', '63')\", \"('15/03/2020 20:05:00', 1584273900, 1.08, '3400', '63')\", \"('15/03/2020 21:15:00', 1584278100, 1.17, '3621', '63')\", \"('15/03/2020 22:15:00', 1584281700, 1.0, '3502', '63')\", \"('16/03/2020 00:35:00', 1584290100, 2.33, '3714', '68')\", \"('16/03/2020 02:48:00', 1584298080, 2.22, '3777', '69')\", \"('16/03/2020 05:36:00', 1584308160, 2.8, '3782', '69')\", \"('16/03/2020 08:29:00', 1584318540, 2.88, '3802', '69')\", \"('16/03/2020 18:40:00', 1584355200, 10.18, '4186', '73')\", \"('16/03/2020 22:40:00', 1584369600, 4.0, '4597', '86')\", \"('17/03/2020 00:45:00', 1584377100, 2.08, '4667', '87')\", \"('17/03/2020 02:40:00', 1584384000, 1.92, '4704', '91')\", \"('17/03/2020 06:35:00', 1584398100, 3.92, '4727', '93')\", \"('17/03/2020 10:31:00', 1584412260, 3.93, '4743', '93')\", \"('17/03/2020 14:38:00', 1584427080, 4.12, '4752', '93')\", \"('17/03/2020 18:41:00', 1584441660, 4.05, '5723', '97')\", \"('17/03/2020 21:55:00', 1584453300, 3.23, '6211', '102')\", \"('17/03/2020 22:40:00', 1584456000, 0.75, '6349', '106')\", \"('18/03/2020 02:20:00', 1584469200, 3.67, '6499', '112')\", \"('18/03/2020 06:05:00', 1584482700, 3.75, '6522', '116')\", \"('18/03/2020 10:10:00', 1584497400, 4.08, '6524', '116')\", \"('18/03/2020 16:15:00', 1584519300, 6.08, '7601', '116')\", \"('18/03/2020 18:16:00', 1584526560, 2.02, '7708', '120')\", \"('18/03/2020 20:21:00', 1584534060, 2.08, '8710', '132')\", \"('18/03/2020 22:10:00', 1584540600, 1.82, '8998', '150')\", \"('19/03/2020 02:17:00', 1584555420, 4.12, '9371', '153')\", \"('19/03/2020 10:16:00', 1584584160, 7.98, '9464', '155')\", \"('19/03/2020 12:18:00', 1584591480, 2.03, '9473', '155')\", \"('19/03/2020 14:15:00', 1584598500, 1.95, '9486', '157')\", \"('19/03/2020 16:22:00', 1584606120, 2.12, '10692', '160')\", \"('19/03/2020 18:17:00', 1584613020, 1.92, '11355', '171')\", \"('19/03/2020 22:45:00', 1584629100, 4.47, '13737', '201')\", \"('20/03/2020 00:48:00', 1584636480, 2.05, '13865', '211')\", \"('20/03/2020 02:40:00', 1584643200, 1.87, '14316', '218')\", \"('20/03/2020 04:34:00', 1584650040, 1.9, '14336', '218')\", \"('20/03/2020 06:35:00', 1584657300, 2.02, '14366', '217')\", \"('20/03/2020 08:10:00', 1584663000, 1.58, '14366', '217')\", \"('20/03/2020 10:11:00', 1584670260, 2.02, '14366', '217')\", \"('20/03/2020 12:11:00', 1584677460, 2.0, '14366', '217')\", \"('20/03/2020 14:10:00', 1584684600, 1.98, '14373', '218')\", \"('20/03/2020 16:11:00', 1584691860, 2.02, '16067', '219')\", \"('20/03/2020 18:12:00', 1584699120, 2.02, '16545', '225')\", \"('20/03/2020 20:12:00', 1584706320, 2.0, '18121', '233')\", \"('20/03/2020 22:12:00', 1584713520, 2.0, '18876', '237')\", \"('21/03/2020 00:06:00', 1584720360, 1.9, '19393', '256')\", \"('21/03/2020 02:07:00', 1584727620, 2.02, '19643', '263')\", \"('21/03/2020 04:08:00', 1584734880, 2.02, '19652', '264')\", \"('21/03/2020 06:05:00', 1584741900, 1.95, '19774', '275')\", \"('21/03/2020 08:10:00', 1584749400, 2.08, '19774', '275')\", \"('21/03/2020 10:12:00', 1584756720, 2.03, '19774', '275')\", \"('21/03/2020 12:46:00', 1584765960, 2.57, '19775', '276')\", \"('21/03/2020 14:48:00', 1584773280, 2.03, '19823', '276')\", \"('21/03/2020 16:48:00', 1584780480, 2.0, '22085', '282')\", \"('21/03/2020 18:45:00', 1584787500, 1.95, '22813', '288')\", \"('21/03/2020 20:45:00', 1584794700, 2.0, '24142', '288')\", \"('21/03/2020 22:45:00', 1584801900, 2.0, '23940', '301')\", \"('22/03/2020 00:40:00', 1584808800, 1.92, '26111', '324')\", \"('22/03/2020 02:40:00', 1584816000, 2.0, '26711', '341')\", \"('22/03/2020 04:45:00', 1584823500, 2.08, '26867', '348')\", \"('22/03/2020 06:30:00', 1584829800, 1.75, '26892', '348')\", \"('22/03/2020 08:45:00', 1584837900, 2.25, '26892', '348')\", \"('22/03/2020 10:45:00', 1584845100, 2.0, '26900', '348')\", \"('22/03/2020 12:48:00', 1584852480, 2.05, '26905', '348')\", \"('22/03/2020 14:45:00', 1584859500, 1.95, '27031', '349')\", \"('22/03/2020 16:42:00', 1584866520, 1.95, '30239', '388')\", \"('22/03/2020 18:48:00', 1584874080, 2.1, '38757', '400')\", \"('22/03/2020 20:44:00', 1584881040, 1.93, '32356', '414')\", \"('22/03/2020 21:41:00', 1584884460, 0.95, '32356', '414')\", \"('23/03/2020 00:44:00', 1584895440, 3.05, '33346', '414')\", \"('23/03/2020 02:37:00', 1584902220, 1.88, '33546', '419')\", \"('23/03/2020 03:55:00', 1584906900, 1.3, '34717', '452')\", \"('23/03/2020 06:45:00', 1584917100, 2.83, '35060', '457')\", \"('23/03/2020 08:47:00', 1584924420, 2.03, '35070', '458')\", \"('23/03/2020 10:47:00', 1584931620, 2.0, '35070', '458')\", \"('23/03/2020 12:46:00', 1584938760, 1.98, '35075', '458')\", \"('23/03/2020 14:45:00', 1584945900, 1.98, '35179', '459')\", \"('23/03/2020 16:45:00', 1584953100, 2.0, '40773', '479')\", \"('23/03/2020 18:46:00', 1584960360, 2.02, '41569', '504')\", \"('23/03/2020 20:47:00', 1584967620, 2.02, '42443', '517')\", \"('23/03/2020 22:31:00', 1584973860, 1.73, '43449', '545')\", \"('24/03/2020 00:47:00', 1584982020, 2.27, '43718', '552')\", \"('24/03/2020 02:33:00', 1584988380, 1.77, '43734', '553')\", \"('24/03/2020 04:46:00', 1584996360, 2.22, '46145', '582')\", \"('24/03/2020 06:43:00', 1585003380, 1.95, '46145', '582')\", \"('24/03/2020 08:48:00', 1585010880, 2.08, '46145', '582')\", \"('24/03/2020 10:47:00', 1585018020, 1.98, '46168', '582')\", \"('24/03/2020 12:47:00', 1585025220, 2.0, '46168', '582')\", \"('24/03/2020 14:47:00', 1585032420, 2.0, '46274', '588')\", \"('24/03/2020 16:47:00', 1585039620, 2.0, '49594', '622')\", \"('24/03/2020 18:45:00', 1585046700, 1.97, '50982', '655')\", \"('24/03/2020 20:42:00', 1585053720, 1.95, '52921', '684')\", \"('24/03/2020 22:48:00', 1585061280, 2.1, '53205', '687')\", \"('25/03/2020 00:29:00', 1585067340, 1.68, '53655', '698')\", \"('25/03/2020 02:44:00', 1585075440, 2.25, '54823', '778')\", \"('25/03/2020 04:46:00', 1585082760, 2.03, '54867', '782')\", \"('25/03/2020 06:47:00', 1585090020, 2.02, '54916', '784')\", \"('25/03/2020 08:48:00', 1585097280, 2.02, '54935', '784')\", \"('25/03/2020 10:43:00', 1585104180, 1.92, '54941', '784')\", \"('25/03/2020 12:48:00', 1585111680, 2.08, '54979', '785')\", \"('25/03/2020 14:48:00', 1585118880, 2.0, '55081', '785')\", \"('25/03/2020 16:48:00', 1585126080, 2.0, '60642', '817')\", \"('25/03/2020 18:48:00', 1585133280, 2.0, '62364', '878')\", \"('25/03/2020 20:33:00', 1585139580, 1.75, '64765', '910')\", \"('25/03/2020 22:44:00', 1585147440, 2.18, '65527', '928')\", \"('26/03/2020 00:34:00', 1585154040, 1.83, '65797', '935')\", \"('26/03/2020 02:43:00', 1585161780, 2.15, '66741', '963')\", \"('26/03/2020 05:24:00', 1585171440, 2.68, '68472', '1032')\", \"('26/03/2020 07:03:00', 1585177380, 1.65, '68489', '1032')\", \"('26/03/2020 09:02:00', 1585184520, 1.98, '68489', '1032')\", \"('26/03/2020 11:02:00', 1585191720, 2.0, '68581', '1036')\", \"('26/03/2020 13:01:00', 1585198860, 1.98, '68594', '1036')\", \"('26/03/2020 14:52:00', 1585205520, 1.85, '68905', '1037')\", \"('26/03/2020 17:02:00', 1585213320, 2.17, '75069', '1080')\", \"('26/03/2020 19:00:00', 1585220400, 1.97, '79082', '1143')\", \"('26/03/2020 21:01:00', 1585227660, 2.02, '81946', '1177')\", \"('26/03/2020 23:02:00', 1585234920, 2.02, '83206', '1201')\", \"('27/03/2020 01:00:00', 1585242000, 1.97, '85280', '1293')\", \"('27/03/2020 03:01:00', 1585249260, 2.02, '85520', '1297')\", \"('27/03/2020 04:36:00', 1585254960, 1.58, '85594', '1300')\", \"('27/03/2020 07:33:00', 1585265580, 2.95, '85612', '1301')\", \"('27/03/2020 09:32:00', 1585272720, 1.98, '85612', '1301')\", \"('27/03/2020 11:31:00', 1585279860, 1.98, '85749', '1304')\", \"('27/03/2020 13:32:00', 1585287120, 2.02, '85755', '1304')\", \"('27/03/2020 15:33:00', 1585294380, 2.02, '86548', '1321')\", \"('27/03/2020 17:32:00', 1585301520, 1.98, '94425', '1429')\", \"('27/03/2020 19:33:00', 1585308780, 2.02, '98180', '1513')\", \"('27/03/2020 21:33:00', 1585315980, 2.0, '100514', '1546')\", \"('27/03/2020 23:33:00', 1585323180, 2.0, '102325', '1591')\", \"('28/03/2020 01:32:00', 1585330320, 1.98, '104126', '1692')\", \"('28/03/2020 03:34:00', 1585337640, 2.03, '104205', '1704')\", \"('28/03/2020 05:35:00', 1585344900, 2.02, '104205', '1704')\", \"('28/03/2020 07:35:00', 1585352100, 2.0, '104256', '1704')\", \"('28/03/2020 09:35:00', 1585359300, 2.0, '104256', '1704')\", \"('28/03/2020 11:40:00', 1585366800, 2.08, '104256', '1704')\", \"('28/03/2020 13:36:00', 1585373760, 1.93, '104277', '1704')\", \"('28/03/2020 15:45:00', 1585381500, 2.15, '105726', '1730')\", \"('28/03/2020 17:45:00', 1585388700, 2.0, '116050', '1937')\", \"('28/03/2020 19:43:00', 1585395780, 1.97, '118592', '1979')\", \"('28/03/2020 21:44:00', 1585403040, 2.02, '120204', '1997')\", \"('28/03/2020 23:43:00', 1585410180, 1.98, '123311', '2211')\", \"('29/03/2020 01:46:00', 1585417560, 2.05, '123578', '2221')\", \"('29/03/2020 03:46:00', 1585424760, 2.0, '123750', '2227')\", \"('29/03/2020 05:48:00', 1585432080, 2.03, '123774', '2228')\", \"('29/03/2020 07:41:00', 1585438860, 1.88, '123776', '2229')\", \"('29/03/2020 09:45:00', 1585446300, 2.07, '123781', '2229')\", \"('29/03/2020 11:44:00', 1585453440, 1.98, '123781', '2229')\", \"('29/03/2020 13:46:00', 1585460760, 2.03, '123828', '2229')\", \"('29/03/2020 15:47:00', 1585468020, 2.02, '125099', '2238')\", \"('29/03/2020 17:49:00', 1585475340, 2.03, '133146', '2363')\", \"('29/03/2020 19:47:00', 1585482420, 1.97, '137943', '2431')\", \"('29/03/2020 21:48:00', 1585489680, 2.02, '139904', '2449')\", \"('29/03/2020 23:49:00', 1585496940, 2.02, '141781', '2471')\", \"('30/03/2020 01:44:00', 1585503840, 1.92, '142004', '2484')\", \"('30/03/2020 03:46:00', 1585511160, 2.03, '142735', '2488')\", \"('30/03/2020 06:46:00', 1585521960, 3.0, '142735', '2488')\", \"('30/03/2020 08:50:00', 1585529400, 2.07, '142735', '2489')\", \"('30/03/2020 10:50:00', 1585536600, 2.0, '142746', '2489')\", \"('30/03/2020 12:50:00', 1585543800, 2.0, '142793', '2490')\", \"('30/03/2020 14:50:00', 1585551000, 2.0, '144410', '2600')\", \"('30/03/2020 16:50:00', 1585558200, 2.0, '145542', '2616')\", \"('30/03/2020 18:50:00', 1585565400, 2.0, '156565', '2870')\", \"('30/03/2020 20:50:00', 1585572600, 2.0, '159689', '2951')\", \"('30/03/2020 22:50:00', 1585579800, 2.0, '161358', '2974')\", \"('31/03/2020 00:50:00', 1585587000, 2.0, '163479', '3148')\", \"('31/03/2020 02:50:00', 1585594200, 2.0, '164253', '3165')\", \"('31/03/2020 04:50:00', 1585601400, 2.0, '164253', '3167')\", \"('31/03/2020 06:50:00', 1585608600, 2.0, '164323', '3170')\", \"('31/03/2020 08:42:00', 1585615320, 1.87, '164359', '3173')\", \"('31/03/2020 10:49:00', 1585622940, 2.12, '164359', '3173')\", \"('31/03/2020 12:49:00', 1585630140, 2.0, '164435', '3175')\", \"('31/03/2020 14:49:00', 1585637340, 2.0, '165392', '3182')\", \"('31/03/2020 16:49:00', 1585644540, 2.0, '175669', '3424')\", \"('31/03/2020 18:49:00', 1585651740, 2.0, '180340', '3573')\", \"('31/03/2020 20:49:00', 1585658940, 2.0, '186046', '3807')\", \"('31/03/2020 22:49:00', 1585666140, 2.0, '187729', '3867')\", \"('01/04/2020 02:49:00', 1585680540, 4.0, '188530', '3889')\", \"('01/04/2020 04:49:00', 1585687740, 2.0, '188578', '4054')\", \"('01/04/2020 06:49:00', 1585694940, 2.0, '188592', '4055')\", \"('01/04/2020 08:49:00', 1585702140, 2.0, '188592', '4056')\", \"('01/04/2020 10:49:00', 1585709340, 2.0, '188639', '4059')\", \"('01/04/2020 12:49:00', 1585716540, 2.0, '188647', '4059')\", \"('01/04/2020 14:49:00', 1585723740, 2.0, '189711', '4099')\", \"('01/04/2020 16:49:00', 1585730940, 2.0, '200289', '4394')\", \"('01/04/2020 18:49:00', 1585738140, 2.0, '205438', '4528')\", \"('01/04/2020 20:49:00', 1585745340, 2.0, '211143', '4713')\", \"('01/04/2020 22:49:00', 1585752540, 2.0, '212980', '4759')\", \"('02/04/2020 00:49:00', 1585759740, 2.0, '215003', '5102')\", \"('02/04/2020 02:49:00', 1585766940, 2.0, '215175', '5110')\", \"('02/04/2020 04:49:00', 1585774140, 2.0, '215300', '5110')\", \"('02/04/2020 06:49:00', 1585781340, 2.0, '215324', '5112')\", \"('02/04/2020 08:49:00', 1585788540, 2.0, '215344', '5112')\", \"('02/04/2020 10:49:00', 1585795740, 2.0, '215344', '5112')\", \"('02/04/2020 12:49:00', 1585802940, 2.0, '216722', '5140')\", \"('02/04/2020 14:49:00', 1585810140, 2.0, '219832', '5227')\", \"('02/04/2020 16:49:00', 1585817340, 2.0, '222658', '5356')\", \"('02/04/2020 18:49:00', 1585824540, 2.0, '232899', '5665')\", \"('02/04/2020 20:49:00', 1585831740, 2.0, '243298', '5883')\", \"('02/04/2020 22:19:00', 1585837140, 1.5, '244230', '5883')\", \"('03/04/2020 01:20:00', 1585848000, 3.02, '244877', '6070')\", \"('03/04/2020 01:36:00', 1585848960, 0.27, '245066', '6075')\", \"('03/04/2020 03:20:00', 1585855200, 1.73, '245088', '6075')\", \"('03/04/2020 05:20:00', 1585862400, 2.0, '245341', '6095')\", \"('03/04/2020 07:20:00', 1585869600, 2.0, '245373', '6095')\", \"('03/04/2020 09:20:00', 1585876800, 2.0, '245373', '6095')\", \"('03/04/2020 11:20:00', 1585884000, 2.0, '245380', '6095')\", \"('03/04/2020 13:20:00', 1585891200, 2.0, '245442', '6098')\", \"('03/04/2020 14:49:00', 1585896540, 1.48, '245442', '6099')\", \"('03/04/2020 16:49:00', 1585903740, 2.0, '259750', '6603')\", \"('03/04/2020 18:49:00', 1585910940, 2.0, '266279', '6803')\", \"('03/04/2020 20:49:00', 1585918140, 2.0, '272614', '6988')\", \"('03/04/2020 22:49:00', 1585925340, 2.0, '275802', '7087')\", \"('04/04/2020 00:49:00', 1585932540, 2.0, '276965', '7391')\", \"('04/04/2020 02:49:00', 1585939740, 2.0, '277161', '7392')\"] \n",
      "\n",
      "\n",
      "--EPOCHS- 235 ---------------------------------------------------------\n",
      "\n",
      "[1583699400, 1583789400, 1583854500, 1583871900, 1583911020, 1583940900, 1583954700, 1583984220, 1584021600, 1584029100, 1584034500, 1584042300, 1584050400, 1584084300, 1584109500, 1584124800, 1584141240, 1584175500, 1584198180, 1584219600, 1584222000, 1584227100, 1584270000, 1584273900, 1584278100, 1584281700, 1584290100, 1584298080, 1584308160, 1584318540, 1584355200, 1584369600, 1584377100, 1584384000, 1584398100, 1584412260, 1584427080, 1584441660, 1584453300, 1584456000, 1584469200, 1584482700, 1584497400, 1584519300, 1584526560, 1584534060, 1584540600, 1584555420, 1584584160, 1584591480, 1584598500, 1584606120, 1584613020, 1584629100, 1584636480, 1584643200, 1584650040, 1584657300, 1584663000, 1584670260, 1584677460, 1584684600, 1584691860, 1584699120, 1584706320, 1584713520, 1584720360, 1584727620, 1584734880, 1584741900, 1584749400, 1584756720, 1584765960, 1584773280, 1584780480, 1584787500, 1584794700, 1584801900, 1584808800, 1584816000, 1584823500, 1584829800, 1584837900, 1584845100, 1584852480, 1584859500, 1584866520, 1584874080, 1584881040, 1584884460, 1584895440, 1584902220, 1584906900, 1584917100, 1584924420, 1584931620, 1584938760, 1584945900, 1584953100, 1584960360, 1584967620, 1584973860, 1584982020, 1584988380, 1584996360, 1585003380, 1585010880, 1585018020, 1585025220, 1585032420, 1585039620, 1585046700, 1585053720, 1585061280, 1585067340, 1585075440, 1585082760, 1585090020, 1585097280, 1585104180, 1585111680, 1585118880, 1585126080, 1585133280, 1585139580, 1585147440, 1585154040, 1585161780, 1585171440, 1585177380, 1585184520, 1585191720, 1585198860, 1585205520, 1585213320, 1585220400, 1585227660, 1585234920, 1585242000, 1585249260, 1585254960, 1585265580, 1585272720, 1585279860, 1585287120, 1585294380, 1585301520, 1585308780, 1585315980, 1585323180, 1585330320, 1585337640, 1585344900, 1585352100, 1585359300, 1585366800, 1585373760, 1585381500, 1585388700, 1585395780, 1585403040, 1585410180, 1585417560, 1585424760, 1585432080, 1585438860, 1585446300, 1585453440, 1585460760, 1585468020, 1585475340, 1585482420, 1585489680, 1585496940, 1585503840, 1585511160, 1585521960, 1585529400, 1585536600, 1585543800, 1585551000, 1585558200, 1585565400, 1585572600, 1585579800, 1585587000, 1585594200, 1585601400, 1585608600, 1585615320, 1585622940, 1585630140, 1585637340, 1585644540, 1585651740, 1585658940, 1585666140, 1585680540, 1585687740, 1585694940, 1585702140, 1585709340, 1585716540, 1585723740, 1585730940, 1585738140, 1585745340, 1585752540, 1585759740, 1585766940, 1585774140, 1585781340, 1585788540, 1585795740, 1585802940, 1585810140, 1585817340, 1585824540, 1585831740, 1585837140, 1585848000, 1585848960, 1585855200, 1585862400, 1585869600, 1585876800, 1585884000, 1585891200, 1585896540, 1585903740, 1585910940, 1585918140, 1585925340, 1585932540, 1585939740] \n",
      "\n"
     ]
    }
   ],
   "source": [
    "import datetime\n",
    "import calendar\n",
    "import time\n",
    "from M2D import *\n",
    "# 3,13,2020,03:45,GMT,1747,41\n",
    "text =arrangedDdata.split(\"\\n\")\n",
    "text= text[1:-1]\n",
    "EPOCHa=[]\n",
    "Scnt=0\n",
    "DEATHS = []\n",
    "ALLdata=[]\n",
    "EPOCHS = []\n",
    "SPANS = []\n",
    "for line in text:\n",
    "    #print(\"line\",line)\n",
    "    #line=str(LINE)\n",
    "    line = line.split(\" \")\n",
    "    CnD = (\"split\",line[2],line[3])\n",
    "    #print (str(line[1]+'/'+line[0]+'/'+line[2][:-3]))\n",
    "    dt = time.strftime(line[0]+' '+line[1])#+' '+line[2][:-3])\n",
    "    #print (\"dt\",dt)\n",
    "    \n",
    "    dt_ti = dt\n",
    "    #print (dt_ti)\n",
    "    #03-16-2020 02:48,3777\n",
    "    pattern = '%d/%m/%Y %H:%M:%S'\n",
    "    #pattern = '%m/%d/%Y %H:%M:%S'\n",
    "    epochs = int(time.mktime(time.strptime(dt_ti, pattern)))\n",
    "    #print (\"dt_ti, epochs\",dt_ti, epochs)\n",
    "\n",
    "    #if Scnt>1:print (dt_ti, epochs)\n",
    "    if Scnt>1:SPANS.append(span(int(last),int(epochs)))\n",
    "    if Scnt==0:last=1583661400     \n",
    "    #print (dt_ti, epochs,span(int(last),int(epochs)),line[2],line[3])\n",
    "    EPOCHS.append(int(epochs))\n",
    "    ad = dt_ti, epochs,span(int(last),int(epochs)),line[2],line[3]\n",
    "    DEATHS.append(line[3])\n",
    "    AS =str(ad)\n",
    "    #print (\"AS\",AS)\n",
    "    #ALLdata.append(dt_ti+\",\"+str(epochs)+\",\"+str(span(int(last),int(epochs)))+\",\"+str(line[2])+\",\"+str(line[3]))\n",
    "    ALLdata.append(AS)\n",
    "    Scnt=Scnt+1\n",
    "    \n",
    "    last = int(epochs)    \n",
    "    #print (span(int(last),int(epochs)))\n",
    "    EPOCHa.append(str(epochs))\n",
    "    \n",
    "print(\"\\n--SPANS-\",len(SPANS),\"---------------------------------------------------------\\n\")    \n",
    "print (SPANS,\"\\n\")\n",
    "print(\"\\n--ALLdata-\",len(ALLdata),\"---------------------------------------------------------\\n\")\n",
    "print (ALLdata,\"\\n\")\n",
    "print(\"\\n--EPOCHS-\",len(EPOCHS),\"---------------------------------------------------------\\n\")\n",
    "print (EPOCHS,\"\\n\")"
   ]
  },
  {
   "cell_type": "code",
   "execution_count": 467,
   "metadata": {},
   "outputs": [
    {
     "name": "stdout",
     "output_type": "stream",
     "text": [
      "There are 235 items\n",
      "Minimum is ('01/04/2020 02:49:00', 1585680540, 4.0, '188530', '3889')\n",
      "Maximum is ('31/03/2020 22:49:00', 1585666140, 2.0, '187729', '3867')\n"
     ]
    }
   ],
   "source": [
    "n = ALLdata\n",
    "\n",
    "print(\"There are {0} items\".format(len(n)))\n",
    "\n",
    "print(\"Minimum is {0}\".format(min(n)))\n",
    "print(\"Maximum is {0}\".format(max(n)))"
   ]
  },
  {
   "cell_type": "code",
   "execution_count": 468,
   "metadata": {},
   "outputs": [
    {
     "name": "stdout",
     "output_type": "stream",
     "text": [
      "537 589 708 975 1010 1016 1301 1327 1336 1639 1715 1725 1747 1762 1832 2269 2291 2319 2499 2836 2982 2995 3043 3329 3400 3621 3502 3714 3777 3782 3802 4186 4597 4667 4704 4727 4743 4752 5723 6211 6349 6499 6522 6524 7601 7708 8710 8998 9371 9464 9473 9486 10692 11355 13737 13865 14316 14336 14366 14366 14366 14366 14373 16067 16545 18121 18876 19393 19643 19652 19774 19774 19774 19775 19823 22085 22813 24142 23940 26111 26711 26867 26892 26892 26900 26905 27031 30239 38757 32356 32356 33346 33546 34717 35060 35070 35070 35075 35179 40773 41569 42443 43449 43718 43734 46145 46145 46145 46168 46168 46274 49594 50982 52921 53205 53655 54823 54867 54916 54935 54941 54979 55081 60642 62364 64765 65527 65797 66741 68472 68489 68489 68581 68594 68905 75069 79082 81946 83206 85280 85520 85594 85612 85612 85749 85755 86548 94425 98180 100514 102325 104126 104205 104205 104256 104256 104256 104277 105726 116050 118592 120204 123311 123578 123750 123774 123776 123781 123781 123828 125099 133146 137943 139904 141781 142004 142735 142735 142735 142746 142793 144410 145542 156565 159689 161358 163479 164253 164253 164323 164359 164359 164435 165392 175669 180340 186046 187729 188530 188578 188592 188592 188639 188647 189711 200289 205438 211143 212980 215003 215175 215300 215324 215344 215344 216722 219832 222658 232899 243298 244230 244877 245066 245088 245341 245373 245373 245380 245442 245442 259750 266279 272614 275802 276965 277161 \n",
      " 236\n"
     ]
    }
   ],
   "source": [
    "import sqlite3\n",
    "from M2D import Month2Num\n",
    "CASES = []\n",
    "conn=sqlite3.connect(\"DATA/CoronaData2.db\")\n",
    "c= conn.cursor()\n",
    "for rows in c.execute('SELECT * from CORONA'):\n",
    "    rows=str(rows)\n",
    "    row = rows.split(\" \")\n",
    "    print (row[9], end=\" \")\n",
    "    CASES.append(row[9])\n",
    "conn.close() \n",
    "#3-15-2020 19:00,3329\n",
    "print (\"\\n\",len(CASES))"
   ]
  },
  {
   "cell_type": "code",
   "execution_count": 469,
   "metadata": {},
   "outputs": [
    {
     "name": "stdout",
     "output_type": "stream",
     "text": [
      "Len EPOCHa 235\n",
      "['1583871900' '1583911020' '1583940900' '1583954700' '1583984220'\n",
      " '1584021600' '1584029100' '1584034500' '1584042300' '1584050400'\n",
      " '1584084300' '1584109500' '1584124800' '1584141240' '1584175500'\n",
      " '1584198180' '1584219600' '1584222000' '1584227100' '1584270000'\n",
      " '1584273900' '1584278100' '1584281700' '1584290100' '1584298080'\n",
      " '1584308160' '1584318540' '1584355200' '1584369600' '1584377100'\n",
      " '1584384000' '1584398100' '1584412260' '1584427080' '1584441660'\n",
      " '1584453300' '1584456000' '1584469200' '1584482700' '1584497400'\n",
      " '1584519300' '1584526560' '1584534060' '1584540600' '1584555420'\n",
      " '1584584160' '1584591480' '1584598500' '1584606120' '1584613020'\n",
      " '1584629100' '1584636480' '1584643200' '1584650040' '1584657300'\n",
      " '1584663000' '1584670260' '1584677460' '1584684600' '1584691860'\n",
      " '1584699120' '1584706320' '1584713520' '1584720360' '1584727620'\n",
      " '1584734880' '1584741900' '1584749400' '1584756720' '1584765960'\n",
      " '1584773280' '1584780480' '1584787500' '1584794700' '1584801900'\n",
      " '1584808800' '1584816000' '1584823500' '1584829800' '1584837900'\n",
      " '1584845100' '1584852480' '1584859500' '1584866520' '1584874080'\n",
      " '1584881040' '1584884460' '1584895440' '1584902220' '1584906900'\n",
      " '1584917100' '1584924420' '1584931620' '1584938760' '1584945900'\n",
      " '1584953100' '1584960360' '1584967620' '1584973860' '1584982020'\n",
      " '1584988380' '1584996360' '1585003380' '1585010880' '1585018020'\n",
      " '1585025220' '1585032420' '1585039620' '1585046700' '1585053720'\n",
      " '1585061280' '1585067340' '1585075440' '1585082760' '1585090020'\n",
      " '1585097280' '1585104180' '1585111680' '1585118880' '1585126080'\n",
      " '1585133280' '1585139580' '1585147440' '1585154040' '1585161780'\n",
      " '1585171440' '1585177380' '1585184520' '1585191720' '1585198860'\n",
      " '1585205520' '1585213320' '1585220400' '1585227660' '1585234920'\n",
      " '1585242000' '1585249260' '1585254960' '1585265580' '1585272720'\n",
      " '1585279860' '1585287120' '1585294380' '1585301520' '1585308780'\n",
      " '1585315980' '1585323180' '1585330320' '1585337640' '1585344900'\n",
      " '1585352100' '1585359300' '1585366800' '1585373760' '1585381500'\n",
      " '1585388700' '1585395780' '1585403040' '1585410180' '1585417560'\n",
      " '1585424760' '1585432080' '1585438860' '1585446300' '1585453440'\n",
      " '1585460760' '1585468020' '1585475340' '1585482420' '1585489680'\n",
      " '1585496940' '1585503840' '1585511160' '1585521960' '1585529400'\n",
      " '1585536600' '1585543800' '1585551000' '1585558200' '1585565400'\n",
      " '1585572600' '1585579800' '1585587000' '1585594200' '1585601400'\n",
      " '1585608600' '1585615320' '1585622940' '1585630140' '1585637340'\n",
      " '1585644540' '1585651740' '1585658940' '1585666140' '1585680540'\n",
      " '1585687740' '1585694940' '1585702140' '1585709340' '1585716540'\n",
      " '1585723740' '1585730940' '1585738140' '1585745340' '1585752540'\n",
      " '1585759740' '1585766940' '1585774140' '1585781340' '1585788540'\n",
      " '1585795740' '1585802940' '1585810140' '1585817340' '1585824540'\n",
      " '1585831740' '1585837140' '1585848000' '1585848960' '1585855200'\n",
      " '1585862400' '1585869600' '1585876800' '1585884000' '1585891200'\n",
      " '1585896540' '1585903740' '1585910940' '1585918140' '1585925340'\n",
      " '1585932540' '1585939740'] Len LAST 235\n",
      "[   589    708    975   1010   1016   1301   1327   1336   1639   1715\n",
      "   1725   1747   1762   1832   2269   2291   2319   2499   2836   2982\n",
      "   2995   3043   3329   3400   3621   3502   3714   3777   3782   3802\n",
      "   4186   4597   4667   4704   4727   4743   4752   5723   6211   6349\n",
      "   6499   6522   6524   7601   7708   8710   8998   9371   9464   9473\n",
      "   9486  10692  11355  13737  13865  14316  14336  14366  14366  14366\n",
      "  14366  14373  16067  16545  18121  18876  19393  19643  19652  19774\n",
      "  19774  19774  19775  19823  22085  22813  24142  23940  26111  26711\n",
      "  26867  26892  26892  26900  26905  27031  30239  38757  32356  32356\n",
      "  33346  33546  34717  35060  35070  35070  35075  35179  40773  41569\n",
      "  42443  43449  43718  43734  46145  46145  46145  46168  46168  46274\n",
      "  49594  50982  52921  53205  53655  54823  54867  54916  54935  54941\n",
      "  54979  55081  60642  62364  64765  65527  65797  66741  68472  68489\n",
      "  68489  68581  68594  68905  75069  79082  81946  83206  85280  85520\n",
      "  85594  85612  85612  85749  85755  86548  94425  98180 100514 102325\n",
      " 104126 104205 104205 104256 104256 104256 104277 105726 116050 118592\n",
      " 120204 123311 123578 123750 123774 123776 123781 123781 123828 125099\n",
      " 133146 137943 139904 141781 142004 142735 142735 142735 142746 142793\n",
      " 144410 145542 156565 159689 161358 163479 164253 164253 164323 164359\n",
      " 164359 164435 165392 175669 180340 186046 187729 188530 188578 188592\n",
      " 188592 188639 188647 189711 200289 205438 211143 212980 215003 215175\n",
      " 215300 215324 215344 215344 216722 219832 222658 232899 243298 244230\n",
      " 244877 245066 245088 245341 245373 245373 245380 245442 245442 259750\n",
      " 266279 272614 275802 276965 277161]\n"
     ]
    },
    {
     "data": {
      "image/png": "[encoded data removed]",
      "text/plain": [
       "<Figure size 800x640 with 2 Axes>"
      ]
     },
     "metadata": {},
     "output_type": "display_data"
    }
   ],
   "source": [
    "from __future__ import division\n",
    "import sys\n",
    "import glob\n",
    "import time\n",
    "import os\n",
    "import matplotlib\n",
    "import matplotlib.pyplot as plt\n",
    "from matplotlib.pyplot import figure\n",
    "\n",
    "#%matplotlib inline \n",
    "import numpy as np \n",
    "\n",
    "E=len(EPOCHa)\n",
    "print (\"Len EPOCHa\",E)\n",
    "Time = np.array(EPOCHa)\n",
    "print (Time[3:], end=\" \")\n",
    "\n",
    "del CASES[0]\n",
    "e = len(CASES)\n",
    "print (\"Len LAST\",e)\n",
    "ss = range(0,e)\n",
    "aa = np.array(CASES)\n",
    "Ta = np.array(CASES,dtype=np.int)\n",
    "print(Ta)\n",
    "s= np.array(CASES)\n",
    "figure(num=None, figsize=(10,8), dpi=80, facecolor='salmon')\n",
    "#fig, ax = plt.subplots(dpi=150)\n",
    "\n",
    "\n",
    "plt.subplot(2, 1, 1)\n",
    "plt.plot(Time, Ta, 'blue')\n",
    "plt.title('Using Timestamps')\n",
    "plt.ylabel('Number of Cases')\n",
    "\n",
    "\n",
    "plt.subplot(2, 1, 2)\n",
    "plt.plot(s, Ta, 'red')\n",
    "plt.xlabel('time (s)')\n",
    "plt.ylabel('Undamped')\n",
    "\n",
    "plt.show()\n",
    "\n"
   ]
  },
  {
   "cell_type": "raw",
   "metadata": {
    "scrolled": false
   },
   "source": [
    "from __future__ import division\n",
    "import sys\n",
    "import glob\n",
    "import time\n",
    "import os\n",
    "import matplotlib\n",
    "import matplotlib.pyplot as plt\n",
    "from matplotlib.pyplot import figure\n",
    "\n",
    "#%matplotlib inline \n",
    "import numpy as np \n",
    "del EPOCHa[0]\n",
    "del EPOCHa[0]\n",
    "E=len(EPOCHa)\n",
    "print (\"Len EPOCHa\",E)\n",
    "Time = np.array(EPOCHa)\n",
    "print (Time[3:], end=\" \")\n",
    "#del HOURS[0]\n",
    "hours = np.array(SPANS)\n",
    "print(\"\\nLen Hours: \",len(SPANS))\n",
    "print (hours, end=\" \")\n",
    "del CASES[0]\n",
    "del CASES[0]\n",
    "e = len(CASES)\n",
    "print (\"\\nLen CASES\",e)\n",
    "ss = range(0,e)\n",
    "SS =np.array(ss)\n",
    "aa = np.array(CASES)\n",
    "Ta = np.array(CASES,dtype=np.int)\n",
    "print(Ta)\n",
    "s= np.array(CASES)\n",
    "figure(num=None, figsize=(10,8), dpi=80, facecolor='salmon')\n",
    "#fig, ax = plt.subplots(dpi=150)\n",
    "\n",
    "\n",
    "plt.subplot(2, 1, 1)\n",
    "plt.plot(Time, Ta, 'blue')\n",
    "plt.plot(s, Ta, 'red')\n",
    "plt.title('Using Timestamps')\n",
    "plt.ylabel('Number of Cases')\n",
    "\n",
    "\n",
    "plt.subplot(2, 1, 2)\n",
    "plt.plot(Ta,hours, 'red')\n",
    "plt.xlabel('time in Hours')\n",
    "plt.ylabel('Undamped')\n",
    "\n",
    "plt.show()\n",
    "\n"
   ]
  },
  {
   "cell_type": "code",
   "execution_count": 470,
   "metadata": {},
   "outputs": [],
   "source": [
    "count = 0\n",
    "ACC = []\n",
    "acc=0\n",
    "for accum in SPANS:\n",
    "    acc=acc+accum\n",
    "    ACC.append(round(acc,1))\n"
   ]
  },
  {
   "cell_type": "code",
   "execution_count": 471,
   "metadata": {},
   "outputs": [
    {
     "name": "stdout",
     "output_type": "stream",
     "text": [
      "DTE.py\tM2D.py\r\n"
     ]
    }
   ],
   "source": [
    "!ls *.py"
   ]
  },
  {
   "cell_type": "markdown",
   "metadata": {},
   "source": [
    "# FIX THIS "
   ]
  },
  {
   "cell_type": "raw",
   "metadata": {
    "scrolled": false
   },
   "source": [
    "from __future__ import division\n",
    "from M2D import *\n",
    "import sys\n",
    "import glob\n",
    "import time\n",
    "import os\n",
    "import matplotlib\n",
    "import matplotlib.pyplot as plt\n",
    "from matplotlib.pyplot import figure\n",
    "#%matplotlib inline \n",
    "import numpy as np \n",
    "\n",
    "import sqlite3\n",
    "conn=sqlite3.connect(\"DATA/CoronaData2.db\")\n",
    "c= conn.cursor()\n",
    "cnt=0\n",
    "for rowZ in c.execute(\"Select ROWID,* from CORONA\"):\n",
    "    row = rowZ[1]\n",
    "    row=row.split(\" \")\n",
    "    #print(row)\n",
    "    #data0 = row[1],row[2],row,[3],row[4],row[5],row[10],row[14]\n",
    "    #print (row[0],row[1],row[2],row,[3],row[4],row[5],row[10],row[14])\n",
    "print(Month2Num(row[0]),row[1],row[2],row[4],row[9],row[13])\n",
    "\n",
    "figure(num=None, figsize=(10,8), dpi=80, facecolor='salmon')\n",
    "#fig, ax = plt.subplots(dpi=150)\n",
    "plt.subplot(2, 1, 1)\n",
    "plt.plot(Time, Ta, 'blue')\n",
    "plt.plot(s, Ta, 'red')\n",
    "plt.title('Using Timestamps')\n",
    "plt.ylabel('Number of Cases')\n",
    "\n",
    "\n",
    "plt.subplot(2, 1, 2)\n",
    "plt.plot(hours,Ta, 'red')\n",
    "plt.xlabel('time in Hours')\n",
    "plt.ylabel('Undamped')\n",
    "\n",
    "plt.show()\n",
    "\n"
   ]
  },
  {
   "cell_type": "raw",
   "metadata": {},
   "source": [
    "!pip install plotly"
   ]
  },
  {
   "cell_type": "markdown",
   "metadata": {},
   "source": [
    "<a id=\"plotly\"></a>\n",
    "<b><a href=\"#home\">HOME</a></b>"
   ]
  },
  {
   "cell_type": "code",
   "execution_count": 472,
   "metadata": {},
   "outputs": [
    {
     "data": {
      "application/vnd.plotly.v1+json": {
       "config": {
        "plotlyServerURL": "https://plot.ly"
       },
       "data": [
        {
         "type": "scatter",
         "y": [
          18.08,
          4.83,
          10.87,
          8.3,
          3.83,
          8.2,
          10.38,
          2.08,
          1.5,
          2.17,
          2.25,
          9.42,
          7,
          4.25,
          4.57,
          9.52,
          6.3,
          5.95,
          0.67,
          1.42,
          11.92,
          1.08,
          1.17,
          1,
          2.33,
          2.22,
          2.8,
          2.88,
          10.18,
          4,
          2.08,
          1.92,
          3.92,
          3.93,
          4.12,
          4.05,
          3.23,
          0.75,
          3.67,
          3.75,
          4.08,
          6.08,
          2.02,
          2.08,
          1.82,
          4.12,
          7.98,
          2.03,
          1.95,
          2.12,
          1.92,
          4.47,
          2.05,
          1.87,
          1.9,
          2.02,
          1.58,
          2.02,
          2,
          1.98,
          2.02,
          2.02,
          2,
          2,
          1.9,
          2.02,
          2.02,
          1.95,
          2.08,
          2.03,
          2.57,
          2.03,
          2,
          1.95,
          2,
          2,
          1.92,
          2,
          2.08,
          1.75,
          2.25,
          2,
          2.05,
          1.95,
          1.95,
          2.1,
          1.93,
          0.95,
          3.05,
          1.88,
          1.3,
          2.83,
          2.03,
          2,
          1.98,
          1.98,
          2,
          2.02,
          2.02,
          1.73,
          2.27,
          1.77,
          2.22,
          1.95,
          2.08,
          1.98,
          2,
          2,
          2,
          1.97,
          1.95,
          2.1,
          1.68,
          2.25,
          2.03,
          2.02,
          2.02,
          1.92,
          2.08,
          2,
          2,
          2,
          1.75,
          2.18,
          1.83,
          2.15,
          2.68,
          1.65,
          1.98,
          2,
          1.98,
          1.85,
          2.17,
          1.97,
          2.02,
          2.02,
          1.97,
          2.02,
          1.58,
          2.95,
          1.98,
          1.98,
          2.02,
          2.02,
          1.98,
          2.02,
          2,
          2,
          1.98,
          2.03,
          2.02,
          2,
          2,
          2.08,
          1.93,
          2.15,
          2,
          1.97,
          2.02,
          1.98,
          2.05,
          2,
          2.03,
          1.88,
          2.07,
          1.98,
          2.03,
          2.02,
          2.03,
          1.97,
          2.02,
          2.02,
          1.92,
          2.03,
          3,
          2.07,
          2,
          2,
          2,
          2,
          2,
          2,
          2,
          2,
          2,
          2,
          2,
          1.87,
          2.12,
          2,
          2,
          2,
          2,
          2,
          2,
          4,
          2,
          2,
          2,
          2,
          2,
          2,
          2,
          2,
          2,
          2,
          2,
          2,
          2,
          2,
          2,
          2,
          2,
          2,
          2,
          2,
          2,
          1.5,
          3.02,
          0.27,
          1.73,
          2,
          2,
          2,
          2,
          2,
          1.48,
          2,
          2,
          2,
          2,
          2,
          2
         ]
        }
       ],
       "layout": {
        "template": {
         "data": {
          "bar": [
           {
            "error_x": {
             "color": "#2a3f5f"
            },
            "error_y": {
             "color": "#2a3f5f"
            },
            "marker": {
             "line": {
              "color": "#E5ECF6",
              "width": 0.5
             }
            },
            "type": "bar"
           }
          ],
          "barpolar": [
           {
            "marker": {
             "line": {
              "color": "#E5ECF6",
              "width": 0.5
             }
            },
            "type": "barpolar"
           }
          ],
          "carpet": [
           {
            "aaxis": {
             "endlinecolor": "#2a3f5f",
             "gridcolor": "white",
             "linecolor": "white",
             "minorgridcolor": "white",
             "startlinecolor": "#2a3f5f"
            },
            "baxis": {
             "endlinecolor": "#2a3f5f",
             "gridcolor": "white",
             "linecolor": "white",
             "minorgridcolor": "white",
             "startlinecolor": "#2a3f5f"
            },
            "type": "carpet"
           }
          ],
          "choropleth": [
           {
            "colorbar": {
             "outlinewidth": 0,
             "ticks": ""
            },
            "type": "choropleth"
           }
          ],
          "contour": [
           {
            "colorbar": {
             "outlinewidth": 0,
             "ticks": ""
            },
            "colorscale": [
             [
              0,
              "#0d0887"
             ],
             [
              0.1111111111111111,
              "#46039f"
             ],
             [
              0.2222222222222222,
              "#7201a8"
             ],
             [
              0.3333333333333333,
              "#9c179e"
             ],
             [
              0.4444444444444444,
              "#bd3786"
             ],
             [
              0.5555555555555556,
              "#d8576b"
             ],
             [
              0.6666666666666666,
              "#ed7953"
             ],
             [
              0.7777777777777778,
              "#fb9f3a"
             ],
             [
              0.8888888888888888,
              "#fdca26"
             ],
             [
              1,
              "#f0f921"
             ]
            ],
            "type": "contour"
           }
          ],
          "contourcarpet": [
           {
            "colorbar": {
             "outlinewidth": 0,
             "ticks": ""
            },
            "type": "contourcarpet"
           }
          ],
          "heatmap": [
           {
            "colorbar": {
             "outlinewidth": 0,
             "ticks": ""
            },
            "colorscale": [
             [
              0,
              "#0d0887"
             ],
             [
              0.1111111111111111,
              "#46039f"
             ],
             [
              0.2222222222222222,
              "#7201a8"
             ],
             [
              0.3333333333333333,
              "#9c179e"
             ],
             [
              0.4444444444444444,
              "#bd3786"
             ],
             [
              0.5555555555555556,
              "#d8576b"
             ],
             [
              0.6666666666666666,
              "#ed7953"
             ],
             [
              0.7777777777777778,
              "#fb9f3a"
             ],
             [
              0.8888888888888888,
              "#fdca26"
             ],
             [
              1,
              "#f0f921"
             ]
            ],
            "type": "heatmap"
           }
          ],
          "heatmapgl": [
           {
            "colorbar": {
             "outlinewidth": 0,
             "ticks": ""
            },
            "colorscale": [
             [
              0,
              "#0d0887"
             ],
             [
              0.1111111111111111,
              "#46039f"
             ],
             [
              0.2222222222222222,
              "#7201a8"
             ],
             [
              0.3333333333333333,
              "#9c179e"
             ],
             [
              0.4444444444444444,
              "#bd3786"
             ],
             [
              0.5555555555555556,
              "#d8576b"
             ],
             [
              0.6666666666666666,
              "#ed7953"
             ],
             [
              0.7777777777777778,
              "#fb9f3a"
             ],
             [
              0.8888888888888888,
              "#fdca26"
             ],
             [
              1,
              "#f0f921"
             ]
            ],
            "type": "heatmapgl"
           }
          ],
          "histogram": [
           {
            "marker": {
             "colorbar": {
              "outlinewidth": 0,
              "ticks": ""
             }
            },
            "type": "histogram"
           }
          ],
          "histogram2d": [
           {
            "colorbar": {
             "outlinewidth": 0,
             "ticks": ""
            },
            "colorscale": [
             [
              0,
              "#0d0887"
             ],
             [
              0.1111111111111111,
              "#46039f"
             ],
             [
              0.2222222222222222,
              "#7201a8"
             ],
             [
              0.3333333333333333,
              "#9c179e"
             ],
             [
              0.4444444444444444,
              "#bd3786"
             ],
             [
              0.5555555555555556,
              "#d8576b"
             ],
             [
              0.6666666666666666,
              "#ed7953"
             ],
             [
              0.7777777777777778,
              "#fb9f3a"
             ],
             [
              0.8888888888888888,
              "#fdca26"
             ],
             [
              1,
              "#f0f921"
             ]
            ],
            "type": "histogram2d"
           }
          ],
          "histogram2dcontour": [
           {
            "colorbar": {
             "outlinewidth": 0,
             "ticks": ""
            },
            "colorscale": [
             [
              0,
              "#0d0887"
             ],
             [
              0.1111111111111111,
              "#46039f"
             ],
             [
              0.2222222222222222,
              "#7201a8"
             ],
             [
              0.3333333333333333,
              "#9c179e"
             ],
             [
              0.4444444444444444,
              "#bd3786"
             ],
             [
              0.5555555555555556,
              "#d8576b"
             ],
             [
              0.6666666666666666,
              "#ed7953"
             ],
             [
              0.7777777777777778,
              "#fb9f3a"
             ],
             [
              0.8888888888888888,
              "#fdca26"
             ],
             [
              1,
              "#f0f921"
             ]
            ],
            "type": "histogram2dcontour"
           }
          ],
          "mesh3d": [
           {
            "colorbar": {
             "outlinewidth": 0,
             "ticks": ""
            },
            "type": "mesh3d"
           }
          ],
          "parcoords": [
           {
            "line": {
             "colorbar": {
              "outlinewidth": 0,
              "ticks": ""
             }
            },
            "type": "parcoords"
           }
          ],
          "pie": [
           {
            "automargin": true,
            "type": "pie"
           }
          ],
          "scatter": [
           {
            "marker": {
             "colorbar": {
              "outlinewidth": 0,
              "ticks": ""
             }
            },
            "type": "scatter"
           }
          ],
          "scatter3d": [
           {
            "line": {
             "colorbar": {
              "outlinewidth": 0,
              "ticks": ""
             }
            },
            "marker": {
             "colorbar": {
              "outlinewidth": 0,
              "ticks": ""
             }
            },
            "type": "scatter3d"
           }
          ],
          "scattercarpet": [
           {
            "marker": {
             "colorbar": {
              "outlinewidth": 0,
              "ticks": ""
             }
            },
            "type": "scattercarpet"
           }
          ],
          "scattergeo": [
           {
            "marker": {
             "colorbar": {
              "outlinewidth": 0,
              "ticks": ""
             }
            },
            "type": "scattergeo"
           }
          ],
          "scattergl": [
           {
            "marker": {
             "colorbar": {
              "outlinewidth": 0,
              "ticks": ""
             }
            },
            "type": "scattergl"
           }
          ],
          "scattermapbox": [
           {
            "marker": {
             "colorbar": {
              "outlinewidth": 0,
              "ticks": ""
             }
            },
            "type": "scattermapbox"
           }
          ],
          "scatterpolar": [
           {
            "marker": {
             "colorbar": {
              "outlinewidth": 0,
              "ticks": ""
             }
            },
            "type": "scatterpolar"
           }
          ],
          "scatterpolargl": [
           {
            "marker": {
             "colorbar": {
              "outlinewidth": 0,
              "ticks": ""
             }
            },
            "type": "scatterpolargl"
           }
          ],
          "scatterternary": [
           {
            "marker": {
             "colorbar": {
              "outlinewidth": 0,
              "ticks": ""
             }
            },
            "type": "scatterternary"
           }
          ],
          "surface": [
           {
            "colorbar": {
             "outlinewidth": 0,
             "ticks": ""
            },
            "colorscale": [
             [
              0,
              "#0d0887"
             ],
             [
              0.1111111111111111,
              "#46039f"
             ],
             [
              0.2222222222222222,
              "#7201a8"
             ],
             [
              0.3333333333333333,
              "#9c179e"
             ],
             [
              0.4444444444444444,
              "#bd3786"
             ],
             [
              0.5555555555555556,
              "#d8576b"
             ],
             [
              0.6666666666666666,
              "#ed7953"
             ],
             [
              0.7777777777777778,
              "#fb9f3a"
             ],
             [
              0.8888888888888888,
              "#fdca26"
             ],
             [
              1,
              "#f0f921"
             ]
            ],
            "type": "surface"
           }
          ],
          "table": [
           {
            "cells": {
             "fill": {
              "color": "#EBF0F8"
             },
             "line": {
              "color": "white"
             }
            },
            "header": {
             "fill": {
              "color": "#C8D4E3"
             },
             "line": {
              "color": "white"
             }
            },
            "type": "table"
           }
          ]
         },
         "layout": {
          "annotationdefaults": {
           "arrowcolor": "#2a3f5f",
           "arrowhead": 0,
           "arrowwidth": 1
          },
          "coloraxis": {
           "colorbar": {
            "outlinewidth": 0,
            "ticks": ""
           }
          },
          "colorscale": {
           "diverging": [
            [
             0,
             "#8e0152"
            ],
            [
             0.1,
             "#c51b7d"
            ],
            [
             0.2,
             "#de77ae"
            ],
            [
             0.3,
             "#f1b6da"
            ],
            [
             0.4,
             "#fde0ef"
            ],
            [
             0.5,
             "#f7f7f7"
            ],
            [
             0.6,
             "#e6f5d0"
            ],
            [
             0.7,
             "#b8e186"
            ],
            [
             0.8,
             "#7fbc41"
            ],
            [
             0.9,
             "#4d9221"
            ],
            [
             1,
             "#276419"
            ]
           ],
           "sequential": [
            [
             0,
             "#0d0887"
            ],
            [
             0.1111111111111111,
             "#46039f"
            ],
            [
             0.2222222222222222,
             "#7201a8"
            ],
            [
             0.3333333333333333,
             "#9c179e"
            ],
            [
             0.4444444444444444,
             "#bd3786"
            ],
            [
             0.5555555555555556,
             "#d8576b"
            ],
            [
             0.6666666666666666,
             "#ed7953"
            ],
            [
             0.7777777777777778,
             "#fb9f3a"
            ],
            [
             0.8888888888888888,
             "#fdca26"
            ],
            [
             1,
             "#f0f921"
            ]
           ],
           "sequentialminus": [
            [
             0,
             "#0d0887"
            ],
            [
             0.1111111111111111,
             "#46039f"
            ],
            [
             0.2222222222222222,
             "#7201a8"
            ],
            [
             0.3333333333333333,
             "#9c179e"
            ],
            [
             0.4444444444444444,
             "#bd3786"
            ],
            [
             0.5555555555555556,
             "#d8576b"
            ],
            [
             0.6666666666666666,
             "#ed7953"
            ],
            [
             0.7777777777777778,
             "#fb9f3a"
            ],
            [
             0.8888888888888888,
             "#fdca26"
            ],
            [
             1,
             "#f0f921"
            ]
           ]
          },
          "colorway": [
           "#636efa",
           "#EF553B",
           "#00cc96",
           "#ab63fa",
           "#FFA15A",
           "#19d3f3",
           "#FF6692",
           "#B6E880",
           "#FF97FF",
           "#FECB52"
          ],
          "font": {
           "color": "#2a3f5f"
          },
          "geo": {
           "bgcolor": "white",
           "lakecolor": "white",
           "landcolor": "#E5ECF6",
           "showlakes": true,
           "showland": true,
           "subunitcolor": "white"
          },
          "hoverlabel": {
           "align": "left"
          },
          "hovermode": "closest",
          "mapbox": {
           "style": "light"
          },
          "paper_bgcolor": "white",
          "plot_bgcolor": "#E5ECF6",
          "polar": {
           "angularaxis": {
            "gridcolor": "white",
            "linecolor": "white",
            "ticks": ""
           },
           "bgcolor": "#E5ECF6",
           "radialaxis": {
            "gridcolor": "white",
            "linecolor": "white",
            "ticks": ""
           }
          },
          "scene": {
           "xaxis": {
            "backgroundcolor": "#E5ECF6",
            "gridcolor": "white",
            "gridwidth": 2,
            "linecolor": "white",
            "showbackground": true,
            "ticks": "",
            "zerolinecolor": "white"
           },
           "yaxis": {
            "backgroundcolor": "#E5ECF6",
            "gridcolor": "white",
            "gridwidth": 2,
            "linecolor": "white",
            "showbackground": true,
            "ticks": "",
            "zerolinecolor": "white"
           },
           "zaxis": {
            "backgroundcolor": "#E5ECF6",
            "gridcolor": "white",
            "gridwidth": 2,
            "linecolor": "white",
            "showbackground": true,
            "ticks": "",
            "zerolinecolor": "white"
           }
          },
          "shapedefaults": {
           "line": {
            "color": "#2a3f5f"
           }
          },
          "ternary": {
           "aaxis": {
            "gridcolor": "white",
            "linecolor": "white",
            "ticks": ""
           },
           "baxis": {
            "gridcolor": "white",
            "linecolor": "white",
            "ticks": ""
           },
           "bgcolor": "#E5ECF6",
           "caxis": {
            "gridcolor": "white",
            "linecolor": "white",
            "ticks": ""
           }
          },
          "title": {
           "x": 0.05
          },
          "xaxis": {
           "automargin": true,
           "gridcolor": "white",
           "linecolor": "white",
           "ticks": "",
           "title": {
            "standoff": 15
           },
           "zerolinecolor": "white",
           "zerolinewidth": 2
          },
          "yaxis": {
           "automargin": true,
           "gridcolor": "white",
           "linecolor": "white",
           "ticks": "",
           "title": {
            "standoff": 15
           },
           "zerolinecolor": "white",
           "zerolinewidth": 2
          }
         }
        },
        "title": {
         "text": "Fluctuations between data entries in Hours"
        }
       }
      },
      "text/html": [
       "<div>\n",
       "        \n",
       "        \n",
       "            <div id=\"bfac9ede-b04f-490e-88fc-797c0c958dff\" class=\"plotly-graph-div\" style=\"height:525px; width:100%;\"></div>\n",
       "            <script type=\"text/javascript\">\n",
       "                require([\"plotly\"], function(Plotly) {\n",
       "                    window.PLOTLYENV=window.PLOTLYENV || {};\n",
       "                    \n",
       "                if (document.getElementById(\"bfac9ede-b04f-490e-88fc-797c0c958dff\")) {\n",
       "                    Plotly.newPlot(\n",
       "                        'bfac9ede-b04f-490e-88fc-797c0c958dff',\n",
       "                        [{\"type\": \"scatter\", \"y\": [18.08, 4.83, 10.87, 8.3, 3.83, 8.2, 10.38, 2.08, 1.5, 2.17, 2.25, 9.42, 7.0, 4.25, 4.57, 9.52, 6.3, 5.95, 0.67, 1.42, 11.92, 1.08, 1.17, 1.0, 2.33, 2.22, 2.8, 2.88, 10.18, 4.0, 2.08, 1.92, 3.92, 3.93, 4.12, 4.05, 3.23, 0.75, 3.67, 3.75, 4.08, 6.08, 2.02, 2.08, 1.82, 4.12, 7.98, 2.03, 1.95, 2.12, 1.92, 4.47, 2.05, 1.87, 1.9, 2.02, 1.58, 2.02, 2.0, 1.98, 2.02, 2.02, 2.0, 2.0, 1.9, 2.02, 2.02, 1.95, 2.08, 2.03, 2.57, 2.03, 2.0, 1.95, 2.0, 2.0, 1.92, 2.0, 2.08, 1.75, 2.25, 2.0, 2.05, 1.95, 1.95, 2.1, 1.93, 0.95, 3.05, 1.88, 1.3, 2.83, 2.03, 2.0, 1.98, 1.98, 2.0, 2.02, 2.02, 1.73, 2.27, 1.77, 2.22, 1.95, 2.08, 1.98, 2.0, 2.0, 2.0, 1.97, 1.95, 2.1, 1.68, 2.25, 2.03, 2.02, 2.02, 1.92, 2.08, 2.0, 2.0, 2.0, 1.75, 2.18, 1.83, 2.15, 2.68, 1.65, 1.98, 2.0, 1.98, 1.85, 2.17, 1.97, 2.02, 2.02, 1.97, 2.02, 1.58, 2.95, 1.98, 1.98, 2.02, 2.02, 1.98, 2.02, 2.0, 2.0, 1.98, 2.03, 2.02, 2.0, 2.0, 2.08, 1.93, 2.15, 2.0, 1.97, 2.02, 1.98, 2.05, 2.0, 2.03, 1.88, 2.07, 1.98, 2.03, 2.02, 2.03, 1.97, 2.02, 2.02, 1.92, 2.03, 3.0, 2.07, 2.0, 2.0, 2.0, 2.0, 2.0, 2.0, 2.0, 2.0, 2.0, 2.0, 2.0, 1.87, 2.12, 2.0, 2.0, 2.0, 2.0, 2.0, 2.0, 4.0, 2.0, 2.0, 2.0, 2.0, 2.0, 2.0, 2.0, 2.0, 2.0, 2.0, 2.0, 2.0, 2.0, 2.0, 2.0, 2.0, 2.0, 2.0, 2.0, 2.0, 2.0, 1.5, 3.02, 0.27, 1.73, 2.0, 2.0, 2.0, 2.0, 2.0, 1.48, 2.0, 2.0, 2.0, 2.0, 2.0, 2.0]}],\n",
       "                        {\"template\": {\"data\": {\"bar\": [{\"error_x\": {\"color\": \"#2a3f5f\"}, \"error_y\": {\"color\": \"#2a3f5f\"}, \"marker\": {\"line\": {\"color\": \"#E5ECF6\", \"width\": 0.5}}, \"type\": \"bar\"}], \"barpolar\": [{\"marker\": {\"line\": {\"color\": \"#E5ECF6\", \"width\": 0.5}}, \"type\": \"barpolar\"}], \"carpet\": [{\"aaxis\": {\"endlinecolor\": \"#2a3f5f\", \"gridcolor\": \"white\", \"linecolor\": \"white\", \"minorgridcolor\": \"white\", \"startlinecolor\": \"#2a3f5f\"}, \"baxis\": {\"endlinecolor\": \"#2a3f5f\", \"gridcolor\": \"white\", \"linecolor\": \"white\", \"minorgridcolor\": \"white\", \"startlinecolor\": \"#2a3f5f\"}, \"type\": \"carpet\"}], \"choropleth\": [{\"colorbar\": {\"outlinewidth\": 0, \"ticks\": \"\"}, \"type\": \"choropleth\"}], \"contour\": [{\"colorbar\": {\"outlinewidth\": 0, \"ticks\": \"\"}, \"colorscale\": [[0.0, \"#0d0887\"], [0.1111111111111111, \"#46039f\"], [0.2222222222222222, \"#7201a8\"], [0.3333333333333333, \"#9c179e\"], [0.4444444444444444, \"#bd3786\"], [0.5555555555555556, \"#d8576b\"], [0.6666666666666666, \"#ed7953\"], [0.7777777777777778, \"#fb9f3a\"], [0.8888888888888888, \"#fdca26\"], [1.0, \"#f0f921\"]], \"type\": \"contour\"}], \"contourcarpet\": [{\"colorbar\": {\"outlinewidth\": 0, \"ticks\": \"\"}, \"type\": \"contourcarpet\"}], \"heatmap\": [{\"colorbar\": {\"outlinewidth\": 0, \"ticks\": \"\"}, \"colorscale\": [[0.0, \"#0d0887\"], [0.1111111111111111, \"#46039f\"], [0.2222222222222222, \"#7201a8\"], [0.3333333333333333, \"#9c179e\"], [0.4444444444444444, \"#bd3786\"], [0.5555555555555556, \"#d8576b\"], [0.6666666666666666, \"#ed7953\"], [0.7777777777777778, \"#fb9f3a\"], [0.8888888888888888, \"#fdca26\"], [1.0, \"#f0f921\"]], \"type\": \"heatmap\"}], \"heatmapgl\": [{\"colorbar\": {\"outlinewidth\": 0, \"ticks\": \"\"}, \"colorscale\": [[0.0, \"#0d0887\"], [0.1111111111111111, \"#46039f\"], [0.2222222222222222, \"#7201a8\"], [0.3333333333333333, \"#9c179e\"], [0.4444444444444444, \"#bd3786\"], [0.5555555555555556, \"#d8576b\"], [0.6666666666666666, \"#ed7953\"], [0.7777777777777778, \"#fb9f3a\"], [0.8888888888888888, \"#fdca26\"], [1.0, \"#f0f921\"]], \"type\": \"heatmapgl\"}], \"histogram\": [{\"marker\": {\"colorbar\": {\"outlinewidth\": 0, \"ticks\": \"\"}}, \"type\": \"histogram\"}], \"histogram2d\": [{\"colorbar\": {\"outlinewidth\": 0, \"ticks\": \"\"}, \"colorscale\": [[0.0, \"#0d0887\"], [0.1111111111111111, \"#46039f\"], [0.2222222222222222, \"#7201a8\"], [0.3333333333333333, \"#9c179e\"], [0.4444444444444444, \"#bd3786\"], [0.5555555555555556, \"#d8576b\"], [0.6666666666666666, \"#ed7953\"], [0.7777777777777778, \"#fb9f3a\"], [0.8888888888888888, \"#fdca26\"], [1.0, \"#f0f921\"]], \"type\": \"histogram2d\"}], \"histogram2dcontour\": [{\"colorbar\": {\"outlinewidth\": 0, \"ticks\": \"\"}, \"colorscale\": [[0.0, \"#0d0887\"], [0.1111111111111111, \"#46039f\"], [0.2222222222222222, \"#7201a8\"], [0.3333333333333333, \"#9c179e\"], [0.4444444444444444, \"#bd3786\"], [0.5555555555555556, \"#d8576b\"], [0.6666666666666666, \"#ed7953\"], [0.7777777777777778, \"#fb9f3a\"], [0.8888888888888888, \"#fdca26\"], [1.0, \"#f0f921\"]], \"type\": \"histogram2dcontour\"}], \"mesh3d\": [{\"colorbar\": {\"outlinewidth\": 0, \"ticks\": \"\"}, \"type\": \"mesh3d\"}], \"parcoords\": [{\"line\": {\"colorbar\": {\"outlinewidth\": 0, \"ticks\": \"\"}}, \"type\": \"parcoords\"}], \"pie\": [{\"automargin\": true, \"type\": \"pie\"}], \"scatter\": [{\"marker\": {\"colorbar\": {\"outlinewidth\": 0, \"ticks\": \"\"}}, \"type\": \"scatter\"}], \"scatter3d\": [{\"line\": {\"colorbar\": {\"outlinewidth\": 0, \"ticks\": \"\"}}, \"marker\": {\"colorbar\": {\"outlinewidth\": 0, \"ticks\": \"\"}}, \"type\": \"scatter3d\"}], \"scattercarpet\": [{\"marker\": {\"colorbar\": {\"outlinewidth\": 0, \"ticks\": \"\"}}, \"type\": \"scattercarpet\"}], \"scattergeo\": [{\"marker\": {\"colorbar\": {\"outlinewidth\": 0, \"ticks\": \"\"}}, \"type\": \"scattergeo\"}], \"scattergl\": [{\"marker\": {\"colorbar\": {\"outlinewidth\": 0, \"ticks\": \"\"}}, \"type\": \"scattergl\"}], \"scattermapbox\": [{\"marker\": {\"colorbar\": {\"outlinewidth\": 0, \"ticks\": \"\"}}, \"type\": \"scattermapbox\"}], \"scatterpolar\": [{\"marker\": {\"colorbar\": {\"outlinewidth\": 0, \"ticks\": \"\"}}, \"type\": \"scatterpolar\"}], \"scatterpolargl\": [{\"marker\": {\"colorbar\": {\"outlinewidth\": 0, \"ticks\": \"\"}}, \"type\": \"scatterpolargl\"}], \"scatterternary\": [{\"marker\": {\"colorbar\": {\"outlinewidth\": 0, \"ticks\": \"\"}}, \"type\": \"scatterternary\"}], \"surface\": [{\"colorbar\": {\"outlinewidth\": 0, \"ticks\": \"\"}, \"colorscale\": [[0.0, \"#0d0887\"], [0.1111111111111111, \"#46039f\"], [0.2222222222222222, \"#7201a8\"], [0.3333333333333333, \"#9c179e\"], [0.4444444444444444, \"#bd3786\"], [0.5555555555555556, \"#d8576b\"], [0.6666666666666666, \"#ed7953\"], [0.7777777777777778, \"#fb9f3a\"], [0.8888888888888888, \"#fdca26\"], [1.0, \"#f0f921\"]], \"type\": \"surface\"}], \"table\": [{\"cells\": {\"fill\": {\"color\": \"#EBF0F8\"}, \"line\": {\"color\": \"white\"}}, \"header\": {\"fill\": {\"color\": \"#C8D4E3\"}, \"line\": {\"color\": \"white\"}}, \"type\": \"table\"}]}, \"layout\": {\"annotationdefaults\": {\"arrowcolor\": \"#2a3f5f\", \"arrowhead\": 0, \"arrowwidth\": 1}, \"coloraxis\": {\"colorbar\": {\"outlinewidth\": 0, \"ticks\": \"\"}}, \"colorscale\": {\"diverging\": [[0, \"#8e0152\"], [0.1, \"#c51b7d\"], [0.2, \"#de77ae\"], [0.3, \"#f1b6da\"], [0.4, \"#fde0ef\"], [0.5, \"#f7f7f7\"], [0.6, \"#e6f5d0\"], [0.7, \"#b8e186\"], [0.8, \"#7fbc41\"], [0.9, \"#4d9221\"], [1, \"#276419\"]], \"sequential\": [[0.0, \"#0d0887\"], [0.1111111111111111, \"#46039f\"], [0.2222222222222222, \"#7201a8\"], [0.3333333333333333, \"#9c179e\"], [0.4444444444444444, \"#bd3786\"], [0.5555555555555556, \"#d8576b\"], [0.6666666666666666, \"#ed7953\"], [0.7777777777777778, \"#fb9f3a\"], [0.8888888888888888, \"#fdca26\"], [1.0, \"#f0f921\"]], \"sequentialminus\": [[0.0, \"#0d0887\"], [0.1111111111111111, \"#46039f\"], [0.2222222222222222, \"#7201a8\"], [0.3333333333333333, \"#9c179e\"], [0.4444444444444444, \"#bd3786\"], [0.5555555555555556, \"#d8576b\"], [0.6666666666666666, \"#ed7953\"], [0.7777777777777778, \"#fb9f3a\"], [0.8888888888888888, \"#fdca26\"], [1.0, \"#f0f921\"]]}, \"colorway\": [\"#636efa\", \"#EF553B\", \"#00cc96\", \"#ab63fa\", \"#FFA15A\", \"#19d3f3\", \"#FF6692\", \"#B6E880\", \"#FF97FF\", \"#FECB52\"], \"font\": {\"color\": \"#2a3f5f\"}, \"geo\": {\"bgcolor\": \"white\", \"lakecolor\": \"white\", \"landcolor\": \"#E5ECF6\", \"showlakes\": true, \"showland\": true, \"subunitcolor\": \"white\"}, \"hoverlabel\": {\"align\": \"left\"}, \"hovermode\": \"closest\", \"mapbox\": {\"style\": \"light\"}, \"paper_bgcolor\": \"white\", \"plot_bgcolor\": \"#E5ECF6\", \"polar\": {\"angularaxis\": {\"gridcolor\": \"white\", \"linecolor\": \"white\", \"ticks\": \"\"}, \"bgcolor\": \"#E5ECF6\", \"radialaxis\": {\"gridcolor\": \"white\", \"linecolor\": \"white\", \"ticks\": \"\"}}, \"scene\": {\"xaxis\": {\"backgroundcolor\": \"#E5ECF6\", \"gridcolor\": \"white\", \"gridwidth\": 2, \"linecolor\": \"white\", \"showbackground\": true, \"ticks\": \"\", \"zerolinecolor\": \"white\"}, \"yaxis\": {\"backgroundcolor\": \"#E5ECF6\", \"gridcolor\": \"white\", \"gridwidth\": 2, \"linecolor\": \"white\", \"showbackground\": true, \"ticks\": \"\", \"zerolinecolor\": \"white\"}, \"zaxis\": {\"backgroundcolor\": \"#E5ECF6\", \"gridcolor\": \"white\", \"gridwidth\": 2, \"linecolor\": \"white\", \"showbackground\": true, \"ticks\": \"\", \"zerolinecolor\": \"white\"}}, \"shapedefaults\": {\"line\": {\"color\": \"#2a3f5f\"}}, \"ternary\": {\"aaxis\": {\"gridcolor\": \"white\", \"linecolor\": \"white\", \"ticks\": \"\"}, \"baxis\": {\"gridcolor\": \"white\", \"linecolor\": \"white\", \"ticks\": \"\"}, \"bgcolor\": \"#E5ECF6\", \"caxis\": {\"gridcolor\": \"white\", \"linecolor\": \"white\", \"ticks\": \"\"}}, \"title\": {\"x\": 0.05}, \"xaxis\": {\"automargin\": true, \"gridcolor\": \"white\", \"linecolor\": \"white\", \"ticks\": \"\", \"title\": {\"standoff\": 15}, \"zerolinecolor\": \"white\", \"zerolinewidth\": 2}, \"yaxis\": {\"automargin\": true, \"gridcolor\": \"white\", \"linecolor\": \"white\", \"ticks\": \"\", \"title\": {\"standoff\": 15}, \"zerolinecolor\": \"white\", \"zerolinewidth\": 2}}}, \"title\": {\"text\": \"Fluctuations between data entries in Hours\"}},\n",
       "                        {\"responsive\": true}\n",
       "                    ).then(function(){\n",
       "                            \n",
       "var gd = document.getElementById('bfac9ede-b04f-490e-88fc-797c0c958dff');\n",
       "var x = new MutationObserver(function (mutations, observer) {{\n",
       "        var display = window.getComputedStyle(gd).display;\n",
       "        if (!display || display === 'none') {{\n",
       "            console.log([gd, 'removed!']);\n",
       "            Plotly.purge(gd);\n",
       "            observer.disconnect();\n",
       "        }}\n",
       "}});\n",
       "\n",
       "// Listen for the removal of the full notebook cells\n",
       "var notebookContainer = gd.closest('#notebook-container');\n",
       "if (notebookContainer) {{\n",
       "    x.observe(notebookContainer, {childList: true});\n",
       "}}\n",
       "\n",
       "// Listen for the clearing of the current output cell\n",
       "var outputEl = gd.closest('.output');\n",
       "if (outputEl) {{\n",
       "    x.observe(outputEl, {childList: true});\n",
       "}}\n",
       "\n",
       "                        })\n",
       "                };\n",
       "                });\n",
       "            </script>\n",
       "        </div>"
      ]
     },
     "metadata": {},
     "output_type": "display_data"
    }
   ],
   "source": [
    "import plotly.graph_objects as go\n",
    "fig = go.Figure()\n",
    "fig.add_trace(go.Scatter(y=SPANS))\n",
    "#fig.add_trace(go.Bar(y=ACC))\n",
    "fig.update_layout(title = 'Fluctuations between data entries in Hours')\n",
    "fig.show()"
   ]
  },
  {
   "cell_type": "code",
   "execution_count": 473,
   "metadata": {},
   "outputs": [
    {
     "data": {
      "text/html": [
       "        <script type=\"text/javascript\">\n",
       "        window.PlotlyConfig = {MathJaxConfig: 'local'};\n",
       "        if (window.MathJax) {MathJax.Hub.Config({SVG: {font: \"STIX-Web\"}});}\n",
       "        if (typeof require !== 'undefined') {\n",
       "        require.undef(\"plotly\");\n",
       "        requirejs.config({\n",
       "            paths: {\n",
       "                'plotly': ['https://cdn.plot.ly/plotly-latest.min']\n",
       "            }\n",
       "        });\n",
       "        require(['plotly'], function(Plotly) {\n",
       "            window._Plotly = Plotly;\n",
       "        });\n",
       "        }\n",
       "        </script>\n",
       "        "
      ]
     },
     "metadata": {},
     "output_type": "display_data"
    },
    {
     "data": {
      "application/vnd.plotly.v1+json": {
       "config": {
        "plotlyServerURL": "https://plot.ly"
       },
       "data": [
        {
         "type": "bar",
         "y": [
          "589",
          "708",
          "975",
          "1010",
          "1016",
          "1301",
          "1327",
          "1336",
          "1639",
          "1715",
          "1725",
          "1747",
          "1762",
          "1832",
          "2269",
          "2291",
          "2319",
          "2499",
          "2836",
          "2982",
          "2995",
          "3043",
          "3329",
          "3400",
          "3621",
          "3502",
          "3714",
          "3777",
          "3782",
          "3802",
          "4186",
          "4597",
          "4667",
          "4704",
          "4727",
          "4743",
          "4752",
          "5723",
          "6211",
          "6349",
          "6499",
          "6522",
          "6524",
          "7601",
          "7708",
          "8710",
          "8998",
          "9371",
          "9464",
          "9473",
          "9486",
          "10692",
          "11355",
          "13737",
          "13865",
          "14316",
          "14336",
          "14366",
          "14366",
          "14366",
          "14366",
          "14373",
          "16067",
          "16545",
          "18121",
          "18876",
          "19393",
          "19643",
          "19652",
          "19774",
          "19774",
          "19774",
          "19775",
          "19823",
          "22085",
          "22813",
          "24142",
          "23940",
          "26111",
          "26711",
          "26867",
          "26892",
          "26892",
          "26900",
          "26905",
          "27031",
          "30239",
          "38757",
          "32356",
          "32356",
          "33346",
          "33546",
          "34717",
          "35060",
          "35070",
          "35070",
          "35075",
          "35179",
          "40773",
          "41569",
          "42443",
          "43449",
          "43718",
          "43734",
          "46145",
          "46145",
          "46145",
          "46168",
          "46168",
          "46274",
          "49594",
          "50982",
          "52921",
          "53205",
          "53655",
          "54823",
          "54867",
          "54916",
          "54935",
          "54941",
          "54979",
          "55081",
          "60642",
          "62364",
          "64765",
          "65527",
          "65797",
          "66741",
          "68472",
          "68489",
          "68489",
          "68581",
          "68594",
          "68905",
          "75069",
          "79082",
          "81946",
          "83206",
          "85280",
          "85520",
          "85594",
          "85612",
          "85612",
          "85749",
          "85755",
          "86548",
          "94425",
          "98180",
          "100514",
          "102325",
          "104126",
          "104205",
          "104205",
          "104256",
          "104256",
          "104256",
          "104277",
          "105726",
          "116050",
          "118592",
          "120204",
          "123311",
          "123578",
          "123750",
          "123774",
          "123776",
          "123781",
          "123781",
          "123828",
          "125099",
          "133146",
          "137943",
          "139904",
          "141781",
          "142004",
          "142735",
          "142735",
          "142735",
          "142746",
          "142793",
          "144410",
          "145542",
          "156565",
          "159689",
          "161358",
          "163479",
          "164253",
          "164253",
          "164323",
          "164359",
          "164359",
          "164435",
          "165392",
          "175669",
          "180340",
          "186046",
          "187729",
          "188530",
          "188578",
          "188592",
          "188592",
          "188639",
          "188647",
          "189711",
          "200289",
          "205438",
          "211143",
          "212980",
          "215003",
          "215175",
          "215300",
          "215324",
          "215344",
          "215344",
          "216722",
          "219832",
          "222658",
          "232899",
          "243298",
          "244230",
          "244877",
          "245066",
          "245088",
          "245341",
          "245373",
          "245373",
          "245380",
          "245442",
          "245442",
          "259750",
          "266279",
          "272614",
          "275802",
          "276965",
          "277161"
         ]
        }
       ],
       "layout": {
        "template": {
         "data": {
          "bar": [
           {
            "error_x": {
             "color": "#2a3f5f"
            },
            "error_y": {
             "color": "#2a3f5f"
            },
            "marker": {
             "line": {
              "color": "#E5ECF6",
              "width": 0.5
             }
            },
            "type": "bar"
           }
          ],
          "barpolar": [
           {
            "marker": {
             "line": {
              "color": "#E5ECF6",
              "width": 0.5
             }
            },
            "type": "barpolar"
           }
          ],
          "carpet": [
           {
            "aaxis": {
             "endlinecolor": "#2a3f5f",
             "gridcolor": "white",
             "linecolor": "white",
             "minorgridcolor": "white",
             "startlinecolor": "#2a3f5f"
            },
            "baxis": {
             "endlinecolor": "#2a3f5f",
             "gridcolor": "white",
             "linecolor": "white",
             "minorgridcolor": "white",
             "startlinecolor": "#2a3f5f"
            },
            "type": "carpet"
           }
          ],
          "choropleth": [
           {
            "colorbar": {
             "outlinewidth": 0,
             "ticks": ""
            },
            "type": "choropleth"
           }
          ],
          "contour": [
           {
            "colorbar": {
             "outlinewidth": 0,
             "ticks": ""
            },
            "colorscale": [
             [
              0,
              "#0d0887"
             ],
             [
              0.1111111111111111,
              "#46039f"
             ],
             [
              0.2222222222222222,
              "#7201a8"
             ],
             [
              0.3333333333333333,
              "#9c179e"
             ],
             [
              0.4444444444444444,
              "#bd3786"
             ],
             [
              0.5555555555555556,
              "#d8576b"
             ],
             [
              0.6666666666666666,
              "#ed7953"
             ],
             [
              0.7777777777777778,
              "#fb9f3a"
             ],
             [
              0.8888888888888888,
              "#fdca26"
             ],
             [
              1,
              "#f0f921"
             ]
            ],
            "type": "contour"
           }
          ],
          "contourcarpet": [
           {
            "colorbar": {
             "outlinewidth": 0,
             "ticks": ""
            },
            "type": "contourcarpet"
           }
          ],
          "heatmap": [
           {
            "colorbar": {
             "outlinewidth": 0,
             "ticks": ""
            },
            "colorscale": [
             [
              0,
              "#0d0887"
             ],
             [
              0.1111111111111111,
              "#46039f"
             ],
             [
              0.2222222222222222,
              "#7201a8"
             ],
             [
              0.3333333333333333,
              "#9c179e"
             ],
             [
              0.4444444444444444,
              "#bd3786"
             ],
             [
              0.5555555555555556,
              "#d8576b"
             ],
             [
              0.6666666666666666,
              "#ed7953"
             ],
             [
              0.7777777777777778,
              "#fb9f3a"
             ],
             [
              0.8888888888888888,
              "#fdca26"
             ],
             [
              1,
              "#f0f921"
             ]
            ],
            "type": "heatmap"
           }
          ],
          "heatmapgl": [
           {
            "colorbar": {
             "outlinewidth": 0,
             "ticks": ""
            },
            "colorscale": [
             [
              0,
              "#0d0887"
             ],
             [
              0.1111111111111111,
              "#46039f"
             ],
             [
              0.2222222222222222,
              "#7201a8"
             ],
             [
              0.3333333333333333,
              "#9c179e"
             ],
             [
              0.4444444444444444,
              "#bd3786"
             ],
             [
              0.5555555555555556,
              "#d8576b"
             ],
             [
              0.6666666666666666,
              "#ed7953"
             ],
             [
              0.7777777777777778,
              "#fb9f3a"
             ],
             [
              0.8888888888888888,
              "#fdca26"
             ],
             [
              1,
              "#f0f921"
             ]
            ],
            "type": "heatmapgl"
           }
          ],
          "histogram": [
           {
            "marker": {
             "colorbar": {
              "outlinewidth": 0,
              "ticks": ""
             }
            },
            "type": "histogram"
           }
          ],
          "histogram2d": [
           {
            "colorbar": {
             "outlinewidth": 0,
             "ticks": ""
            },
            "colorscale": [
             [
              0,
              "#0d0887"
             ],
             [
              0.1111111111111111,
              "#46039f"
             ],
             [
              0.2222222222222222,
              "#7201a8"
             ],
             [
              0.3333333333333333,
              "#9c179e"
             ],
             [
              0.4444444444444444,
              "#bd3786"
             ],
             [
              0.5555555555555556,
              "#d8576b"
             ],
             [
              0.6666666666666666,
              "#ed7953"
             ],
             [
              0.7777777777777778,
              "#fb9f3a"
             ],
             [
              0.8888888888888888,
              "#fdca26"
             ],
             [
              1,
              "#f0f921"
             ]
            ],
            "type": "histogram2d"
           }
          ],
          "histogram2dcontour": [
           {
            "colorbar": {
             "outlinewidth": 0,
             "ticks": ""
            },
            "colorscale": [
             [
              0,
              "#0d0887"
             ],
             [
              0.1111111111111111,
              "#46039f"
             ],
             [
              0.2222222222222222,
              "#7201a8"
             ],
             [
              0.3333333333333333,
              "#9c179e"
             ],
             [
              0.4444444444444444,
              "#bd3786"
             ],
             [
              0.5555555555555556,
              "#d8576b"
             ],
             [
              0.6666666666666666,
              "#ed7953"
             ],
             [
              0.7777777777777778,
              "#fb9f3a"
             ],
             [
              0.8888888888888888,
              "#fdca26"
             ],
             [
              1,
              "#f0f921"
             ]
            ],
            "type": "histogram2dcontour"
           }
          ],
          "mesh3d": [
           {
            "colorbar": {
             "outlinewidth": 0,
             "ticks": ""
            },
            "type": "mesh3d"
           }
          ],
          "parcoords": [
           {
            "line": {
             "colorbar": {
              "outlinewidth": 0,
              "ticks": ""
             }
            },
            "type": "parcoords"
           }
          ],
          "pie": [
           {
            "automargin": true,
            "type": "pie"
           }
          ],
          "scatter": [
           {
            "marker": {
             "colorbar": {
              "outlinewidth": 0,
              "ticks": ""
             }
            },
            "type": "scatter"
           }
          ],
          "scatter3d": [
           {
            "line": {
             "colorbar": {
              "outlinewidth": 0,
              "ticks": ""
             }
            },
            "marker": {
             "colorbar": {
              "outlinewidth": 0,
              "ticks": ""
             }
            },
            "type": "scatter3d"
           }
          ],
          "scattercarpet": [
           {
            "marker": {
             "colorbar": {
              "outlinewidth": 0,
              "ticks": ""
             }
            },
            "type": "scattercarpet"
           }
          ],
          "scattergeo": [
           {
            "marker": {
             "colorbar": {
              "outlinewidth": 0,
              "ticks": ""
             }
            },
            "type": "scattergeo"
           }
          ],
          "scattergl": [
           {
            "marker": {
             "colorbar": {
              "outlinewidth": 0,
              "ticks": ""
             }
            },
            "type": "scattergl"
           }
          ],
          "scattermapbox": [
           {
            "marker": {
             "colorbar": {
              "outlinewidth": 0,
              "ticks": ""
             }
            },
            "type": "scattermapbox"
           }
          ],
          "scatterpolar": [
           {
            "marker": {
             "colorbar": {
              "outlinewidth": 0,
              "ticks": ""
             }
            },
            "type": "scatterpolar"
           }
          ],
          "scatterpolargl": [
           {
            "marker": {
             "colorbar": {
              "outlinewidth": 0,
              "ticks": ""
             }
            },
            "type": "scatterpolargl"
           }
          ],
          "scatterternary": [
           {
            "marker": {
             "colorbar": {
              "outlinewidth": 0,
              "ticks": ""
             }
            },
            "type": "scatterternary"
           }
          ],
          "surface": [
           {
            "colorbar": {
             "outlinewidth": 0,
             "ticks": ""
            },
            "colorscale": [
             [
              0,
              "#0d0887"
             ],
             [
              0.1111111111111111,
              "#46039f"
             ],
             [
              0.2222222222222222,
              "#7201a8"
             ],
             [
              0.3333333333333333,
              "#9c179e"
             ],
             [
              0.4444444444444444,
              "#bd3786"
             ],
             [
              0.5555555555555556,
              "#d8576b"
             ],
             [
              0.6666666666666666,
              "#ed7953"
             ],
             [
              0.7777777777777778,
              "#fb9f3a"
             ],
             [
              0.8888888888888888,
              "#fdca26"
             ],
             [
              1,
              "#f0f921"
             ]
            ],
            "type": "surface"
           }
          ],
          "table": [
           {
            "cells": {
             "fill": {
              "color": "#EBF0F8"
             },
             "line": {
              "color": "white"
             }
            },
            "header": {
             "fill": {
              "color": "#C8D4E3"
             },
             "line": {
              "color": "white"
             }
            },
            "type": "table"
           }
          ]
         },
         "layout": {
          "annotationdefaults": {
           "arrowcolor": "#2a3f5f",
           "arrowhead": 0,
           "arrowwidth": 1
          },
          "coloraxis": {
           "colorbar": {
            "outlinewidth": 0,
            "ticks": ""
           }
          },
          "colorscale": {
           "diverging": [
            [
             0,
             "#8e0152"
            ],
            [
             0.1,
             "#c51b7d"
            ],
            [
             0.2,
             "#de77ae"
            ],
            [
             0.3,
             "#f1b6da"
            ],
            [
             0.4,
             "#fde0ef"
            ],
            [
             0.5,
             "#f7f7f7"
            ],
            [
             0.6,
             "#e6f5d0"
            ],
            [
             0.7,
             "#b8e186"
            ],
            [
             0.8,
             "#7fbc41"
            ],
            [
             0.9,
             "#4d9221"
            ],
            [
             1,
             "#276419"
            ]
           ],
           "sequential": [
            [
             0,
             "#0d0887"
            ],
            [
             0.1111111111111111,
             "#46039f"
            ],
            [
             0.2222222222222222,
             "#7201a8"
            ],
            [
             0.3333333333333333,
             "#9c179e"
            ],
            [
             0.4444444444444444,
             "#bd3786"
            ],
            [
             0.5555555555555556,
             "#d8576b"
            ],
            [
             0.6666666666666666,
             "#ed7953"
            ],
            [
             0.7777777777777778,
             "#fb9f3a"
            ],
            [
             0.8888888888888888,
             "#fdca26"
            ],
            [
             1,
             "#f0f921"
            ]
           ],
           "sequentialminus": [
            [
             0,
             "#0d0887"
            ],
            [
             0.1111111111111111,
             "#46039f"
            ],
            [
             0.2222222222222222,
             "#7201a8"
            ],
            [
             0.3333333333333333,
             "#9c179e"
            ],
            [
             0.4444444444444444,
             "#bd3786"
            ],
            [
             0.5555555555555556,
             "#d8576b"
            ],
            [
             0.6666666666666666,
             "#ed7953"
            ],
            [
             0.7777777777777778,
             "#fb9f3a"
            ],
            [
             0.8888888888888888,
             "#fdca26"
            ],
            [
             1,
             "#f0f921"
            ]
           ]
          },
          "colorway": [
           "#636efa",
           "#EF553B",
           "#00cc96",
           "#ab63fa",
           "#FFA15A",
           "#19d3f3",
           "#FF6692",
           "#B6E880",
           "#FF97FF",
           "#FECB52"
          ],
          "font": {
           "color": "#2a3f5f"
          },
          "geo": {
           "bgcolor": "white",
           "lakecolor": "white",
           "landcolor": "#E5ECF6",
           "showlakes": true,
           "showland": true,
           "subunitcolor": "white"
          },
          "hoverlabel": {
           "align": "left"
          },
          "hovermode": "closest",
          "mapbox": {
           "style": "light"
          },
          "paper_bgcolor": "white",
          "plot_bgcolor": "#E5ECF6",
          "polar": {
           "angularaxis": {
            "gridcolor": "white",
            "linecolor": "white",
            "ticks": ""
           },
           "bgcolor": "#E5ECF6",
           "radialaxis": {
            "gridcolor": "white",
            "linecolor": "white",
            "ticks": ""
           }
          },
          "scene": {
           "xaxis": {
            "backgroundcolor": "#E5ECF6",
            "gridcolor": "white",
            "gridwidth": 2,
            "linecolor": "white",
            "showbackground": true,
            "ticks": "",
            "zerolinecolor": "white"
           },
           "yaxis": {
            "backgroundcolor": "#E5ECF6",
            "gridcolor": "white",
            "gridwidth": 2,
            "linecolor": "white",
            "showbackground": true,
            "ticks": "",
            "zerolinecolor": "white"
           },
           "zaxis": {
            "backgroundcolor": "#E5ECF6",
            "gridcolor": "white",
            "gridwidth": 2,
            "linecolor": "white",
            "showbackground": true,
            "ticks": "",
            "zerolinecolor": "white"
           }
          },
          "shapedefaults": {
           "line": {
            "color": "#2a3f5f"
           }
          },
          "ternary": {
           "aaxis": {
            "gridcolor": "white",
            "linecolor": "white",
            "ticks": ""
           },
           "baxis": {
            "gridcolor": "white",
            "linecolor": "white",
            "ticks": ""
           },
           "bgcolor": "#E5ECF6",
           "caxis": {
            "gridcolor": "white",
            "linecolor": "white",
            "ticks": ""
           }
          },
          "title": {
           "x": 0.05
          },
          "xaxis": {
           "automargin": true,
           "gridcolor": "white",
           "linecolor": "white",
           "ticks": "",
           "title": {
            "standoff": 15
           },
           "zerolinecolor": "white",
           "zerolinewidth": 2
          },
          "yaxis": {
           "automargin": true,
           "gridcolor": "white",
           "linecolor": "white",
           "ticks": "",
           "title": {
            "standoff": 15
           },
           "zerolinecolor": "white",
           "zerolinewidth": 2
          }
         }
        },
        "title": {
         "text": "A Figure Displayed with fig.show()"
        }
       }
      },
      "text/html": [
       "<div>\n",
       "        \n",
       "        \n",
       "            <div id=\"81344585-a37f-4267-ba92-1e766d168686\" class=\"plotly-graph-div\" style=\"height:525px; width:100%;\"></div>\n",
       "            <script type=\"text/javascript\">\n",
       "                require([\"plotly\"], function(Plotly) {\n",
       "                    window.PLOTLYENV=window.PLOTLYENV || {};\n",
       "                    \n",
       "                if (document.getElementById(\"81344585-a37f-4267-ba92-1e766d168686\")) {\n",
       "                    Plotly.newPlot(\n",
       "                        '81344585-a37f-4267-ba92-1e766d168686',\n",
       "                        [{\"type\": \"bar\", \"y\": [\"589\", \"708\", \"975\", \"1010\", \"1016\", \"1301\", \"1327\", \"1336\", \"1639\", \"1715\", \"1725\", \"1747\", \"1762\", \"1832\", \"2269\", \"2291\", \"2319\", \"2499\", \"2836\", \"2982\", \"2995\", \"3043\", \"3329\", \"3400\", \"3621\", \"3502\", \"3714\", \"3777\", \"3782\", \"3802\", \"4186\", \"4597\", \"4667\", \"4704\", \"4727\", \"4743\", \"4752\", \"5723\", \"6211\", \"6349\", \"6499\", \"6522\", \"6524\", \"7601\", \"7708\", \"8710\", \"8998\", \"9371\", \"9464\", \"9473\", \"9486\", \"10692\", \"11355\", \"13737\", \"13865\", \"14316\", \"14336\", \"14366\", \"14366\", \"14366\", \"14366\", \"14373\", \"16067\", \"16545\", \"18121\", \"18876\", \"19393\", \"19643\", \"19652\", \"19774\", \"19774\", \"19774\", \"19775\", \"19823\", \"22085\", \"22813\", \"24142\", \"23940\", \"26111\", \"26711\", \"26867\", \"26892\", \"26892\", \"26900\", \"26905\", \"27031\", \"30239\", \"38757\", \"32356\", \"32356\", \"33346\", \"33546\", \"34717\", \"35060\", \"35070\", \"35070\", \"35075\", \"35179\", \"40773\", \"41569\", \"42443\", \"43449\", \"43718\", \"43734\", \"46145\", \"46145\", \"46145\", \"46168\", \"46168\", \"46274\", \"49594\", \"50982\", \"52921\", \"53205\", \"53655\", \"54823\", \"54867\", \"54916\", \"54935\", \"54941\", \"54979\", \"55081\", \"60642\", \"62364\", \"64765\", \"65527\", \"65797\", \"66741\", \"68472\", \"68489\", \"68489\", \"68581\", \"68594\", \"68905\", \"75069\", \"79082\", \"81946\", \"83206\", \"85280\", \"85520\", \"85594\", \"85612\", \"85612\", \"85749\", \"85755\", \"86548\", \"94425\", \"98180\", \"100514\", \"102325\", \"104126\", \"104205\", \"104205\", \"104256\", \"104256\", \"104256\", \"104277\", \"105726\", \"116050\", \"118592\", \"120204\", \"123311\", \"123578\", \"123750\", \"123774\", \"123776\", \"123781\", \"123781\", \"123828\", \"125099\", \"133146\", \"137943\", \"139904\", \"141781\", \"142004\", \"142735\", \"142735\", \"142735\", \"142746\", \"142793\", \"144410\", \"145542\", \"156565\", \"159689\", \"161358\", \"163479\", \"164253\", \"164253\", \"164323\", \"164359\", \"164359\", \"164435\", \"165392\", \"175669\", \"180340\", \"186046\", \"187729\", \"188530\", \"188578\", \"188592\", \"188592\", \"188639\", \"188647\", \"189711\", \"200289\", \"205438\", \"211143\", \"212980\", \"215003\", \"215175\", \"215300\", \"215324\", \"215344\", \"215344\", \"216722\", \"219832\", \"222658\", \"232899\", \"243298\", \"244230\", \"244877\", \"245066\", \"245088\", \"245341\", \"245373\", \"245373\", \"245380\", \"245442\", \"245442\", \"259750\", \"266279\", \"272614\", \"275802\", \"276965\", \"277161\"]}],\n",
       "                        {\"template\": {\"data\": {\"bar\": [{\"error_x\": {\"color\": \"#2a3f5f\"}, \"error_y\": {\"color\": \"#2a3f5f\"}, \"marker\": {\"line\": {\"color\": \"#E5ECF6\", \"width\": 0.5}}, \"type\": \"bar\"}], \"barpolar\": [{\"marker\": {\"line\": {\"color\": \"#E5ECF6\", \"width\": 0.5}}, \"type\": \"barpolar\"}], \"carpet\": [{\"aaxis\": {\"endlinecolor\": \"#2a3f5f\", \"gridcolor\": \"white\", \"linecolor\": \"white\", \"minorgridcolor\": \"white\", \"startlinecolor\": \"#2a3f5f\"}, \"baxis\": {\"endlinecolor\": \"#2a3f5f\", \"gridcolor\": \"white\", \"linecolor\": \"white\", \"minorgridcolor\": \"white\", \"startlinecolor\": \"#2a3f5f\"}, \"type\": \"carpet\"}], \"choropleth\": [{\"colorbar\": {\"outlinewidth\": 0, \"ticks\": \"\"}, \"type\": \"choropleth\"}], \"contour\": [{\"colorbar\": {\"outlinewidth\": 0, \"ticks\": \"\"}, \"colorscale\": [[0.0, \"#0d0887\"], [0.1111111111111111, \"#46039f\"], [0.2222222222222222, \"#7201a8\"], [0.3333333333333333, \"#9c179e\"], [0.4444444444444444, \"#bd3786\"], [0.5555555555555556, \"#d8576b\"], [0.6666666666666666, \"#ed7953\"], [0.7777777777777778, \"#fb9f3a\"], [0.8888888888888888, \"#fdca26\"], [1.0, \"#f0f921\"]], \"type\": \"contour\"}], \"contourcarpet\": [{\"colorbar\": {\"outlinewidth\": 0, \"ticks\": \"\"}, \"type\": \"contourcarpet\"}], \"heatmap\": [{\"colorbar\": {\"outlinewidth\": 0, \"ticks\": \"\"}, \"colorscale\": [[0.0, \"#0d0887\"], [0.1111111111111111, \"#46039f\"], [0.2222222222222222, \"#7201a8\"], [0.3333333333333333, \"#9c179e\"], [0.4444444444444444, \"#bd3786\"], [0.5555555555555556, \"#d8576b\"], [0.6666666666666666, \"#ed7953\"], [0.7777777777777778, \"#fb9f3a\"], [0.8888888888888888, \"#fdca26\"], [1.0, \"#f0f921\"]], \"type\": \"heatmap\"}], \"heatmapgl\": [{\"colorbar\": {\"outlinewidth\": 0, \"ticks\": \"\"}, \"colorscale\": [[0.0, \"#0d0887\"], [0.1111111111111111, \"#46039f\"], [0.2222222222222222, \"#7201a8\"], [0.3333333333333333, \"#9c179e\"], [0.4444444444444444, \"#bd3786\"], [0.5555555555555556, \"#d8576b\"], [0.6666666666666666, \"#ed7953\"], [0.7777777777777778, \"#fb9f3a\"], [0.8888888888888888, \"#fdca26\"], [1.0, \"#f0f921\"]], \"type\": \"heatmapgl\"}], \"histogram\": [{\"marker\": {\"colorbar\": {\"outlinewidth\": 0, \"ticks\": \"\"}}, \"type\": \"histogram\"}], \"histogram2d\": [{\"colorbar\": {\"outlinewidth\": 0, \"ticks\": \"\"}, \"colorscale\": [[0.0, \"#0d0887\"], [0.1111111111111111, \"#46039f\"], [0.2222222222222222, \"#7201a8\"], [0.3333333333333333, \"#9c179e\"], [0.4444444444444444, \"#bd3786\"], [0.5555555555555556, \"#d8576b\"], [0.6666666666666666, \"#ed7953\"], [0.7777777777777778, \"#fb9f3a\"], [0.8888888888888888, \"#fdca26\"], [1.0, \"#f0f921\"]], \"type\": \"histogram2d\"}], \"histogram2dcontour\": [{\"colorbar\": {\"outlinewidth\": 0, \"ticks\": \"\"}, \"colorscale\": [[0.0, \"#0d0887\"], [0.1111111111111111, \"#46039f\"], [0.2222222222222222, \"#7201a8\"], [0.3333333333333333, \"#9c179e\"], [0.4444444444444444, \"#bd3786\"], [0.5555555555555556, \"#d8576b\"], [0.6666666666666666, \"#ed7953\"], [0.7777777777777778, \"#fb9f3a\"], [0.8888888888888888, \"#fdca26\"], [1.0, \"#f0f921\"]], \"type\": \"histogram2dcontour\"}], \"mesh3d\": [{\"colorbar\": {\"outlinewidth\": 0, \"ticks\": \"\"}, \"type\": \"mesh3d\"}], \"parcoords\": [{\"line\": {\"colorbar\": {\"outlinewidth\": 0, \"ticks\": \"\"}}, \"type\": \"parcoords\"}], \"pie\": [{\"automargin\": true, \"type\": \"pie\"}], \"scatter\": [{\"marker\": {\"colorbar\": {\"outlinewidth\": 0, \"ticks\": \"\"}}, \"type\": \"scatter\"}], \"scatter3d\": [{\"line\": {\"colorbar\": {\"outlinewidth\": 0, \"ticks\": \"\"}}, \"marker\": {\"colorbar\": {\"outlinewidth\": 0, \"ticks\": \"\"}}, \"type\": \"scatter3d\"}], \"scattercarpet\": [{\"marker\": {\"colorbar\": {\"outlinewidth\": 0, \"ticks\": \"\"}}, \"type\": \"scattercarpet\"}], \"scattergeo\": [{\"marker\": {\"colorbar\": {\"outlinewidth\": 0, \"ticks\": \"\"}}, \"type\": \"scattergeo\"}], \"scattergl\": [{\"marker\": {\"colorbar\": {\"outlinewidth\": 0, \"ticks\": \"\"}}, \"type\": \"scattergl\"}], \"scattermapbox\": [{\"marker\": {\"colorbar\": {\"outlinewidth\": 0, \"ticks\": \"\"}}, \"type\": \"scattermapbox\"}], \"scatterpolar\": [{\"marker\": {\"colorbar\": {\"outlinewidth\": 0, \"ticks\": \"\"}}, \"type\": \"scatterpolar\"}], \"scatterpolargl\": [{\"marker\": {\"colorbar\": {\"outlinewidth\": 0, \"ticks\": \"\"}}, \"type\": \"scatterpolargl\"}], \"scatterternary\": [{\"marker\": {\"colorbar\": {\"outlinewidth\": 0, \"ticks\": \"\"}}, \"type\": \"scatterternary\"}], \"surface\": [{\"colorbar\": {\"outlinewidth\": 0, \"ticks\": \"\"}, \"colorscale\": [[0.0, \"#0d0887\"], [0.1111111111111111, \"#46039f\"], [0.2222222222222222, \"#7201a8\"], [0.3333333333333333, \"#9c179e\"], [0.4444444444444444, \"#bd3786\"], [0.5555555555555556, \"#d8576b\"], [0.6666666666666666, \"#ed7953\"], [0.7777777777777778, \"#fb9f3a\"], [0.8888888888888888, \"#fdca26\"], [1.0, \"#f0f921\"]], \"type\": \"surface\"}], \"table\": [{\"cells\": {\"fill\": {\"color\": \"#EBF0F8\"}, \"line\": {\"color\": \"white\"}}, \"header\": {\"fill\": {\"color\": \"#C8D4E3\"}, \"line\": {\"color\": \"white\"}}, \"type\": \"table\"}]}, \"layout\": {\"annotationdefaults\": {\"arrowcolor\": \"#2a3f5f\", \"arrowhead\": 0, \"arrowwidth\": 1}, \"coloraxis\": {\"colorbar\": {\"outlinewidth\": 0, \"ticks\": \"\"}}, \"colorscale\": {\"diverging\": [[0, \"#8e0152\"], [0.1, \"#c51b7d\"], [0.2, \"#de77ae\"], [0.3, \"#f1b6da\"], [0.4, \"#fde0ef\"], [0.5, \"#f7f7f7\"], [0.6, \"#e6f5d0\"], [0.7, \"#b8e186\"], [0.8, \"#7fbc41\"], [0.9, \"#4d9221\"], [1, \"#276419\"]], \"sequential\": [[0.0, \"#0d0887\"], [0.1111111111111111, \"#46039f\"], [0.2222222222222222, \"#7201a8\"], [0.3333333333333333, \"#9c179e\"], [0.4444444444444444, \"#bd3786\"], [0.5555555555555556, \"#d8576b\"], [0.6666666666666666, \"#ed7953\"], [0.7777777777777778, \"#fb9f3a\"], [0.8888888888888888, \"#fdca26\"], [1.0, \"#f0f921\"]], \"sequentialminus\": [[0.0, \"#0d0887\"], [0.1111111111111111, \"#46039f\"], [0.2222222222222222, \"#7201a8\"], [0.3333333333333333, \"#9c179e\"], [0.4444444444444444, \"#bd3786\"], [0.5555555555555556, \"#d8576b\"], [0.6666666666666666, \"#ed7953\"], [0.7777777777777778, \"#fb9f3a\"], [0.8888888888888888, \"#fdca26\"], [1.0, \"#f0f921\"]]}, \"colorway\": [\"#636efa\", \"#EF553B\", \"#00cc96\", \"#ab63fa\", \"#FFA15A\", \"#19d3f3\", \"#FF6692\", \"#B6E880\", \"#FF97FF\", \"#FECB52\"], \"font\": {\"color\": \"#2a3f5f\"}, \"geo\": {\"bgcolor\": \"white\", \"lakecolor\": \"white\", \"landcolor\": \"#E5ECF6\", \"showlakes\": true, \"showland\": true, \"subunitcolor\": \"white\"}, \"hoverlabel\": {\"align\": \"left\"}, \"hovermode\": \"closest\", \"mapbox\": {\"style\": \"light\"}, \"paper_bgcolor\": \"white\", \"plot_bgcolor\": \"#E5ECF6\", \"polar\": {\"angularaxis\": {\"gridcolor\": \"white\", \"linecolor\": \"white\", \"ticks\": \"\"}, \"bgcolor\": \"#E5ECF6\", \"radialaxis\": {\"gridcolor\": \"white\", \"linecolor\": \"white\", \"ticks\": \"\"}}, \"scene\": {\"xaxis\": {\"backgroundcolor\": \"#E5ECF6\", \"gridcolor\": \"white\", \"gridwidth\": 2, \"linecolor\": \"white\", \"showbackground\": true, \"ticks\": \"\", \"zerolinecolor\": \"white\"}, \"yaxis\": {\"backgroundcolor\": \"#E5ECF6\", \"gridcolor\": \"white\", \"gridwidth\": 2, \"linecolor\": \"white\", \"showbackground\": true, \"ticks\": \"\", \"zerolinecolor\": \"white\"}, \"zaxis\": {\"backgroundcolor\": \"#E5ECF6\", \"gridcolor\": \"white\", \"gridwidth\": 2, \"linecolor\": \"white\", \"showbackground\": true, \"ticks\": \"\", \"zerolinecolor\": \"white\"}}, \"shapedefaults\": {\"line\": {\"color\": \"#2a3f5f\"}}, \"ternary\": {\"aaxis\": {\"gridcolor\": \"white\", \"linecolor\": \"white\", \"ticks\": \"\"}, \"baxis\": {\"gridcolor\": \"white\", \"linecolor\": \"white\", \"ticks\": \"\"}, \"bgcolor\": \"#E5ECF6\", \"caxis\": {\"gridcolor\": \"white\", \"linecolor\": \"white\", \"ticks\": \"\"}}, \"title\": {\"x\": 0.05}, \"xaxis\": {\"automargin\": true, \"gridcolor\": \"white\", \"linecolor\": \"white\", \"ticks\": \"\", \"title\": {\"standoff\": 15}, \"zerolinecolor\": \"white\", \"zerolinewidth\": 2}, \"yaxis\": {\"automargin\": true, \"gridcolor\": \"white\", \"linecolor\": \"white\", \"ticks\": \"\", \"title\": {\"standoff\": 15}, \"zerolinecolor\": \"white\", \"zerolinewidth\": 2}}}, \"title\": {\"text\": \"A Figure Displayed with fig.show()\"}},\n",
       "                        {\"responsive\": true}\n",
       "                    ).then(function(){\n",
       "                            \n",
       "var gd = document.getElementById('81344585-a37f-4267-ba92-1e766d168686');\n",
       "var x = new MutationObserver(function (mutations, observer) {{\n",
       "        var display = window.getComputedStyle(gd).display;\n",
       "        if (!display || display === 'none') {{\n",
       "            console.log([gd, 'removed!']);\n",
       "            Plotly.purge(gd);\n",
       "            observer.disconnect();\n",
       "        }}\n",
       "}});\n",
       "\n",
       "// Listen for the removal of the full notebook cells\n",
       "var notebookContainer = gd.closest('#notebook-container');\n",
       "if (notebookContainer) {{\n",
       "    x.observe(notebookContainer, {childList: true});\n",
       "}}\n",
       "\n",
       "// Listen for the clearing of the current output cell\n",
       "var outputEl = gd.closest('.output');\n",
       "if (outputEl) {{\n",
       "    x.observe(outputEl, {childList: true});\n",
       "}}\n",
       "\n",
       "                        })\n",
       "                };\n",
       "                });\n",
       "            </script>\n",
       "        </div>"
      ]
     },
     "metadata": {},
     "output_type": "display_data"
    }
   ],
   "source": [
    "import plotly.graph_objects as go\n",
    "from plotly.offline import plot, iplot\n",
    "import plotly.graph_objs as go\n",
    "import plotly.offline\n",
    "plotly.offline.init_notebook_mode(connected=True) \n",
    "fig = go.Figure(\n",
    "    data=[go.Bar(y=CASES)],\n",
    "    layout_title_text=\"A Figure Displayed with fig.show()\"\n",
    ")\n",
    "fig.show()"
   ]
  },
  {
   "cell_type": "code",
   "execution_count": 474,
   "metadata": {},
   "outputs": [
    {
     "data": {
      "text/html": [
       "        <script type=\"text/javascript\">\n",
       "        window.PlotlyConfig = {MathJaxConfig: 'local'};\n",
       "        if (window.MathJax) {MathJax.Hub.Config({SVG: {font: \"STIX-Web\"}});}\n",
       "        if (typeof require !== 'undefined') {\n",
       "        require.undef(\"plotly\");\n",
       "        requirejs.config({\n",
       "            paths: {\n",
       "                'plotly': ['https://cdn.plot.ly/plotly-latest.min']\n",
       "            }\n",
       "        });\n",
       "        require(['plotly'], function(Plotly) {\n",
       "            window._Plotly = Plotly;\n",
       "        });\n",
       "        }\n",
       "        </script>\n",
       "        "
      ]
     },
     "metadata": {},
     "output_type": "display_data"
    },
    {
     "data": {
      "application/vnd.plotly.v1+json": {
       "config": {
        "plotlyServerURL": "https://plot.ly"
       },
       "data": [
        {
         "type": "bar",
         "y": [
          "22",
          "27",
          "30",
          "31",
          "31",
          "38",
          "38",
          "38",
          "40",
          "41",
          "41",
          "41",
          "41",
          "41",
          "48",
          "50",
          "50",
          "51",
          "57",
          "60",
          "60",
          "60",
          "63",
          "63",
          "63",
          "63",
          "68",
          "69",
          "69",
          "69",
          "73",
          "86",
          "87",
          "91",
          "93",
          "93",
          "93",
          "97",
          "102",
          "106",
          "112",
          "116",
          "116",
          "116",
          "120",
          "132",
          "150",
          "153",
          "155",
          "155",
          "157",
          "160",
          "171",
          "201",
          "211",
          "218",
          "218",
          "217",
          "217",
          "217",
          "217",
          "218",
          "219",
          "225",
          "233",
          "237",
          "256",
          "263",
          "264",
          "275",
          "275",
          "275",
          "276",
          "276",
          "282",
          "288",
          "288",
          "301",
          "324",
          "341",
          "348",
          "348",
          "348",
          "348",
          "348",
          "349",
          "388",
          "400",
          "414",
          "414",
          "414",
          "419",
          "452",
          "457",
          "458",
          "458",
          "458",
          "459",
          "479",
          "504",
          "517",
          "545",
          "552",
          "553",
          "582",
          "582",
          "582",
          "582",
          "582",
          "588",
          "622",
          "655",
          "684",
          "687",
          "698",
          "778",
          "782",
          "784",
          "784",
          "784",
          "785",
          "785",
          "817",
          "878",
          "910",
          "928",
          "935",
          "963",
          "1032",
          "1032",
          "1032",
          "1036",
          "1036",
          "1037",
          "1080",
          "1143",
          "1177",
          "1201",
          "1293",
          "1297",
          "1300",
          "1301",
          "1301",
          "1304",
          "1304",
          "1321",
          "1429",
          "1513",
          "1546",
          "1591",
          "1692",
          "1704",
          "1704",
          "1704",
          "1704",
          "1704",
          "1704",
          "1730",
          "1937",
          "1979",
          "1997",
          "2211",
          "2221",
          "2227",
          "2228",
          "2229",
          "2229",
          "2229",
          "2229",
          "2238",
          "2363",
          "2431",
          "2449",
          "2471",
          "2484",
          "2488",
          "2488",
          "2489",
          "2489",
          "2490",
          "2600",
          "2616",
          "2870",
          "2951",
          "2974",
          "3148",
          "3165",
          "3167",
          "3170",
          "3173",
          "3173",
          "3175",
          "3182",
          "3424",
          "3573",
          "3807",
          "3867",
          "3889",
          "4054",
          "4055",
          "4056",
          "4059",
          "4059",
          "4099",
          "4394",
          "4528",
          "4713",
          "4759",
          "5102",
          "5110",
          "5110",
          "5112",
          "5112",
          "5112",
          "5140",
          "5227",
          "5356",
          "5665",
          "5883",
          "5883",
          "6070",
          "6075",
          "6075",
          "6095",
          "6095",
          "6095",
          "6095",
          "6098",
          "6099",
          "6603",
          "6803",
          "6988",
          "7087",
          "7391",
          "7392"
         ]
        }
       ],
       "layout": {
        "template": {
         "data": {
          "bar": [
           {
            "error_x": {
             "color": "#2a3f5f"
            },
            "error_y": {
             "color": "#2a3f5f"
            },
            "marker": {
             "line": {
              "color": "#E5ECF6",
              "width": 0.5
             }
            },
            "type": "bar"
           }
          ],
          "barpolar": [
           {
            "marker": {
             "line": {
              "color": "#E5ECF6",
              "width": 0.5
             }
            },
            "type": "barpolar"
           }
          ],
          "carpet": [
           {
            "aaxis": {
             "endlinecolor": "#2a3f5f",
             "gridcolor": "white",
             "linecolor": "white",
             "minorgridcolor": "white",
             "startlinecolor": "#2a3f5f"
            },
            "baxis": {
             "endlinecolor": "#2a3f5f",
             "gridcolor": "white",
             "linecolor": "white",
             "minorgridcolor": "white",
             "startlinecolor": "#2a3f5f"
            },
            "type": "carpet"
           }
          ],
          "choropleth": [
           {
            "colorbar": {
             "outlinewidth": 0,
             "ticks": ""
            },
            "type": "choropleth"
           }
          ],
          "contour": [
           {
            "colorbar": {
             "outlinewidth": 0,
             "ticks": ""
            },
            "colorscale": [
             [
              0,
              "#0d0887"
             ],
             [
              0.1111111111111111,
              "#46039f"
             ],
             [
              0.2222222222222222,
              "#7201a8"
             ],
             [
              0.3333333333333333,
              "#9c179e"
             ],
             [
              0.4444444444444444,
              "#bd3786"
             ],
             [
              0.5555555555555556,
              "#d8576b"
             ],
             [
              0.6666666666666666,
              "#ed7953"
             ],
             [
              0.7777777777777778,
              "#fb9f3a"
             ],
             [
              0.8888888888888888,
              "#fdca26"
             ],
             [
              1,
              "#f0f921"
             ]
            ],
            "type": "contour"
           }
          ],
          "contourcarpet": [
           {
            "colorbar": {
             "outlinewidth": 0,
             "ticks": ""
            },
            "type": "contourcarpet"
           }
          ],
          "heatmap": [
           {
            "colorbar": {
             "outlinewidth": 0,
             "ticks": ""
            },
            "colorscale": [
             [
              0,
              "#0d0887"
             ],
             [
              0.1111111111111111,
              "#46039f"
             ],
             [
              0.2222222222222222,
              "#7201a8"
             ],
             [
              0.3333333333333333,
              "#9c179e"
             ],
             [
              0.4444444444444444,
              "#bd3786"
             ],
             [
              0.5555555555555556,
              "#d8576b"
             ],
             [
              0.6666666666666666,
              "#ed7953"
             ],
             [
              0.7777777777777778,
              "#fb9f3a"
             ],
             [
              0.8888888888888888,
              "#fdca26"
             ],
             [
              1,
              "#f0f921"
             ]
            ],
            "type": "heatmap"
           }
          ],
          "heatmapgl": [
           {
            "colorbar": {
             "outlinewidth": 0,
             "ticks": ""
            },
            "colorscale": [
             [
              0,
              "#0d0887"
             ],
             [
              0.1111111111111111,
              "#46039f"
             ],
             [
              0.2222222222222222,
              "#7201a8"
             ],
             [
              0.3333333333333333,
              "#9c179e"
             ],
             [
              0.4444444444444444,
              "#bd3786"
             ],
             [
              0.5555555555555556,
              "#d8576b"
             ],
             [
              0.6666666666666666,
              "#ed7953"
             ],
             [
              0.7777777777777778,
              "#fb9f3a"
             ],
             [
              0.8888888888888888,
              "#fdca26"
             ],
             [
              1,
              "#f0f921"
             ]
            ],
            "type": "heatmapgl"
           }
          ],
          "histogram": [
           {
            "marker": {
             "colorbar": {
              "outlinewidth": 0,
              "ticks": ""
             }
            },
            "type": "histogram"
           }
          ],
          "histogram2d": [
           {
            "colorbar": {
             "outlinewidth": 0,
             "ticks": ""
            },
            "colorscale": [
             [
              0,
              "#0d0887"
             ],
             [
              0.1111111111111111,
              "#46039f"
             ],
             [
              0.2222222222222222,
              "#7201a8"
             ],
             [
              0.3333333333333333,
              "#9c179e"
             ],
             [
              0.4444444444444444,
              "#bd3786"
             ],
             [
              0.5555555555555556,
              "#d8576b"
             ],
             [
              0.6666666666666666,
              "#ed7953"
             ],
             [
              0.7777777777777778,
              "#fb9f3a"
             ],
             [
              0.8888888888888888,
              "#fdca26"
             ],
             [
              1,
              "#f0f921"
             ]
            ],
            "type": "histogram2d"
           }
          ],
          "histogram2dcontour": [
           {
            "colorbar": {
             "outlinewidth": 0,
             "ticks": ""
            },
            "colorscale": [
             [
              0,
              "#0d0887"
             ],
             [
              0.1111111111111111,
              "#46039f"
             ],
             [
              0.2222222222222222,
              "#7201a8"
             ],
             [
              0.3333333333333333,
              "#9c179e"
             ],
             [
              0.4444444444444444,
              "#bd3786"
             ],
             [
              0.5555555555555556,
              "#d8576b"
             ],
             [
              0.6666666666666666,
              "#ed7953"
             ],
             [
              0.7777777777777778,
              "#fb9f3a"
             ],
             [
              0.8888888888888888,
              "#fdca26"
             ],
             [
              1,
              "#f0f921"
             ]
            ],
            "type": "histogram2dcontour"
           }
          ],
          "mesh3d": [
           {
            "colorbar": {
             "outlinewidth": 0,
             "ticks": ""
            },
            "type": "mesh3d"
           }
          ],
          "parcoords": [
           {
            "line": {
             "colorbar": {
              "outlinewidth": 0,
              "ticks": ""
             }
            },
            "type": "parcoords"
           }
          ],
          "pie": [
           {
            "automargin": true,
            "type": "pie"
           }
          ],
          "scatter": [
           {
            "marker": {
             "colorbar": {
              "outlinewidth": 0,
              "ticks": ""
             }
            },
            "type": "scatter"
           }
          ],
          "scatter3d": [
           {
            "line": {
             "colorbar": {
              "outlinewidth": 0,
              "ticks": ""
             }
            },
            "marker": {
             "colorbar": {
              "outlinewidth": 0,
              "ticks": ""
             }
            },
            "type": "scatter3d"
           }
          ],
          "scattercarpet": [
           {
            "marker": {
             "colorbar": {
              "outlinewidth": 0,
              "ticks": ""
             }
            },
            "type": "scattercarpet"
           }
          ],
          "scattergeo": [
           {
            "marker": {
             "colorbar": {
              "outlinewidth": 0,
              "ticks": ""
             }
            },
            "type": "scattergeo"
           }
          ],
          "scattergl": [
           {
            "marker": {
             "colorbar": {
              "outlinewidth": 0,
              "ticks": ""
             }
            },
            "type": "scattergl"
           }
          ],
          "scattermapbox": [
           {
            "marker": {
             "colorbar": {
              "outlinewidth": 0,
              "ticks": ""
             }
            },
            "type": "scattermapbox"
           }
          ],
          "scatterpolar": [
           {
            "marker": {
             "colorbar": {
              "outlinewidth": 0,
              "ticks": ""
             }
            },
            "type": "scatterpolar"
           }
          ],
          "scatterpolargl": [
           {
            "marker": {
             "colorbar": {
              "outlinewidth": 0,
              "ticks": ""
             }
            },
            "type": "scatterpolargl"
           }
          ],
          "scatterternary": [
           {
            "marker": {
             "colorbar": {
              "outlinewidth": 0,
              "ticks": ""
             }
            },
            "type": "scatterternary"
           }
          ],
          "surface": [
           {
            "colorbar": {
             "outlinewidth": 0,
             "ticks": ""
            },
            "colorscale": [
             [
              0,
              "#0d0887"
             ],
             [
              0.1111111111111111,
              "#46039f"
             ],
             [
              0.2222222222222222,
              "#7201a8"
             ],
             [
              0.3333333333333333,
              "#9c179e"
             ],
             [
              0.4444444444444444,
              "#bd3786"
             ],
             [
              0.5555555555555556,
              "#d8576b"
             ],
             [
              0.6666666666666666,
              "#ed7953"
             ],
             [
              0.7777777777777778,
              "#fb9f3a"
             ],
             [
              0.8888888888888888,
              "#fdca26"
             ],
             [
              1,
              "#f0f921"
             ]
            ],
            "type": "surface"
           }
          ],
          "table": [
           {
            "cells": {
             "fill": {
              "color": "#EBF0F8"
             },
             "line": {
              "color": "white"
             }
            },
            "header": {
             "fill": {
              "color": "#C8D4E3"
             },
             "line": {
              "color": "white"
             }
            },
            "type": "table"
           }
          ]
         },
         "layout": {
          "annotationdefaults": {
           "arrowcolor": "#2a3f5f",
           "arrowhead": 0,
           "arrowwidth": 1
          },
          "coloraxis": {
           "colorbar": {
            "outlinewidth": 0,
            "ticks": ""
           }
          },
          "colorscale": {
           "diverging": [
            [
             0,
             "#8e0152"
            ],
            [
             0.1,
             "#c51b7d"
            ],
            [
             0.2,
             "#de77ae"
            ],
            [
             0.3,
             "#f1b6da"
            ],
            [
             0.4,
             "#fde0ef"
            ],
            [
             0.5,
             "#f7f7f7"
            ],
            [
             0.6,
             "#e6f5d0"
            ],
            [
             0.7,
             "#b8e186"
            ],
            [
             0.8,
             "#7fbc41"
            ],
            [
             0.9,
             "#4d9221"
            ],
            [
             1,
             "#276419"
            ]
           ],
           "sequential": [
            [
             0,
             "#0d0887"
            ],
            [
             0.1111111111111111,
             "#46039f"
            ],
            [
             0.2222222222222222,
             "#7201a8"
            ],
            [
             0.3333333333333333,
             "#9c179e"
            ],
            [
             0.4444444444444444,
             "#bd3786"
            ],
            [
             0.5555555555555556,
             "#d8576b"
            ],
            [
             0.6666666666666666,
             "#ed7953"
            ],
            [
             0.7777777777777778,
             "#fb9f3a"
            ],
            [
             0.8888888888888888,
             "#fdca26"
            ],
            [
             1,
             "#f0f921"
            ]
           ],
           "sequentialminus": [
            [
             0,
             "#0d0887"
            ],
            [
             0.1111111111111111,
             "#46039f"
            ],
            [
             0.2222222222222222,
             "#7201a8"
            ],
            [
             0.3333333333333333,
             "#9c179e"
            ],
            [
             0.4444444444444444,
             "#bd3786"
            ],
            [
             0.5555555555555556,
             "#d8576b"
            ],
            [
             0.6666666666666666,
             "#ed7953"
            ],
            [
             0.7777777777777778,
             "#fb9f3a"
            ],
            [
             0.8888888888888888,
             "#fdca26"
            ],
            [
             1,
             "#f0f921"
            ]
           ]
          },
          "colorway": [
           "#636efa",
           "#EF553B",
           "#00cc96",
           "#ab63fa",
           "#FFA15A",
           "#19d3f3",
           "#FF6692",
           "#B6E880",
           "#FF97FF",
           "#FECB52"
          ],
          "font": {
           "color": "#2a3f5f"
          },
          "geo": {
           "bgcolor": "white",
           "lakecolor": "white",
           "landcolor": "#E5ECF6",
           "showlakes": true,
           "showland": true,
           "subunitcolor": "white"
          },
          "hoverlabel": {
           "align": "left"
          },
          "hovermode": "closest",
          "mapbox": {
           "style": "light"
          },
          "paper_bgcolor": "white",
          "plot_bgcolor": "#E5ECF6",
          "polar": {
           "angularaxis": {
            "gridcolor": "white",
            "linecolor": "white",
            "ticks": ""
           },
           "bgcolor": "#E5ECF6",
           "radialaxis": {
            "gridcolor": "white",
            "linecolor": "white",
            "ticks": ""
           }
          },
          "scene": {
           "xaxis": {
            "backgroundcolor": "#E5ECF6",
            "gridcolor": "white",
            "gridwidth": 2,
            "linecolor": "white",
            "showbackground": true,
            "ticks": "",
            "zerolinecolor": "white"
           },
           "yaxis": {
            "backgroundcolor": "#E5ECF6",
            "gridcolor": "white",
            "gridwidth": 2,
            "linecolor": "white",
            "showbackground": true,
            "ticks": "",
            "zerolinecolor": "white"
           },
           "zaxis": {
            "backgroundcolor": "#E5ECF6",
            "gridcolor": "white",
            "gridwidth": 2,
            "linecolor": "white",
            "showbackground": true,
            "ticks": "",
            "zerolinecolor": "white"
           }
          },
          "shapedefaults": {
           "line": {
            "color": "#2a3f5f"
           }
          },
          "ternary": {
           "aaxis": {
            "gridcolor": "white",
            "linecolor": "white",
            "ticks": ""
           },
           "baxis": {
            "gridcolor": "white",
            "linecolor": "white",
            "ticks": ""
           },
           "bgcolor": "#E5ECF6",
           "caxis": {
            "gridcolor": "white",
            "linecolor": "white",
            "ticks": ""
           }
          },
          "title": {
           "x": 0.05
          },
          "xaxis": {
           "automargin": true,
           "gridcolor": "white",
           "linecolor": "white",
           "ticks": "",
           "title": {
            "standoff": 15
           },
           "zerolinecolor": "white",
           "zerolinewidth": 2
          },
          "yaxis": {
           "automargin": true,
           "gridcolor": "white",
           "linecolor": "white",
           "ticks": "",
           "title": {
            "standoff": 15
           },
           "zerolinecolor": "white",
           "zerolinewidth": 2
          }
         }
        },
        "title": {
         "text": "A Figure Displayed with fig.show()"
        }
       }
      },
      "text/html": [
       "<div>\n",
       "        \n",
       "        \n",
       "            <div id=\"127ee031-6a6e-4bd7-9fd2-80f1b29c5956\" class=\"plotly-graph-div\" style=\"height:525px; width:100%;\"></div>\n",
       "            <script type=\"text/javascript\">\n",
       "                require([\"plotly\"], function(Plotly) {\n",
       "                    window.PLOTLYENV=window.PLOTLYENV || {};\n",
       "                    \n",
       "                if (document.getElementById(\"127ee031-6a6e-4bd7-9fd2-80f1b29c5956\")) {\n",
       "                    Plotly.newPlot(\n",
       "                        '127ee031-6a6e-4bd7-9fd2-80f1b29c5956',\n",
       "                        [{\"type\": \"bar\", \"y\": [\"22\", \"27\", \"30\", \"31\", \"31\", \"38\", \"38\", \"38\", \"40\", \"41\", \"41\", \"41\", \"41\", \"41\", \"48\", \"50\", \"50\", \"51\", \"57\", \"60\", \"60\", \"60\", \"63\", \"63\", \"63\", \"63\", \"68\", \"69\", \"69\", \"69\", \"73\", \"86\", \"87\", \"91\", \"93\", \"93\", \"93\", \"97\", \"102\", \"106\", \"112\", \"116\", \"116\", \"116\", \"120\", \"132\", \"150\", \"153\", \"155\", \"155\", \"157\", \"160\", \"171\", \"201\", \"211\", \"218\", \"218\", \"217\", \"217\", \"217\", \"217\", \"218\", \"219\", \"225\", \"233\", \"237\", \"256\", \"263\", \"264\", \"275\", \"275\", \"275\", \"276\", \"276\", \"282\", \"288\", \"288\", \"301\", \"324\", \"341\", \"348\", \"348\", \"348\", \"348\", \"348\", \"349\", \"388\", \"400\", \"414\", \"414\", \"414\", \"419\", \"452\", \"457\", \"458\", \"458\", \"458\", \"459\", \"479\", \"504\", \"517\", \"545\", \"552\", \"553\", \"582\", \"582\", \"582\", \"582\", \"582\", \"588\", \"622\", \"655\", \"684\", \"687\", \"698\", \"778\", \"782\", \"784\", \"784\", \"784\", \"785\", \"785\", \"817\", \"878\", \"910\", \"928\", \"935\", \"963\", \"1032\", \"1032\", \"1032\", \"1036\", \"1036\", \"1037\", \"1080\", \"1143\", \"1177\", \"1201\", \"1293\", \"1297\", \"1300\", \"1301\", \"1301\", \"1304\", \"1304\", \"1321\", \"1429\", \"1513\", \"1546\", \"1591\", \"1692\", \"1704\", \"1704\", \"1704\", \"1704\", \"1704\", \"1704\", \"1730\", \"1937\", \"1979\", \"1997\", \"2211\", \"2221\", \"2227\", \"2228\", \"2229\", \"2229\", \"2229\", \"2229\", \"2238\", \"2363\", \"2431\", \"2449\", \"2471\", \"2484\", \"2488\", \"2488\", \"2489\", \"2489\", \"2490\", \"2600\", \"2616\", \"2870\", \"2951\", \"2974\", \"3148\", \"3165\", \"3167\", \"3170\", \"3173\", \"3173\", \"3175\", \"3182\", \"3424\", \"3573\", \"3807\", \"3867\", \"3889\", \"4054\", \"4055\", \"4056\", \"4059\", \"4059\", \"4099\", \"4394\", \"4528\", \"4713\", \"4759\", \"5102\", \"5110\", \"5110\", \"5112\", \"5112\", \"5112\", \"5140\", \"5227\", \"5356\", \"5665\", \"5883\", \"5883\", \"6070\", \"6075\", \"6075\", \"6095\", \"6095\", \"6095\", \"6095\", \"6098\", \"6099\", \"6603\", \"6803\", \"6988\", \"7087\", \"7391\", \"7392\"]}],\n",
       "                        {\"template\": {\"data\": {\"bar\": [{\"error_x\": {\"color\": \"#2a3f5f\"}, \"error_y\": {\"color\": \"#2a3f5f\"}, \"marker\": {\"line\": {\"color\": \"#E5ECF6\", \"width\": 0.5}}, \"type\": \"bar\"}], \"barpolar\": [{\"marker\": {\"line\": {\"color\": \"#E5ECF6\", \"width\": 0.5}}, \"type\": \"barpolar\"}], \"carpet\": [{\"aaxis\": {\"endlinecolor\": \"#2a3f5f\", \"gridcolor\": \"white\", \"linecolor\": \"white\", \"minorgridcolor\": \"white\", \"startlinecolor\": \"#2a3f5f\"}, \"baxis\": {\"endlinecolor\": \"#2a3f5f\", \"gridcolor\": \"white\", \"linecolor\": \"white\", \"minorgridcolor\": \"white\", \"startlinecolor\": \"#2a3f5f\"}, \"type\": \"carpet\"}], \"choropleth\": [{\"colorbar\": {\"outlinewidth\": 0, \"ticks\": \"\"}, \"type\": \"choropleth\"}], \"contour\": [{\"colorbar\": {\"outlinewidth\": 0, \"ticks\": \"\"}, \"colorscale\": [[0.0, \"#0d0887\"], [0.1111111111111111, \"#46039f\"], [0.2222222222222222, \"#7201a8\"], [0.3333333333333333, \"#9c179e\"], [0.4444444444444444, \"#bd3786\"], [0.5555555555555556, \"#d8576b\"], [0.6666666666666666, \"#ed7953\"], [0.7777777777777778, \"#fb9f3a\"], [0.8888888888888888, \"#fdca26\"], [1.0, \"#f0f921\"]], \"type\": \"contour\"}], \"contourcarpet\": [{\"colorbar\": {\"outlinewidth\": 0, \"ticks\": \"\"}, \"type\": \"contourcarpet\"}], \"heatmap\": [{\"colorbar\": {\"outlinewidth\": 0, \"ticks\": \"\"}, \"colorscale\": [[0.0, \"#0d0887\"], [0.1111111111111111, \"#46039f\"], [0.2222222222222222, \"#7201a8\"], [0.3333333333333333, \"#9c179e\"], [0.4444444444444444, \"#bd3786\"], [0.5555555555555556, \"#d8576b\"], [0.6666666666666666, \"#ed7953\"], [0.7777777777777778, \"#fb9f3a\"], [0.8888888888888888, \"#fdca26\"], [1.0, \"#f0f921\"]], \"type\": \"heatmap\"}], \"heatmapgl\": [{\"colorbar\": {\"outlinewidth\": 0, \"ticks\": \"\"}, \"colorscale\": [[0.0, \"#0d0887\"], [0.1111111111111111, \"#46039f\"], [0.2222222222222222, \"#7201a8\"], [0.3333333333333333, \"#9c179e\"], [0.4444444444444444, \"#bd3786\"], [0.5555555555555556, \"#d8576b\"], [0.6666666666666666, \"#ed7953\"], [0.7777777777777778, \"#fb9f3a\"], [0.8888888888888888, \"#fdca26\"], [1.0, \"#f0f921\"]], \"type\": \"heatmapgl\"}], \"histogram\": [{\"marker\": {\"colorbar\": {\"outlinewidth\": 0, \"ticks\": \"\"}}, \"type\": \"histogram\"}], \"histogram2d\": [{\"colorbar\": {\"outlinewidth\": 0, \"ticks\": \"\"}, \"colorscale\": [[0.0, \"#0d0887\"], [0.1111111111111111, \"#46039f\"], [0.2222222222222222, \"#7201a8\"], [0.3333333333333333, \"#9c179e\"], [0.4444444444444444, \"#bd3786\"], [0.5555555555555556, \"#d8576b\"], [0.6666666666666666, \"#ed7953\"], [0.7777777777777778, \"#fb9f3a\"], [0.8888888888888888, \"#fdca26\"], [1.0, \"#f0f921\"]], \"type\": \"histogram2d\"}], \"histogram2dcontour\": [{\"colorbar\": {\"outlinewidth\": 0, \"ticks\": \"\"}, \"colorscale\": [[0.0, \"#0d0887\"], [0.1111111111111111, \"#46039f\"], [0.2222222222222222, \"#7201a8\"], [0.3333333333333333, \"#9c179e\"], [0.4444444444444444, \"#bd3786\"], [0.5555555555555556, \"#d8576b\"], [0.6666666666666666, \"#ed7953\"], [0.7777777777777778, \"#fb9f3a\"], [0.8888888888888888, \"#fdca26\"], [1.0, \"#f0f921\"]], \"type\": \"histogram2dcontour\"}], \"mesh3d\": [{\"colorbar\": {\"outlinewidth\": 0, \"ticks\": \"\"}, \"type\": \"mesh3d\"}], \"parcoords\": [{\"line\": {\"colorbar\": {\"outlinewidth\": 0, \"ticks\": \"\"}}, \"type\": \"parcoords\"}], \"pie\": [{\"automargin\": true, \"type\": \"pie\"}], \"scatter\": [{\"marker\": {\"colorbar\": {\"outlinewidth\": 0, \"ticks\": \"\"}}, \"type\": \"scatter\"}], \"scatter3d\": [{\"line\": {\"colorbar\": {\"outlinewidth\": 0, \"ticks\": \"\"}}, \"marker\": {\"colorbar\": {\"outlinewidth\": 0, \"ticks\": \"\"}}, \"type\": \"scatter3d\"}], \"scattercarpet\": [{\"marker\": {\"colorbar\": {\"outlinewidth\": 0, \"ticks\": \"\"}}, \"type\": \"scattercarpet\"}], \"scattergeo\": [{\"marker\": {\"colorbar\": {\"outlinewidth\": 0, \"ticks\": \"\"}}, \"type\": \"scattergeo\"}], \"scattergl\": [{\"marker\": {\"colorbar\": {\"outlinewidth\": 0, \"ticks\": \"\"}}, \"type\": \"scattergl\"}], \"scattermapbox\": [{\"marker\": {\"colorbar\": {\"outlinewidth\": 0, \"ticks\": \"\"}}, \"type\": \"scattermapbox\"}], \"scatterpolar\": [{\"marker\": {\"colorbar\": {\"outlinewidth\": 0, \"ticks\": \"\"}}, \"type\": \"scatterpolar\"}], \"scatterpolargl\": [{\"marker\": {\"colorbar\": {\"outlinewidth\": 0, \"ticks\": \"\"}}, \"type\": \"scatterpolargl\"}], \"scatterternary\": [{\"marker\": {\"colorbar\": {\"outlinewidth\": 0, \"ticks\": \"\"}}, \"type\": \"scatterternary\"}], \"surface\": [{\"colorbar\": {\"outlinewidth\": 0, \"ticks\": \"\"}, \"colorscale\": [[0.0, \"#0d0887\"], [0.1111111111111111, \"#46039f\"], [0.2222222222222222, \"#7201a8\"], [0.3333333333333333, \"#9c179e\"], [0.4444444444444444, \"#bd3786\"], [0.5555555555555556, \"#d8576b\"], [0.6666666666666666, \"#ed7953\"], [0.7777777777777778, \"#fb9f3a\"], [0.8888888888888888, \"#fdca26\"], [1.0, \"#f0f921\"]], \"type\": \"surface\"}], \"table\": [{\"cells\": {\"fill\": {\"color\": \"#EBF0F8\"}, \"line\": {\"color\": \"white\"}}, \"header\": {\"fill\": {\"color\": \"#C8D4E3\"}, \"line\": {\"color\": \"white\"}}, \"type\": \"table\"}]}, \"layout\": {\"annotationdefaults\": {\"arrowcolor\": \"#2a3f5f\", \"arrowhead\": 0, \"arrowwidth\": 1}, \"coloraxis\": {\"colorbar\": {\"outlinewidth\": 0, \"ticks\": \"\"}}, \"colorscale\": {\"diverging\": [[0, \"#8e0152\"], [0.1, \"#c51b7d\"], [0.2, \"#de77ae\"], [0.3, \"#f1b6da\"], [0.4, \"#fde0ef\"], [0.5, \"#f7f7f7\"], [0.6, \"#e6f5d0\"], [0.7, \"#b8e186\"], [0.8, \"#7fbc41\"], [0.9, \"#4d9221\"], [1, \"#276419\"]], \"sequential\": [[0.0, \"#0d0887\"], [0.1111111111111111, \"#46039f\"], [0.2222222222222222, \"#7201a8\"], [0.3333333333333333, \"#9c179e\"], [0.4444444444444444, \"#bd3786\"], [0.5555555555555556, \"#d8576b\"], [0.6666666666666666, \"#ed7953\"], [0.7777777777777778, \"#fb9f3a\"], [0.8888888888888888, \"#fdca26\"], [1.0, \"#f0f921\"]], \"sequentialminus\": [[0.0, \"#0d0887\"], [0.1111111111111111, \"#46039f\"], [0.2222222222222222, \"#7201a8\"], [0.3333333333333333, \"#9c179e\"], [0.4444444444444444, \"#bd3786\"], [0.5555555555555556, \"#d8576b\"], [0.6666666666666666, \"#ed7953\"], [0.7777777777777778, \"#fb9f3a\"], [0.8888888888888888, \"#fdca26\"], [1.0, \"#f0f921\"]]}, \"colorway\": [\"#636efa\", \"#EF553B\", \"#00cc96\", \"#ab63fa\", \"#FFA15A\", \"#19d3f3\", \"#FF6692\", \"#B6E880\", \"#FF97FF\", \"#FECB52\"], \"font\": {\"color\": \"#2a3f5f\"}, \"geo\": {\"bgcolor\": \"white\", \"lakecolor\": \"white\", \"landcolor\": \"#E5ECF6\", \"showlakes\": true, \"showland\": true, \"subunitcolor\": \"white\"}, \"hoverlabel\": {\"align\": \"left\"}, \"hovermode\": \"closest\", \"mapbox\": {\"style\": \"light\"}, \"paper_bgcolor\": \"white\", \"plot_bgcolor\": \"#E5ECF6\", \"polar\": {\"angularaxis\": {\"gridcolor\": \"white\", \"linecolor\": \"white\", \"ticks\": \"\"}, \"bgcolor\": \"#E5ECF6\", \"radialaxis\": {\"gridcolor\": \"white\", \"linecolor\": \"white\", \"ticks\": \"\"}}, \"scene\": {\"xaxis\": {\"backgroundcolor\": \"#E5ECF6\", \"gridcolor\": \"white\", \"gridwidth\": 2, \"linecolor\": \"white\", \"showbackground\": true, \"ticks\": \"\", \"zerolinecolor\": \"white\"}, \"yaxis\": {\"backgroundcolor\": \"#E5ECF6\", \"gridcolor\": \"white\", \"gridwidth\": 2, \"linecolor\": \"white\", \"showbackground\": true, \"ticks\": \"\", \"zerolinecolor\": \"white\"}, \"zaxis\": {\"backgroundcolor\": \"#E5ECF6\", \"gridcolor\": \"white\", \"gridwidth\": 2, \"linecolor\": \"white\", \"showbackground\": true, \"ticks\": \"\", \"zerolinecolor\": \"white\"}}, \"shapedefaults\": {\"line\": {\"color\": \"#2a3f5f\"}}, \"ternary\": {\"aaxis\": {\"gridcolor\": \"white\", \"linecolor\": \"white\", \"ticks\": \"\"}, \"baxis\": {\"gridcolor\": \"white\", \"linecolor\": \"white\", \"ticks\": \"\"}, \"bgcolor\": \"#E5ECF6\", \"caxis\": {\"gridcolor\": \"white\", \"linecolor\": \"white\", \"ticks\": \"\"}}, \"title\": {\"x\": 0.05}, \"xaxis\": {\"automargin\": true, \"gridcolor\": \"white\", \"linecolor\": \"white\", \"ticks\": \"\", \"title\": {\"standoff\": 15}, \"zerolinecolor\": \"white\", \"zerolinewidth\": 2}, \"yaxis\": {\"automargin\": true, \"gridcolor\": \"white\", \"linecolor\": \"white\", \"ticks\": \"\", \"title\": {\"standoff\": 15}, \"zerolinecolor\": \"white\", \"zerolinewidth\": 2}}}, \"title\": {\"text\": \"A Figure Displayed with fig.show()\"}},\n",
       "                        {\"responsive\": true}\n",
       "                    ).then(function(){\n",
       "                            \n",
       "var gd = document.getElementById('127ee031-6a6e-4bd7-9fd2-80f1b29c5956');\n",
       "var x = new MutationObserver(function (mutations, observer) {{\n",
       "        var display = window.getComputedStyle(gd).display;\n",
       "        if (!display || display === 'none') {{\n",
       "            console.log([gd, 'removed!']);\n",
       "            Plotly.purge(gd);\n",
       "            observer.disconnect();\n",
       "        }}\n",
       "}});\n",
       "\n",
       "// Listen for the removal of the full notebook cells\n",
       "var notebookContainer = gd.closest('#notebook-container');\n",
       "if (notebookContainer) {{\n",
       "    x.observe(notebookContainer, {childList: true});\n",
       "}}\n",
       "\n",
       "// Listen for the clearing of the current output cell\n",
       "var outputEl = gd.closest('.output');\n",
       "if (outputEl) {{\n",
       "    x.observe(outputEl, {childList: true});\n",
       "}}\n",
       "\n",
       "                        })\n",
       "                };\n",
       "                });\n",
       "            </script>\n",
       "        </div>"
      ]
     },
     "metadata": {},
     "output_type": "display_data"
    }
   ],
   "source": [
    "import plotly.graph_objects as go\n",
    "from plotly.offline import plot, iplot\n",
    "import plotly.graph_objs as go\n",
    "import plotly.offline\n",
    "plotly.offline.init_notebook_mode(connected=True) \n",
    "fig = go.Figure(\n",
    "    data=[go.Bar(y=DEATHS)],\n",
    "    layout_title_text=\"A Figure Displayed with fig.show()\"\n",
    ")\n",
    "fig.show()"
   ]
  },
  {
   "cell_type": "code",
   "execution_count": 475,
   "metadata": {},
   "outputs": [
    {
     "name": "stdout",
     "output_type": "stream",
     "text": [
      "('04/04/2020 02:49:00', 1585939740, 2.0, '277161', '7392')\n"
     ]
    }
   ],
   "source": [
    "x=len(ALLdata)\n",
    "print (ALLdata[x-1])"
   ]
  },
  {
   "cell_type": "code",
   "execution_count": 476,
   "metadata": {},
   "outputs": [
    {
     "name": "stdout",
     "output_type": "stream",
     "text": [
      "data.html  Summary-ipynb.html  Sun_15_Mar_2020_12_24_57_AM_GMT.html\r\n"
     ]
    }
   ],
   "source": [
    "!ls *.html"
   ]
  },
  {
   "cell_type": "raw",
   "metadata": {},
   "source": [
    "len(CASES)\n",
    "\n"
   ]
  },
  {
   "cell_type": "code",
   "execution_count": 477,
   "metadata": {
    "scrolled": false
   },
   "outputs": [
    {
     "name": "stdout",
     "output_type": "stream",
     "text": [
      "Date Time Timestamp HoursSinceUpdate ConfirmedCases Deaths\n",
      "----------------------------------------------------------\n",
      "04/04/2020,02:49:00,1585939740,2.0,277161,7392\n"
     ]
    }
   ],
   "source": [
    "html=open(\"data.html\",\"w\")\n",
    "print (\"Date Time Timestamp HoursSinceUpdate ConfirmedCases Deaths\")\n",
    "x=len(ALLdata)\n",
    "#print (ALLdata[x-1])\n",
    "html.write(\"Date,Time,Timestamp,HoursSinceUpdate,ConfirmedCases,Deaths<br />\")\n",
    "for line in ALLdata:\n",
    "    li = (\"\".join(line))\n",
    "    li = li.rstrip(\"')\")\n",
    "    li = li.lstrip(\"('\")\n",
    "    li = li.replace(\"'\",\"\")\n",
    "    li = li.replace(\",\",\"\")\n",
    "    li = li.replace(\" \",\",\")\n",
    "    html.write(li+\"<br />\\n\")\n",
    "print(\"----------------------------------------------------------\")\n",
    "print (li)\n",
    "\n",
    "html.close()    "
   ]
  },
  {
   "cell_type": "code",
   "execution_count": 478,
   "metadata": {},
   "outputs": [
    {
     "name": "stdout",
     "output_type": "stream",
     "text": [
      "data.csv                                      100%   11KB  47.0KB/s   00:00    \n",
      "data.html                                     100%   12KB  58.2KB/s   00:00    \n"
     ]
    }
   ],
   "source": [
    "!update_toybox"
   ]
  },
  {
   "cell_type": "code",
   "execution_count": 479,
   "metadata": {},
   "outputs": [
    {
     "name": "stdout",
     "output_type": "stream",
     "text": [
      "235\n",
      "235\n",
      "233\n",
      "[18.1, 22.9, 33.8, 42.1, 45.9, 54.1, 64.5, 66.6, 68.1, 70.2, 72.5, 81.9, 88.9, 93.2, 97.7, 107.2, 113.5, 119.5, 120.2, 121.6, 133.5, 134.6, 135.8, 136.8, 139.1, 141.3, 144.1, 147.0, 157.2, 161.2, 163.3, 165.2, 169.1, 173.0, 177.1, 181.2, 184.4, 185.2, 188.8, 192.6, 196.7, 202.8, 204.8, 206.9, 208.7, 212.8, 220.8, 222.8, 224.8, 226.9, 228.8, 233.3, 235.3, 237.2, 239.1, 241.1, 242.7, 244.7, 246.7, 248.7, 250.7, 252.7, 254.7, 256.7, 258.6, 260.6, 262.7, 264.6, 266.7, 268.7, 271.3, 273.3, 275.3, 277.3, 279.3, 281.3, 283.2, 285.2, 287.3, 289.0, 291.3, 293.3, 295.3, 297.3, 299.2, 301.3, 303.2, 304.2, 307.2, 309.1, 310.4, 313.3, 315.3, 317.3, 319.3, 321.2, 323.2, 325.3, 327.3, 329.0, 331.3, 333.1, 335.3, 337.2, 339.3, 341.3, 343.3, 345.3, 347.3, 349.3, 351.2, 353.3, 355.0, 357.2, 359.3, 361.3, 363.3, 365.2, 367.3, 369.3, 371.3, 373.3, 375.1, 377.2, 379.1, 381.2, 383.9, 385.5, 387.5, 389.5, 391.5, 393.4, 395.5, 397.5, 399.5, 401.5, 403.5, 405.5, 407.1, 410.1, 412.0, 414.0, 416.0, 418.1, 420.0, 422.1, 424.1, 426.1, 428.0, 430.1, 432.1, 434.1, 436.1, 438.2, 440.1, 442.2, 444.2, 446.2, 448.2, 450.2, 452.3, 454.3, 456.3, 458.2, 460.2, 462.2, 464.3, 466.3, 468.3, 470.3, 472.3, 474.3, 476.2, 478.3, 481.3, 483.3, 485.3, 487.3, 489.3, 491.3, 493.3, 495.3, 497.3, 499.3, 501.3, 503.3, 505.3, 507.2, 509.3, 511.3, 513.3, 515.3, 517.3, 519.3, 521.3, 525.3, 527.3, 529.3, 531.3, 533.3, 535.3, 537.3, 539.3, 541.3, 543.3, 545.3, 547.3, 549.3, 551.3, 553.3, 555.3, 557.3, 559.3, 561.3, 563.3, 565.3, 567.3, 568.8, 571.8, 572.1, 573.8, 575.8, 577.8, 579.8, 581.8, 583.8, 585.3, 587.3, 589.3, 591.3, 593.3, 595.3, 597.3]\n"
     ]
    }
   ],
   "source": [
    "print(len(CASES))\n",
    "print(len(DEATHS))\n",
    "print(len(ACC))\n",
    "print(ACC)"
   ]
  },
  {
   "cell_type": "code",
   "execution_count": 480,
   "metadata": {},
   "outputs": [
    {
     "name": "stdout",
     "output_type": "stream",
     "text": [
      "\n",
      "GMT: Sat, 04 Apr 2020 03:28:11 AM GMT\n",
      "Local: Sat, 04 Apr 2020 11:28:11 AM PST\n",
      "\n"
     ]
    }
   ],
   "source": [
    "from time import gmtime, strftime\n",
    "import time\n",
    "print(\"\\nGMT: \"+time.strftime(\"%a, %d %b %Y %I:%M:%S %p %Z\", time.gmtime()))\n",
    "print(\"Local: \"+strftime(\"%a, %d %b %Y %I:%M:%S %p %Z\\n\"))\n"
   ]
  },
  {
   "cell_type": "code",
   "execution_count": 481,
   "metadata": {},
   "outputs": [
    {
     "name": "stdout",
     "output_type": "stream",
     "text": [
      "Len EPOCHa 235\n",
      "['1583871900' '1583911020' '1583940900' '1583954700' '1583984220'\n",
      " '1584021600' '1584029100' '1584034500' '1584042300' '1584050400'\n",
      " '1584084300' '1584109500' '1584124800' '1584141240' '1584175500'\n",
      " '1584198180' '1584219600' '1584222000' '1584227100' '1584270000'\n",
      " '1584273900' '1584278100' '1584281700' '1584290100' '1584298080'\n",
      " '1584308160' '1584318540' '1584355200' '1584369600' '1584377100'\n",
      " '1584384000' '1584398100' '1584412260' '1584427080' '1584441660'\n",
      " '1584453300' '1584456000' '1584469200' '1584482700' '1584497400'\n",
      " '1584519300' '1584526560' '1584534060' '1584540600' '1584555420'\n",
      " '1584584160' '1584591480' '1584598500' '1584606120' '1584613020'\n",
      " '1584629100' '1584636480' '1584643200' '1584650040' '1584657300'\n",
      " '1584663000' '1584670260' '1584677460' '1584684600' '1584691860'\n",
      " '1584699120' '1584706320' '1584713520' '1584720360' '1584727620'\n",
      " '1584734880' '1584741900' '1584749400' '1584756720' '1584765960'\n",
      " '1584773280' '1584780480' '1584787500' '1584794700' '1584801900'\n",
      " '1584808800' '1584816000' '1584823500' '1584829800' '1584837900'\n",
      " '1584845100' '1584852480' '1584859500' '1584866520' '1584874080'\n",
      " '1584881040' '1584884460' '1584895440' '1584902220' '1584906900'\n",
      " '1584917100' '1584924420' '1584931620' '1584938760' '1584945900'\n",
      " '1584953100' '1584960360' '1584967620' '1584973860' '1584982020'\n",
      " '1584988380' '1584996360' '1585003380' '1585010880' '1585018020'\n",
      " '1585025220' '1585032420' '1585039620' '1585046700' '1585053720'\n",
      " '1585061280' '1585067340' '1585075440' '1585082760' '1585090020'\n",
      " '1585097280' '1585104180' '1585111680' '1585118880' '1585126080'\n",
      " '1585133280' '1585139580' '1585147440' '1585154040' '1585161780'\n",
      " '1585171440' '1585177380' '1585184520' '1585191720' '1585198860'\n",
      " '1585205520' '1585213320' '1585220400' '1585227660' '1585234920'\n",
      " '1585242000' '1585249260' '1585254960' '1585265580' '1585272720'\n",
      " '1585279860' '1585287120' '1585294380' '1585301520' '1585308780'\n",
      " '1585315980' '1585323180' '1585330320' '1585337640' '1585344900'\n",
      " '1585352100' '1585359300' '1585366800' '1585373760' '1585381500'\n",
      " '1585388700' '1585395780' '1585403040' '1585410180' '1585417560'\n",
      " '1585424760' '1585432080' '1585438860' '1585446300' '1585453440'\n",
      " '1585460760' '1585468020' '1585475340' '1585482420' '1585489680'\n",
      " '1585496940' '1585503840' '1585511160' '1585521960' '1585529400'\n",
      " '1585536600' '1585543800' '1585551000' '1585558200' '1585565400'\n",
      " '1585572600' '1585579800' '1585587000' '1585594200' '1585601400'\n",
      " '1585608600' '1585615320' '1585622940' '1585630140' '1585637340'\n",
      " '1585644540' '1585651740' '1585658940' '1585666140' '1585680540'\n",
      " '1585687740' '1585694940' '1585702140' '1585709340' '1585716540'\n",
      " '1585723740' '1585730940' '1585738140' '1585745340' '1585752540'\n",
      " '1585759740' '1585766940' '1585774140' '1585781340' '1585788540'\n",
      " '1585795740' '1585802940' '1585810140' '1585817340' '1585824540'\n",
      " '1585831740' '1585837140' '1585848000' '1585848960' '1585855200'\n",
      " '1585862400' '1585869600' '1585876800' '1585884000' '1585891200'\n",
      " '1585896540' '1585903740' '1585910940' '1585918140' '1585925340'\n",
      " '1585932540' '1585939740'] \n",
      "Len Hours:  233\n",
      "[ 18.1  22.9  33.8  42.1  45.9  54.1  64.5  66.6  68.1  70.2  72.5  81.9\n",
      "  88.9  93.2  97.7 107.2 113.5 119.5 120.2 121.6 133.5 134.6 135.8 136.8\n",
      " 139.1 141.3 144.1 147.  157.2 161.2 163.3 165.2 169.1 173.  177.1 181.2\n",
      " 184.4 185.2 188.8 192.6 196.7 202.8 204.8 206.9 208.7 212.8 220.8 222.8\n",
      " 224.8 226.9 228.8 233.3 235.3 237.2 239.1 241.1 242.7 244.7 246.7 248.7\n",
      " 250.7 252.7 254.7 256.7 258.6 260.6 262.7 264.6 266.7 268.7 271.3 273.3\n",
      " 275.3 277.3 279.3 281.3 283.2 285.2 287.3 289.  291.3 293.3 295.3 297.3\n",
      " 299.2 301.3 303.2 304.2 307.2 309.1 310.4 313.3 315.3 317.3 319.3 321.2\n",
      " 323.2 325.3 327.3 329.  331.3 333.1 335.3 337.2 339.3 341.3 343.3 345.3\n",
      " 347.3 349.3 351.2 353.3 355.  357.2 359.3 361.3 363.3 365.2 367.3 369.3\n",
      " 371.3 373.3 375.1 377.2 379.1 381.2 383.9 385.5 387.5 389.5 391.5 393.4\n",
      " 395.5 397.5 399.5 401.5 403.5 405.5 407.1 410.1 412.  414.  416.  418.1\n",
      " 420.  422.1 424.1 426.1 428.  430.1 432.1 434.1 436.1 438.2 440.1 442.2\n",
      " 444.2 446.2 448.2 450.2 452.3 454.3 456.3 458.2 460.2 462.2 464.3 466.3\n",
      " 468.3 470.3 472.3 474.3 476.2 478.3 481.3 483.3 485.3 487.3 489.3 491.3\n",
      " 493.3 495.3 497.3 499.3 501.3 503.3 505.3 507.2 509.3 511.3 513.3 515.3\n",
      " 517.3 519.3 521.3 525.3 527.3 529.3 531.3 533.3 535.3 537.3 539.3 541.3\n",
      " 543.3 545.3 547.3 549.3 551.3 553.3 555.3 557.3 559.3 561.3 563.3 565.3\n",
      " 567.3 568.8 571.8 572.1 573.8 575.8 577.8 579.8 581.8 583.8 585.3 587.3\n",
      " 589.3 591.3 593.3 595.3 597.3] \n",
      "Len LAST 235\n",
      "[   589    708    975   1010   1016   1301   1327   1336   1639   1715\n",
      "   1725   1747   1762   1832   2269   2291   2319   2499   2836   2982\n",
      "   2995   3043   3329   3400   3621   3502   3714   3777   3782   3802\n",
      "   4186   4597   4667   4704   4727   4743   4752   5723   6211   6349\n",
      "   6499   6522   6524   7601   7708   8710   8998   9371   9464   9473\n",
      "   9486  10692  11355  13737  13865  14316  14336  14366  14366  14366\n",
      "  14366  14373  16067  16545  18121  18876  19393  19643  19652  19774\n",
      "  19774  19774  19775  19823  22085  22813  24142  23940  26111  26711\n",
      "  26867  26892  26892  26900  26905  27031  30239  38757  32356  32356\n",
      "  33346  33546  34717  35060  35070  35070  35075  35179  40773  41569\n",
      "  42443  43449  43718  43734  46145  46145  46145  46168  46168  46274\n",
      "  49594  50982  52921  53205  53655  54823  54867  54916  54935  54941\n",
      "  54979  55081  60642  62364  64765  65527  65797  66741  68472  68489\n",
      "  68489  68581  68594  68905  75069  79082  81946  83206  85280  85520\n",
      "  85594  85612  85612  85749  85755  86548  94425  98180 100514 102325\n",
      " 104126 104205 104205 104256 104256 104256 104277 105726 116050 118592\n",
      " 120204 123311 123578 123750 123774 123776 123781 123781 123828 125099\n",
      " 133146 137943 139904 141781 142004 142735 142735 142735 142746 142793\n",
      " 144410 145542 156565 159689 161358 163479 164253 164253 164323 164359\n",
      " 164359 164435 165392 175669 180340 186046 187729 188530 188578 188592\n",
      " 188592 188639 188647 189711 200289 205438 211143 212980 215003 215175\n",
      " 215300 215324 215344 215344 216722 219832 222658 232899 243298 244230\n",
      " 244877 245066 245088 245341 245373 245373 245380 245442 245442 259750\n",
      " 266279 272614 275802 276965 277161]\n"
     ]
    },
    {
     "data": {
      "text/plain": [
       "<Figure size 800x640 with 0 Axes>"
      ]
     },
     "execution_count": 481,
     "metadata": {},
     "output_type": "execute_result"
    },
    {
     "data": {
      "text/plain": [
       "<Figure size 800x640 with 0 Axes>"
      ]
     },
     "metadata": {},
     "output_type": "display_data"
    }
   ],
   "source": [
    "from __future__ import division\n",
    "import sys\n",
    "import glob\n",
    "import time\n",
    "import os\n",
    "%matplotlib inline \n",
    "import matplotlib\n",
    "import matplotlib.pyplot as plt\n",
    "from matplotlib.pyplot import figure\n",
    "import numpy as np \n",
    "#del EPOCHa[0]\n",
    "E=len(EPOCHa)\n",
    "print (\"Len EPOCHa\",E)\n",
    "Time = np.array(EPOCHa)\n",
    "print (Time[3:], end=\" \")\n",
    "#del HOURS[0]\n",
    "hours = np.array(ACC)\n",
    "print(\"\\nLen Hours: \",len(ACC))\n",
    "print (hours, end=\" \")\n",
    "#del LAST[0]\n",
    "e = len(CASES)\n",
    "print (\"\\nLen LAST\",e)\n",
    "ss = range(0,e)\n",
    "SS =np.array(ss)\n",
    "aa = np.array(CASES)\n",
    "Ta = np.array(CASES,dtype=np.int)\n",
    "print(Ta)\n",
    "s= np.array(CASES)\n",
    "figure(num=None, figsize=(10,8), dpi=80, facecolor='salmon')\n",
    "#fig, ax = plt.subplots(dpi=150)\n"
   ]
  },
  {
   "cell_type": "code",
   "execution_count": 482,
   "metadata": {},
   "outputs": [],
   "source": [
    "hours = np.array(ACC,dtype=np.float)\n",
    "Ta = np.array(CASES,dtype=np.int)"
   ]
  },
  {
   "cell_type": "code",
   "execution_count": 483,
   "metadata": {},
   "outputs": [
    {
     "name": "stdout",
     "output_type": "stream",
     "text": [
      "233\n",
      "235\n"
     ]
    }
   ],
   "source": [
    "print(len(ACC))\n",
    "print(len(CASES))"
   ]
  },
  {
   "cell_type": "raw",
   "metadata": {},
   "source": [
    "import pandas as pd\n",
    "import numpy as np\n",
    "from matplotlib import pyplot as plt\n",
    "\n",
    "# Generate 'random' data\n",
    "#np.random.seed(0)\n",
    "#X = 2.5 * np.random.randn(100) + 1.5   # Array of 100 values with mean = 1.5, stddev = 2.5\n",
    "X = np.array(CASES,dtype=np.int)\n",
    "#res = 0.5 * np.random.randn(100)       # Generate 100 residual terms\n",
    "Y = np.array(ACC)\n",
    "                 # Actual values of Y\n",
    "\n",
    "# Create pandas dataframe to store our X and y values\n",
    "print (\"Hours passed is since I started keeping records:\")\n",
    "print (\"------------------------------------------------\\n\")\n",
    "df = pd.DataFrame(\n",
    "    {'CASES': X,\n",
    "     'HoursPassed': Y}\n",
    ")\n",
    "\n",
    "# Show the first five rows of our dataframe\n",
    "print (df.head())\n",
    "df.tail()"
   ]
  },
  {
   "cell_type": "code",
   "execution_count": 484,
   "metadata": {},
   "outputs": [],
   "source": [
    "hours = np.array(ACC,dtype=np.float)\n",
    "Ta = np.array(CASES,dtype=np.int)"
   ]
  },
  {
   "cell_type": "code",
   "execution_count": 485,
   "metadata": {},
   "outputs": [
    {
     "name": "stdout",
     "output_type": "stream",
     "text": [
      "18.1 597.3 589 277161\n"
     ]
    }
   ],
   "source": [
    "hours = np.array(ACC,dtype=np.float)\n",
    "Ta = np.array(CASES,dtype=np.int)\n",
    "minX=min(hours)\n",
    "maxX=max(hours)\n",
    "minY=min(Ta)\n",
    "maxY=max(Ta)\n",
    "print (minX, maxX, minY, maxY)\n",
    "#ax.set_xticks(np.arange(minX, 1, maxX))\n",
    "#ax.set_yticks(np.arange(minY, 1, maxY))"
   ]
  },
  {
   "cell_type": "code",
   "execution_count": 486,
   "metadata": {},
   "outputs": [
    {
     "name": "stdout",
     "output_type": "stream",
     "text": [
      "[18.08, 4.83, 10.87, 8.3, 3.83, 8.2, 10.38, 2.08, 1.5, 2.17, 2.25, 9.42, 7.0, 4.25, 4.57, 9.52, 6.3, 5.95, 0.67, 1.42, 11.92, 1.08, 1.17, 1.0, 2.33, 2.22, 2.8, 2.88, 10.18, 4.0, 2.08, 1.92, 3.92, 3.93, 4.12, 4.05, 3.23, 0.75, 3.67, 3.75, 4.08, 6.08, 2.02, 2.08, 1.82, 4.12, 7.98, 2.03, 1.95, 2.12, 1.92, 4.47, 2.05, 1.87, 1.9, 2.02, 1.58, 2.02, 2.0, 1.98, 2.02, 2.02, 2.0, 2.0, 1.9, 2.02, 2.02, 1.95, 2.08, 2.03, 2.57, 2.03, 2.0, 1.95, 2.0, 2.0, 1.92, 2.0, 2.08, 1.75, 2.25, 2.0, 2.05, 1.95, 1.95, 2.1, 1.93, 0.95, 3.05, 1.88, 1.3, 2.83, 2.03, 2.0, 1.98, 1.98, 2.0, 2.02, 2.02, 1.73, 2.27, 1.77, 2.22, 1.95, 2.08, 1.98, 2.0, 2.0, 2.0, 1.97, 1.95, 2.1, 1.68, 2.25, 2.03, 2.02, 2.02, 1.92, 2.08, 2.0, 2.0, 2.0, 1.75, 2.18, 1.83, 2.15, 2.68, 1.65, 1.98, 2.0, 1.98, 1.85, 2.17, 1.97, 2.02, 2.02, 1.97, 2.02, 1.58, 2.95, 1.98, 1.98, 2.02, 2.02, 1.98, 2.02, 2.0, 2.0, 1.98, 2.03, 2.02, 2.0, 2.0, 2.08, 1.93, 2.15, 2.0, 1.97, 2.02, 1.98, 2.05, 2.0, 2.03, 1.88, 2.07, 1.98, 2.03, 2.02, 2.03, 1.97, 2.02, 2.02, 1.92, 2.03, 3.0, 2.07, 2.0, 2.0, 2.0, 2.0, 2.0, 2.0, 2.0, 2.0, 2.0, 2.0, 2.0, 1.87, 2.12, 2.0, 2.0, 2.0, 2.0, 2.0, 2.0, 4.0, 2.0, 2.0, 2.0, 2.0, 2.0, 2.0, 2.0, 2.0, 2.0, 2.0, 2.0, 2.0, 2.0, 2.0, 2.0, 2.0, 2.0, 2.0, 2.0, 2.0, 2.0, 1.5, 3.02, 0.27, 1.73, 2.0, 2.0, 2.0, 2.0, 2.0, 1.48, 2.0, 2.0, 2.0, 2.0, 2.0, 2.0] "
     ]
    }
   ],
   "source": [
    "count = 0\n",
    "ACC = []\n",
    "acc=0\n",
    "for accum in SPANS:\n",
    "    acc=acc+accum\n",
    "    ACC.append(round(acc,1))\n",
    "print(SPANS, end=\" \")"
   ]
  },
  {
   "cell_type": "markdown",
   "metadata": {},
   "source": [
    "<a id=\"textplot\">*</a>\n",
    "<a href=\"#home\">HOME</a>"
   ]
  },
  {
   "cell_type": "code",
   "execution_count": 487,
   "metadata": {},
   "outputs": [],
   "source": [
    "import sqlite3\n",
    "from M2D import Month2Num\n",
    "arrangedDdata = ''\n",
    "CASESs = []\n",
    "DEATHs =[]\n",
    "conn=sqlite3.connect(\"DATA/CoronaData2.db\")\n",
    "c= conn.cursor()\n",
    "for rows in c.execute('SELECT * from CORONA'):\n",
    "    rows=str(rows)\n",
    "    row = rows.split(\" \")\n",
    "    CASESs.append(row[9])\n",
    "    DEATHs.append(row[13])"
   ]
  },
  {
   "cell_type": "code",
   "execution_count": 488,
   "metadata": {},
   "outputs": [
    {
     "name": "stdout",
     "output_type": "stream",
     "text": [
      "345678\n"
     ]
    }
   ],
   "source": [
    "exp = \"12345678\"\n",
    "print (exp[2:])"
   ]
  },
  {
   "cell_type": "markdown",
   "metadata": {},
   "source": [
    "# FRESH from Dbase"
   ]
  },
  {
   "cell_type": "code",
   "execution_count": 489,
   "metadata": {},
   "outputs": [
    {
     "name": "stdout",
     "output_type": "stream",
     "text": [
      "08/03/2020 23:30:00 1583681400 5.56 537 21\n",
      "09/03/2020 04:30:00 1583699400 5.0 589 22\n",
      "10/03/2020 05:30:00 1583789400 25.0 708 27\n",
      "10/03/2020 23:35:00 1583854500 18.08 975 30\n",
      "11/03/2020 04:25:00 1583871900 4.83 1010 31\n",
      "11/03/2020 15:17:00 1583911020 10.87 1016 31\n",
      "11/03/2020 23:35:00 1583940900 8.3 1301 38\n",
      "12/03/2020 03:25:00 1583954700 3.83 1327 38\n",
      "12/03/2020 11:37:00 1583984220 8.2 1336 38\n",
      "12/03/2020 22:00:00 1584021600 10.38 1639 40\n",
      "13/03/2020 00:05:00 1584029100 2.08 1715 41\n",
      "13/03/2020 01:35:00 1584034500 1.5 1725 41\n",
      "13/03/2020 03:45:00 1584042300 2.17 1747 41\n",
      "13/03/2020 06:00:00 1584050400 2.25 1762 41\n",
      "13/03/2020 15:25:00 1584084300 9.42 1832 41\n",
      "13/03/2020 22:25:00 1584109500 7.0 2269 48\n",
      "14/03/2020 02:40:00 1584124800 4.25 2291 50\n",
      "14/03/2020 07:14:00 1584141240 4.57 2319 50\n",
      "14/03/2020 16:45:00 1584175500 9.52 2499 51\n",
      "14/03/2020 23:03:00 1584198180 6.3 2836 57\n",
      "15/03/2020 05:00:00 1584219600 5.95 2982 60\n",
      "15/03/2020 05:40:00 1584222000 0.67 2995 60\n",
      "15/03/2020 07:05:00 1584227100 1.42 3043 60\n",
      "15/03/2020 19:00:00 1584270000 11.92 3329 63\n",
      "15/03/2020 20:05:00 1584273900 1.08 3400 63\n",
      "15/03/2020 21:15:00 1584278100 1.17 3621 63\n",
      "15/03/2020 22:15:00 1584281700 1.0 3502 63\n",
      "16/03/2020 00:35:00 1584290100 2.33 3714 68\n",
      "16/03/2020 02:48:00 1584298080 2.22 3777 69\n",
      "16/03/2020 05:36:00 1584308160 2.8 3782 69\n",
      "16/03/2020 08:29:00 1584318540 2.88 3802 69\n",
      "16/03/2020 18:40:00 1584355200 10.18 4186 73\n",
      "16/03/2020 22:40:00 1584369600 4.0 4597 86\n",
      "17/03/2020 00:45:00 1584377100 2.08 4667 87\n",
      "17/03/2020 02:40:00 1584384000 1.92 4704 91\n",
      "17/03/2020 06:35:00 1584398100 3.92 4727 93\n",
      "17/03/2020 10:31:00 1584412260 3.93 4743 93\n",
      "17/03/2020 14:38:00 1584427080 4.12 4752 93\n",
      "17/03/2020 18:41:00 1584441660 4.05 5723 97\n",
      "17/03/2020 21:55:00 1584453300 3.23 6211 102\n",
      "17/03/2020 22:40:00 1584456000 0.75 6349 106\n",
      "18/03/2020 02:20:00 1584469200 3.67 6499 112\n",
      "18/03/2020 06:05:00 1584482700 3.75 6522 116\n",
      "18/03/2020 10:10:00 1584497400 4.08 6524 116\n",
      "18/03/2020 16:15:00 1584519300 6.08 7601 116\n",
      "18/03/2020 18:16:00 1584526560 2.02 7708 120\n",
      "18/03/2020 20:21:00 1584534060 2.08 8710 132\n",
      "18/03/2020 22:10:00 1584540600 1.82 8998 150\n",
      "19/03/2020 02:17:00 1584555420 4.12 9371 153\n",
      "19/03/2020 10:16:00 1584584160 7.98 9464 155\n",
      "19/03/2020 12:18:00 1584591480 2.03 9473 155\n",
      "19/03/2020 14:15:00 1584598500 1.95 9486 157\n",
      "19/03/2020 16:22:00 1584606120 2.12 10692 160\n",
      "19/03/2020 18:17:00 1584613020 1.92 11355 171\n",
      "19/03/2020 22:45:00 1584629100 4.47 13737 201\n",
      "20/03/2020 00:48:00 1584636480 2.05 13865 211\n",
      "20/03/2020 02:40:00 1584643200 1.87 14316 218\n",
      "20/03/2020 04:34:00 1584650040 1.9 14336 218\n",
      "20/03/2020 06:35:00 1584657300 2.02 14366 217\n",
      "20/03/2020 08:10:00 1584663000 1.58 14366 217\n",
      "20/03/2020 10:11:00 1584670260 2.02 14366 217\n",
      "20/03/2020 12:11:00 1584677460 2.0 14366 217\n",
      "20/03/2020 14:10:00 1584684600 1.98 14373 218\n",
      "20/03/2020 16:11:00 1584691860 2.02 16067 219\n",
      "20/03/2020 18:12:00 1584699120 2.02 16545 225\n",
      "20/03/2020 20:12:00 1584706320 2.0 18121 233\n",
      "20/03/2020 22:12:00 1584713520 2.0 18876 237\n",
      "21/03/2020 00:06:00 1584720360 1.9 19393 256\n",
      "21/03/2020 02:07:00 1584727620 2.02 19643 263\n",
      "21/03/2020 04:08:00 1584734880 2.02 19652 264\n",
      "21/03/2020 06:05:00 1584741900 1.95 19774 275\n",
      "21/03/2020 08:10:00 1584749400 2.08 19774 275\n",
      "21/03/2020 10:12:00 1584756720 2.03 19774 275\n",
      "21/03/2020 12:46:00 1584765960 2.57 19775 276\n",
      "21/03/2020 14:48:00 1584773280 2.03 19823 276\n",
      "21/03/2020 16:48:00 1584780480 2.0 22085 282\n",
      "21/03/2020 18:45:00 1584787500 1.95 22813 288\n",
      "21/03/2020 20:45:00 1584794700 2.0 24142 288\n",
      "21/03/2020 22:45:00 1584801900 2.0 23940 301\n",
      "22/03/2020 00:40:00 1584808800 1.92 26111 324\n",
      "22/03/2020 02:40:00 1584816000 2.0 26711 341\n",
      "22/03/2020 04:45:00 1584823500 2.08 26867 348\n",
      "22/03/2020 06:30:00 1584829800 1.75 26892 348\n",
      "22/03/2020 08:45:00 1584837900 2.25 26892 348\n",
      "22/03/2020 10:45:00 1584845100 2.0 26900 348\n",
      "22/03/2020 12:48:00 1584852480 2.05 26905 348\n",
      "22/03/2020 14:45:00 1584859500 1.95 27031 349\n",
      "22/03/2020 16:42:00 1584866520 1.95 30239 388\n",
      "22/03/2020 18:48:00 1584874080 2.1 38757 400\n",
      "22/03/2020 20:44:00 1584881040 1.93 32356 414\n",
      "22/03/2020 21:41:00 1584884460 0.95 32356 414\n",
      "23/03/2020 00:44:00 1584895440 3.05 33346 414\n",
      "23/03/2020 02:37:00 1584902220 1.88 33546 419\n",
      "23/03/2020 03:55:00 1584906900 1.3 34717 452\n",
      "23/03/2020 06:45:00 1584917100 2.83 35060 457\n",
      "23/03/2020 08:47:00 1584924420 2.03 35070 458\n",
      "23/03/2020 10:47:00 1584931620 2.0 35070 458\n",
      "23/03/2020 12:46:00 1584938760 1.98 35075 458\n",
      "23/03/2020 14:45:00 1584945900 1.98 35179 459\n",
      "23/03/2020 16:45:00 1584953100 2.0 40773 479\n",
      "23/03/2020 18:46:00 1584960360 2.02 41569 504\n",
      "23/03/2020 20:47:00 1584967620 2.02 42443 517\n",
      "23/03/2020 22:31:00 1584973860 1.73 43449 545\n",
      "24/03/2020 00:47:00 1584982020 2.27 43718 552\n",
      "24/03/2020 02:33:00 1584988380 1.77 43734 553\n",
      "24/03/2020 04:46:00 1584996360 2.22 46145 582\n",
      "24/03/2020 06:43:00 1585003380 1.95 46145 582\n",
      "24/03/2020 08:48:00 1585010880 2.08 46145 582\n",
      "24/03/2020 10:47:00 1585018020 1.98 46168 582\n",
      "24/03/2020 12:47:00 1585025220 2.0 46168 582\n",
      "24/03/2020 14:47:00 1585032420 2.0 46274 588\n",
      "24/03/2020 16:47:00 1585039620 2.0 49594 622\n",
      "24/03/2020 18:45:00 1585046700 1.97 50982 655\n",
      "24/03/2020 20:42:00 1585053720 1.95 52921 684\n",
      "24/03/2020 22:48:00 1585061280 2.1 53205 687\n",
      "25/03/2020 00:29:00 1585067340 1.68 53655 698\n",
      "25/03/2020 02:44:00 1585075440 2.25 54823 778\n",
      "25/03/2020 04:46:00 1585082760 2.03 54867 782\n",
      "25/03/2020 06:47:00 1585090020 2.02 54916 784\n",
      "25/03/2020 08:48:00 1585097280 2.02 54935 784\n",
      "25/03/2020 10:43:00 1585104180 1.92 54941 784\n",
      "25/03/2020 12:48:00 1585111680 2.08 54979 785\n",
      "25/03/2020 14:48:00 1585118880 2.0 55081 785\n",
      "25/03/2020 16:48:00 1585126080 2.0 60642 817\n",
      "25/03/2020 18:48:00 1585133280 2.0 62364 878\n",
      "25/03/2020 20:33:00 1585139580 1.75 64765 910\n",
      "25/03/2020 22:44:00 1585147440 2.18 65527 928\n",
      "26/03/2020 00:34:00 1585154040 1.83 65797 935\n",
      "26/03/2020 02:43:00 1585161780 2.15 66741 963\n",
      "26/03/2020 05:24:00 1585171440 2.68 68472 1032\n",
      "26/03/2020 07:03:00 1585177380 1.65 68489 1032\n",
      "26/03/2020 09:02:00 1585184520 1.98 68489 1032\n",
      "26/03/2020 11:02:00 1585191720 2.0 68581 1036\n",
      "26/03/2020 13:01:00 1585198860 1.98 68594 1036\n",
      "26/03/2020 14:52:00 1585205520 1.85 68905 1037\n",
      "26/03/2020 17:02:00 1585213320 2.17 75069 1080\n",
      "26/03/2020 19:00:00 1585220400 1.97 79082 1143\n",
      "26/03/2020 21:01:00 1585227660 2.02 81946 1177\n",
      "26/03/2020 23:02:00 1585234920 2.02 83206 1201\n",
      "27/03/2020 01:00:00 1585242000 1.97 85280 1293\n",
      "27/03/2020 03:01:00 1585249260 2.02 85520 1297\n",
      "27/03/2020 04:36:00 1585254960 1.58 85594 1300\n",
      "27/03/2020 07:33:00 1585265580 2.95 85612 1301\n",
      "27/03/2020 09:32:00 1585272720 1.98 85612 1301\n",
      "27/03/2020 11:31:00 1585279860 1.98 85749 1304\n",
      "27/03/2020 13:32:00 1585287120 2.02 85755 1304\n",
      "27/03/2020 15:33:00 1585294380 2.02 86548 1321\n",
      "27/03/2020 17:32:00 1585301520 1.98 94425 1429\n",
      "27/03/2020 19:33:00 1585308780 2.02 98180 1513\n",
      "27/03/2020 21:33:00 1585315980 2.0 100514 1546\n",
      "27/03/2020 23:33:00 1585323180 2.0 102325 1591\n",
      "28/03/2020 01:32:00 1585330320 1.98 104126 1692\n",
      "28/03/2020 03:34:00 1585337640 2.03 104205 1704\n",
      "28/03/2020 05:35:00 1585344900 2.02 104205 1704\n",
      "28/03/2020 07:35:00 1585352100 2.0 104256 1704\n",
      "28/03/2020 09:35:00 1585359300 2.0 104256 1704\n",
      "28/03/2020 11:40:00 1585366800 2.08 104256 1704\n",
      "28/03/2020 13:36:00 1585373760 1.93 104277 1704\n",
      "28/03/2020 15:45:00 1585381500 2.15 105726 1730\n",
      "28/03/2020 17:45:00 1585388700 2.0 116050 1937\n",
      "28/03/2020 19:43:00 1585395780 1.97 118592 1979\n",
      "28/03/2020 21:44:00 1585403040 2.02 120204 1997\n",
      "28/03/2020 23:43:00 1585410180 1.98 123311 2211\n",
      "29/03/2020 01:46:00 1585417560 2.05 123578 2221\n",
      "29/03/2020 03:46:00 1585424760 2.0 123750 2227\n",
      "29/03/2020 05:48:00 1585432080 2.03 123774 2228\n",
      "29/03/2020 07:41:00 1585438860 1.88 123776 2229\n",
      "29/03/2020 09:45:00 1585446300 2.07 123781 2229\n",
      "29/03/2020 11:44:00 1585453440 1.98 123781 2229\n",
      "29/03/2020 13:46:00 1585460760 2.03 123828 2229\n",
      "29/03/2020 15:47:00 1585468020 2.02 125099 2238\n",
      "29/03/2020 17:49:00 1585475340 2.03 133146 2363\n",
      "29/03/2020 19:47:00 1585482420 1.97 137943 2431\n",
      "29/03/2020 21:48:00 1585489680 2.02 139904 2449\n",
      "29/03/2020 23:49:00 1585496940 2.02 141781 2471\n",
      "30/03/2020 01:44:00 1585503840 1.92 142004 2484\n",
      "30/03/2020 03:46:00 1585511160 2.03 142735 2488\n",
      "30/03/2020 06:46:00 1585521960 3.0 142735 2488\n",
      "30/03/2020 08:50:00 1585529400 2.07 142735 2489\n",
      "30/03/2020 10:50:00 1585536600 2.0 142746 2489\n",
      "30/03/2020 12:50:00 1585543800 2.0 142793 2490\n",
      "30/03/2020 14:50:00 1585551000 2.0 144410 2600\n",
      "30/03/2020 16:50:00 1585558200 2.0 145542 2616\n",
      "30/03/2020 18:50:00 1585565400 2.0 156565 2870\n",
      "30/03/2020 20:50:00 1585572600 2.0 159689 2951\n",
      "30/03/2020 22:50:00 1585579800 2.0 161358 2974\n",
      "31/03/2020 00:50:00 1585587000 2.0 163479 3148\n",
      "31/03/2020 02:50:00 1585594200 2.0 164253 3165\n",
      "31/03/2020 04:50:00 1585601400 2.0 164253 3167\n",
      "31/03/2020 06:50:00 1585608600 2.0 164323 3170\n",
      "31/03/2020 08:42:00 1585615320 1.87 164359 3173\n",
      "31/03/2020 10:49:00 1585622940 2.12 164359 3173\n",
      "31/03/2020 12:49:00 1585630140 2.0 164435 3175\n",
      "31/03/2020 14:49:00 1585637340 2.0 165392 3182\n",
      "31/03/2020 16:49:00 1585644540 2.0 175669 3424\n",
      "31/03/2020 18:49:00 1585651740 2.0 180340 3573\n",
      "31/03/2020 20:49:00 1585658940 2.0 186046 3807\n",
      "31/03/2020 22:49:00 1585666140 2.0 187729 3867\n",
      "01/04/2020 02:49:00 1585680540 4.0 188530 3889\n",
      "01/04/2020 04:49:00 1585687740 2.0 188578 4054\n",
      "01/04/2020 06:49:00 1585694940 2.0 188592 4055\n",
      "01/04/2020 08:49:00 1585702140 2.0 188592 4056\n",
      "01/04/2020 10:49:00 1585709340 2.0 188639 4059\n",
      "01/04/2020 12:49:00 1585716540 2.0 188647 4059\n",
      "01/04/2020 14:49:00 1585723740 2.0 189711 4099\n",
      "01/04/2020 16:49:00 1585730940 2.0 200289 4394\n",
      "01/04/2020 18:49:00 1585738140 2.0 205438 4528\n",
      "01/04/2020 20:49:00 1585745340 2.0 211143 4713\n",
      "01/04/2020 22:49:00 1585752540 2.0 212980 4759\n",
      "02/04/2020 00:49:00 1585759740 2.0 215003 5102\n",
      "02/04/2020 02:49:00 1585766940 2.0 215175 5110\n",
      "02/04/2020 04:49:00 1585774140 2.0 215300 5110\n",
      "02/04/2020 06:49:00 1585781340 2.0 215324 5112\n",
      "02/04/2020 08:49:00 1585788540 2.0 215344 5112\n",
      "02/04/2020 10:49:00 1585795740 2.0 215344 5112\n",
      "02/04/2020 12:49:00 1585802940 2.0 216722 5140\n",
      "02/04/2020 14:49:00 1585810140 2.0 219832 5227\n",
      "02/04/2020 16:49:00 1585817340 2.0 222658 5356\n",
      "02/04/2020 18:49:00 1585824540 2.0 232899 5665\n",
      "02/04/2020 20:49:00 1585831740 2.0 243298 5883\n",
      "02/04/2020 22:19:00 1585837140 1.5 244230 5883\n",
      "03/04/2020 01:20:00 1585848000 3.02 244877 6070\n",
      "03/04/2020 01:36:00 1585848960 0.27 245066 6075\n",
      "03/04/2020 03:20:00 1585855200 1.73 245088 6075\n",
      "03/04/2020 05:20:00 1585862400 2.0 245341 6095\n",
      "03/04/2020 07:20:00 1585869600 2.0 245373 6095\n",
      "03/04/2020 09:20:00 1585876800 2.0 245373 6095\n",
      "03/04/2020 11:20:00 1585884000 2.0 245380 6095\n",
      "03/04/2020 13:20:00 1585891200 2.0 245442 6098\n",
      "03/04/2020 14:49:00 1585896540 1.48 245442 6099\n",
      "03/04/2020 16:49:00 1585903740 2.0 259750 6603\n",
      "03/04/2020 18:49:00 1585910940 2.0 266279 6803\n",
      "03/04/2020 20:49:00 1585918140 2.0 272614 6988\n",
      "03/04/2020 22:49:00 1585925340 2.0 275802 7087\n",
      "04/04/2020 00:49:00 1585932540 2.0 276965 7391\n",
      "04/04/2020 02:49:00 1585939740 2.0 277161 7392\n"
     ]
    }
   ],
   "source": [
    "import datetime\n",
    "import calendar\n",
    "import time\n",
    "from M2D import *\n",
    "import sqlite3\n",
    "arrangedDdata = ''\n",
    "DDATA =[]\n",
    "DDATA.append(\"Date Time Timestamp SpanBetweenSamples Cases Deaths\")\n",
    "arrangedDdata=arrangedDdata #+\"Date, Time, Cases, Deaths, Timestamp, TimeBetweenSamples\\n\"\n",
    "conn=sqlite3.connect(\"DATA/CoronaData2.db\")\n",
    "c= conn.cursor()\n",
    "cnt=0\n",
    "for row in c.execute('SELECT rowid,* from CORONA'):\n",
    "    cnt=cnt+1\n",
    "    row =str(row)\n",
    "    row=row.replace(\",\",\"\")\n",
    "    row = row.split(\" \")\n",
    "    #print (row)\n",
    "    #print (row[1],row[2],row[3],row[5],row[10],row[14])\n",
    "    Month = row[1]\n",
    "    #print (Month[1:])\n",
    "    month = Month2Num(Month[1:])\n",
    "    #print (month)\n",
    "    #if cnt==160:print(row)\n",
    "    #if cnt==160:print(OUT)               \n",
    "    OUT = row[2]+\"/\"+month+\"/\"+row[3]+\" \"+row[5]+\":00 \"+row[10]+\" \"+row[14]\n",
    "    # Result 03/12/2020 03:25:00 1327 38\n",
    "    #print (OUT) \n",
    "    arrangedDdata = arrangedDdata+OUT+\"\\n\"\n",
    "conn.close() \n",
    "\n",
    "text =arrangedDdata.split(\"\\n\")\n",
    "#text= text[1:-1]\n",
    "EPOCHa=[]\n",
    "Scnt=0\n",
    "SPANS = []\n",
    "for line in text:\n",
    "    if len(line)>5:\n",
    "        line = line.split(\" \")\n",
    "        #print (line[1],line[2],line[3])\n",
    "        if len(line)>2:dt = time.strftime(line[0]+' '+line[1])\n",
    "        #print (dt)\n",
    "\n",
    "        dt_ti = dt\n",
    "        #print (dt_ti)\n",
    "        #03-16-2020 02:48,3777\n",
    "        pattern = '%d/%m/%Y %H:%M:%S'\n",
    "        #pattern = '%m/%d/%Y %H:%M:%S'\n",
    "        epochs = int(time.mktime(time.strptime(dt_ti, pattern)))\n",
    "        #print (dt_ti, epochs)\n",
    "\n",
    "        if Scnt>1:SPANS.append(span(int(last),int(epochs)))\n",
    "        if Scnt==0:last=1583661400 \n",
    "        SPan = span(int(last),int(epochs)) \n",
    "\n",
    "        data = dt_ti+\" \"+str(epochs)+\" \"+str(SPan)+\" \"+line[2]+\" \"+line[3]\n",
    "        print (data)\n",
    "        DDATA.append(data)\n",
    "        entry = str(data)\n",
    "        Scnt=Scnt+1\n",
    "        last = int(epochs)    \n",
    "        EPOCHa.append(data)\n"
   ]
  },
  {
   "cell_type": "code",
   "execution_count": 490,
   "metadata": {
    "scrolled": false
   },
   "outputs": [
    {
     "name": "stdout",
     "output_type": "stream",
     "text": [
      "\n",
      "--SPANS- 233 ---------------------------------------------------------\n",
      "\n",
      "[18.08, 4.83, 10.87, 8.3, 3.83, 8.2, 10.38, 2.08, 1.5, 2.17, 2.25, 9.42, 7.0, 4.25, 4.57, 9.52, 6.3, 5.95, 0.67, 1.42, 11.92, 1.08, 1.17, 1.0, 2.33, 2.22, 2.8, 2.88, 10.18, 4.0, 2.08, 1.92, 3.92, 3.93, 4.12, 4.05, 3.23, 0.75, 3.67, 3.75, 4.08, 6.08, 2.02, 2.08, 1.82, 4.12, 7.98, 2.03, 1.95, 2.12, 1.92, 4.47, 2.05, 1.87, 1.9, 2.02, 1.58, 2.02, 2.0, 1.98, 2.02, 2.02, 2.0, 2.0, 1.9, 2.02, 2.02, 1.95, 2.08, 2.03, 2.57, 2.03, 2.0, 1.95, 2.0, 2.0, 1.92, 2.0, 2.08, 1.75, 2.25, 2.0, 2.05, 1.95, 1.95, 2.1, 1.93, 0.95, 3.05, 1.88, 1.3, 2.83, 2.03, 2.0, 1.98, 1.98, 2.0, 2.02, 2.02, 1.73, 2.27, 1.77, 2.22, 1.95, 2.08, 1.98, 2.0, 2.0, 2.0, 1.97, 1.95, 2.1, 1.68, 2.25, 2.03, 2.02, 2.02, 1.92, 2.08, 2.0, 2.0, 2.0, 1.75, 2.18, 1.83, 2.15, 2.68, 1.65, 1.98, 2.0, 1.98, 1.85, 2.17, 1.97, 2.02, 2.02, 1.97, 2.02, 1.58, 2.95, 1.98, 1.98, 2.02, 2.02, 1.98, 2.02, 2.0, 2.0, 1.98, 2.03, 2.02, 2.0, 2.0, 2.08, 1.93, 2.15, 2.0, 1.97, 2.02, 1.98, 2.05, 2.0, 2.03, 1.88, 2.07, 1.98, 2.03, 2.02, 2.03, 1.97, 2.02, 2.02, 1.92, 2.03, 3.0, 2.07, 2.0, 2.0, 2.0, 2.0, 2.0, 2.0, 2.0, 2.0, 2.0, 2.0, 2.0, 1.87, 2.12, 2.0, 2.0, 2.0, 2.0, 2.0, 2.0, 4.0, 2.0, 2.0, 2.0, 2.0, 2.0, 2.0, 2.0, 2.0, 2.0, 2.0, 2.0, 2.0, 2.0, 2.0, 2.0, 2.0, 2.0, 2.0, 2.0, 2.0, 2.0, 1.5, 3.02, 0.27, 1.73, 2.0, 2.0, 2.0, 2.0, 2.0, 1.48, 2.0, 2.0, 2.0, 2.0, 2.0, 2.0] \n",
      "\n",
      "\n",
      "--ALLdata- 235 ---------------------------------------------------------\n",
      "\n",
      "[\"('09/03/2020 04:30:00', 1583699400, 10.56, '589', '22')\", \"('10/03/2020 05:30:00', 1583789400, 25.0, '708', '27')\", \"('10/03/2020 23:35:00', 1583854500, 18.08, '975', '30')\", \"('11/03/2020 04:25:00', 1583871900, 4.83, '1010', '31')\", \"('11/03/2020 15:17:00', 1583911020, 10.87, '1016', '31')\", \"('11/03/2020 23:35:00', 1583940900, 8.3, '1301', '38')\", \"('12/03/2020 03:25:00', 1583954700, 3.83, '1327', '38')\", \"('12/03/2020 11:37:00', 1583984220, 8.2, '1336', '38')\", \"('12/03/2020 22:00:00', 1584021600, 10.38, '1639', '40')\", \"('13/03/2020 00:05:00', 1584029100, 2.08, '1715', '41')\", \"('13/03/2020 01:35:00', 1584034500, 1.5, '1725', '41')\", \"('13/03/2020 03:45:00', 1584042300, 2.17, '1747', '41')\", \"('13/03/2020 06:00:00', 1584050400, 2.25, '1762', '41')\", \"('13/03/2020 15:25:00', 1584084300, 9.42, '1832', '41')\", \"('13/03/2020 22:25:00', 1584109500, 7.0, '2269', '48')\", \"('14/03/2020 02:40:00', 1584124800, 4.25, '2291', '50')\", \"('14/03/2020 07:14:00', 1584141240, 4.57, '2319', '50')\", \"('14/03/2020 16:45:00', 1584175500, 9.52, '2499', '51')\", \"('14/03/2020 23:03:00', 1584198180, 6.3, '2836', '57')\", \"('15/03/2020 05:00:00', 1584219600, 5.95, '2982', '60')\", \"('15/03/2020 05:40:00', 1584222000, 0.67, '2995', '60')\", \"('15/03/2020 07:05:00', 1584227100, 1.42, '3043', '60')\", \"('15/03/2020 19:00:00', 1584270000, 11.92, '3329', '63')\", \"('15/03/2020 20:05:00', 1584273900, 1.08, '3400', '63')\", \"('15/03/2020 21:15:00', 1584278100, 1.17, '3621', '63')\", \"('15/03/2020 22:15:00', 1584281700, 1.0, '3502', '63')\", \"('16/03/2020 00:35:00', 1584290100, 2.33, '3714', '68')\", \"('16/03/2020 02:48:00', 1584298080, 2.22, '3777', '69')\", \"('16/03/2020 05:36:00', 1584308160, 2.8, '3782', '69')\", \"('16/03/2020 08:29:00', 1584318540, 2.88, '3802', '69')\", \"('16/03/2020 18:40:00', 1584355200, 10.18, '4186', '73')\", \"('16/03/2020 22:40:00', 1584369600, 4.0, '4597', '86')\", \"('17/03/2020 00:45:00', 1584377100, 2.08, '4667', '87')\", \"('17/03/2020 02:40:00', 1584384000, 1.92, '4704', '91')\", \"('17/03/2020 06:35:00', 1584398100, 3.92, '4727', '93')\", \"('17/03/2020 10:31:00', 1584412260, 3.93, '4743', '93')\", \"('17/03/2020 14:38:00', 1584427080, 4.12, '4752', '93')\", \"('17/03/2020 18:41:00', 1584441660, 4.05, '5723', '97')\", \"('17/03/2020 21:55:00', 1584453300, 3.23, '6211', '102')\", \"('17/03/2020 22:40:00', 1584456000, 0.75, '6349', '106')\", \"('18/03/2020 02:20:00', 1584469200, 3.67, '6499', '112')\", \"('18/03/2020 06:05:00', 1584482700, 3.75, '6522', '116')\", \"('18/03/2020 10:10:00', 1584497400, 4.08, '6524', '116')\", \"('18/03/2020 16:15:00', 1584519300, 6.08, '7601', '116')\", \"('18/03/2020 18:16:00', 1584526560, 2.02, '7708', '120')\", \"('18/03/2020 20:21:00', 1584534060, 2.08, '8710', '132')\", \"('18/03/2020 22:10:00', 1584540600, 1.82, '8998', '150')\", \"('19/03/2020 02:17:00', 1584555420, 4.12, '9371', '153')\", \"('19/03/2020 10:16:00', 1584584160, 7.98, '9464', '155')\", \"('19/03/2020 12:18:00', 1584591480, 2.03, '9473', '155')\", \"('19/03/2020 14:15:00', 1584598500, 1.95, '9486', '157')\", \"('19/03/2020 16:22:00', 1584606120, 2.12, '10692', '160')\", \"('19/03/2020 18:17:00', 1584613020, 1.92, '11355', '171')\", \"('19/03/2020 22:45:00', 1584629100, 4.47, '13737', '201')\", \"('20/03/2020 00:48:00', 1584636480, 2.05, '13865', '211')\", \"('20/03/2020 02:40:00', 1584643200, 1.87, '14316', '218')\", \"('20/03/2020 04:34:00', 1584650040, 1.9, '14336', '218')\", \"('20/03/2020 06:35:00', 1584657300, 2.02, '14366', '217')\", \"('20/03/2020 08:10:00', 1584663000, 1.58, '14366', '217')\", \"('20/03/2020 10:11:00', 1584670260, 2.02, '14366', '217')\", \"('20/03/2020 12:11:00', 1584677460, 2.0, '14366', '217')\", \"('20/03/2020 14:10:00', 1584684600, 1.98, '14373', '218')\", \"('20/03/2020 16:11:00', 1584691860, 2.02, '16067', '219')\", \"('20/03/2020 18:12:00', 1584699120, 2.02, '16545', '225')\", \"('20/03/2020 20:12:00', 1584706320, 2.0, '18121', '233')\", \"('20/03/2020 22:12:00', 1584713520, 2.0, '18876', '237')\", \"('21/03/2020 00:06:00', 1584720360, 1.9, '19393', '256')\", \"('21/03/2020 02:07:00', 1584727620, 2.02, '19643', '263')\", \"('21/03/2020 04:08:00', 1584734880, 2.02, '19652', '264')\", \"('21/03/2020 06:05:00', 1584741900, 1.95, '19774', '275')\", \"('21/03/2020 08:10:00', 1584749400, 2.08, '19774', '275')\", \"('21/03/2020 10:12:00', 1584756720, 2.03, '19774', '275')\", \"('21/03/2020 12:46:00', 1584765960, 2.57, '19775', '276')\", \"('21/03/2020 14:48:00', 1584773280, 2.03, '19823', '276')\", \"('21/03/2020 16:48:00', 1584780480, 2.0, '22085', '282')\", \"('21/03/2020 18:45:00', 1584787500, 1.95, '22813', '288')\", \"('21/03/2020 20:45:00', 1584794700, 2.0, '24142', '288')\", \"('21/03/2020 22:45:00', 1584801900, 2.0, '23940', '301')\", \"('22/03/2020 00:40:00', 1584808800, 1.92, '26111', '324')\", \"('22/03/2020 02:40:00', 1584816000, 2.0, '26711', '341')\", \"('22/03/2020 04:45:00', 1584823500, 2.08, '26867', '348')\", \"('22/03/2020 06:30:00', 1584829800, 1.75, '26892', '348')\", \"('22/03/2020 08:45:00', 1584837900, 2.25, '26892', '348')\", \"('22/03/2020 10:45:00', 1584845100, 2.0, '26900', '348')\", \"('22/03/2020 12:48:00', 1584852480, 2.05, '26905', '348')\", \"('22/03/2020 14:45:00', 1584859500, 1.95, '27031', '349')\", \"('22/03/2020 16:42:00', 1584866520, 1.95, '30239', '388')\", \"('22/03/2020 18:48:00', 1584874080, 2.1, '38757', '400')\", \"('22/03/2020 20:44:00', 1584881040, 1.93, '32356', '414')\", \"('22/03/2020 21:41:00', 1584884460, 0.95, '32356', '414')\", \"('23/03/2020 00:44:00', 1584895440, 3.05, '33346', '414')\", \"('23/03/2020 02:37:00', 1584902220, 1.88, '33546', '419')\", \"('23/03/2020 03:55:00', 1584906900, 1.3, '34717', '452')\", \"('23/03/2020 06:45:00', 1584917100, 2.83, '35060', '457')\", \"('23/03/2020 08:47:00', 1584924420, 2.03, '35070', '458')\", \"('23/03/2020 10:47:00', 1584931620, 2.0, '35070', '458')\", \"('23/03/2020 12:46:00', 1584938760, 1.98, '35075', '458')\", \"('23/03/2020 14:45:00', 1584945900, 1.98, '35179', '459')\", \"('23/03/2020 16:45:00', 1584953100, 2.0, '40773', '479')\", \"('23/03/2020 18:46:00', 1584960360, 2.02, '41569', '504')\", \"('23/03/2020 20:47:00', 1584967620, 2.02, '42443', '517')\", \"('23/03/2020 22:31:00', 1584973860, 1.73, '43449', '545')\", \"('24/03/2020 00:47:00', 1584982020, 2.27, '43718', '552')\", \"('24/03/2020 02:33:00', 1584988380, 1.77, '43734', '553')\", \"('24/03/2020 04:46:00', 1584996360, 2.22, '46145', '582')\", \"('24/03/2020 06:43:00', 1585003380, 1.95, '46145', '582')\", \"('24/03/2020 08:48:00', 1585010880, 2.08, '46145', '582')\", \"('24/03/2020 10:47:00', 1585018020, 1.98, '46168', '582')\", \"('24/03/2020 12:47:00', 1585025220, 2.0, '46168', '582')\", \"('24/03/2020 14:47:00', 1585032420, 2.0, '46274', '588')\", \"('24/03/2020 16:47:00', 1585039620, 2.0, '49594', '622')\", \"('24/03/2020 18:45:00', 1585046700, 1.97, '50982', '655')\", \"('24/03/2020 20:42:00', 1585053720, 1.95, '52921', '684')\", \"('24/03/2020 22:48:00', 1585061280, 2.1, '53205', '687')\", \"('25/03/2020 00:29:00', 1585067340, 1.68, '53655', '698')\", \"('25/03/2020 02:44:00', 1585075440, 2.25, '54823', '778')\", \"('25/03/2020 04:46:00', 1585082760, 2.03, '54867', '782')\", \"('25/03/2020 06:47:00', 1585090020, 2.02, '54916', '784')\", \"('25/03/2020 08:48:00', 1585097280, 2.02, '54935', '784')\", \"('25/03/2020 10:43:00', 1585104180, 1.92, '54941', '784')\", \"('25/03/2020 12:48:00', 1585111680, 2.08, '54979', '785')\", \"('25/03/2020 14:48:00', 1585118880, 2.0, '55081', '785')\", \"('25/03/2020 16:48:00', 1585126080, 2.0, '60642', '817')\", \"('25/03/2020 18:48:00', 1585133280, 2.0, '62364', '878')\", \"('25/03/2020 20:33:00', 1585139580, 1.75, '64765', '910')\", \"('25/03/2020 22:44:00', 1585147440, 2.18, '65527', '928')\", \"('26/03/2020 00:34:00', 1585154040, 1.83, '65797', '935')\", \"('26/03/2020 02:43:00', 1585161780, 2.15, '66741', '963')\", \"('26/03/2020 05:24:00', 1585171440, 2.68, '68472', '1032')\", \"('26/03/2020 07:03:00', 1585177380, 1.65, '68489', '1032')\", \"('26/03/2020 09:02:00', 1585184520, 1.98, '68489', '1032')\", \"('26/03/2020 11:02:00', 1585191720, 2.0, '68581', '1036')\", \"('26/03/2020 13:01:00', 1585198860, 1.98, '68594', '1036')\", \"('26/03/2020 14:52:00', 1585205520, 1.85, '68905', '1037')\", \"('26/03/2020 17:02:00', 1585213320, 2.17, '75069', '1080')\", \"('26/03/2020 19:00:00', 1585220400, 1.97, '79082', '1143')\", \"('26/03/2020 21:01:00', 1585227660, 2.02, '81946', '1177')\", \"('26/03/2020 23:02:00', 1585234920, 2.02, '83206', '1201')\", \"('27/03/2020 01:00:00', 1585242000, 1.97, '85280', '1293')\", \"('27/03/2020 03:01:00', 1585249260, 2.02, '85520', '1297')\", \"('27/03/2020 04:36:00', 1585254960, 1.58, '85594', '1300')\", \"('27/03/2020 07:33:00', 1585265580, 2.95, '85612', '1301')\", \"('27/03/2020 09:32:00', 1585272720, 1.98, '85612', '1301')\", \"('27/03/2020 11:31:00', 1585279860, 1.98, '85749', '1304')\", \"('27/03/2020 13:32:00', 1585287120, 2.02, '85755', '1304')\", \"('27/03/2020 15:33:00', 1585294380, 2.02, '86548', '1321')\", \"('27/03/2020 17:32:00', 1585301520, 1.98, '94425', '1429')\", \"('27/03/2020 19:33:00', 1585308780, 2.02, '98180', '1513')\", \"('27/03/2020 21:33:00', 1585315980, 2.0, '100514', '1546')\", \"('27/03/2020 23:33:00', 1585323180, 2.0, '102325', '1591')\", \"('28/03/2020 01:32:00', 1585330320, 1.98, '104126', '1692')\", \"('28/03/2020 03:34:00', 1585337640, 2.03, '104205', '1704')\", \"('28/03/2020 05:35:00', 1585344900, 2.02, '104205', '1704')\", \"('28/03/2020 07:35:00', 1585352100, 2.0, '104256', '1704')\", \"('28/03/2020 09:35:00', 1585359300, 2.0, '104256', '1704')\", \"('28/03/2020 11:40:00', 1585366800, 2.08, '104256', '1704')\", \"('28/03/2020 13:36:00', 1585373760, 1.93, '104277', '1704')\", \"('28/03/2020 15:45:00', 1585381500, 2.15, '105726', '1730')\", \"('28/03/2020 17:45:00', 1585388700, 2.0, '116050', '1937')\", \"('28/03/2020 19:43:00', 1585395780, 1.97, '118592', '1979')\", \"('28/03/2020 21:44:00', 1585403040, 2.02, '120204', '1997')\", \"('28/03/2020 23:43:00', 1585410180, 1.98, '123311', '2211')\", \"('29/03/2020 01:46:00', 1585417560, 2.05, '123578', '2221')\", \"('29/03/2020 03:46:00', 1585424760, 2.0, '123750', '2227')\", \"('29/03/2020 05:48:00', 1585432080, 2.03, '123774', '2228')\", \"('29/03/2020 07:41:00', 1585438860, 1.88, '123776', '2229')\", \"('29/03/2020 09:45:00', 1585446300, 2.07, '123781', '2229')\", \"('29/03/2020 11:44:00', 1585453440, 1.98, '123781', '2229')\", \"('29/03/2020 13:46:00', 1585460760, 2.03, '123828', '2229')\", \"('29/03/2020 15:47:00', 1585468020, 2.02, '125099', '2238')\", \"('29/03/2020 17:49:00', 1585475340, 2.03, '133146', '2363')\", \"('29/03/2020 19:47:00', 1585482420, 1.97, '137943', '2431')\", \"('29/03/2020 21:48:00', 1585489680, 2.02, '139904', '2449')\", \"('29/03/2020 23:49:00', 1585496940, 2.02, '141781', '2471')\", \"('30/03/2020 01:44:00', 1585503840, 1.92, '142004', '2484')\", \"('30/03/2020 03:46:00', 1585511160, 2.03, '142735', '2488')\", \"('30/03/2020 06:46:00', 1585521960, 3.0, '142735', '2488')\", \"('30/03/2020 08:50:00', 1585529400, 2.07, '142735', '2489')\", \"('30/03/2020 10:50:00', 1585536600, 2.0, '142746', '2489')\", \"('30/03/2020 12:50:00', 1585543800, 2.0, '142793', '2490')\", \"('30/03/2020 14:50:00', 1585551000, 2.0, '144410', '2600')\", \"('30/03/2020 16:50:00', 1585558200, 2.0, '145542', '2616')\", \"('30/03/2020 18:50:00', 1585565400, 2.0, '156565', '2870')\", \"('30/03/2020 20:50:00', 1585572600, 2.0, '159689', '2951')\", \"('30/03/2020 22:50:00', 1585579800, 2.0, '161358', '2974')\", \"('31/03/2020 00:50:00', 1585587000, 2.0, '163479', '3148')\", \"('31/03/2020 02:50:00', 1585594200, 2.0, '164253', '3165')\", \"('31/03/2020 04:50:00', 1585601400, 2.0, '164253', '3167')\", \"('31/03/2020 06:50:00', 1585608600, 2.0, '164323', '3170')\", \"('31/03/2020 08:42:00', 1585615320, 1.87, '164359', '3173')\", \"('31/03/2020 10:49:00', 1585622940, 2.12, '164359', '3173')\", \"('31/03/2020 12:49:00', 1585630140, 2.0, '164435', '3175')\", \"('31/03/2020 14:49:00', 1585637340, 2.0, '165392', '3182')\", \"('31/03/2020 16:49:00', 1585644540, 2.0, '175669', '3424')\", \"('31/03/2020 18:49:00', 1585651740, 2.0, '180340', '3573')\", \"('31/03/2020 20:49:00', 1585658940, 2.0, '186046', '3807')\", \"('31/03/2020 22:49:00', 1585666140, 2.0, '187729', '3867')\", \"('01/04/2020 02:49:00', 1585680540, 4.0, '188530', '3889')\", \"('01/04/2020 04:49:00', 1585687740, 2.0, '188578', '4054')\", \"('01/04/2020 06:49:00', 1585694940, 2.0, '188592', '4055')\", \"('01/04/2020 08:49:00', 1585702140, 2.0, '188592', '4056')\", \"('01/04/2020 10:49:00', 1585709340, 2.0, '188639', '4059')\", \"('01/04/2020 12:49:00', 1585716540, 2.0, '188647', '4059')\", \"('01/04/2020 14:49:00', 1585723740, 2.0, '189711', '4099')\", \"('01/04/2020 16:49:00', 1585730940, 2.0, '200289', '4394')\", \"('01/04/2020 18:49:00', 1585738140, 2.0, '205438', '4528')\", \"('01/04/2020 20:49:00', 1585745340, 2.0, '211143', '4713')\", \"('01/04/2020 22:49:00', 1585752540, 2.0, '212980', '4759')\", \"('02/04/2020 00:49:00', 1585759740, 2.0, '215003', '5102')\", \"('02/04/2020 02:49:00', 1585766940, 2.0, '215175', '5110')\", \"('02/04/2020 04:49:00', 1585774140, 2.0, '215300', '5110')\", \"('02/04/2020 06:49:00', 1585781340, 2.0, '215324', '5112')\", \"('02/04/2020 08:49:00', 1585788540, 2.0, '215344', '5112')\", \"('02/04/2020 10:49:00', 1585795740, 2.0, '215344', '5112')\", \"('02/04/2020 12:49:00', 1585802940, 2.0, '216722', '5140')\", \"('02/04/2020 14:49:00', 1585810140, 2.0, '219832', '5227')\", \"('02/04/2020 16:49:00', 1585817340, 2.0, '222658', '5356')\", \"('02/04/2020 18:49:00', 1585824540, 2.0, '232899', '5665')\", \"('02/04/2020 20:49:00', 1585831740, 2.0, '243298', '5883')\", \"('02/04/2020 22:19:00', 1585837140, 1.5, '244230', '5883')\", \"('03/04/2020 01:20:00', 1585848000, 3.02, '244877', '6070')\", \"('03/04/2020 01:36:00', 1585848960, 0.27, '245066', '6075')\", \"('03/04/2020 03:20:00', 1585855200, 1.73, '245088', '6075')\", \"('03/04/2020 05:20:00', 1585862400, 2.0, '245341', '6095')\", \"('03/04/2020 07:20:00', 1585869600, 2.0, '245373', '6095')\", \"('03/04/2020 09:20:00', 1585876800, 2.0, '245373', '6095')\", \"('03/04/2020 11:20:00', 1585884000, 2.0, '245380', '6095')\", \"('03/04/2020 13:20:00', 1585891200, 2.0, '245442', '6098')\", \"('03/04/2020 14:49:00', 1585896540, 1.48, '245442', '6099')\", \"('03/04/2020 16:49:00', 1585903740, 2.0, '259750', '6603')\", \"('03/04/2020 18:49:00', 1585910940, 2.0, '266279', '6803')\", \"('03/04/2020 20:49:00', 1585918140, 2.0, '272614', '6988')\", \"('03/04/2020 22:49:00', 1585925340, 2.0, '275802', '7087')\", \"('04/04/2020 00:49:00', 1585932540, 2.0, '276965', '7391')\", \"('04/04/2020 02:49:00', 1585939740, 2.0, '277161', '7392')\"] \n",
      "\n",
      "\n",
      "--EPOCHS- 235 ---------------------------------------------------------\n",
      "\n",
      "[1583699400, 1583789400, 1583854500, 1583871900, 1583911020, 1583940900, 1583954700, 1583984220, 1584021600, 1584029100, 1584034500, 1584042300, 1584050400, 1584084300, 1584109500, 1584124800, 1584141240, 1584175500, 1584198180, 1584219600, 1584222000, 1584227100, 1584270000, 1584273900, 1584278100, 1584281700, 1584290100, 1584298080, 1584308160, 1584318540, 1584355200, 1584369600, 1584377100, 1584384000, 1584398100, 1584412260, 1584427080, 1584441660, 1584453300, 1584456000, 1584469200, 1584482700, 1584497400, 1584519300, 1584526560, 1584534060, 1584540600, 1584555420, 1584584160, 1584591480, 1584598500, 1584606120, 1584613020, 1584629100, 1584636480, 1584643200, 1584650040, 1584657300, 1584663000, 1584670260, 1584677460, 1584684600, 1584691860, 1584699120, 1584706320, 1584713520, 1584720360, 1584727620, 1584734880, 1584741900, 1584749400, 1584756720, 1584765960, 1584773280, 1584780480, 1584787500, 1584794700, 1584801900, 1584808800, 1584816000, 1584823500, 1584829800, 1584837900, 1584845100, 1584852480, 1584859500, 1584866520, 1584874080, 1584881040, 1584884460, 1584895440, 1584902220, 1584906900, 1584917100, 1584924420, 1584931620, 1584938760, 1584945900, 1584953100, 1584960360, 1584967620, 1584973860, 1584982020, 1584988380, 1584996360, 1585003380, 1585010880, 1585018020, 1585025220, 1585032420, 1585039620, 1585046700, 1585053720, 1585061280, 1585067340, 1585075440, 1585082760, 1585090020, 1585097280, 1585104180, 1585111680, 1585118880, 1585126080, 1585133280, 1585139580, 1585147440, 1585154040, 1585161780, 1585171440, 1585177380, 1585184520, 1585191720, 1585198860, 1585205520, 1585213320, 1585220400, 1585227660, 1585234920, 1585242000, 1585249260, 1585254960, 1585265580, 1585272720, 1585279860, 1585287120, 1585294380, 1585301520, 1585308780, 1585315980, 1585323180, 1585330320, 1585337640, 1585344900, 1585352100, 1585359300, 1585366800, 1585373760, 1585381500, 1585388700, 1585395780, 1585403040, 1585410180, 1585417560, 1585424760, 1585432080, 1585438860, 1585446300, 1585453440, 1585460760, 1585468020, 1585475340, 1585482420, 1585489680, 1585496940, 1585503840, 1585511160, 1585521960, 1585529400, 1585536600, 1585543800, 1585551000, 1585558200, 1585565400, 1585572600, 1585579800, 1585587000, 1585594200, 1585601400, 1585608600, 1585615320, 1585622940, 1585630140, 1585637340, 1585644540, 1585651740, 1585658940, 1585666140, 1585680540, 1585687740, 1585694940, 1585702140, 1585709340, 1585716540, 1585723740, 1585730940, 1585738140, 1585745340, 1585752540, 1585759740, 1585766940, 1585774140, 1585781340, 1585788540, 1585795740, 1585802940, 1585810140, 1585817340, 1585824540, 1585831740, 1585837140, 1585848000, 1585848960, 1585855200, 1585862400, 1585869600, 1585876800, 1585884000, 1585891200, 1585896540, 1585903740, 1585910940, 1585918140, 1585925340, 1585932540, 1585939740] \n",
      "\n",
      "\n",
      "--ACCs- 233 ---------------------------------------------------------\n",
      "\n",
      "[615.4, 620.2, 631.1, 639.4, 643.2, 651.4, 661.8, 663.9, 665.4, 667.6, 669.8, 679.2, 686.2, 690.5, 695.1, 704.6, 710.9, 716.8, 717.5, 718.9, 730.8, 731.9, 733.1, 734.1, 736.4, 738.6, 741.4, 744.3, 754.5, 758.5, 760.6, 762.5, 766.4, 770.3, 774.5, 778.5, 781.7, 782.5, 786.2, 789.9, 794.0, 800.1, 802.1, 804.2, 806.0, 810.1, 818.1, 820.1, 822.1, 824.2, 826.1, 830.6, 832.6, 834.5, 836.4, 838.4, 840.0, 842.0, 844.0, 846.0, 848.0, 850.0, 852.0, 854.0, 855.9, 858.0, 860.0, 861.9, 864.0, 866.0, 868.6, 870.6, 872.6, 874.6, 876.6, 878.6, 880.5, 882.5, 884.6, 886.3, 888.6, 890.6, 892.6, 894.6, 896.5, 898.6, 900.6, 901.5, 904.6, 906.5, 907.8, 910.6, 912.6, 914.6, 916.6, 918.6, 920.6, 922.6, 924.6, 926.3, 928.6, 930.4, 932.6, 934.6, 936.6, 938.6, 940.6, 942.6, 944.6, 946.6, 948.5, 950.6, 952.3, 954.6, 956.6, 958.6, 960.6, 962.6, 964.6, 966.6, 968.6, 970.6, 972.4, 974.6, 976.4, 978.5, 981.2, 982.9, 984.9, 986.9, 988.8, 990.7, 992.9, 994.8, 996.8, 998.9, 1000.8, 1002.9, 1004.4, 1007.4, 1009.4, 1011.3, 1013.4, 1015.4, 1017.4, 1019.4, 1021.4, 1023.4, 1025.4, 1027.4, 1029.4, 1031.4, 1033.4, 1035.5, 1037.4, 1039.6, 1041.6, 1043.5, 1045.6, 1047.5, 1049.6, 1051.6, 1053.6, 1055.5, 1057.6, 1059.6, 1061.6, 1063.6, 1065.6, 1067.6, 1069.6, 1071.6, 1073.6, 1075.6, 1078.6, 1080.7, 1082.7, 1084.7, 1086.7, 1088.7, 1090.7, 1092.7, 1094.7, 1096.7, 1098.7, 1100.7, 1102.7, 1104.5, 1106.7, 1108.7, 1110.7, 1112.7, 1114.7, 1116.7, 1118.7, 1122.7, 1124.7, 1126.7, 1128.7, 1130.7, 1132.7, 1134.7, 1136.7, 1138.7, 1140.7, 1142.7, 1144.7, 1146.7, 1148.7, 1150.7, 1152.7, 1154.7, 1156.7, 1158.7, 1160.7, 1162.7, 1164.7, 1166.2, 1169.2, 1169.4, 1171.2, 1173.2, 1175.2, 1177.2, 1179.2, 1181.2, 1182.7, 1184.7, 1186.7, 1188.7, 1190.7, 1192.7, 1194.7] \n",
      "\n"
     ]
    }
   ],
   "source": [
    "import datetime\n",
    "import calendar\n",
    "import time\n",
    "from M2D import *\n",
    "# 3,13,2020,03:45,GMT,1747,41\n",
    "text =arrangedDdata.split(\"\\n\")\n",
    "text= text[1:-1]\n",
    "EPOCHa=[]\n",
    "Scnt=0\n",
    "DEATHS = []\n",
    "ALLdata=[]\n",
    "EPOCHS = []\n",
    "SPANS = []\n",
    "ACCs = []\n",
    "text =arrangedDdata.split(\"\\n\")\n",
    "text= text[1:-1]\n",
    "for line in text:\n",
    "    #print(\"line\",line)\n",
    "    #line=str(LINE)\n",
    "    line = line.split(\" \")\n",
    "    CnD = (\"split\",line[2],line[3])\n",
    "    #print (str(line[1]+'/'+line[0]+'/'+line[2][:-3]))\n",
    "    dt = time.strftime(line[0]+' '+line[1])#+' '+line[2][:-3])\n",
    "    #print (\"dt\",dt)\n",
    "    \n",
    "    dt_ti = dt\n",
    "    #print (dt_ti)\n",
    "    #03-16-2020 02:48,3777\n",
    "    pattern = '%d/%m/%Y %H:%M:%S'\n",
    "    #pattern = '%m/%d/%Y %H:%M:%S'\n",
    "    epochs = int(time.mktime(time.strptime(dt_ti, pattern)))\n",
    "    #print (\"dt_ti, epochs\",dt_ti, epochs)\n",
    "\n",
    "    #if Scnt>1:print (dt_ti, epochs)\n",
    "    if Scnt>1:SPANS.append(span(int(last),int(epochs)))\n",
    "    if Scnt==0:last=1583661400     \n",
    "    #print (dt_ti, epochs,span(int(last),int(epochs)),line[2],line[3])\n",
    "    EPOCHS.append(int(epochs))\n",
    "    ad = dt_ti, epochs,span(int(last),int(epochs)),line[2],line[3]\n",
    "    DEATHS.append(line[3])\n",
    "    AS =str(ad)\n",
    "    #print (\"AS\",AS)\n",
    "    #ALLdata.append(dt_ti+\",\"+str(epochs)+\",\"+str(span(int(last),int(epochs)))+\",\"+str(line[2])+\",\"+str(line[3]))\n",
    "    ALLdata.append(AS)\n",
    "    Scnt=Scnt+1\n",
    "    \n",
    "    last = int(epochs)    \n",
    "    #print (span(int(last),int(epochs)))\n",
    "    EPOCHa.append(str(epochs))\n",
    "for accum in SPANS:\n",
    "    acc=acc+accum\n",
    "    ACCs.append(round(acc,1))    \n",
    "print(\"\\n--SPANS-\",len(SPANS),\"---------------------------------------------------------\\n\")    \n",
    "print (SPANS,\"\\n\")\n",
    "print(\"\\n--ALLdata-\",len(ALLdata),\"---------------------------------------------------------\\n\")\n",
    "print (ALLdata,\"\\n\")\n",
    "print(\"\\n--EPOCHS-\",len(EPOCHS),\"---------------------------------------------------------\\n\")\n",
    "print (EPOCHS,\"\\n\")\n",
    "print(\"\\n--ACCs-\",len(ACCs),\"---------------------------------------------------------\\n\")\n",
    "print (ACCs,\"\\n\")"
   ]
  },
  {
   "cell_type": "code",
   "execution_count": 549,
   "metadata": {
    "code_folding": []
   },
   "outputs": [
    {
     "name": "stdout",
     "output_type": "stream",
     "text": [
      "len(SPANS) 0\n",
      "len(ACCs) 236\n",
      "First Recorded Confirmed Case Count:  537\n",
      "Start of Accumulated Time in Hours:  0\n",
      "Number of Hours Records have been kept: 597.3\n",
      "Current Confirmed Cases:  277161\n",
      "Last Death Count:  7392\n",
      "\n",
      "-- Debug Info -------------------------------------\n",
      "len(CASESs) 236\n",
      "len(DEATHS) 236\n",
      "len(ACCs) 236\n"
     ]
    }
   ],
   "source": [
    "print (\"len(SPANS)\",len(SPANS))\n",
    "print (\"len(ACCs)\",len(ACCs))\n",
    "\n",
    "#3-15-2020 19:00,3329\n",
    "print (\"First Recorded Confirmed Case Count: \",CASESs[0])\n",
    "print (\"Start of Accumulated Time in Hours: \",ACCs[0])\n",
    "#print (\"Record Keeping Started\",' '.join(start)+\", with\",START,\"confirmed cases and\",DEATHs[0],\"Deaths\")\n",
    "print (\"Number of Hours Records have been kept:\",ACCs[-1])\n",
    "print (\"Current Confirmed Cases: \",CASESs[-1])\n",
    "print (\"Last Death Count: \", DEATHs[-1])\n",
    "print (\"\\n-- Debug Info -------------------------------------\")\n",
    "print (\"len(CASESs)\",len(CASESs))\n",
    "print (\"len(DEATHS)\",len(DEATHs))\n",
    "print (\"len(ACCs)\",len(ACCs))"
   ]
  },
  {
   "cell_type": "code",
   "execution_count": 492,
   "metadata": {
    "code_folding": []
   },
   "outputs": [
    {
     "name": "stdout",
     "output_type": "stream",
     "text": [
      "March 08, 2020:00 23:30 537 21\n",
      "First Recorded Confirmed Case Count:  537\n",
      "Start of Accumulated Time in Days:  0\n",
      "Record Keeping Started March 08, 2020, with 537 confirmed cases and 21 Deaths\n",
      "Number of Hours Records have been kept: 597.3\n",
      "Current Confirmed Cases:  277161\n",
      "Last Death Count:  7392\n",
      "\n",
      "-- Debug Info -------------------------------------\n",
      "len(CASESs) 236\n",
      "len(DEATHS) 236\n",
      "len(ACCs) 236\n"
     ]
    }
   ],
   "source": [
    "import sqlite3\n",
    "from M2D import Month2Num\n",
    "arrangedDdata = ''\n",
    "CASESs = []\n",
    "DEATHs = []\n",
    "arrangedDdata=arrangedDdata+\"date_time,cases\\n\"\n",
    "conn=sqlite3.connect(\"DATA/CoronaData2.db\")\n",
    "c= conn.cursor()\n",
    "cnt = 0\n",
    "for rows in c.execute('SELECT * from CORONA'):\n",
    "    cnt = cnt  +1\n",
    "    #if cnt==1:print(rows)\n",
    "    rows=str(rows)\n",
    "    row = rows.split(\" \")\n",
    "    if cnt==1:print(row[0][2:],row[1],row[2]+\":00\",row[4],row[9],row[13])\n",
    "    if cnt==1:start= row[0][2:],row[1],row[2]   \n",
    "    CASESs.append(row[9])\n",
    "    DEATHs.append(row[13])\n",
    "    \n",
    "conn.close() \n",
    "count = 0\n",
    "ACCs = []\n",
    "ACCs.append(0)\n",
    "ACCs.append(0)\n",
    "ACCs.append(0)\n",
    "acc=0\n",
    "for accum in SPANS:\n",
    "    acc=acc+accum\n",
    "    ACCs.append(round(acc,1))\n",
    "START = CASESs[0]\n",
    "\n",
    "\n",
    "#3-15-2020 19:00,3329\n",
    "print (\"First Recorded Confirmed Case Count: \",CASESs[0])\n",
    "print (\"Start of Accumulated Time in Days: \",ACCs[1])\n",
    "print (\"Record Keeping Started\",' '.join(start)+\", with\",START,\"confirmed cases and\",DEATHs[0],\"Deaths\")\n",
    "print (\"Number of Hours Records have been kept:\",ACCs[-1])\n",
    "print (\"Current Confirmed Cases: \",CASESs[-1])\n",
    "print (\"Last Death Count: \", DEATHs[-1])\n",
    "print (\"\\n-- Debug Info -------------------------------------\")\n",
    "print (\"len(CASESs)\",len(CASESs))\n",
    "print (\"len(DEATHS)\",len(DEATHs))\n",
    "print (\"len(ACCs)\",len(ACCs))"
   ]
  },
  {
   "cell_type": "code",
   "execution_count": 493,
   "metadata": {},
   "outputs": [
    {
     "name": "stdout",
     "output_type": "stream",
     "text": [
      "1 0\n",
      "2 0\n",
      "3 -18.1\n",
      "4 -4.8\n",
      "5 -10.9\n",
      "6 -8.3\n",
      "7 -3.8\n",
      "8 -8.2\n",
      "9 -10.4\n",
      "10 -2.1\n",
      "11 -1.5\n",
      "12 -2.1\n",
      "13 -2.3\n",
      "14 -9.4\n",
      "15 -7.0\n",
      "16 -4.3\n",
      "17 -4.5\n",
      "18 -9.5\n",
      "19 -6.3\n",
      "20 -6.0\n",
      "21 -0.7\n",
      "22 -1.4\n",
      "23 -11.9\n",
      "24 -1.1\n",
      "25 -1.2\n",
      "26 -1.0\n",
      "27 -2.3\n",
      "28 -2.2\n",
      "29 -2.8\n",
      "30 -2.9\n",
      "31 -10.2\n",
      "32 -4.0\n",
      "33 -2.1\n",
      "34 -1.9\n",
      "35 -3.9\n",
      "36 -3.9\n",
      "37 -4.1\n",
      "38 -4.1\n",
      "39 -3.2\n",
      "40 -0.8\n",
      "41 -3.6\n",
      "42 -3.8\n",
      "43 -4.1\n",
      "44 -6.1\n",
      "45 -2.0\n",
      "46 -2.1\n",
      "47 -1.8\n",
      "48 -4.1\n",
      "49 -8.0\n",
      "50 -2.0\n",
      "51 -2.0\n",
      "52 -2.1\n",
      "53 -1.9\n",
      "54 -4.5\n",
      "55 -2.0\n",
      "56 -1.9\n",
      "57 -1.9\n",
      "58 -2.0\n",
      "59 -1.6\n",
      "60 -2.0\n",
      "61 -2.0\n",
      "62 -2.0\n",
      "63 -2.0\n",
      "64 -2.0\n",
      "65 -2.0\n",
      "66 -2.0\n",
      "67 -1.9\n",
      "68 -2.0\n",
      "69 -2.1\n",
      "70 -1.9\n",
      "71 -2.1\n",
      "72 -2.0\n",
      "73 -2.6\n",
      "74 -2.0\n",
      "75 -2.0\n",
      "76 -2.0\n",
      "77 -2.0\n",
      "78 -2.0\n",
      "79 -1.9\n",
      "80 -2.0\n",
      "81 -2.1\n",
      "82 -1.7\n",
      "83 -2.3\n",
      "84 -2.0\n",
      "85 -2.0\n",
      "86 -2.0\n",
      "87 -1.9\n",
      "88 -2.1\n",
      "89 -1.9\n",
      "90 -1.0\n",
      "91 -3.0\n",
      "92 -1.9\n",
      "93 -1.3\n",
      "94 -2.9\n",
      "95 -2.0\n",
      "96 -2.0\n",
      "97 -2.0\n",
      "98 -1.9\n",
      "99 -2.0\n",
      "100 -2.1\n",
      "101 -2.0\n",
      "102 -1.7\n",
      "103 -2.3\n",
      "104 -1.8\n",
      "105 -2.2\n",
      "106 -1.9\n",
      "107 -2.1\n",
      "108 -2.0\n",
      "109 -2.0\n",
      "110 -2.0\n",
      "111 -2.0\n",
      "112 -2.0\n",
      "113 -1.9\n",
      "114 -2.1\n",
      "115 -1.7\n",
      "116 -2.2\n",
      "117 -2.1\n",
      "118 -2.0\n",
      "119 -2.0\n",
      "120 -1.9\n",
      "121 -2.1\n",
      "122 -2.0\n",
      "123 -2.0\n",
      "124 -2.0\n",
      "125 -1.8\n",
      "126 -2.1\n",
      "127 -1.9\n",
      "128 -2.1\n",
      "129 -2.7\n",
      "130 -1.6\n",
      "131 -2.0\n",
      "132 -2.0\n",
      "133 -2.0\n",
      "134 -1.9\n",
      "135 -2.1\n",
      "136 -2.0\n",
      "137 -2.0\n",
      "138 -2.0\n",
      "139 -2.0\n",
      "140 -2.0\n",
      "141 -1.6\n",
      "142 -3.0\n",
      "143 -1.9\n",
      "144 -2.0\n",
      "145 -2.0\n",
      "146 -2.1\n",
      "147 -1.9\n",
      "148 -2.1\n",
      "149 -2.0\n",
      "150 -2.0\n",
      "151 -1.9\n",
      "152 -2.1\n",
      "153 -2.0\n",
      "154 -2.0\n",
      "155 -2.0\n",
      "156 -2.1\n",
      "157 -1.9\n",
      "158 -2.1\n",
      "159 -2.0\n",
      "160 -2.0\n",
      "161 -2.0\n",
      "162 -2.0\n",
      "163 -2.1\n",
      "164 -2.0\n",
      "165 -2.0\n",
      "166 -1.9\n",
      "167 -2.0\n",
      "168 -2.0\n",
      "169 -2.1\n",
      "170 -2.0\n",
      "171 -2.0\n",
      "172 -2.0\n",
      "173 -2.0\n",
      "174 -2.0\n",
      "175 -1.9\n",
      "176 -2.1\n",
      "177 -3.0\n",
      "178 -2.0\n",
      "179 -2.0\n",
      "180 -2.0\n",
      "181 -2.0\n",
      "182 -2.0\n",
      "183 -2.0\n",
      "184 -2.0\n",
      "185 -2.0\n",
      "186 -2.0\n",
      "187 -2.0\n",
      "188 -2.0\n",
      "189 -2.0\n",
      "190 -1.9\n",
      "191 -2.1\n",
      "192 -2.0\n",
      "193 -2.0\n",
      "194 -2.0\n",
      "195 -2.0\n",
      "196 -2.0\n",
      "197 -2.0\n",
      "198 -4.0\n",
      "199 -2.0\n",
      "200 -2.0\n",
      "201 -2.0\n",
      "202 -2.0\n",
      "203 -2.0\n",
      "204 -2.0\n",
      "205 -2.0\n",
      "206 -2.0\n",
      "207 -2.0\n",
      "208 -2.0\n",
      "209 -2.0\n",
      "210 -2.0\n",
      "211 -2.0\n",
      "212 -2.0\n",
      "213 -2.0\n",
      "214 -2.0\n",
      "215 -2.0\n",
      "216 -2.0\n",
      "217 -2.0\n",
      "218 -2.0\n",
      "219 -2.0\n",
      "220 -1.5\n",
      "221 -3.0\n",
      "222 -0.3\n",
      "223 -1.7\n",
      "224 -2.0\n",
      "225 -2.0\n",
      "226 -2.0\n",
      "227 -2.0\n",
      "228 -2.0\n",
      "229 -1.5\n",
      "230 -2.0\n",
      "231 -2.0\n",
      "232 -2.0\n",
      "233 -2.0\n",
      "234 -2.0\n",
      "235 -2.0\n",
      "517.3\n"
     ]
    }
   ],
   "source": [
    "cnt = 0\n",
    "for x in range(0,len(ACCs)-1):\n",
    "    cnt=cnt+1\n",
    "    print (cnt,round(ACCs[x]-ACCs[x+1],2))\n",
    "    \n",
    "    \n",
    "print(ACCs[195])    "
   ]
  },
  {
   "cell_type": "code",
   "execution_count": 494,
   "metadata": {},
   "outputs": [
    {
     "name": "stdout",
     "output_type": "stream",
     "text": [
      "len(CASESs) 236\n",
      "len(DEATHS) 236\n",
      "len(ACCs) 236\n"
     ]
    },
    {
     "data": {
      "image/png": "[encoded data removed]",
      "text/plain": [
       "<Figure size 1280x640 with 1 Axes>"
      ]
     },
     "metadata": {},
     "output_type": "display_data"
    }
   ],
   "source": [
    "print (\"len(CASESs)\",len(CASESs))\n",
    "print (\"len(DEATHS)\",len(DEATHs))\n",
    "print (\"len(ACCs)\",len(ACCs))\n",
    "\n",
    "\n",
    "x = np.array(ACCs,dtype=np.float)\n",
    "y = np.array(CASESs,dtype=np.int)\n",
    "d = np.array(DEATHs,dtype=np.int)\n",
    "fig = plt.figure(num=None, figsize=(16,8), dpi=80, facecolor='salmon')\n",
    "#fig = plt.figure()\n",
    "ax = fig.gca()\n",
    "\n",
    "ax.grid(color='lightgray', linestyle='-', linewidth=1)\n",
    "#plt.scatter(x, y, s=3)\n",
    "\n",
    "\n",
    "plt.plot(x, d)\n",
    "#plt.yscale('log')\n",
    "#plt.yscale('symlog', linthreshy=0.01)\n",
    "#plt.scatter(x, d, s=3, color='red')\n",
    "#plt.scatter(x, y, s=3, color='blue')\n",
    "\n",
    "plt.title('log')\n",
    "plt.grid(True)\n",
    "\n",
    "\n",
    "#plt.grid(True)\n",
    "\n",
    "plt.xlabel('Time in Hours - Clock Started 03/08/2020 23:30:00 with 537 Cases and 21 Deaths')\n",
    "plt.title('Accumulated Hours Between Samples')\n",
    "s1= 'Started:\\n1010 Cases\\n22.9 Deaths'\n",
    "plt.text(15, 150, s1, fontsize=12)\n",
    "s= 'v'\n",
    "plt.text(15, 60, s, fontsize=15)\n",
    "plt.ylabel('Number of Deaths in the USA')\n",
    "fig.savefig('images/plot-Deaths-002.png', facecolor=fig.get_facecolor(), edgecolor='black')\n",
    "plt.show()"
   ]
  },
  {
   "cell_type": "code",
   "execution_count": 495,
   "metadata": {},
   "outputs": [
    {
     "name": "stdout",
     "output_type": "stream",
     "text": [
      "len(CASESs) 236\n",
      "len(DEATHS) 236\n",
      "len(ACCs) 236\n"
     ]
    },
    {
     "data": {
      "image/png": "[encoded data removed]",
      "text/plain": [
       "<Figure size 800x640 with 1 Axes>"
      ]
     },
     "metadata": {},
     "output_type": "display_data"
    }
   ],
   "source": [
    "#del CASESs[0]\n",
    "#del CASESs[0]    \n",
    "#del CASESs[0]\n",
    "#del DEATHs[0]\n",
    "#del DEATHs[0]    \n",
    "#del DEATHs[0]\n",
    "print (\"len(CASESs)\",len(CASESs))\n",
    "print (\"len(DEATHS)\",len(DEATHs))\n",
    "print (\"len(ACCs)\",len(ACCs))\n",
    "x = np.array(ACCs,dtype=np.float)\n",
    "y = np.array(CASESs,dtype=np.int)\n",
    "d = np.array(DEATHs,dtype=np.int)\n",
    "fig = plt.figure(num=None, figsize=(10,8), dpi=80, facecolor='salmon')\n",
    "#fig = plt.figure()\n",
    "ax = fig.gca()\n",
    "\n",
    "ax.grid(color='lightgray', linestyle='-', linewidth=1)\n",
    "plt.scatter(x, y, s=3)\n",
    "#plt.scatter(x, d, s=3, color='red')\n",
    "plt.grid(True)\n",
    "\n",
    "plt.xlabel('Time in Hours - Clock Started 03/08/2020 23:30:00 with 537 Cases and 21 Deaths')\n",
    "plt.title('Accumulated Hours Between Samples')\n",
    "s1= 'Last: '+CASESs[-1]+' Cases\\n           '+DEATHs[-1]+' Deaths'\n",
    "plt.text(440, 268837, s1, fontsize=12)\n",
    "\n",
    "s1= 'Started:\\n1010 Cases\\n22.9 Deaths'\n",
    "plt.text(12, 8837, s1, fontsize=12)\n",
    "s= 'v'\n",
    "plt.text(12, 3200, s, fontsize=14)\n",
    "plt.ylabel('Number of Cases in the USA')\n",
    "fig.savefig('images/plot002.png', facecolor=fig.get_facecolor(), edgecolor='black')\n",
    "plt.show()"
   ]
  },
  {
   "cell_type": "code",
   "execution_count": 496,
   "metadata": {},
   "outputs": [
    {
     "name": "stdout",
     "output_type": "stream",
     "text": [
      "my:  April 04 2020\n",
      "my_time:  2020 11:28:16\n",
      "new_time:  2019-12-31 15:28:16\n",
      "new_time2:  2019-12-30 15:28:16\n",
      "April 04 2020 2019 15:28:16\n",
      "April 04 2020 2019 15:28:16\n"
     ]
    }
   ],
   "source": [
    "# time data '2016 April 01, 2020 06:45AM' does not match format '%Y %H:%M:%S'\n",
    "import datetime\n",
    "import time\n",
    "my = time.strftime(\"%B %d %Y\")\n",
    "print (\"my: \",my)\n",
    "my_time = time.strftime(\"%Y %I:%M:%S\")\n",
    "print(\"my_time: \",my_time)\n",
    "new_time = datetime.datetime.strptime(my_time, \"%Y %H:%M:%S\") - datetime.timedelta(hours=20, minutes=0)\n",
    "print(\"new_time: \",new_time)\n",
    "my_time2 = time.strftime(\"%H:%M:%S\")\n",
    "new_time2 = datetime.datetime.strptime(my_time, \"%Y %H:%M:%S\") - datetime.timedelta(days=1, hours=20, minutes=0)\n",
    "print(\"new_time2: \",new_time2)\n",
    "#new_time = time.strptime(\"%B %d\", \"%Y %H:%M:%S\") - datetime.timedelta(hours=10, minutes=0)\n",
    "print (my,new_time.strftime(\"%Y %H:%M:%S\"))\n",
    "print (my,new_time2.strftime(\"%Y %H:%M:%S\"))"
   ]
  },
  {
   "cell_type": "code",
   "execution_count": 497,
   "metadata": {},
   "outputs": [
    {
     "name": "stdout",
     "output_type": "stream",
     "text": [
      "Sat 04 Apr 2020 03:28:17 AM UTC\r\n"
     ]
    }
   ],
   "source": [
    "!date -u +%c"
   ]
  },
  {
   "cell_type": "code",
   "execution_count": 498,
   "metadata": {},
   "outputs": [
    {
     "name": "stdout",
     "output_type": "stream",
     "text": [
      "597.3\n",
      "24.8875\n"
     ]
    }
   ],
   "source": [
    "for time in ACC:\n",
    "    t=5\n",
    "print(time)  \n",
    "\n",
    "print (time/24)"
   ]
  },
  {
   "cell_type": "raw",
   "metadata": {},
   "source": [
    "import sqlite3\n",
    "conn=sqlite3.connect(\"DATA/CoronaData2.db\")\n",
    "c= conn.cursor()\n",
    "\n",
    "enter = \"March 26, 2020 at 02:43 GMT, there have been 66741 confirmed cases and 963 deaths due to coronavirus COVID-19 in the United Stat\"\n",
    "ID = 131\n",
    "c.execute(\"UPDATE CORONA SET data = ? WHERE ROWID = ?\", (enter, ID,))\n",
    "conn.commit()\n",
    "conn.close()"
   ]
  },
  {
   "cell_type": "code",
   "execution_count": 499,
   "metadata": {
    "code_folding": []
   },
   "outputs": [
    {
     "name": "stdout",
     "output_type": "stream",
     "text": [
      "(128, 'March 26, 2020 at 00:34 GMT, there have been 65797 confirmed cases and 935 deaths due to coronavirus COVID-19 in the United States')\n",
      "02/04/02,22:19,244230,5883\n",
      "03/04/03,01:20,244877,6070\n",
      "03/04/03,01:36,245066,6075\n",
      "03/04/03,03:20,245088,6075\n",
      "03/04/03,05:20,245341,6095\n",
      "03/04/03,07:20,245373,6095\n",
      "03/04/03,09:20,245373,6095\n",
      "03/04/03,11:20,245380,6095\n",
      "03/04/03,13:20,245442,6098\n",
      "03/04/03,14:49,245442,6099\n",
      "03/04/03,16:49,259750,6603\n",
      "03/04/03,18:49,266279,6803\n",
      "03/04/03,20:49,272614,6988\n",
      "03/04/03,22:49,275802,7087\n",
      "04/04/04,00:49,276965,7391\n",
      "04/04/04,02:49,277161,7392\n"
     ]
    }
   ],
   "source": [
    "import M2D\n",
    "import sqlite3\n",
    "conn=sqlite3.connect(\"DATA/CoronaData2.db\")\n",
    "c= conn.cursor()\n",
    "cnt=0\n",
    "for row in c.execute('SELECT rowid,* from CORONA'):\n",
    "    if row[0]==128:print (row)\n",
    "    cnt=cnt+1\n",
    "    if row[0]>220:\n",
    "        data = row[1]\n",
    "        data = data.replace(\",\",\"\")\n",
    "        data = data.split(\" \")\n",
    "        #print (row[0],\":\",data[1]+\"/\"+Month2Num(data[0])+\"\"+data[1]+\",\"+data[4]+\",\"+data[9]+\",\"+data[13])\n",
    "        print (data[1]+\"/\"+Month2Num(data[0])+\"/\"+data[1]+\",\"+data[4]+\",\"+data[9]+\",\"+data[13])"
   ]
  },
  {
   "cell_type": "code",
   "execution_count": 500,
   "metadata": {},
   "outputs": [
    {
     "data": {
      "text/plain": [
       "480.0"
      ]
     },
     "execution_count": 500,
     "metadata": {},
     "output_type": "execute_result"
    }
   ],
   "source": [
    "360*4\n",
    "1440/3"
   ]
  },
  {
   "cell_type": "markdown",
   "metadata": {},
   "source": [
    "# Create the list ANALYZE _ ANALYZE =[]"
   ]
  },
  {
   "cell_type": "code",
   "execution_count": 501,
   "metadata": {},
   "outputs": [
    {
     "name": "stdout",
     "output_type": "stream",
     "text": [
      "235\n",
      "('09/03/2020 04:30:00', 1583699400, 10.56, '589', '22')\n",
      "('10/03/2020 05:30:00', 1583789400, 25.0, '708', '27')\n",
      "('10/03/2020 23:35:00', 1583854500, 18.08, '975', '30')\n",
      "('11/03/2020 04:25:00', 1583871900, 4.83, '1010', '31')\n",
      "('11/03/2020 15:17:00', 1583911020, 10.87, '1016', '31')\n",
      "('11/03/2020 23:35:00', 1583940900, 8.3, '1301', '38')\n",
      "('12/03/2020 03:25:00', 1583954700, 3.83, '1327', '38')\n",
      "('12/03/2020 11:37:00', 1583984220, 8.2, '1336', '38')\n",
      "('12/03/2020 22:00:00', 1584021600, 10.38, '1639', '40')\n",
      "('13/03/2020 00:05:00', 1584029100, 2.08, '1715', '41')\n",
      "('03/04/2020 11:20:00', 1585884000, 2.0, '245380', '6095')\n",
      "('03/04/2020 13:20:00', 1585891200, 2.0, '245442', '6098')\n",
      "('03/04/2020 14:49:00', 1585896540, 1.48, '245442', '6099')\n",
      "('03/04/2020 16:49:00', 1585903740, 2.0, '259750', '6603')\n",
      "('03/04/2020 18:49:00', 1585910940, 2.0, '266279', '6803')\n",
      "('03/04/2020 20:49:00', 1585918140, 2.0, '272614', '6988')\n",
      "('03/04/2020 22:49:00', 1585925340, 2.0, '275802', '7087')\n",
      "('04/04/2020 00:49:00', 1585932540, 2.0, '276965', '7391')\n"
     ]
    }
   ],
   "source": [
    "import string\n",
    "cnt=0\n",
    "ANALYZE =[]\n",
    "LEN =len(ALLdata)\n",
    "print (LEN)\n",
    "for x in range(0,LEN-1):\n",
    "    if x<10 or x>LEN-10:\n",
    "        print(ALLdata[x])"
   ]
  },
  {
   "cell_type": "code",
   "execution_count": 502,
   "metadata": {},
   "outputs": [
    {
     "name": "stdout",
     "output_type": "stream",
     "text": [
      "09/03/2020 04:30:00\n"
     ]
    }
   ],
   "source": [
    "STR=\"09/03/2020 04:30:00 589\"\n",
    "print(STR[:-4])"
   ]
  },
  {
   "cell_type": "code",
   "execution_count": 503,
   "metadata": {},
   "outputs": [
    {
     "name": "stdout",
     "output_type": "stream",
     "text": [
      "--------------- Number of Samples:  235 ----------\n",
      "\n",
      "\n",
      "--------------- First Five Samples ---------------\n",
      "09/03/2020 04:30:00  589  22\n",
      "10/03/2020 05:30:00  708  27\n",
      "10/03/2020 23:35:00  975  30\n",
      "11/03/2020 04:25:00  1010  31\n",
      "11/03/2020 15:17:00  1016  31\n",
      "\n",
      "--------------- Last Five Samples ---------------\n",
      "03/04/2020 18:49:00  266279  6803\n",
      "03/04/2020 20:49:00  272614  6988\n",
      "03/04/2020 22:49:00  275802  7087\n",
      "04/04/2020 00:49:00  276965  7391\n",
      "04/04/2020 02:49:00  277161  7392\n",
      "\n",
      "--------------- Last Sample ---------------\n",
      "04/04/2020 02:49:00 277161 7392\n"
     ]
    }
   ],
   "source": [
    "import string\n",
    "import time\n",
    "cnt=0\n",
    "ANALYZE =[]\n",
    "LEN =len(ALLdata)\n",
    "\n",
    "print(\"--------------- Number of Samples: \",LEN,\"----------\\n\")\n",
    "print(\"\\n--------------- First Five Samples ---------------\")\n",
    "for line in ALLdata:\n",
    "    cnt=cnt+1\n",
    "    line=line.replace(\")\",\"\")\n",
    "    line=line.replace(\"(\",\"\")\n",
    "    line=line.replace(\"'\",\"\")\n",
    "    line = line.split(\",\")\n",
    "    if cnt<=5:print(line[0],line[3],line[4])\n",
    "    if cnt==5:print(\"\\n--------------- Last Five Samples ---------------\")    \n",
    "    if cnt>LEN-5:print(line[0],line[3],line[4]) \n",
    "    if cnt==LEN:print(\"\\n--------------- Last Sample ---------------\")\n",
    " \n",
    "    entry = line[0]+\",\"+str(line[3])+\",\"+str(line[4])\n",
    "    entry = str(entry)\n",
    "    entry = entry.replace(\"'\",\"\")\n",
    "    entry = entry.replace(\",\",\"\")\n",
    "    ANALYZE.append(entry)\n",
    "print(entry)"
   ]
  },
  {
   "cell_type": "markdown",
   "metadata": {},
   "source": [
    "# Create a file with (ALLdata) to search for data \"flaws\""
   ]
  },
  {
   "cell_type": "code",
   "execution_count": 504,
   "metadata": {},
   "outputs": [],
   "source": [
    "allin = open(\"ALLdata.data\",\"w\")\n",
    "for line in ALLdata:\n",
    "    #print(line)\n",
    "    allin.write(line+\"\\n\")\n",
    "allin.close()    "
   ]
  },
  {
   "cell_type": "raw",
   "metadata": {},
   "source": [
    "allin = open(\"ALLdata.data\",\"r\").readlines()\n",
    "SEARCH = input(\"SEARCH: \")\n",
    "cnt = 0\n",
    "for line in allin:\n",
    "    cnt=cnt+1\n",
    "    if SEARCH in line:\n",
    "        CNT=cnt\n",
    "        print(cnt,line)\n",
    "print(CNT) \n",
    "cnt=0\n",
    "for line in allin:\n",
    "    cnt=cnt+1\n",
    "    if cnt>CNT-5 and cnt<CNT+5:\n",
    "        line=line.replace(\"\\n\",\"\")\n",
    "        print (line)\n",
    "        "
   ]
  },
  {
   "cell_type": "code",
   "execution_count": 505,
   "metadata": {},
   "outputs": [
    {
     "name": "stdout",
     "output_type": "stream",
     "text": [
      "Number of Samples:  235\n",
      " 589  22, 708  27, 975  30, 1010  31, 1016  31,\n",
      "-----------------------------\n",
      " 266279  6803, 272614  6988, 275802  7087, 276965  7391, 277161  7392,\n",
      "-----------------------------\n",
      "\n",
      "-----------------------------\n",
      "\n",
      "130 Current Deaths:  7392     Cases 10 days ago  142004     Mortality 0.052054871693755105\n",
      "131 Current Deaths:  7391     Cases 10 days ago  141781     Mortality 0.052129692977197224\n",
      "132 Current Deaths:  7087     Cases 10 days ago  139904     Mortality 0.05065616422689845\n",
      "133 Current Deaths:  6988     Cases 10 days ago  137943     Mortality 0.0506586053659845\n",
      "134 Current Deaths:  6803     Cases 10 days ago  133146     Mortality 0.05109428747390083\n",
      "135 Current Deaths:  6603     Cases 10 days ago  125099     Mortality 0.052782196500371706\n",
      "136 Current Deaths:  6099     Cases 10 days ago  123828     Mortality 0.049253803663145655\n",
      "137 Current Deaths:  6098     Cases 10 days ago  123781     Mortality 0.04926442668907183\n",
      "138 Current Deaths:  6095     Cases 10 days ago  123781     Mortality 0.049240190336158216\n",
      "139 Current Deaths:  6095     Cases 10 days ago  123776     Mortality 0.04924217942088935\n",
      "140 Current Deaths:  6095     Cases 10 days ago  123774     Mortality 0.04924297509977863\n",
      "141 Current Deaths:  6095     Cases 10 days ago  123750     Mortality 0.04925252525252525\n",
      "142 Current Deaths:  6075     Cases 10 days ago  123578     Mortality 0.0491592354626228\n",
      "143 Current Deaths:  6075     Cases 10 days ago  123311     Mortality 0.04926567783896003\n",
      "144 Current Deaths:  6070     Cases 10 days ago  120204     Mortality 0.050497487604405845\n",
      "145 Current Deaths:  5883     Cases 10 days ago  118592     Mortality 0.04960705612520237\n",
      "146 Current Deaths:  5883     Cases 10 days ago  116050     Mortality 0.05069366652305041\n",
      "147 Current Deaths:  5665     Cases 10 days ago  105726     Mortality 0.0535819003840115\n",
      "148 Current Deaths:  5356     Cases 10 days ago  104277     Mortality 0.05136319610268803\n",
      "149 Current Deaths:  5227     Cases 10 days ago  104256     Mortality 0.05013620319214242\n",
      "150 Current Deaths:  5140     Cases 10 days ago  104256     Mortality 0.04930171884591774\n",
      "151 Current Deaths:  5112     Cases 10 days ago  104256     Mortality 0.04903314917127072\n",
      "152 Current Deaths:  5112     Cases 10 days ago  104205     Mortality 0.04905714696991507\n",
      "153 Current Deaths:  5112     Cases 10 days ago  104205     Mortality 0.04905714696991507\n",
      "154 Current Deaths:  5110     Cases 10 days ago  104126     Mortality 0.04907515894205098\n",
      "155 Current Deaths:  5110     Cases 10 days ago  102325     Mortality 0.04993892010750061\n",
      "156 Current Deaths:  5102     Cases 10 days ago  100514     Mortality 0.05075909823507173\n",
      "157 Current Deaths:  4759     Cases 10 days ago  98180     Mortality 0.04847219392951721\n",
      "158 Current Deaths:  4713     Cases 10 days ago  94425     Mortality 0.04991262907069102\n",
      "159 Current Deaths:  4528     Cases 10 days ago  86548     Mortality 0.052317788972593246\n",
      "160 Current Deaths:  4394     Cases 10 days ago  85755     Mortality 0.0512389948107982\n",
      "161 Current Deaths:  4099     Cases 10 days ago  85749     Mortality 0.04780230673244003\n",
      "162 Current Deaths:  4059     Cases 10 days ago  85612     Mortality 0.04741157781619399\n",
      "163 Current Deaths:  4059     Cases 10 days ago  85612     Mortality 0.04741157781619399\n",
      "164 Current Deaths:  4056     Cases 10 days ago  85594     Mortality 0.04738649905367199\n",
      "165 Current Deaths:  4055     Cases 10 days ago  85520     Mortality 0.04741580916744621\n",
      "166 Current Deaths:  4054     Cases 10 days ago  85280     Mortality 0.0475375234521576\n",
      "167 Current Deaths:  3889     Cases 10 days ago  83206     Mortality 0.04673941783044492\n",
      "168 Current Deaths:  3867     Cases 10 days ago  81946     Mortality 0.04718961267175945\n",
      "169 Current Deaths:  3807     Cases 10 days ago  79082     Mortality 0.048139905414632915\n",
      "170 Current Deaths:  3573     Cases 10 days ago  75069     Mortality 0.0475962114854334\n",
      "171 Current Deaths:  3424     Cases 10 days ago  68905     Mortality 0.04969160438284595\n",
      "172 Current Deaths:  3182     Cases 10 days ago  68594     Mortality 0.04638889698807476\n",
      "173 Current Deaths:  3175     Cases 10 days ago  68581     Mortality 0.04629562123620245\n",
      "174 Current Deaths:  3173     Cases 10 days ago  68489     Mortality 0.046328607513615325\n",
      "175 Current Deaths:  3173     Cases 10 days ago  68489     Mortality 0.046328607513615325\n",
      "176 Current Deaths:  3170     Cases 10 days ago  68472     Mortality 0.046296296296296294\n",
      "177 Current Deaths:  3167     Cases 10 days ago  66741     Mortality 0.04745209091862573\n",
      "178 Current Deaths:  3165     Cases 10 days ago  65797     Mortality 0.0481024970743347\n",
      "179 Current Deaths:  3148     Cases 10 days ago  65527     Mortality 0.04804126543256978\n",
      "180 Current Deaths:  2974     Cases 10 days ago  64765     Mortality 0.045919864124141126\n",
      "181 Current Deaths:  2951     Cases 10 days ago  62364     Mortality 0.04731896607016869\n",
      "182 Current Deaths:  2870     Cases 10 days ago  60642     Mortality 0.04732693512746941\n",
      "183 Current Deaths:  2616     Cases 10 days ago  55081     Mortality 0.04749369110945698\n",
      "184 Current Deaths:  2600     Cases 10 days ago  54979     Mortality 0.0472907837537969\n",
      "185 Current Deaths:  2490     Cases 10 days ago  54941     Mortality 0.045321344715239985\n",
      "186 Current Deaths:  2489     Cases 10 days ago  54935     Mortality 0.04530809138072267\n",
      "187 Current Deaths:  2489     Cases 10 days ago  54916     Mortality 0.04532376720809964\n",
      "188 Current Deaths:  2488     Cases 10 days ago  54867     Mortality 0.04534601855395775\n",
      "189 Current Deaths:  2488     Cases 10 days ago  54823     Mortality 0.04538241249110775\n",
      "190 Current Deaths:  2484     Cases 10 days ago  53655     Mortality 0.04629577858540677\n",
      "191 Current Deaths:  2471     Cases 10 days ago  53205     Mortality 0.046443003477116815\n",
      "192 Current Deaths:  2449     Cases 10 days ago  52921     Mortality 0.04627652538689745\n",
      "193 Current Deaths:  2431     Cases 10 days ago  50982     Mortality 0.047683496135891096\n",
      "194 Current Deaths:  2363     Cases 10 days ago  49594     Mortality 0.04764689276928661\n",
      "195 Current Deaths:  2238     Cases 10 days ago  46274     Mortality 0.048364092146777886\n",
      "196 Current Deaths:  2229     Cases 10 days ago  46168     Mortality 0.04828019407381736\n",
      "197 Current Deaths:  2229     Cases 10 days ago  46168     Mortality 0.04828019407381736\n",
      "198 Current Deaths:  2229     Cases 10 days ago  46145     Mortality 0.04830425831617727\n",
      "199 Current Deaths:  2229     Cases 10 days ago  46145     Mortality 0.04830425831617727\n",
      "200 Current Deaths:  2228     Cases 10 days ago  46145     Mortality 0.048282587495936724\n",
      "201 Current Deaths:  2227     Cases 10 days ago  43734     Mortality 0.05092147985549001\n",
      "202 Current Deaths:  2221     Cases 10 days ago  43718     Mortality 0.050802872958506794\n",
      "203 Current Deaths:  2211     Cases 10 days ago  43449     Mortality 0.05088724711730995\n",
      "204 Current Deaths:  1997     Cases 10 days ago  42443     Mortality 0.04705133944348892\n",
      "205 Current Deaths:  1979     Cases 10 days ago  41569     Mortality 0.047607592196107676\n",
      "206 Current Deaths:  1937     Cases 10 days ago  40773     Mortality 0.0475069286047139\n",
      "207 Current Deaths:  1730     Cases 10 days ago  35179     Mortality 0.049177065863156996\n",
      "208 Current Deaths:  1704     Cases 10 days ago  35075     Mortality 0.0485816108339273\n",
      "209 Current Deaths:  1704     Cases 10 days ago  35070     Mortality 0.0485885372112917\n",
      "210 Current Deaths:  1704     Cases 10 days ago  35070     Mortality 0.0485885372112917\n",
      "211 Current Deaths:  1704     Cases 10 days ago  35060     Mortality 0.04860239589275528\n",
      "212 Current Deaths:  1704     Cases 10 days ago  34717     Mortality 0.04908258202033586\n",
      "213 Current Deaths:  1704     Cases 10 days ago  33546     Mortality 0.050795922017528174\n",
      "214 Current Deaths:  1692     Cases 10 days ago  33346     Mortality 0.05074071852695976\n",
      "215 Current Deaths:  1591     Cases 10 days ago  32356     Mortality 0.04917171467424898\n",
      "216 Current Deaths:  1546     Cases 10 days ago  32356     Mortality 0.04778093707504018\n",
      "217 Current Deaths:  1513     Cases 10 days ago  38757     Mortality 0.039038109244781585\n",
      "218 Current Deaths:  1429     Cases 10 days ago  30239     Mortality 0.04725685373193558\n",
      "219 Current Deaths:  1321     Cases 10 days ago  27031     Mortality 0.04886981613702786\n",
      "220 Current Deaths:  1304     Cases 10 days ago  26905     Mortality 0.04846682772718826\n",
      "221 Current Deaths:  1304     Cases 10 days ago  26900     Mortality 0.048475836431226764\n",
      "222 Current Deaths:  1301     Cases 10 days ago  26892     Mortality 0.04837869998512569\n",
      "223 Current Deaths:  1301     Cases 10 days ago  26892     Mortality 0.04837869998512569\n",
      "224 Current Deaths:  1300     Cases 10 days ago  26867     Mortality 0.04838649644545353\n",
      "225 Current Deaths:  1297     Cases 10 days ago  26711     Mortality 0.04855677436262214\n",
      "226 Current Deaths:  1293     Cases 10 days ago  26111     Mortality 0.0495193596568496\n",
      "227 Current Deaths:  1201     Cases 10 days ago  23940     Mortality 0.05016708437761069\n",
      "228 Current Deaths:  1177     Cases 10 days ago  24142     Mortality 0.04875321017314224\n",
      "229 Current Deaths:  1143     Cases 10 days ago  22813     Mortality 0.050103011440845134\n",
      "230 Current Deaths:  1080     Cases 10 days ago  22085     Mortality 0.048901969662666966\n",
      "231 Current Deaths:  1037     Cases 10 days ago  19823     Mortality 0.0523129697825758\n",
      "232 Current Deaths:  1036     Cases 10 days ago  19775     Mortality 0.05238938053097345\n",
      "233 Current Deaths:  1036     Cases 10 days ago  19774     Mortality 0.052392029938302824\n"
     ]
    }
   ],
   "source": [
    "import string\n",
    "cnt=0\n",
    "ANALYZE =[]\n",
    "LEN =len(ALLdata)\n",
    "print (\"Number of Samples: \",LEN)\n",
    "for line in ALLdata:\n",
    "    cnt=cnt+1\n",
    "    line=line.replace(\")\",\"\")\n",
    "    line=line.replace(\"'\",\"\")\n",
    "    line = line.split(\",\")\n",
    "    if cnt<=5:print(line[3],line[4],end=\",\")\n",
    "    if cnt==5:print(\"\\n-----------------------------\")    \n",
    "    if cnt>LEN-5:print(line[3],line[4],end=\",\") \n",
    "    if cnt==LEN:print(\"\\n-----------------------------\")    \n",
    "    ANALYZE.append(str(line[3])+\",\"+str(line[4]))\n",
    "\n",
    "\n",
    "days=10\n",
    "hours=5*12 # Samples are two hour intervals\n",
    "x=0\n",
    "MORT = []\n",
    "num = len(ANALYZE)-1\n",
    "for x in range(130,num):\n",
    "    AN = (ANALYZE[129-x].split(\",\"))\n",
    "    AP = (ANALYZE[129-hours-x].split(\",\"))\n",
    "    if x==130:print(\"\\n-----------------------------\\n\")\n",
    "    print (x,\"Current Deaths:\",AN[1],\"    Cases\",days,\"days ago\",AP[0],\"    Mortality\",int(AN[1])/int(AP[0]))\n",
    "    MORT.append(int(AN[1])/int(AP[0]))"
   ]
  },
  {
   "cell_type": "code",
   "execution_count": 506,
   "metadata": {},
   "outputs": [
    {
     "data": {
      "text/html": [
       "        <script type=\"text/javascript\">\n",
       "        window.PlotlyConfig = {MathJaxConfig: 'local'};\n",
       "        if (window.MathJax) {MathJax.Hub.Config({SVG: {font: \"STIX-Web\"}});}\n",
       "        if (typeof require !== 'undefined') {\n",
       "        require.undef(\"plotly\");\n",
       "        requirejs.config({\n",
       "            paths: {\n",
       "                'plotly': ['https://cdn.plot.ly/plotly-latest.min']\n",
       "            }\n",
       "        });\n",
       "        require(['plotly'], function(Plotly) {\n",
       "            window._Plotly = Plotly;\n",
       "        });\n",
       "        }\n",
       "        </script>\n",
       "        "
      ]
     },
     "metadata": {},
     "output_type": "display_data"
    },
    {
     "data": {
      "application/vnd.plotly.v1+json": {
       "config": {
        "plotlyServerURL": "https://plot.ly"
       },
       "data": [
        {
         "type": "bar",
         "y": [
          0.052054871693755105,
          0.052129692977197224,
          0.05065616422689845,
          0.0506586053659845,
          0.05109428747390083,
          0.052782196500371706,
          0.049253803663145655,
          0.04926442668907183,
          0.049240190336158216,
          0.04924217942088935,
          0.04924297509977863,
          0.04925252525252525,
          0.0491592354626228,
          0.04926567783896003,
          0.050497487604405845,
          0.04960705612520237,
          0.05069366652305041,
          0.0535819003840115,
          0.05136319610268803,
          0.05013620319214242,
          0.04930171884591774,
          0.04903314917127072,
          0.04905714696991507,
          0.04905714696991507,
          0.04907515894205098,
          0.04993892010750061,
          0.05075909823507173,
          0.04847219392951721,
          0.04991262907069102,
          0.052317788972593246,
          0.0512389948107982,
          0.04780230673244003,
          0.04741157781619399,
          0.04741157781619399,
          0.04738649905367199,
          0.04741580916744621,
          0.0475375234521576,
          0.04673941783044492,
          0.04718961267175945,
          0.048139905414632915,
          0.0475962114854334,
          0.04969160438284595,
          0.04638889698807476,
          0.04629562123620245,
          0.046328607513615325,
          0.046328607513615325,
          0.046296296296296294,
          0.04745209091862573,
          0.0481024970743347,
          0.04804126543256978,
          0.045919864124141126,
          0.04731896607016869,
          0.04732693512746941,
          0.04749369110945698,
          0.0472907837537969,
          0.045321344715239985,
          0.04530809138072267,
          0.04532376720809964,
          0.04534601855395775,
          0.04538241249110775,
          0.04629577858540677,
          0.046443003477116815,
          0.04627652538689745,
          0.047683496135891096,
          0.04764689276928661,
          0.048364092146777886,
          0.04828019407381736,
          0.04828019407381736,
          0.04830425831617727,
          0.04830425831617727,
          0.048282587495936724,
          0.05092147985549001,
          0.050802872958506794,
          0.05088724711730995,
          0.04705133944348892,
          0.047607592196107676,
          0.0475069286047139,
          0.049177065863156996,
          0.0485816108339273,
          0.0485885372112917,
          0.0485885372112917,
          0.04860239589275528,
          0.04908258202033586,
          0.050795922017528174,
          0.05074071852695976,
          0.04917171467424898,
          0.04778093707504018,
          0.039038109244781585,
          0.04725685373193558,
          0.04886981613702786,
          0.04846682772718826,
          0.048475836431226764,
          0.04837869998512569,
          0.04837869998512569,
          0.04838649644545353,
          0.04855677436262214,
          0.0495193596568496,
          0.05016708437761069,
          0.04875321017314224,
          0.050103011440845134,
          0.048901969662666966,
          0.0523129697825758,
          0.05238938053097345,
          0.052392029938302824
         ]
        }
       ],
       "layout": {
        "template": {
         "data": {
          "bar": [
           {
            "error_x": {
             "color": "#2a3f5f"
            },
            "error_y": {
             "color": "#2a3f5f"
            },
            "marker": {
             "line": {
              "color": "#E5ECF6",
              "width": 0.5
             }
            },
            "type": "bar"
           }
          ],
          "barpolar": [
           {
            "marker": {
             "line": {
              "color": "#E5ECF6",
              "width": 0.5
             }
            },
            "type": "barpolar"
           }
          ],
          "carpet": [
           {
            "aaxis": {
             "endlinecolor": "#2a3f5f",
             "gridcolor": "white",
             "linecolor": "white",
             "minorgridcolor": "white",
             "startlinecolor": "#2a3f5f"
            },
            "baxis": {
             "endlinecolor": "#2a3f5f",
             "gridcolor": "white",
             "linecolor": "white",
             "minorgridcolor": "white",
             "startlinecolor": "#2a3f5f"
            },
            "type": "carpet"
           }
          ],
          "choropleth": [
           {
            "colorbar": {
             "outlinewidth": 0,
             "ticks": ""
            },
            "type": "choropleth"
           }
          ],
          "contour": [
           {
            "colorbar": {
             "outlinewidth": 0,
             "ticks": ""
            },
            "colorscale": [
             [
              0,
              "#0d0887"
             ],
             [
              0.1111111111111111,
              "#46039f"
             ],
             [
              0.2222222222222222,
              "#7201a8"
             ],
             [
              0.3333333333333333,
              "#9c179e"
             ],
             [
              0.4444444444444444,
              "#bd3786"
             ],
             [
              0.5555555555555556,
              "#d8576b"
             ],
             [
              0.6666666666666666,
              "#ed7953"
             ],
             [
              0.7777777777777778,
              "#fb9f3a"
             ],
             [
              0.8888888888888888,
              "#fdca26"
             ],
             [
              1,
              "#f0f921"
             ]
            ],
            "type": "contour"
           }
          ],
          "contourcarpet": [
           {
            "colorbar": {
             "outlinewidth": 0,
             "ticks": ""
            },
            "type": "contourcarpet"
           }
          ],
          "heatmap": [
           {
            "colorbar": {
             "outlinewidth": 0,
             "ticks": ""
            },
            "colorscale": [
             [
              0,
              "#0d0887"
             ],
             [
              0.1111111111111111,
              "#46039f"
             ],
             [
              0.2222222222222222,
              "#7201a8"
             ],
             [
              0.3333333333333333,
              "#9c179e"
             ],
             [
              0.4444444444444444,
              "#bd3786"
             ],
             [
              0.5555555555555556,
              "#d8576b"
             ],
             [
              0.6666666666666666,
              "#ed7953"
             ],
             [
              0.7777777777777778,
              "#fb9f3a"
             ],
             [
              0.8888888888888888,
              "#fdca26"
             ],
             [
              1,
              "#f0f921"
             ]
            ],
            "type": "heatmap"
           }
          ],
          "heatmapgl": [
           {
            "colorbar": {
             "outlinewidth": 0,
             "ticks": ""
            },
            "colorscale": [
             [
              0,
              "#0d0887"
             ],
             [
              0.1111111111111111,
              "#46039f"
             ],
             [
              0.2222222222222222,
              "#7201a8"
             ],
             [
              0.3333333333333333,
              "#9c179e"
             ],
             [
              0.4444444444444444,
              "#bd3786"
             ],
             [
              0.5555555555555556,
              "#d8576b"
             ],
             [
              0.6666666666666666,
              "#ed7953"
             ],
             [
              0.7777777777777778,
              "#fb9f3a"
             ],
             [
              0.8888888888888888,
              "#fdca26"
             ],
             [
              1,
              "#f0f921"
             ]
            ],
            "type": "heatmapgl"
           }
          ],
          "histogram": [
           {
            "marker": {
             "colorbar": {
              "outlinewidth": 0,
              "ticks": ""
             }
            },
            "type": "histogram"
           }
          ],
          "histogram2d": [
           {
            "colorbar": {
             "outlinewidth": 0,
             "ticks": ""
            },
            "colorscale": [
             [
              0,
              "#0d0887"
             ],
             [
              0.1111111111111111,
              "#46039f"
             ],
             [
              0.2222222222222222,
              "#7201a8"
             ],
             [
              0.3333333333333333,
              "#9c179e"
             ],
             [
              0.4444444444444444,
              "#bd3786"
             ],
             [
              0.5555555555555556,
              "#d8576b"
             ],
             [
              0.6666666666666666,
              "#ed7953"
             ],
             [
              0.7777777777777778,
              "#fb9f3a"
             ],
             [
              0.8888888888888888,
              "#fdca26"
             ],
             [
              1,
              "#f0f921"
             ]
            ],
            "type": "histogram2d"
           }
          ],
          "histogram2dcontour": [
           {
            "colorbar": {
             "outlinewidth": 0,
             "ticks": ""
            },
            "colorscale": [
             [
              0,
              "#0d0887"
             ],
             [
              0.1111111111111111,
              "#46039f"
             ],
             [
              0.2222222222222222,
              "#7201a8"
             ],
             [
              0.3333333333333333,
              "#9c179e"
             ],
             [
              0.4444444444444444,
              "#bd3786"
             ],
             [
              0.5555555555555556,
              "#d8576b"
             ],
             [
              0.6666666666666666,
              "#ed7953"
             ],
             [
              0.7777777777777778,
              "#fb9f3a"
             ],
             [
              0.8888888888888888,
              "#fdca26"
             ],
             [
              1,
              "#f0f921"
             ]
            ],
            "type": "histogram2dcontour"
           }
          ],
          "mesh3d": [
           {
            "colorbar": {
             "outlinewidth": 0,
             "ticks": ""
            },
            "type": "mesh3d"
           }
          ],
          "parcoords": [
           {
            "line": {
             "colorbar": {
              "outlinewidth": 0,
              "ticks": ""
             }
            },
            "type": "parcoords"
           }
          ],
          "pie": [
           {
            "automargin": true,
            "type": "pie"
           }
          ],
          "scatter": [
           {
            "marker": {
             "colorbar": {
              "outlinewidth": 0,
              "ticks": ""
             }
            },
            "type": "scatter"
           }
          ],
          "scatter3d": [
           {
            "line": {
             "colorbar": {
              "outlinewidth": 0,
              "ticks": ""
             }
            },
            "marker": {
             "colorbar": {
              "outlinewidth": 0,
              "ticks": ""
             }
            },
            "type": "scatter3d"
           }
          ],
          "scattercarpet": [
           {
            "marker": {
             "colorbar": {
              "outlinewidth": 0,
              "ticks": ""
             }
            },
            "type": "scattercarpet"
           }
          ],
          "scattergeo": [
           {
            "marker": {
             "colorbar": {
              "outlinewidth": 0,
              "ticks": ""
             }
            },
            "type": "scattergeo"
           }
          ],
          "scattergl": [
           {
            "marker": {
             "colorbar": {
              "outlinewidth": 0,
              "ticks": ""
             }
            },
            "type": "scattergl"
           }
          ],
          "scattermapbox": [
           {
            "marker": {
             "colorbar": {
              "outlinewidth": 0,
              "ticks": ""
             }
            },
            "type": "scattermapbox"
           }
          ],
          "scatterpolar": [
           {
            "marker": {
             "colorbar": {
              "outlinewidth": 0,
              "ticks": ""
             }
            },
            "type": "scatterpolar"
           }
          ],
          "scatterpolargl": [
           {
            "marker": {
             "colorbar": {
              "outlinewidth": 0,
              "ticks": ""
             }
            },
            "type": "scatterpolargl"
           }
          ],
          "scatterternary": [
           {
            "marker": {
             "colorbar": {
              "outlinewidth": 0,
              "ticks": ""
             }
            },
            "type": "scatterternary"
           }
          ],
          "surface": [
           {
            "colorbar": {
             "outlinewidth": 0,
             "ticks": ""
            },
            "colorscale": [
             [
              0,
              "#0d0887"
             ],
             [
              0.1111111111111111,
              "#46039f"
             ],
             [
              0.2222222222222222,
              "#7201a8"
             ],
             [
              0.3333333333333333,
              "#9c179e"
             ],
             [
              0.4444444444444444,
              "#bd3786"
             ],
             [
              0.5555555555555556,
              "#d8576b"
             ],
             [
              0.6666666666666666,
              "#ed7953"
             ],
             [
              0.7777777777777778,
              "#fb9f3a"
             ],
             [
              0.8888888888888888,
              "#fdca26"
             ],
             [
              1,
              "#f0f921"
             ]
            ],
            "type": "surface"
           }
          ],
          "table": [
           {
            "cells": {
             "fill": {
              "color": "#EBF0F8"
             },
             "line": {
              "color": "white"
             }
            },
            "header": {
             "fill": {
              "color": "#C8D4E3"
             },
             "line": {
              "color": "white"
             }
            },
            "type": "table"
           }
          ]
         },
         "layout": {
          "annotationdefaults": {
           "arrowcolor": "#2a3f5f",
           "arrowhead": 0,
           "arrowwidth": 1
          },
          "coloraxis": {
           "colorbar": {
            "outlinewidth": 0,
            "ticks": ""
           }
          },
          "colorscale": {
           "diverging": [
            [
             0,
             "#8e0152"
            ],
            [
             0.1,
             "#c51b7d"
            ],
            [
             0.2,
             "#de77ae"
            ],
            [
             0.3,
             "#f1b6da"
            ],
            [
             0.4,
             "#fde0ef"
            ],
            [
             0.5,
             "#f7f7f7"
            ],
            [
             0.6,
             "#e6f5d0"
            ],
            [
             0.7,
             "#b8e186"
            ],
            [
             0.8,
             "#7fbc41"
            ],
            [
             0.9,
             "#4d9221"
            ],
            [
             1,
             "#276419"
            ]
           ],
           "sequential": [
            [
             0,
             "#0d0887"
            ],
            [
             0.1111111111111111,
             "#46039f"
            ],
            [
             0.2222222222222222,
             "#7201a8"
            ],
            [
             0.3333333333333333,
             "#9c179e"
            ],
            [
             0.4444444444444444,
             "#bd3786"
            ],
            [
             0.5555555555555556,
             "#d8576b"
            ],
            [
             0.6666666666666666,
             "#ed7953"
            ],
            [
             0.7777777777777778,
             "#fb9f3a"
            ],
            [
             0.8888888888888888,
             "#fdca26"
            ],
            [
             1,
             "#f0f921"
            ]
           ],
           "sequentialminus": [
            [
             0,
             "#0d0887"
            ],
            [
             0.1111111111111111,
             "#46039f"
            ],
            [
             0.2222222222222222,
             "#7201a8"
            ],
            [
             0.3333333333333333,
             "#9c179e"
            ],
            [
             0.4444444444444444,
             "#bd3786"
            ],
            [
             0.5555555555555556,
             "#d8576b"
            ],
            [
             0.6666666666666666,
             "#ed7953"
            ],
            [
             0.7777777777777778,
             "#fb9f3a"
            ],
            [
             0.8888888888888888,
             "#fdca26"
            ],
            [
             1,
             "#f0f921"
            ]
           ]
          },
          "colorway": [
           "#636efa",
           "#EF553B",
           "#00cc96",
           "#ab63fa",
           "#FFA15A",
           "#19d3f3",
           "#FF6692",
           "#B6E880",
           "#FF97FF",
           "#FECB52"
          ],
          "font": {
           "color": "#2a3f5f"
          },
          "geo": {
           "bgcolor": "white",
           "lakecolor": "white",
           "landcolor": "#E5ECF6",
           "showlakes": true,
           "showland": true,
           "subunitcolor": "white"
          },
          "hoverlabel": {
           "align": "left"
          },
          "hovermode": "closest",
          "mapbox": {
           "style": "light"
          },
          "paper_bgcolor": "white",
          "plot_bgcolor": "#E5ECF6",
          "polar": {
           "angularaxis": {
            "gridcolor": "white",
            "linecolor": "white",
            "ticks": ""
           },
           "bgcolor": "#E5ECF6",
           "radialaxis": {
            "gridcolor": "white",
            "linecolor": "white",
            "ticks": ""
           }
          },
          "scene": {
           "xaxis": {
            "backgroundcolor": "#E5ECF6",
            "gridcolor": "white",
            "gridwidth": 2,
            "linecolor": "white",
            "showbackground": true,
            "ticks": "",
            "zerolinecolor": "white"
           },
           "yaxis": {
            "backgroundcolor": "#E5ECF6",
            "gridcolor": "white",
            "gridwidth": 2,
            "linecolor": "white",
            "showbackground": true,
            "ticks": "",
            "zerolinecolor": "white"
           },
           "zaxis": {
            "backgroundcolor": "#E5ECF6",
            "gridcolor": "white",
            "gridwidth": 2,
            "linecolor": "white",
            "showbackground": true,
            "ticks": "",
            "zerolinecolor": "white"
           }
          },
          "shapedefaults": {
           "line": {
            "color": "#2a3f5f"
           }
          },
          "ternary": {
           "aaxis": {
            "gridcolor": "white",
            "linecolor": "white",
            "ticks": ""
           },
           "baxis": {
            "gridcolor": "white",
            "linecolor": "white",
            "ticks": ""
           },
           "bgcolor": "#E5ECF6",
           "caxis": {
            "gridcolor": "white",
            "linecolor": "white",
            "ticks": ""
           }
          },
          "title": {
           "x": 0.05
          },
          "xaxis": {
           "automargin": true,
           "gridcolor": "white",
           "linecolor": "white",
           "ticks": "",
           "title": {
            "standoff": 15
           },
           "zerolinecolor": "white",
           "zerolinewidth": 2
          },
          "yaxis": {
           "automargin": true,
           "gridcolor": "white",
           "linecolor": "white",
           "ticks": "",
           "title": {
            "standoff": 15
           },
           "zerolinecolor": "white",
           "zerolinewidth": 2
          }
         }
        },
        "title": {
         "text": "Mortality based on 10 days span between detection and death"
        }
       }
      },
      "text/html": [
       "<div>\n",
       "        \n",
       "        \n",
       "            <div id=\"fbc864d9-f4c1-43f6-a0a9-04a464020d57\" class=\"plotly-graph-div\" style=\"height:525px; width:100%;\"></div>\n",
       "            <script type=\"text/javascript\">\n",
       "                require([\"plotly\"], function(Plotly) {\n",
       "                    window.PLOTLYENV=window.PLOTLYENV || {};\n",
       "                    \n",
       "                if (document.getElementById(\"fbc864d9-f4c1-43f6-a0a9-04a464020d57\")) {\n",
       "                    Plotly.newPlot(\n",
       "                        'fbc864d9-f4c1-43f6-a0a9-04a464020d57',\n",
       "                        [{\"type\": \"bar\", \"y\": [0.052054871693755105, 0.052129692977197224, 0.05065616422689845, 0.0506586053659845, 0.05109428747390083, 0.052782196500371706, 0.049253803663145655, 0.04926442668907183, 0.049240190336158216, 0.04924217942088935, 0.04924297509977863, 0.04925252525252525, 0.0491592354626228, 0.04926567783896003, 0.050497487604405845, 0.04960705612520237, 0.05069366652305041, 0.0535819003840115, 0.05136319610268803, 0.05013620319214242, 0.04930171884591774, 0.04903314917127072, 0.04905714696991507, 0.04905714696991507, 0.04907515894205098, 0.04993892010750061, 0.05075909823507173, 0.04847219392951721, 0.04991262907069102, 0.052317788972593246, 0.0512389948107982, 0.04780230673244003, 0.04741157781619399, 0.04741157781619399, 0.04738649905367199, 0.04741580916744621, 0.0475375234521576, 0.04673941783044492, 0.04718961267175945, 0.048139905414632915, 0.0475962114854334, 0.04969160438284595, 0.04638889698807476, 0.04629562123620245, 0.046328607513615325, 0.046328607513615325, 0.046296296296296294, 0.04745209091862573, 0.0481024970743347, 0.04804126543256978, 0.045919864124141126, 0.04731896607016869, 0.04732693512746941, 0.04749369110945698, 0.0472907837537969, 0.045321344715239985, 0.04530809138072267, 0.04532376720809964, 0.04534601855395775, 0.04538241249110775, 0.04629577858540677, 0.046443003477116815, 0.04627652538689745, 0.047683496135891096, 0.04764689276928661, 0.048364092146777886, 0.04828019407381736, 0.04828019407381736, 0.04830425831617727, 0.04830425831617727, 0.048282587495936724, 0.05092147985549001, 0.050802872958506794, 0.05088724711730995, 0.04705133944348892, 0.047607592196107676, 0.0475069286047139, 0.049177065863156996, 0.0485816108339273, 0.0485885372112917, 0.0485885372112917, 0.04860239589275528, 0.04908258202033586, 0.050795922017528174, 0.05074071852695976, 0.04917171467424898, 0.04778093707504018, 0.039038109244781585, 0.04725685373193558, 0.04886981613702786, 0.04846682772718826, 0.048475836431226764, 0.04837869998512569, 0.04837869998512569, 0.04838649644545353, 0.04855677436262214, 0.0495193596568496, 0.05016708437761069, 0.04875321017314224, 0.050103011440845134, 0.048901969662666966, 0.0523129697825758, 0.05238938053097345, 0.052392029938302824]}],\n",
       "                        {\"template\": {\"data\": {\"bar\": [{\"error_x\": {\"color\": \"#2a3f5f\"}, \"error_y\": {\"color\": \"#2a3f5f\"}, \"marker\": {\"line\": {\"color\": \"#E5ECF6\", \"width\": 0.5}}, \"type\": \"bar\"}], \"barpolar\": [{\"marker\": {\"line\": {\"color\": \"#E5ECF6\", \"width\": 0.5}}, \"type\": \"barpolar\"}], \"carpet\": [{\"aaxis\": {\"endlinecolor\": \"#2a3f5f\", \"gridcolor\": \"white\", \"linecolor\": \"white\", \"minorgridcolor\": \"white\", \"startlinecolor\": \"#2a3f5f\"}, \"baxis\": {\"endlinecolor\": \"#2a3f5f\", \"gridcolor\": \"white\", \"linecolor\": \"white\", \"minorgridcolor\": \"white\", \"startlinecolor\": \"#2a3f5f\"}, \"type\": \"carpet\"}], \"choropleth\": [{\"colorbar\": {\"outlinewidth\": 0, \"ticks\": \"\"}, \"type\": \"choropleth\"}], \"contour\": [{\"colorbar\": {\"outlinewidth\": 0, \"ticks\": \"\"}, \"colorscale\": [[0.0, \"#0d0887\"], [0.1111111111111111, \"#46039f\"], [0.2222222222222222, \"#7201a8\"], [0.3333333333333333, \"#9c179e\"], [0.4444444444444444, \"#bd3786\"], [0.5555555555555556, \"#d8576b\"], [0.6666666666666666, \"#ed7953\"], [0.7777777777777778, \"#fb9f3a\"], [0.8888888888888888, \"#fdca26\"], [1.0, \"#f0f921\"]], \"type\": \"contour\"}], \"contourcarpet\": [{\"colorbar\": {\"outlinewidth\": 0, \"ticks\": \"\"}, \"type\": \"contourcarpet\"}], \"heatmap\": [{\"colorbar\": {\"outlinewidth\": 0, \"ticks\": \"\"}, \"colorscale\": [[0.0, \"#0d0887\"], [0.1111111111111111, \"#46039f\"], [0.2222222222222222, \"#7201a8\"], [0.3333333333333333, \"#9c179e\"], [0.4444444444444444, \"#bd3786\"], [0.5555555555555556, \"#d8576b\"], [0.6666666666666666, \"#ed7953\"], [0.7777777777777778, \"#fb9f3a\"], [0.8888888888888888, \"#fdca26\"], [1.0, \"#f0f921\"]], \"type\": \"heatmap\"}], \"heatmapgl\": [{\"colorbar\": {\"outlinewidth\": 0, \"ticks\": \"\"}, \"colorscale\": [[0.0, \"#0d0887\"], [0.1111111111111111, \"#46039f\"], [0.2222222222222222, \"#7201a8\"], [0.3333333333333333, \"#9c179e\"], [0.4444444444444444, \"#bd3786\"], [0.5555555555555556, \"#d8576b\"], [0.6666666666666666, \"#ed7953\"], [0.7777777777777778, \"#fb9f3a\"], [0.8888888888888888, \"#fdca26\"], [1.0, \"#f0f921\"]], \"type\": \"heatmapgl\"}], \"histogram\": [{\"marker\": {\"colorbar\": {\"outlinewidth\": 0, \"ticks\": \"\"}}, \"type\": \"histogram\"}], \"histogram2d\": [{\"colorbar\": {\"outlinewidth\": 0, \"ticks\": \"\"}, \"colorscale\": [[0.0, \"#0d0887\"], [0.1111111111111111, \"#46039f\"], [0.2222222222222222, \"#7201a8\"], [0.3333333333333333, \"#9c179e\"], [0.4444444444444444, \"#bd3786\"], [0.5555555555555556, \"#d8576b\"], [0.6666666666666666, \"#ed7953\"], [0.7777777777777778, \"#fb9f3a\"], [0.8888888888888888, \"#fdca26\"], [1.0, \"#f0f921\"]], \"type\": \"histogram2d\"}], \"histogram2dcontour\": [{\"colorbar\": {\"outlinewidth\": 0, \"ticks\": \"\"}, \"colorscale\": [[0.0, \"#0d0887\"], [0.1111111111111111, \"#46039f\"], [0.2222222222222222, \"#7201a8\"], [0.3333333333333333, \"#9c179e\"], [0.4444444444444444, \"#bd3786\"], [0.5555555555555556, \"#d8576b\"], [0.6666666666666666, \"#ed7953\"], [0.7777777777777778, \"#fb9f3a\"], [0.8888888888888888, \"#fdca26\"], [1.0, \"#f0f921\"]], \"type\": \"histogram2dcontour\"}], \"mesh3d\": [{\"colorbar\": {\"outlinewidth\": 0, \"ticks\": \"\"}, \"type\": \"mesh3d\"}], \"parcoords\": [{\"line\": {\"colorbar\": {\"outlinewidth\": 0, \"ticks\": \"\"}}, \"type\": \"parcoords\"}], \"pie\": [{\"automargin\": true, \"type\": \"pie\"}], \"scatter\": [{\"marker\": {\"colorbar\": {\"outlinewidth\": 0, \"ticks\": \"\"}}, \"type\": \"scatter\"}], \"scatter3d\": [{\"line\": {\"colorbar\": {\"outlinewidth\": 0, \"ticks\": \"\"}}, \"marker\": {\"colorbar\": {\"outlinewidth\": 0, \"ticks\": \"\"}}, \"type\": \"scatter3d\"}], \"scattercarpet\": [{\"marker\": {\"colorbar\": {\"outlinewidth\": 0, \"ticks\": \"\"}}, \"type\": \"scattercarpet\"}], \"scattergeo\": [{\"marker\": {\"colorbar\": {\"outlinewidth\": 0, \"ticks\": \"\"}}, \"type\": \"scattergeo\"}], \"scattergl\": [{\"marker\": {\"colorbar\": {\"outlinewidth\": 0, \"ticks\": \"\"}}, \"type\": \"scattergl\"}], \"scattermapbox\": [{\"marker\": {\"colorbar\": {\"outlinewidth\": 0, \"ticks\": \"\"}}, \"type\": \"scattermapbox\"}], \"scatterpolar\": [{\"marker\": {\"colorbar\": {\"outlinewidth\": 0, \"ticks\": \"\"}}, \"type\": \"scatterpolar\"}], \"scatterpolargl\": [{\"marker\": {\"colorbar\": {\"outlinewidth\": 0, \"ticks\": \"\"}}, \"type\": \"scatterpolargl\"}], \"scatterternary\": [{\"marker\": {\"colorbar\": {\"outlinewidth\": 0, \"ticks\": \"\"}}, \"type\": \"scatterternary\"}], \"surface\": [{\"colorbar\": {\"outlinewidth\": 0, \"ticks\": \"\"}, \"colorscale\": [[0.0, \"#0d0887\"], [0.1111111111111111, \"#46039f\"], [0.2222222222222222, \"#7201a8\"], [0.3333333333333333, \"#9c179e\"], [0.4444444444444444, \"#bd3786\"], [0.5555555555555556, \"#d8576b\"], [0.6666666666666666, \"#ed7953\"], [0.7777777777777778, \"#fb9f3a\"], [0.8888888888888888, \"#fdca26\"], [1.0, \"#f0f921\"]], \"type\": \"surface\"}], \"table\": [{\"cells\": {\"fill\": {\"color\": \"#EBF0F8\"}, \"line\": {\"color\": \"white\"}}, \"header\": {\"fill\": {\"color\": \"#C8D4E3\"}, \"line\": {\"color\": \"white\"}}, \"type\": \"table\"}]}, \"layout\": {\"annotationdefaults\": {\"arrowcolor\": \"#2a3f5f\", \"arrowhead\": 0, \"arrowwidth\": 1}, \"coloraxis\": {\"colorbar\": {\"outlinewidth\": 0, \"ticks\": \"\"}}, \"colorscale\": {\"diverging\": [[0, \"#8e0152\"], [0.1, \"#c51b7d\"], [0.2, \"#de77ae\"], [0.3, \"#f1b6da\"], [0.4, \"#fde0ef\"], [0.5, \"#f7f7f7\"], [0.6, \"#e6f5d0\"], [0.7, \"#b8e186\"], [0.8, \"#7fbc41\"], [0.9, \"#4d9221\"], [1, \"#276419\"]], \"sequential\": [[0.0, \"#0d0887\"], [0.1111111111111111, \"#46039f\"], [0.2222222222222222, \"#7201a8\"], [0.3333333333333333, \"#9c179e\"], [0.4444444444444444, \"#bd3786\"], [0.5555555555555556, \"#d8576b\"], [0.6666666666666666, \"#ed7953\"], [0.7777777777777778, \"#fb9f3a\"], [0.8888888888888888, \"#fdca26\"], [1.0, \"#f0f921\"]], \"sequentialminus\": [[0.0, \"#0d0887\"], [0.1111111111111111, \"#46039f\"], [0.2222222222222222, \"#7201a8\"], [0.3333333333333333, \"#9c179e\"], [0.4444444444444444, \"#bd3786\"], [0.5555555555555556, \"#d8576b\"], [0.6666666666666666, \"#ed7953\"], [0.7777777777777778, \"#fb9f3a\"], [0.8888888888888888, \"#fdca26\"], [1.0, \"#f0f921\"]]}, \"colorway\": [\"#636efa\", \"#EF553B\", \"#00cc96\", \"#ab63fa\", \"#FFA15A\", \"#19d3f3\", \"#FF6692\", \"#B6E880\", \"#FF97FF\", \"#FECB52\"], \"font\": {\"color\": \"#2a3f5f\"}, \"geo\": {\"bgcolor\": \"white\", \"lakecolor\": \"white\", \"landcolor\": \"#E5ECF6\", \"showlakes\": true, \"showland\": true, \"subunitcolor\": \"white\"}, \"hoverlabel\": {\"align\": \"left\"}, \"hovermode\": \"closest\", \"mapbox\": {\"style\": \"light\"}, \"paper_bgcolor\": \"white\", \"plot_bgcolor\": \"#E5ECF6\", \"polar\": {\"angularaxis\": {\"gridcolor\": \"white\", \"linecolor\": \"white\", \"ticks\": \"\"}, \"bgcolor\": \"#E5ECF6\", \"radialaxis\": {\"gridcolor\": \"white\", \"linecolor\": \"white\", \"ticks\": \"\"}}, \"scene\": {\"xaxis\": {\"backgroundcolor\": \"#E5ECF6\", \"gridcolor\": \"white\", \"gridwidth\": 2, \"linecolor\": \"white\", \"showbackground\": true, \"ticks\": \"\", \"zerolinecolor\": \"white\"}, \"yaxis\": {\"backgroundcolor\": \"#E5ECF6\", \"gridcolor\": \"white\", \"gridwidth\": 2, \"linecolor\": \"white\", \"showbackground\": true, \"ticks\": \"\", \"zerolinecolor\": \"white\"}, \"zaxis\": {\"backgroundcolor\": \"#E5ECF6\", \"gridcolor\": \"white\", \"gridwidth\": 2, \"linecolor\": \"white\", \"showbackground\": true, \"ticks\": \"\", \"zerolinecolor\": \"white\"}}, \"shapedefaults\": {\"line\": {\"color\": \"#2a3f5f\"}}, \"ternary\": {\"aaxis\": {\"gridcolor\": \"white\", \"linecolor\": \"white\", \"ticks\": \"\"}, \"baxis\": {\"gridcolor\": \"white\", \"linecolor\": \"white\", \"ticks\": \"\"}, \"bgcolor\": \"#E5ECF6\", \"caxis\": {\"gridcolor\": \"white\", \"linecolor\": \"white\", \"ticks\": \"\"}}, \"title\": {\"x\": 0.05}, \"xaxis\": {\"automargin\": true, \"gridcolor\": \"white\", \"linecolor\": \"white\", \"ticks\": \"\", \"title\": {\"standoff\": 15}, \"zerolinecolor\": \"white\", \"zerolinewidth\": 2}, \"yaxis\": {\"automargin\": true, \"gridcolor\": \"white\", \"linecolor\": \"white\", \"ticks\": \"\", \"title\": {\"standoff\": 15}, \"zerolinecolor\": \"white\", \"zerolinewidth\": 2}}}, \"title\": {\"text\": \"Mortality based on 10 days span between detection and death\"}},\n",
       "                        {\"responsive\": true}\n",
       "                    ).then(function(){\n",
       "                            \n",
       "var gd = document.getElementById('fbc864d9-f4c1-43f6-a0a9-04a464020d57');\n",
       "var x = new MutationObserver(function (mutations, observer) {{\n",
       "        var display = window.getComputedStyle(gd).display;\n",
       "        if (!display || display === 'none') {{\n",
       "            console.log([gd, 'removed!']);\n",
       "            Plotly.purge(gd);\n",
       "            observer.disconnect();\n",
       "        }}\n",
       "}});\n",
       "\n",
       "// Listen for the removal of the full notebook cells\n",
       "var notebookContainer = gd.closest('#notebook-container');\n",
       "if (notebookContainer) {{\n",
       "    x.observe(notebookContainer, {childList: true});\n",
       "}}\n",
       "\n",
       "// Listen for the clearing of the current output cell\n",
       "var outputEl = gd.closest('.output');\n",
       "if (outputEl) {{\n",
       "    x.observe(outputEl, {childList: true});\n",
       "}}\n",
       "\n",
       "                        })\n",
       "                };\n",
       "                });\n",
       "            </script>\n",
       "        </div>"
      ]
     },
     "metadata": {},
     "output_type": "display_data"
    }
   ],
   "source": [
    "import plotly.graph_objects as go\n",
    "from plotly.offline import plot, iplot\n",
    "import plotly.graph_objs as go\n",
    "import plotly.offline\n",
    "plotly.offline.init_notebook_mode(connected=True)\n",
    "dayz=str(days)\n",
    "fig = go.Figure(\n",
    "    data=[go.Bar(y=MORT)],\n",
    "    layout_title_text=\"Mortality based on \"+dayz+\" days span between detection and death\"\n",
    ")\n",
    "fig.show()"
   ]
  },
  {
   "cell_type": "code",
   "execution_count": 507,
   "metadata": {},
   "outputs": [
    {
     "data": {
      "text/plain": [
       "Text(0, 0.5, 'Number of Cases')"
      ]
     },
     "execution_count": 507,
     "metadata": {},
     "output_type": "execute_result"
    },
    {
     "data": {
      "image/png": "[encoded data removed]",
      "text/plain": [
       "<Figure size 800x640 with 1 Axes>"
      ]
     },
     "metadata": {},
     "output_type": "display_data"
    }
   ],
   "source": [
    "figure(num=None, figsize=(10,8), dpi=80, facecolor='salmon')\n",
    "#fig, ax = plt.subplots(dpi=150)\n",
    "\n",
    "\n",
    "#plt.subplot(2, 1, 1)\n",
    "s=range(0,len(MORT))\n",
    "plt.plot(s, MORT, 'red')\n",
    "plt.title('Mortality Using Timestamps')\n",
    "plt.ylabel('Number of Cases')\n"
   ]
  },
  {
   "cell_type": "code",
   "execution_count": 508,
   "metadata": {},
   "outputs": [
    {
     "data": {
      "text/plain": [
       "Text(0, 0.5, 'Number of Cases')"
      ]
     },
     "execution_count": 508,
     "metadata": {},
     "output_type": "execute_result"
    },
    {
     "data": {
      "image/png": "[encoded data removed]",
      "text/plain": [
       "<Figure size 800x640 with 1 Axes>"
      ]
     },
     "metadata": {},
     "output_type": "display_data"
    }
   ],
   "source": [
    "figure(num=None, figsize=(10,8), dpi=80, facecolor='salmon')\n",
    "#fig, ax = plt.subplots(dpi=150)\n",
    "\n",
    "\n",
    "#plt.subplot(2, 1, 1)\n",
    "S=range(0,len(MORT))\n",
    "M= MORT\n",
    "s = np.asarray(S)\n",
    "m= np.asarray(M)\n",
    "\n",
    "plt.plot(S, M, 'red')\n",
    "plt.plot(s, m, 'blue')\n",
    "plt.title('Using Timestamps')\n",
    "plt.ylabel('Number of Cases')\n"
   ]
  },
  {
   "cell_type": "code",
   "execution_count": 509,
   "metadata": {},
   "outputs": [
    {
     "name": "stdout",
     "output_type": "stream",
     "text": [
      "235\n"
     ]
    }
   ],
   "source": [
    "print (len(ANALYZE))"
   ]
  },
  {
   "cell_type": "code",
   "execution_count": 510,
   "metadata": {},
   "outputs": [
    {
     "name": "stdout",
     "output_type": "stream",
     "text": [
      " 1321  27031 86548\n",
      "0.04886981613702786\n"
     ]
    }
   ],
   "source": [
    "days=5\n",
    "hours=5*12 # Samples are two hour intervals\n",
    "AN = (ANALYZE[145].split(\",\"))\n",
    "AP = (ANALYZE[145-hours].split(\",\"))\n",
    "print (AN[1],AP[0],CASES[145])\n",
    "print (int(AN[1])/int(AP[0]))"
   ]
  },
  {
   "cell_type": "code",
   "execution_count": 511,
   "metadata": {
    "scrolled": false
   },
   "outputs": [
    {
     "name": "stdout",
     "output_type": "stream",
     "text": [
      "235\n",
      "04/04/2020 02:49:00 1585939740 2.0 277161 7392\n",
      "277161 7392\n",
      "0.3763172631471771\n"
     ]
    },
    {
     "data": {
      "text/plain": [
       "104300.46897113476"
      ]
     },
     "execution_count": 511,
     "metadata": {},
     "output_type": "execute_result"
    }
   ],
   "source": [
    "import string\n",
    "cnt=0\n",
    "for line in ALLdata:\n",
    "    cnt=cnt+1\n",
    "print(cnt)\n",
    "\n",
    "line = line.translate({ord(ch):' ' for ch in \",()'\"})\n",
    "line= ' '.join(line.split())\n",
    "print (line)\n",
    "line= line.split(\" \")\n",
    "print (line[4],line[5])\n",
    "#cases=int(line[4])\n",
    "\n",
    "\n",
    "cases = 19643\n",
    "#cases = 13865\n",
    "#cases = 4667\n",
    "\n",
    "deaths=int(line[5])\n",
    "\n",
    "percent = deaths/cases\n",
    "print (percent)\n",
    "percent*int(line[4])"
   ]
  },
  {
   "cell_type": "code",
   "execution_count": 512,
   "metadata": {},
   "outputs": [
    {
     "data": {
      "text/plain": [
       "3629.917"
      ]
     },
     "execution_count": 512,
     "metadata": {},
     "output_type": "execute_result"
    }
   ],
   "source": [
    "# 9371*.056 = 524.77\n",
    "# 13865*.056 = 776.44\n",
    "# 19393*.056 = 1086.008\n",
    "# 26111*.053 = 1383.883\n",
    "\n",
    "68489*.053\n"
   ]
  },
  {
   "cell_type": "code",
   "execution_count": 513,
   "metadata": {},
   "outputs": [
    {
     "data": {
      "text/plain": [
       "20672.988850990176"
      ]
     },
     "execution_count": 513,
     "metadata": {},
     "output_type": "execute_result"
    }
   ],
   "source": [
    "54935*percent\n",
    "#based on 13865: 20/03/2020,00:48:00,1584636480,2.05,13865,211  | 25/03/2020 08:48:00 1585097280 2.02 54935 784\n",
    "#estimate: April 5th"
   ]
  },
  {
   "cell_type": "markdown",
   "metadata": {
    "scrolled": false
   },
   "source": [
    "# Create a list of CASES and a list of DEATHS"
   ]
  },
  {
   "cell_type": "code",
   "execution_count": 514,
   "metadata": {
    "scrolled": false
   },
   "outputs": [],
   "source": [
    "import M2D\n",
    "import sqlite3\n",
    "conn=sqlite3.connect(\"DATA/CoronaData2.db\")\n",
    "c= conn.cursor()\n",
    "cnt=0\n",
    "CASES=[]\n",
    "DEATHS=[]\n",
    "\n",
    "for row in c.execute('SELECT rowid,* from CORONA'):\n",
    "    #if row[0]==128:print (row)\n",
    "    cnt=cnt+1\n",
    "    data = row[1]\n",
    "    data = data.replace(\",\",\"\")\n",
    "    data = data.split(\" \")\n",
    "    #print (row[0],data[9]+\",\"+data[13])\n",
    "    CASES.append(data[9])\n",
    "    DEATHS.append(data[13])"
   ]
  },
  {
   "cell_type": "markdown",
   "metadata": {},
   "source": [
    "<a id=\"mortality\">*</a>&nbsp;&nbsp;&nbsp;&nbsp;&nbsp;&nbsp;<b><a href=\"#home\">HOME</a></b>\n",
    "\n",
    "# Mortality\n",
    "\n"
   ]
  },
  {
   "cell_type": "code",
   "execution_count": 515,
   "metadata": {},
   "outputs": [
    {
     "name": "stdout",
     "output_type": "stream",
     "text": [
      "72 275 19774 537 0.5121042830540037\n",
      "73 276 19775 589 0.4685908319185059\n",
      "74 276 19823 708 0.3898305084745763\n",
      "75 282 22085 975 0.28923076923076924\n",
      "76 288 22813 1010 0.2851485148514851\n",
      "77 288 24142 1016 0.28346456692913385\n",
      "78 301 23940 1301 0.23136049192928518\n",
      "79 324 26111 1327 0.24415975885455915\n",
      "80 341 26711 1336 0.25523952095808383\n",
      "81 348 26867 1639 0.21232458816351435\n",
      "82 348 26892 1715 0.20291545189504373\n",
      "83 348 26892 1725 0.20173913043478262\n",
      "84 348 26900 1747 0.1991986262163709\n",
      "85 348 26905 1762 0.19750283768444948\n",
      "86 349 27031 1832 0.19050218340611352\n",
      "87 388 30239 2269 0.17100044072278536\n",
      "88 400 38757 2291 0.17459624618070713\n",
      "89 414 32356 2319 0.17852522639068563\n",
      "90 414 32356 2499 0.16566626650660263\n",
      "91 414 33346 2836 0.1459802538787024\n",
      "92 419 33546 2982 0.14050972501676728\n",
      "93 452 34717 2995 0.15091819699499165\n",
      "94 457 35060 3043 0.15018074268813672\n",
      "95 458 35070 3329 0.13757885250826074\n",
      "96 458 35070 3400 0.13470588235294118\n",
      "97 458 35075 3621 0.12648439657553162\n",
      "98 459 35179 3502 0.13106796116504854\n",
      "99 479 40773 3714 0.1289714593430264\n",
      "100 504 41569 3777 0.13343923749007147\n",
      "101 517 42443 3782 0.13670015864621893\n",
      "102 545 43449 3802 0.14334560757496054\n",
      "103 552 43718 4186 0.13186813186813187\n",
      "104 553 43734 4597 0.12029584511638025\n",
      "105 582 46145 4667 0.12470537818727234\n",
      "106 582 46145 4704 0.12372448979591837\n",
      "107 582 46145 4727 0.12312248783583668\n",
      "108 582 46168 4743 0.12270714737507907\n",
      "109 582 46168 4752 0.12247474747474747\n",
      "110 588 46274 5723 0.1027433164424253\n",
      "111 622 49594 6211 0.10014490420222187\n",
      "112 655 50982 6349 0.10316585289021893\n",
      "113 684 52921 6499 0.105246961070934\n",
      "114 687 53205 6522 0.10533578656853726\n",
      "115 698 53655 6524 0.10698957694665849\n",
      "116 778 54823 7601 0.102354953295619\n",
      "117 782 54867 7708 0.10145303580695382\n",
      "118 784 54916 8710 0.09001148105625717\n",
      "119 784 54935 8998 0.0871304734385419\n",
      "120 784 54941 9371 0.0836623626080461\n",
      "121 785 54979 9464 0.08294590025359257\n",
      "122 785 55081 9473 0.08286709595693022\n",
      "123 817 60642 9486 0.0861269238878347\n",
      "124 878 62364 10692 0.0821174710063599\n",
      "125 910 64765 11355 0.08014090708938794\n",
      "126 928 65527 13737 0.06755477906384218\n",
      "127 935 65797 13865 0.06743598990263253\n",
      "128 963 66741 14316 0.06726739312657166\n",
      "129 1032 68472 14336 0.07198660714285714\n",
      "130 1032 68489 14366 0.07183628010580538\n",
      "131 1032 68489 14366 0.07183628010580538\n",
      "132 1036 68581 14366 0.07211471530001393\n",
      "133 1036 68594 14366 0.07211471530001393\n",
      "134 1037 68905 14373 0.07214916857997634\n",
      "135 1080 75069 16067 0.06721852243729383\n",
      "136 1143 79082 16545 0.06908431550317316\n",
      "137 1177 81946 18121 0.06495226532752056\n",
      "138 1201 83206 18876 0.06362576817122272\n",
      "139 1293 85280 19393 0.06667354199969061\n",
      "140 1297 85520 19643 0.06602861070101308\n",
      "141 1300 85594 19652 0.06615102788520252\n",
      "142 1301 85612 19774 0.06579346616769495\n",
      "143 1301 85612 19774 0.06579346616769495\n",
      "144 1304 85749 19774 0.06594518054010316\n",
      "145 1304 85755 19775 0.06594184576485461\n",
      "146 1321 86548 19823 0.06663976189275085\n",
      "147 1429 94425 22085 0.06470455059995472\n",
      "148 1513 98180 22813 0.0663218340419936\n",
      "149 1546 100514 24142 0.06403777648910612\n",
      "150 1591 102325 23940 0.0664578111946533\n",
      "151 1692 104126 26111 0.06480027574585424\n",
      "152 1704 104205 26711 0.06379394257047659\n",
      "153 1704 104205 26867 0.06342353072542524\n",
      "154 1704 104256 26892 0.06336456938866578\n",
      "155 1704 104256 26892 0.06336456938866578\n",
      "156 1704 104256 26900 0.0633457249070632\n",
      "157 1704 104277 26905 0.06333395279687791\n",
      "158 1730 105726 27031 0.06400059191298879\n",
      "159 1937 116050 30239 0.06405635106981052\n",
      "160 1979 118592 38757 0.05106174368501174\n",
      "161 1997 120204 32356 0.06171961923599951\n",
      "162 2211 123311 32356 0.06833353937445914\n",
      "163 2221 123578 33346 0.06660469021771727\n",
      "164 2227 123750 33546 0.06638645442079533\n",
      "165 2228 123774 34717 0.06417605207823257\n",
      "166 2229 123776 35060 0.06357672561323445\n",
      "167 2229 123781 35070 0.06355859709153122\n",
      "168 2229 123781 35070 0.06355859709153122\n",
      "169 2229 123828 35075 0.0635495367070563\n",
      "170 2238 125099 35179 0.06361749907615338\n",
      "171 2363 133146 40773 0.057955019252936994\n",
      "172 2431 137943 41569 0.05848107965070124\n",
      "173 2449 139904 42443 0.057700916523337184\n",
      "174 2471 141781 43449 0.05687127436764943\n",
      "175 2484 142004 43718 0.05681870167894231\n",
      "176 2488 142735 43734 0.056889376686331004\n",
      "177 2488 142735 46145 0.05391700075847871\n",
      "178 2489 142735 46145 0.053938671578719254\n",
      "179 2489 142746 46145 0.053938671578719254\n",
      "180 2490 142793 46168 0.053933460405475656\n",
      "181 2600 144410 46168 0.05631606307399064\n",
      "182 2616 145542 46274 0.056532826209102306\n",
      "183 2870 156565 49594 0.05786990361737307\n",
      "184 2951 159689 50982 0.057883174453728765\n",
      "185 2974 161358 52921 0.0561969728463181\n",
      "186 3148 163479 53205 0.05916737148764214\n",
      "187 3165 164253 53655 0.05898797875314509\n",
      "188 3167 164253 54823 0.0577677252248144\n",
      "189 3170 164323 54867 0.05777607669455228\n",
      "190 3173 164359 54916 0.05777915361643237\n",
      "191 3173 164359 54935 0.05775916992809684\n",
      "192 3175 164435 54941 0.05778926484774576\n",
      "193 3182 165392 54979 0.057876643809454516\n",
      "194 3424 175669 55081 0.06216299631451862\n",
      "195 3573 180340 60642 0.0589195607005046\n",
      "196 3807 186046 62364 0.06104483355782182\n",
      "197 3867 187729 64765 0.059708175712190226\n",
      "198 3889 188530 65527 0.05934958108871152\n",
      "199 4054 188578 65797 0.061613751386841345\n",
      "200 4055 188592 66741 0.06075725565993917\n",
      "201 4056 188592 68472 0.05923589204346302\n",
      "202 4059 188639 68489 0.05926499145848239\n",
      "203 4059 188647 68489 0.05926499145848239\n",
      "204 4099 189711 68581 0.05976874061328939\n",
      "205 4394 200289 68594 0.06405808088170976\n",
      "206 4528 205438 68905 0.06571366373993179\n",
      "207 4713 211143 75069 0.06278224033888823\n",
      "208 4759 212980 79082 0.06017804304392908\n",
      "209 5102 215003 81946 0.06226051302076978\n",
      "210 5110 215175 83206 0.06141384034805182\n",
      "211 5110 215300 85280 0.0599202626641651\n",
      "212 5112 215324 85520 0.059775491113189895\n",
      "213 5112 215344 85594 0.059723812416758185\n",
      "214 5112 215344 85612 0.05971125543148157\n",
      "215 5140 216722 85612 0.060038312386114095\n",
      "216 5227 219832 85749 0.060956979090135165\n",
      "217 5356 222658 85755 0.06245699959186053\n",
      "218 5665 232899 86548 0.06545500762582614\n",
      "219 5883 243298 94425 0.062303415409054805\n",
      "220 5883 244230 98180 0.059920554084334894\n",
      "221 6070 244877 100514 0.06038959746900929\n",
      "222 6075 245066 102325 0.0593696555094063\n",
      "223 6075 245088 104126 0.058342777020148666\n",
      "224 6095 245341 104205 0.058490475505014156\n",
      "225 6095 245373 104205 0.058490475505014156\n",
      "226 6095 245373 104256 0.05846186310620012\n",
      "227 6095 245380 104256 0.05846186310620012\n",
      "228 6098 245442 104256 0.05849063842848373\n",
      "229 6099 245442 104277 0.058488449034782355\n",
      "230 6603 259750 105726 0.062453890244594516\n",
      "231 6803 266279 116050 0.0586212839293408\n",
      "232 6988 272614 118592 0.05892471667566109\n",
      "233 7087 275802 120204 0.05895810455558883\n",
      "234 7391 276965 123311 0.05993788064325162\n",
      "235 7392 277161 123578 0.05981647218760621\n"
     ]
    }
   ],
   "source": [
    "def mortality(DEATHS,CASES):\n",
    "    result=int(DEATHS)/int(CASES)\n",
    "    return result\n",
    "\n",
    "days= 6\n",
    "\n",
    "span=days*12\n",
    "\n",
    "length=len(CASES)\n",
    "for x in range(span,length):\n",
    "    #print (DEATHS[x],CASES[x-span])\n",
    "    print (x,DEATHS[x],CASES[x],CASES[x-span],mortality(DEATHS[x],CASES[x-span]))"
   ]
  },
  {
   "cell_type": "code",
   "execution_count": 516,
   "metadata": {},
   "outputs": [
    {
     "data": {
      "application/vnd.plotly.v1+json": {
       "config": {
        "plotlyServerURL": "https://plot.ly"
       },
       "data": [
        {
         "hoverlabel": {
          "namelength": 0
         },
         "hovertemplate": "x=%{x}<br>y=%{y}",
         "legendgroup": "",
         "line": {
          "color": "#636efa",
          "dash": "solid"
         },
         "mode": "lines",
         "name": "",
         "showlegend": false,
         "type": "scatter",
         "x": [
          "21",
          "22",
          "27",
          "30",
          "31",
          "31",
          "38",
          "38",
          "38",
          "40",
          "41",
          "41",
          "41",
          "41",
          "41",
          "48",
          "50",
          "50",
          "51",
          "57",
          "60",
          "60",
          "60",
          "63",
          "63",
          "63",
          "63",
          "68",
          "69",
          "69",
          "69",
          "73",
          "86",
          "87",
          "91",
          "93",
          "93",
          "93",
          "97",
          "102",
          "106",
          "112",
          "116",
          "116",
          "116",
          "120",
          "132",
          "150",
          "153",
          "155",
          "155",
          "157",
          "160",
          "171",
          "201",
          "211",
          "218",
          "218",
          "217",
          "217",
          "217",
          "217",
          "218",
          "219",
          "225",
          "233",
          "237",
          "256",
          "263",
          "264",
          "275",
          "275",
          "275",
          "276",
          "276",
          "282",
          "288",
          "288",
          "301",
          "324",
          "341",
          "348",
          "348",
          "348",
          "348",
          "348",
          "349",
          "388",
          "400",
          "414",
          "414",
          "414",
          "419",
          "452",
          "457",
          "458",
          "458",
          "458",
          "459",
          "479",
          "504",
          "517",
          "545",
          "552",
          "553",
          "582",
          "582",
          "582",
          "582",
          "582",
          "588",
          "622",
          "655",
          "684",
          "687",
          "698",
          "778",
          "782",
          "784",
          "784",
          "784",
          "785",
          "785",
          "817",
          "878",
          "910",
          "928",
          "935",
          "963",
          "1032",
          "1032",
          "1032",
          "1036",
          "1036",
          "1037",
          "1080",
          "1143",
          "1177",
          "1201",
          "1293",
          "1297",
          "1300",
          "1301",
          "1301",
          "1304",
          "1304",
          "1321",
          "1429",
          "1513",
          "1546",
          "1591",
          "1692",
          "1704",
          "1704",
          "1704",
          "1704",
          "1704",
          "1704",
          "1730",
          "1937",
          "1979",
          "1997",
          "2211",
          "2221",
          "2227",
          "2228",
          "2229",
          "2229",
          "2229",
          "2229",
          "2238",
          "2363",
          "2431",
          "2449",
          "2471",
          "2484",
          "2488",
          "2488",
          "2489",
          "2489",
          "2490",
          "2600",
          "2616",
          "2870",
          "2951",
          "2974",
          "3148",
          "3165",
          "3167",
          "3170",
          "3173",
          "3173",
          "3175",
          "3182",
          "3424",
          "3573",
          "3807",
          "3867",
          "3889",
          "4054",
          "4055",
          "4056",
          "4059",
          "4059",
          "4099",
          "4394",
          "4528",
          "4713",
          "4759",
          "5102",
          "5110",
          "5110",
          "5112",
          "5112",
          "5112",
          "5140",
          "5227",
          "5356",
          "5665",
          "5883",
          "5883",
          "6070",
          "6075",
          "6075",
          "6095",
          "6095",
          "6095",
          "6095",
          "6098",
          "6099",
          "6603",
          "6803",
          "6988",
          "7087",
          "7391",
          "7392"
         ],
         "xaxis": "x",
         "y": [
          "537",
          "589",
          "708",
          "975",
          "1010",
          "1016",
          "1301",
          "1327",
          "1336",
          "1639",
          "1715",
          "1725",
          "1747",
          "1762",
          "1832",
          "2269",
          "2291",
          "2319",
          "2499",
          "2836",
          "2982",
          "2995",
          "3043",
          "3329",
          "3400",
          "3621",
          "3502",
          "3714",
          "3777",
          "3782",
          "3802",
          "4186",
          "4597",
          "4667",
          "4704",
          "4727",
          "4743",
          "4752",
          "5723",
          "6211",
          "6349",
          "6499",
          "6522",
          "6524",
          "7601",
          "7708",
          "8710",
          "8998",
          "9371",
          "9464",
          "9473",
          "9486",
          "10692",
          "11355",
          "13737",
          "13865",
          "14316",
          "14336",
          "14366",
          "14366",
          "14366",
          "14366",
          "14373",
          "16067",
          "16545",
          "18121",
          "18876",
          "19393",
          "19643",
          "19652",
          "19774",
          "19774",
          "19774",
          "19775",
          "19823",
          "22085",
          "22813",
          "24142",
          "23940",
          "26111",
          "26711",
          "26867",
          "26892",
          "26892",
          "26900",
          "26905",
          "27031",
          "30239",
          "38757",
          "32356",
          "32356",
          "33346",
          "33546",
          "34717",
          "35060",
          "35070",
          "35070",
          "35075",
          "35179",
          "40773",
          "41569",
          "42443",
          "43449",
          "43718",
          "43734",
          "46145",
          "46145",
          "46145",
          "46168",
          "46168",
          "46274",
          "49594",
          "50982",
          "52921",
          "53205",
          "53655",
          "54823",
          "54867",
          "54916",
          "54935",
          "54941",
          "54979",
          "55081",
          "60642",
          "62364",
          "64765",
          "65527",
          "65797",
          "66741",
          "68472",
          "68489",
          "68489",
          "68581",
          "68594",
          "68905",
          "75069",
          "79082",
          "81946",
          "83206",
          "85280",
          "85520",
          "85594",
          "85612",
          "85612",
          "85749",
          "85755",
          "86548",
          "94425",
          "98180",
          "100514",
          "102325",
          "104126",
          "104205",
          "104205",
          "104256",
          "104256",
          "104256",
          "104277",
          "105726",
          "116050",
          "118592",
          "120204",
          "123311",
          "123578",
          "123750",
          "123774",
          "123776",
          "123781",
          "123781",
          "123828",
          "125099",
          "133146",
          "137943",
          "139904",
          "141781",
          "142004",
          "142735",
          "142735",
          "142735",
          "142746",
          "142793",
          "144410",
          "145542",
          "156565",
          "159689",
          "161358",
          "163479",
          "164253",
          "164253",
          "164323",
          "164359",
          "164359",
          "164435",
          "165392",
          "175669",
          "180340",
          "186046",
          "187729",
          "188530",
          "188578",
          "188592",
          "188592",
          "188639",
          "188647",
          "189711",
          "200289",
          "205438",
          "211143",
          "212980",
          "215003",
          "215175",
          "215300",
          "215324",
          "215344",
          "215344",
          "216722",
          "219832",
          "222658",
          "232899",
          "243298",
          "244230",
          "244877",
          "245066",
          "245088",
          "245341",
          "245373",
          "245373",
          "245380",
          "245442",
          "245442",
          "259750",
          "266279",
          "272614",
          "275802",
          "276965",
          "277161"
         ],
         "yaxis": "y"
        }
       ],
       "layout": {
        "legend": {
         "tracegroupgap": 0
        },
        "margin": {
         "t": 60
        },
        "template": {
         "data": {
          "bar": [
           {
            "error_x": {
             "color": "#2a3f5f"
            },
            "error_y": {
             "color": "#2a3f5f"
            },
            "marker": {
             "line": {
              "color": "#E5ECF6",
              "width": 0.5
             }
            },
            "type": "bar"
           }
          ],
          "barpolar": [
           {
            "marker": {
             "line": {
              "color": "#E5ECF6",
              "width": 0.5
             }
            },
            "type": "barpolar"
           }
          ],
          "carpet": [
           {
            "aaxis": {
             "endlinecolor": "#2a3f5f",
             "gridcolor": "white",
             "linecolor": "white",
             "minorgridcolor": "white",
             "startlinecolor": "#2a3f5f"
            },
            "baxis": {
             "endlinecolor": "#2a3f5f",
             "gridcolor": "white",
             "linecolor": "white",
             "minorgridcolor": "white",
             "startlinecolor": "#2a3f5f"
            },
            "type": "carpet"
           }
          ],
          "choropleth": [
           {
            "colorbar": {
             "outlinewidth": 0,
             "ticks": ""
            },
            "type": "choropleth"
           }
          ],
          "contour": [
           {
            "colorbar": {
             "outlinewidth": 0,
             "ticks": ""
            },
            "colorscale": [
             [
              0,
              "#0d0887"
             ],
             [
              0.1111111111111111,
              "#46039f"
             ],
             [
              0.2222222222222222,
              "#7201a8"
             ],
             [
              0.3333333333333333,
              "#9c179e"
             ],
             [
              0.4444444444444444,
              "#bd3786"
             ],
             [
              0.5555555555555556,
              "#d8576b"
             ],
             [
              0.6666666666666666,
              "#ed7953"
             ],
             [
              0.7777777777777778,
              "#fb9f3a"
             ],
             [
              0.8888888888888888,
              "#fdca26"
             ],
             [
              1,
              "#f0f921"
             ]
            ],
            "type": "contour"
           }
          ],
          "contourcarpet": [
           {
            "colorbar": {
             "outlinewidth": 0,
             "ticks": ""
            },
            "type": "contourcarpet"
           }
          ],
          "heatmap": [
           {
            "colorbar": {
             "outlinewidth": 0,
             "ticks": ""
            },
            "colorscale": [
             [
              0,
              "#0d0887"
             ],
             [
              0.1111111111111111,
              "#46039f"
             ],
             [
              0.2222222222222222,
              "#7201a8"
             ],
             [
              0.3333333333333333,
              "#9c179e"
             ],
             [
              0.4444444444444444,
              "#bd3786"
             ],
             [
              0.5555555555555556,
              "#d8576b"
             ],
             [
              0.6666666666666666,
              "#ed7953"
             ],
             [
              0.7777777777777778,
              "#fb9f3a"
             ],
             [
              0.8888888888888888,
              "#fdca26"
             ],
             [
              1,
              "#f0f921"
             ]
            ],
            "type": "heatmap"
           }
          ],
          "heatmapgl": [
           {
            "colorbar": {
             "outlinewidth": 0,
             "ticks": ""
            },
            "colorscale": [
             [
              0,
              "#0d0887"
             ],
             [
              0.1111111111111111,
              "#46039f"
             ],
             [
              0.2222222222222222,
              "#7201a8"
             ],
             [
              0.3333333333333333,
              "#9c179e"
             ],
             [
              0.4444444444444444,
              "#bd3786"
             ],
             [
              0.5555555555555556,
              "#d8576b"
             ],
             [
              0.6666666666666666,
              "#ed7953"
             ],
             [
              0.7777777777777778,
              "#fb9f3a"
             ],
             [
              0.8888888888888888,
              "#fdca26"
             ],
             [
              1,
              "#f0f921"
             ]
            ],
            "type": "heatmapgl"
           }
          ],
          "histogram": [
           {
            "marker": {
             "colorbar": {
              "outlinewidth": 0,
              "ticks": ""
             }
            },
            "type": "histogram"
           }
          ],
          "histogram2d": [
           {
            "colorbar": {
             "outlinewidth": 0,
             "ticks": ""
            },
            "colorscale": [
             [
              0,
              "#0d0887"
             ],
             [
              0.1111111111111111,
              "#46039f"
             ],
             [
              0.2222222222222222,
              "#7201a8"
             ],
             [
              0.3333333333333333,
              "#9c179e"
             ],
             [
              0.4444444444444444,
              "#bd3786"
             ],
             [
              0.5555555555555556,
              "#d8576b"
             ],
             [
              0.6666666666666666,
              "#ed7953"
             ],
             [
              0.7777777777777778,
              "#fb9f3a"
             ],
             [
              0.8888888888888888,
              "#fdca26"
             ],
             [
              1,
              "#f0f921"
             ]
            ],
            "type": "histogram2d"
           }
          ],
          "histogram2dcontour": [
           {
            "colorbar": {
             "outlinewidth": 0,
             "ticks": ""
            },
            "colorscale": [
             [
              0,
              "#0d0887"
             ],
             [
              0.1111111111111111,
              "#46039f"
             ],
             [
              0.2222222222222222,
              "#7201a8"
             ],
             [
              0.3333333333333333,
              "#9c179e"
             ],
             [
              0.4444444444444444,
              "#bd3786"
             ],
             [
              0.5555555555555556,
              "#d8576b"
             ],
             [
              0.6666666666666666,
              "#ed7953"
             ],
             [
              0.7777777777777778,
              "#fb9f3a"
             ],
             [
              0.8888888888888888,
              "#fdca26"
             ],
             [
              1,
              "#f0f921"
             ]
            ],
            "type": "histogram2dcontour"
           }
          ],
          "mesh3d": [
           {
            "colorbar": {
             "outlinewidth": 0,
             "ticks": ""
            },
            "type": "mesh3d"
           }
          ],
          "parcoords": [
           {
            "line": {
             "colorbar": {
              "outlinewidth": 0,
              "ticks": ""
             }
            },
            "type": "parcoords"
           }
          ],
          "pie": [
           {
            "automargin": true,
            "type": "pie"
           }
          ],
          "scatter": [
           {
            "marker": {
             "colorbar": {
              "outlinewidth": 0,
              "ticks": ""
             }
            },
            "type": "scatter"
           }
          ],
          "scatter3d": [
           {
            "line": {
             "colorbar": {
              "outlinewidth": 0,
              "ticks": ""
             }
            },
            "marker": {
             "colorbar": {
              "outlinewidth": 0,
              "ticks": ""
             }
            },
            "type": "scatter3d"
           }
          ],
          "scattercarpet": [
           {
            "marker": {
             "colorbar": {
              "outlinewidth": 0,
              "ticks": ""
             }
            },
            "type": "scattercarpet"
           }
          ],
          "scattergeo": [
           {
            "marker": {
             "colorbar": {
              "outlinewidth": 0,
              "ticks": ""
             }
            },
            "type": "scattergeo"
           }
          ],
          "scattergl": [
           {
            "marker": {
             "colorbar": {
              "outlinewidth": 0,
              "ticks": ""
             }
            },
            "type": "scattergl"
           }
          ],
          "scattermapbox": [
           {
            "marker": {
             "colorbar": {
              "outlinewidth": 0,
              "ticks": ""
             }
            },
            "type": "scattermapbox"
           }
          ],
          "scatterpolar": [
           {
            "marker": {
             "colorbar": {
              "outlinewidth": 0,
              "ticks": ""
             }
            },
            "type": "scatterpolar"
           }
          ],
          "scatterpolargl": [
           {
            "marker": {
             "colorbar": {
              "outlinewidth": 0,
              "ticks": ""
             }
            },
            "type": "scatterpolargl"
           }
          ],
          "scatterternary": [
           {
            "marker": {
             "colorbar": {
              "outlinewidth": 0,
              "ticks": ""
             }
            },
            "type": "scatterternary"
           }
          ],
          "surface": [
           {
            "colorbar": {
             "outlinewidth": 0,
             "ticks": ""
            },
            "colorscale": [
             [
              0,
              "#0d0887"
             ],
             [
              0.1111111111111111,
              "#46039f"
             ],
             [
              0.2222222222222222,
              "#7201a8"
             ],
             [
              0.3333333333333333,
              "#9c179e"
             ],
             [
              0.4444444444444444,
              "#bd3786"
             ],
             [
              0.5555555555555556,
              "#d8576b"
             ],
             [
              0.6666666666666666,
              "#ed7953"
             ],
             [
              0.7777777777777778,
              "#fb9f3a"
             ],
             [
              0.8888888888888888,
              "#fdca26"
             ],
             [
              1,
              "#f0f921"
             ]
            ],
            "type": "surface"
           }
          ],
          "table": [
           {
            "cells": {
             "fill": {
              "color": "#EBF0F8"
             },
             "line": {
              "color": "white"
             }
            },
            "header": {
             "fill": {
              "color": "#C8D4E3"
             },
             "line": {
              "color": "white"
             }
            },
            "type": "table"
           }
          ]
         },
         "layout": {
          "annotationdefaults": {
           "arrowcolor": "#2a3f5f",
           "arrowhead": 0,
           "arrowwidth": 1
          },
          "coloraxis": {
           "colorbar": {
            "outlinewidth": 0,
            "ticks": ""
           }
          },
          "colorscale": {
           "diverging": [
            [
             0,
             "#8e0152"
            ],
            [
             0.1,
             "#c51b7d"
            ],
            [
             0.2,
             "#de77ae"
            ],
            [
             0.3,
             "#f1b6da"
            ],
            [
             0.4,
             "#fde0ef"
            ],
            [
             0.5,
             "#f7f7f7"
            ],
            [
             0.6,
             "#e6f5d0"
            ],
            [
             0.7,
             "#b8e186"
            ],
            [
             0.8,
             "#7fbc41"
            ],
            [
             0.9,
             "#4d9221"
            ],
            [
             1,
             "#276419"
            ]
           ],
           "sequential": [
            [
             0,
             "#0d0887"
            ],
            [
             0.1111111111111111,
             "#46039f"
            ],
            [
             0.2222222222222222,
             "#7201a8"
            ],
            [
             0.3333333333333333,
             "#9c179e"
            ],
            [
             0.4444444444444444,
             "#bd3786"
            ],
            [
             0.5555555555555556,
             "#d8576b"
            ],
            [
             0.6666666666666666,
             "#ed7953"
            ],
            [
             0.7777777777777778,
             "#fb9f3a"
            ],
            [
             0.8888888888888888,
             "#fdca26"
            ],
            [
             1,
             "#f0f921"
            ]
           ],
           "sequentialminus": [
            [
             0,
             "#0d0887"
            ],
            [
             0.1111111111111111,
             "#46039f"
            ],
            [
             0.2222222222222222,
             "#7201a8"
            ],
            [
             0.3333333333333333,
             "#9c179e"
            ],
            [
             0.4444444444444444,
             "#bd3786"
            ],
            [
             0.5555555555555556,
             "#d8576b"
            ],
            [
             0.6666666666666666,
             "#ed7953"
            ],
            [
             0.7777777777777778,
             "#fb9f3a"
            ],
            [
             0.8888888888888888,
             "#fdca26"
            ],
            [
             1,
             "#f0f921"
            ]
           ]
          },
          "colorway": [
           "#636efa",
           "#EF553B",
           "#00cc96",
           "#ab63fa",
           "#FFA15A",
           "#19d3f3",
           "#FF6692",
           "#B6E880",
           "#FF97FF",
           "#FECB52"
          ],
          "font": {
           "color": "#2a3f5f"
          },
          "geo": {
           "bgcolor": "white",
           "lakecolor": "white",
           "landcolor": "#E5ECF6",
           "showlakes": true,
           "showland": true,
           "subunitcolor": "white"
          },
          "hoverlabel": {
           "align": "left"
          },
          "hovermode": "closest",
          "mapbox": {
           "style": "light"
          },
          "paper_bgcolor": "white",
          "plot_bgcolor": "#E5ECF6",
          "polar": {
           "angularaxis": {
            "gridcolor": "white",
            "linecolor": "white",
            "ticks": ""
           },
           "bgcolor": "#E5ECF6",
           "radialaxis": {
            "gridcolor": "white",
            "linecolor": "white",
            "ticks": ""
           }
          },
          "scene": {
           "xaxis": {
            "backgroundcolor": "#E5ECF6",
            "gridcolor": "white",
            "gridwidth": 2,
            "linecolor": "white",
            "showbackground": true,
            "ticks": "",
            "zerolinecolor": "white"
           },
           "yaxis": {
            "backgroundcolor": "#E5ECF6",
            "gridcolor": "white",
            "gridwidth": 2,
            "linecolor": "white",
            "showbackground": true,
            "ticks": "",
            "zerolinecolor": "white"
           },
           "zaxis": {
            "backgroundcolor": "#E5ECF6",
            "gridcolor": "white",
            "gridwidth": 2,
            "linecolor": "white",
            "showbackground": true,
            "ticks": "",
            "zerolinecolor": "white"
           }
          },
          "shapedefaults": {
           "line": {
            "color": "#2a3f5f"
           }
          },
          "ternary": {
           "aaxis": {
            "gridcolor": "white",
            "linecolor": "white",
            "ticks": ""
           },
           "baxis": {
            "gridcolor": "white",
            "linecolor": "white",
            "ticks": ""
           },
           "bgcolor": "#E5ECF6",
           "caxis": {
            "gridcolor": "white",
            "linecolor": "white",
            "ticks": ""
           }
          },
          "title": {
           "x": 0.05
          },
          "xaxis": {
           "automargin": true,
           "gridcolor": "white",
           "linecolor": "white",
           "ticks": "",
           "title": {
            "standoff": 15
           },
           "zerolinecolor": "white",
           "zerolinewidth": 2
          },
          "yaxis": {
           "automargin": true,
           "gridcolor": "white",
           "linecolor": "white",
           "ticks": "",
           "title": {
            "standoff": 15
           },
           "zerolinecolor": "white",
           "zerolinewidth": 2
          }
         }
        },
        "xaxis": {
         "anchor": "y",
         "domain": [
          0,
          1
         ],
         "title": {
          "text": "x"
         }
        },
        "yaxis": {
         "anchor": "x",
         "domain": [
          0,
          1
         ],
         "title": {
          "text": "y"
         }
        }
       }
      },
      "text/html": [
       "<div>\n",
       "        \n",
       "        \n",
       "            <div id=\"6c1dd534-dfdc-4511-878d-15a6ba913cf7\" class=\"plotly-graph-div\" style=\"height:525px; width:100%;\"></div>\n",
       "            <script type=\"text/javascript\">\n",
       "                require([\"plotly\"], function(Plotly) {\n",
       "                    window.PLOTLYENV=window.PLOTLYENV || {};\n",
       "                    \n",
       "                if (document.getElementById(\"6c1dd534-dfdc-4511-878d-15a6ba913cf7\")) {\n",
       "                    Plotly.newPlot(\n",
       "                        '6c1dd534-dfdc-4511-878d-15a6ba913cf7',\n",
       "                        [{\"hoverlabel\": {\"namelength\": 0}, \"hovertemplate\": \"x=%{x}<br>y=%{y}\", \"legendgroup\": \"\", \"line\": {\"color\": \"#636efa\", \"dash\": \"solid\"}, \"mode\": \"lines\", \"name\": \"\", \"showlegend\": false, \"type\": \"scatter\", \"x\": [\"21\", \"22\", \"27\", \"30\", \"31\", \"31\", \"38\", \"38\", \"38\", \"40\", \"41\", \"41\", \"41\", \"41\", \"41\", \"48\", \"50\", \"50\", \"51\", \"57\", \"60\", \"60\", \"60\", \"63\", \"63\", \"63\", \"63\", \"68\", \"69\", \"69\", \"69\", \"73\", \"86\", \"87\", \"91\", \"93\", \"93\", \"93\", \"97\", \"102\", \"106\", \"112\", \"116\", \"116\", \"116\", \"120\", \"132\", \"150\", \"153\", \"155\", \"155\", \"157\", \"160\", \"171\", \"201\", \"211\", \"218\", \"218\", \"217\", \"217\", \"217\", \"217\", \"218\", \"219\", \"225\", \"233\", \"237\", \"256\", \"263\", \"264\", \"275\", \"275\", \"275\", \"276\", \"276\", \"282\", \"288\", \"288\", \"301\", \"324\", \"341\", \"348\", \"348\", \"348\", \"348\", \"348\", \"349\", \"388\", \"400\", \"414\", \"414\", \"414\", \"419\", \"452\", \"457\", \"458\", \"458\", \"458\", \"459\", \"479\", \"504\", \"517\", \"545\", \"552\", \"553\", \"582\", \"582\", \"582\", \"582\", \"582\", \"588\", \"622\", \"655\", \"684\", \"687\", \"698\", \"778\", \"782\", \"784\", \"784\", \"784\", \"785\", \"785\", \"817\", \"878\", \"910\", \"928\", \"935\", \"963\", \"1032\", \"1032\", \"1032\", \"1036\", \"1036\", \"1037\", \"1080\", \"1143\", \"1177\", \"1201\", \"1293\", \"1297\", \"1300\", \"1301\", \"1301\", \"1304\", \"1304\", \"1321\", \"1429\", \"1513\", \"1546\", \"1591\", \"1692\", \"1704\", \"1704\", \"1704\", \"1704\", \"1704\", \"1704\", \"1730\", \"1937\", \"1979\", \"1997\", \"2211\", \"2221\", \"2227\", \"2228\", \"2229\", \"2229\", \"2229\", \"2229\", \"2238\", \"2363\", \"2431\", \"2449\", \"2471\", \"2484\", \"2488\", \"2488\", \"2489\", \"2489\", \"2490\", \"2600\", \"2616\", \"2870\", \"2951\", \"2974\", \"3148\", \"3165\", \"3167\", \"3170\", \"3173\", \"3173\", \"3175\", \"3182\", \"3424\", \"3573\", \"3807\", \"3867\", \"3889\", \"4054\", \"4055\", \"4056\", \"4059\", \"4059\", \"4099\", \"4394\", \"4528\", \"4713\", \"4759\", \"5102\", \"5110\", \"5110\", \"5112\", \"5112\", \"5112\", \"5140\", \"5227\", \"5356\", \"5665\", \"5883\", \"5883\", \"6070\", \"6075\", \"6075\", \"6095\", \"6095\", \"6095\", \"6095\", \"6098\", \"6099\", \"6603\", \"6803\", \"6988\", \"7087\", \"7391\", \"7392\"], \"xaxis\": \"x\", \"y\": [\"537\", \"589\", \"708\", \"975\", \"1010\", \"1016\", \"1301\", \"1327\", \"1336\", \"1639\", \"1715\", \"1725\", \"1747\", \"1762\", \"1832\", \"2269\", \"2291\", \"2319\", \"2499\", \"2836\", \"2982\", \"2995\", \"3043\", \"3329\", \"3400\", \"3621\", \"3502\", \"3714\", \"3777\", \"3782\", \"3802\", \"4186\", \"4597\", \"4667\", \"4704\", \"4727\", \"4743\", \"4752\", \"5723\", \"6211\", \"6349\", \"6499\", \"6522\", \"6524\", \"7601\", \"7708\", \"8710\", \"8998\", \"9371\", \"9464\", \"9473\", \"9486\", \"10692\", \"11355\", \"13737\", \"13865\", \"14316\", \"14336\", \"14366\", \"14366\", \"14366\", \"14366\", \"14373\", \"16067\", \"16545\", \"18121\", \"18876\", \"19393\", \"19643\", \"19652\", \"19774\", \"19774\", \"19774\", \"19775\", \"19823\", \"22085\", \"22813\", \"24142\", \"23940\", \"26111\", \"26711\", \"26867\", \"26892\", \"26892\", \"26900\", \"26905\", \"27031\", \"30239\", \"38757\", \"32356\", \"32356\", \"33346\", \"33546\", \"34717\", \"35060\", \"35070\", \"35070\", \"35075\", \"35179\", \"40773\", \"41569\", \"42443\", \"43449\", \"43718\", \"43734\", \"46145\", \"46145\", \"46145\", \"46168\", \"46168\", \"46274\", \"49594\", \"50982\", \"52921\", \"53205\", \"53655\", \"54823\", \"54867\", \"54916\", \"54935\", \"54941\", \"54979\", \"55081\", \"60642\", \"62364\", \"64765\", \"65527\", \"65797\", \"66741\", \"68472\", \"68489\", \"68489\", \"68581\", \"68594\", \"68905\", \"75069\", \"79082\", \"81946\", \"83206\", \"85280\", \"85520\", \"85594\", \"85612\", \"85612\", \"85749\", \"85755\", \"86548\", \"94425\", \"98180\", \"100514\", \"102325\", \"104126\", \"104205\", \"104205\", \"104256\", \"104256\", \"104256\", \"104277\", \"105726\", \"116050\", \"118592\", \"120204\", \"123311\", \"123578\", \"123750\", \"123774\", \"123776\", \"123781\", \"123781\", \"123828\", \"125099\", \"133146\", \"137943\", \"139904\", \"141781\", \"142004\", \"142735\", \"142735\", \"142735\", \"142746\", \"142793\", \"144410\", \"145542\", \"156565\", \"159689\", \"161358\", \"163479\", \"164253\", \"164253\", \"164323\", \"164359\", \"164359\", \"164435\", \"165392\", \"175669\", \"180340\", \"186046\", \"187729\", \"188530\", \"188578\", \"188592\", \"188592\", \"188639\", \"188647\", \"189711\", \"200289\", \"205438\", \"211143\", \"212980\", \"215003\", \"215175\", \"215300\", \"215324\", \"215344\", \"215344\", \"216722\", \"219832\", \"222658\", \"232899\", \"243298\", \"244230\", \"244877\", \"245066\", \"245088\", \"245341\", \"245373\", \"245373\", \"245380\", \"245442\", \"245442\", \"259750\", \"266279\", \"272614\", \"275802\", \"276965\", \"277161\"], \"yaxis\": \"y\"}],\n",
       "                        {\"legend\": {\"tracegroupgap\": 0}, \"margin\": {\"t\": 60}, \"template\": {\"data\": {\"bar\": [{\"error_x\": {\"color\": \"#2a3f5f\"}, \"error_y\": {\"color\": \"#2a3f5f\"}, \"marker\": {\"line\": {\"color\": \"#E5ECF6\", \"width\": 0.5}}, \"type\": \"bar\"}], \"barpolar\": [{\"marker\": {\"line\": {\"color\": \"#E5ECF6\", \"width\": 0.5}}, \"type\": \"barpolar\"}], \"carpet\": [{\"aaxis\": {\"endlinecolor\": \"#2a3f5f\", \"gridcolor\": \"white\", \"linecolor\": \"white\", \"minorgridcolor\": \"white\", \"startlinecolor\": \"#2a3f5f\"}, \"baxis\": {\"endlinecolor\": \"#2a3f5f\", \"gridcolor\": \"white\", \"linecolor\": \"white\", \"minorgridcolor\": \"white\", \"startlinecolor\": \"#2a3f5f\"}, \"type\": \"carpet\"}], \"choropleth\": [{\"colorbar\": {\"outlinewidth\": 0, \"ticks\": \"\"}, \"type\": \"choropleth\"}], \"contour\": [{\"colorbar\": {\"outlinewidth\": 0, \"ticks\": \"\"}, \"colorscale\": [[0.0, \"#0d0887\"], [0.1111111111111111, \"#46039f\"], [0.2222222222222222, \"#7201a8\"], [0.3333333333333333, \"#9c179e\"], [0.4444444444444444, \"#bd3786\"], [0.5555555555555556, \"#d8576b\"], [0.6666666666666666, \"#ed7953\"], [0.7777777777777778, \"#fb9f3a\"], [0.8888888888888888, \"#fdca26\"], [1.0, \"#f0f921\"]], \"type\": \"contour\"}], \"contourcarpet\": [{\"colorbar\": {\"outlinewidth\": 0, \"ticks\": \"\"}, \"type\": \"contourcarpet\"}], \"heatmap\": [{\"colorbar\": {\"outlinewidth\": 0, \"ticks\": \"\"}, \"colorscale\": [[0.0, \"#0d0887\"], [0.1111111111111111, \"#46039f\"], [0.2222222222222222, \"#7201a8\"], [0.3333333333333333, \"#9c179e\"], [0.4444444444444444, \"#bd3786\"], [0.5555555555555556, \"#d8576b\"], [0.6666666666666666, \"#ed7953\"], [0.7777777777777778, \"#fb9f3a\"], [0.8888888888888888, \"#fdca26\"], [1.0, \"#f0f921\"]], \"type\": \"heatmap\"}], \"heatmapgl\": [{\"colorbar\": {\"outlinewidth\": 0, \"ticks\": \"\"}, \"colorscale\": [[0.0, \"#0d0887\"], [0.1111111111111111, \"#46039f\"], [0.2222222222222222, \"#7201a8\"], [0.3333333333333333, \"#9c179e\"], [0.4444444444444444, \"#bd3786\"], [0.5555555555555556, \"#d8576b\"], [0.6666666666666666, \"#ed7953\"], [0.7777777777777778, \"#fb9f3a\"], [0.8888888888888888, \"#fdca26\"], [1.0, \"#f0f921\"]], \"type\": \"heatmapgl\"}], \"histogram\": [{\"marker\": {\"colorbar\": {\"outlinewidth\": 0, \"ticks\": \"\"}}, \"type\": \"histogram\"}], \"histogram2d\": [{\"colorbar\": {\"outlinewidth\": 0, \"ticks\": \"\"}, \"colorscale\": [[0.0, \"#0d0887\"], [0.1111111111111111, \"#46039f\"], [0.2222222222222222, \"#7201a8\"], [0.3333333333333333, \"#9c179e\"], [0.4444444444444444, \"#bd3786\"], [0.5555555555555556, \"#d8576b\"], [0.6666666666666666, \"#ed7953\"], [0.7777777777777778, \"#fb9f3a\"], [0.8888888888888888, \"#fdca26\"], [1.0, \"#f0f921\"]], \"type\": \"histogram2d\"}], \"histogram2dcontour\": [{\"colorbar\": {\"outlinewidth\": 0, \"ticks\": \"\"}, \"colorscale\": [[0.0, \"#0d0887\"], [0.1111111111111111, \"#46039f\"], [0.2222222222222222, \"#7201a8\"], [0.3333333333333333, \"#9c179e\"], [0.4444444444444444, \"#bd3786\"], [0.5555555555555556, \"#d8576b\"], [0.6666666666666666, \"#ed7953\"], [0.7777777777777778, \"#fb9f3a\"], [0.8888888888888888, \"#fdca26\"], [1.0, \"#f0f921\"]], \"type\": \"histogram2dcontour\"}], \"mesh3d\": [{\"colorbar\": {\"outlinewidth\": 0, \"ticks\": \"\"}, \"type\": \"mesh3d\"}], \"parcoords\": [{\"line\": {\"colorbar\": {\"outlinewidth\": 0, \"ticks\": \"\"}}, \"type\": \"parcoords\"}], \"pie\": [{\"automargin\": true, \"type\": \"pie\"}], \"scatter\": [{\"marker\": {\"colorbar\": {\"outlinewidth\": 0, \"ticks\": \"\"}}, \"type\": \"scatter\"}], \"scatter3d\": [{\"line\": {\"colorbar\": {\"outlinewidth\": 0, \"ticks\": \"\"}}, \"marker\": {\"colorbar\": {\"outlinewidth\": 0, \"ticks\": \"\"}}, \"type\": \"scatter3d\"}], \"scattercarpet\": [{\"marker\": {\"colorbar\": {\"outlinewidth\": 0, \"ticks\": \"\"}}, \"type\": \"scattercarpet\"}], \"scattergeo\": [{\"marker\": {\"colorbar\": {\"outlinewidth\": 0, \"ticks\": \"\"}}, \"type\": \"scattergeo\"}], \"scattergl\": [{\"marker\": {\"colorbar\": {\"outlinewidth\": 0, \"ticks\": \"\"}}, \"type\": \"scattergl\"}], \"scattermapbox\": [{\"marker\": {\"colorbar\": {\"outlinewidth\": 0, \"ticks\": \"\"}}, \"type\": \"scattermapbox\"}], \"scatterpolar\": [{\"marker\": {\"colorbar\": {\"outlinewidth\": 0, \"ticks\": \"\"}}, \"type\": \"scatterpolar\"}], \"scatterpolargl\": [{\"marker\": {\"colorbar\": {\"outlinewidth\": 0, \"ticks\": \"\"}}, \"type\": \"scatterpolargl\"}], \"scatterternary\": [{\"marker\": {\"colorbar\": {\"outlinewidth\": 0, \"ticks\": \"\"}}, \"type\": \"scatterternary\"}], \"surface\": [{\"colorbar\": {\"outlinewidth\": 0, \"ticks\": \"\"}, \"colorscale\": [[0.0, \"#0d0887\"], [0.1111111111111111, \"#46039f\"], [0.2222222222222222, \"#7201a8\"], [0.3333333333333333, \"#9c179e\"], [0.4444444444444444, \"#bd3786\"], [0.5555555555555556, \"#d8576b\"], [0.6666666666666666, \"#ed7953\"], [0.7777777777777778, \"#fb9f3a\"], [0.8888888888888888, \"#fdca26\"], [1.0, \"#f0f921\"]], \"type\": \"surface\"}], \"table\": [{\"cells\": {\"fill\": {\"color\": \"#EBF0F8\"}, \"line\": {\"color\": \"white\"}}, \"header\": {\"fill\": {\"color\": \"#C8D4E3\"}, \"line\": {\"color\": \"white\"}}, \"type\": \"table\"}]}, \"layout\": {\"annotationdefaults\": {\"arrowcolor\": \"#2a3f5f\", \"arrowhead\": 0, \"arrowwidth\": 1}, \"coloraxis\": {\"colorbar\": {\"outlinewidth\": 0, \"ticks\": \"\"}}, \"colorscale\": {\"diverging\": [[0, \"#8e0152\"], [0.1, \"#c51b7d\"], [0.2, \"#de77ae\"], [0.3, \"#f1b6da\"], [0.4, \"#fde0ef\"], [0.5, \"#f7f7f7\"], [0.6, \"#e6f5d0\"], [0.7, \"#b8e186\"], [0.8, \"#7fbc41\"], [0.9, \"#4d9221\"], [1, \"#276419\"]], \"sequential\": [[0.0, \"#0d0887\"], [0.1111111111111111, \"#46039f\"], [0.2222222222222222, \"#7201a8\"], [0.3333333333333333, \"#9c179e\"], [0.4444444444444444, \"#bd3786\"], [0.5555555555555556, \"#d8576b\"], [0.6666666666666666, \"#ed7953\"], [0.7777777777777778, \"#fb9f3a\"], [0.8888888888888888, \"#fdca26\"], [1.0, \"#f0f921\"]], \"sequentialminus\": [[0.0, \"#0d0887\"], [0.1111111111111111, \"#46039f\"], [0.2222222222222222, \"#7201a8\"], [0.3333333333333333, \"#9c179e\"], [0.4444444444444444, \"#bd3786\"], [0.5555555555555556, \"#d8576b\"], [0.6666666666666666, \"#ed7953\"], [0.7777777777777778, \"#fb9f3a\"], [0.8888888888888888, \"#fdca26\"], [1.0, \"#f0f921\"]]}, \"colorway\": [\"#636efa\", \"#EF553B\", \"#00cc96\", \"#ab63fa\", \"#FFA15A\", \"#19d3f3\", \"#FF6692\", \"#B6E880\", \"#FF97FF\", \"#FECB52\"], \"font\": {\"color\": \"#2a3f5f\"}, \"geo\": {\"bgcolor\": \"white\", \"lakecolor\": \"white\", \"landcolor\": \"#E5ECF6\", \"showlakes\": true, \"showland\": true, \"subunitcolor\": \"white\"}, \"hoverlabel\": {\"align\": \"left\"}, \"hovermode\": \"closest\", \"mapbox\": {\"style\": \"light\"}, \"paper_bgcolor\": \"white\", \"plot_bgcolor\": \"#E5ECF6\", \"polar\": {\"angularaxis\": {\"gridcolor\": \"white\", \"linecolor\": \"white\", \"ticks\": \"\"}, \"bgcolor\": \"#E5ECF6\", \"radialaxis\": {\"gridcolor\": \"white\", \"linecolor\": \"white\", \"ticks\": \"\"}}, \"scene\": {\"xaxis\": {\"backgroundcolor\": \"#E5ECF6\", \"gridcolor\": \"white\", \"gridwidth\": 2, \"linecolor\": \"white\", \"showbackground\": true, \"ticks\": \"\", \"zerolinecolor\": \"white\"}, \"yaxis\": {\"backgroundcolor\": \"#E5ECF6\", \"gridcolor\": \"white\", \"gridwidth\": 2, \"linecolor\": \"white\", \"showbackground\": true, \"ticks\": \"\", \"zerolinecolor\": \"white\"}, \"zaxis\": {\"backgroundcolor\": \"#E5ECF6\", \"gridcolor\": \"white\", \"gridwidth\": 2, \"linecolor\": \"white\", \"showbackground\": true, \"ticks\": \"\", \"zerolinecolor\": \"white\"}}, \"shapedefaults\": {\"line\": {\"color\": \"#2a3f5f\"}}, \"ternary\": {\"aaxis\": {\"gridcolor\": \"white\", \"linecolor\": \"white\", \"ticks\": \"\"}, \"baxis\": {\"gridcolor\": \"white\", \"linecolor\": \"white\", \"ticks\": \"\"}, \"bgcolor\": \"#E5ECF6\", \"caxis\": {\"gridcolor\": \"white\", \"linecolor\": \"white\", \"ticks\": \"\"}}, \"title\": {\"x\": 0.05}, \"xaxis\": {\"automargin\": true, \"gridcolor\": \"white\", \"linecolor\": \"white\", \"ticks\": \"\", \"title\": {\"standoff\": 15}, \"zerolinecolor\": \"white\", \"zerolinewidth\": 2}, \"yaxis\": {\"automargin\": true, \"gridcolor\": \"white\", \"linecolor\": \"white\", \"ticks\": \"\", \"title\": {\"standoff\": 15}, \"zerolinecolor\": \"white\", \"zerolinewidth\": 2}}}, \"xaxis\": {\"anchor\": \"y\", \"domain\": [0.0, 1.0], \"title\": {\"text\": \"x\"}}, \"yaxis\": {\"anchor\": \"x\", \"domain\": [0.0, 1.0], \"title\": {\"text\": \"y\"}}},\n",
       "                        {\"responsive\": true}\n",
       "                    ).then(function(){\n",
       "                            \n",
       "var gd = document.getElementById('6c1dd534-dfdc-4511-878d-15a6ba913cf7');\n",
       "var x = new MutationObserver(function (mutations, observer) {{\n",
       "        var display = window.getComputedStyle(gd).display;\n",
       "        if (!display || display === 'none') {{\n",
       "            console.log([gd, 'removed!']);\n",
       "            Plotly.purge(gd);\n",
       "            observer.disconnect();\n",
       "        }}\n",
       "}});\n",
       "\n",
       "// Listen for the removal of the full notebook cells\n",
       "var notebookContainer = gd.closest('#notebook-container');\n",
       "if (notebookContainer) {{\n",
       "    x.observe(notebookContainer, {childList: true});\n",
       "}}\n",
       "\n",
       "// Listen for the clearing of the current output cell\n",
       "var outputEl = gd.closest('.output');\n",
       "if (outputEl) {{\n",
       "    x.observe(outputEl, {childList: true});\n",
       "}}\n",
       "\n",
       "                        })\n",
       "                };\n",
       "                });\n",
       "            </script>\n",
       "        </div>"
      ]
     },
     "metadata": {},
     "output_type": "display_data"
    }
   ],
   "source": [
    "import plotly.express as px\n",
    "fig = px.line(x=DEATHS, y=CASES)\n",
    "fig.show()"
   ]
  },
  {
   "cell_type": "code",
   "execution_count": 517,
   "metadata": {},
   "outputs": [
    {
     "data": {
      "application/vnd.plotly.v1+json": {
       "config": {
        "plotlyServerURL": "https://plot.ly"
       },
       "data": [
        {
         "type": "scatter",
         "y": [
          "21",
          "22",
          "27",
          "30",
          "31",
          "31",
          "38",
          "38",
          "38",
          "40",
          "41",
          "41",
          "41",
          "41",
          "41",
          "48",
          "50",
          "50",
          "51",
          "57",
          "60",
          "60",
          "60",
          "63",
          "63",
          "63",
          "63",
          "68",
          "69",
          "69",
          "69",
          "73",
          "86",
          "87",
          "91",
          "93",
          "93",
          "93",
          "97",
          "102",
          "106",
          "112",
          "116",
          "116",
          "116",
          "120",
          "132",
          "150",
          "153",
          "155",
          "155",
          "157",
          "160",
          "171",
          "201",
          "211",
          "218",
          "218",
          "217",
          "217",
          "217",
          "217",
          "218",
          "219",
          "225",
          "233",
          "237",
          "256",
          "263",
          "264",
          "275",
          "275",
          "275",
          "276",
          "276",
          "282",
          "288",
          "288",
          "301",
          "324",
          "341",
          "348",
          "348",
          "348",
          "348",
          "348",
          "349",
          "388",
          "400",
          "414",
          "414",
          "414",
          "419",
          "452",
          "457",
          "458",
          "458",
          "458",
          "459",
          "479",
          "504",
          "517",
          "545",
          "552",
          "553",
          "582",
          "582",
          "582",
          "582",
          "582",
          "588",
          "622",
          "655",
          "684",
          "687",
          "698",
          "778",
          "782",
          "784",
          "784",
          "784",
          "785",
          "785",
          "817",
          "878",
          "910",
          "928",
          "935",
          "963",
          "1032",
          "1032",
          "1032",
          "1036",
          "1036",
          "1037",
          "1080",
          "1143",
          "1177",
          "1201",
          "1293",
          "1297",
          "1300",
          "1301",
          "1301",
          "1304",
          "1304",
          "1321",
          "1429",
          "1513",
          "1546",
          "1591",
          "1692",
          "1704",
          "1704",
          "1704",
          "1704",
          "1704",
          "1704",
          "1730",
          "1937",
          "1979",
          "1997",
          "2211",
          "2221",
          "2227",
          "2228",
          "2229",
          "2229",
          "2229",
          "2229",
          "2238",
          "2363",
          "2431",
          "2449",
          "2471",
          "2484",
          "2488",
          "2488",
          "2489",
          "2489",
          "2490",
          "2600",
          "2616",
          "2870",
          "2951",
          "2974",
          "3148",
          "3165",
          "3167",
          "3170",
          "3173",
          "3173",
          "3175",
          "3182",
          "3424",
          "3573",
          "3807",
          "3867",
          "3889",
          "4054",
          "4055",
          "4056",
          "4059",
          "4059",
          "4099",
          "4394",
          "4528",
          "4713",
          "4759",
          "5102",
          "5110",
          "5110",
          "5112",
          "5112",
          "5112",
          "5140",
          "5227",
          "5356",
          "5665",
          "5883",
          "5883",
          "6070",
          "6075",
          "6075",
          "6095",
          "6095",
          "6095",
          "6095",
          "6098",
          "6099",
          "6603",
          "6803",
          "6988",
          "7087",
          "7391",
          "7392"
         ]
        }
       ],
       "layout": {
        "template": {
         "data": {
          "bar": [
           {
            "error_x": {
             "color": "#2a3f5f"
            },
            "error_y": {
             "color": "#2a3f5f"
            },
            "marker": {
             "line": {
              "color": "#E5ECF6",
              "width": 0.5
             }
            },
            "type": "bar"
           }
          ],
          "barpolar": [
           {
            "marker": {
             "line": {
              "color": "#E5ECF6",
              "width": 0.5
             }
            },
            "type": "barpolar"
           }
          ],
          "carpet": [
           {
            "aaxis": {
             "endlinecolor": "#2a3f5f",
             "gridcolor": "white",
             "linecolor": "white",
             "minorgridcolor": "white",
             "startlinecolor": "#2a3f5f"
            },
            "baxis": {
             "endlinecolor": "#2a3f5f",
             "gridcolor": "white",
             "linecolor": "white",
             "minorgridcolor": "white",
             "startlinecolor": "#2a3f5f"
            },
            "type": "carpet"
           }
          ],
          "choropleth": [
           {
            "colorbar": {
             "outlinewidth": 0,
             "ticks": ""
            },
            "type": "choropleth"
           }
          ],
          "contour": [
           {
            "colorbar": {
             "outlinewidth": 0,
             "ticks": ""
            },
            "colorscale": [
             [
              0,
              "#0d0887"
             ],
             [
              0.1111111111111111,
              "#46039f"
             ],
             [
              0.2222222222222222,
              "#7201a8"
             ],
             [
              0.3333333333333333,
              "#9c179e"
             ],
             [
              0.4444444444444444,
              "#bd3786"
             ],
             [
              0.5555555555555556,
              "#d8576b"
             ],
             [
              0.6666666666666666,
              "#ed7953"
             ],
             [
              0.7777777777777778,
              "#fb9f3a"
             ],
             [
              0.8888888888888888,
              "#fdca26"
             ],
             [
              1,
              "#f0f921"
             ]
            ],
            "type": "contour"
           }
          ],
          "contourcarpet": [
           {
            "colorbar": {
             "outlinewidth": 0,
             "ticks": ""
            },
            "type": "contourcarpet"
           }
          ],
          "heatmap": [
           {
            "colorbar": {
             "outlinewidth": 0,
             "ticks": ""
            },
            "colorscale": [
             [
              0,
              "#0d0887"
             ],
             [
              0.1111111111111111,
              "#46039f"
             ],
             [
              0.2222222222222222,
              "#7201a8"
             ],
             [
              0.3333333333333333,
              "#9c179e"
             ],
             [
              0.4444444444444444,
              "#bd3786"
             ],
             [
              0.5555555555555556,
              "#d8576b"
             ],
             [
              0.6666666666666666,
              "#ed7953"
             ],
             [
              0.7777777777777778,
              "#fb9f3a"
             ],
             [
              0.8888888888888888,
              "#fdca26"
             ],
             [
              1,
              "#f0f921"
             ]
            ],
            "type": "heatmap"
           }
          ],
          "heatmapgl": [
           {
            "colorbar": {
             "outlinewidth": 0,
             "ticks": ""
            },
            "colorscale": [
             [
              0,
              "#0d0887"
             ],
             [
              0.1111111111111111,
              "#46039f"
             ],
             [
              0.2222222222222222,
              "#7201a8"
             ],
             [
              0.3333333333333333,
              "#9c179e"
             ],
             [
              0.4444444444444444,
              "#bd3786"
             ],
             [
              0.5555555555555556,
              "#d8576b"
             ],
             [
              0.6666666666666666,
              "#ed7953"
             ],
             [
              0.7777777777777778,
              "#fb9f3a"
             ],
             [
              0.8888888888888888,
              "#fdca26"
             ],
             [
              1,
              "#f0f921"
             ]
            ],
            "type": "heatmapgl"
           }
          ],
          "histogram": [
           {
            "marker": {
             "colorbar": {
              "outlinewidth": 0,
              "ticks": ""
             }
            },
            "type": "histogram"
           }
          ],
          "histogram2d": [
           {
            "colorbar": {
             "outlinewidth": 0,
             "ticks": ""
            },
            "colorscale": [
             [
              0,
              "#0d0887"
             ],
             [
              0.1111111111111111,
              "#46039f"
             ],
             [
              0.2222222222222222,
              "#7201a8"
             ],
             [
              0.3333333333333333,
              "#9c179e"
             ],
             [
              0.4444444444444444,
              "#bd3786"
             ],
             [
              0.5555555555555556,
              "#d8576b"
             ],
             [
              0.6666666666666666,
              "#ed7953"
             ],
             [
              0.7777777777777778,
              "#fb9f3a"
             ],
             [
              0.8888888888888888,
              "#fdca26"
             ],
             [
              1,
              "#f0f921"
             ]
            ],
            "type": "histogram2d"
           }
          ],
          "histogram2dcontour": [
           {
            "colorbar": {
             "outlinewidth": 0,
             "ticks": ""
            },
            "colorscale": [
             [
              0,
              "#0d0887"
             ],
             [
              0.1111111111111111,
              "#46039f"
             ],
             [
              0.2222222222222222,
              "#7201a8"
             ],
             [
              0.3333333333333333,
              "#9c179e"
             ],
             [
              0.4444444444444444,
              "#bd3786"
             ],
             [
              0.5555555555555556,
              "#d8576b"
             ],
             [
              0.6666666666666666,
              "#ed7953"
             ],
             [
              0.7777777777777778,
              "#fb9f3a"
             ],
             [
              0.8888888888888888,
              "#fdca26"
             ],
             [
              1,
              "#f0f921"
             ]
            ],
            "type": "histogram2dcontour"
           }
          ],
          "mesh3d": [
           {
            "colorbar": {
             "outlinewidth": 0,
             "ticks": ""
            },
            "type": "mesh3d"
           }
          ],
          "parcoords": [
           {
            "line": {
             "colorbar": {
              "outlinewidth": 0,
              "ticks": ""
             }
            },
            "type": "parcoords"
           }
          ],
          "pie": [
           {
            "automargin": true,
            "type": "pie"
           }
          ],
          "scatter": [
           {
            "marker": {
             "colorbar": {
              "outlinewidth": 0,
              "ticks": ""
             }
            },
            "type": "scatter"
           }
          ],
          "scatter3d": [
           {
            "line": {
             "colorbar": {
              "outlinewidth": 0,
              "ticks": ""
             }
            },
            "marker": {
             "colorbar": {
              "outlinewidth": 0,
              "ticks": ""
             }
            },
            "type": "scatter3d"
           }
          ],
          "scattercarpet": [
           {
            "marker": {
             "colorbar": {
              "outlinewidth": 0,
              "ticks": ""
             }
            },
            "type": "scattercarpet"
           }
          ],
          "scattergeo": [
           {
            "marker": {
             "colorbar": {
              "outlinewidth": 0,
              "ticks": ""
             }
            },
            "type": "scattergeo"
           }
          ],
          "scattergl": [
           {
            "marker": {
             "colorbar": {
              "outlinewidth": 0,
              "ticks": ""
             }
            },
            "type": "scattergl"
           }
          ],
          "scattermapbox": [
           {
            "marker": {
             "colorbar": {
              "outlinewidth": 0,
              "ticks": ""
             }
            },
            "type": "scattermapbox"
           }
          ],
          "scatterpolar": [
           {
            "marker": {
             "colorbar": {
              "outlinewidth": 0,
              "ticks": ""
             }
            },
            "type": "scatterpolar"
           }
          ],
          "scatterpolargl": [
           {
            "marker": {
             "colorbar": {
              "outlinewidth": 0,
              "ticks": ""
             }
            },
            "type": "scatterpolargl"
           }
          ],
          "scatterternary": [
           {
            "marker": {
             "colorbar": {
              "outlinewidth": 0,
              "ticks": ""
             }
            },
            "type": "scatterternary"
           }
          ],
          "surface": [
           {
            "colorbar": {
             "outlinewidth": 0,
             "ticks": ""
            },
            "colorscale": [
             [
              0,
              "#0d0887"
             ],
             [
              0.1111111111111111,
              "#46039f"
             ],
             [
              0.2222222222222222,
              "#7201a8"
             ],
             [
              0.3333333333333333,
              "#9c179e"
             ],
             [
              0.4444444444444444,
              "#bd3786"
             ],
             [
              0.5555555555555556,
              "#d8576b"
             ],
             [
              0.6666666666666666,
              "#ed7953"
             ],
             [
              0.7777777777777778,
              "#fb9f3a"
             ],
             [
              0.8888888888888888,
              "#fdca26"
             ],
             [
              1,
              "#f0f921"
             ]
            ],
            "type": "surface"
           }
          ],
          "table": [
           {
            "cells": {
             "fill": {
              "color": "#EBF0F8"
             },
             "line": {
              "color": "white"
             }
            },
            "header": {
             "fill": {
              "color": "#C8D4E3"
             },
             "line": {
              "color": "white"
             }
            },
            "type": "table"
           }
          ]
         },
         "layout": {
          "annotationdefaults": {
           "arrowcolor": "#2a3f5f",
           "arrowhead": 0,
           "arrowwidth": 1
          },
          "coloraxis": {
           "colorbar": {
            "outlinewidth": 0,
            "ticks": ""
           }
          },
          "colorscale": {
           "diverging": [
            [
             0,
             "#8e0152"
            ],
            [
             0.1,
             "#c51b7d"
            ],
            [
             0.2,
             "#de77ae"
            ],
            [
             0.3,
             "#f1b6da"
            ],
            [
             0.4,
             "#fde0ef"
            ],
            [
             0.5,
             "#f7f7f7"
            ],
            [
             0.6,
             "#e6f5d0"
            ],
            [
             0.7,
             "#b8e186"
            ],
            [
             0.8,
             "#7fbc41"
            ],
            [
             0.9,
             "#4d9221"
            ],
            [
             1,
             "#276419"
            ]
           ],
           "sequential": [
            [
             0,
             "#0d0887"
            ],
            [
             0.1111111111111111,
             "#46039f"
            ],
            [
             0.2222222222222222,
             "#7201a8"
            ],
            [
             0.3333333333333333,
             "#9c179e"
            ],
            [
             0.4444444444444444,
             "#bd3786"
            ],
            [
             0.5555555555555556,
             "#d8576b"
            ],
            [
             0.6666666666666666,
             "#ed7953"
            ],
            [
             0.7777777777777778,
             "#fb9f3a"
            ],
            [
             0.8888888888888888,
             "#fdca26"
            ],
            [
             1,
             "#f0f921"
            ]
           ],
           "sequentialminus": [
            [
             0,
             "#0d0887"
            ],
            [
             0.1111111111111111,
             "#46039f"
            ],
            [
             0.2222222222222222,
             "#7201a8"
            ],
            [
             0.3333333333333333,
             "#9c179e"
            ],
            [
             0.4444444444444444,
             "#bd3786"
            ],
            [
             0.5555555555555556,
             "#d8576b"
            ],
            [
             0.6666666666666666,
             "#ed7953"
            ],
            [
             0.7777777777777778,
             "#fb9f3a"
            ],
            [
             0.8888888888888888,
             "#fdca26"
            ],
            [
             1,
             "#f0f921"
            ]
           ]
          },
          "colorway": [
           "#636efa",
           "#EF553B",
           "#00cc96",
           "#ab63fa",
           "#FFA15A",
           "#19d3f3",
           "#FF6692",
           "#B6E880",
           "#FF97FF",
           "#FECB52"
          ],
          "font": {
           "color": "#2a3f5f"
          },
          "geo": {
           "bgcolor": "white",
           "lakecolor": "white",
           "landcolor": "#E5ECF6",
           "showlakes": true,
           "showland": true,
           "subunitcolor": "white"
          },
          "hoverlabel": {
           "align": "left"
          },
          "hovermode": "closest",
          "mapbox": {
           "style": "light"
          },
          "paper_bgcolor": "white",
          "plot_bgcolor": "#E5ECF6",
          "polar": {
           "angularaxis": {
            "gridcolor": "white",
            "linecolor": "white",
            "ticks": ""
           },
           "bgcolor": "#E5ECF6",
           "radialaxis": {
            "gridcolor": "white",
            "linecolor": "white",
            "ticks": ""
           }
          },
          "scene": {
           "xaxis": {
            "backgroundcolor": "#E5ECF6",
            "gridcolor": "white",
            "gridwidth": 2,
            "linecolor": "white",
            "showbackground": true,
            "ticks": "",
            "zerolinecolor": "white"
           },
           "yaxis": {
            "backgroundcolor": "#E5ECF6",
            "gridcolor": "white",
            "gridwidth": 2,
            "linecolor": "white",
            "showbackground": true,
            "ticks": "",
            "zerolinecolor": "white"
           },
           "zaxis": {
            "backgroundcolor": "#E5ECF6",
            "gridcolor": "white",
            "gridwidth": 2,
            "linecolor": "white",
            "showbackground": true,
            "ticks": "",
            "zerolinecolor": "white"
           }
          },
          "shapedefaults": {
           "line": {
            "color": "#2a3f5f"
           }
          },
          "ternary": {
           "aaxis": {
            "gridcolor": "white",
            "linecolor": "white",
            "ticks": ""
           },
           "baxis": {
            "gridcolor": "white",
            "linecolor": "white",
            "ticks": ""
           },
           "bgcolor": "#E5ECF6",
           "caxis": {
            "gridcolor": "white",
            "linecolor": "white",
            "ticks": ""
           }
          },
          "title": {
           "x": 0.05
          },
          "xaxis": {
           "automargin": true,
           "gridcolor": "white",
           "linecolor": "white",
           "ticks": "",
           "title": {
            "standoff": 15
           },
           "zerolinecolor": "white",
           "zerolinewidth": 2
          },
          "yaxis": {
           "automargin": true,
           "gridcolor": "white",
           "linecolor": "white",
           "ticks": "",
           "title": {
            "standoff": 15
           },
           "zerolinecolor": "white",
           "zerolinewidth": 2
          }
         }
        },
        "title": {
         "text": "DEATHS"
        }
       }
      },
      "text/html": [
       "<div>\n",
       "        \n",
       "        \n",
       "            <div id=\"e21d2cd9-51c4-40e0-ba5b-dc43481368e2\" class=\"plotly-graph-div\" style=\"height:525px; width:100%;\"></div>\n",
       "            <script type=\"text/javascript\">\n",
       "                require([\"plotly\"], function(Plotly) {\n",
       "                    window.PLOTLYENV=window.PLOTLYENV || {};\n",
       "                    \n",
       "                if (document.getElementById(\"e21d2cd9-51c4-40e0-ba5b-dc43481368e2\")) {\n",
       "                    Plotly.newPlot(\n",
       "                        'e21d2cd9-51c4-40e0-ba5b-dc43481368e2',\n",
       "                        [{\"type\": \"scatter\", \"y\": [\"21\", \"22\", \"27\", \"30\", \"31\", \"31\", \"38\", \"38\", \"38\", \"40\", \"41\", \"41\", \"41\", \"41\", \"41\", \"48\", \"50\", \"50\", \"51\", \"57\", \"60\", \"60\", \"60\", \"63\", \"63\", \"63\", \"63\", \"68\", \"69\", \"69\", \"69\", \"73\", \"86\", \"87\", \"91\", \"93\", \"93\", \"93\", \"97\", \"102\", \"106\", \"112\", \"116\", \"116\", \"116\", \"120\", \"132\", \"150\", \"153\", \"155\", \"155\", \"157\", \"160\", \"171\", \"201\", \"211\", \"218\", \"218\", \"217\", \"217\", \"217\", \"217\", \"218\", \"219\", \"225\", \"233\", \"237\", \"256\", \"263\", \"264\", \"275\", \"275\", \"275\", \"276\", \"276\", \"282\", \"288\", \"288\", \"301\", \"324\", \"341\", \"348\", \"348\", \"348\", \"348\", \"348\", \"349\", \"388\", \"400\", \"414\", \"414\", \"414\", \"419\", \"452\", \"457\", \"458\", \"458\", \"458\", \"459\", \"479\", \"504\", \"517\", \"545\", \"552\", \"553\", \"582\", \"582\", \"582\", \"582\", \"582\", \"588\", \"622\", \"655\", \"684\", \"687\", \"698\", \"778\", \"782\", \"784\", \"784\", \"784\", \"785\", \"785\", \"817\", \"878\", \"910\", \"928\", \"935\", \"963\", \"1032\", \"1032\", \"1032\", \"1036\", \"1036\", \"1037\", \"1080\", \"1143\", \"1177\", \"1201\", \"1293\", \"1297\", \"1300\", \"1301\", \"1301\", \"1304\", \"1304\", \"1321\", \"1429\", \"1513\", \"1546\", \"1591\", \"1692\", \"1704\", \"1704\", \"1704\", \"1704\", \"1704\", \"1704\", \"1730\", \"1937\", \"1979\", \"1997\", \"2211\", \"2221\", \"2227\", \"2228\", \"2229\", \"2229\", \"2229\", \"2229\", \"2238\", \"2363\", \"2431\", \"2449\", \"2471\", \"2484\", \"2488\", \"2488\", \"2489\", \"2489\", \"2490\", \"2600\", \"2616\", \"2870\", \"2951\", \"2974\", \"3148\", \"3165\", \"3167\", \"3170\", \"3173\", \"3173\", \"3175\", \"3182\", \"3424\", \"3573\", \"3807\", \"3867\", \"3889\", \"4054\", \"4055\", \"4056\", \"4059\", \"4059\", \"4099\", \"4394\", \"4528\", \"4713\", \"4759\", \"5102\", \"5110\", \"5110\", \"5112\", \"5112\", \"5112\", \"5140\", \"5227\", \"5356\", \"5665\", \"5883\", \"5883\", \"6070\", \"6075\", \"6075\", \"6095\", \"6095\", \"6095\", \"6095\", \"6098\", \"6099\", \"6603\", \"6803\", \"6988\", \"7087\", \"7391\", \"7392\"]}],\n",
       "                        {\"template\": {\"data\": {\"bar\": [{\"error_x\": {\"color\": \"#2a3f5f\"}, \"error_y\": {\"color\": \"#2a3f5f\"}, \"marker\": {\"line\": {\"color\": \"#E5ECF6\", \"width\": 0.5}}, \"type\": \"bar\"}], \"barpolar\": [{\"marker\": {\"line\": {\"color\": \"#E5ECF6\", \"width\": 0.5}}, \"type\": \"barpolar\"}], \"carpet\": [{\"aaxis\": {\"endlinecolor\": \"#2a3f5f\", \"gridcolor\": \"white\", \"linecolor\": \"white\", \"minorgridcolor\": \"white\", \"startlinecolor\": \"#2a3f5f\"}, \"baxis\": {\"endlinecolor\": \"#2a3f5f\", \"gridcolor\": \"white\", \"linecolor\": \"white\", \"minorgridcolor\": \"white\", \"startlinecolor\": \"#2a3f5f\"}, \"type\": \"carpet\"}], \"choropleth\": [{\"colorbar\": {\"outlinewidth\": 0, \"ticks\": \"\"}, \"type\": \"choropleth\"}], \"contour\": [{\"colorbar\": {\"outlinewidth\": 0, \"ticks\": \"\"}, \"colorscale\": [[0.0, \"#0d0887\"], [0.1111111111111111, \"#46039f\"], [0.2222222222222222, \"#7201a8\"], [0.3333333333333333, \"#9c179e\"], [0.4444444444444444, \"#bd3786\"], [0.5555555555555556, \"#d8576b\"], [0.6666666666666666, \"#ed7953\"], [0.7777777777777778, \"#fb9f3a\"], [0.8888888888888888, \"#fdca26\"], [1.0, \"#f0f921\"]], \"type\": \"contour\"}], \"contourcarpet\": [{\"colorbar\": {\"outlinewidth\": 0, \"ticks\": \"\"}, \"type\": \"contourcarpet\"}], \"heatmap\": [{\"colorbar\": {\"outlinewidth\": 0, \"ticks\": \"\"}, \"colorscale\": [[0.0, \"#0d0887\"], [0.1111111111111111, \"#46039f\"], [0.2222222222222222, \"#7201a8\"], [0.3333333333333333, \"#9c179e\"], [0.4444444444444444, \"#bd3786\"], [0.5555555555555556, \"#d8576b\"], [0.6666666666666666, \"#ed7953\"], [0.7777777777777778, \"#fb9f3a\"], [0.8888888888888888, \"#fdca26\"], [1.0, \"#f0f921\"]], \"type\": \"heatmap\"}], \"heatmapgl\": [{\"colorbar\": {\"outlinewidth\": 0, \"ticks\": \"\"}, \"colorscale\": [[0.0, \"#0d0887\"], [0.1111111111111111, \"#46039f\"], [0.2222222222222222, \"#7201a8\"], [0.3333333333333333, \"#9c179e\"], [0.4444444444444444, \"#bd3786\"], [0.5555555555555556, \"#d8576b\"], [0.6666666666666666, \"#ed7953\"], [0.7777777777777778, \"#fb9f3a\"], [0.8888888888888888, \"#fdca26\"], [1.0, \"#f0f921\"]], \"type\": \"heatmapgl\"}], \"histogram\": [{\"marker\": {\"colorbar\": {\"outlinewidth\": 0, \"ticks\": \"\"}}, \"type\": \"histogram\"}], \"histogram2d\": [{\"colorbar\": {\"outlinewidth\": 0, \"ticks\": \"\"}, \"colorscale\": [[0.0, \"#0d0887\"], [0.1111111111111111, \"#46039f\"], [0.2222222222222222, \"#7201a8\"], [0.3333333333333333, \"#9c179e\"], [0.4444444444444444, \"#bd3786\"], [0.5555555555555556, \"#d8576b\"], [0.6666666666666666, \"#ed7953\"], [0.7777777777777778, \"#fb9f3a\"], [0.8888888888888888, \"#fdca26\"], [1.0, \"#f0f921\"]], \"type\": \"histogram2d\"}], \"histogram2dcontour\": [{\"colorbar\": {\"outlinewidth\": 0, \"ticks\": \"\"}, \"colorscale\": [[0.0, \"#0d0887\"], [0.1111111111111111, \"#46039f\"], [0.2222222222222222, \"#7201a8\"], [0.3333333333333333, \"#9c179e\"], [0.4444444444444444, \"#bd3786\"], [0.5555555555555556, \"#d8576b\"], [0.6666666666666666, \"#ed7953\"], [0.7777777777777778, \"#fb9f3a\"], [0.8888888888888888, \"#fdca26\"], [1.0, \"#f0f921\"]], \"type\": \"histogram2dcontour\"}], \"mesh3d\": [{\"colorbar\": {\"outlinewidth\": 0, \"ticks\": \"\"}, \"type\": \"mesh3d\"}], \"parcoords\": [{\"line\": {\"colorbar\": {\"outlinewidth\": 0, \"ticks\": \"\"}}, \"type\": \"parcoords\"}], \"pie\": [{\"automargin\": true, \"type\": \"pie\"}], \"scatter\": [{\"marker\": {\"colorbar\": {\"outlinewidth\": 0, \"ticks\": \"\"}}, \"type\": \"scatter\"}], \"scatter3d\": [{\"line\": {\"colorbar\": {\"outlinewidth\": 0, \"ticks\": \"\"}}, \"marker\": {\"colorbar\": {\"outlinewidth\": 0, \"ticks\": \"\"}}, \"type\": \"scatter3d\"}], \"scattercarpet\": [{\"marker\": {\"colorbar\": {\"outlinewidth\": 0, \"ticks\": \"\"}}, \"type\": \"scattercarpet\"}], \"scattergeo\": [{\"marker\": {\"colorbar\": {\"outlinewidth\": 0, \"ticks\": \"\"}}, \"type\": \"scattergeo\"}], \"scattergl\": [{\"marker\": {\"colorbar\": {\"outlinewidth\": 0, \"ticks\": \"\"}}, \"type\": \"scattergl\"}], \"scattermapbox\": [{\"marker\": {\"colorbar\": {\"outlinewidth\": 0, \"ticks\": \"\"}}, \"type\": \"scattermapbox\"}], \"scatterpolar\": [{\"marker\": {\"colorbar\": {\"outlinewidth\": 0, \"ticks\": \"\"}}, \"type\": \"scatterpolar\"}], \"scatterpolargl\": [{\"marker\": {\"colorbar\": {\"outlinewidth\": 0, \"ticks\": \"\"}}, \"type\": \"scatterpolargl\"}], \"scatterternary\": [{\"marker\": {\"colorbar\": {\"outlinewidth\": 0, \"ticks\": \"\"}}, \"type\": \"scatterternary\"}], \"surface\": [{\"colorbar\": {\"outlinewidth\": 0, \"ticks\": \"\"}, \"colorscale\": [[0.0, \"#0d0887\"], [0.1111111111111111, \"#46039f\"], [0.2222222222222222, \"#7201a8\"], [0.3333333333333333, \"#9c179e\"], [0.4444444444444444, \"#bd3786\"], [0.5555555555555556, \"#d8576b\"], [0.6666666666666666, \"#ed7953\"], [0.7777777777777778, \"#fb9f3a\"], [0.8888888888888888, \"#fdca26\"], [1.0, \"#f0f921\"]], \"type\": \"surface\"}], \"table\": [{\"cells\": {\"fill\": {\"color\": \"#EBF0F8\"}, \"line\": {\"color\": \"white\"}}, \"header\": {\"fill\": {\"color\": \"#C8D4E3\"}, \"line\": {\"color\": \"white\"}}, \"type\": \"table\"}]}, \"layout\": {\"annotationdefaults\": {\"arrowcolor\": \"#2a3f5f\", \"arrowhead\": 0, \"arrowwidth\": 1}, \"coloraxis\": {\"colorbar\": {\"outlinewidth\": 0, \"ticks\": \"\"}}, \"colorscale\": {\"diverging\": [[0, \"#8e0152\"], [0.1, \"#c51b7d\"], [0.2, \"#de77ae\"], [0.3, \"#f1b6da\"], [0.4, \"#fde0ef\"], [0.5, \"#f7f7f7\"], [0.6, \"#e6f5d0\"], [0.7, \"#b8e186\"], [0.8, \"#7fbc41\"], [0.9, \"#4d9221\"], [1, \"#276419\"]], \"sequential\": [[0.0, \"#0d0887\"], [0.1111111111111111, \"#46039f\"], [0.2222222222222222, \"#7201a8\"], [0.3333333333333333, \"#9c179e\"], [0.4444444444444444, \"#bd3786\"], [0.5555555555555556, \"#d8576b\"], [0.6666666666666666, \"#ed7953\"], [0.7777777777777778, \"#fb9f3a\"], [0.8888888888888888, \"#fdca26\"], [1.0, \"#f0f921\"]], \"sequentialminus\": [[0.0, \"#0d0887\"], [0.1111111111111111, \"#46039f\"], [0.2222222222222222, \"#7201a8\"], [0.3333333333333333, \"#9c179e\"], [0.4444444444444444, \"#bd3786\"], [0.5555555555555556, \"#d8576b\"], [0.6666666666666666, \"#ed7953\"], [0.7777777777777778, \"#fb9f3a\"], [0.8888888888888888, \"#fdca26\"], [1.0, \"#f0f921\"]]}, \"colorway\": [\"#636efa\", \"#EF553B\", \"#00cc96\", \"#ab63fa\", \"#FFA15A\", \"#19d3f3\", \"#FF6692\", \"#B6E880\", \"#FF97FF\", \"#FECB52\"], \"font\": {\"color\": \"#2a3f5f\"}, \"geo\": {\"bgcolor\": \"white\", \"lakecolor\": \"white\", \"landcolor\": \"#E5ECF6\", \"showlakes\": true, \"showland\": true, \"subunitcolor\": \"white\"}, \"hoverlabel\": {\"align\": \"left\"}, \"hovermode\": \"closest\", \"mapbox\": {\"style\": \"light\"}, \"paper_bgcolor\": \"white\", \"plot_bgcolor\": \"#E5ECF6\", \"polar\": {\"angularaxis\": {\"gridcolor\": \"white\", \"linecolor\": \"white\", \"ticks\": \"\"}, \"bgcolor\": \"#E5ECF6\", \"radialaxis\": {\"gridcolor\": \"white\", \"linecolor\": \"white\", \"ticks\": \"\"}}, \"scene\": {\"xaxis\": {\"backgroundcolor\": \"#E5ECF6\", \"gridcolor\": \"white\", \"gridwidth\": 2, \"linecolor\": \"white\", \"showbackground\": true, \"ticks\": \"\", \"zerolinecolor\": \"white\"}, \"yaxis\": {\"backgroundcolor\": \"#E5ECF6\", \"gridcolor\": \"white\", \"gridwidth\": 2, \"linecolor\": \"white\", \"showbackground\": true, \"ticks\": \"\", \"zerolinecolor\": \"white\"}, \"zaxis\": {\"backgroundcolor\": \"#E5ECF6\", \"gridcolor\": \"white\", \"gridwidth\": 2, \"linecolor\": \"white\", \"showbackground\": true, \"ticks\": \"\", \"zerolinecolor\": \"white\"}}, \"shapedefaults\": {\"line\": {\"color\": \"#2a3f5f\"}}, \"ternary\": {\"aaxis\": {\"gridcolor\": \"white\", \"linecolor\": \"white\", \"ticks\": \"\"}, \"baxis\": {\"gridcolor\": \"white\", \"linecolor\": \"white\", \"ticks\": \"\"}, \"bgcolor\": \"#E5ECF6\", \"caxis\": {\"gridcolor\": \"white\", \"linecolor\": \"white\", \"ticks\": \"\"}}, \"title\": {\"x\": 0.05}, \"xaxis\": {\"automargin\": true, \"gridcolor\": \"white\", \"linecolor\": \"white\", \"ticks\": \"\", \"title\": {\"standoff\": 15}, \"zerolinecolor\": \"white\", \"zerolinewidth\": 2}, \"yaxis\": {\"automargin\": true, \"gridcolor\": \"white\", \"linecolor\": \"white\", \"ticks\": \"\", \"title\": {\"standoff\": 15}, \"zerolinecolor\": \"white\", \"zerolinewidth\": 2}}}, \"title\": {\"text\": \"DEATHS\"}},\n",
       "                        {\"responsive\": true}\n",
       "                    ).then(function(){\n",
       "                            \n",
       "var gd = document.getElementById('e21d2cd9-51c4-40e0-ba5b-dc43481368e2');\n",
       "var x = new MutationObserver(function (mutations, observer) {{\n",
       "        var display = window.getComputedStyle(gd).display;\n",
       "        if (!display || display === 'none') {{\n",
       "            console.log([gd, 'removed!']);\n",
       "            Plotly.purge(gd);\n",
       "            observer.disconnect();\n",
       "        }}\n",
       "}});\n",
       "\n",
       "// Listen for the removal of the full notebook cells\n",
       "var notebookContainer = gd.closest('#notebook-container');\n",
       "if (notebookContainer) {{\n",
       "    x.observe(notebookContainer, {childList: true});\n",
       "}}\n",
       "\n",
       "// Listen for the clearing of the current output cell\n",
       "var outputEl = gd.closest('.output');\n",
       "if (outputEl) {{\n",
       "    x.observe(outputEl, {childList: true});\n",
       "}}\n",
       "\n",
       "                        })\n",
       "                };\n",
       "                });\n",
       "            </script>\n",
       "        </div>"
      ]
     },
     "metadata": {},
     "output_type": "display_data"
    }
   ],
   "source": [
    "import plotly.graph_objects as go\n",
    "fig = go.Figure()\n",
    "fig.add_trace(go.Scatter(y=DEATHS))\n",
    "#fig.add_trace(go.Bar(y=CASES))\n",
    "fig.update_layout(title = 'DEATHS')\n",
    "fig.show()"
   ]
  },
  {
   "cell_type": "code",
   "execution_count": 518,
   "metadata": {},
   "outputs": [],
   "source": [
    "## Offset the deaths and the confirmation by 5 days\n",
    "#If they die people who get confirmed are ill at least five days"
   ]
  },
  {
   "cell_type": "code",
   "execution_count": 519,
   "metadata": {},
   "outputs": [
    {
     "data": {
      "text/plain": [
       "((7392, 123578), 0.05981647218760621)"
      ]
     },
     "execution_count": 519,
     "metadata": {},
     "output_type": "execute_result"
    }
   ],
   "source": [
    "def mort(days,CASES=CASES,DEATHS=DEATHS):\n",
    "    span=days*12\n",
    "    start=len(CASES)-1\n",
    "    num = len(CASES)-span\n",
    "    for x in range(start,num,-12):\n",
    "        dates = (int(DEATHS[x]),int(CASES[x-span]))\n",
    "        mortality = (int(DEATHS[x])/int(CASES[x-span]))\n",
    "        return dates,mortality\n",
    "\n",
    "days= 6\n",
    "mort(days,CASES=CASES,DEATHS=DEATHS)"
   ]
  },
  {
   "cell_type": "code",
   "execution_count": 520,
   "metadata": {},
   "outputs": [
    {
     "name": "stdout",
     "output_type": "stream",
     "text": [
      "DEATHS: (7392, 104126)\n",
      "Mortality: 0.07099091485315867\n",
      "DEATHS: (6075, 85280)\n",
      "Mortality: 0.0712359287054409\n",
      "DEATHS: (5110, 65797)\n",
      "Mortality: 0.07766311533960515\n",
      "DEATHS: (4054, 53655)\n",
      "Mortality: 0.07555679806169043\n",
      "DEATHS: (3165, 43718)\n",
      "Mortality: 0.07239580950638182\n",
      "DEATHS: (2484, 33346)\n",
      "Mortality: 0.0744916931566005\n",
      "DEATHS: (2221, 26111)\n",
      "Mortality: 0.08505993642526138\n"
     ]
    }
   ],
   "source": [
    "def RunningMort(days,CASES=CASES,DEATHS=DEATHS):\n",
    "    span=days*12\n",
    "    start=len(CASES)-1\n",
    "    num = len(CASES)-span\n",
    "    for x in range(start,num,-12):\n",
    "        print (\"DEATHS:\", (int(DEATHS[x]),int(CASES[x-span])))\n",
    "        print (\"Mortality:\" , (int(DEATHS[x])/int(CASES[x-span])))\n",
    "\n",
    "days= 7\n",
    "RunningMort(days,CASES=CASES,DEATHS=DEATHS)"
   ]
  },
  {
   "cell_type": "code",
   "execution_count": 521,
   "metadata": {},
   "outputs": [],
   "source": [
    "days= 7\n",
    "\n",
    "span=days*12\n",
    "num = len(CASES)-span\n",
    "for x in range(128,num,-12):\n",
    "    print (int(DEATHS[x]),int(CASES[x-span]))\n",
    "    print (int(DEATHS[x])/int(CASES[x-span]))"
   ]
  },
  {
   "cell_type": "code",
   "execution_count": 522,
   "metadata": {},
   "outputs": [
    {
     "name": "stdout",
     "output_type": "stream",
     "text": [
      "66741\n"
     ]
    }
   ],
   "source": [
    " print (CASES[128])"
   ]
  },
  {
   "cell_type": "markdown",
   "metadata": {},
   "source": [
    "deaths-1036/ cases-68581 from todays data that equals .01510 a little over one and a half percent\n",
    "but the truth is the deaths are not relevant to todays confirmations it \n",
    "is relevant to the confirmations about a week ago (26111)\n",
    "1036/26111 gives it a mortality of .039676 "
   ]
  },
  {
   "cell_type": "code",
   "execution_count": 523,
   "metadata": {},
   "outputs": [
    {
     "data": {
      "text/plain": [
       "0.03967676458197694"
      ]
     },
     "execution_count": 523,
     "metadata": {},
     "output_type": "execute_result"
    }
   ],
   "source": [
    "1036/26111"
   ]
  },
  {
   "cell_type": "code",
   "execution_count": null,
   "metadata": {},
   "outputs": [],
   "source": []
  },
  {
   "cell_type": "markdown",
   "metadata": {},
   "source": [
    "# Create CSV"
   ]
  },
  {
   "cell_type": "code",
   "execution_count": 547,
   "metadata": {},
   "outputs": [
    {
     "name": "stdout",
     "output_type": "stream",
     "text": [
      "Overwriting data.csv\n"
     ]
    }
   ],
   "source": [
    "%%writefile data.csv\n",
    "Date Time Timestamp HoursSinceUpdate ConfirmedCases Deaths\n",
    "09/03/2020,04:30:00,1583699400,10.56,589,22\n",
    "10/03/2020,05:30:00,1583789400,25.0,708,27\n",
    "10/03/2020,23:35:00,1583854500,18.08,975,30\n",
    "11/03/2020,04:25:00,1583871900,4.83,1010,31\n",
    "11/03/2020,15:17:00,1583911020,10.87,1016,31\n",
    "11/03/2020,23:35:00,1583940900,8.3,1301,38\n",
    "12/03/2020,03:25:00,1583954700,3.83,1327,38\n",
    "12/03/2020,11:37:00,1583984220,8.2,1336,38\n",
    "12/03/2020,22:00:00,1584021600,10.38,1639,40\n",
    "13/03/2020,00:05:00,1584029100,2.08,1715,41\n",
    "13/03/2020,01:35:00,1584034500,1.5,1725,41\n",
    "13/03/2020,03:45:00,1584042300,2.17,1747,41\n",
    "13/03/2020,06:00:00,1584050400,2.25,1762,41\n",
    "13/03/2020,15:25:00,1584084300,9.42,1832,41\n",
    "13/03/2020,22:25:00,1584109500,7.0,2269,48\n",
    "14/03/2020,02:40:00,1584124800,4.25,2291,50\n",
    "14/03/2020,07:14:00,1584141240,4.57,2319,50\n",
    "14/03/2020,16:45:00,1584175500,9.52,2499,51\n",
    "14/03/2020,23:03:00,1584198180,6.3,2836,57\n",
    "15/03/2020,05:00:00,1584219600,5.95,2982,60\n",
    "15/03/2020,05:40:00,1584222000,0.67,2995,60\n",
    "15/03/2020,07:05:00,1584227100,1.42,3043,60\n",
    "15/03/2020,19:00:00,1584270000,11.92,3329,63\n",
    "15/03/2020,20:05:00,1584273900,1.08,3400,63\n",
    "15/03/2020,21:15:00,1584278100,1.17,3621,63\n",
    "15/03/2020,22:15:00,1584281700,1.0,3502,63\n",
    "16/03/2020,00:35:00,1584290100,2.33,3714,68\n",
    "16/03/2020,02:48:00,1584298080,2.22,3777,69\n",
    "16/03/2020,05:36:00,1584308160,2.8,3782,69\n",
    "16/03/2020,08:29:00,1584318540,2.88,3802,69\n",
    "16/03/2020,18:40:00,1584355200,10.18,4186,73\n",
    "16/03/2020,22:40:00,1584369600,4.0,4597,86\n",
    "17/03/2020,00:45:00,1584377100,2.08,4667,87\n",
    "17/03/2020,02:40:00,1584384000,1.92,4704,91\n",
    "17/03/2020,06:35:00,1584398100,3.92,4727,93\n",
    "17/03/2020,10:31:00,1584412260,3.93,4743,93\n",
    "17/03/2020,14:38:00,1584427080,4.12,4752,93\n",
    "17/03/2020,18:41:00,1584441660,4.05,5723,97\n",
    "17/03/2020,21:55:00,1584453300,3.23,6211,102\n",
    "17/03/2020,22:40:00,1584456000,0.75,6349,106\n",
    "18/03/2020,02:20:00,1584469200,3.67,6499,112\n",
    "18/03/2020,06:05:00,1584482700,3.75,6522,116\n",
    "18/03/2020,10:10:00,1584497400,4.08,6524,116\n",
    "18/03/2020,16:15:00,1584519300,6.08,7601,116\n",
    "18/03/2020,18:16:00,1584526560,2.02,7708,120\n",
    "18/03/2020,20:21:00,1584534060,2.08,8710,132\n",
    "18/03/2020,22:10:00,1584540600,1.82,8998,150\n",
    "19/03/2020,02:17:00,1584555420,4.12,9371,153\n",
    "19/03/2020,10:16:00,1584584160,7.98,9464,155\n",
    "19/03/2020,12:18:00,1584591480,2.03,9473,155\n",
    "19/03/2020,14:15:00,1584598500,1.95,9486,157\n",
    "19/03/2020,16:22:00,1584606120,2.12,10692,160\n",
    "19/03/2020,18:17:00,1584613020,1.92,11355,171\n",
    "19/03/2020,22:45:00,1584629100,4.47,13737,201\n",
    "20/03/2020,00:48:00,1584636480,2.05,13865,211\n",
    "20/03/2020,02:40:00,1584643200,1.87,14316,218\n",
    "20/03/2020,04:34:00,1584650040,1.9,14336,218\n",
    "20/03/2020,06:35:00,1584657300,2.02,14366,217\n",
    "20/03/2020,08:10:00,1584663000,1.58,14366,217\n",
    "20/03/2020,10:11:00,1584670260,2.02,14366,217\n",
    "20/03/2020,12:11:00,1584677460,2.0,14366,217\n",
    "20/03/2020,14:10:00,1584684600,1.98,14373,218\n",
    "20/03/2020,16:11:00,1584691860,2.02,16067,219\n",
    "20/03/2020,18:12:00,1584699120,2.02,16545,225\n",
    "20/03/2020,20:12:00,1584706320,2.0,18121,233\n",
    "20/03/2020,22:12:00,1584713520,2.0,18876,237\n",
    "21/03/2020,00:06:00,1584720360,1.9,19393,256\n",
    "21/03/2020,02:07:00,1584727620,2.02,19643,263\n",
    "21/03/2020,04:08:00,1584734880,2.02,19652,264\n",
    "21/03/2020,06:05:00,1584741900,1.95,19774,275\n",
    "21/03/2020,08:10:00,1584749400,2.08,19774,275\n",
    "21/03/2020,10:12:00,1584756720,2.03,19774,275\n",
    "21/03/2020,12:46:00,1584765960,2.57,19775,276\n",
    "21/03/2020,14:48:00,1584773280,2.03,19823,276\n",
    "21/03/2020,16:48:00,1584780480,2.0,22085,282\n",
    "21/03/2020,18:45:00,1584787500,1.95,22813,288\n",
    "21/03/2020,20:45:00,1584794700,2.0,24142,288\n",
    "21/03/2020,22:45:00,1584801900,2.0,23940,301\n",
    "22/03/2020,00:40:00,1584808800,1.92,26111,324\n",
    "22/03/2020,02:40:00,1584816000,2.0,26711,341\n",
    "22/03/2020,04:45:00,1584823500,2.08,26867,348\n",
    "22/03/2020,06:30:00,1584829800,1.75,26892,348\n",
    "22/03/2020,08:45:00,1584837900,2.25,26892,348\n",
    "22/03/2020,10:45:00,1584845100,2.0,26900,348\n",
    "22/03/2020,12:48:00,1584852480,2.05,26905,348\n",
    "22/03/2020,14:45:00,1584859500,1.95,27031,349\n",
    "22/03/2020,16:42:00,1584866520,1.95,30239,388\n",
    "22/03/2020,18:48:00,1584874080,2.1,38757,400\n",
    "22/03/2020,20:44:00,1584881040,1.93,32356,414\n",
    "22/03/2020,21:41:00,1584884460,0.95,32356,414\n",
    "23/03/2020,00:44:00,1584895440,3.05,33346,414\n",
    "23/03/2020,02:37:00,1584902220,1.88,33546,419\n",
    "23/03/2020,03:55:00,1584906900,1.3,34717,452\n",
    "23/03/2020,06:45:00,1584917100,2.83,35060,457\n",
    "23/03/2020,08:47:00,1584924420,2.03,35070,458\n",
    "23/03/2020,10:47:00,1584931620,2.0,35070,458\n",
    "23/03/2020,12:46:00,1584938760,1.98,35075,458\n",
    "23/03/2020,14:45:00,1584945900,1.98,35179,459\n",
    "23/03/2020,16:45:00,1584953100,2.0,40773,479\n",
    "23/03/2020,18:46:00,1584960360,2.02,41569,504\n",
    "23/03/2020,20:47:00,1584967620,2.02,42443,517\n",
    "23/03/2020,22:31:00,1584973860,1.73,43449,545\n",
    "24/03/2020,00:47:00,1584982020,2.27,43718,552\n",
    "24/03/2020,02:33:00,1584988380,1.77,43734,553\n",
    "24/03/2020,04:46:00,1584996360,2.22,46145,582\n",
    "24/03/2020,06:43:00,1585003380,1.95,46145,582\n",
    "24/03/2020,08:48:00,1585010880,2.08,46145,582\n",
    "24/03/2020,10:47:00,1585018020,1.98,46168,582\n",
    "24/03/2020,12:47:00,1585025220,2.0,46168,582\n",
    "24/03/2020,14:47:00,1585032420,2.0,46274,588\n",
    "24/03/2020,16:47:00,1585039620,2.0,49594,622\n",
    "24/03/2020,18:45:00,1585046700,1.97,50982,655\n",
    "24/03/2020,20:42:00,1585053720,1.95,52921,684\n",
    "24/03/2020,22:48:00,1585061280,2.1,53205,687\n",
    "25/03/2020,00:29:00,1585067340,1.68,53655,698\n",
    "25/03/2020,02:44:00,1585075440,2.25,54823,778\n",
    "25/03/2020,04:46:00,1585082760,2.03,54867,782\n",
    "25/03/2020,06:47:00,1585090020,2.02,54916,784\n",
    "25/03/2020,08:48:00,1585097280,2.02,54935,784\n",
    "25/03/2020,10:43:00,1585104180,1.92,54941,784\n",
    "25/03/2020,12:48:00,1585111680,2.08,54979,785\n",
    "25/03/2020,14:48:00,1585118880,2.0,55081,785\n",
    "25/03/2020,16:48:00,1585126080,2.0,60642,817\n",
    "25/03/2020,18:48:00,1585133280,2.0,62364,878\n",
    "25/03/2020,20:33:00,1585139580,1.75,64765,910\n",
    "25/03/2020,22:44:00,1585147440,2.18,65527,928\n",
    "26/03/2020,00:34:00,1585154040,1.83,65797,935\n",
    "26/03/2020,02:43:00,1585161780,2.15,66741,963\n",
    "26/03/2020,05:24:00,1585171440,2.68,68472,1032\n",
    "26/03/2020,07:03:00,1585177380,1.65,68489,1032\n",
    "26/03/2020,09:02:00,1585184520,1.98,68489,1032\n",
    "26/03/2020,11:02:00,1585191720,2.0,68581,1036\n",
    "26/03/2020,13:01:00,1585198860,1.98,68594,1036\n",
    "26/03/2020,14:52:00,1585205520,1.85,68905,1037\n",
    "26/03/2020,17:02:00,1585213320,2.17,75069,1080\n",
    "26/03/2020,19:00:00,1585220400,1.97,79082,1143\n",
    "26/03/2020,21:01:00,1585227660,2.02,81946,1177\n",
    "26/03/2020,23:02:00,1585234920,2.02,83206,1201\n",
    "27/03/2020,01:00:00,1585242000,1.97,85280,1293\n",
    "27/03/2020,03:01:00,1585249260,2.02,85520,1297\n",
    "27/03/2020,04:36:00,1585254960,1.58,85594,1300\n",
    "27/03/2020,07:33:00,1585265580,2.95,85612,1301\n",
    "27/03/2020,09:32:00,1585272720,1.98,85612,1301\n",
    "27/03/2020,11:31:00,1585279860,1.98,85749,1304\n",
    "27/03/2020,13:32:00,1585287120,2.02,85755,1304\n",
    "27/03/2020,15:33:00,1585294380,2.02,86548,1321\n",
    "27/03/2020,17:32:00,1585301520,1.98,94425,1429\n",
    "27/03/2020,19:33:00,1585308780,2.02,98180,1513\n",
    "27/03/2020,21:33:00,1585315980,2.0,100514,1546\n",
    "27/03/2020,23:33:00,1585323180,2.0,102325,1591\n",
    "28/03/2020,01:32:00,1585330320,1.98,104126,1692\n",
    "28/03/2020,03:34:00,1585337640,2.03,104205,1704\n",
    "28/03/2020,05:35:00,1585344900,2.02,104205,1704\n",
    "28/03/2020,07:35:00,1585352100,2.0,104256,1704\n",
    "28/03/2020,09:35:00,1585359300,2.0,104256,1704\n",
    "28/03/2020,11:40:00,1585366800,2.08,104256,1704\n",
    "28/03/2020,13:36:00,1585373760,1.93,104277,1704\n",
    "28/03/2020,15:45:00,1585381500,2.15,105726,1730\n",
    "28/03/2020,17:45:00,1585388700,2.0,116050,1937\n",
    "28/03/2020,19:43:00,1585395780,1.97,118592,1979\n",
    "28/03/2020,21:44:00,1585403040,2.02,120204,1997\n",
    "28/03/2020,23:43:00,1585410180,1.98,123311,2211\n",
    "29/03/2020,01:46:00,1585417560,2.05,123578,2221\n",
    "29/03/2020,03:46:00,1585424760,2.0,123750,2227\n",
    "29/03/2020,05:48:00,1585432080,2.03,123774,2228\n",
    "29/03/2020,07:41:00,1585438860,1.88,123776,2229\n",
    "29/03/2020,09:45:00,1585446300,2.07,123781,2229\n",
    "29/03/2020,11:44:00,1585453440,1.98,123781,2229\n",
    "29/03/2020,13:46:00,1585460760,2.03,123828,2229\n",
    "29/03/2020,15:47:00,1585468020,2.02,125099,2238\n",
    "29/03/2020,17:49:00,1585475340,2.03,133146,2363\n",
    "29/03/2020,19:47:00,1585482420,1.97,137943,2431\n",
    "29/03/2020,21:48:00,1585489680,2.02,139904,2449\n",
    "29/03/2020,23:49:00,1585496940,2.02,141781,2471\n",
    "30/03/2020,01:44:00,1585503840,1.92,142004,2484\n",
    "30/03/2020,03:46:00,1585511160,2.03,142735,2488\n",
    "30/03/2020,06:46:00,1585521960,3.0,142735,2488\n",
    "30/03/2020,08:50:00,1585529400,2.07,142735,2489\n",
    "30/03/2020,10:50:00,1585536600,2.0,142746,2489\n",
    "30/03/2020,12:50:00,1585543800,2.0,142793,2490\n",
    "30/03/2020,14:50:00,1585551000,2.0,144410,2600\n",
    "30/03/2020,16:50:00,1585558200,2.0,145542,2616\n",
    "30/03/2020,18:50:00,1585565400,2.0,156565,2870\n",
    "30/03/2020,20:50:00,1585572600,2.0,159689,2951\n",
    "30/03/2020,22:50:00,1585579800,2.0,161358,2974\n",
    "31/03/2020,00:50:00,1585587000,2.0,163479,3148\n",
    "31/03/2020,02:50:00,1585594200,2.0,164253,3165\n",
    "31/03/2020,04:50:00,1585601400,2.0,164253,3167\n",
    "31/03/2020,06:50:00,1585608600,2.0,164323,3170\n",
    "31/03/2020,08:42:00,1585615320,1.87,164359,3173\n",
    "31/03/2020,10:49:00,1585622940,2.12,164359,3173\n",
    "31/03/2020,12:49:00,1585630140,2.0,164435,3175\n",
    "31/03/2020,14:49:00,1585637340,2.0,165392,3182\n",
    "31/03/2020,16:49:00,1585644540,2.0,175669,3424\n",
    "31/03/2020,18:49:00,1585651740,2.0,180340,3573\n",
    "31/03/2020,20:49:00,1585658940,2.0,186046,3807\n",
    "31/03/2020,22:49:00,1585666140,2.0,187729,3867\n",
    "01/04/2020,02:49:00,1585680540,4.0,188530,3889\n",
    "01/04/2020,04:49:00,1585687740,2.0,188578,4054\n",
    "01/04/2020,06:49:00,1585694940,2.0,188592,4055\n",
    "01/04/2020,08:49:00,1585702140,2.0,188592,4056\n",
    "01/04/2020,10:49:00,1585709340,2.0,188639,4059\n",
    "01/04/2020,12:49:00,1585716540,2.0,188647,4059\n",
    "01/04/2020,14:49:00,1585723740,2.0,189711,4099\n",
    "01/04/2020,16:49:00,1585730940,2.0,200289,4394\n",
    "01/04/2020,18:49:00,1585738140,2.0,205438,4528\n",
    "01/04/2020,20:49:00,1585745340,2.0,211143,4713\n",
    "01/04/2020,22:49:00,1585752540,2.0,212980,4759\n",
    "02/04/2020,00:49:00,1585759740,2.0,215003,5102\n",
    "02/04/2020,02:49:00,1585766940,2.0,215175,5110\n",
    "02/04/2020,04:49:00,1585774140,2.0,215300,5110\n",
    "02/04/2020,06:49:00,1585781340,2.0,215324,5112\n",
    "02/04/2020,08:49:00,1585788540,2.0,215344,5112\n",
    "02/04/2020,10:49:00,1585795740,2.0,215344,5112\n",
    "02/04/2020,12:49:00,1585802940,2.0,216722,5140\n",
    "02/04/2020,14:49:00,1585810140,2.0,219832,5227\n",
    "02/04/2020,16:49:00,1585817340,2.0,222658,5356\n",
    "02/04/2020,18:49:00,1585824540,2.0,232899,5665\n",
    "02/04/2020,20:49:00,1585831740,2.0,243298,5883\n",
    "02/04/2020,22:19:00,1585837140,1.5,244230,5883\n",
    "03/04/2020,01:20:00,1585848000,3.02,244877,6070\n",
    "03/04/2020,01:36:00,1585848960,0.27,245066,6075\n",
    "03/04/2020,03:20:00,1585855200,1.73,245088,6075\n",
    "03/04/2020,05:20:00,1585862400,2.0,245341,6095\n",
    "03/04/2020,07:20:00,1585869600,2.0,245373,6095\n",
    "03/04/2020,09:20:00,1585876800,2.0,245373,6095\n",
    "03/04/2020,11:20:00,1585884000,2.0,245380,6095\n",
    "03/04/2020,13:20:00,1585891200,2.0,245442,6098\n",
    "03/04/2020,14:49:00,1585896540,1.48,245442,6099\n",
    "03/04/2020,16:49:00,1585903740,2.0,259750,6603\n",
    "03/04/2020,18:49:00,1585910940,2.0,266279,6803\n",
    "03/04/2020,20:49:00,1585918140,2.0,272614,6988 \n",
    "03/04/2020,22:49:00,1585925340,2.0,275802,7087\n",
    "04/04/2020,00:49:00,1585932540,2.0,276965,7391\n",
    "04/04/2020,02:49:00,1585939740,2.0,277161,7392        "
   ]
  },
  {
   "cell_type": "code",
   "execution_count": 525,
   "metadata": {},
   "outputs": [
    {
     "name": "stdout",
     "output_type": "stream",
     "text": [
      "Date Time Timestamp HoursSinceUpdate ConfirmedCases Deaths\n",
      "09/03/2020,04:30:00,1583699400,10.56,589,22\n",
      "10/03/2020,05:30:00,1583789400,25.0,708,27\n",
      "10/03/2020,23:35:00,1583854500,18.08,975,30\n",
      "11/03/2020,04:25:00,1583871900,4.83,1010,31\n",
      "11/03/2020,15:17:00,1583911020,10.87,1016,31\n",
      "11/03/2020,23:35:00,1583940900,8.3,1301,38\n",
      "12/03/2020,03:25:00,1583954700,3.83,1327,38\n",
      "12/03/2020,11:37:00,1583984220,8.2,1336,38\n",
      "12/03/2020,22:00:00,1584021600,10.38,1639,40\n",
      "13/03/2020,00:05:00,1584029100,2.08,1715,41\n",
      "13/03/2020,01:35:00,1584034500,1.5,1725,41\n",
      "13/03/2020,03:45:00,1584042300,2.17,1747,41\n",
      "13/03/2020,06:00:00,1584050400,2.25,1762,41\n",
      "13/03/2020,15:25:00,1584084300,9.42,1832,41\n",
      "13/03/2020,22:25:00,1584109500,7.0,2269,48\n",
      "14/03/2020,02:40:00,1584124800,4.25,2291,50\n",
      "14/03/2020,07:14:00,1584141240,4.57,2319,50\n",
      "14/03/2020,16:45:00,1584175500,9.52,2499,51\n",
      "14/03/2020,23:03:00,1584198180,6.3,2836,57\n",
      "15/03/2020,05:00:00,1584219600,5.95,2982,60\n",
      "15/03/2020,05:40:00,1584222000,0.67,2995,60\n",
      "15/03/2020,07:05:00,1584227100,1.42,3043,60\n",
      "15/03/2020,19:00:00,1584270000,11.92,3329,63\n",
      "15/03/2020,20:05:00,1584273900,1.08,3400,63\n",
      "15/03/2020,21:15:00,1584278100,1.17,3621,63\n",
      "15/03/2020,22:15:00,1584281700,1.0,3502,63\n",
      "16/03/2020,00:35:00,1584290100,2.33,3714,68\n",
      "16/03/2020,02:48:00,1584298080,2.22,3777,69\n",
      "16/03/2020,05:36:00,1584308160,2.8,3782,69\n",
      "16/03/2020,08:29:00,1584318540,2.88,3802,69\n",
      "16/03/2020,18:40:00,1584355200,10.18,4186,73\n",
      "16/03/2020,22:40:00,1584369600,4.0,4597,86\n",
      "17/03/2020,00:45:00,1584377100,2.08,4667,87\n",
      "17/03/2020,02:40:00,1584384000,1.92,4704,91\n",
      "17/03/2020,06:35:00,1584398100,3.92,4727,93\n",
      "17/03/2020,10:31:00,1584412260,3.93,4743,93\n",
      "17/03/2020,14:38:00,1584427080,4.12,4752,93\n",
      "17/03/2020,18:41:00,1584441660,4.05,5723,97\n",
      "17/03/2020,21:55:00,1584453300,3.23,6211,102\n",
      "17/03/2020,22:40:00,1584456000,0.75,6349,106\n",
      "18/03/2020,02:20:00,1584469200,3.67,6499,112\n",
      "18/03/2020,06:05:00,1584482700,3.75,6522,116\n",
      "18/03/2020,10:10:00,1584497400,4.08,6524,116\n",
      "18/03/2020,16:15:00,1584519300,6.08,7601,116\n",
      "18/03/2020,18:16:00,1584526560,2.02,7708,120\n",
      "18/03/2020,20:21:00,1584534060,2.08,8710,132\n",
      "18/03/2020,22:10:00,1584540600,1.82,8998,150\n",
      "19/03/2020,02:17:00,1584555420,4.12,9371,153\n",
      "19/03/2020,10:16:00,1584584160,7.98,9464,155\n",
      "19/03/2020,12:18:00,1584591480,2.03,9473,155\n",
      "19/03/2020,14:15:00,1584598500,1.95,9486,157\n",
      "19/03/2020,16:22:00,1584606120,2.12,10692,160\n",
      "19/03/2020,18:17:00,1584613020,1.92,11355,171\n",
      "19/03/2020,22:45:00,1584629100,4.47,13737,201\n",
      "20/03/2020,00:48:00,1584636480,2.05,13865,211\n",
      "20/03/2020,02:40:00,1584643200,1.87,14316,218\n",
      "20/03/2020,04:34:00,1584650040,1.9,14336,218\n",
      "20/03/2020,06:35:00,1584657300,2.02,14366,217\n",
      "20/03/2020,08:10:00,1584663000,1.58,14366,217\n",
      "20/03/2020,10:11:00,1584670260,2.02,14366,217\n",
      "20/03/2020,12:11:00,1584677460,2.0,14366,217\n",
      "20/03/2020,14:10:00,1584684600,1.98,14373,218\n",
      "20/03/2020,16:11:00,1584691860,2.02,16067,219\n",
      "20/03/2020,18:12:00,1584699120,2.02,16545,225\n",
      "20/03/2020,20:12:00,1584706320,2.0,18121,233\n",
      "20/03/2020,22:12:00,1584713520,2.0,18876,237\n",
      "21/03/2020,00:06:00,1584720360,1.9,19393,256\n",
      "21/03/2020,02:07:00,1584727620,2.02,19643,263\n",
      "21/03/2020,04:08:00,1584734880,2.02,19652,264\n",
      "21/03/2020,06:05:00,1584741900,1.95,19774,275\n",
      "21/03/2020,08:10:00,1584749400,2.08,19774,275\n",
      "21/03/2020,10:12:00,1584756720,2.03,19774,275\n",
      "21/03/2020,12:46:00,1584765960,2.57,19775,276\n",
      "21/03/2020,14:48:00,1584773280,2.03,19823,276\n",
      "21/03/2020,16:48:00,1584780480,2.0,22085,282\n",
      "21/03/2020,18:45:00,1584787500,1.95,22813,288\n",
      "21/03/2020,20:45:00,1584794700,2.0,24142,288\n",
      "21/03/2020,22:45:00,1584801900,2.0,23940,301\n",
      "22/03/2020,00:40:00,1584808800,1.92,26111,324\n",
      "22/03/2020,02:40:00,1584816000,2.0,26711,341\n",
      "22/03/2020,04:45:00,1584823500,2.08,26867,348\n",
      "22/03/2020,06:30:00,1584829800,1.75,26892,348\n",
      "22/03/2020,08:45:00,1584837900,2.25,26892,348\n",
      "22/03/2020,10:45:00,1584845100,2.0,26900,348\n",
      "22/03/2020,12:48:00,1584852480,2.05,26905,348\n",
      "22/03/2020,14:45:00,1584859500,1.95,27031,349\n",
      "22/03/2020,16:42:00,1584866520,1.95,30239,388\n",
      "22/03/2020,18:48:00,1584874080,2.1,38757,400\n",
      "22/03/2020,20:44:00,1584881040,1.93,32356,414\n",
      "22/03/2020,21:41:00,1584884460,0.95,32356,414\n",
      "23/03/2020,00:44:00,1584895440,3.05,33346,414\n",
      "23/03/2020,02:37:00,1584902220,1.88,33546,419\n",
      "23/03/2020,03:55:00,1584906900,1.3,34717,452\n",
      "23/03/2020,06:45:00,1584917100,2.83,35060,457\n",
      "23/03/2020,08:47:00,1584924420,2.03,35070,458\n",
      "23/03/2020,10:47:00,1584931620,2.0,35070,458\n",
      "23/03/2020,12:46:00,1584938760,1.98,35075,458\n",
      "23/03/2020,14:45:00,1584945900,1.98,35179,459\n",
      "23/03/2020,16:45:00,1584953100,2.0,40773,479\n",
      "23/03/2020,18:46:00,1584960360,2.02,41569,504\n",
      "23/03/2020,20:47:00,1584967620,2.02,42443,517\n",
      "23/03/2020,22:31:00,1584973860,1.73,43449,545\n",
      "24/03/2020,00:47:00,1584982020,2.27,43718,552\n",
      "24/03/2020,02:33:00,1584988380,1.77,43734,553\n",
      "24/03/2020,04:46:00,1584996360,2.22,46145,582\n",
      "24/03/2020,06:43:00,1585003380,1.95,46145,582\n",
      "24/03/2020,08:48:00,1585010880,2.08,46145,582\n",
      "24/03/2020,10:47:00,1585018020,1.98,46168,582\n",
      "24/03/2020,12:47:00,1585025220,2.0,46168,582\n",
      "24/03/2020,14:47:00,1585032420,2.0,46274,588\n",
      "24/03/2020,16:47:00,1585039620,2.0,49594,622\n",
      "24/03/2020,18:45:00,1585046700,1.97,50982,655\n",
      "24/03/2020,20:42:00,1585053720,1.95,52921,684\n",
      "24/03/2020,22:48:00,1585061280,2.1,53205,687\n",
      "25/03/2020,00:29:00,1585067340,1.68,53655,698\n",
      "25/03/2020,02:44:00,1585075440,2.25,54823,778\n",
      "25/03/2020,04:46:00,1585082760,2.03,54867,782\n",
      "25/03/2020,06:47:00,1585090020,2.02,54916,784\n",
      "25/03/2020,08:48:00,1585097280,2.02,54935,784\n",
      "25/03/2020,10:43:00,1585104180,1.92,54941,784\n",
      "25/03/2020,12:48:00,1585111680,2.08,54979,785\n",
      "25/03/2020,14:48:00,1585118880,2.0,55081,785\n",
      "25/03/2020,16:48:00,1585126080,2.0,60642,817\n",
      "25/03/2020,18:48:00,1585133280,2.0,62364,878\n",
      "25/03/2020,20:33:00,1585139580,1.75,64765,910\n",
      "25/03/2020,22:44:00,1585147440,2.18,65527,928\n",
      "26/03/2020,00:34:00,1585154040,1.83,65797,935\n",
      "26/03/2020,02:43:00,1585161780,2.15,66741,963\n",
      "26/03/2020,05:24:00,1585171440,2.68,68472,1032\n",
      "26/03/2020,07:03:00,1585177380,1.65,68489,1032\n",
      "26/03/2020,09:02:00,1585184520,1.98,68489,1032\n",
      "26/03/2020,11:02:00,1585191720,2.0,68581,1036\n",
      "26/03/2020,13:01:00,1585198860,1.98,68594,1036\n",
      "26/03/2020,14:52:00,1585205520,1.85,68905,1037\n",
      "26/03/2020,17:02:00,1585213320,2.17,75069,1080\n",
      "26/03/2020,19:00:00,1585220400,1.97,79082,1143\n",
      "26/03/2020,21:01:00,1585227660,2.02,81946,1177\n",
      "26/03/2020,23:02:00,1585234920,2.02,83206,1201\n",
      "27/03/2020,01:00:00,1585242000,1.97,85280,1293\n",
      "27/03/2020,03:01:00,1585249260,2.02,85520,1297\n",
      "27/03/2020,04:36:00,1585254960,1.58,85594,1300\n",
      "27/03/2020,07:33:00,1585265580,2.95,85612,1301\n",
      "27/03/2020,09:32:00,1585272720,1.98,85612,1301\n",
      "27/03/2020,11:31:00,1585279860,1.98,85749,1304\n",
      "27/03/2020,13:32:00,1585287120,2.02,85755,1304\n",
      "27/03/2020,15:33:00,1585294380,2.02,86548,1321\n",
      "27/03/2020,17:32:00,1585301520,1.98,94425,1429\n",
      "27/03/2020,19:33:00,1585308780,2.02,98180,1513\n",
      "27/03/2020,21:33:00,1585315980,2.0,100514,1546\n",
      "27/03/2020,23:33:00,1585323180,2.0,102325,1591\n",
      "28/03/2020,01:32:00,1585330320,1.98,104126,1692\n",
      "28/03/2020,03:34:00,1585337640,2.03,104205,1704\n",
      "28/03/2020,05:35:00,1585344900,2.02,104205,1704\n",
      "28/03/2020,07:35:00,1585352100,2.0,104256,1704\n",
      "28/03/2020,09:35:00,1585359300,2.0,104256,1704\n",
      "28/03/2020,11:40:00,1585366800,2.08,104256,1704\n",
      "28/03/2020,13:36:00,1585373760,1.93,104277,1704\n",
      "28/03/2020,15:45:00,1585381500,2.15,105726,1730\n",
      "28/03/2020,17:45:00,1585388700,2.0,116050,1937\n",
      "28/03/2020,19:43:00,1585395780,1.97,118592,1979\n",
      "28/03/2020,21:44:00,1585403040,2.02,120204,1997\n",
      "28/03/2020,23:43:00,1585410180,1.98,123311,2211\n",
      "29/03/2020,01:46:00,1585417560,2.05,123578,2221\n",
      "29/03/2020,03:46:00,1585424760,2.0,123750,2227\n",
      "29/03/2020,05:48:00,1585432080,2.03,123774,2228\n",
      "29/03/2020,07:41:00,1585438860,1.88,123776,2229\n",
      "29/03/2020,09:45:00,1585446300,2.07,123781,2229\n",
      "29/03/2020,11:44:00,1585453440,1.98,123781,2229\n",
      "29/03/2020,13:46:00,1585460760,2.03,123828,2229\n",
      "29/03/2020,15:47:00,1585468020,2.02,125099,2238\n",
      "29/03/2020,17:49:00,1585475340,2.03,133146,2363\n",
      "29/03/2020,19:47:00,1585482420,1.97,137943,2431\n",
      "29/03/2020,21:48:00,1585489680,2.02,139904,2449\n",
      "29/03/2020,23:49:00,1585496940,2.02,141781,2471\n",
      "30/03/2020,01:44:00,1585503840,1.92,142004,2484\n",
      "30/03/2020,03:46:00,1585511160,2.03,142735,2488\n",
      "30/03/2020,06:46:00,1585521960,3.0,142735,2488\n",
      "30/03/2020,08:50:00,1585529400,2.07,142735,2489\n",
      "30/03/2020,10:50:00,1585536600,2.0,142746,2489\n",
      "30/03/2020,12:50:00,1585543800,2.0,142793,2490\n",
      "30/03/2020,14:50:00,1585551000,2.0,144410,2600\n",
      "30/03/2020,16:50:00,1585558200,2.0,145542,2616\n",
      "30/03/2020,18:50:00,1585565400,2.0,156565,2870\n",
      "30/03/2020,20:50:00,1585572600,2.0,159689,2951\n",
      "30/03/2020,22:50:00,1585579800,2.0,161358,2974\n",
      "31/03/2020,00:50:00,1585587000,2.0,163479,3148\n",
      "31/03/2020,02:50:00,1585594200,2.0,164253,3165\n",
      "31/03/2020,04:50:00,1585601400,2.0,164253,3167\n",
      "31/03/2020,06:50:00,1585608600,2.0,164323,3170\n",
      "31/03/2020,08:42:00,1585615320,1.87,164359,3173\n",
      "31/03/2020,10:49:00,1585622940,2.12,164359,3173\n",
      "31/03/2020,12:49:00,1585630140,2.0,164435,3175\n",
      "31/03/2020,14:49:00,1585637340,2.0,165392,3182\n",
      "31/03/2020,16:49:00,1585644540,2.0,175669,3424\n",
      "31/03/2020,18:49:00,1585651740,2.0,180340,3573\n",
      "31/03/2020,20:49:00,1585658940,2.0,186046,3807\n",
      "31/03/2020,22:49:00,1585666140,2.0,187729,3867\n",
      "01/04/2020,02:49:00,1585680540,4.0,188530,3889\n",
      "01/04/2020,04:49:00,1585687740,2.0,188578,4054\n",
      "01/04/2020,06:49:00,1585694940,2.0,188592,4055\n",
      "01/04/2020,08:49:00,1585702140,2.0,188592,4056\n",
      "01/04/2020,10:49:00,1585709340,2.0,188639,4059\n",
      "01/04/2020,12:49:00,1585716540,2.0,188647,4059\n",
      "01/04/2020,14:49:00,1585723740,2.0,189711,4099\n",
      "01/04/2020,16:49:00,1585730940,2.0,200289,4394\n",
      "01/04/2020,18:49:00,1585738140,2.0,205438,4528\n",
      "01/04/2020,20:49:00,1585745340,2.0,211143,4713\n",
      "01/04/2020,22:49:00,1585752540,2.0,212980,4759\n",
      "02/04/2020,00:49:00,1585759740,2.0,215003,5102\n",
      "02/04/2020,02:49:00,1585766940,2.0,215175,5110\n",
      "02/04/2020,04:49:00,1585774140,2.0,215300,5110\n",
      "02/04/2020,06:49:00,1585781340,2.0,215324,5112\n",
      "02/04/2020,08:49:00,1585788540,2.0,215344,5112\n",
      "02/04/2020,10:49:00,1585795740,2.0,215344,5112\n",
      "02/04/2020,12:49:00,1585802940,2.0,216722,5140\n",
      "02/04/2020,14:49:00,1585810140,2.0,219832,5227\n",
      "02/04/2020,16:49:00,1585817340,2.0,222658,5356\n",
      "02/04/2020,18:49:00,1585824540,2.0,232899,5665\n",
      "02/04/2020,20:49:00,1585831740,2.0,243298,5883\n",
      "02/04/2020,22:19:00,1585837140,1.5,244230,5883\n",
      "03/04/2020,01:20:00,1585848000,3.02,244877,6070\n",
      "03/04/2020,01:36:00,1585848960,0.27,245066,6075\n",
      "03/04/2020,03:20:00,1585855200,1.73,245088,6075\n",
      "03/04/2020,05:20:00,1585862400,2.0,245341,6095\n",
      "03/04/2020,07:20:00,1585869600,2.0,245373,6095\n",
      "03/04/2020,09:20:00,1585876800,2.0,245373,6095\n",
      "03/04/2020,11:20:00,1585884000,2.0,245380,6095\n",
      "03/04/2020,13:20:00,1585891200,2.0,245442,6098\n",
      "03/04/2020,14:49:00,1585896540,1.48,245442,6099\n",
      "03/04/2020,16:49:00,1585903740,2.0,259750,6603\n",
      "03/04/2020,18:49:00,1585910940,2.0,266279,6803\n",
      "03/04/2020,20:49:00,1585918140,2.0,272614,6988\n",
      "03/04/2020,22:49:00,1585925340,2.0,275802,7087\n",
      "04/04/2020,00:49:00,1585932540,2.0,276965,7391\n",
      "04/04/2020,02:49:00,1585939740,2.0,277161,7392\n"
     ]
    }
   ],
   "source": [
    "print (\"Date Time Timestamp HoursSinceUpdate ConfirmedCases Deaths\")\n",
    "x=len(ALLdata)\n",
    "cnt=0\n",
    "for line in ALLdata:\n",
    "    cnt=cnt+1\n",
    "    li = (\"\".join(line))\n",
    "    li = li.rstrip(\"')\")\n",
    "    li = li.lstrip(\"('\")\n",
    "    li = li.replace(\"'\",\"\")\n",
    "    li = li.replace(\",\",\"\")\n",
    "    li = li.replace(\" \",\",\")\n",
    "    print (li)"
   ]
  },
  {
   "cell_type": "code",
   "execution_count": 526,
   "metadata": {},
   "outputs": [
    {
     "name": "stdout",
     "output_type": "stream",
     "text": [
      "Date Time Timestamp HoursSinceUpdate ConfirmedCases Deaths\n",
      "02/04/2020,14:49:00,1585810140,2.0,219832,5227\n",
      "02/04/2020,16:49:00,1585817340,2.0,222658,5356\n",
      "02/04/2020,18:49:00,1585824540,2.0,232899,5665\n",
      "02/04/2020,20:49:00,1585831740,2.0,243298,5883\n",
      "02/04/2020,22:19:00,1585837140,1.5,244230,5883\n",
      "03/04/2020,01:20:00,1585848000,3.02,244877,6070\n",
      "03/04/2020,01:36:00,1585848960,0.27,245066,6075\n",
      "03/04/2020,03:20:00,1585855200,1.73,245088,6075\n",
      "03/04/2020,05:20:00,1585862400,2.0,245341,6095\n",
      "03/04/2020,07:20:00,1585869600,2.0,245373,6095\n",
      "03/04/2020,09:20:00,1585876800,2.0,245373,6095\n",
      "03/04/2020,11:20:00,1585884000,2.0,245380,6095\n",
      "03/04/2020,13:20:00,1585891200,2.0,245442,6098\n",
      "03/04/2020,14:49:00,1585896540,1.48,245442,6099\n",
      "03/04/2020,16:49:00,1585903740,2.0,259750,6603\n",
      "03/04/2020,18:49:00,1585910940,2.0,266279,6803\n",
      "03/04/2020,20:49:00,1585918140,2.0,272614,6988\n",
      "03/04/2020,22:49:00,1585925340,2.0,275802,7087\n",
      "04/04/2020,00:49:00,1585932540,2.0,276965,7391\n",
      "04/04/2020,02:49:00,1585939740,2.0,277161,7392\n"
     ]
    }
   ],
   "source": [
    "print (\"Date Time Timestamp HoursSinceUpdate ConfirmedCases Deaths\")\n",
    "x=len(ALLdata)\n",
    "cnt=0\n",
    "for line in ALLdata:\n",
    "    cnt=cnt+1\n",
    "    li = (\"\".join(line))\n",
    "    li = li.rstrip(\"')\")\n",
    "    li = li.lstrip(\"('\")\n",
    "    li = li.replace(\"'\",\"\")\n",
    "    li = li.replace(\",\",\"\")\n",
    "    li = li.replace(\" \",\",\")\n",
    "    if cnt>215:print (li)   \n",
    "  "
   ]
  },
  {
   "cell_type": "code",
   "execution_count": 548,
   "metadata": {},
   "outputs": [
    {
     "name": "stdout",
     "output_type": "stream",
     "text": [
      "data.csv                                      100%   11KB  51.0KB/s   00:00    \n",
      "data.html                                     100%   12KB  57.4KB/s   00:00    \n"
     ]
    }
   ],
   "source": [
    "!update_toybox\n",
    "\n",
    "\n"
   ]
  },
  {
   "cell_type": "raw",
   "metadata": {},
   "source": [
    "# %load update_toybox\n",
    "scp /home/jack/Desktop/cOVID-19/data.* jack@192.243.103.247:/var/www/mylinuxtoybox.com/html/COVID-19/\n",
    "#scp /home/jack/Desktop/COVID-19/Header-Image-1500x250.jpg jack@192.243.103.247:/var/www/mylinuxtoybox.com/html/"
   ]
  },
  {
   "cell_type": "raw",
   "metadata": {},
   "source": [
    "March 29, 2020 at 02:04 GMT, there have been 123750 confirmed cases and 2227 deaths due to coronavirus COVID-19 in the United Sta"
   ]
  },
  {
   "cell_type": "code",
   "execution_count": 528,
   "metadata": {},
   "outputs": [],
   "source": [
    "DATA =\"\"\"March 08, 2020 at 23:30 GMT, there have been 537 confirmed cases and 21 deaths due to coronavirus COVID-19 in the United States.\n",
    "March 09, 2020 at 04:30 GMT, there have been 589 confirmed cases and 22 deaths due to coronavirus COVID-19 in the United States.\n",
    "March 10, 2020 at 05:30 GMT, there have been 708 confirmed cases and 27 deaths due to coronavirus COVID-19 in the United States.\n",
    "March 10, 2020 at 23:35 GMT, there have been 975 confirmed cases and 30 deaths due to coronavirus COVID-19 in the United States.\n",
    "March 11, 2020 at 04:25 GMT, there have been 1010 confirmed cases and 31 deaths due to coronavirus COVID-19 in the United States.\n",
    "March 11, 2020 at 15:17 GMT, there have been 1016 confirmed cases and 31 deaths due to coronavirus COVID-19 in the United States.\n",
    "March 11, 2020 at 23:35 GMT, there have been 1301 confirmed cases and 38 deaths due to coronavirus COVID-19 in the United States.\n",
    "March 12, 2020 at 03:25 GMT, there have been 1327 confirmed cases and 38 deaths due to coronavirus COVID-19 in the United States.\n",
    "March 12, 2020 at 11:37 GMT, there have been 1336 confirmed cases and 38 deaths due to coronavirus COVID-19 in the United States.\n",
    "March 12, 2020 at 22:00 GMT, there have been 1639 confirmed cases and 40 deaths due to coronavirus COVID-19 in the United States.\n",
    "March 13, 2020 at 00:05 GMT, there have been 1715 confirmed cases and 41 deaths due to coronavirus COVID-19 in the United States.\n",
    "March 13, 2020 at 01:35 GMT, there have been 1725 confirmed cases and 41 deaths due to coronavirus COVID-19 in the United States.\n",
    "March 13, 2020 at 03:45 GMT, there have been 1747 confirmed cases and 41 deaths due to coronavirus COVID-19 in the United States.\n",
    "March 13, 2020 at 06:00 GMT, there have been 1762 confirmed cases and 41 deaths due to coronavirus COVID-19 in the United States.\n",
    "March 13, 2020 at 15:25 GMT, there have been 1832 confirmed cases and 41 deaths due to coronavirus COVID-19 in the United States.\n",
    "March 13, 2020 at 22:25 GMT, there have been 2269 confirmed cases and 48 deaths due to coronavirus COVID-19 in the United States.\n",
    "March 14, 2020 at 02:40 GMT, there have been 2291 confirmed cases and 50 deaths due to coronavirus COVID-19 in the United States.\n",
    "March 14, 2020 at 07:14 GMT, there have been 2319 confirmed cases and 50 deaths due to coronavirus COVID-19 in the United States.\n",
    "March 14, 2020 at 16:45 GMT, there have been 2499 confirmed cases and 51 deaths due to coronavirus COVID-19 in the United States.\n",
    "March 14, 2020 at 23:03 GMT, there have been 2836 confirmed cases and 57 deaths due to coronavirus COVID-19 in the United States.\n",
    "March 15, 2020 at 05:00 GMT, there have been 2982 confirmed cases and 60 deaths due to coronavirus COVID-19 in the United States.\n",
    "March 15, 2020 at 05:40 GMT, there have been 2995 confirmed cases and 60 deaths due to coronavirus COVID-19 in the United States.\n",
    "March 15, 2020 at 07:05 GMT, there have been 3043 confirmed cases and 60 deaths due to coronavirus COVID-19 in the United States.\n",
    "March 15, 2020 at 19:00 GMT, there have been 3329 confirmed cases and 63 deaths due to coronavirus COVID-19 in the United States.\n",
    "March 15, 2020 at 20:05 GMT, there have been 3400 confirmed cases and 63 deaths due to coronavirus COVID-19 in the United States.\n",
    "March 15, 2020 at 21:15 GMT, there have been 3621 confirmed cases and 63 deaths due to coronavirus COVID-19 in the United States.\n",
    "March 15, 2020 at 22:15 GMT, there have been 3502 confirmed cases and 63 deaths due to coronavirus COVID-19 in the United States.\n",
    "March 16, 2020 at 00:35 GMT, there have been 3714 confirmed cases and 68 deaths due to coronavirus COVID-19 in the United States.\n",
    "March 16, 2020 at 02:48 GMT, there have been 3777 confirmed cases and 69 deaths due to coronavirus COVID-19 in the United States.\n",
    "March 16, 2020 at 05:36 GMT, there have been 3782 confirmed cases and 69 deaths due to coronavirus COVID-19 in the United States.\n",
    "March 16, 2020 at 08:29 GMT, there have been 3802 confirmed cases and 69 deaths due to coronavirus COVID-19 in the United States.\n",
    "March 16, 2020 at 18:40 GMT, there have been 4186 confirmed cases and 73 deaths due to coronavirus COVID-19 in the United States.\n",
    "March 16, 2020 at 22:40 GMT, there have been 4597 confirmed cases and 86 deaths due to coronavirus COVID-19 in the United States.\n",
    "March 17, 2020 at 00:45 GMT, there have been 4667 confirmed cases and 87 deaths due to coronavirus COVID-19 in the United States.\n",
    "March 17, 2020 at 02:40 GMT, there have been 4704 confirmed cases and 91 deaths due to coronavirus COVID-19 in the United States.\n",
    "March 17, 2020 at 06:35 GMT, there have been 4727 confirmed cases and 93 deaths due to coronavirus COVID-19 in the United States.\n",
    "March 17, 2020 at 10:31 GMT, there have been 4743 confirmed cases and 93 deaths due to coronavirus COVID-19 in the United States.\n",
    "March 17, 2020 at 14:38 GMT, there have been 4752 confirmed cases and 93 deaths due to coronavirus COVID-19 in the United States.\n",
    "March 17, 2020 at 18:41 GMT, there have been 5723 confirmed cases and 97 deaths due to coronavirus COVID-19 in the United States.\n",
    "March 17, 2020 at 21:55 GMT, there have been 6211 confirmed cases and 102 deaths due to coronavirus COVID-19 in the United States.\n",
    "March 17, 2020 at 22:40 GMT, there have been 6349 confirmed cases and 106 deaths due to coronavirus COVID-19 in the United States.\n",
    "March 18, 2020 at 02:20 GMT, there have been 6499 confirmed cases and 112 deaths due to coronavirus COVID-19 in the United States.\n",
    "March 18, 2020 at 06:05 GMT, there have been 6522 confirmed cases and 116 deaths due to coronavirus COVID-19 in the United States.\n",
    "March 18, 2020 at 10:10 GMT, there have been 6524 confirmed cases and 116 deaths due to coronavirus COVID-19 in the United States.\n",
    "March 18, 2020 at 16:15 GMT, there have been 7601 confirmed cases and 116 deaths due to coronavirus COVID-19 in the United States.\n",
    "March 18, 2020 at 18:16 GMT, there have been 7708 confirmed cases and 120 deaths due to coronavirus COVID-19 in the United States.\n",
    "March 18, 2020 at 20:21 GMT, there have been 8710 confirmed cases and 132 deaths due to coronavirus COVID-19 in the United States.\n",
    "March 18, 2020 at 22:10 GMT, there have been 8998 confirmed cases and 150 deaths due to coronavirus COVID-19 in the United States.\n",
    "March 19, 2020 at 02:17 GMT, there have been 9371 confirmed cases and 153 deaths due to coronavirus COVID-19 in the United States.\n",
    "March 19, 2020 at 10:16 GMT, there have been 9464 confirmed cases and 155 deaths due to coronavirus COVID-19 in the United States.\n",
    "March 19, 2020 at 12:18 GMT, there have been 9473 confirmed cases and 155 deaths due to coronavirus COVID-19 in the United States.\n",
    "March 19, 2020 at 14:15 GMT, there have been 9486 confirmed cases and 157 deaths due to coronavirus COVID-19 in the United States.\n",
    "March 19, 2020 at 16:22 GMT, there have been 10692 confirmed cases and 160 deaths due to coronavirus COVID-19 in the United States.\n",
    "March 19, 2020 at 18:17 GMT, there have been 11355 confirmed cases and 171 deaths due to coronavirus COVID-19 in the United States.\n",
    "March 19, 2020 at 22:45 GMT, there have been 13737 confirmed cases and 201 deaths due to coronavirus COVID-19 in the United States.\n",
    "March 20, 2020 at 00:48 GMT, there have been 13865 confirmed cases and 211 deaths due to coronavirus COVID-19 in the United States.\n",
    "March 20, 2020 at 02:40 GMT, there have been 14316 confirmed cases and 218 deaths due to coronavirus COVID-19 in the United States.\n",
    "March 20, 2020 at 04:34 GMT, there have been 14336 confirmed cases and 218 deaths due to coronavirus COVID-19 in the United States.\n",
    "March 20, 2020 at 06:35 GMT, there have been 14366 confirmed cases and 217 deaths due to coronavirus COVID-19 in the United States.\n",
    "March 20, 2020 at 08:10 GMT, there have been 14366 confirmed cases and 217 deaths due to coronavirus COVID-19 in the United States.\n",
    "March 20, 2020 at 10:11 GMT, there have been 14366 confirmed cases and 217 deaths due to coronavirus COVID-19 in the United States.\n",
    "March 20, 2020 at 12:11 GMT, there have been 14366 confirmed cases and 217 deaths due to coronavirus COVID-19 in the United States.\n",
    "March 20, 2020 at 14:10 GMT, there have been 14373 confirmed cases and 218 deaths due to coronavirus COVID-19 in the United States.\n",
    "March 20, 2020 at 16:11 GMT, there have been 16067 confirmed cases and 219 deaths due to coronavirus COVID-19 in the United States.\n",
    "March 20, 2020 at 18:12 GMT, there have been 16545 confirmed cases and 225 deaths due to coronavirus COVID-19 in the United States.\n",
    "March 20, 2020 at 20:12 GMT, there have been 18121 confirmed cases and 233 deaths due to coronavirus COVID-19 in the United States.\n",
    "March 20, 2020 at 22:12 GMT, there have been 18876 confirmed cases and 237 deaths due to coronavirus COVID-19 in the United States.\n",
    "March 21, 2020 at 00:06 GMT, there have been 19393 confirmed cases and 256 deaths due to coronavirus COVID-19 in the United States.\n",
    "March 21, 2020 at 02:07 GMT, there have been 19643 confirmed cases and 263 deaths due to coronavirus COVID-19 in the United States.\n",
    "March 21, 2020 at 04:08 GMT, there have been 19652 confirmed cases and 264 deaths due to coronavirus COVID-19 in the United States.\n",
    "March 21, 2020 at 06:05 GMT, there have been 19774 confirmed cases and 275 deaths due to coronavirus COVID-19 in the United States.\n",
    "March 21, 2020 at 08:10 GMT, there have been 19774 confirmed cases and 275 deaths due to coronavirus COVID-19 in the United States.\n",
    "March 21, 2020 at 10:12 GMT, there have been 19774 confirmed cases and 275 deaths due to coronavirus COVID-19 in the United States.\n",
    "March 21, 2020 at 12:46 GMT, there have been 19775 confirmed cases and 276 deaths due to coronavirus COVID-19 in the United States.\n",
    "March 21, 2020 at 14:48 GMT, there have been 19823 confirmed cases and 276 deaths due to coronavirus COVID-19 in the United States.\n",
    "March 21, 2020 at 16:48 GMT, there have been 22085 confirmed cases and 282 deaths due to coronavirus COVID-19 in the United States.\n",
    "March 21, 2020 at 18:45 GMT, there have been 22813 confirmed cases and 288 deaths due to coronavirus COVID-19 in the United States.\n",
    "March 21, 2020 at 20:45 GMT, there have been 24142 confirmed cases and 288 deaths due to coronavirus COVID-19 in the United States.\n",
    "March 21, 2020 at 22:45 GMT, there have been 23940 confirmed cases and 301 deaths due to coronavirus COVID-19 in the United States.\n",
    "March 22, 2020 at 00:40 GMT, there have been 26111 confirmed cases and 324 deaths due to coronavirus COVID-19 in the United States.\n",
    "March 22, 2020 at 02:40 GMT, there have been 26711 confirmed cases and 341 deaths due to coronavirus COVID-19 in the United States.\n",
    "March 22, 2020 at 04:45 GMT, there have been 26867 confirmed cases and 348 deaths due to coronavirus COVID-19 in the United States.\n",
    "March 22, 2020 at 06:30 GMT, there have been 26892 confirmed cases and 348 deaths due to coronavirus COVID-19 in the United States.\n",
    "March 22, 2020 at 08:45 GMT, there have been 26892 confirmed cases and 348 deaths due to coronavirus COVID-19 in the United States.\n",
    "March 22, 2020 at 10:45 GMT, there have been 26900 confirmed cases and 348 deaths due to coronavirus COVID-19 in the United States.\n",
    "March 22, 2020 at 12:48 GMT, there have been 26905 confirmed cases and 348 deaths due to coronavirus COVID-19 in the United States.\n",
    "March 22, 2020 at 14:45 GMT, there have been 27031 confirmed cases and 349 deaths due to coronavirus COVID-19 in the United States.\n",
    "March 22, 2020 at 16:42 GMT, there have been 30239 confirmed cases and 388 deaths due to coronavirus COVID-19 in the United States.\n",
    "March 22, 2020 at 18:48 GMT, there have been 38757 confirmed cases and 400 deaths due to coronavirus COVID-19 in the United States.\n",
    "March 22, 2020 at 20:44 GMT, there have been 32356 confirmed cases and 414 deaths due to coronavirus COVID-19 in the United States.\n",
    "March 22, 2020 at 21:41 GMT, there have been 32356 confirmed cases and 414 deaths due to coronavirus COVID-19 in the United States.\n",
    "March 23, 2020 at 00:44 GMT, there have been 33346 confirmed cases and 414 deaths due to coronavirus COVID-19 in the United States.\n",
    "March 23, 2020 at 02:37 GMT, there have been 33546 confirmed cases and 419 deaths due to coronavirus COVID-19 in the United States.\n",
    "March 23, 2020 at 03:55 GMT, there have been 34717 confirmed cases and 452 deaths due to coronavirus COVID-19 in the United States.\n",
    "March 23, 2020 at 06:45 GMT, there have been 35060 confirmed cases and 457 deaths due to coronavirus COVID-19 in the United States.\n",
    "March 23, 2020 at 08:47 GMT, there have been 35070 confirmed cases and 458 deaths due to coronavirus COVID-19 in the United States.\n",
    "March 23, 2020 at 10:47 GMT, there have been 35070 confirmed cases and 458 deaths due to coronavirus COVID-19 in the United States.\n",
    "March 23, 2020 at 12:46 GMT, there have been 35075 confirmed cases and 458 deaths due to coronavirus COVID-19 in the United States.\n",
    "March 23, 2020 at 14:45 GMT, there have been 35179 confirmed cases and 459 deaths due to coronavirus COVID-19 in the United States.\n",
    "March 23, 2020 at 16:45 GMT, there have been 40773 confirmed cases and 479 deaths due to coronavirus COVID-19 in the United States.\n",
    "March 23, 2020 at 18:46 GMT, there have been 41569 confirmed cases and 504 deaths due to coronavirus COVID-19 in the United States.\n",
    "March 23, 2020 at 20:47 GMT, there have been 42443 confirmed cases and 517 deaths due to coronavirus COVID-19 in the United States.\n",
    "March 23, 2020 at 22:31 GMT, there have been 43449 confirmed cases and 545 deaths due to coronavirus COVID-19 in the United States.\n",
    "March 24, 2020 at 00:47 GMT, there have been 43718 confirmed cases and 552 deaths due to coronavirus COVID-19 in the United States.\n",
    "March 24, 2020 at 02:33 GMT, there have been 43734 confirmed cases and 553 deaths due to coronavirus COVID-19 in the United States.\n",
    "March 24, 2020 at 04:46 GMT, there have been 46145 confirmed cases and 582 deaths due to coronavirus COVID-19 in the United States.\n",
    "March 24, 2020 at 06:43 GMT, there have been 46145 confirmed cases and 582 deaths due to coronavirus COVID-19 in the United States.\n",
    "March 24, 2020 at 08:48 GMT, there have been 46145 confirmed cases and 582 deaths due to coronavirus COVID-19 in the United States.\n",
    "March 24, 2020 at 10:47 GMT, there have been 46168 confirmed cases and 582 deaths due to coronavirus COVID-19 in the United States.\n",
    "March 24, 2020 at 12:47 GMT, there have been 46168 confirmed cases and 582 deaths due to coronavirus COVID-19 in the United States.\n",
    "March 24, 2020 at 14:47 GMT, there have been 46274 confirmed cases and 588 deaths due to coronavirus COVID-19 in the United States.\n",
    "March 24, 2020 at 16:47 GMT, there have been 49594 confirmed cases and 622 deaths due to coronavirus COVID-19 in the United States.\n",
    "March 24, 2020 at 18:45 GMT, there have been 50982 confirmed cases and 655 deaths due to coronavirus COVID-19 in the United States.\n",
    "March 24, 2020 at 20:42 GMT, there have been 52921 confirmed cases and 684 deaths due to coronavirus COVID-19 in the United States.\n",
    "March 24, 2020 at 22:48 GMT, there have been 53205 confirmed cases and 687 deaths due to coronavirus COVID-19 in the United States.\n",
    "March 25, 2020 at 00:29 GMT, there have been 53655 confirmed cases and 698 deaths due to coronavirus COVID-19 in the United States.\n",
    "March 25, 2020 at 02:44 GMT, there have been 54823 confirmed cases and 778 deaths due to coronavirus COVID-19 in the United States.\n",
    "March 25, 2020 at 04:46 GMT, there have been 54867 confirmed cases and 782 deaths due to coronavirus COVID-19 in the United States.\n",
    "March 25, 2020 at 06:47 GMT, there have been 54916 confirmed cases and 784 deaths due to coronavirus COVID-19 in the United States.\n",
    "March 25, 2020 at 08:48 GMT, there have been 54935 confirmed cases and 784 deaths due to coronavirus COVID-19 in the United States.\n",
    "March 25, 2020 at 10:43 GMT, there have been 54941 confirmed cases and 784 deaths due to coronavirus COVID-19 in the United States.\n",
    "March 25, 2020 at 12:48 GMT, there have been 54979 confirmed cases and 785 deaths due to coronavirus COVID-19 in the United States.\n",
    "March 25, 2020 at 14:48 GMT, there have been 55081 confirmed cases and 785 deaths due to coronavirus COVID-19 in the United States.\n",
    "March 25, 2020 at 16:48 GMT, there have been 60642 confirmed cases and 817 deaths due to coronavirus COVID-19 in the United States.\n",
    "March 25, 2020 at 18:48 GMT, there have been 62364 confirmed cases and 878 deaths due to coronavirus COVID-19 in the United States.\n",
    "March 25, 2020 at 20:33 GMT, there have been 64765 confirmed cases and 910 deaths due to coronavirus COVID-19 in the United States.\n",
    "March 25, 2020 at 22:44 GMT, there have been 65527 confirmed cases and 928 deaths due to coronavirus COVID-19 in the United States.\n",
    "March 26, 2020 at 00:34 GMT, there have been 65797 confirmed cases and 935 deaths due to coronavirus COVID-19 in the United States.\n",
    "March 26, 2020 at 02:43 GMT, there have been 66741 confirmed cases and 963 deaths due to coronavirus COVID-19 in the United States.\n",
    "March 26, 2020 at 05:24 GMT, there have been 68472 confirmed cases and 1032 deaths due to coronavirus COVID-19 in the United States.\n",
    "March 26, 2020 at 07:03 GMT, there have been 68489 confirmed cases and 1032 deaths due to coronavirus COVID-19 in the United States.\n",
    "March 26, 2020 at 09:02 GMT, there have been 68489 confirmed cases and 1032 deaths due to coronavirus COVID-19 in the United States.\n",
    "March 26, 2020 at 11:02 GMT, there have been 68581 confirmed cases and 1036 deaths due to coronavirus COVID-19 in the United States.\n",
    "March 26, 2020 at 13:01 GMT, there have been 68594 confirmed cases and 1036 deaths due to coronavirus COVID-19 in the United States.\n",
    "March 26, 2020 at 14:52 GMT, there have been 68905 confirmed cases and 1037 deaths due to coronavirus COVID-19 in the United States.\n",
    "March 26, 2020 at 17:02 GMT, there have been 75069 confirmed cases and 1080 deaths due to coronavirus COVID-19 in the United States.\n",
    "March 26, 2020 at 19:00 GMT, there have been 79082 confirmed cases and 1143 deaths due to coronavirus COVID-19 in the United States.\n",
    "March 26, 2020 at 21:01 GMT, there have been 81946 confirmed cases and 1177 deaths due to coronavirus COVID-19 in the United States.\n",
    "March 26, 2020 at 23:02 GMT, there have been 83206 confirmed cases and 1201 deaths due to coronavirus COVID-19 in the United States.\n",
    "March 27, 2020 at 01:00 GMT, there have been 85280 confirmed cases and 1293 deaths due to coronavirus COVID-19 in the United States.\n",
    "March 27, 2020 at 03:01 GMT, there have been 85520 confirmed cases and 1297 deaths due to coronavirus COVID-19 in the United States.\n",
    "March 27, 2020 at 04:36 GMT, there have been 85594 confirmed cases and 1300 deaths due to coronavirus COVID-19 in the United States.\n",
    "March 27, 2020 at 07:33 GMT, there have been 85612 confirmed cases and 1301 deaths due to coronavirus COVID-19 in the United States.\n",
    "March 27, 2020 at 09:32 GMT, there have been 85612 confirmed cases and 1301 deaths due to coronavirus COVID-19 in the United States.\n",
    "March 27, 2020 at 11:31 GMT, there have been 85749 confirmed cases and 1304 deaths due to coronavirus COVID-19 in the United States.\n",
    "March 27, 2020 at 13:32 GMT, there have been 85755 confirmed cases and 1304 deaths due to coronavirus COVID-19 in the United States.\n",
    "March 27, 2020 at 15:33 GMT, there have been 86548 confirmed cases and 1321 deaths due to coronavirus COVID-19 in the United States.\n",
    "March 27, 2020 at 17:32 GMT, there have been 94425 confirmed cases and 1429 deaths due to coronavirus COVID-19 in the United States.\n",
    "March 27, 2020 at 19:33 GMT, there have been 98180 confirmed cases and 1513 deaths due to coronavirus COVID-19 in the United States.\n",
    "March 27, 2020 at 21:33 GMT, there have been 100514 confirmed cases and 1546 deaths due to coronavirus COVID-19 in the United States.\n",
    "March 27, 2020 at 23:33 GMT, there have been 102325 confirmed cases and 1591 deaths due to coronavirus COVID-19 in the United States.\n",
    "March 28, 2020 at 01:32 GMT, there have been 104126 confirmed cases and 1692 deaths due to coronavirus COVID-19 in the United States.\n",
    "March 28, 2020 at 03:34 GMT, there have been 104205 confirmed cases and 1704 deaths due to coronavirus COVID-19 in the United States.\n",
    "March 28, 2020 at 05:35 GMT, there have been 104205 confirmed cases and 1704 deaths due to coronavirus COVID-19 in the United States.\n",
    "March 28, 2020 at 07:35 GMT, there have been 104256 confirmed cases and 1704 deaths due to coronavirus COVID-19 in the United States.\n",
    "March 28, 2020 at 09:35 GMT, there have been 104256 confirmed cases and 1704 deaths due to coronavirus COVID-19 in the United States.\n",
    "March 28, 2020 at 11:40 GMT, there have been 104256 confirmed cases and 1704 deaths due to coronavirus COVID-19 in the United States.\n",
    "March 28, 2020 at 13:36 GMT, there have been 104277 confirmed cases and 1704 deaths due to coronavirus COVID-19 in the United States.\n",
    "March 28, 2020 at 15:45 GMT, there have been 105726 confirmed cases and 1730 deaths due to coronavirus COVID-19 in the United States.\n",
    "March 28, 2020 at 17:45 GMT, there have been 116050 confirmed cases and 1937 deaths due to coronavirus COVID-19 in the United States.\n",
    "March 28, 2020 at 19:43 GMT, there have been 118592 confirmed cases and 1979 deaths due to coronavirus COVID-19 in the United States.\n",
    "March 28, 2020 at 21:44 GMT, there have been 120204 confirmed cases and 1997 deaths due to coronavirus COVID-19 in the United States.\n",
    "March 28, 2020 at 23:43 GMT, there have been 123311 confirmed cases and 2211 deaths due to coronavirus COVID-19 in the United States.\n",
    "March 29, 2020 at 01:46 GMT, there have been 123578 confirmed cases and 2221 deaths due to coronavirus COVID-19 in the United States.\n",
    "March 29, 2020 at 03:46 GMT, there have been 123750 confirmed cases and 2227 deaths due to coronavirus COVID-19 in the United States.\n",
    "March 29, 2020 at 05:48 GMT, there have been 123774 confirmed cases and 2228 deaths due to coronavirus COVID-19 in the United States.\n",
    "March 29, 2020 at 07:41 GMT, there have been 123776 confirmed cases and 2229 deaths due to coronavirus COVID-19 in the United States.\n",
    "March 29, 2020 at 09:45 GMT, there have been 123781 confirmed cases and 2229 deaths due to coronavirus COVID-19 in the United States.\n",
    "March 29, 2020 at 11:44 GMT, there have been 123781 confirmed cases and 2229 deaths due to coronavirus COVID-19 in the United States.\n",
    "March 29, 2020 at 13:46 GMT, there have been 123828 confirmed cases and 2229 deaths due to coronavirus COVID-19 in the United States.\n",
    "March 29, 2020 at 15:47 GMT, there have been 125099 confirmed cases and 2238 deaths due to coronavirus COVID-19 in the United States.\n",
    "March 29, 2020 at 17:49 GMT, there have been 133146 confirmed cases and 2363 deaths due to coronavirus COVID-19 in the United States.\n",
    "March 29, 2020 at 19:47 GMT, there have been 137943 confirmed cases and 2431 deaths due to coronavirus COVID-19 in the United States.\n",
    "March 29, 2020 at 21:48 GMT, there have been 139904 confirmed cases and 2449 deaths due to coronavirus COVID-19 in the United States.\n",
    "March 29, 2020 at 23:49 GMT, there have been 141781 confirmed cases and 2471 deaths due to coronavirus COVID-19 in the United States.\n",
    "March 30, 2020 at 01:44 GMT, there have been 142004 confirmed cases and 2484 deaths due to coronavirus COVID-19 in the United States.\n",
    "March 30, 2020 at 03:46 GMT, there have been 142735 confirmed cases and 2488 deaths due to coronavirus COVID-19 in the United States.\n",
    "March 30, 2020 at 06:46 GMT, there have been 142735 confirmed cases and 2488 deaths due to coronavirus COVID-19 in the United States.\n",
    "March 30, 2020 at 08:50 GMT, there have been 142735 confirmed cases and 2489 deaths due to coronavirus COVID-19 in the United States.\n",
    "March 30, 2020 at 10:50 GMT, there have been 142746 confirmed cases and 2489 deaths due to coronavirus COVID-19 in the United States.\n",
    "March 30, 2020 at 12:50 GMT, there have been 142793 confirmed cases and 2490 deaths due to coronavirus COVID-19 in the United States.\n",
    "March 30, 2020 at 14:50 GMT, there have been 144410 confirmed cases and 2600 deaths due to coronavirus COVID-19 in the United States.\n",
    "March 30, 2020 at 16:50 GMT, there have been 145542 confirmed cases and 2616 deaths due to coronavirus COVID-19 in the United States.\n",
    "March 30, 2020 at 18:50 GMT, there have been 156565 confirmed cases and 2870 deaths due to coronavirus COVID-19 in the United States.\n",
    "March 30, 2020 at 20:50 GMT, there have been 159689 confirmed cases and 2951 deaths due to coronavirus COVID-19 in the United States.\n",
    "March 30, 2020 at 22:50 GMT, there have been 161358 confirmed cases and 2974 deaths due to coronavirus COVID-19 in the United States.\n",
    "March 31, 2020 at 00:50 GMT, there have been 163479 confirmed cases and 3148 deaths due to coronavirus COVID-19 in the United States.\n",
    "March 31, 2020 at 02:50 GMT, there have been 164253 confirmed cases and 3165 deaths due to coronavirus COVID-19 in the United States.\n",
    "March 31, 2020 at 04:50 GMT, there have been 164253 confirmed cases and 3167 deaths due to coronavirus COVID-19 in the United States.\n",
    "March 31, 2020 at 06:50 GMT, there have been 164323 confirmed cases and 3170 deaths due to coronavirus COVID-19 in the United States.\n",
    "March 31, 2020 at 08:42 GMT, there have been 164359 confirmed cases and 3173 deaths due to coronavirus COVID-19 in the United States.\n",
    "March 31, 2020 at 10:49 GMT, there have been 164359 confirmed cases and 3173 deaths due to coronavirus COVID-19 in the United States.\n",
    "March 31, 2020 at 12:49 GMT, there have been 164435 confirmed cases and 3175 deaths due to coronavirus COVID-19 in the United States.\n",
    "March 31, 2020 at 14:49 GMT, there have been 165392 confirmed cases and 3182 deaths due to coronavirus COVID-19 in the United States.\n",
    "March 31, 2020 at 16:49 GMT, there have been 175669 confirmed cases and 3424 deaths due to coronavirus COVID-19 in the United States.\n",
    "March 31, 2020 at 18:49 GMT, there have been 180340 confirmed cases and 3573 deaths due to coronavirus COVID-19 in the United States.\n",
    "March 31, 2020 at 20:49 GMT, there have been 186046 confirmed cases and 3807 deaths due to coronavirus COVID-19 in the United States.\n",
    "April 01, 2020 at 01:19 GMT, there have been 187729 confirmed cases and 3867 deaths due to coronavirus COVID-19 in the United States.\n",
    "April 01, 2020 at 02:49 GMT, there have been 188530 confirmed cases and 3889 deaths due to coronavirus COVID-19 in the United States.\n",
    "April 01, 2020 at 04:49 GMT, there have been 188578 confirmed cases and 4054 deaths due to coronavirus COVID-19 in the United States.\n",
    "April 01, 2020 at 06:49 GMT, there have been 188592 confirmed cases and 4055 deaths due to coronavirus COVID-19 in the United States.\n",
    "April 01, 2020 at 08:49 GMT, there have been 188592 confirmed cases and 4056 deaths due to coronavirus COVID-19 in the United States.\n",
    "April 01, 2020 at 10:49 GMT, there have been 188639 confirmed cases and 4059 deaths due to coronavirus COVID-19 in the United States.\n",
    "April 01, 2020 at 12:49 GMT, there have been 188647 confirmed cases and 4059 deaths due to coronavirus COVID-19 in the United States.\n",
    "April 01, 2020 at 14:49 GMT, there have been 189711 confirmed cases and 4099 deaths due to coronavirus COVID-19 in the United States.\n",
    "April 01, 2020 at 16:49 GMT, there have been 200289 confirmed cases and 4394 deaths due to coronavirus COVID-19 in the United States.\n",
    "April 01, 2020 at 18:49 GMT, there have been 205438 confirmed cases and 4528 deaths due to coronavirus COVID-19 in the United States.\n",
    "April 01, 2020 at 20:49 GMT, there have been 211143 confirmed cases and 4713 deaths due to coronavirus COVID-19 in the United States.\n",
    "April 01, 2020 at 22:49 GMT, there have been 212980 confirmed cases and 4759 deaths due to coronavirus COVID-19 in the United States.\n",
    "April 02, 2020 at 00:49 GMT, there have been 215003 confirmed cases and 5102 deaths due to coronavirus COVID-19 in the United States.\n",
    "April 02, 2020 at 02:49 GMT, there have been 215175 confirmed cases and 5110 deaths due to coronavirus COVID-19 in the United States.\n",
    "April 02, 2020 at 04:49 GMT, there have been 215300 confirmed cases and 5110 deaths due to coronavirus COVID-19 in the United States.\n",
    "April 02, 2020 at 06:49 GMT, there have been 215324 confirmed cases and 5112 deaths due to coronavirus COVID-19 in the United States.\n",
    "April 02, 2020 at 08:49 GMT, there have been 215344 confirmed cases and 5112 deaths due to coronavirus COVID-19 in the United States.\n",
    "April 02, 2020 at 10:49 GMT, there have been 215344 confirmed cases and 5112 deaths due to coronavirus COVID-19 in the United States.\n",
    "April 02, 2020 at 12:49 GMT, there have been 216722 confirmed cases and 5140 deaths due to coronavirus COVID-19 in the United States.\n",
    "April 02, 2020 at 14:49 GMT, there have been 219832 confirmed cases and 5227 deaths due to coronavirus COVID-19 in the United States.\n",
    "April 02, 2020 at 16:49 GMT, there have been 222658 confirmed cases and 5356 deaths due to coronavirus COVID-19 in the United States.\n",
    "April 02, 2020 at 18:49 GMT, there have been 232899 confirmed cases and 5665 deaths due to coronavirus COVID-19 in the United States.\n",
    "April 02, 2020 at 20:49 GMT, there have been 243298 confirmed cases and 5883 deaths due to coronavirus COVID-19 in the United States.\n",
    "April 02, 2020 at 22:19 GMT, there have been 244230 confirmed cases and 5883 deaths due to coronavirus COVID-19 in the United States.\n",
    "April 03, 2020 at 01:20 GMT, there have been 244877 confirmed cases and 6070 deaths due to coronavirus COVID-19 in the United States.\n",
    "April 03, 2020 at 01:36 GMT, there have been 245066 confirmed cases and 6075 deaths due to coronavirus COVID-19 in the United States.\n",
    "April 03, 2020 at 03:20 GMT, there have been 245088 confirmed cases and 6075 deaths due to coronavirus COVID-19 in the United States.\n",
    "April 03, 2020 at 05:20 GMT, there have been 245341 confirmed cases and 6095 deaths due to coronavirus COVID-19 in the United States.\n",
    "April 03, 2020 at 07:20 GMT, there have been 245373 confirmed cases and 6095 deaths due to coronavirus COVID-19 in the United States.\n",
    "April 03, 2020 at 09:20 GMT, there have been 245373 confirmed cases and 6095 deaths due to coronavirus COVID-19 in the United States.\n",
    "April 03, 2020 at 11:20 GMT, there have been 245380 confirmed cases and 6095 deaths due to coronavirus COVID-19 in the United States.\n",
    "April 03, 2020 at 13:20 GMT, there have been 245442 confirmed cases and 6098 deaths due to coronavirus COVID-19 in the United States.\n",
    "April 03, 2020 at 14:49 GMT, there have been 245442 confirmed cases and 6099 deaths due to coronavirus COVID-19 in the United States.\n",
    "\"\"\"\n"
   ]
  },
  {
   "cell_type": "raw",
   "metadata": {},
   "source": [
    "!rm DATA/CoronaData2.db"
   ]
  },
  {
   "cell_type": "code",
   "execution_count": 529,
   "metadata": {},
   "outputs": [
    {
     "name": "stdout",
     "output_type": "stream",
     "text": [
      "1 March 08, 2020 at 23:30 GMT, there have been 537 confirmed cases and 21 deaths due to coronavirus COVID-19 in the United States\n",
      "2 March 09, 2020 at 04:30 GMT, there have been 589 confirmed cases and 22 deaths due to coronavirus COVID-19 in the United States\n",
      "3 March 10, 2020 at 05:30 GMT, there have been 708 confirmed cases and 27 deaths due to coronavirus COVID-19 in the United States\n",
      "4 March 10, 2020 at 23:35 GMT, there have been 975 confirmed cases and 30 deaths due to coronavirus COVID-19 in the United States\n",
      "5 March 11, 2020 at 04:25 GMT, there have been 1010 confirmed cases and 31 deaths due to coronavirus COVID-19 in the United States\n",
      "6 March 11, 2020 at 15:17 GMT, there have been 1016 confirmed cases and 31 deaths due to coronavirus COVID-19 in the United States\n",
      "7 March 11, 2020 at 23:35 GMT, there have been 1301 confirmed cases and 38 deaths due to coronavirus COVID-19 in the United States\n",
      "8 March 12, 2020 at 03:25 GMT, there have been 1327 confirmed cases and 38 deaths due to coronavirus COVID-19 in the United States\n",
      "9 March 12, 2020 at 11:37 GMT, there have been 1336 confirmed cases and 38 deaths due to coronavirus COVID-19 in the United States\n",
      "10 March 12, 2020 at 22:00 GMT, there have been 1639 confirmed cases and 40 deaths due to coronavirus COVID-19 in the United States\n",
      "11 March 13, 2020 at 00:05 GMT, there have been 1715 confirmed cases and 41 deaths due to coronavirus COVID-19 in the United States\n",
      "12 March 13, 2020 at 01:35 GMT, there have been 1725 confirmed cases and 41 deaths due to coronavirus COVID-19 in the United States\n",
      "13 March 13, 2020 at 03:45 GMT, there have been 1747 confirmed cases and 41 deaths due to coronavirus COVID-19 in the United States\n",
      "14 March 13, 2020 at 06:00 GMT, there have been 1762 confirmed cases and 41 deaths due to coronavirus COVID-19 in the United States\n",
      "15 March 13, 2020 at 15:25 GMT, there have been 1832 confirmed cases and 41 deaths due to coronavirus COVID-19 in the United States\n",
      "16 March 13, 2020 at 22:25 GMT, there have been 2269 confirmed cases and 48 deaths due to coronavirus COVID-19 in the United States\n",
      "17 March 14, 2020 at 02:40 GMT, there have been 2291 confirmed cases and 50 deaths due to coronavirus COVID-19 in the United States\n",
      "18 March 14, 2020 at 07:14 GMT, there have been 2319 confirmed cases and 50 deaths due to coronavirus COVID-19 in the United States\n",
      "19 March 14, 2020 at 16:45 GMT, there have been 2499 confirmed cases and 51 deaths due to coronavirus COVID-19 in the United States\n",
      "20 March 14, 2020 at 23:03 GMT, there have been 2836 confirmed cases and 57 deaths due to coronavirus COVID-19 in the United States\n",
      "21 March 15, 2020 at 05:00 GMT, there have been 2982 confirmed cases and 60 deaths due to coronavirus COVID-19 in the United States\n",
      "22 March 15, 2020 at 05:40 GMT, there have been 2995 confirmed cases and 60 deaths due to coronavirus COVID-19 in the United States\n",
      "23 March 15, 2020 at 07:05 GMT, there have been 3043 confirmed cases and 60 deaths due to coronavirus COVID-19 in the United States\n",
      "24 March 15, 2020 at 19:00 GMT, there have been 3329 confirmed cases and 63 deaths due to coronavirus COVID-19 in the United States\n",
      "25 March 15, 2020 at 20:05 GMT, there have been 3400 confirmed cases and 63 deaths due to coronavirus COVID-19 in the United States\n",
      "26 March 15, 2020 at 21:15 GMT, there have been 3621 confirmed cases and 63 deaths due to coronavirus COVID-19 in the United States\n",
      "27 March 15, 2020 at 22:15 GMT, there have been 3502 confirmed cases and 63 deaths due to coronavirus COVID-19 in the United States\n",
      "28 March 16, 2020 at 00:35 GMT, there have been 3714 confirmed cases and 68 deaths due to coronavirus COVID-19 in the United States\n",
      "29 March 16, 2020 at 02:48 GMT, there have been 3777 confirmed cases and 69 deaths due to coronavirus COVID-19 in the United States\n",
      "30 March 16, 2020 at 05:36 GMT, there have been 3782 confirmed cases and 69 deaths due to coronavirus COVID-19 in the United States\n",
      "31 March 16, 2020 at 08:29 GMT, there have been 3802 confirmed cases and 69 deaths due to coronavirus COVID-19 in the United States\n",
      "32 March 16, 2020 at 18:40 GMT, there have been 4186 confirmed cases and 73 deaths due to coronavirus COVID-19 in the United States\n",
      "33 March 16, 2020 at 22:40 GMT, there have been 4597 confirmed cases and 86 deaths due to coronavirus COVID-19 in the United States\n",
      "34 March 17, 2020 at 00:45 GMT, there have been 4667 confirmed cases and 87 deaths due to coronavirus COVID-19 in the United States\n",
      "35 March 17, 2020 at 02:40 GMT, there have been 4704 confirmed cases and 91 deaths due to coronavirus COVID-19 in the United States\n",
      "36 March 17, 2020 at 06:35 GMT, there have been 4727 confirmed cases and 93 deaths due to coronavirus COVID-19 in the United States\n",
      "37 March 17, 2020 at 10:31 GMT, there have been 4743 confirmed cases and 93 deaths due to coronavirus COVID-19 in the United States\n",
      "38 March 17, 2020 at 14:38 GMT, there have been 4752 confirmed cases and 93 deaths due to coronavirus COVID-19 in the United States\n",
      "39 March 17, 2020 at 18:41 GMT, there have been 5723 confirmed cases and 97 deaths due to coronavirus COVID-19 in the United States\n",
      "40 March 17, 2020 at 21:55 GMT, there have been 6211 confirmed cases and 102 deaths due to coronavirus COVID-19 in the United States\n",
      "41 March 17, 2020 at 22:40 GMT, there have been 6349 confirmed cases and 106 deaths due to coronavirus COVID-19 in the United States\n",
      "42 March 18, 2020 at 02:20 GMT, there have been 6499 confirmed cases and 112 deaths due to coronavirus COVID-19 in the United States\n",
      "43 March 18, 2020 at 06:05 GMT, there have been 6522 confirmed cases and 116 deaths due to coronavirus COVID-19 in the United States\n",
      "44 March 18, 2020 at 10:10 GMT, there have been 6524 confirmed cases and 116 deaths due to coronavirus COVID-19 in the United States\n",
      "45 March 18, 2020 at 16:15 GMT, there have been 7601 confirmed cases and 116 deaths due to coronavirus COVID-19 in the United States\n",
      "46 March 18, 2020 at 18:16 GMT, there have been 7708 confirmed cases and 120 deaths due to coronavirus COVID-19 in the United States\n",
      "47 March 18, 2020 at 20:21 GMT, there have been 8710 confirmed cases and 132 deaths due to coronavirus COVID-19 in the United States\n",
      "48 March 18, 2020 at 22:10 GMT, there have been 8998 confirmed cases and 150 deaths due to coronavirus COVID-19 in the United States\n",
      "49 March 19, 2020 at 02:17 GMT, there have been 9371 confirmed cases and 153 deaths due to coronavirus COVID-19 in the United States\n",
      "50 March 19, 2020 at 10:16 GMT, there have been 9464 confirmed cases and 155 deaths due to coronavirus COVID-19 in the United States\n",
      "51 March 19, 2020 at 12:18 GMT, there have been 9473 confirmed cases and 155 deaths due to coronavirus COVID-19 in the United States\n",
      "52 March 19, 2020 at 14:15 GMT, there have been 9486 confirmed cases and 157 deaths due to coronavirus COVID-19 in the United States\n",
      "53 March 19, 2020 at 16:22 GMT, there have been 10692 confirmed cases and 160 deaths due to coronavirus COVID-19 in the United States\n",
      "54 March 19, 2020 at 18:17 GMT, there have been 11355 confirmed cases and 171 deaths due to coronavirus COVID-19 in the United States\n",
      "55 March 19, 2020 at 22:45 GMT, there have been 13737 confirmed cases and 201 deaths due to coronavirus COVID-19 in the United States\n",
      "56 March 20, 2020 at 00:48 GMT, there have been 13865 confirmed cases and 211 deaths due to coronavirus COVID-19 in the United States\n",
      "57 March 20, 2020 at 02:40 GMT, there have been 14316 confirmed cases and 218 deaths due to coronavirus COVID-19 in the United States\n",
      "58 March 20, 2020 at 04:34 GMT, there have been 14336 confirmed cases and 218 deaths due to coronavirus COVID-19 in the United States\n",
      "59 March 20, 2020 at 06:35 GMT, there have been 14366 confirmed cases and 217 deaths due to coronavirus COVID-19 in the United States\n",
      "60 March 20, 2020 at 08:10 GMT, there have been 14366 confirmed cases and 217 deaths due to coronavirus COVID-19 in the United States\n",
      "61 March 20, 2020 at 10:11 GMT, there have been 14366 confirmed cases and 217 deaths due to coronavirus COVID-19 in the United States\n",
      "62 March 20, 2020 at 12:11 GMT, there have been 14366 confirmed cases and 217 deaths due to coronavirus COVID-19 in the United States\n",
      "63 March 20, 2020 at 14:10 GMT, there have been 14373 confirmed cases and 218 deaths due to coronavirus COVID-19 in the United States\n",
      "64 March 20, 2020 at 16:11 GMT, there have been 16067 confirmed cases and 219 deaths due to coronavirus COVID-19 in the United States\n",
      "65 March 20, 2020 at 18:12 GMT, there have been 16545 confirmed cases and 225 deaths due to coronavirus COVID-19 in the United States\n",
      "66 March 20, 2020 at 20:12 GMT, there have been 18121 confirmed cases and 233 deaths due to coronavirus COVID-19 in the United States\n",
      "67 March 20, 2020 at 22:12 GMT, there have been 18876 confirmed cases and 237 deaths due to coronavirus COVID-19 in the United States\n",
      "68 March 21, 2020 at 00:06 GMT, there have been 19393 confirmed cases and 256 deaths due to coronavirus COVID-19 in the United States\n",
      "69 March 21, 2020 at 02:07 GMT, there have been 19643 confirmed cases and 263 deaths due to coronavirus COVID-19 in the United States\n",
      "70 March 21, 2020 at 04:08 GMT, there have been 19652 confirmed cases and 264 deaths due to coronavirus COVID-19 in the United States\n",
      "71 March 21, 2020 at 06:05 GMT, there have been 19774 confirmed cases and 275 deaths due to coronavirus COVID-19 in the United States\n",
      "72 March 21, 2020 at 08:10 GMT, there have been 19774 confirmed cases and 275 deaths due to coronavirus COVID-19 in the United States\n",
      "73 March 21, 2020 at 10:12 GMT, there have been 19774 confirmed cases and 275 deaths due to coronavirus COVID-19 in the United States\n",
      "74 March 21, 2020 at 12:46 GMT, there have been 19775 confirmed cases and 276 deaths due to coronavirus COVID-19 in the United States\n",
      "75 March 21, 2020 at 14:48 GMT, there have been 19823 confirmed cases and 276 deaths due to coronavirus COVID-19 in the United States\n",
      "76 March 21, 2020 at 16:48 GMT, there have been 22085 confirmed cases and 282 deaths due to coronavirus COVID-19 in the United States\n",
      "77 March 21, 2020 at 18:45 GMT, there have been 22813 confirmed cases and 288 deaths due to coronavirus COVID-19 in the United States\n",
      "78 March 21, 2020 at 20:45 GMT, there have been 24142 confirmed cases and 288 deaths due to coronavirus COVID-19 in the United States\n",
      "79 March 21, 2020 at 22:45 GMT, there have been 23940 confirmed cases and 301 deaths due to coronavirus COVID-19 in the United States\n",
      "80 March 22, 2020 at 00:40 GMT, there have been 26111 confirmed cases and 324 deaths due to coronavirus COVID-19 in the United States\n",
      "81 March 22, 2020 at 02:40 GMT, there have been 26711 confirmed cases and 341 deaths due to coronavirus COVID-19 in the United States\n",
      "82 March 22, 2020 at 04:45 GMT, there have been 26867 confirmed cases and 348 deaths due to coronavirus COVID-19 in the United States\n",
      "83 March 22, 2020 at 06:30 GMT, there have been 26892 confirmed cases and 348 deaths due to coronavirus COVID-19 in the United States\n",
      "84 March 22, 2020 at 08:45 GMT, there have been 26892 confirmed cases and 348 deaths due to coronavirus COVID-19 in the United States\n",
      "85 March 22, 2020 at 10:45 GMT, there have been 26900 confirmed cases and 348 deaths due to coronavirus COVID-19 in the United States\n",
      "86 March 22, 2020 at 12:48 GMT, there have been 26905 confirmed cases and 348 deaths due to coronavirus COVID-19 in the United States\n",
      "87 March 22, 2020 at 14:45 GMT, there have been 27031 confirmed cases and 349 deaths due to coronavirus COVID-19 in the United States\n",
      "88 March 22, 2020 at 16:42 GMT, there have been 30239 confirmed cases and 388 deaths due to coronavirus COVID-19 in the United States\n",
      "89 March 22, 2020 at 18:48 GMT, there have been 38757 confirmed cases and 400 deaths due to coronavirus COVID-19 in the United States\n",
      "90 March 22, 2020 at 20:44 GMT, there have been 32356 confirmed cases and 414 deaths due to coronavirus COVID-19 in the United States\n",
      "91 March 22, 2020 at 21:41 GMT, there have been 32356 confirmed cases and 414 deaths due to coronavirus COVID-19 in the United States\n",
      "92 March 23, 2020 at 00:44 GMT, there have been 33346 confirmed cases and 414 deaths due to coronavirus COVID-19 in the United States\n",
      "93 March 23, 2020 at 02:37 GMT, there have been 33546 confirmed cases and 419 deaths due to coronavirus COVID-19 in the United States\n",
      "94 March 23, 2020 at 03:55 GMT, there have been 34717 confirmed cases and 452 deaths due to coronavirus COVID-19 in the United States\n",
      "95 March 23, 2020 at 06:45 GMT, there have been 35060 confirmed cases and 457 deaths due to coronavirus COVID-19 in the United States\n",
      "96 March 23, 2020 at 08:47 GMT, there have been 35070 confirmed cases and 458 deaths due to coronavirus COVID-19 in the United States\n",
      "97 March 23, 2020 at 10:47 GMT, there have been 35070 confirmed cases and 458 deaths due to coronavirus COVID-19 in the United States\n",
      "98 March 23, 2020 at 12:46 GMT, there have been 35075 confirmed cases and 458 deaths due to coronavirus COVID-19 in the United States\n",
      "99 March 23, 2020 at 14:45 GMT, there have been 35179 confirmed cases and 459 deaths due to coronavirus COVID-19 in the United States\n",
      "100 March 23, 2020 at 16:45 GMT, there have been 40773 confirmed cases and 479 deaths due to coronavirus COVID-19 in the United States\n",
      "101 March 23, 2020 at 18:46 GMT, there have been 41569 confirmed cases and 504 deaths due to coronavirus COVID-19 in the United States\n",
      "102 March 23, 2020 at 20:47 GMT, there have been 42443 confirmed cases and 517 deaths due to coronavirus COVID-19 in the United States\n",
      "103 March 23, 2020 at 22:31 GMT, there have been 43449 confirmed cases and 545 deaths due to coronavirus COVID-19 in the United States\n",
      "104 March 24, 2020 at 00:47 GMT, there have been 43718 confirmed cases and 552 deaths due to coronavirus COVID-19 in the United States\n",
      "105 March 24, 2020 at 02:33 GMT, there have been 43734 confirmed cases and 553 deaths due to coronavirus COVID-19 in the United States\n",
      "106 March 24, 2020 at 04:46 GMT, there have been 46145 confirmed cases and 582 deaths due to coronavirus COVID-19 in the United States\n",
      "107 March 24, 2020 at 06:43 GMT, there have been 46145 confirmed cases and 582 deaths due to coronavirus COVID-19 in the United States\n",
      "108 March 24, 2020 at 08:48 GMT, there have been 46145 confirmed cases and 582 deaths due to coronavirus COVID-19 in the United States\n",
      "109 March 24, 2020 at 10:47 GMT, there have been 46168 confirmed cases and 582 deaths due to coronavirus COVID-19 in the United States\n",
      "110 March 24, 2020 at 12:47 GMT, there have been 46168 confirmed cases and 582 deaths due to coronavirus COVID-19 in the United States\n",
      "111 March 24, 2020 at 14:47 GMT, there have been 46274 confirmed cases and 588 deaths due to coronavirus COVID-19 in the United States\n",
      "112 March 24, 2020 at 16:47 GMT, there have been 49594 confirmed cases and 622 deaths due to coronavirus COVID-19 in the United States\n",
      "113 March 24, 2020 at 18:45 GMT, there have been 50982 confirmed cases and 655 deaths due to coronavirus COVID-19 in the United States\n",
      "114 March 24, 2020 at 20:42 GMT, there have been 52921 confirmed cases and 684 deaths due to coronavirus COVID-19 in the United States\n",
      "115 March 24, 2020 at 22:48 GMT, there have been 53205 confirmed cases and 687 deaths due to coronavirus COVID-19 in the United States\n",
      "116 March 25, 2020 at 00:29 GMT, there have been 53655 confirmed cases and 698 deaths due to coronavirus COVID-19 in the United States\n",
      "117 March 25, 2020 at 02:44 GMT, there have been 54823 confirmed cases and 778 deaths due to coronavirus COVID-19 in the United States\n",
      "118 March 25, 2020 at 04:46 GMT, there have been 54867 confirmed cases and 782 deaths due to coronavirus COVID-19 in the United States\n",
      "119 March 25, 2020 at 06:47 GMT, there have been 54916 confirmed cases and 784 deaths due to coronavirus COVID-19 in the United States\n",
      "120 March 25, 2020 at 08:48 GMT, there have been 54935 confirmed cases and 784 deaths due to coronavirus COVID-19 in the United States\n",
      "121 March 25, 2020 at 10:43 GMT, there have been 54941 confirmed cases and 784 deaths due to coronavirus COVID-19 in the United States\n",
      "122 March 25, 2020 at 12:48 GMT, there have been 54979 confirmed cases and 785 deaths due to coronavirus COVID-19 in the United States\n",
      "123 March 25, 2020 at 14:48 GMT, there have been 55081 confirmed cases and 785 deaths due to coronavirus COVID-19 in the United States\n",
      "124 March 25, 2020 at 16:48 GMT, there have been 60642 confirmed cases and 817 deaths due to coronavirus COVID-19 in the United States\n",
      "125 March 25, 2020 at 18:48 GMT, there have been 62364 confirmed cases and 878 deaths due to coronavirus COVID-19 in the United States\n",
      "126 March 25, 2020 at 20:33 GMT, there have been 64765 confirmed cases and 910 deaths due to coronavirus COVID-19 in the United States\n",
      "127 March 25, 2020 at 22:44 GMT, there have been 65527 confirmed cases and 928 deaths due to coronavirus COVID-19 in the United States\n",
      "128 March 26, 2020 at 00:34 GMT, there have been 65797 confirmed cases and 935 deaths due to coronavirus COVID-19 in the United States\n",
      "129 March 26, 2020 at 02:43 GMT, there have been 66741 confirmed cases and 963 deaths due to coronavirus COVID-19 in the United States\n",
      "130 March 26, 2020 at 05:24 GMT, there have been 68472 confirmed cases and 1032 deaths due to coronavirus COVID-19 in the United States\n",
      "131 March 26, 2020 at 07:03 GMT, there have been 68489 confirmed cases and 1032 deaths due to coronavirus COVID-19 in the United States\n",
      "132 March 26, 2020 at 09:02 GMT, there have been 68489 confirmed cases and 1032 deaths due to coronavirus COVID-19 in the United States\n",
      "133 March 26, 2020 at 11:02 GMT, there have been 68581 confirmed cases and 1036 deaths due to coronavirus COVID-19 in the United States\n",
      "134 March 26, 2020 at 13:01 GMT, there have been 68594 confirmed cases and 1036 deaths due to coronavirus COVID-19 in the United States\n",
      "135 March 26, 2020 at 14:52 GMT, there have been 68905 confirmed cases and 1037 deaths due to coronavirus COVID-19 in the United States\n",
      "136 March 26, 2020 at 17:02 GMT, there have been 75069 confirmed cases and 1080 deaths due to coronavirus COVID-19 in the United States\n",
      "137 March 26, 2020 at 19:00 GMT, there have been 79082 confirmed cases and 1143 deaths due to coronavirus COVID-19 in the United States\n",
      "138 March 26, 2020 at 21:01 GMT, there have been 81946 confirmed cases and 1177 deaths due to coronavirus COVID-19 in the United States\n",
      "139 March 26, 2020 at 23:02 GMT, there have been 83206 confirmed cases and 1201 deaths due to coronavirus COVID-19 in the United States\n",
      "140 March 27, 2020 at 01:00 GMT, there have been 85280 confirmed cases and 1293 deaths due to coronavirus COVID-19 in the United States\n",
      "141 March 27, 2020 at 03:01 GMT, there have been 85520 confirmed cases and 1297 deaths due to coronavirus COVID-19 in the United States\n",
      "142 March 27, 2020 at 04:36 GMT, there have been 85594 confirmed cases and 1300 deaths due to coronavirus COVID-19 in the United States\n",
      "143 March 27, 2020 at 07:33 GMT, there have been 85612 confirmed cases and 1301 deaths due to coronavirus COVID-19 in the United States\n",
      "144 March 27, 2020 at 09:32 GMT, there have been 85612 confirmed cases and 1301 deaths due to coronavirus COVID-19 in the United States\n",
      "145 March 27, 2020 at 11:31 GMT, there have been 85749 confirmed cases and 1304 deaths due to coronavirus COVID-19 in the United States\n",
      "146 March 27, 2020 at 13:32 GMT, there have been 85755 confirmed cases and 1304 deaths due to coronavirus COVID-19 in the United States\n",
      "147 March 27, 2020 at 15:33 GMT, there have been 86548 confirmed cases and 1321 deaths due to coronavirus COVID-19 in the United States\n",
      "148 March 27, 2020 at 17:32 GMT, there have been 94425 confirmed cases and 1429 deaths due to coronavirus COVID-19 in the United States\n",
      "149 March 27, 2020 at 19:33 GMT, there have been 98180 confirmed cases and 1513 deaths due to coronavirus COVID-19 in the United States\n",
      "150 March 27, 2020 at 21:33 GMT, there have been 100514 confirmed cases and 1546 deaths due to coronavirus COVID-19 in the United States\n",
      "151 March 27, 2020 at 23:33 GMT, there have been 102325 confirmed cases and 1591 deaths due to coronavirus COVID-19 in the United States\n",
      "152 March 28, 2020 at 01:32 GMT, there have been 104126 confirmed cases and 1692 deaths due to coronavirus COVID-19 in the United States\n",
      "153 March 28, 2020 at 03:34 GMT, there have been 104205 confirmed cases and 1704 deaths due to coronavirus COVID-19 in the United States\n",
      "154 March 28, 2020 at 05:35 GMT, there have been 104205 confirmed cases and 1704 deaths due to coronavirus COVID-19 in the United States\n",
      "155 March 28, 2020 at 07:35 GMT, there have been 104256 confirmed cases and 1704 deaths due to coronavirus COVID-19 in the United States\n",
      "156 March 28, 2020 at 09:35 GMT, there have been 104256 confirmed cases and 1704 deaths due to coronavirus COVID-19 in the United States\n",
      "157 March 28, 2020 at 11:40 GMT, there have been 104256 confirmed cases and 1704 deaths due to coronavirus COVID-19 in the United States\n",
      "158 March 28, 2020 at 13:36 GMT, there have been 104277 confirmed cases and 1704 deaths due to coronavirus COVID-19 in the United States\n",
      "159 March 28, 2020 at 15:45 GMT, there have been 105726 confirmed cases and 1730 deaths due to coronavirus COVID-19 in the United States\n",
      "160 March 28, 2020 at 17:45 GMT, there have been 116050 confirmed cases and 1937 deaths due to coronavirus COVID-19 in the United States\n",
      "161 March 28, 2020 at 19:43 GMT, there have been 118592 confirmed cases and 1979 deaths due to coronavirus COVID-19 in the United States\n",
      "162 March 28, 2020 at 21:44 GMT, there have been 120204 confirmed cases and 1997 deaths due to coronavirus COVID-19 in the United States\n",
      "163 March 28, 2020 at 23:43 GMT, there have been 123311 confirmed cases and 2211 deaths due to coronavirus COVID-19 in the United States\n",
      "164 March 29, 2020 at 01:46 GMT, there have been 123578 confirmed cases and 2221 deaths due to coronavirus COVID-19 in the United States\n",
      "165 March 29, 2020 at 03:46 GMT, there have been 123750 confirmed cases and 2227 deaths due to coronavirus COVID-19 in the United States\n",
      "166 March 29, 2020 at 05:48 GMT, there have been 123774 confirmed cases and 2228 deaths due to coronavirus COVID-19 in the United States\n",
      "167 March 29, 2020 at 07:41 GMT, there have been 123776 confirmed cases and 2229 deaths due to coronavirus COVID-19 in the United States\n",
      "168 March 29, 2020 at 09:45 GMT, there have been 123781 confirmed cases and 2229 deaths due to coronavirus COVID-19 in the United States\n",
      "169 March 29, 2020 at 11:44 GMT, there have been 123781 confirmed cases and 2229 deaths due to coronavirus COVID-19 in the United States\n",
      "170 March 29, 2020 at 13:46 GMT, there have been 123828 confirmed cases and 2229 deaths due to coronavirus COVID-19 in the United States\n",
      "171 March 29, 2020 at 15:47 GMT, there have been 125099 confirmed cases and 2238 deaths due to coronavirus COVID-19 in the United States\n",
      "172 March 29, 2020 at 17:49 GMT, there have been 133146 confirmed cases and 2363 deaths due to coronavirus COVID-19 in the United States\n",
      "173 March 29, 2020 at 19:47 GMT, there have been 137943 confirmed cases and 2431 deaths due to coronavirus COVID-19 in the United States\n",
      "174 March 29, 2020 at 21:48 GMT, there have been 139904 confirmed cases and 2449 deaths due to coronavirus COVID-19 in the United States\n",
      "175 March 29, 2020 at 23:49 GMT, there have been 141781 confirmed cases and 2471 deaths due to coronavirus COVID-19 in the United States\n",
      "176 March 30, 2020 at 01:44 GMT, there have been 142004 confirmed cases and 2484 deaths due to coronavirus COVID-19 in the United States\n",
      "177 March 30, 2020 at 03:46 GMT, there have been 142735 confirmed cases and 2488 deaths due to coronavirus COVID-19 in the United States\n",
      "178 March 30, 2020 at 06:46 GMT, there have been 142735 confirmed cases and 2488 deaths due to coronavirus COVID-19 in the United States\n",
      "179 March 30, 2020 at 08:50 GMT, there have been 142735 confirmed cases and 2489 deaths due to coronavirus COVID-19 in the United States\n",
      "180 March 30, 2020 at 10:50 GMT, there have been 142746 confirmed cases and 2489 deaths due to coronavirus COVID-19 in the United States\n",
      "181 March 30, 2020 at 12:50 GMT, there have been 142793 confirmed cases and 2490 deaths due to coronavirus COVID-19 in the United States\n",
      "182 March 30, 2020 at 14:50 GMT, there have been 144410 confirmed cases and 2600 deaths due to coronavirus COVID-19 in the United States\n",
      "183 March 30, 2020 at 16:50 GMT, there have been 145542 confirmed cases and 2616 deaths due to coronavirus COVID-19 in the United States\n",
      "184 March 30, 2020 at 18:50 GMT, there have been 156565 confirmed cases and 2870 deaths due to coronavirus COVID-19 in the United States\n",
      "185 March 30, 2020 at 20:50 GMT, there have been 159689 confirmed cases and 2951 deaths due to coronavirus COVID-19 in the United States\n",
      "186 March 30, 2020 at 22:50 GMT, there have been 161358 confirmed cases and 2974 deaths due to coronavirus COVID-19 in the United States\n",
      "187 March 31, 2020 at 00:50 GMT, there have been 163479 confirmed cases and 3148 deaths due to coronavirus COVID-19 in the United States\n",
      "188 March 31, 2020 at 02:50 GMT, there have been 164253 confirmed cases and 3165 deaths due to coronavirus COVID-19 in the United States\n",
      "189 March 31, 2020 at 04:50 GMT, there have been 164253 confirmed cases and 3167 deaths due to coronavirus COVID-19 in the United States\n",
      "190 March 31, 2020 at 06:50 GMT, there have been 164323 confirmed cases and 3170 deaths due to coronavirus COVID-19 in the United States\n",
      "191 March 31, 2020 at 08:42 GMT, there have been 164359 confirmed cases and 3173 deaths due to coronavirus COVID-19 in the United States\n",
      "192 March 31, 2020 at 10:49 GMT, there have been 164359 confirmed cases and 3173 deaths due to coronavirus COVID-19 in the United States\n",
      "193 March 31, 2020 at 12:49 GMT, there have been 164435 confirmed cases and 3175 deaths due to coronavirus COVID-19 in the United States\n",
      "194 March 31, 2020 at 14:49 GMT, there have been 165392 confirmed cases and 3182 deaths due to coronavirus COVID-19 in the United States\n",
      "195 March 31, 2020 at 16:49 GMT, there have been 175669 confirmed cases and 3424 deaths due to coronavirus COVID-19 in the United States\n",
      "196 March 31, 2020 at 18:49 GMT, there have been 180340 confirmed cases and 3573 deaths due to coronavirus COVID-19 in the United States\n",
      "197 March 31, 2020 at 20:49 GMT, there have been 186046 confirmed cases and 3807 deaths due to coronavirus COVID-19 in the United States\n",
      "198 April 01, 2020 at 01:19 GMT, there have been 187729 confirmed cases and 3867 deaths due to coronavirus COVID-19 in the United States\n",
      "199 April 01, 2020 at 02:49 GMT, there have been 188530 confirmed cases and 3889 deaths due to coronavirus COVID-19 in the United States\n",
      "200 April 01, 2020 at 04:49 GMT, there have been 188578 confirmed cases and 4054 deaths due to coronavirus COVID-19 in the United States\n",
      "201 April 01, 2020 at 06:49 GMT, there have been 188592 confirmed cases and 4055 deaths due to coronavirus COVID-19 in the United States\n",
      "202 April 01, 2020 at 08:49 GMT, there have been 188592 confirmed cases and 4056 deaths due to coronavirus COVID-19 in the United States\n",
      "203 April 01, 2020 at 10:49 GMT, there have been 188639 confirmed cases and 4059 deaths due to coronavirus COVID-19 in the United States\n",
      "204 April 01, 2020 at 12:49 GMT, there have been 188647 confirmed cases and 4059 deaths due to coronavirus COVID-19 in the United States\n",
      "205 April 01, 2020 at 14:49 GMT, there have been 189711 confirmed cases and 4099 deaths due to coronavirus COVID-19 in the United States\n",
      "206 April 01, 2020 at 16:49 GMT, there have been 200289 confirmed cases and 4394 deaths due to coronavirus COVID-19 in the United States\n",
      "207 April 01, 2020 at 18:49 GMT, there have been 205438 confirmed cases and 4528 deaths due to coronavirus COVID-19 in the United States\n",
      "208 April 01, 2020 at 20:49 GMT, there have been 211143 confirmed cases and 4713 deaths due to coronavirus COVID-19 in the United States\n",
      "209 April 01, 2020 at 22:49 GMT, there have been 212980 confirmed cases and 4759 deaths due to coronavirus COVID-19 in the United States\n",
      "210 April 02, 2020 at 00:49 GMT, there have been 215003 confirmed cases and 5102 deaths due to coronavirus COVID-19 in the United States\n",
      "211 April 02, 2020 at 02:49 GMT, there have been 215175 confirmed cases and 5110 deaths due to coronavirus COVID-19 in the United States\n",
      "212 April 02, 2020 at 04:49 GMT, there have been 215300 confirmed cases and 5110 deaths due to coronavirus COVID-19 in the United States\n",
      "213 April 02, 2020 at 06:49 GMT, there have been 215324 confirmed cases and 5112 deaths due to coronavirus COVID-19 in the United States\n",
      "214 April 02, 2020 at 08:49 GMT, there have been 215344 confirmed cases and 5112 deaths due to coronavirus COVID-19 in the United States\n",
      "215 April 02, 2020 at 10:49 GMT, there have been 215344 confirmed cases and 5112 deaths due to coronavirus COVID-19 in the United States\n",
      "216 April 02, 2020 at 12:49 GMT, there have been 216722 confirmed cases and 5140 deaths due to coronavirus COVID-19 in the United States\n",
      "217 April 02, 2020 at 14:49 GMT, there have been 219832 confirmed cases and 5227 deaths due to coronavirus COVID-19 in the United States\n",
      "218 April 02, 2020 at 16:49 GMT, there have been 222658 confirmed cases and 5356 deaths due to coronavirus COVID-19 in the United States\n",
      "219 April 02, 2020 at 18:49 GMT, there have been 232899 confirmed cases and 5665 deaths due to coronavirus COVID-19 in the United States\n",
      "220 April 02, 2020 at 20:49 GMT, there have been 243298 confirmed cases and 5883 deaths due to coronavirus COVID-19 in the United States\n",
      "221 April 02, 2020 at 22:19 GMT, there have been 244230 confirmed cases and 5883 deaths due to coronavirus COVID-19 in the United States\n",
      "222 April 03, 2020 at 01:20 GMT, there have been 244877 confirmed cases and 6070 deaths due to coronavirus COVID-19 in the United States\n",
      "223 April 03, 2020 at 01:36 GMT, there have been 245066 confirmed cases and 6075 deaths due to coronavirus COVID-19 in the United States\n",
      "224 April 03, 2020 at 03:20 GMT, there have been 245088 confirmed cases and 6075 deaths due to coronavirus COVID-19 in the United States\n",
      "225 April 03, 2020 at 05:20 GMT, there have been 245341 confirmed cases and 6095 deaths due to coronavirus COVID-19 in the United States\n",
      "226 April 03, 2020 at 07:20 GMT, there have been 245373 confirmed cases and 6095 deaths due to coronavirus COVID-19 in the United States\n",
      "227 April 03, 2020 at 09:20 GMT, there have been 245373 confirmed cases and 6095 deaths due to coronavirus COVID-19 in the United States\n",
      "228 April 03, 2020 at 11:20 GMT, there have been 245380 confirmed cases and 6095 deaths due to coronavirus COVID-19 in the United States\n",
      "229 April 03, 2020 at 13:20 GMT, there have been 245442 confirmed cases and 6098 deaths due to coronavirus COVID-19 in the United States\n",
      "230 April 03, 2020 at 14:49 GMT, there have been 245442 confirmed cases and 6099 deaths due to coronavirus COVID-19 in the United States\n"
     ]
    }
   ],
   "source": [
    "DATA=DATA.replace(\"\\n\",\"\")\n",
    "lines=DATA.split(\".\")\n",
    "cnt=0\n",
    "for line in lines:\n",
    "    cnt=cnt+1\n",
    "    line=line.lstrip(\" \")\n",
    "    if len(line)>5:print (cnt,line)"
   ]
  },
  {
   "cell_type": "raw",
   "metadata": {},
   "source": [
    "import sqlite3\n",
    "conn=sqlite3.connect(\"DATA/CoronaData2.db\")    \n",
    "c = conn.cursor()\n",
    "sql = '''create table if not exists CORONA(data TEXT);'''\n",
    "conn.execute(sql)\n",
    "DATA=DATA.replace(\"\\n\",\"\")\n",
    "lines=DATA.split(\".\")\n",
    "for line in lines:\n",
    "    line=line.lstrip(\" \")\n",
    "    c.execute(\"insert into CORONA values (?)\",(line,))    \n",
    "conn.commit()\n",
    "conn.close()"
   ]
  },
  {
   "cell_type": "raw",
   "metadata": {},
   "source": [
    "import sqlite3\n",
    "\n",
    "DATA = ''\n",
    "conn=sqlite3.connect(\"DATA/CoronaData2.db\")\n",
    "c= conn.cursor()\n",
    "cnt=0\n",
    "for row in c.execute('SELECT * from CORONA'):\n",
    "    cnt=cnt+1\n",
    "    DATA  = DATA +row[0]\n",
    "    if cnt>164:print(row[0])"
   ]
  },
  {
   "cell_type": "code",
   "execution_count": 530,
   "metadata": {},
   "outputs": [
    {
     "name": "stdout",
     "output_type": "stream",
     "text": [
      "data.csv                                      100%   11KB  49.4KB/s   00:00    \n",
      "data.html                                     100%   12KB  56.0KB/s   00:00    \n"
     ]
    }
   ],
   "source": [
    "!update_toybox\n",
    "#scp /home/jack/Desktop/cOVID-19/data.* jack@192.243.103.247:/var/www/mylinuxtoybox.com/html/COVID-19/\n",
    "#scp /home/jack/Desktop/COVID-19/Header-Image-1500x250.jpg jack@192.243.103.247:/var/www/mylinuxtoybox.com/html/"
   ]
  },
  {
   "cell_type": "raw",
   "metadata": {},
   "source": [
    "\n",
    "28/03/2020,01:32:00,1585330320,1.98,104126,1695\n",
    "28/03/2020,03:08:00,1585336080,1.6,104205,1701   "
   ]
  },
  {
   "cell_type": "code",
   "execution_count": 531,
   "metadata": {},
   "outputs": [
    {
     "name": "stdout",
     "output_type": "stream",
     "text": [
      "21,22,27,30,31,31,38,38,38,40,41,41,41,41,41,48,50,50,51,57,60,60,60,63,63,63,63,68,69,69,69,73,86,87,91,93,93,93,97,102,106,112,116,116,116,120,132,150,153,155,155,157,160,171,201,211,218,218,217,217,217,217,218,219,225,233,237,256,263,264,275,275,275,276,276,282,288,288,301,324,341,348,348,348,348,348,349,388,400,414,414,414,419,452,457,458,458,458,459,479,504,517,545,552,553,582,582,582,582,582,588,622,655,684,687,698,778,782,784,784,784,785,785,817,878,910,928,935,963,1032,1032,1032,1036,1036,1037,1080,1143,1177,1201,1293,1297,1300,1301,1301,1304,1304,1321,1429,1513,1546,1591,1692,1704,1704,1704,1704,1704,1704,1730,1937,1979,1997,2211,2221,2227,2228,2229,2229,2229,2229,2238,2363,2431,2449,2471,2484,2488,2488,2489,2489,2490,2600,2616,2870,2951,2974,3148,3165,3167,3170,3173,3173,3175,3182,3424,3573,3807,3867,3889,4054,4055,4056,4059,4059,4099,4394,4528,4713,4759,5102,5110,5110,5112,5112,5112,5140,5227,5356,5665,5883,5883,6070,6075,6075,6095,6095,6095,6095,6098,6099,6603,6803,6988,7087,7391,7392,"
     ]
    }
   ],
   "source": [
    "\n",
    "for line in DEATHS:\n",
    "    print(line, end=\",\")"
   ]
  },
  {
   "cell_type": "code",
   "execution_count": 532,
   "metadata": {},
   "outputs": [
    {
     "name": "stdout",
     "output_type": "stream",
     "text": [
      "[-100,21.0],[-99,22.0],[-98,27.0],[-97,30.0],[-96,31.0],[-95,31.0],[-94,38.0],[-93,38.0],[-92,38.0],[-91,40.0],[-90,41.0],[-89,41.0],[-88,41.0],[-87,41.0],[-86,41.0],[-85,48.0],[-84,50.0],[-83,50.0],[-82,51.0],[-81,57.0],[-80,60.0],[-79,60.0],[-78,60.0],[-77,63.0],[-76,63.0],[-75,63.0],[-74,63.0],[-73,68.0],[-72,69.0],[-71,69.0],[-70,69.0],[-69,73.0],[-68,86.0],[-67,87.0],[-66,91.0],[-65,93.0],[-64,93.0],[-63,93.0],[-62,97.0],[-61,102.0],[-60,106.0],[-59,112.0],[-58,116.0],[-57,116.0],[-56,116.0],[-55,120.0],[-54,132.0],[-53,150.0],[-52,153.0],[-51,155.0],[-50,155.0],[-49,157.0],[-48,160.0],[-47,171.0],[-46,201.0],[-45,211.0],[-44,218.0],[-43,218.0],[-42,217.0],[-41,217.0],[-40,217.0],[-39,217.0],[-38,218.0],[-37,219.0],[-36,225.0],[-35,233.0],[-34,237.0],[-33,256.0],[-32,263.0],[-31,264.0],[-30,275.0],[-29,275.0],[-28,275.0],[-27,276.0],[-26,276.0],[-25,282.0],[-24,288.0],[-23,288.0],[-22,301.0],[-21,324.0],[-20,341.0],[-19,348.0],[-18,348.0],[-17,348.0],[-16,348.0],[-15,348.0],[-14,349.0],[-13,388.0],[-12,400.0],[-11,414.0],[-10,414.0],[-9,414.0],[-8,419.0],[-7,452.0],[-6,457.0],[-5,458.0],[-4,458.0],[-3,458.0],[-2,459.0],[-1,479.0],[0,504.0],[1,517.0],[2,545.0],[3,552.0],[4,553.0],[5,582.0],[6,582.0],[7,582.0],[8,582.0],[9,582.0],[10,588.0],[11,622.0],[12,655.0],[13,684.0],[14,687.0],[15,698.0],[16,778.0],[17,782.0],[18,784.0],[19,784.0],[20,784.0],[21,785.0],[22,785.0],[23,817.0],[24,878.0],[25,910.0],[26,928.0],[27,935.0],[28,963.0],[29,1032.0],[30,1032.0],[31,1032.0],[32,1036.0],[33,1036.0],[34,1037.0],[35,1080.0],[36,1143.0],[37,1177.0],[38,1201.0],[39,1293.0],[40,1297.0],[41,1300.0],[42,1301.0],[43,1301.0],[44,1304.0],[45,1304.0],[46,1321.0],[47,1429.0],[48,1513.0],[49,1546.0],[50,1591.0],[51,1692.0],[52,1704.0],[53,1704.0],[54,1704.0],[55,1704.0],[56,1704.0],[57,1704.0],[58,1730.0],[59,1937.0],[60,1979.0],[61,1997.0],[62,2211.0],[63,2221.0],[64,2227.0],[65,2228.0],[66,2229.0],[67,2229.0],[68,2229.0],[69,2229.0],[70,2238.0],[71,2363.0],[72,2431.0],[73,2449.0],[74,2471.0],[75,2484.0],[76,2488.0],[77,2488.0],[78,2489.0],[79,2489.0],[80,2490.0],[81,2600.0],[82,2616.0],[83,2870.0],[84,2951.0],[85,2974.0],[86,3148.0],[87,3165.0],[88,3167.0],[89,3170.0],[90,3173.0],[91,3173.0],[92,3175.0],[93,3182.0],[94,3424.0],[95,3573.0],[96,3807.0],[97,3867.0],[98,3889.0],[99,4054.0],[100,4055.0],[101,4056.0],[102,4059.0],[103,4059.0],[104,4099.0],[105,4394.0],[106,4528.0],[107,4713.0],[108,4759.0],[109,5102.0],[110,5110.0],[111,5110.0],[112,5112.0],[113,5112.0],[114,5112.0],[115,5140.0],[116,5227.0],[117,5356.0],[118,5665.0],[119,5883.0],[120,5883.0],[121,6070.0],[122,6075.0],[123,6075.0],[124,6095.0],[125,6095.0],[126,6095.0],[127,6095.0],[128,6098.0],[129,6099.0],[130,6603.0],[131,6803.0],[132,6988.0],[133,7087.0],[134,7391.0],[135,7392.0],"
     ]
    }
   ],
   "source": [
    "cnt = -100\n",
    "for line in DEATHS:\n",
    "    Cnt = str(cnt)\n",
    "    line = float(line)\n",
    "    line = str(line)\n",
    "    print(\"[\"+Cnt+\",\"+line+\"]\", end=\",\")\n",
    "    cnt = cnt +1"
   ]
  },
  {
   "cell_type": "code",
   "execution_count": null,
   "metadata": {},
   "outputs": [],
   "source": []
  },
  {
   "cell_type": "raw",
   "metadata": {},
   "source": [
    "21,22,27,30,31,31,38,38,38,40,41,41,41,41,41,48,50,50,51,57,60,60,60,63,63,63,63,68,69,69,69,73,86,87,91,93,93,93,97,102,106,112,116,116,116,120,132,150,153,155,155,157,160,171,201,211,218,218,217,217,217,217,218,\n",
    "219,225,233,237,256,263,264,275,275,275,276,276,\n",
    "282,288,288,301,324,341,348,348,348,348,348,349,\n",
    "388,400,414,414,414,419,452,457,458,458,458,\n",
    "459,479,504,517,545,552,553,582,582,582,582,582,\n",
    "588,622,655,684,687,698,778,782,784,784,784,785,785,\n",
    "817,878,910,928,935,963,1032,1032,1032,1036,1036,1037,\n",
    "1080,1143,1177,1201,1293,1297,1300,1301,1301,1304,1304,1321,\n",
    "1429,1513,1546,1591,1692,1704,1704,1704,1704,1704,1704,\n",
    "1730,1937,1979,1997,2211,\n",
    "\n",
    "learned data - 459.0 588.0 817.0 1080.0 1429.0\n",
    "Based on learned data, next three predicted numbers in the sequence are 1,604.7 1,848.2 2,091.6\n",
    "\n",
    "459.0 588.0 817.0 1080.0 1429.0 1730.0\n",
    "Based on learned data, next three predicted numbers in the sequence are 1,931.8 2,193.1 2,454.5\n",
    "Based on learned data, next three predicted numbers in the sequence are 1,931.3 2,192.4 2,453.6"
   ]
  },
  {
   "cell_type": "code",
   "execution_count": 533,
   "metadata": {},
   "outputs": [],
   "source": [
    "import numpy as np\n",
    "import matplotlib.pyplot as plt\n",
    "from sklearn.linear_model import LinearRegression"
   ]
  },
  {
   "cell_type": "code",
   "execution_count": 534,
   "metadata": {},
   "outputs": [
    {
     "name": "stdout",
     "output_type": "stream",
     "text": [
      "\n",
      "========================================\n",
      "\n",
      "== Model summary ==\n",
      "Learning rate: 0.01\n",
      "Iterations: 2000\n",
      "Initial theta: [[0.06117895 0.93275189]]\n",
      "Initial J: 154936.83\n",
      "\n",
      "Training the model... \n",
      "Done.\n",
      "\n",
      "The modelled prediction function is:\n",
      "y = 8.27 * x + 518.95\n",
      "Its cost equals 67.76\n",
      "\n",
      "========================================\n",
      "The given sequence was:\n",
      " 504.0 517.0 545.0 552.0 553.0 582.0 582.0 582.0 582.0 582.0 588.0\n",
      "\n",
      "Based on learned data, next three predicted numbers in the sequence are 609.9 618.2 626.4\n",
      "\n",
      "NOTE: The code uses linear regression model exclusively and tries to fit a \"straight\" line to the data. For polynominal it ought to be added theta_2 and beyond.\n"
     ]
    }
   ],
   "source": [
    "import numpy as np\n",
    "#3173,3175,3182,3424,3573\n",
    "#3,434.2 3,513.3 3,592.4\n",
    "# the given sequence\n",
    "data =[\n",
    "[0,504.0],[1,517.0],[2,545.0],[3,552.0],[4,553.0],[5,582.0],[6,582.0],[7,582.0],[8,582.0],[9,582.0],[10,588.0],\n",
    "]\n",
    "\n",
    "\n",
    "X = np.matrix(data)[:,0]\n",
    "y = np.matrix(data)[:,1]\n",
    "\n",
    "def J(X, y, theta):\n",
    "    theta = np.matrix(theta).T\n",
    "    m = len(y)\n",
    "    predictions = X * theta\n",
    "    sqError = np.power((predictions-y),[2])\n",
    "    return 1/(2*m) * sum(sqError)\n",
    "\n",
    "\n",
    "dataX = np.matrix(data)[:,0:1]\n",
    "X = np.ones((len(dataX),2))\n",
    "X[:,1:] = dataX\n",
    "\n",
    "\n",
    "# gradient descent function\n",
    "def gradient(X, y, alpha, theta, iters):\n",
    "    J_history = np.zeros(iters)\n",
    "    m = len(y)\n",
    "    theta = np.matrix(theta).T\n",
    "    for i in range(iters):\n",
    "        h0 = X * theta\n",
    "        delta = (1 / m) * (X.T * h0 - X.T * y)\n",
    "        theta = theta - alpha * delta\n",
    "        J_history[i] = J(X, y, theta.T)\n",
    "    return J_history, theta\n",
    "\n",
    "print('\\n'+40*'=')\n",
    "\n",
    "# theta initialization\n",
    "theta = np.matrix([np.random.random(),np.random.random()])\n",
    "alpha = 0.01 # learning rate\n",
    "iters = 2000 # iterations\n",
    "\n",
    "print('\\n== Model summary ==\\nLearning rate: {}\\nIterations: {}\\nInitial theta: {}\\nInitial J: {:.2f}\\n'.format(alpha, iters, theta, J(X,y,theta).item()))\n",
    "\n",
    "print('Training the model... ')\n",
    "# this actually trains our model and finds the optimal theta value\n",
    "J_history, theta_min = gradient(X, y, alpha, theta, iters)\n",
    "print('Done.')\n",
    "print('\\nThe modelled prediction function is:\\ny = {:.2f} * x + {:.2f}'.format(theta_min[1].item(), theta_min[0].item()))\n",
    "print('Its cost equals {:.2f}'.format(J(X,y,theta_min.T).item()))\n",
    "\n",
    "\n",
    "# This function will calculate the predicted profit\n",
    "def predict(pop):\n",
    "    return [1, pop] * theta_min\n",
    "\n",
    "# Now\n",
    "p = len(data)\n",
    "print('\\n'+40*'=')\n",
    "print('The given sequence was:\\n', *np.array(data)[:,1])\n",
    "print('\\nBased on learned data, next three predicted numbers in the sequence are {:,.1f} {:,.1f} {:,.1f}'.format(predict(p).item(), predict(p+1).item(), predict(p+2).item()))\n",
    "\n",
    "print('\\nNOTE: The code uses linear regression model exclusively and tries to fit a \"straight\" line to the data. For polynominal it ought to be added theta_2 and beyond.')"
   ]
  },
  {
   "cell_type": "raw",
   "metadata": {},
   "source": [
    "Based on learned data, next three predicted numbers in the sequence are 1,931.3 2,192.4 2,453.6"
   ]
  },
  {
   "cell_type": "raw",
   "metadata": {},
   "source": [
    "from sklearn.linear_model import LinearRegression\n",
    "model = LinearRegression(normalize=True)\n",
    "print(model.normalize)\n",
    "print(model)\n",
    "\n",
    "import numpy as np\n",
    "#CASES = CASES.astype(np.float64)\n",
    "#DEATHS = DEATHS.astype(np.float64)\n",
    "x = np.array(CASES)\n",
    "y = np.array(DEATHS)\n",
    "X = x[:, np.newaxis] # The input data for sklearn is 2D: (samples == 3 x features == 1)\n",
    "X\n",
    "model.fit(X, y)\n",
    "model.coef_\n",
    "model.predict(x)"
   ]
  },
  {
   "cell_type": "code",
   "execution_count": 535,
   "metadata": {},
   "outputs": [
    {
     "name": "stdout",
     "output_type": "stream",
     "text": [
      "['21', '22', '27', '30', '31', '31', '38', '38', '38', '40', '41', '41', '41', '41', '41', '48', '50', '50', '51', '57', '60', '60', '60', '63', '63', '63', '63', '68', '69', '69', '69', '73', '86', '87', '91', '93', '93', '93', '97', '102', '106', '112', '116', '116', '116', '120', '132', '150', '153', '155', '155', '157', '160', '171', '201', '211', '218', '218', '217', '217', '217', '217', '218', '219', '225', '233', '237', '256', '263', '264', '275', '275', '275', '276', '276', '282', '288', '288', '301', '324', '341', '348', '348', '348', '348', '348', '349', '388', '400', '414', '414', '414', '419', '452', '457', '458', '458', '458', '459', '479', '504', '517', '545', '552', '553', '582', '582', '582', '582', '582', '588', '622', '655', '684', '687', '698', '778', '782', '784', '784', '784', '785', '785', '817', '878', '910', '928', '935', '963', '1032', '1032', '1032', '1036', '1036', '1037', '1080', '1143', '1177', '1201', '1293', '1297', '1300', '1301', '1301', '1304', '1304', '1321', '1429', '1513', '1546', '1591', '1692', '1704', '1704', '1704', '1704', '1704', '1704', '1730', '1937', '1979', '1997', '2211', '2221', '2227', '2228', '2229', '2229', '2229', '2229', '2238', '2363', '2431', '2449', '2471', '2484', '2488', '2488', '2489', '2489', '2490', '2600', '2616', '2870', '2951', '2974', '3148', '3165', '3167', '3170', '3173', '3173', '3175', '3182', '3424', '3573', '3807', '3867', '3889', '4054', '4055', '4056', '4059', '4059', '4099', '4394', '4528', '4713', '4759', '5102', '5110', '5110', '5112', '5112', '5112', '5140', '5227', '5356', '5665', '5883', '5883', '6070', '6075', '6075', '6095', '6095', '6095', '6095', '6098', '6099', '6603', '6803', '6988', '7087', '7391', '7392']\n"
     ]
    }
   ],
   "source": [
    "print (DEATHS)"
   ]
  },
  {
   "cell_type": "raw",
   "metadata": {},
   "source": [
    "import numpy as np\n",
    "from keras.models import Sequential\n",
    "from pandas import Series\n",
    "from keras.layers import Dense\n",
    "from keras.layers import LSTM\n",
    "from sklearn.preprocessing import StandardScaler\n"
   ]
  },
  {
   "cell_type": "code",
   "execution_count": 536,
   "metadata": {},
   "outputs": [
    {
     "name": "stdout",
     "output_type": "stream",
     "text": [
      "X=\n",
      "['537' '589' '708' '975' '1010' '1016' '1301' '1327' '1336' '1639' '1715'\n",
      " '1725' '1747' '1762' '1832' '2269' '2291' '2319' '2499' '2836' '2982'\n",
      " '2995' '3043' '3329' '3400' '3621' '3502' '3714' '3777' '3782' '3802'\n",
      " '4186' '4597' '4667' '4704' '4727' '4743' '4752' '5723' '6211' '6349'\n",
      " '6499' '6522' '6524' '7601' '7708' '8710' '8998' '9371' '9464' '9473'\n",
      " '9486' '10692' '11355' '13737' '13865' '14316' '14336' '14366' '14366'\n",
      " '14366' '14366' '14373' '16067' '16545' '18121' '18876' '19393' '19643'\n",
      " '19652' '19774' '19774' '19774' '19775' '19823' '22085' '22813' '24142'\n",
      " '23940' '26111' '26711' '26867' '26892' '26892' '26900' '26905' '27031'\n",
      " '30239' '38757' '32356' '32356' '33346' '33546' '34717' '35060' '35070'\n",
      " '35070' '35075' '35179' '40773' '41569' '42443' '43449' '43718' '43734'\n",
      " '46145' '46145' '46145' '46168' '46168' '46274' '49594' '50982' '52921'\n",
      " '53205' '53655' '54823' '54867' '54916' '54935' '54941' '54979' '55081'\n",
      " '60642' '62364' '64765' '65527' '65797' '66741' '68472' '68489' '68489'\n",
      " '68581' '68594' '68905' '75069' '79082' '81946' '83206' '85280' '85520'\n",
      " '85594' '85612' '85612' '85749' '85755' '86548' '94425' '98180' '100514'\n",
      " '102325' '104126' '104205' '104205' '104256' '104256' '104256' '104277'\n",
      " '105726' '116050' '118592' '120204' '123311' '123578' '123750' '123774'\n",
      " '123776' '123781' '123781' '123828' '125099' '133146' '137943' '139904'\n",
      " '141781' '142004' '142735' '142735' '142735' '142746' '142793' '144410'\n",
      " '145542' '156565' '159689' '161358' '163479' '164253' '164253' '164323'\n",
      " '164359' '164359' '164435' '165392' '175669' '180340' '186046' '187729'\n",
      " '188530' '188578' '188592' '188592' '188639' '188647' '189711' '200289'\n",
      " '205438' '211143' '212980' '215003' '215175' '215300' '215324' '215344'\n",
      " '215344' '216722' '219832' '222658' '232899' '243298' '244230' '244877'\n",
      " '245066' '245088' '245341' '245373' '245373' '245380' '245442' '245442'\n",
      " '259750' '266279' '272614' '275802' '276965' '277161']\n",
      "y=\n",
      "['21' '22' '27' '30' '31' '31' '38' '38' '38' '40' '41' '41' '41' '41'\n",
      " '41' '48' '50' '50' '51' '57' '60' '60' '60' '63' '63' '63' '63' '68'\n",
      " '69' '69' '69' '73' '86' '87' '91' '93' '93' '93' '97' '102' '106' '112'\n",
      " '116' '116' '116' '120' '132' '150' '153' '155' '155' '157' '160' '171'\n",
      " '201' '211' '218' '218' '217' '217' '217' '217' '218' '219' '225' '233'\n",
      " '237' '256' '263' '264' '275' '275' '275' '276' '276' '282' '288' '288'\n",
      " '301' '324' '341' '348' '348' '348' '348' '348' '349' '388' '400' '414'\n",
      " '414' '414' '419' '452' '457' '458' '458' '458' '459' '479' '504' '517'\n",
      " '545' '552' '553' '582' '582' '582' '582' '582' '588' '622' '655' '684'\n",
      " '687' '698' '778' '782' '784' '784' '784' '785' '785' '817' '878' '910'\n",
      " '928' '935' '963' '1032' '1032' '1032' '1036' '1036' '1037' '1080' '1143'\n",
      " '1177' '1201' '1293' '1297' '1300' '1301' '1301' '1304' '1304' '1321'\n",
      " '1429' '1513' '1546' '1591' '1692' '1704' '1704' '1704' '1704' '1704'\n",
      " '1704' '1730' '1937' '1979' '1997' '2211' '2221' '2227' '2228' '2229'\n",
      " '2229' '2229' '2229' '2238' '2363' '2431' '2449' '2471' '2484' '2488'\n",
      " '2488' '2489' '2489' '2490' '2600' '2616' '2870' '2951' '2974' '3148'\n",
      " '3165' '3167' '3170' '3173' '3173' '3175' '3182' '3424' '3573' '3807'\n",
      " '3867' '3889' '4054' '4055' '4056' '4059' '4059' '4099' '4394' '4528'\n",
      " '4713' '4759' '5102' '5110' '5110' '5112' '5112' '5112' '5140' '5227'\n",
      " '5356' '5665' '5883' '5883' '6070' '6075' '6075' '6095' '6095' '6095'\n",
      " '6095' '6098' '6099' '6603' '6803' '6988' '7087' '7391' '7392']\n"
     ]
    }
   ],
   "source": [
    "import numpy as np\n",
    "X = np.array(CASES)\n",
    "y = np.array(DEATHS)\n",
    "print(\"X=\")\n",
    "print(X)\n",
    "print(\"y=\")\n",
    "print(y)"
   ]
  },
  {
   "cell_type": "raw",
   "metadata": {},
   "source": [
    "!ls -ant DATA/*.db"
   ]
  },
  {
   "cell_type": "code",
   "execution_count": null,
   "metadata": {},
   "outputs": [],
   "source": []
  },
  {
   "cell_type": "code",
   "execution_count": 537,
   "metadata": {},
   "outputs": [
    {
     "name": "stdout",
     "output_type": "stream",
     "text": [
      "161 :  28/03/2020 19:43:00 1585395780 1.97 118592 1979\n",
      "162 :  28/03/2020 21:44:00 1585403040 2.02 120204 1997\n",
      "163 :  28/03/2020 23:43:00 1585410180 1.98 123311 2211\n",
      "164 :  29/03/2020 01:46:00 1585417560 2.05 123578 2221\n",
      "165 :  29/03/2020 03:46:00 1585424760 2.0 123750 2227\n",
      "166 :  29/03/2020 05:48:00 1585432080 2.03 123774 2228\n",
      "167 :  29/03/2020 07:41:00 1585438860 1.88 123776 2229\n",
      "168 :  29/03/2020 09:45:00 1585446300 2.07 123781 2229\n",
      "169 :  29/03/2020 11:44:00 1585453440 1.98 123781 2229\n",
      "170 :  29/03/2020 13:46:00 1585460760 2.03 123828 2229\n",
      "171 :  29/03/2020 15:47:00 1585468020 2.02 125099 2238\n",
      "172 :  29/03/2020 17:49:00 1585475340 2.03 133146 2363\n",
      "173 :  29/03/2020 19:47:00 1585482420 1.97 137943 2431\n",
      "174 :  29/03/2020 21:48:00 1585489680 2.02 139904 2449\n",
      "175 :  29/03/2020 23:49:00 1585496940 2.02 141781 2471\n",
      "176 :  30/03/2020 01:44:00 1585503840 1.92 142004 2484\n",
      "177 :  30/03/2020 03:46:00 1585511160 2.03 142735 2488\n",
      "178 :  30/03/2020 06:46:00 1585521960 3.0 142735 2488\n",
      "179 :  30/03/2020 08:50:00 1585529400 2.07 142735 2489\n",
      "180 :  30/03/2020 10:50:00 1585536600 2.0 142746 2489\n",
      "181 :  30/03/2020 12:50:00 1585543800 2.0 142793 2490\n",
      "182 :  30/03/2020 14:50:00 1585551000 2.0 144410 2600\n",
      "183 :  30/03/2020 16:50:00 1585558200 2.0 145542 2616\n",
      "184 :  30/03/2020 18:50:00 1585565400 2.0 156565 2870\n",
      "185 :  30/03/2020 20:50:00 1585572600 2.0 159689 2951\n",
      "186 :  30/03/2020 22:50:00 1585579800 2.0 161358 2974\n",
      "187 :  31/03/2020 00:50:00 1585587000 2.0 163479 3148\n",
      "188 :  31/03/2020 02:50:00 1585594200 2.0 164253 3165\n",
      "189 :  31/03/2020 04:50:00 1585601400 2.0 164253 3167\n",
      "190 :  31/03/2020 06:50:00 1585608600 2.0 164323 3170\n",
      "191 :  31/03/2020 08:42:00 1585615320 1.87 164359 3173\n",
      "192 :  31/03/2020 10:49:00 1585622940 2.12 164359 3173\n",
      "193 :  31/03/2020 12:49:00 1585630140 2.0 164435 3175\n",
      "194 :  31/03/2020 14:49:00 1585637340 2.0 165392 3182\n",
      "195 :  31/03/2020 16:49:00 1585644540 2.0 175669 3424\n",
      "196 :  31/03/2020 18:49:00 1585651740 2.0 180340 3573\n",
      "197 :  31/03/2020 20:49:00 1585658940 2.0 186046 3807\n",
      "198 :  31/03/2020 22:49:00 1585666140 2.0 187729 3867\n",
      "199 :  01/04/2020 02:49:00 1585680540 4.0 188530 3889\n",
      "200 :  01/04/2020 04:49:00 1585687740 2.0 188578 4054\n",
      "201 :  01/04/2020 06:49:00 1585694940 2.0 188592 4055\n",
      "202 :  01/04/2020 08:49:00 1585702140 2.0 188592 4056\n",
      "203 :  01/04/2020 10:49:00 1585709340 2.0 188639 4059\n",
      "204 :  01/04/2020 12:49:00 1585716540 2.0 188647 4059\n",
      "205 :  01/04/2020 14:49:00 1585723740 2.0 189711 4099\n",
      "206 :  01/04/2020 16:49:00 1585730940 2.0 200289 4394\n",
      "207 :  01/04/2020 18:49:00 1585738140 2.0 205438 4528\n",
      "208 :  01/04/2020 20:49:00 1585745340 2.0 211143 4713\n",
      "209 :  01/04/2020 22:49:00 1585752540 2.0 212980 4759\n",
      "210 :  02/04/2020 00:49:00 1585759740 2.0 215003 5102\n",
      "211 :  02/04/2020 02:49:00 1585766940 2.0 215175 5110\n",
      "212 :  02/04/2020 04:49:00 1585774140 2.0 215300 5110\n",
      "213 :  02/04/2020 06:49:00 1585781340 2.0 215324 5112\n",
      "214 :  02/04/2020 08:49:00 1585788540 2.0 215344 5112\n",
      "215 :  02/04/2020 10:49:00 1585795740 2.0 215344 5112\n",
      "216 :  02/04/2020 12:49:00 1585802940 2.0 216722 5140\n",
      "217 :  02/04/2020 14:49:00 1585810140 2.0 219832 5227\n",
      "218 :  02/04/2020 16:49:00 1585817340 2.0 222658 5356\n",
      "219 :  02/04/2020 18:49:00 1585824540 2.0 232899 5665\n",
      "220 :  02/04/2020 20:49:00 1585831740 2.0 243298 5883\n",
      "221 :  02/04/2020 22:19:00 1585837140 1.5 244230 5883\n",
      "222 :  03/04/2020 01:20:00 1585848000 3.02 244877 6070\n",
      "223 :  03/04/2020 01:36:00 1585848960 0.27 245066 6075\n",
      "224 :  03/04/2020 03:20:00 1585855200 1.73 245088 6075\n",
      "225 :  03/04/2020 05:20:00 1585862400 2.0 245341 6095\n",
      "226 :  03/04/2020 07:20:00 1585869600 2.0 245373 6095\n",
      "227 :  03/04/2020 09:20:00 1585876800 2.0 245373 6095\n",
      "228 :  03/04/2020 11:20:00 1585884000 2.0 245380 6095\n",
      "229 :  03/04/2020 13:20:00 1585891200 2.0 245442 6098\n",
      "230 :  03/04/2020 14:49:00 1585896540 1.48 245442 6099\n",
      "231 :  03/04/2020 16:49:00 1585903740 2.0 259750 6603\n",
      "232 :  03/04/2020 18:49:00 1585910940 2.0 266279 6803\n",
      "233 :  03/04/2020 20:49:00 1585918140 2.0 272614 6988\n",
      "234 :  03/04/2020 22:49:00 1585925340 2.0 275802 7087\n",
      "235 :  04/04/2020 00:49:00 1585932540 2.0 276965 7391\n",
      "236 :  04/04/2020 02:49:00 1585939740 2.0 277161 7392\n"
     ]
    }
   ],
   "source": [
    "import datetime\n",
    "import calendar\n",
    "import time\n",
    "from M2D import *\n",
    "import sqlite3\n",
    "conn=sqlite3.connect(\"DATA/CleanCorona.db\")\n",
    "c= conn.cursor()\n",
    "cnt=0\n",
    "for row in c.execute('SELECT ROWID,* from CORONA'):\n",
    "    cnt=cnt+1\n",
    "    if cnt>160:print (row[0],\": \",row[1])\n",
    "\n",
    "conn.close()\n"
   ]
  },
  {
   "cell_type": "code",
   "execution_count": 538,
   "metadata": {},
   "outputs": [
    {
     "name": "stdout",
     "output_type": "stream",
     "text": [
      "('09/03/2020 04:30:00', 1583699400, 10.56, '589', '22')\n",
      "('10/03/2020 05:30:00', 1583789400, 25.0, '708', '27')\n",
      "('10/03/2020 23:35:00', 1583854500, 18.08, '975', '30')\n",
      "('11/03/2020 04:25:00', 1583871900, 4.83, '1010', '31')\n",
      "('11/03/2020 15:17:00', 1583911020, 10.87, '1016', '31')\n",
      "('11/03/2020 23:35:00', 1583940900, 8.3, '1301', '38')\n",
      "('12/03/2020 03:25:00', 1583954700, 3.83, '1327', '38')\n",
      "('12/03/2020 11:37:00', 1583984220, 8.2, '1336', '38')\n",
      "('12/03/2020 22:00:00', 1584021600, 10.38, '1639', '40')\n",
      "('13/03/2020 00:05:00', 1584029100, 2.08, '1715', '41')\n",
      "('13/03/2020 01:35:00', 1584034500, 1.5, '1725', '41')\n",
      "('13/03/2020 03:45:00', 1584042300, 2.17, '1747', '41')\n",
      "('13/03/2020 06:00:00', 1584050400, 2.25, '1762', '41')\n",
      "('13/03/2020 15:25:00', 1584084300, 9.42, '1832', '41')\n",
      "('13/03/2020 22:25:00', 1584109500, 7.0, '2269', '48')\n",
      "('14/03/2020 02:40:00', 1584124800, 4.25, '2291', '50')\n",
      "('14/03/2020 07:14:00', 1584141240, 4.57, '2319', '50')\n",
      "('14/03/2020 16:45:00', 1584175500, 9.52, '2499', '51')\n",
      "('14/03/2020 23:03:00', 1584198180, 6.3, '2836', '57')\n",
      "('15/03/2020 05:00:00', 1584219600, 5.95, '2982', '60')\n",
      "('15/03/2020 05:40:00', 1584222000, 0.67, '2995', '60')\n",
      "('15/03/2020 07:05:00', 1584227100, 1.42, '3043', '60')\n",
      "('15/03/2020 19:00:00', 1584270000, 11.92, '3329', '63')\n",
      "('15/03/2020 20:05:00', 1584273900, 1.08, '3400', '63')\n",
      "('15/03/2020 21:15:00', 1584278100, 1.17, '3621', '63')\n",
      "('15/03/2020 22:15:00', 1584281700, 1.0, '3502', '63')\n",
      "('16/03/2020 00:35:00', 1584290100, 2.33, '3714', '68')\n",
      "('16/03/2020 02:48:00', 1584298080, 2.22, '3777', '69')\n",
      "('16/03/2020 05:36:00', 1584308160, 2.8, '3782', '69')\n",
      "('16/03/2020 08:29:00', 1584318540, 2.88, '3802', '69')\n",
      "('16/03/2020 18:40:00', 1584355200, 10.18, '4186', '73')\n",
      "('16/03/2020 22:40:00', 1584369600, 4.0, '4597', '86')\n",
      "('17/03/2020 00:45:00', 1584377100, 2.08, '4667', '87')\n",
      "('17/03/2020 02:40:00', 1584384000, 1.92, '4704', '91')\n",
      "('17/03/2020 06:35:00', 1584398100, 3.92, '4727', '93')\n",
      "('17/03/2020 10:31:00', 1584412260, 3.93, '4743', '93')\n",
      "('17/03/2020 14:38:00', 1584427080, 4.12, '4752', '93')\n",
      "('17/03/2020 18:41:00', 1584441660, 4.05, '5723', '97')\n",
      "('17/03/2020 21:55:00', 1584453300, 3.23, '6211', '102')\n",
      "('17/03/2020 22:40:00', 1584456000, 0.75, '6349', '106')\n",
      "('18/03/2020 02:20:00', 1584469200, 3.67, '6499', '112')\n",
      "('18/03/2020 06:05:00', 1584482700, 3.75, '6522', '116')\n",
      "('18/03/2020 10:10:00', 1584497400, 4.08, '6524', '116')\n",
      "('18/03/2020 16:15:00', 1584519300, 6.08, '7601', '116')\n",
      "('18/03/2020 18:16:00', 1584526560, 2.02, '7708', '120')\n",
      "('18/03/2020 20:21:00', 1584534060, 2.08, '8710', '132')\n",
      "('18/03/2020 22:10:00', 1584540600, 1.82, '8998', '150')\n",
      "('19/03/2020 02:17:00', 1584555420, 4.12, '9371', '153')\n",
      "('19/03/2020 10:16:00', 1584584160, 7.98, '9464', '155')\n",
      "('19/03/2020 12:18:00', 1584591480, 2.03, '9473', '155')\n",
      "('19/03/2020 14:15:00', 1584598500, 1.95, '9486', '157')\n",
      "('19/03/2020 16:22:00', 1584606120, 2.12, '10692', '160')\n",
      "('19/03/2020 18:17:00', 1584613020, 1.92, '11355', '171')\n",
      "('19/03/2020 22:45:00', 1584629100, 4.47, '13737', '201')\n",
      "('20/03/2020 00:48:00', 1584636480, 2.05, '13865', '211')\n",
      "('20/03/2020 02:40:00', 1584643200, 1.87, '14316', '218')\n",
      "('20/03/2020 04:34:00', 1584650040, 1.9, '14336', '218')\n",
      "('20/03/2020 06:35:00', 1584657300, 2.02, '14366', '217')\n",
      "('20/03/2020 08:10:00', 1584663000, 1.58, '14366', '217')\n",
      "('20/03/2020 10:11:00', 1584670260, 2.02, '14366', '217')\n",
      "('20/03/2020 12:11:00', 1584677460, 2.0, '14366', '217')\n",
      "('20/03/2020 14:10:00', 1584684600, 1.98, '14373', '218')\n",
      "('20/03/2020 16:11:00', 1584691860, 2.02, '16067', '219')\n",
      "('20/03/2020 18:12:00', 1584699120, 2.02, '16545', '225')\n",
      "('20/03/2020 20:12:00', 1584706320, 2.0, '18121', '233')\n",
      "('20/03/2020 22:12:00', 1584713520, 2.0, '18876', '237')\n",
      "('21/03/2020 00:06:00', 1584720360, 1.9, '19393', '256')\n",
      "('21/03/2020 02:07:00', 1584727620, 2.02, '19643', '263')\n",
      "('21/03/2020 04:08:00', 1584734880, 2.02, '19652', '264')\n",
      "('21/03/2020 06:05:00', 1584741900, 1.95, '19774', '275')\n",
      "('21/03/2020 08:10:00', 1584749400, 2.08, '19774', '275')\n",
      "('21/03/2020 10:12:00', 1584756720, 2.03, '19774', '275')\n",
      "('21/03/2020 12:46:00', 1584765960, 2.57, '19775', '276')\n",
      "('21/03/2020 14:48:00', 1584773280, 2.03, '19823', '276')\n",
      "('21/03/2020 16:48:00', 1584780480, 2.0, '22085', '282')\n",
      "('21/03/2020 18:45:00', 1584787500, 1.95, '22813', '288')\n",
      "('21/03/2020 20:45:00', 1584794700, 2.0, '24142', '288')\n",
      "('21/03/2020 22:45:00', 1584801900, 2.0, '23940', '301')\n",
      "('22/03/2020 00:40:00', 1584808800, 1.92, '26111', '324')\n",
      "('22/03/2020 02:40:00', 1584816000, 2.0, '26711', '341')\n",
      "('22/03/2020 04:45:00', 1584823500, 2.08, '26867', '348')\n",
      "('22/03/2020 06:30:00', 1584829800, 1.75, '26892', '348')\n",
      "('22/03/2020 08:45:00', 1584837900, 2.25, '26892', '348')\n",
      "('22/03/2020 10:45:00', 1584845100, 2.0, '26900', '348')\n",
      "('22/03/2020 12:48:00', 1584852480, 2.05, '26905', '348')\n",
      "('22/03/2020 14:45:00', 1584859500, 1.95, '27031', '349')\n",
      "('22/03/2020 16:42:00', 1584866520, 1.95, '30239', '388')\n",
      "('22/03/2020 18:48:00', 1584874080, 2.1, '38757', '400')\n",
      "('22/03/2020 20:44:00', 1584881040, 1.93, '32356', '414')\n",
      "('22/03/2020 21:41:00', 1584884460, 0.95, '32356', '414')\n",
      "('23/03/2020 00:44:00', 1584895440, 3.05, '33346', '414')\n",
      "('23/03/2020 02:37:00', 1584902220, 1.88, '33546', '419')\n",
      "('23/03/2020 03:55:00', 1584906900, 1.3, '34717', '452')\n",
      "('23/03/2020 06:45:00', 1584917100, 2.83, '35060', '457')\n",
      "('23/03/2020 08:47:00', 1584924420, 2.03, '35070', '458')\n",
      "('23/03/2020 10:47:00', 1584931620, 2.0, '35070', '458')\n",
      "('23/03/2020 12:46:00', 1584938760, 1.98, '35075', '458')\n",
      "('23/03/2020 14:45:00', 1584945900, 1.98, '35179', '459')\n",
      "('23/03/2020 16:45:00', 1584953100, 2.0, '40773', '479')\n",
      "('23/03/2020 18:46:00', 1584960360, 2.02, '41569', '504')\n",
      "('23/03/2020 20:47:00', 1584967620, 2.02, '42443', '517')\n",
      "('23/03/2020 22:31:00', 1584973860, 1.73, '43449', '545')\n",
      "('24/03/2020 00:47:00', 1584982020, 2.27, '43718', '552')\n",
      "('24/03/2020 02:33:00', 1584988380, 1.77, '43734', '553')\n",
      "('24/03/2020 04:46:00', 1584996360, 2.22, '46145', '582')\n",
      "('24/03/2020 06:43:00', 1585003380, 1.95, '46145', '582')\n",
      "('24/03/2020 08:48:00', 1585010880, 2.08, '46145', '582')\n",
      "('24/03/2020 10:47:00', 1585018020, 1.98, '46168', '582')\n",
      "('24/03/2020 12:47:00', 1585025220, 2.0, '46168', '582')\n",
      "('24/03/2020 14:47:00', 1585032420, 2.0, '46274', '588')\n",
      "('24/03/2020 16:47:00', 1585039620, 2.0, '49594', '622')\n",
      "('24/03/2020 18:45:00', 1585046700, 1.97, '50982', '655')\n",
      "('24/03/2020 20:42:00', 1585053720, 1.95, '52921', '684')\n",
      "('24/03/2020 22:48:00', 1585061280, 2.1, '53205', '687')\n",
      "('25/03/2020 00:29:00', 1585067340, 1.68, '53655', '698')\n",
      "('25/03/2020 02:44:00', 1585075440, 2.25, '54823', '778')\n",
      "('25/03/2020 04:46:00', 1585082760, 2.03, '54867', '782')\n",
      "('25/03/2020 06:47:00', 1585090020, 2.02, '54916', '784')\n",
      "('25/03/2020 08:48:00', 1585097280, 2.02, '54935', '784')\n",
      "('25/03/2020 10:43:00', 1585104180, 1.92, '54941', '784')\n",
      "('25/03/2020 12:48:00', 1585111680, 2.08, '54979', '785')\n",
      "('25/03/2020 14:48:00', 1585118880, 2.0, '55081', '785')\n",
      "('25/03/2020 16:48:00', 1585126080, 2.0, '60642', '817')\n",
      "('25/03/2020 18:48:00', 1585133280, 2.0, '62364', '878')\n",
      "('25/03/2020 20:33:00', 1585139580, 1.75, '64765', '910')\n",
      "('25/03/2020 22:44:00', 1585147440, 2.18, '65527', '928')\n",
      "('26/03/2020 00:34:00', 1585154040, 1.83, '65797', '935')\n",
      "('26/03/2020 02:43:00', 1585161780, 2.15, '66741', '963')\n",
      "('26/03/2020 05:24:00', 1585171440, 2.68, '68472', '1032')\n",
      "('26/03/2020 07:03:00', 1585177380, 1.65, '68489', '1032')\n",
      "('26/03/2020 09:02:00', 1585184520, 1.98, '68489', '1032')\n",
      "('26/03/2020 11:02:00', 1585191720, 2.0, '68581', '1036')\n",
      "('26/03/2020 13:01:00', 1585198860, 1.98, '68594', '1036')\n",
      "('26/03/2020 14:52:00', 1585205520, 1.85, '68905', '1037')\n",
      "('26/03/2020 17:02:00', 1585213320, 2.17, '75069', '1080')\n",
      "('26/03/2020 19:00:00', 1585220400, 1.97, '79082', '1143')\n",
      "('26/03/2020 21:01:00', 1585227660, 2.02, '81946', '1177')\n",
      "('26/03/2020 23:02:00', 1585234920, 2.02, '83206', '1201')\n",
      "('27/03/2020 01:00:00', 1585242000, 1.97, '85280', '1293')\n",
      "('27/03/2020 03:01:00', 1585249260, 2.02, '85520', '1297')\n",
      "('27/03/2020 04:36:00', 1585254960, 1.58, '85594', '1300')\n",
      "('27/03/2020 07:33:00', 1585265580, 2.95, '85612', '1301')\n",
      "('27/03/2020 09:32:00', 1585272720, 1.98, '85612', '1301')\n",
      "('27/03/2020 11:31:00', 1585279860, 1.98, '85749', '1304')\n",
      "('27/03/2020 13:32:00', 1585287120, 2.02, '85755', '1304')\n",
      "('27/03/2020 15:33:00', 1585294380, 2.02, '86548', '1321')\n",
      "('27/03/2020 17:32:00', 1585301520, 1.98, '94425', '1429')\n",
      "('27/03/2020 19:33:00', 1585308780, 2.02, '98180', '1513')\n",
      "('27/03/2020 21:33:00', 1585315980, 2.0, '100514', '1546')\n",
      "('27/03/2020 23:33:00', 1585323180, 2.0, '102325', '1591')\n",
      "('28/03/2020 01:32:00', 1585330320, 1.98, '104126', '1692')\n",
      "('28/03/2020 03:34:00', 1585337640, 2.03, '104205', '1704')\n",
      "('28/03/2020 05:35:00', 1585344900, 2.02, '104205', '1704')\n",
      "('28/03/2020 07:35:00', 1585352100, 2.0, '104256', '1704')\n",
      "('28/03/2020 09:35:00', 1585359300, 2.0, '104256', '1704')\n",
      "('28/03/2020 11:40:00', 1585366800, 2.08, '104256', '1704')\n",
      "('28/03/2020 13:36:00', 1585373760, 1.93, '104277', '1704')\n",
      "('28/03/2020 15:45:00', 1585381500, 2.15, '105726', '1730')\n",
      "('28/03/2020 17:45:00', 1585388700, 2.0, '116050', '1937')\n",
      "('28/03/2020 19:43:00', 1585395780, 1.97, '118592', '1979')\n",
      "('28/03/2020 21:44:00', 1585403040, 2.02, '120204', '1997')\n",
      "('28/03/2020 23:43:00', 1585410180, 1.98, '123311', '2211')\n",
      "('29/03/2020 01:46:00', 1585417560, 2.05, '123578', '2221')\n",
      "('29/03/2020 03:46:00', 1585424760, 2.0, '123750', '2227')\n",
      "('29/03/2020 05:48:00', 1585432080, 2.03, '123774', '2228')\n",
      "('29/03/2020 07:41:00', 1585438860, 1.88, '123776', '2229')\n",
      "('29/03/2020 09:45:00', 1585446300, 2.07, '123781', '2229')\n",
      "('29/03/2020 11:44:00', 1585453440, 1.98, '123781', '2229')\n",
      "('29/03/2020 13:46:00', 1585460760, 2.03, '123828', '2229')\n",
      "('29/03/2020 15:47:00', 1585468020, 2.02, '125099', '2238')\n",
      "('29/03/2020 17:49:00', 1585475340, 2.03, '133146', '2363')\n",
      "('29/03/2020 19:47:00', 1585482420, 1.97, '137943', '2431')\n",
      "('29/03/2020 21:48:00', 1585489680, 2.02, '139904', '2449')\n",
      "('29/03/2020 23:49:00', 1585496940, 2.02, '141781', '2471')\n",
      "('30/03/2020 01:44:00', 1585503840, 1.92, '142004', '2484')\n",
      "('30/03/2020 03:46:00', 1585511160, 2.03, '142735', '2488')\n",
      "('30/03/2020 06:46:00', 1585521960, 3.0, '142735', '2488')\n",
      "('30/03/2020 08:50:00', 1585529400, 2.07, '142735', '2489')\n",
      "('30/03/2020 10:50:00', 1585536600, 2.0, '142746', '2489')\n",
      "('30/03/2020 12:50:00', 1585543800, 2.0, '142793', '2490')\n",
      "('30/03/2020 14:50:00', 1585551000, 2.0, '144410', '2600')\n",
      "('30/03/2020 16:50:00', 1585558200, 2.0, '145542', '2616')\n",
      "('30/03/2020 18:50:00', 1585565400, 2.0, '156565', '2870')\n",
      "('30/03/2020 20:50:00', 1585572600, 2.0, '159689', '2951')\n",
      "('30/03/2020 22:50:00', 1585579800, 2.0, '161358', '2974')\n",
      "('31/03/2020 00:50:00', 1585587000, 2.0, '163479', '3148')\n",
      "('31/03/2020 02:50:00', 1585594200, 2.0, '164253', '3165')\n",
      "('31/03/2020 04:50:00', 1585601400, 2.0, '164253', '3167')\n",
      "('31/03/2020 06:50:00', 1585608600, 2.0, '164323', '3170')\n",
      "('31/03/2020 08:42:00', 1585615320, 1.87, '164359', '3173')\n",
      "('31/03/2020 10:49:00', 1585622940, 2.12, '164359', '3173')\n",
      "('31/03/2020 12:49:00', 1585630140, 2.0, '164435', '3175')\n",
      "('31/03/2020 14:49:00', 1585637340, 2.0, '165392', '3182')\n",
      "('31/03/2020 16:49:00', 1585644540, 2.0, '175669', '3424')\n",
      "('31/03/2020 18:49:00', 1585651740, 2.0, '180340', '3573')\n",
      "('31/03/2020 20:49:00', 1585658940, 2.0, '186046', '3807')\n",
      "('31/03/2020 22:49:00', 1585666140, 2.0, '187729', '3867')\n",
      "('01/04/2020 02:49:00', 1585680540, 4.0, '188530', '3889')\n",
      "('01/04/2020 04:49:00', 1585687740, 2.0, '188578', '4054')\n",
      "('01/04/2020 06:49:00', 1585694940, 2.0, '188592', '4055')\n",
      "('01/04/2020 08:49:00', 1585702140, 2.0, '188592', '4056')\n",
      "('01/04/2020 10:49:00', 1585709340, 2.0, '188639', '4059')\n",
      "('01/04/2020 12:49:00', 1585716540, 2.0, '188647', '4059')\n",
      "('01/04/2020 14:49:00', 1585723740, 2.0, '189711', '4099')\n",
      "('01/04/2020 16:49:00', 1585730940, 2.0, '200289', '4394')\n",
      "('01/04/2020 18:49:00', 1585738140, 2.0, '205438', '4528')\n",
      "('01/04/2020 20:49:00', 1585745340, 2.0, '211143', '4713')\n",
      "('01/04/2020 22:49:00', 1585752540, 2.0, '212980', '4759')\n",
      "('02/04/2020 00:49:00', 1585759740, 2.0, '215003', '5102')\n",
      "('02/04/2020 02:49:00', 1585766940, 2.0, '215175', '5110')\n",
      "('02/04/2020 04:49:00', 1585774140, 2.0, '215300', '5110')\n",
      "('02/04/2020 06:49:00', 1585781340, 2.0, '215324', '5112')\n",
      "('02/04/2020 08:49:00', 1585788540, 2.0, '215344', '5112')\n",
      "('02/04/2020 10:49:00', 1585795740, 2.0, '215344', '5112')\n",
      "('02/04/2020 12:49:00', 1585802940, 2.0, '216722', '5140')\n",
      "('02/04/2020 14:49:00', 1585810140, 2.0, '219832', '5227')\n",
      "('02/04/2020 16:49:00', 1585817340, 2.0, '222658', '5356')\n",
      "('02/04/2020 18:49:00', 1585824540, 2.0, '232899', '5665')\n",
      "('02/04/2020 20:49:00', 1585831740, 2.0, '243298', '5883')\n",
      "('02/04/2020 22:19:00', 1585837140, 1.5, '244230', '5883')\n",
      "('03/04/2020 01:20:00', 1585848000, 3.02, '244877', '6070')\n",
      "('03/04/2020 01:36:00', 1585848960, 0.27, '245066', '6075')\n",
      "('03/04/2020 03:20:00', 1585855200, 1.73, '245088', '6075')\n",
      "('03/04/2020 05:20:00', 1585862400, 2.0, '245341', '6095')\n",
      "('03/04/2020 07:20:00', 1585869600, 2.0, '245373', '6095')\n",
      "('03/04/2020 09:20:00', 1585876800, 2.0, '245373', '6095')\n",
      "('03/04/2020 11:20:00', 1585884000, 2.0, '245380', '6095')\n",
      "('03/04/2020 13:20:00', 1585891200, 2.0, '245442', '6098')\n",
      "('03/04/2020 14:49:00', 1585896540, 1.48, '245442', '6099')\n",
      "('03/04/2020 16:49:00', 1585903740, 2.0, '259750', '6603')\n",
      "('03/04/2020 18:49:00', 1585910940, 2.0, '266279', '6803')\n",
      "('03/04/2020 20:49:00', 1585918140, 2.0, '272614', '6988')\n",
      "('03/04/2020 22:49:00', 1585925340, 2.0, '275802', '7087')\n",
      "('04/04/2020 00:49:00', 1585932540, 2.0, '276965', '7391')\n",
      "('04/04/2020 02:49:00', 1585939740, 2.0, '277161', '7392')\n"
     ]
    }
   ],
   "source": [
    "for line in ALLdata:\n",
    "    print(line)"
   ]
  },
  {
   "cell_type": "code",
   "execution_count": 539,
   "metadata": {},
   "outputs": [
    {
     "name": "stdout",
     "output_type": "stream",
     "text": [
      "('09/03/2020 04:30:00', 1583699400, 10.56, '589', '22')\n"
     ]
    }
   ],
   "source": [
    "cnt=0\n",
    "for line in ALLdata:\n",
    "    cnt=cnt+1\n",
    "    if cnt==1:print (line)"
   ]
  },
  {
   "cell_type": "code",
   "execution_count": 540,
   "metadata": {},
   "outputs": [
    {
     "data": {
      "text/plain": [
       "86400"
      ]
     },
     "execution_count": 540,
     "metadata": {},
     "output_type": "execute_result"
    }
   ],
   "source": [
    "60*60*24"
   ]
  },
  {
   "cell_type": "code",
   "execution_count": 541,
   "metadata": {},
   "outputs": [
    {
     "name": "stdout",
     "output_type": "stream",
     "text": [
      "0.0  1.04  1.8  2.0  2.45  2.8  2.95  3.3  3.73  3.82  3.88  3.97  4.06  4.45  4.75  4.92  5.11  5.51  5.77  6.02  6.05  6.11  6.6  6.65  6.7  6.74  6.84  6.93  7.05  7.17  7.59  7.76  7.84  7.92  8.09  8.25  8.42  8.59  8.73  8.76  8.91  9.07  9.24  9.49  9.57  9.66  9.74  9.91  10.24  10.32  10.41  10.49  10.57  10.76  10.85  10.92  11.0  11.09  11.15  11.24  11.32  11.4  11.49  11.57  11.65  11.74  11.82  11.9  11.98  12.07  12.15  12.24  12.34  12.43  12.51  12.59  12.68  12.76  12.84  12.92  13.01  13.08  13.18  13.26  13.35  13.43  13.51  13.6  13.68  13.72  13.84  13.92  13.98  14.09  14.18  14.26  14.34  14.43  14.51  14.59  14.68  14.75  14.85  14.92  15.01  15.09  15.18  15.26  15.35  15.43  15.51  15.59  15.68  15.76  15.83  15.93  16.01  16.1  16.18  16.26  16.35  16.43  16.51  16.6  16.67  16.76  16.84  16.93  17.04  17.11  17.19  17.27  17.35  17.43  17.52  17.6  17.69  17.77  17.85  17.94  18.0  18.13  18.21  18.29  18.38  18.46  18.54  18.63  18.71  18.79  18.88  18.96  19.05  19.13  19.21  19.3  19.38  19.47  19.55  19.63  19.72  19.8  19.89  19.97  20.05  20.13  20.22  20.3  20.39  20.47  20.55  20.64  20.72  20.8  20.88  20.97  21.09  21.18  21.26  21.35  21.43  21.51  21.6  21.68  21.76  21.85  21.93  22.01  22.1  22.18  22.26  22.35  22.43  22.51  22.6  22.68  22.76  22.93  23.01  23.1  23.18  23.26  23.35  23.43  23.51  23.6  23.68  23.76  23.85  23.93  24.01  24.1  24.18  24.26  24.35  24.43  24.51  24.6  24.68  24.74  24.87  24.88  24.95  25.03  25.12  25.2  25.28  25.37  25.43  25.51  25.6  25.68  25.76  25.85  25.93  235  "
     ]
    }
   ],
   "source": [
    "cn=0\n",
    "cnt=0\n",
    "# Starting Timestamp (09/03/2020 04:30:00)\n",
    "tstamp= 1583699400\n",
    "day = 86400\n",
    "for line in ALLdata:\n",
    "    line = line.split(\",\")\n",
    "    Num= int(line[1])\n",
    "    SP=(Num-1583699400)\n",
    "    print (round(SP/day,2), end= \"  \")\n",
    "    cnt=cnt+1\n",
    "    \n",
    "print(cnt, end= \"  \")        "
   ]
  },
  {
   "cell_type": "code",
   "execution_count": 542,
   "metadata": {
    "scrolled": false
   },
   "outputs": [
    {
     "name": "stdout",
     "output_type": "stream",
     "text": [
      "1 0 7 0 0 2 1 0 0 0 0 7 2 0 1 6 3 0 0 3 0 0 0 5 1 0 0 4 13 1 4 2 0 0 4 5 4 6 4 0 0 4 12 18 3 2 0 2 3 11 30 10 7 0 -1 0 0 0 1 1 6 8 4 19 7 1 11 0 0 1 0 6 6 0 13 23 17 7 0 0 0 0 1 39 12 14 0 0 5 33 5 1 0 0 1 20 25 13 28 7 1 29 0 0 0 0 6 34 33 29 3 11 80 4 2 0 0 1 0 32 61 32 18 7 28 69 0 0 4 0 1 43 63 34 24 92 4 3 1 0 3 0 17 108 84 33 45 101 12 0 0 0 0 0 26 207 42 18 214 10 6 1 1 0 0 0 9 125 68 18 22 13 4 0 1 0 1 110 16 254 81 23 174 17 2 3 3 0 2 7 242 149 234 60 22 165 1 1 3 0 40 295 134 185 46 343 8 0 2 0 0 28 87 129 309 218 0 187 5 0 20 0 0 0 3 1 504 200 185 99 304 1 "
     ]
    }
   ],
   "source": [
    "DEATH = []\n",
    "for line in ALLdata:\n",
    "    line = line.split(\",\")\n",
    "    Cases = ''.join(c for c in line[3] if c.isdigit())\n",
    "    Deaths = ''.join(c for c in line[4] if c.isdigit())\n",
    "    D = int(Deaths)\n",
    "    DEATH.append(D)\n",
    "for x in range(2,len(DEATH)-1):\n",
    "    print(DEATH[x+1]-DEATH[x], end= \" \")"
   ]
  },
  {
   "cell_type": "code",
   "execution_count": 543,
   "metadata": {},
   "outputs": [
    {
     "name": "stdout",
     "output_type": "stream",
     "text": [
      "March 08, 2020:00 23:30 537 21\n"
     ]
    }
   ],
   "source": [
    "import sqlite3\n",
    "from M2D import Month2Num\n",
    "arrangedDdata = ''\n",
    "CASESs = []\n",
    "DEATHs = []\n",
    "SPANS = []\n",
    "arrangedDdata=arrangedDdata+\"date_time,cases\\n\"\n",
    "conn=sqlite3.connect(\"DATA/CoronaData2.db\")\n",
    "c= conn.cursor()\n",
    "cnt = 0\n",
    "for rows in c.execute('SELECT * from CORONA'):\n",
    "    cnt = cnt  +1\n",
    "    #if cnt==1:print(rows)\n",
    "    rows=str(rows)\n",
    "    row = rows.split(\" \")\n",
    "    if cnt==1:print(row[0][2:],row[1],row[2]+\":00\",row[4],row[9],row[13])\n",
    "    if cnt==1:start= row[0][2:],row[1],row[2]   \n",
    "    CASESs.append(row[9])\n",
    "    DEATHs.append(row[13])\n",
    "    if cnt==1:last=10\n",
    "        "
   ]
  },
  {
   "cell_type": "code",
   "execution_count": 544,
   "metadata": {},
   "outputs": [
    {
     "name": "stdout",
     "output_type": "stream",
     "text": [
      "Help on module M2D:\n",
      "\n",
      "NAME\n",
      "    M2D\n",
      "\n",
      "DESCRIPTION\n",
      "    Month2Num(month)\n",
      "    span(timestamp1, timestamp2): This will show the span in hours between two timestamps.\n",
      "\n",
      "FUNCTIONS\n",
      "    Month2Num(month)\n",
      "    \n",
      "    span(timestamp1, timestamp2)\n",
      "\n",
      "DATA\n",
      "    division = _Feature((2, 2, 0, 'alpha', 2), (3, 0, 0, 'alpha', 0), 8192...\n",
      "\n",
      "FILE\n",
      "    /home/jack/Desktop/cOVID-19/M2D.py\n",
      "\n",
      "\n"
     ]
    }
   ],
   "source": [
    "import M2D\n",
    "help(M2D)"
   ]
  },
  {
   "cell_type": "code",
   "execution_count": 545,
   "metadata": {},
   "outputs": [
    {
     "name": "stdout",
     "output_type": "stream",
     "text": [
      "Overwriting DTE.py\n"
     ]
    }
   ],
   "source": [
    "%%writefile DTE.py\n",
    "from M2D import *\n",
    "import time\n",
    "def Date2Epoch(Date,last=1583621400):\n",
    "    dt = time.strftime(Date)\n",
    "    Date= Date.replace(\",\",'')\n",
    "    DATE = Date.split(\" \")\n",
    "    print(DATE[0],DATE[1],DATE[2],DATE[3])\n",
    "    date_ti = DATE[1]+\"/\"+Month2Num(DATE[0])+\"/\"+DATE[2]+\" \"+DATE[3]#[:-3]\n",
    "    #print (dt_ti)\n",
    "    #03-16-2020 02:48,3777\n",
    "    pattern = '%d/%m/%Y %H:%M:%S'\n",
    "    #pattern = '%m/%d/%Y %H:%M:%S'\n",
    "    epochs = int(time.mktime(time.strptime(date_ti, pattern)))\n",
    "    #print (\"dt_ti, epochs\",dt_ti, epochs)\n",
    "\n",
    "    #if Scnt>1:print (dt_ti, epochs)\n",
    "    #if Scnt==0:last=1583691400 \n",
    "        \n",
    "    Epoch = (date_ti, epochs,span(int(last),int(epochs)))\n",
    "    #EPOCHS.append(int(epochs))\n",
    "    return Epoch"
   ]
  },
  {
   "cell_type": "raw",
   "metadata": {},
   "source": [
    "X = np.array(data)[:,0].reshape(-1,1)\n",
    "y = np.array(data)[:,1].reshape(-1,1)"
   ]
  },
  {
   "cell_type": "code",
   "execution_count": 546,
   "metadata": {},
   "outputs": [
    {
     "name": "stdout",
     "output_type": "stream",
     "text": [
      "March 31 2020 02:48:34\n"
     ]
    },
    {
     "data": {
      "text/plain": [
       "('31/03/2020 02:48:34', 1585594114, 547.98)"
      ]
     },
     "execution_count": 546,
     "metadata": {},
     "output_type": "execute_result"
    }
   ],
   "source": [
    "from DTE import Date2Epoch\n",
    "Date = \"March 31 2020 02:48:34\"\n",
    "Date2Epoch(Date,last=1583621400)"
   ]
  },
  {
   "cell_type": "code",
   "execution_count": null,
   "metadata": {},
   "outputs": [],
   "source": []
  }
 ],
 "metadata": {
  "kernelspec": {
   "display_name": "Python(base)",
   "language": "python",
   "name": "base"
  },
  "language_info": {
   "codemirror_mode": {
    "name": "ipython",
    "version": 3
   },
   "file_extension": ".py",
   "mimetype": "text/x-python",
   "name": "python",
   "nbconvert_exporter": "python",
   "pygments_lexer": "ipython3",
   "version": "3.7.4"
  },
  "toc": {
   "base_numbering": 1,
   "nav_menu": {},
   "number_sections": true,
   "sideBar": true,
   "skip_h1_title": false,
   "title_cell": "Table of Contents",
   "title_sidebar": "Contents",
   "toc_cell": false,
   "toc_position": {},
   "toc_section_display": true,
   "toc_window_display": false
  }
 },
 "nbformat": 4,
 "nbformat_minor": 4
}
