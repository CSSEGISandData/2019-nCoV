{
 "cells": [
  {
   "cell_type": "code",
   "execution_count": null,
   "metadata": {},
   "outputs": [],
   "source": [
    "%matplotlib inline\n",
    "\n",
    "import io, os, sys, types, pickle, warnings\n",
    "from datetime import datetime, timedelta\n",
    "\n",
    "import pandas as pd\n",
    "import numpy as np\n",
    "import scipy.optimize as opt\n",
    "from sklearn import preprocessing\n",
    "from sklearn.linear_model import LinearRegression\n",
    "\n",
    "import matplotlib\n",
    "import matplotlib.pyplot as plt\n",
    "import matplotlib.ticker as mticker\n",
    "from matplotlib import colors as mcolors\n",
    "import matplotlib.pylab as pl\n",
    "\n",
    "import seaborn as sns\n",
    "\n",
    "warnings.filterwarnings('ignore')"
   ]
  },
  {
   "cell_type": "code",
   "execution_count": null,
   "metadata": {},
   "outputs": [],
   "source": [
    "master_path = os.getcwd()\n",
    "if master_path not in sys.path:\n",
    "    sys.path.append(master_path)\n",
    "import functions as my_func\n",
    "import plots as my_plot"
   ]
  },
  {
   "cell_type": "code",
   "execution_count": null,
   "metadata": {},
   "outputs": [],
   "source": [
    "\"\"\" Params \"\"\"\n",
    "cat_color = {'Confirmed':'tab:blue', \n",
    "              'Deaths':'tab:orange', \n",
    "              'Recovered':'tab:green', \n",
    "              'Active':'tab:red', \n",
    "              'Positive':'tab:purple', \n",
    "              'Negative':'tab:olive', \n",
    "              'Democratic':'tab:blue', \n",
    "              'Republican':'tab:red',\n",
    "              'Independent':'tab:green'}\n",
    "cdra_cols = ['Confirmed', 'Deaths', 'Recovered', 'Active']\n",
    "pn_cols = ['Positive', 'Negative']\n",
    "party_cols = ['Democratic', 'Republican', 'Independent']\n",
    "\n",
    "SMALL_SIZE = 10\n",
    "MEDIUM_SIZE = 12\n",
    "BIGGER_SIZE = 16\n",
    "MILLION = 1000000\n",
    "locator_param = 6\n",
    "\n",
    "today_csv = '04-01-2020.csv'\n",
    "today = '04/01/20'"
   ]
  },
  {
   "cell_type": "code",
   "execution_count": null,
   "metadata": {
    "scrolled": false
   },
   "outputs": [],
   "source": [
    "\"\"\"Functions\"\"\""
   ]
  },
  {
   "cell_type": "markdown",
   "metadata": {},
   "source": [
    "https://lmfit.github.io/lmfit-py/model.html"
   ]
  },
  {
   "cell_type": "code",
   "execution_count": null,
   "metadata": {
    "scrolled": false
   },
   "outputs": [],
   "source": [
    "\"\"\"Get Data\"\"\""
   ]
  },
  {
   "cell_type": "code",
   "execution_count": null,
   "metadata": {
    "scrolled": false
   },
   "outputs": [],
   "source": [
    "### get summarized time series data\n",
    "path_time_series = os.path.join(master_path, 'csse_covid_19_data', 'csse_covid_19_time_series')\n",
    "folders, files = func.parse_folder_info(path_time_series)\n",
    "df_global = pd.DataFrame()\n",
    "df_US_ori = pd.DataFrame()\n",
    "for file in files:\n",
    "    if('.csv' in file):\n",
    "        print(file)\n",
    "        df_tmp = pd.read_csv(os.path.join(path_time_series, file))\n",
    "        cat = file.split('_')[3]\n",
    "        df_tmp['Category'] = cat[0].upper()+cat[1:]\n",
    "        if('global' in file):\n",
    "            df_tmp = df_tmp.drop(labels = ['Lat', 'Long'], axis = 1)\n",
    "            df_global = df_global.append(df_tmp)\n",
    "        elif('US' in file):\n",
    "            df_tmp = df_tmp.drop(labels = ['Lat', 'Long_', 'UID', 'iso2', 'iso3', 'code3', 'FIPS', 'Combined_Key'], axis = 1)\n",
    "            df_US_ori = df_US_ori.append(df_tmp)\n",
    "df_global.rename(columns={\"Province/State\": \"Province_State\", \"Country/Region\": \"Country_Region\"}, inplace = True)\n",
    "time_str, time_datetime = my_func.get_time_columns(df_global.columns)\n",
    "df_global = my_func.reformat_time(df_global)\n",
    "df_US_ori = my_func.reformat_time(df_US_ori)\n",
    "\n",
    "### get daily update\n",
    "path_daily = os.path.join(master_path, 'csse_covid_19_data', 'csse_covid_19_daily_reports')\n",
    "df_today = pd.read_csv(os.path.join(path_daily, today_csv))\n",
    "df_today.loc[df_today.loc[:,'Province_State'].isna(),'Province_State'] = 'N/A'"
   ]
  },
  {
   "cell_type": "code",
   "execution_count": null,
   "metadata": {},
   "outputs": [],
   "source": [
    "path_covid_19_data = os.path.join(master_path, 'covid_19_data')\n",
    "\n",
    "df_world_population = pd.read_csv(os.path.join(path_covid_19_data, 'world_population_stats.csv'))"
   ]
  },
  {
   "cell_type": "code",
   "execution_count": null,
   "metadata": {},
   "outputs": [],
   "source": [
    "### get some other stats\n",
    "path_covid_19_data = os.path.join(master_path, 'covid_19_data')\n",
    "df_world_population = pd.read_csv(os.path.join(path_covid_19_data, 'world_population_stats.csv'), encoding = \"ISO-8859-1\", engine='python')\n",
    "df_world_population.loc[:, 'Population'] = df_world_population.Population.astype('float')\n",
    "df_world_population.set_index('Country_Region', inplace = True)\n",
    "\n",
    "### consolidate confirmed/death data and world stats data\n",
    "df_confirmed = df_global.groupby('Category').get_group('Confirmed').groupby('Country_Region').sum()[time_datetime]\n",
    "df_deaths = df_global.groupby('Category').get_group('Deaths').groupby('Country_Region').sum()[time_datetime]\n",
    "df_confirmed['New_Today'] = df_confirmed[time_datetime[-1]] - df_confirmed[time_datetime[-2]]\n",
    "df_deaths['New_Today'] = df_deaths[time_datetime[-1]] - df_deaths[time_datetime[-2]]\n",
    "# df_confirmed['Per_Million'] = df_confirmed.loc[:,time_str[-1]] / (df_world_population['Population']/MILLION)\n",
    "# df_deaths['Per_Million'] = df_deaths.loc[:,time_str[-1]] / (df_world_population['Population']/MILLION)\n",
    "# df_confirmed[~np.isfinite(df_confirmed)] = 0\n",
    "# df_deaths[~np.isfinite(df_deaths)] = 0\n",
    "df_ctry_today = my_func.get_df_ctry_today(df_confirmed, df_deaths, df_world_population, time_datetime)"
   ]
  },
  {
   "cell_type": "code",
   "execution_count": null,
   "metadata": {
    "scrolled": true
   },
   "outputs": [],
   "source": [
    "### get US testing stats\n",
    "# testing data source: The COVID tracking project (https://covidtracking.com/)\n",
    "df_covid_tracking = pd.read_csv('https://covidtracking.com/api/states.csv')\n",
    "print(f'Time last checked: between {min(df_covid_tracking.checkTimeEt)} and {max(df_covid_tracking.checkTimeEt)}')\n",
    "print(f'Update time: between {min(df_covid_tracking.lastUpdateEt)} and {max(df_covid_tracking.lastUpdateEt)}')\n",
    "df_tests_states_daily = pd.read_csv('https://covidtracking.com/api/states/daily.csv')\n",
    "df_tests_us_daily = pd.read_csv('https://covidtracking.com/api/us/daily.csv')\n",
    "\n",
    "# state stats data source: wikipedia\n",
    "df_state_stats = pd.read_csv(os.path.join(path_covid_19_data, 'US_state_stats.csv'))\n",
    "df_covid_tracking.set_index('state', inplace = True)\n",
    "df_state_stats.set_index('state', inplace = True)\n",
    "\n",
    "# daily testing data:\n",
    "df_tests_us_daily.sort_values(by = 'date', inplace = True, ascending=True)\n",
    "df_tests_us_daily['date'] = pd.to_datetime(df_tests_us_daily['date'].astype('str'), infer_datetime_format=True)\n",
    "df_tests_states_daily['date'] = pd.to_datetime(df_tests_states_daily['date'].astype('str'), infer_datetime_format=True)\n",
    "df_tests_us_daily.set_index('date', inplace = True)\n",
    "test_time_datetime = list(df_tests_us_daily.index)\n",
    "\n",
    "# df_tests_us_daily['date'] = pd.to_datetime(df_tests_us_daily['date'], infer_datetime_format=True)\n",
    "# df_tests_states_daily['date'] = pd.to_datetime(df_tests_states_daily['date'], infer_datetime_format=True)\n",
    "# test_time_datetime = list(df_tests_us_daily.index)\n",
    "\n",
    "# state mapping\n",
    "usstate_abbs_mapping = {}\n",
    "for st_abb in df_state_stats.index:\n",
    "    usstate_abbs_mapping[df_state_stats.loc[st_abb, 'State']] = st_abb\n",
    "    usstate_abbs_mapping[st_abb] = df_state_stats.loc[st_abb, 'State']\n",
    "    \n",
    "# conslidate testing data and stat stats data\n",
    "df_us_tests = my_func.consolidate_testing(df_covid_tracking, df_state_stats)"
   ]
  },
  {
   "cell_type": "code",
   "execution_count": null,
   "metadata": {
    "scrolled": false
   },
   "outputs": [],
   "source": [
    "\"\"\" Global Recovered, death, and confirmed \"\"\""
   ]
  },
  {
   "cell_type": "code",
   "execution_count": null,
   "metadata": {},
   "outputs": [],
   "source": [
    "df_total = df_global.groupby('Category').sum().loc[:,time_datetime]\n",
    "df_total = my_func.reshape_dataframe(df_total, time_datetime)"
   ]
  },
  {
   "cell_type": "code",
   "execution_count": null,
   "metadata": {
    "scrolled": true
   },
   "outputs": [],
   "source": [
    "plotting_params = {\n",
    "            'figsize':(15, 15),\n",
    "            'time_series_cols' : ['Confirmed', 'Deaths', 'Recovered', 'Active'],\n",
    "            'locator_param' : 6,\n",
    "            'num_of_rols' : 4,\n",
    "            'cat_color' : cat_color\n",
    "        }\n",
    "fitting_params = {\n",
    "    'future':50,\n",
    "    'p0_log' : (0.1, 100, 1),\n",
    "    'p0_exp':(0.1, 100),\n",
    "    'death_to_confirmed':True\n",
    "}\n",
    "tx1 = plot_region(df_total, 'Global', plotting_params = plotting_params, is_fitting = True, fitting_params = fitting_params)"
   ]
  },
  {
   "cell_type": "code",
   "execution_count": null,
   "metadata": {},
   "outputs": [],
   "source": [
    "df_continents = df_ctry_today.groupby('Grouping1').sum()\n",
    "plot_continents(df_continents)"
   ]
  },
  {
   "cell_type": "code",
   "execution_count": null,
   "metadata": {
    "scrolled": false
   },
   "outputs": [],
   "source": [
    "\"\"\"US\"\"\""
   ]
  },
  {
   "cell_type": "code",
   "execution_count": null,
   "metadata": {},
   "outputs": [],
   "source": [
    "df_us = df_global.groupby('Country_Region').get_group('US').groupby('Category').sum().loc[:,time_datetime]\n",
    "df_us = my_func.reshape_dataframe(df_us, time_datetime)"
   ]
  },
  {
   "cell_type": "code",
   "execution_count": null,
   "metadata": {
    "scrolled": true
   },
   "outputs": [],
   "source": [
    "plotting_params = {\n",
    "            'figsize':(15, 18),\n",
    "            'time_series_cols' : ['Confirmed', 'Deaths', 'Recovered', 'Active'],\n",
    "            'locator_param' : 6,\n",
    "            'locator_param_future':12,\n",
    "            'num_of_rols' : 4,\n",
    "            'cat_color' : cat_color\n",
    "        }\n",
    "fitting_params = {\n",
    "    'future':50,\n",
    "    'p0_log' : (0.1, 100, 1),\n",
    "    'p0_exp':(0.1, 100),\n",
    "    'death_to_confirmed':True}\n",
    "plot_region(df_us, 'US', plotting_params = plotting_params, is_fitting = True, fitting_params = fitting_params)"
   ]
  },
  {
   "cell_type": "code",
   "execution_count": null,
   "metadata": {
    "scrolled": true
   },
   "outputs": [],
   "source": [
    "\"\"\"State/County\"\"\""
   ]
  },
  {
   "cell_type": "code",
   "execution_count": null,
   "metadata": {},
   "outputs": [],
   "source": [
    "region = ['State', 'California']\n",
    "if(region[0] == 'State'):\n",
    "    df_region = df_US_ori.groupby('Province_State').get_group(region[1]).groupby('Category').sum()\n",
    "elif(region[0] == 'County'):\n",
    "    df_region = df_US_ori.groupby('Admin2').get_group(region[1]).groupby('Category').sum()\n",
    "population = df_region.loc['Deaths', 'Population']\n",
    "df_region = my_func.reshape_dataframe(df_region.loc[:,time_datetime], time_datetime, Population = population)"
   ]
  },
  {
   "cell_type": "code",
   "execution_count": null,
   "metadata": {
    "scrolled": true
   },
   "outputs": [],
   "source": [
    "plotting_params = {\n",
    "            'figsize':(15, 18),\n",
    "            'time_series_cols' : ['Confirmed', 'Deaths'],\n",
    "            'locator_param' : 6,\n",
    "            'locator_param_future':12,\n",
    "            'num_of_rols' : 4,\n",
    "            'cat_color' : cat_color\n",
    "        }\n",
    "fitting_params = {\n",
    "    'future':50,\n",
    "    'p0_log' : (0.1, 100, 1),\n",
    "    'p0_exp':(0.1, 10),\n",
    "    'death_to_confirmed':True}\n",
    "plot_region(df_region, region[1], plotting_params = plotting_params, is_fitting = True, fitting_params = fitting_params)"
   ]
  },
  {
   "cell_type": "code",
   "execution_count": null,
   "metadata": {},
   "outputs": [],
   "source": [
    "state = 'California'\n",
    "st = usstate_abbs_mapping[state]\n",
    "\n",
    "df_st = df_US_ori.groupby('Province_State').get_group(state).groupby('Category').sum()\n",
    "df_st = my_func.reshape_dataframe(df_st.loc[:,time_datetime], time_datetime)\n",
    "\n",
    "df_tests_onestate_daily = df_tests_states_daily.groupby('state').get_group(st)\n",
    "df_tests_onestate_daily.sort_values(by = 'date', inplace = True, ascending=True)\n",
    "df_tests_onestate_daily.set_index('date', inplace = True)\n",
    "tests_us_vs_state(df_tests_us_daily, df_tests_onestate_daily, df_us, df_st, state)"
   ]
  },
  {
   "cell_type": "code",
   "execution_count": null,
   "metadata": {},
   "outputs": [],
   "source": [
    "\"\"\"US by states\"\"\""
   ]
  },
  {
   "cell_type": "code",
   "execution_count": null,
   "metadata": {},
   "outputs": [],
   "source": [
    "df_us_confirmed = df_US_ori.groupby('Category').get_group('Confirmed').groupby('Province_State').sum()\n",
    "df_us_deaths = df_US_ori.groupby('Category').get_group('Deaths').groupby('Province_State').sum()\n",
    "df_us_confirmed['New_Today'] = df_us_confirmed[time_datetime[-1]] - df_us_confirmed[time_datetime[-2]]\n",
    "df_us_deaths['New_Today'] = df_us_deaths[time_datetime[-1]] - df_us_deaths[time_datetime[-2]]\n",
    "df_us_confirmed['Population'] = df_us_deaths['Population']\n",
    "df_us_confirmed['Per_Million'] = df_us_confirmed[time_datetime[-1]]/(df_us_confirmed['Population']/MILLION)\n",
    "df_us_deaths['Per_Million'] = df_us_deaths[time_datetime[-1]]/(df_us_deaths['Population']/MILLION)\n",
    "df_us_confirmed[~np.isfinite(df_us_confirmed)] = 0\n",
    "df_us_deaths[~np.isfinite(df_us_deaths)] = 0"
   ]
  },
  {
   "cell_type": "code",
   "execution_count": null,
   "metadata": {
    "scrolled": true
   },
   "outputs": [],
   "source": [
    "### plot us by states\n",
    "plot_by_regions(df_us_confirmed, df_us_deaths, special = 'California')"
   ]
  },
  {
   "cell_type": "code",
   "execution_count": null,
   "metadata": {
    "scrolled": true
   },
   "outputs": [],
   "source": [
    "### confirmed cases\n",
    "plot_confirmed_per_over_time(df_us_confirmed, 10, time_datetime)"
   ]
  },
  {
   "cell_type": "code",
   "execution_count": null,
   "metadata": {
    "scrolled": true
   },
   "outputs": [],
   "source": [
    "### tests\n",
    "num_states = 10\n",
    "df_us_confirmed.sort_values(by = time_datetime[-1], inplace = True, ascending=False)\n",
    "plot_us_tests_by_state(df_us_tests, df_tests_states_daily, num_states, usstate_abbs_mapping)"
   ]
  },
  {
   "cell_type": "code",
   "execution_count": null,
   "metadata": {
    "scrolled": false
   },
   "outputs": [],
   "source": [
    "\"\"\"County status for top 5 states\"\"\""
   ]
  },
  {
   "cell_type": "code",
   "execution_count": null,
   "metadata": {
    "scrolled": true
   },
   "outputs": [],
   "source": [
    "df_us_confirmed.sort_values(by = time_datetime[-1], inplace = True, ascending=False)\n",
    "states = list(df_us_confirmed.index[0:5])\n",
    "county_plot(df_today, states, 10, (15, 25))"
   ]
  },
  {
   "cell_type": "code",
   "execution_count": null,
   "metadata": {
    "scrolled": false
   },
   "outputs": [],
   "source": [
    "\"\"\"bay area\"\"\""
   ]
  },
  {
   "cell_type": "code",
   "execution_count": null,
   "metadata": {},
   "outputs": [],
   "source": [
    "bay_area_counties = ['Alameda', 'Contra Costa', 'Marin', 'Napa', 'San Francisco', 'San Mateo', 'Santa Clara', 'Solano', 'Sonoma']\n",
    "\n",
    "df_state = df_today.groupby('Country_Region').get_group('US').groupby('Province_State').get_group('California').loc[:,]\n",
    "df_state.set_index('Admin2', inplace = True)\n",
    "df_bay_area = df_state.loc[bay_area_counties,:]\n",
    "df_bay_area.loc[:,'CFR'] = df_bay_area.Deaths/df_bay_area.Confirmed*100\n",
    "df_bay_area = df_bay_area.replace([np.inf, -np.inf], 0)\n",
    "df_bay_area.reset_index(inplace = True)\n",
    "\n",
    "county_plot(df_bay_area, ['California'], len(bay_area_counties), (15, 5))"
   ]
  },
  {
   "cell_type": "code",
   "execution_count": null,
   "metadata": {
    "scrolled": false
   },
   "outputs": [],
   "source": [
    "\"\"\" World by country \"\"\""
   ]
  },
  {
   "cell_type": "code",
   "execution_count": null,
   "metadata": {
    "scrolled": true
   },
   "outputs": [],
   "source": [
    "df_confirmed = df_global.groupby('Category').get_group('Confirmed').groupby('Country_Region').sum()[time_datetime]\n",
    "df_deaths = df_global.groupby('Category').get_group('Deaths').groupby('Country_Region').sum()[time_datetime]\n",
    "df_confirmed['New_Today'] = df_confirmed[time_datetime[-1]] - df_confirmed[time_datetime[-2]]\n",
    "df_deaths['New_Today'] = df_deaths[time_datetime[-1]] - df_deaths[time_datetime[-2]]\n",
    "df_confirmed['Per_Million'] = df_confirmed.loc[:,time_datetime[-1]] / (df_world_population['Population']/MILLION)\n",
    "df_deaths['Per_Million'] = df_deaths.loc[:,time_datetime[-1]] / (df_world_population['Population']/MILLION)\n",
    "df_confirmed[~np.isfinite(df_confirmed)] = 0\n",
    "df_deaths[~np.isfinite(df_deaths)] = 0"
   ]
  },
  {
   "cell_type": "code",
   "execution_count": null,
   "metadata": {
    "scrolled": false
   },
   "outputs": [],
   "source": [
    "list_addins = ['China', 'Korea, South', 'Japan', 'Singapore']\n",
    "plot_by_regions(df_confirmed, df_deaths, list_addins = list_addins, special = 'US')"
   ]
  },
  {
   "cell_type": "code",
   "execution_count": null,
   "metadata": {},
   "outputs": [],
   "source": [
    "plot_confirmed_per_over_time(df_confirmed, 10, time_datetime)"
   ]
  },
  {
   "cell_type": "code",
   "execution_count": null,
   "metadata": {
    "scrolled": false
   },
   "outputs": [],
   "source": [
    "\"\"\"World by country: cases vs. population\"\"\""
   ]
  },
  {
   "cell_type": "code",
   "execution_count": null,
   "metadata": {},
   "outputs": [],
   "source": [
    "def get_residuals(df_fit, fit_intercept, cat_x, cat_y):\n",
    "    X = np.array([df_fit[cat_x]]).transpose()\n",
    "    y = df_fit[cat_y].to_numpy()\n",
    "    reg = LinearRegression(fit_intercept = fit_intercept).fit(X, y)\n",
    "    y_predicted = reg.predict(X)\n",
    "    residuals = (y-y_predicted)\n",
    "    df_fit.loc[:,'Residuals'] = residuals\n",
    "    return df_fit, reg\n",
    "\n",
    "def add_country_annotations(ax, p1, df_fit, countries, color, cat_x, cat_y):\n",
    "    for ctry in countries:\n",
    "        pos = [df_fit.loc[ctry, cat_x], \n",
    "                  df_fit.loc[ctry, cat_y]]\n",
    "        ax.plot(pos[0], pos[1], 'o', color = color)\n",
    "        p1.text(pos[0]+0.01, pos[1] +0.01, ctry, \n",
    "                horizontalalignment='left', size='medium', \n",
    "                color='black',weight='normal')\n",
    "    return ax\n",
    "\n",
    "def get_annotation_list(df_fit, key_countries, is_joint):\n",
    "    countries = []\n",
    "    if(is_joint):\n",
    "        countries += list(df_fit.sort_values(by = 'Residuals').index[-3:])\n",
    "        countries += list(df_fit.sort_values(by = 'Residuals').index[:3])\n",
    "        countries += my_func.intersection(list(df_fit.index), key_countries)\n",
    "        countries = list(set(countries))\n",
    "    else:\n",
    "        countries += list(df_fit.sort_values(by = 'Residuals').index[-5:])\n",
    "        countries += list(df_fit.sort_values(by = 'Residuals').index[:5])\n",
    "    return countries\n"
   ]
  },
  {
   "cell_type": "code",
   "execution_count": null,
   "metadata": {},
   "outputs": [],
   "source": [
    "key_countries = list(df_ctry_today.sort_values(by = 'Total_Confirmed', ascending = False).index[:10])\n",
    "key_countries += ['Korea, South', 'Singapore', 'Japan', 'Canada', 'India']\n",
    "key_countries = list(set(key_countries))\n",
    "world_cases_vs_population(key_countries, df_ctry_today)"
   ]
  },
  {
   "cell_type": "code",
   "execution_count": null,
   "metadata": {
    "scrolled": false
   },
   "outputs": [],
   "source": [
    "\"\"\" China \"\"\""
   ]
  },
  {
   "cell_type": "code",
   "execution_count": null,
   "metadata": {},
   "outputs": [],
   "source": [
    "df_mc = df_global.groupby('Country_Region').get_group('China').groupby('Category').sum()\n",
    "df_hb = df_global.groupby('Country_Region').get_group('China').groupby('Province_State').get_group('Hubei').groupby('Category').sum()\n",
    "df_co = df_mc - df_hb\n",
    "df_mc = my_func.reshape_dataframe(df_mc, time_datetime)\n",
    "df_hb = my_func.reshape_dataframe(df_hb, time_datetime)\n",
    "df_co = my_func.reshape_dataframe(df_co, time_datetime)"
   ]
  },
  {
   "cell_type": "code",
   "execution_count": null,
   "metadata": {},
   "outputs": [],
   "source": [
    "df_mc_confirmed = df_global.groupby('Country_Region').get_group('China').groupby('Category').get_group('Confirmed').groupby('Province_State').sum()[time_datetime]\n",
    "df_mc_deaths = df_global.groupby('Country_Region').get_group('China').groupby('Category').get_group('Deaths').groupby('Province_State').sum()[time_datetime]\n",
    "prov = 'Hong Kong'\n",
    "df_prov = df_global.groupby('Country_Region').get_group('China').groupby('Province_State').get_group(prov).groupby('Category').sum().loc[:,time_datetime]\n",
    "df_prov = my_func.reshape_dataframe(df_prov, time_datetime)"
   ]
  },
  {
   "cell_type": "code",
   "execution_count": null,
   "metadata": {
    "scrolled": true
   },
   "outputs": [],
   "source": [
    "plotting_params = {\n",
    "            'figsize':(15, 18),\n",
    "            'time_series_cols' : ['Confirmed', 'Deaths', 'Recovered', 'Active'],\n",
    "            'locator_param' : 6,\n",
    "            'locator_param_future':12,\n",
    "            'num_of_rols' : 3,\n",
    "            'cat_color' : cat_color\n",
    "}\n",
    "fitting_params = {\n",
    "    'future':0,\n",
    "    'p0_log' : (0.1, 100, 1),\n",
    "    'p0_exp':(0.1, 10),\n",
    "    'bounds':(0, np.inf),\n",
    "    'death_to_confirmed':False\n",
    "}\n",
    "plot_region(df_prov, prov, plotting_params = plotting_params, is_fitting = True, fitting_params = fitting_params)"
   ]
  },
  {
   "cell_type": "code",
   "execution_count": null,
   "metadata": {},
   "outputs": [],
   "source": [
    "plotting_params = {\n",
    "            'figsize':(16, 10),\n",
    "            'time_series_cols' : ['Confirmed', 'Deaths', 'Recovered', 'Active'],\n",
    "            'locator_param' : 4,\n",
    "            'num_of_rols' : 2,\n",
    "            'cat_color' : cat_color\n",
    "}\n",
    "plot_china_prov(df_mc_confirmed, df_mc_deaths, df_hb, df_co, plotting_params = plotting_params)"
   ]
  },
  {
   "cell_type": "code",
   "execution_count": null,
   "metadata": {},
   "outputs": [],
   "source": [
    "### world bar graph"
   ]
  },
  {
   "cell_type": "code",
   "execution_count": null,
   "metadata": {},
   "outputs": [],
   "source": [
    "# df_confirmed.sort_values(by = time_datetime[-1], inplace = True, ascending=False)\n",
    "# df_recovered.sort_values(by = time_datetime[-1], inplace = True, ascending=False)\n",
    "# df_deaths.sort_values(by = time_datetime[-1], inplace = True, ascending=False)"
   ]
  },
  {
   "cell_type": "code",
   "execution_count": null,
   "metadata": {
    "scrolled": false
   },
   "outputs": [],
   "source": [
    "# recovered = df_recovered.loc[:,time_str[-1]].to_numpy()\n",
    "# deaths = df_deaths.loc[:,time_str[-1]].to_numpy()\n",
    "# confirmed = df_confirmed.loc[:,time_str[-1]].to_numpy()\n",
    "# x = np.arange(len(confirmed))\n",
    "\n",
    "# fig, ax = plt.subplots(1,1,figsize = (40,6))\n",
    "# rects = ax.bar(x, confirmed)\n",
    "# plt.bar(x, deaths)\n",
    "# plt.bar(x, recovered, bottom = deaths)\n",
    "\n",
    "# plt.legend(['Confirmed', 'Recovered', 'Deaths'])\n",
    "# plt.yscale('log')\n",
    "# plt.ylim(bottom = 10**-0.1)\n",
    "# plt.xlim([-1, len(x)])\n",
    "# a = ax.set_xticks(x)\n",
    "# a = ax.set_xticklabels(list(df_confirmed.index))\n",
    "# a = plt.xticks(rotation=-90)\n",
    "# a = plt.title(f'Total {len(df_confirmed.index)-4} Countries affected', fontsize = 18)\n",
    "# autolabel(rects, ax, '{:.0f}')"
   ]
  },
  {
   "cell_type": "code",
   "execution_count": null,
   "metadata": {
    "scrolled": true
   },
   "outputs": [],
   "source": [
    "\"\"\" Specific Country/Region\"\"\""
   ]
  },
  {
   "cell_type": "code",
   "execution_count": null,
   "metadata": {},
   "outputs": [],
   "source": [
    "region = 'Italy'\n",
    "df_region = df_global.groupby('Country_Region').get_group(region).groupby('Category').sum()\n",
    "df_region = my_func.reshape_dataframe(df_region, time_datetime)\n",
    "plotting_params = {\n",
    "            'figsize':(15, 18),\n",
    "            'time_series_cols' : ['Confirmed', 'Deaths', 'Recovered', 'Active'],\n",
    "            'locator_param' : 4,\n",
    "            'locator_param_future':8,\n",
    "            'num_of_rols' : 4,\n",
    "            'cat_color' : cat_color\n",
    "}\n",
    "fitting_params = {\n",
    "    'future':50,\n",
    "    'p0_log' : (0.1, 100, 1),\n",
    "    'p0_exp':(0.1, 10),\n",
    "    'death_to_confirmed':True,\n",
    "    'bounds_d' : (0, np.inf),\n",
    "}\n",
    "plot_region(df_region, region, plotting_params = plotting_params, is_fitting = True, fitting_params = fitting_params)"
   ]
  },
  {
   "cell_type": "code",
   "execution_count": null,
   "metadata": {},
   "outputs": [],
   "source": [
    "\"\"\"World-wide testing\"\"\""
   ]
  },
  {
   "cell_type": "code",
   "execution_count": null,
   "metadata": {
    "scrolled": true
   },
   "outputs": [],
   "source": [
    "df_world_test_stats = pd.read_csv(os.path.join(path_time_series, 'world_test_stats.csv'))\n",
    "df_world_test_stats.set_index('Country_Region', inplace = True)"
   ]
  },
  {
   "cell_type": "code",
   "execution_count": null,
   "metadata": {},
   "outputs": [],
   "source": [
    "df_ctry = df_time_series.groupby('Category').get_group('Confirmed').groupby('Country_Region').sum()\n",
    "df_china_prov = df_time_series.groupby('Category').get_group('Confirmed').groupby('Country_Region').get_group('China').groupby('Province_State').sum()"
   ]
  },
  {
   "cell_type": "code",
   "execution_count": null,
   "metadata": {},
   "outputs": [],
   "source": [
    "for i, reg in enumerate(df_world_test_stats.index):\n",
    "    if('-' in reg):\n",
    "        ls = reg.split(' - ')\n",
    "        date = reformat_time_string(df_world_test_stats.loc[reg,'Date'])\n",
    "        df_world_test_stats.loc[reg,'Total_Cases'] = df_china_prov.loc[ls[0], date]\n",
    "    else:\n",
    "        if(reg == 'US'):\n",
    "            df_world_test_stats.loc[reg, 'Date'] = today\n",
    "            df_world_test_stats.loc[reg, 'Total_tests'] = df_us_tests.totalTestResults.sum()\n",
    "            df_world_test_stats.loc[reg, 'Total_Cases'] = df_confirmed.loc[reg, today]\n",
    "        else:\n",
    "            if(reg in df_ctry.index):\n",
    "                date = reformat_time_string(df_world_test_stats.loc[reg,'Date'])\n",
    "                df_world_test_stats.loc[reg, 'Total_Cases'] = df_ctry.loc[reg, date]\n",
    "df_world_test_stats.dropna(how='any', inplace = True)\n",
    "df_world_test_stats.loc[:,'Percent_Pos'] = df_world_test_stats.Total_Cases/df_world_test_stats.Total_tests*100\n",
    "df_world_test_stats['Population'] = 0\n",
    "overlap_index = intersection(list(df_world_population.index), list(df_world_test_stats.index))\n",
    "df_world_test_stats.loc[overlap_index,'Population'] = df_world_population.loc[overlap_index, 'Population']\n",
    "df_world_test_stats['Test_Per_Million'] = df_world_test_stats.Total_tests/(df_world_test_stats.Population/MILLION)\n",
    "df_world_test_stats['Pos_per_Million'] = df_world_test_stats.Total_tests/(df_world_test_stats.Population/MILLION)"
   ]
  },
  {
   "cell_type": "code",
   "execution_count": null,
   "metadata": {
    "scrolled": false
   },
   "outputs": [],
   "source": [
    "fig = plt.figure(figsize = (15, 10), constrained_layout=True, facecolor=\"1\")\n",
    "gs = fig.add_gridspec(2,1)\n",
    "x = np.arange(len(df_world_test_stats.index))\n",
    "\n",
    "###\n",
    "ax = fig.add_subplot(gs[0, :])\n",
    "df_world_test_stats.sort_values(by = 'Percent_Pos', inplace = True, ascending=False)\n",
    "sns.barplot(data = df_world_test_stats.reset_index(), x = 'Country_Region', y = 'Percent_Pos', color = 'grey')\n",
    "a = ax.set_xticks(x)\n",
    "a = ax.set_xticklabels(list(df_world_test_stats.index))\n",
    "a = plt.xticks(rotation=-90)\n",
    "_ = plt.title('Test positive rate')\n",
    "\n",
    "ax = fig.add_subplot(gs[1, :])\n",
    "df_world_test_stats.sort_values(by = 'Test_Per_Million', inplace = True, ascending=False)\n",
    "sns.barplot(data = df_world_test_stats.reset_index(), x = 'Country_Region', y = 'Test_Per_Million', color = 'grey')\n",
    "a = ax.set_xticks(x)\n",
    "a = ax.set_xticklabels(list(df_world_test_stats.index))\n",
    "a = plt.xticks(rotation=-90)\n",
    "_ = plt.title('Test performed per million population')\n",
    "\n"
   ]
  },
  {
   "cell_type": "code",
   "execution_count": null,
   "metadata": {},
   "outputs": [],
   "source": [
    "\"\"\"Playground\"\"\""
   ]
  },
  {
   "cell_type": "code",
   "execution_count": null,
   "metadata": {},
   "outputs": [],
   "source": [
    "# df_world_population = pd.read_csv(os.path.join(path_time_series, 'world_population_stats.csv'), encoding = \"ISO-8859-1\", engine='python')\n",
    "# df_world_population.loc[:, 'Population'] = df_world_population.Population.astype('float')\n",
    "# df_world_population.set_index('Country_Region', inplace = True)\n",
    "\n",
    "# df_ctry_today = pd.DataFrame(columns = ['Total_Confirmed', 'New_Confirmed', 'Total_Deaths', 'New_Deaths']+list(df_world_population.columns), \n",
    "#                              index = df_confirmed.index)\n",
    "# df_ctry_today['Total_Confirmed'] = df_confirmed[today]\n",
    "# df_ctry_today['New_Confirmed'] = df_confirmed['New_Today']\n",
    "# indexis_intersect = intersection(list(df_world_population.index), list(df_confirmed.index))\n",
    "# df_ctry_today.loc[:,list(df_world_population.columns)] = df_world_population.loc[indexis_intersect,:]\n",
    "# df_ctry_today['Pos_per_Million'] = df_ctry_today.Total_Confirmed/(df_ctry_today.Population/MILLION)\n",
    "# df_ctry_today['Total_Deaths'] = df_deaths[today]\n",
    "# df_ctry_today['New_Deaths'] = df_deaths.loc[:,time_str[-1]] - df_deaths.loc[:,time_str[-2]]\n",
    "# df_ctry_today.dropna(axis = 0, how = 'any', inplace = True)\n",
    "# thr = 500\n",
    "# cat = 'Confirmed_Cat'\n",
    "# df_ctry_today.loc[df_ctry_today.Total_Confirmed>=thr, cat] = f'above_{thr}'\n",
    "# df_ctry_today.loc[df_ctry_today.Total_Confirmed<thr, cat] = f'below_{thr}'\n",
    "# thr = np.percentile(df_ctry_today.Population, 50)\n",
    "# cat = 'Population_Cat'\n",
    "# df_ctry_today.loc[df_ctry_today.Population>=thr, cat] = f'above_{thr/MILLION:.1f}M'\n",
    "# df_ctry_today.loc[df_ctry_today.Population<thr, cat] = f'below_{thr/MILLION:.1f}M'\n",
    "\n",
    "# # df_ctry_today['rank_Total'] = df_ctry_today['Total'].rank(ascending = False)\n",
    "# # df_ctry_today['rank_New_Today'] = df_ctry_today['New_Today'].rank(ascending = False)\n",
    "# # df_ctry_today['rank_Pos_per_Million'] = df_ctry_today['Pos_per_Million'].rank(ascending = False)\n",
    "# # df_ctry_today['rank_Population'] = df_ctry_today.Population.rank()"
   ]
  },
  {
   "cell_type": "code",
   "execution_count": null,
   "metadata": {},
   "outputs": [],
   "source": [
    "cat = 'Confirmed_Cat'\n",
    "df_plot = df_ctry_today[['Total_Confirmed', 'New_Confirmed', 'Pos_per_Million', 'Population']]\n",
    "df_plot = np.log10(df_plot)\n",
    "df_plot = df_plot.replace([np.inf, -np.inf], np.nan).dropna(how=\"any\")\n",
    "df_plot[cat] = df_ctry_today[cat]\n",
    "plt.figure(figsize = (20, 20))\n",
    "sns.pairplot(df_plot, kind = 'reg', hue = cat)"
   ]
  },
  {
   "cell_type": "code",
   "execution_count": null,
   "metadata": {},
   "outputs": [],
   "source": [
    "cat = 'Population_Cat'\n",
    "df_plot = df_ctry_today[['Total_Confirmed', 'New_Confirmed', 'Pos_per_Million', 'Population']]\n",
    "df_plot = np.log10(df_plot)\n",
    "df_plot = df_plot.replace([np.inf, -np.inf], np.nan).dropna(how=\"any\")\n",
    "df_plot[cat] = df_ctry_today[cat]\n",
    "plt.figure(figsize = (20, 20))\n",
    "sns.pairplot(df_plot, kind = 'reg', hue = cat)"
   ]
  },
  {
   "cell_type": "code",
   "execution_count": null,
   "metadata": {},
   "outputs": [],
   "source": [
    "cat_x = 'Total_Confirmed'\n",
    "cat_y = 'New_Confirmed'\n",
    "\n",
    "df_fit = np.log10(df_ctry_today[[cat_x, cat_y]])\n",
    "df_fit = df_fit.replace([np.inf, -np.inf], np.nan).dropna(how=\"any\")\n",
    "\n",
    "fig, ax = plt.subplots(1,1, figsize = (10, 8))\n",
    "p1 = sns.regplot(data = df_fit, \n",
    "                 x = cat_x, y = cat_y, ax = ax)\n",
    "\n",
    "\n",
    "\n",
    "X = np.array([df_fit[cat_x]]).transpose()\n",
    "y = df_fit[cat_y].to_numpy()\n",
    "reg = LinearRegression().fit(X, y)\n",
    "y_predicted = reg.predict(X)\n",
    "residuals = (y-y_predicted)\n",
    "df_fit.loc[:,'Residuals'] = residuals\n",
    "countries = []\n",
    "countries += list(df_fit.sort_values(by = 'Residuals').index[:5])\n",
    "countries += list(df_fit.sort_values(by = 'Residuals').index[-5:])\n",
    "\n",
    "for ctry in countries:\n",
    "    pos = [df_fit.loc[ctry, cat_x], \n",
    "              df_fit.loc[ctry, cat_y]]\n",
    "    p1.text(pos[0]+0.01, pos[1] +0.01, ctry, \n",
    "            horizontalalignment='left', size='medium', \n",
    "            color='black',weight='normal')\n"
   ]
  },
  {
   "cell_type": "code",
   "execution_count": null,
   "metadata": {
    "scrolled": true
   },
   "outputs": [],
   "source": [
    "df_ctry_today.columns"
   ]
  },
  {
   "cell_type": "code",
   "execution_count": null,
   "metadata": {
    "scrolled": true
   },
   "outputs": [],
   "source": [
    "cat_x = 'Total_Confirmed'\n",
    "cat_y = 'Total_Deaths'\n",
    "\n",
    "fig = plt.figure(figsize = (15, 5), constrained_layout=True, facecolor=\"1\")\n",
    "gs = fig.add_gridspec(1,3)\n",
    "\n",
    "ax = fig.add_subplot(gs[0,0])\n",
    "df_fit = np.log10(df_ctry_today[[cat_x, cat_y]])\n",
    "df_fit = df_fit.replace([np.inf, -np.inf], np.nan).dropna(how=\"any\")\n",
    "p1 = sns.regplot(data = df_fit, \n",
    "            x = cat_x, y = cat_y, ax = ax)\n",
    "\n",
    "ax = fig.add_subplot(gs[0,1])\n",
    "cat = 'Confirmed_Cat'\n",
    "cats = list(set(df_ctry_today[cat]))\n",
    "\n",
    "df_fit = np.log10(df_ctry_today[[cat_x, cat_y]])\n",
    "df_fit = df_fit.replace([np.inf, -np.inf], np.nan).dropna(how=\"any\")\n",
    "df_fit[cat] = df_ctry_today[cat]\n",
    "for icat in cats:\n",
    "    p1 = sns.regplot(data = df_fit[df_fit[cat] == icat], \n",
    "                x = cat_x, y = cat_y, ax = ax)\n",
    "\n",
    "ax = fig.add_subplot(gs[0,2])\n",
    "cat = 'Population_Cat'\n",
    "cats = list(set(df_ctry_today[cat]))\n",
    "\n",
    "df_fit = np.log10(df_ctry_today[[cat_x, cat_y]])\n",
    "df_fit = df_fit.replace([np.inf, -np.inf], np.nan).dropna(how=\"any\")\n",
    "df_fit[cat] = df_ctry_today[cat]\n",
    "for icat in cats:\n",
    "    p1 = sns.regplot(data = df_fit[df_fit[cat] == icat], \n",
    "                x = cat_x, y = cat_y, ax = ax)\n",
    "\n",
    "\n",
    "\n",
    "\n",
    "# X = np.array([df_fit[cat_x]]).transpose()\n",
    "# y = df_fit[cat_y].to_numpy()\n",
    "# reg = LinearRegression().fit(X, y)\n",
    "# y_predicted = reg.predict(X)\n",
    "# residuals = (y-y_predicted)\n",
    "# df_fit.loc[:,'Residuals'] = residuals\n",
    "# countries = []\n",
    "# countries += list(df_fit.sort_values(by = 'Residuals').index[:5])\n",
    "# countries += list(df_fit.sort_values(by = 'Residuals').index[-5:])\n",
    "\n",
    "# for ctry in countries:\n",
    "#     pos = [df_fit.loc[ctry, cat_x], \n",
    "#               df_fit.loc[ctry, cat_y]]\n",
    "#     p1.text(pos[0]+0.01, pos[1] +0.01, ctry, \n",
    "#             horizontalalignment='left', size='medium', \n",
    "#             color='black',weight='normal')\n"
   ]
  },
  {
   "cell_type": "code",
   "execution_count": null,
   "metadata": {},
   "outputs": [],
   "source": [
    "cat_x = 'Total_Confirmed'\n",
    "cat_y = 'Pos_per_Million'\n",
    "\n",
    "fig = plt.figure(figsize = (15, 5), constrained_layout=True, facecolor=\"1\")\n",
    "gs = fig.add_gridspec(1,3)\n",
    "\n",
    "ax = fig.add_subplot(gs[0,0])\n",
    "df_fit = np.log10(df_ctry_today[[cat_x, cat_y]])\n",
    "df_fit = df_fit.replace([np.inf, -np.inf], np.nan).dropna(how=\"any\")\n",
    "p1 = sns.regplot(data = df_fit, \n",
    "            x = cat_x, y = cat_y, ax = ax)\n",
    "\n",
    "ax = fig.add_subplot(gs[0,1])\n",
    "cat = 'Confirmed_Cat'\n",
    "cats = list(set(df_ctry_today[cat]))\n",
    "\n",
    "df_fit = np.log10(df_ctry_today[[cat_x, cat_y]])\n",
    "df_fit = df_fit.replace([np.inf, -np.inf], np.nan).dropna(how=\"any\")\n",
    "df_fit[cat] = df_ctry_today[cat]\n",
    "for icat in cats:\n",
    "    p1 = sns.regplot(data = df_fit[df_fit[cat] == icat], \n",
    "                x = cat_x, y = cat_y, ax = ax)\n",
    "ax.legend(cats)\n",
    "\n",
    "ax = fig.add_subplot(gs[0,2])\n",
    "cat = 'Population_Cat'\n",
    "cats = list(set(df_ctry_today[cat]))\n",
    "\n",
    "df_fit = np.log10(df_ctry_today[[cat_x, cat_y]])\n",
    "df_fit = df_fit.replace([np.inf, -np.inf], np.nan).dropna(how=\"any\")\n",
    "df_fit[cat] = df_ctry_today[cat]\n",
    "for icat in cats:\n",
    "    p1 = sns.regplot(data = df_fit[df_fit[cat] == icat], \n",
    "                x = cat_x, y = cat_y, ax = ax)\n",
    "ax.legend(cats)\n"
   ]
  },
  {
   "cell_type": "code",
   "execution_count": null,
   "metadata": {},
   "outputs": [],
   "source": [
    "cat_x = 'Total_Confirmed'\n",
    "cat_y = 'Pos_per_Million'\n",
    "df_fit = np.log10(df_ctry_today[[cat_x, cat_y]])\n",
    "df_fit = df_fit.replace([np.inf, -np.inf], np.nan).dropna(how=\"any\")\n",
    "\n",
    "fig, ax = plt.subplots(1,1, figsize = (10, 8))\n",
    "# ax.set(xscale = 'log', yscale = 'log')\n",
    "# x_lim = [np.min(df_ctry_today[cat_x]), np.max(df_ctry_today[cat_x])]\n",
    "# y_lim = [np.min(df_ctry_today[cat_y]), np.max(df_ctry_today[cat_y])]\n",
    "p1 = sns.regplot(data = df_fit, \n",
    "                x = cat_x, y = cat_y, ax = ax)\n",
    "\n",
    "\n",
    "X = np.array([df_fit[cat_x]]).transpose()\n",
    "y = df_fit[cat_y].to_numpy()\n",
    "reg = LinearRegression().fit(X, y)\n",
    "y_predicted = reg.predict(X)\n",
    "residuals = (y-y_predicted)\n",
    "df_fit.loc[:,'Residuals'] = residuals\n",
    "countries = []\n",
    "countries += list(df_fit.sort_values(by = 'Residuals').index[:5])\n",
    "countries += list(df_fit.sort_values(by = 'Residuals').index[-5:])\n",
    "\n",
    "for ctry in countries:\n",
    "    pos = [df_fit.loc[ctry, cat_x], \n",
    "              df_fit.loc[ctry, cat_y]]\n",
    "    p1.text(pos[0]+0.1, pos[1] +0.1, ctry, \n",
    "            horizontalalignment='left', size='medium', \n",
    "            color='black',weight='normal')\n"
   ]
  },
  {
   "cell_type": "code",
   "execution_count": null,
   "metadata": {
    "scrolled": true
   },
   "outputs": [],
   "source": [
    "cat_x = 'Population'\n",
    "cat_y = 'Pos_per_Million'\n",
    "\n",
    "df_fit = np.log10(df_ctry_today[[cat_x, cat_y]])\n",
    "\n",
    "fig, ax = plt.subplots(1,1, figsize = (10, 8))\n",
    "# ax.set(xscale = 'log', yscale = 'log')\n",
    "x_lim = [np.min(df_ctry_today[cat_x]), np.max(df_ctry_today[cat_x])]\n",
    "y_lim = [np.min(df_ctry_today[cat_y]), np.max(df_ctry_today[cat_y])]\n",
    "p1 = sns.regplot(data = df_fit, \n",
    "                x = cat_x, y = cat_y, ax = ax, robust = False)\n",
    "\n",
    "X = np.array([df_fit[cat_x]]).transpose()\n",
    "y = df_fit[cat_y].to_numpy()\n",
    "reg = LinearRegression().fit(X, y)\n",
    "y_predicted = reg.predict(X)\n",
    "residuals = (y-y_predicted)\n",
    "df_fit.loc[:,'Residuals'] = np.abs(residuals)\n",
    "countries = []\n",
    "countries += list(df_fit.sort_values(by = 'Residuals').index[-10:])\n",
    "if 'China' not in countries:\n",
    "    countries.append('China')\n",
    "# countries += list(df_fit.sort_values(by = 'Residuals').index[-5:])\n",
    "\n",
    "for ctry in countries:\n",
    "    pos = [df_fit.loc[ctry, cat_x], \n",
    "              df_fit.loc[ctry, cat_y]]\n",
    "    p1.text(pos[0]+0.1, pos[1] +0.1, ctry, \n",
    "            horizontalalignment='left', size='medium', \n",
    "            color='black',weight='normal')\n",
    "\n",
    "# y_lim = [0, 2500]\n",
    "# ax.set_ylim(y_lim)\n",
    "# ax.set_xlim(x_lim)\n",
    "\n",
    "# ax.set_xscale('log')\n",
    "# ax.set_yscale('log')"
   ]
  },
  {
   "cell_type": "code",
   "execution_count": null,
   "metadata": {},
   "outputs": [],
   "source": [
    "country_list = df_ctry_today.sort_values(by = 'Total', ascending = False, inplace = False).index[0:50]\n"
   ]
  },
  {
   "cell_type": "code",
   "execution_count": null,
   "metadata": {
    "scrolled": true
   },
   "outputs": [],
   "source": [
    "cat_x = 'Population'\n",
    "cat_y = 'Pos_per_Million'\n",
    "\n",
    "df_fit = np.log10(df_ctry_today.loc[country_list, [cat_x, cat_y]])\n",
    "\n",
    "fig, ax = plt.subplots(1,1, figsize = (10, 8))\n",
    "# ax.set(xscale = 'log', yscale = 'log')\n",
    "# x_lim = [np.min(df_ctry_today[cat_x]), np.max(df_ctry_today[cat_x])]\n",
    "# y_lim = [np.min(df_ctry_today[cat_y]), np.max(df_ctry_today[cat_y])]\n",
    "p1 = sns.regplot(data = df_fit, \n",
    "                x = cat_x, y = cat_y, ax = ax)\n",
    "\n",
    "X = np.array([df_fit[cat_x]]).transpose()\n",
    "y = df_fit[cat_y].to_numpy()\n",
    "reg = LinearRegression().fit(X, y)\n",
    "y_predicted = reg.predict(X)\n",
    "residuals = (y-y_predicted)\n",
    "df_fit.loc[:,'Residuals'] = np.abs(residuals)\n",
    "countries = []\n",
    "countries += list(df_fit.sort_values(by = 'Residuals').index[-10:])\n",
    "\n",
    "if 'China' not in countries:\n",
    "    countries.append('China')\n",
    "# countries += list(df_fit.sort_values(by = 'Residuals').index[-5:])\n",
    "\n",
    "for ctry in countries:\n",
    "    pos = [df_fit.loc[ctry, cat_x], \n",
    "              df_fit.loc[ctry, cat_y]]\n",
    "    p1.text(pos[0]+0.1, pos[1] +0.1, ctry, \n",
    "            horizontalalignment='left', size='medium', \n",
    "            color='black',weight='normal')\n",
    "\n",
    "# y_lim = [0, 2500]a\n",
    "# ax.set_ylim(y_lim)\n",
    "# ax.set_xlim(x_lim)\n",
    "\n",
    "# ax.set_xscale('log')\n",
    "# ax.set_yscale('log')"
   ]
  },
  {
   "cell_type": "code",
   "execution_count": null,
   "metadata": {
    "scrolled": true
   },
   "outputs": [],
   "source": [
    "cat_x = 'Total'\n",
    "cat_y = 'Pos_per_Million'\n",
    "\n",
    "df_fit = np.log10(df_ctry_today[[cat_x, cat_y]])\n",
    "\n",
    "fig, ax = plt.subplots(1,1, figsize = (10, 8))\n",
    "# ax.set(xscale = 'log', yscale = 'log')\n",
    "x_lim = [np.min(df_ctry_today[cat_x]), np.max(df_ctry_today[cat_x])]\n",
    "y_lim = [np.min(df_ctry_today[cat_y]), np.max(df_ctry_today[cat_y])]\n",
    "p1 = sns.regplot(data = df_fit, \n",
    "                x = cat_x, y = cat_y, ax = ax, robust = False)\n",
    "\n",
    "X = np.array([df_fit[cat_x]]).transpose()\n",
    "y = df_fit[cat_y].to_numpy()\n",
    "reg = LinearRegression().fit(X, y)\n",
    "y_predicted = reg.predict(X)\n",
    "residuals = (y-y_predicted)\n",
    "df_fit.loc[:,'Residuals'] = np.abs(residuals)\n",
    "countries = []\n",
    "countries += list(df_fit.sort_values(by = 'Residuals').index[-10:])\n",
    "if 'China' not in countries:\n",
    "    countries.append('China')\n",
    "# countries += list(df_fit.sort_values(by = 'Residuals').index[-5:])\n",
    "\n",
    "for ctry in countries:\n",
    "    pos = [df_fit.loc[ctry, cat_x], \n",
    "              df_fit.loc[ctry, cat_y]]\n",
    "    p1.text(pos[0]+0.1, pos[1] +0.1, ctry, \n",
    "            horizontalalignment='left', size='medium', \n",
    "            color='black',weight='normal')\n",
    "\n",
    "# y_lim = [0, 2500]\n",
    "# ax.set_ylim(y_lim)\n",
    "# ax.set_xlim(x_lim)\n",
    "\n",
    "# ax.set_xscale('log')\n",
    "# ax.set_yscale('log')"
   ]
  },
  {
   "cell_type": "code",
   "execution_count": null,
   "metadata": {
    "scrolled": false
   },
   "outputs": [],
   "source": [
    "cat_x = 'Total'\n",
    "cat_y = 'Pos_per_Million'\n",
    "\n",
    "df_fit = np.log10(df_ctry_today.loc[country_list, [cat_x, cat_y]])\n",
    "\n",
    "fig, ax = plt.subplots(1,1, figsize = (10, 8))\n",
    "# ax.set(xscale = 'log', yscale = 'log')\n",
    "# x_lim = [np.min(df_ctry_today[cat_x]), np.max(df_ctry_today[cat_x])]\n",
    "# y_lim = [np.min(df_ctry_today[cat_y]), np.max(df_ctry_today[cat_y])]\n",
    "p1 = sns.regplot(data = df_fit, \n",
    "                x = cat_x, y = cat_y, ax = ax)\n",
    "\n",
    "X = np.array([df_fit[cat_x]]).transpose()\n",
    "y = df_fit[cat_y].to_numpy()\n",
    "reg = LinearRegression().fit(X, y)\n",
    "y_predicted = reg.predict(X)\n",
    "residuals = (y-y_predicted)\n",
    "df_fit.loc[:,'Residuals'] = np.abs(residuals)\n",
    "countries = []\n",
    "countries += list(df_fit.sort_values(by = 'Residuals').index[-10:])\n",
    "\n",
    "if 'China' not in countries:\n",
    "    countries.append('China')\n",
    "# countries += list(df_fit.sort_values(by = 'Residuals').index[-5:])\n",
    "\n",
    "for ctry in countries:\n",
    "    pos = [df_fit.loc[ctry, cat_x], \n",
    "              df_fit.loc[ctry, cat_y]]\n",
    "    p1.text(pos[0]+0.05, pos[1] +0.05, ctry, \n",
    "            horizontalalignment='left', size='medium', \n",
    "            color='black',weight='normal')\n",
    "\n",
    "# y_lim = [0, 2500]a\n",
    "# ax.set_ylim(y_lim)\n",
    "# ax.set_xlim(x_lim)\n",
    "\n",
    "# ax.set_xscale('log')\n",
    "# ax.set_yscale('log')"
   ]
  },
  {
   "cell_type": "code",
   "execution_count": null,
   "metadata": {},
   "outputs": [],
   "source": []
  },
  {
   "cell_type": "code",
   "execution_count": null,
   "metadata": {},
   "outputs": [],
   "source": [
    "\"\"\"Archive Land\"\"\"\n"
   ]
  },
  {
   "cell_type": "code",
   "execution_count": null,
   "metadata": {},
   "outputs": [],
   "source": [
    "# state = 'California'\n",
    "\n",
    "# df_st = df_US_ori.groupby(['Province_State']).get_group(state)\n",
    "# df_CA = df_US_ori.groupby(['Province_State']).get_group('California')\n",
    "# df_DP = df_US_ori.groupby(['Province_State']).get_group('Diamond Princess')\n",
    "# df_GP = df_US_ori.groupby(['Province_State']).get_group('Grand Princess')\n",
    "# df_US_main = df_US_ori.drop(labels = list(df_DP.index) + list(df_GP.index), axis = 0)\n",
    "\n",
    "# df_US = reshape_dataframe(df_US_ori.groupby('Category').sum().loc[:,time_str], time_str)\n",
    "# df_st = reshape_dataframe(df_st.groupby('Category').sum().loc[:,time_str], time_str)\n",
    "# df_US_main = reshape_dataframe(df_US_main.groupby('Category').sum().loc[:,time_str], time_str)\n",
    "# df_DP = reshape_dataframe(df_DP.groupby('Category').sum().loc[:,time_str], time_str)\n",
    "# df_GP = reshape_dataframe(df_GP.groupby('Category').sum().loc[:,time_str], time_str)\n",
    "\n",
    "# state = 'California'\n",
    "# st = usstate_abbs_mapping[state]\n",
    "# df_tests_onestate_daily = df_tests_states_daily.groupby('state').get_group(st)\n",
    "# df_tests_onestate_daily.sort_values(by = 'date', inplace = True, ascending=True)\n",
    "# df_tests_onestate_daily.set_index('date', inplace = True)\n",
    "\n",
    "# fig = plt.figure(figsize = (12, 15), constrained_layout=True, facecolor=\"1\")\n",
    "# gs = fig.add_gridspec(3, 2)\n",
    "\n",
    "# plt.rc('font', size=SMALL_SIZE)          # controls default text sizes\n",
    "# plt.rc('axes', titlesize=BIGGER_SIZE)     # fontsize of the axes title\n",
    "# plt.rc('axes', labelsize=MEDIUM_SIZE)    # fontsize of the x and y labels\n",
    "# plt.rc('xtick', labelsize=MEDIUM_SIZE)    # fontsize of the tick labels\n",
    "# plt.rc('ytick', labelsize=MEDIUM_SIZE)    # fontsize of the tick labels\n",
    "# plt.rc('legend', fontsize=MEDIUM_SIZE)    # legend fontsize\n",
    "# plt.rc('figure', titlesize=BIGGER_SIZE)  # fontsize of the figure title\n",
    "\n",
    "\n",
    "# for i in [0,1]:\n",
    "#     if(i == 0):\n",
    "#         plt_title = 'US'\n",
    "#         df_plot = df_US_main\n",
    "#     else:\n",
    "#         plt_title = state\n",
    "#         df_plot = df_st\n",
    "    \n",
    "#     ### time series\n",
    "#     ax2 = fig.add_subplot(gs[0, i])\n",
    "#     ax2.plot(df_plot[cdra_cols[:2]])\n",
    "#     myLocator = mticker.MultipleLocator(locator_param)\n",
    "#     ax2.xaxis.set_major_locator(myLocator)\n",
    "#     ax2.tick_params(axis = 'x', labelrotation = 45)\n",
    "#     ax2.legend(cdra_cols[:2], fontsize = 14)\n",
    "#     title = f'{plt_title}: {int(df_plot.loc[time_str[-1], \"Confirmed\"])}'\n",
    "#     ax2.set_title(title)\n",
    "    \n",
    "#     ### daily\n",
    "#     ax5 = fig.add_subplot(gs[1, i])\n",
    "#     ax5.plot(df_plot[cdra_cols[:2]].diff())\n",
    "#     ax5.xaxis.set_major_formatter(mticker.FuncFormatter(format_fn))\n",
    "#     myLocator = mticker.MultipleLocator(locator_param)\n",
    "#     ax5.xaxis.set_major_locator(myLocator)\n",
    "#     ax5.tick_params(axis = 'x', labelrotation = 45)\n",
    "#     ax5.legend(cdra_cols[:2], fontsize = 14)\n",
    "#     ax5.set_title(f'{plt_title} Daily Increase', size = 18)\n",
    "    \n",
    "#     ### closed cases\n",
    "# #     ax8 = fig.add_subplot(gs[2, i])\n",
    "# #     ax8.plot(df_plot.Recovered_prop, color = cat_color['Recovered'])\n",
    "# #     ax8.plot(df_plot.Death_prop, color = cat_color['Deaths'])\n",
    "# #     myLocator = mticker.MultipleLocator(locator_param)\n",
    "# #     ax8.xaxis.set_major_locator(myLocator)\n",
    "# #     ax8.tick_params(axis = 'x', labelrotation = 45)\n",
    "# #     ax8.legend(['Recovered', 'Deaths'], fontsize = 14)\n",
    "# #     ax8.set_title(f'{plt_title} Closed Cases: Deaths% = {df_plot.Death_prop[-1]:.1f}%', size = 18)\n",
    "    \n",
    "#     ### growth factors\n",
    "#     ax4 = fig.add_subplot(gs[2, i])\n",
    "              \n",
    "#     x = np.arange(len(time_str))\n",
    "#     x1 = np.arange(0, len(time_str) + 2)\n",
    "\n",
    "#     ax4.bar(x, df_plot.GF_rolling, color = 'grey')\n",
    "#     ax4.plot(x1, np.full(len(x1), 1), '--', color = 'k')\n",
    "#     ax4.xaxis.set_major_formatter(mticker.FuncFormatter(format_fn))\n",
    "#     myLocator = mticker.MultipleLocator(locator_param)\n",
    "#     ax4.xaxis.set_major_locator(myLocator)\n",
    "#     ax4.set_xlim([-0.5, len(time_str)])\n",
    "#     ax4.tick_params(axis = 'x', labelrotation = 45)\n",
    "#     _ = ax4.set_title(f'{plt_title} Growth Factor: {df_plot.GF_rolling[-1]:.2f} today')\n",
    "#     ax4.set_ylim(top = 15)"
   ]
  },
  {
   "cell_type": "code",
   "execution_count": null,
   "metadata": {},
   "outputs": [],
   "source": [
    "# x = np.arange(len(time_str))\n",
    "# y = np.zeros((len(time_str), 2))\n",
    "\n",
    "# y[:,0] = df_mc.Confirmed.to_list()\n",
    "# y[:,1] = df_row.Confirmed.to_list()\n",
    "\n",
    "# popt_exp = []\n",
    "# popt_log = []\n",
    "# for i in [0, 1]:\n",
    "#     p, cov = opt.curve_fit(exp_growth,  x,  y[:,i], p0 = (0.1, 100), maxfev=100000)\n",
    "#     popt_exp.append(list(p))\n",
    "#     p, cov = opt.curve_fit(logistic_growth,  x,  y[:,i], p0 = (0.1, 100, 1), maxfev=100000)\n",
    "#     popt_log.append(list(p))"
   ]
  },
  {
   "cell_type": "code",
   "execution_count": null,
   "metadata": {
    "scrolled": false
   },
   "outputs": [],
   "source": [
    "# fig = plt.figure(figsize = (15, 15), constrained_layout=True, facecolor=\"1\")\n",
    "# gs = fig.add_gridspec(3,3)\n",
    "\n",
    "# title_size = 14\n",
    "# legend_size = 12\n",
    "\n",
    "# ### total confirmed/recovered/death/active\n",
    "# ax1 = fig.add_subplot(gs[0, 0])\n",
    "# ax1.plot(df_total[cdra_cols])\n",
    "# myLocator = mticker.MultipleLocator(locator_param)\n",
    "# ax1.xaxis.set_major_locator(myLocator)\n",
    "# ax1.tick_params(axis = 'x', labelrotation = 45)\n",
    "# ax1.legend(cdra_cols, fontsize = legend_size)\n",
    "# ax1.set_title(f\"Global: {int(df_total.loc[time_str[-1], 'Confirmed'])}\", size = title_size)\n",
    "\n",
    "# ### mainland china confirmed/recovered/death/active\n",
    "# ax2 = fig.add_subplot(gs[0, 1])\n",
    "# ax2.plot(df_mc[cdra_cols])\n",
    "# myLocator = mticker.MultipleLocator(locator_param)\n",
    "# ax2.xaxis.set_major_locator(myLocator)\n",
    "# ax2.tick_params(axis = 'x', labelrotation = 45)\n",
    "# ax2.legend(cdra_cols, fontsize = legend_size)\n",
    "# ax2.set_title(f'Mainland China: {int(df_mc.loc[time_str[-1], \"Confirmed\"])}', size = title_size)\n",
    "\n",
    "# ### rest of the world confirmed/recovered/death/active\n",
    "# ax3 = fig.add_subplot(gs[0, 2])\n",
    "# ax3.plot(df_row[cdra_cols])\n",
    "# # ax31, ax32 = two_scales(ax3, df_row[['Confirmed', 'Active']], df_row[['Recovered', 'Deaths']], cat_color, legend_size)\n",
    "# myLocator = mticker.MultipleLocator(locator_param)\n",
    "# ax3.xaxis.set_major_locator(myLocator)\n",
    "# ax3.tick_params(axis = 'x', labelrotation = 45)\n",
    "# ax3.legend(cdra_cols, fontsize = legend_size)\n",
    "# ax3.set_title(f'ROW: {int(df_row.loc[time_str[-1], \"Confirmed\"])}', size = title_size)\n",
    "\n",
    "# ### fatality rates\n",
    "# ax4 = fig.add_subplot(gs[1, 0])\n",
    "# ax4.plot(df_total.loc[:,'CFR'])\n",
    "# ax4.plot(df_mc.loc[:,'CFR'])\n",
    "# ax4.plot(df_co.loc[:,'CFR'])\n",
    "# ax4.plot(df_row.loc[:,'CFR'])\n",
    "# plt.legend([f'Global: {df_total.CFR[-1]:.1f}%',\n",
    "#             f'Ml China: {df_mc.CFR[-1]:.1f}%',\n",
    "#             f'Ml China w/o Hubei: {df_co.CFR[-1]:.1f}%',\n",
    "#             f'ROW: {df_row.CFR[-1]:.1f}%'\n",
    "#            ], fontsize = legend_size)\n",
    "# myLocator = mticker.MultipleLocator(locator_param)\n",
    "# ax4.xaxis.set_major_locator(myLocator)\n",
    "# ax4.tick_params(axis = 'x', labelrotation = 45)\n",
    "# ax4.set_title('Fatality Rates', fontsize = title_size)\n",
    "\n",
    "# ### mainland China fit\n",
    "# ax5 = fig.add_subplot(gs[1, 1])\n",
    "# ax5.plot(x, y[:,0], '.')\n",
    "# ax5.plot(x, logistic_growth(x, popt_log[0][0], popt_log[0][1], popt_log[0][2]))\n",
    "# ax5.xaxis.set_major_formatter(mticker.FuncFormatter(format_fn))\n",
    "# myLocator = mticker.MultipleLocator(locator_param)\n",
    "# ax5.xaxis.set_major_locator(myLocator)\n",
    "# ax5.tick_params(axis = 'x', labelrotation = 45)\n",
    "# ax5.legend(['Confirmed', 'Logistic Growth Fit'], fontsize = legend_size)\n",
    "# ax5.set_title(f'Mainland China: r = {popt_log[0][0]+1:.2f}', fontsize = title_size)\n",
    "\n",
    "# ### ROW fit\n",
    "# ax6 = fig.add_subplot(gs[1, 2])\n",
    "# ax6.plot(x, y[:,1], '.')\n",
    "# ax6.plot(x, exp_growth(x, popt_exp[1][0], popt_exp[1][1]))\n",
    "# ax6.plot(x, logistic_growth(x, popt_log[1][0], popt_log[1][1], popt_log[1][2]))\n",
    "# ax6.xaxis.set_major_formatter(mticker.FuncFormatter(format_fn))\n",
    "# myLocator = mticker.MultipleLocator(locator_param)\n",
    "# ax6.xaxis.set_major_locator(myLocator)\n",
    "# ax6.tick_params(axis = 'x', labelrotation = 45)\n",
    "# ax6.legend(['Confirmed', 'Exponential Growth Fit', 'Logistic Growth Fit'], fontsize = legend_size)\n",
    "# ax6.set_title(f'ROW: r = {popt_log[1][0]+1:.2f}', fontsize = title_size)\n",
    "              \n",
    "# ### total closed cases\n",
    "# ax7 = fig.add_subplot(gs[2, 0])\n",
    "# ax7.plot(df_total.Recovered_prop, color = cat_color['Recovered'])\n",
    "# ax7.plot(df_total.Death_prop, color = cat_color['Deaths'])\n",
    "# myLocator = mticker.MultipleLocator(locator_param)\n",
    "# ax7.xaxis.set_major_locator(myLocator)\n",
    "# ax7.tick_params(axis = 'x', labelrotation = 45)\n",
    "# ax7.legend(['Recovered', 'Deaths'], fontsize = legend_size)\n",
    "# ax7.set_title(f'Global Closed Cases: Deaths% = {df_total.Death_prop[-1]:.1f}%', size = title_size)\n",
    "\n",
    "# ### mainland china closed cases\n",
    "# ax8 = fig.add_subplot(gs[2, 1])\n",
    "# ax8.plot(df_mc.Recovered_prop, color = cat_color['Recovered'])\n",
    "# ax8.plot(df_mc.Death_prop, color = cat_color['Deaths'])\n",
    "# myLocator = mticker.MultipleLocator(locator_param)\n",
    "# ax8.xaxis.set_major_locator(myLocator)\n",
    "# ax8.tick_params(axis = 'x', labelrotation = 45)\n",
    "# ax8.legend(['Recovered', 'Deaths'], fontsize = legend_size)\n",
    "# ax8.set_title(f'Mainland China Closed Cases: Deaths% = {df_mc.Death_prop[-1]:.1f}%', size = title_size)\n",
    "\n",
    "# ### rest of the world closed cases\n",
    "# ax9 = fig.add_subplot(gs[2, 2])\n",
    "# ax9.plot(df_row.Recovered_prop, color = cat_color['Recovered'])\n",
    "# ax9.plot(df_row.Death_prop, color = cat_color['Deaths'])\n",
    "# myLocator = mticker.MultipleLocator(locator_param)\n",
    "# ax9.xaxis.set_major_locator(myLocator)\n",
    "# ax9.tick_params(axis = 'x', labelrotation = 45)\n",
    "# ax9.legend(['Recovered', 'Deaths'], fontsize = legend_size)\n",
    "# _ = ax9.set_title(f'ROW Closed Cases: Deaths% = {df_row.Death_prop[-1]:.1f}%', size = title_size)"
   ]
  },
  {
   "cell_type": "code",
   "execution_count": null,
   "metadata": {
    "scrolled": false
   },
   "outputs": [],
   "source": [
    "# fig = plt.figure(figsize = (15, 15), constrained_layout=True, facecolor=\"1\")\n",
    "# gs = fig.add_gridspec(3,2)\n",
    "\n",
    "# # ### Daily Confirmed cases\n",
    "# ax1 = fig.add_subplot(gs[0, :])\n",
    "# x = np.arange(len(time_str))\n",
    "# width = 0.25\n",
    "\n",
    "# ax1.bar(x + 0, df_total.loc[:,'Daily_Confirmed'], width = width, color = 'm')\n",
    "# ax1.bar(x + width*1, df_mc.loc[:,'Daily_Confirmed'], width = width, color = 'c')\n",
    "# ax1.bar(x + width*2, df_row.loc[:,'Daily_Confirmed'], width = width, color = 'y')\n",
    "# ax1.set_yscale('log')\n",
    "# # ax4.set_ylim([0, 5000])\n",
    "# _ = ax1.set_xticks(x + width)\n",
    "# _ = ax1.set_xticklabels(time_str[1:])\n",
    "# ax1.tick_params(axis = 'x', labelrotation = 45)\n",
    "# ax1.legend(['Global', 'Mainland China', 'ROW'], fontsize = 14, loc='upper left')\n",
    "# ax1.set_title('Daily Cases', size = 18)\n",
    "\n",
    "\n",
    "# ### Mainland China daily confirmed/recovered/deaths/active\n",
    "# ax2 = fig.add_subplot(gs[1, 0])\n",
    "# ax2.plot(df_mc[cdra_cols[:-1]].diff())\n",
    "# ax2.xaxis.set_major_formatter(mticker.FuncFormatter(format_fn))\n",
    "# myLocator = mticker.MultipleLocator(locator_param)\n",
    "# ax2.xaxis.set_major_locator(myLocator)\n",
    "# ax2.set_ylim([0, 1000])\n",
    "# ax2.set_xlim(right = len(time_str))\n",
    "# ax2.tick_params(axis = 'x', labelrotation = 45)\n",
    "# ax2.legend(cdra_cols, fontsize = 14)\n",
    "# ax2.set_title('Mainland China Daily Cases', size = 18)\n",
    "\n",
    "# ### ROW daily confirmed/recovered/deaths/active\n",
    "# ax3 = fig.add_subplot(gs[1, 1])\n",
    "# ax3.plot(df_row[cdra_cols[:-1]].diff())\n",
    "# ax3.xaxis.set_major_formatter(mticker.FuncFormatter(format_fn))\n",
    "# myLocator = mticker.MultipleLocator(locator_param)\n",
    "# ax3.xaxis.set_major_locator(myLocator)\n",
    "# ax3.set_xlim(right = len(time_str))\n",
    "# ax3.tick_params(axis = 'x', labelrotation = 45)\n",
    "# ax3.legend(cdra_cols, fontsize = 14)\n",
    "# ax3.set_title('ROW Daily Cases', size = 18)\n",
    "\n",
    "\n",
    "# # ### Mainland China Growth Factor\n",
    "# ax5 = fig.add_subplot(gs[2, 0])\n",
    "\n",
    "# x = np.arange(0, len(time_str))\n",
    "# x1 = np.arange(0, len(time_str) + 2)\n",
    "\n",
    "# ax5.bar(x, df_mc.GF_rolling, color = 'grey')\n",
    "# ax5.plot(x1, np.full(len(x1), 1), '--', color = 'k')\n",
    "# ax5.xaxis.set_major_formatter(mticker.FuncFormatter(format_fn))\n",
    "# myLocator = mticker.MultipleLocator(locator_param)\n",
    "# ax5.xaxis.set_major_locator(myLocator)\n",
    "# ax5.set_xlim([-0.5, len(time_str)+0.5])\n",
    "# ax5.set_ylim(top = 5, bottom = 0)\n",
    "# ax5.tick_params(axis = 'x', labelrotation = 45)\n",
    "# ax5.set_title(f'Mainland China Growth Factor, {df_mc.GF_rolling[-1]:.2f} today', size = 18)\n",
    "\n",
    "# ### ROW Growth Factor\n",
    "# ax6 = fig.add_subplot(gs[2, 1])\n",
    "# ax6.bar(x, df_row.GF_rolling, color = 'grey')\n",
    "# ax6.plot(x1, np.full(len(x1), 1), '--', color = 'k')\n",
    "# ax6.xaxis.set_major_formatter(mticker.FuncFormatter(format_fn))\n",
    "# myLocator = mticker.MultipleLocator(locator_param)\n",
    "# ax6.xaxis.set_major_locator(myLocator)\n",
    "# ax6.set_xlim([-0.5, len(time_str)])\n",
    "# ax6.tick_params(axis = 'x', labelrotation = 45)\n",
    "# _ = ax6.set_title(f'ROW Growth Factor, {df_row.GF_rolling[-1]:.2f} today', size = 18)"
   ]
  },
  {
   "cell_type": "code",
   "execution_count": null,
   "metadata": {},
   "outputs": [],
   "source": []
  },
  {
   "cell_type": "code",
   "execution_count": null,
   "metadata": {},
   "outputs": [],
   "source": [
    "# colors = pl.cm.tab10(np.linspace(0,1,len(countries)))\n",
    "# for i, ctr in enumerate(countries):\n",
    "#     ax4.plot(df_gf[ctr], color = colors[i])\n",
    "# x = np.arange(-1, len(time_str)+2)\n",
    "# ax4.plot(x, np.full(len(x), 1), '--', color = 'k')\n",
    "\n",
    "# ax4.legend(countries, loc = 'upper left')\n",
    "# ax4.set_yscale('linear')\n",
    "# ax4.set_ylim([0, 5])\n",
    "# a = ax4.set_title('Growth Factors: top 10 countries with most new cases')\n",
    "# ax4.xaxis.set_major_formatter(mticker.FuncFormatter(format_fn))\n",
    "# myLocator = mticker.MultipleLocator(4)\n",
    "# ax4.xaxis.set_major_locator(myLocator)\n",
    "# ax4.set_xlim(left = -1, right = len(time_str))\n",
    "# ax4.tick_params(axis = 'x', labelrotation = 45)\n",
    "\n",
    "# growth_factors = (df_confirmed.loc[countries, time_str[2:]].to_numpy() - df_confirmed.loc[countries, time_str[1:-1]].to_numpy()) \\\n",
    "# /(df_confirmed.loc[countries, time_str[1:-1]].to_numpy() - df_confirmed.loc[countries, time_str[:-2]].to_numpy())\n",
    "# y = (growth_factors[:,-1] + growth_factors[:,-2])/2\n",
    "# y[~np.isfinite(y)] = 0\n",
    "# y = df_gf.loc[time_str[-1],:]\n",
    "\n",
    "# # rects = ax5.bar(x[y<=1], y[y<=1], color = 'tab:blue')\n",
    "# # rects = ax5.bar(x[y>1], y[y>1], color = 'tab:red')\n",
    "\n",
    "# a = ax5.set_xticks(x)\n",
    "# a = ax5.set_xticklabels(countries)\n",
    "# ax5.tick_params(axis = 'x', labelrotation = -90)\n",
    "# autolabel(rects, ax5, '{:.2f}')\n",
    "# ymax = np.ceil(np.max(y)) + 1\n",
    "# ax5.set_ylim([0, ymax])\n",
    "# a = ax5.set_title('Growth Factor of places w/ >100 confirmed cases')"
   ]
  },
  {
   "cell_type": "code",
   "execution_count": null,
   "metadata": {
    "scrolled": false
   },
   "outputs": [],
   "source": [
    "# if(today not in time_str):\n",
    "#     print('New Data from CSSE! Update time_series_covid19.csv now!')\n",
    "#     gps_today = list(df_today.groupby(['Country_Region', 'Province_State']).groups.keys())\n",
    "#     gps_ts = list(df_time_series.groupby(['Country_Region', 'Province_State']).groups.keys())\n",
    "#     for igp, gp in enumerate(gps_today):\n",
    "#         if(igp%30 == 0):\n",
    "#             print(igp)\n",
    "#         if(gp not in gps_ts):\n",
    "#             print(gp)\n",
    "#             df_new = pd.DataFrame(columns = df_time_series.columns)\n",
    "#             for i, cat in enumerate(cat_cols[:-1]):\n",
    "#                 df_new.loc[i,'Country_Region'] = gp[0]\n",
    "#                 df_new.loc[i,'Province_State'] = gp[1]\n",
    "#                 df_new.loc[i, time_str] = 0\n",
    "#                 df_new.loc[i, today] = df_today.groupby(['Country_Region', 'Province_State']).get_group(gp).loc[:,cat].to_list()[0]\n",
    "#                 df_new.loc[i, 'Category'] = cat\n",
    "#             df_time_series = df_time_series.append(df_new, ignore_index = True)\n",
    "#         else:\n",
    "#             for cat in cat_cols[:-1]:\n",
    "#                 i = df_time_series[(df_time_series.Country_Region == gp[0]) \n",
    "#                    * (df_time_series.Province_State == gp[1]) \n",
    "#                    * (df_time_series.Category == cat)].index\n",
    "#                 df_time_series.loc[i,today] = df_today.groupby(['Country_Region', 'Province_State']).get_group(gp).loc[:,cat].to_list()[0]\n",
    "#     time_str, time_datetime = get_time_columns(df_time_series.columns)\n",
    "#     time_str = sorted(time_str)\n",
    "#     cols_ordered = ['Province_State', 'Country_Region', 'Category'] + time_str\n",
    "#     df_time_series = df_time_series.reindex(cols_ordered, axis=1)\n",
    "# #     df_time_series.to_csv(os.path.join(path_time_series, 'time_series_covid19.csv'), index = False)\n",
    "# #     print('New spreadsheet saved!')\n",
    "# else:\n",
    "#     print(f'Data up to date! Today = {today}')"
   ]
  },
  {
   "cell_type": "code",
   "execution_count": null,
   "metadata": {},
   "outputs": [],
   "source": [
    "# path_time_series = os.path.join(master_path, 'csse_covid_19_data', 'csse_covid_19_time_series')\n",
    "# path_daily = os.path.join(master_path, 'csse_covid_19_data', 'csse_covid_19_daily_reports')\n",
    "# today_csv = '03-23-2020.csv'\n",
    "# today = '3/23/20'\n",
    "# folders, files = parse_folder_info(path_time_series)\n",
    "# df_time_series = pd.DataFrame()\n",
    "# # df_time_series_reorged = pd.DataFrame(columns = ['Country/Region', 'Province/State', 'Date', 'Category', 'Number'])\n",
    "# for file_name in files:\n",
    "#     if('.csv' in file_name and '-covid-' in file_name):\n",
    "#         df_current = pd.read_csv(os.path.join(path_time_series, file_name))        \n",
    "#         category = file_name[21:file_name.index('.csv')]\n",
    "#         print(category)\n",
    "#         df_current.loc[:,'Category'] = category\n",
    "#         if df_time_series.empty:\n",
    "#             df_time_series = df_current\n",
    "#         else:\n",
    "#             df_time_series = df_time_series.append(df_current, ignore_index = True)\n",
    "# time_str, time_datetime = get_time_columns(df_time_series.columns)\n",
    "# # df_today = pd.read_csv(os.path.join(path_daily, today_csv))\n",
    "\n",
    "# df_time_series.loc[df_time_series.loc[:,'Province/State'].isna(),'Province/State'] = 'N/A'\n",
    "# # df_today.loc[df_today.loc[:,'Province/State'].isna(), 'Province/State'] = 'N/A'\n",
    "# # df_time_series.loc[:,'New Today'] = df_time_series.loc[:,time_str[-1]] - df_time_series.loc[:,time_str[-2]]\n",
    "\n",
    "### fix 3/12/20 datapoints\n",
    "# alt_cols = ['3/12/20', '3/15/20']\n",
    "# df_alteration = pd.read_csv(os.path.join(master_path, 'time_series_covid19_alteration.csv'))\n",
    "# df_alteration.set_index('Country/Region', inplace = True)\n",
    "# for ctry in df_alteration.index:\n",
    "#     ind = (df_time_series['Category'] == 'Confirmed') & (df_time_series['Country/Region'] == ctry)\n",
    "#     if(np.sum(ind) > 1):\n",
    "#         ind = ind & (df_time_series['Province/State'] == ctry)\n",
    "#     for col in alt_cols:\n",
    "#         if not pd.isna(df_alteration.loc[ctry, col]):\n",
    "#             df_time_series.loc[ind, col] = df_alteration.loc[ctry, col]\n",
    "\n",
    "### total number\n",
    "# ax1 = fig.add_subplot(gs[0, 0])\n",
    "\n",
    "# df_confirmed.sort_values(by = time_str[-1], inplace = True, ascending=False)\n",
    "# countries = list(df_confirmed.index[0:15])\n",
    "# df_plot = df_confirmed.loc[countries,time_str]\n",
    "\n",
    "# colors = pl.cm.tab20(np.linspace(0,1,len(countries)))\n",
    "# for i, ctr in enumerate(countries):\n",
    "#     if(ctr == 'US'):\n",
    "#         ax1.plot(df_plot.loc[ctr,:], color = colors[i], linewidth = 3)\n",
    "#     else:\n",
    "#         ax1.plot(df_plot.loc[ctr,:], color = colors[i])\n",
    "\n",
    "# ax1.legend(countries)\n",
    "# ax1.set_yscale('linear')\n",
    "# # plt.ylim(top = 2000)\n",
    "# ax1.set_title('Total number of cases: top 15')\n",
    "# myLocator = mticker.MultipleLocator(4)\n",
    "# ax1.xaxis.set_major_locator(myLocator)\n",
    "# ax1.tick_params(axis = 'x', labelrotation = 45)\n"
   ]
  },
  {
   "cell_type": "code",
   "execution_count": null,
   "metadata": {},
   "outputs": [],
   "source": [
    "### Daily new cases              \n",
    "# ax3 = fig.add_subplot(gs[1, :])\n",
    "# # hubei_daily = hubei.loc['Confirmed',:].to_numpy()[1:] - hubei.loc['Confirmed',:].to_numpy()[:-1]\n",
    "# # co_daily = china_others.loc['Confirmed',:].to_numpy()[1:] - china_others.loc['Confirmed',:].to_numpy()[0:-1]\n",
    "# x = np.arange(len(time_str))\n",
    "# width = 0.35\n",
    "# rects1 = ax3.bar(x - width/2, df_prov.Daily, width = width)\n",
    "# rects2 = ax3.bar(x + width/2, df_co.Daily, width = width)\n",
    "# # ax3.set_yscale('log')\n",
    "# ax3.set_yscale('linear')\n",
    "# ax3.set_ylim([0, 200])\n",
    "# a = ax3.set_xticks(x)\n",
    "# a = ax3.set_xticklabels(time_str[1:])\n",
    "# ax3.tick_params(axis = 'x', labelrotation = 45)\n",
    "# ax3.legend([prov, 'China w/o Hubei'], fontsize = 14)\n",
    "# ax3.set_ylim(bottom = 10**-0.1)\n",
    "# ax3.set_title('Daily Cases', size = 18)\n"
   ]
  },
  {
   "cell_type": "code",
   "execution_count": null,
   "metadata": {},
   "outputs": [],
   "source": [
    "df_world_test_stats"
   ]
  },
  {
   "cell_type": "code",
   "execution_count": null,
   "metadata": {},
   "outputs": [],
   "source": [
    "datetime.datetime.strptime(df_world_test_stats.Date[0], '%m/%d/%y')"
   ]
  },
  {
   "cell_type": "code",
   "execution_count": null,
   "metadata": {},
   "outputs": [],
   "source": [
    "# ############ params ############\n",
    "# num_states = 10\n",
    "# colors_line = pl.cm.tab10(np.linspace(0,1,num_states))\n",
    "# colors_pie = pl.cm.Set3(np.linspace(0,1,11))\n",
    "# colors_pie[7,:] = colors_pie[10:]\n",
    "# colors_pie[10,:] = 0.85\n",
    "\n",
    "# ############ figure ############\n",
    "# fig = plt.figure(figsize = (15, 20), constrained_layout=True, facecolor=\"1\")\n",
    "# gs = fig.add_gridspec(4, 2)\n",
    "\n",
    "# plt.rc('font', size=SMALL_SIZE)          # controls default text sizes\n",
    "# plt.rc('axes', titlesize=BIGGER_SIZE)     # fontsize of the axes title\n",
    "# plt.rc('axes', labelsize=MEDIUM_SIZE)    # fontsize of the x and y labels\n",
    "# plt.rc('xtick', labelsize=MEDIUM_SIZE)    # fontsize of the tick labels\n",
    "# plt.rc('ytick', labelsize=MEDIUM_SIZE)    # fontsize of the tick labels\n",
    "# plt.rc('legend', fontsize=MEDIUM_SIZE)    # legend fontsize\n",
    "# plt.rc('figure', titlesize=BIGGER_SIZE)  # fontsize of the figure title\n",
    "\n",
    "# ############ testing ############\n",
    "# ### testing: positive rate v1\n",
    "# cat = 'Percent_Positive'\n",
    "# ax6 = fig.add_subplot(gs[2, 0])\n",
    "\n",
    "# df_plot = df_us_tests.sort_values(by = cat, inplace = False, ascending=True)\n",
    "# df_plot.reset_index(inplace = True, drop = True)\n",
    "# x = np.arange(len(df_plot.index))\n",
    "# y = df_plot.loc[x,cat].to_numpy()\n",
    "# x1 = np.arange(-2, len(df_plot.index) + 2)\n",
    "# ax6.set_xlim([-1, len(x) + 0.5])\n",
    "# i_ca = df_plot[df_plot.State == 'California'].index[0]\n",
    "\n",
    "# sns.scatterplot(x = x, y=cat, hue = 'Governer_Affiliation', palette = palette, data=df_plot, ax = ax6)\n",
    "# ax6.scatter(i_ca, df_plot.loc[i_ca, cat], marker = '*', s = 50, color = 'k')\n",
    "# ax6.plot(x1, np.full(len(x1), np.median(df_plot.loc[:,cat])), '--', color = 'grey')\n",
    "# a = ax6.set_title(f'Positive%: Order from low to high')\n",
    "\n",
    "# ### testing: positive rate v2\n",
    "# ax8 = fig.add_subplot(gs[2, 1])\n",
    "\n",
    "# df_plot = df_us_tests.sort_values(by = 'positive', inplace = False, ascending=False)\n",
    "# df_plot.reset_index(inplace = True, drop = True)\n",
    "# states = list(df_plot.State[0:num_states])\n",
    "\n",
    "# x = np.arange(len(states))\n",
    "# x1 = np.arange(-2, len(states) + 2)\n",
    "# y = df_plot.loc[x,cat].to_numpy()\n",
    "\n",
    "# rects = ax8.bar(x, y)\n",
    "# ax8.plot(x1, np.full(len(x1), np.median(df_plot.loc[:,cat])), '--', color = 'grey')\n",
    "# ax8.tick_params(axis = 'x', labelrotation = -90)\n",
    "# autolabel(rects, ax8, '{:.1f}')\n",
    "# ax8.set_xlim([-1, len(x) + 0.5])\n",
    "# ax8.set_xticks(x)\n",
    "# ax8.set_xticklabels(states)\n",
    "# a = ax8.set_title(f'Positive%: US median = {np.median(df_plot.loc[:,cat]):.1f}%')\n",
    "\n",
    "\n",
    "# ### testing: test per million v1\n",
    "# ax7 = fig.add_subplot(gs[3, 0])\n",
    "# cat = 'Test_Per_Million'\n",
    "\n",
    "# df_plot = df_us_tests.sort_values(by = cat, inplace = False, ascending=False)\n",
    "# states = list(df_us_tests.index[0:num_states])\n",
    "\n",
    "# df_plot.reset_index(inplace = True, drop = True)\n",
    "# x = np.arange(len(df_plot.index))\n",
    "# y = df_plot.loc[x,cat].to_numpy()\n",
    "# x1 = np.arange(-2, len(df_plot.index) + 2)\n",
    "# i_ca = df_plot[df_plot.State == 'California'].index[0]\n",
    "\n",
    "# sns.scatterplot(x = x, y=cat, hue = 'Governer_Affiliation', palette = palette, data=df_plot, ax = ax7)\n",
    "# ax7.scatter(i_ca, df_plot.loc[i_ca, cat], marker = '*', s = 50, color = 'k')\n",
    "# ax7.plot(x1, np.full(len(x1), np.median(df_plot.loc[:,cat])), '--', color = 'grey')\n",
    "# a = ax7.set_title(f'Test per million: Order from high to low')\n",
    "# ax7.set_xlim([-1, len(x) + 0.5])\n",
    "\n",
    "# ### testing: test per million v2\n",
    "# ax9 = fig.add_subplot(gs[3, 1])\n",
    "\n",
    "# df_plot = df_us_tests.sort_values(by = 'positive', inplace = False, ascending=False)\n",
    "# df_plot.reset_index(inplace = True, drop = True)\n",
    "# states = list(df_plot.State[0:num_states])\n",
    "\n",
    "# x = np.arange(len(states))\n",
    "# x1 = np.arange(-2, len(states) + 2)\n",
    "# y = df_plot.loc[x,cat].to_numpy()\n",
    "\n",
    "# rects = ax9.bar(x, y)\n",
    "# ax9.plot(x1, np.full(len(x1), np.median(df_plot.loc[:,cat])), '--', color = 'grey')\n",
    "# a = ax9.set_xticks(x)\n",
    "# a = ax9.set_xticklabels(states)\n",
    "# ax9.tick_params(axis = 'x', labelrotation = -90)\n",
    "# autolabel(rects, ax9, '{:.0f}')\n",
    "# # ax8.set_ylim([0, ymax])\n",
    "# ax9.set_xlim([-1, len(x) + 0.5])\n",
    "# a = ax9.set_title(f'Test per million: US median = {np.median(df_plot.loc[:,cat]):.0f}')\n",
    "\n",
    "# ### testing: Severeness index\n",
    "# ax10 = fig.add_subplot(gs[4, :])\n",
    "# cat = 'Pos_Per_Million'\n",
    "\n",
    "# df_plot = df_us_tests.sort_values(by = cat, inplace = False, ascending=False)\n",
    "# df_plot.reset_index(inplace = True, drop = True)\n",
    "\n",
    "# x = np.arange(len(df_plot.index))\n",
    "# y = df_plot.loc[x,cat].to_numpy()\n",
    "# i_ca = df_plot[df_plot.State == 'California'].index[0]\n",
    "\n",
    "# ax10.bar(x, y, color = 'tab:blue')\n",
    "# ax10.bar(i_ca, y[i_ca], color = 'tab:orange')\n",
    "# ax10.tick_params(axis = 'x', labelrotation = -90)\n",
    "# a = ax10.set_xticks(x)\n",
    "# a = ax10.set_xticklabels(list(df_plot.State))\n",
    "# a = ax10.set_title(f'Positive cases per million population: Order from high to low')\n",
    "# ax10.set_xlim(-1, len(x))\n",
    "# ax10.set_yscale('log')"
   ]
  },
  {
   "cell_type": "markdown",
   "metadata": {},
   "source": [
    "### Wish List:\n",
    "- Time Series for US and state testing"
   ]
  },
  {
   "cell_type": "code",
   "execution_count": null,
   "metadata": {
    "scrolled": true
   },
   "outputs": [],
   "source": [
    "df_world_test_stats.Date"
   ]
  },
  {
   "cell_type": "code",
   "execution_count": null,
   "metadata": {},
   "outputs": [],
   "source": []
  },
  {
   "cell_type": "code",
   "execution_count": null,
   "metadata": {},
   "outputs": [],
   "source": []
  }
 ],
 "metadata": {
  "kernelspec": {
   "display_name": "Python 3",
   "language": "python",
   "name": "python3"
  },
  "language_info": {
   "codemirror_mode": {
    "name": "ipython",
    "version": 3
   },
   "file_extension": ".py",
   "mimetype": "text/x-python",
   "name": "python",
   "nbconvert_exporter": "python",
   "pygments_lexer": "ipython3",
   "version": "3.6.8"
  }
 },
 "nbformat": 4,
 "nbformat_minor": 2
}
