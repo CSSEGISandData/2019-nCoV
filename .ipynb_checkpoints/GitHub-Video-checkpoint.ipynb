{
 "cells": [
  {
   "cell_type": "code",
   "execution_count": 1,
   "metadata": {},
   "outputs": [
    {
     "name": "stdout",
     "output_type": "stream",
     "text": [
      "Cloning into 'COVID-19'...\n",
      "remote: Enumerating objects: 7, done.\u001b[K\n",
      "remote: Counting objects: 100% (7/7), done.\u001b[K\n",
      "remote: Compressing objects: 100% (7/7), done.\u001b[K\n",
      "remote: Total 17568 (delta 0), reused 3 (delta 0), pack-reused 17561\u001b[K\n",
      "Receiving objects: 100% (17568/17568), 68.49 MiB | 1.77 MiB/s, done.\n",
      "Resolving deltas: 100% (8859/8859), done.\n",
      "^C\n",
      "warning: Clone succeeded, but checkout failed.\n",
      "You can inspect what was checked out with 'git status'\n",
      "and retry the checkout with 'git checkout -f HEAD'\n",
      "\n"
     ]
    }
   ],
   "source": [
    "!sudo rm -r COVID-19"
   ]
  },
  {
   "cell_type": "code",
   "execution_count": 2,
   "metadata": {},
   "outputs": [
    {
     "name": "stdout",
     "output_type": "stream",
     "text": [
      "Already up to date.\r\n"
     ]
    }
   ],
   "source": [
    "!git pull"
   ]
  },
  {
   "cell_type": "code",
   "execution_count": 3,
   "metadata": {},
   "outputs": [
    {
     "name": "stdout",
     "output_type": "stream",
     "text": [
      "01-22-2020.csv\t02-06-2020.csv\t02-21-2020.csv\t03-07-2020.csv\t03-22-2020.csv\r\n",
      "01-23-2020.csv\t02-07-2020.csv\t02-22-2020.csv\t03-08-2020.csv\t03-23-2020.csv\r\n",
      "01-24-2020.csv\t02-08-2020.csv\t02-23-2020.csv\t03-09-2020.csv\t03-24-2020.csv\r\n",
      "01-25-2020.csv\t02-09-2020.csv\t02-24-2020.csv\t03-10-2020.csv\t03-25-2020.csv\r\n",
      "01-26-2020.csv\t02-10-2020.csv\t02-25-2020.csv\t03-11-2020.csv\t03-26-2020.csv\r\n",
      "01-27-2020.csv\t02-11-2020.csv\t02-26-2020.csv\t03-12-2020.csv\t03-27-2020.csv\r\n",
      "01-28-2020.csv\t02-12-2020.csv\t02-27-2020.csv\t03-13-2020.csv\t03-28-2020.csv\r\n",
      "01-29-2020.csv\t02-13-2020.csv\t02-28-2020.csv\t03-14-2020.csv\t03-29-2020.csv\r\n",
      "01-30-2020.csv\t02-14-2020.csv\t02-29-2020.csv\t03-15-2020.csv\t03-30-2020.csv\r\n",
      "01-31-2020.csv\t02-15-2020.csv\t03-01-2020.csv\t03-16-2020.csv\t03-31-2020.csv\r\n",
      "02-01-2020.csv\t02-16-2020.csv\t03-02-2020.csv\t03-17-2020.csv\t04-01-2020.csv\r\n",
      "02-02-2020.csv\t02-17-2020.csv\t03-03-2020.csv\t03-18-2020.csv\t04-02-2020.csv\r\n",
      "02-03-2020.csv\t02-18-2020.csv\t03-04-2020.csv\t03-19-2020.csv\tREADME.md\r\n",
      "02-04-2020.csv\t02-19-2020.csv\t03-05-2020.csv\t03-20-2020.csv\r\n",
      "02-05-2020.csv\t02-20-2020.csv\t03-06-2020.csv\t03-21-2020.csv\r\n"
     ]
    }
   ],
   "source": [
    "!ls csse_covid_19_data/csse_covid_19_daily_reports/"
   ]
  },
  {
   "cell_type": "code",
   "execution_count": 4,
   "metadata": {},
   "outputs": [
    {
     "name": "stdout",
     "output_type": "stream",
     "text": [
      "Florida Alachua US 2020-04-02 23:25:27 29.67866525 -82.35928158 95 0 0 0\n",
      "Florida Baker US 2020-04-02 23:25:27 30.33060121 -82.28467476 11 0 0 0\n",
      "Florida Bay US 2020-04-02 23:25:27 30.26548745 -85.62122584 15 0 0 0\n",
      "Florida Bradford US 2020-04-02 23:25:27 29.95079741 -82.16611613 5 0 0 0\n",
      "Florida Brevard US 2020-04-02 23:25:27 28.29409504 -80.73091022 49 0 0 0\n",
      "Florida Broward US 2020-04-02 23:25:27 26.15184651 -80.48725556 1481 17 0 0\n",
      "Florida Calhoun US 2020-04-02 23:25:27 30.40666734 -85.19394153 1 0 0 0\n",
      "Florida Charlotte US 2020-04-02 23:25:27 26.90131002 -81.92949121 38 0 0 0\n",
      "Florida Citrus US 2020-04-02 23:25:27 28.84804315 -82.47614748 27 2 0 0\n",
      "Florida Clay US 2020-04-02 23:25:27 29.98319144 -81.85609986 58 6 0 0\n",
      "Florida Collier US 2020-04-02 23:25:27 26.11091986 -81.34687065 178 2 0 0\n",
      "Florida Columbia US 2020-04-02 23:25:27 30.22509788 -82.62160164 4 0 0 0\n",
      "Florida Duval US 2020-04-02 23:25:27 30.33225875 -81.66976468 286 9 0 0\n",
      "Florida Escambia US 2020-04-02 23:25:27 30.67652764 -87.37284571 101 0 0 0\n",
      "Florida Flagler US 2020-04-02 23:25:27 29.45933576 -81.31508595 25 1 0 0\n",
      "Florida Gadsden US 2020-04-02 23:25:27 30.57796289 -84.61915825 2 0 0 0\n",
      "Florida Glades US 2020-04-02 23:25:27 26.95635849 -81.18996211 3 1 0 0\n",
      "Florida Gulf US 2020-04-02 23:25:27 29.93543004 -85.24270990000002 1 0 0 0\n",
      "Florida Hardee US 2020-04-02 23:25:27 27.49293939 -81.80956574 1 0 0 0\n",
      "Florida Hendry US 2020-04-02 23:25:27 26.55386945 -81.16469006 4 0 0 0\n",
      "Florida Hernando US 2020-04-02 23:25:27 28.55364461 -82.42700204 34 0 0 0\n",
      "Florida Highlands US 2020-04-02 23:25:27 27.34254618 -81.34071957 24 1 0 0\n",
      "Florida Hillsborough US 2020-04-02 23:25:27 27.9276559 -82.32013172 404 5 0 0\n",
      "Florida Holmes US 2020-04-02 23:25:27 30.86747479 -85.81319222 1 0 0 0\n",
      "Florida Indian River US 2020-04-02 23:25:27 27.69308961 -80.60556721 41 0 0 0\n",
      "Florida Jackson US 2020-04-02 23:25:27 30.795459700000002 -85.21500423 4 0 0 0\n",
      "Florida Lake US 2020-04-02 23:25:27 28.76202069 -81.7125123 82 2 0 0\n",
      "Florida Lee US 2020-04-02 23:25:27 26.58410348 -81.88399313 275 10 0 0\n",
      "Florida Leon US 2020-04-02 23:25:27 30.45955727 -84.27491114 35 0 0 0\n",
      "Florida Levy US 2020-04-02 23:25:27 29.31829741 -82.74007147 2 0 0 0\n",
      "Florida Madison US 2020-04-02 23:25:27 30.44396917 -83.47398594 2 0 0 0\n",
      "Florida Manatee US 2020-04-02 23:25:27 27.47196942 -82.31831044 89 3 0 0\n",
      "Florida Marion US 2020-04-02 23:25:27 29.21227113 -82.05803627 33 0 0 0\n",
      "Florida Martin US 2020-04-02 23:25:27 27.0772071 -80.43109784 34 0 0 0\n",
      "Florida Miami-Dade US 2020-04-02 23:25:27 25.6112362 -80.55170587 2886 20 0 0\n",
      "Florida Monroe US 2020-04-02 23:25:27 25.20904673 -81.07812416 38 0 0 0\n",
      "Florida Nassau US 2020-04-02 23:25:27 30.61037141 -81.80297522 16 0 0 0\n",
      "Florida Okaloosa US 2020-04-02 23:25:27 30.69143028 -86.59267105 51 1 0 0\n",
      "Florida Okeechobee US 2020-04-02 23:25:27 27.386336199999995 -80.88944347 1 0 0 0\n",
      "Florida Orange US 2020-04-02 23:25:27 28.51367621 -81.31799498 541 5 0 0\n",
      "Florida Osceola US 2020-04-02 23:25:27 28.06312234 -81.14882926 170 4 0 0\n",
      "Florida Palm Beach US 2020-04-02 23:25:27 26.64676272 -80.46536002 737 27 0 0\n",
      "Florida Pasco US 2020-04-02 23:25:27 28.30810945 -82.40227529 66 2 0 0\n",
      "Florida Pinellas US 2020-04-02 23:25:27 27.93130349 -82.72239666 273 6 0 0\n",
      "Florida Polk US 2020-04-02 23:25:27 27.95027105 -81.69732947 103 2 0 0\n",
      "Florida Putnam US 2020-04-02 23:25:27 29.60779729 -81.74230285 14 0 0 0\n",
      "Florida Santa Rosa US 2020-04-02 23:25:27 30.69341450000001 -87.02458128 47 2 0 0\n",
      "Florida Sarasota US 2020-04-02 23:25:27 27.18546175 -82.33174248 110 7 0 0\n",
      "Florida Seminole US 2020-04-02 23:25:27 28.7158582 -81.24060348 145 0 0 0\n",
      "Florida St. Johns US 2020-04-02 23:25:27 29.90096506 -81.43589967 102 2 0 0\n",
      "Florida St. Lucie US 2020-04-02 23:25:27 27.37763908 -80.47106649 48 3 0 0\n",
      "Florida Sumter US 2020-04-02 23:25:27 28.70181754 -82.0794267 66 2 0 0\n",
      "Florida Suwannee US 2020-04-02 23:25:27 30.19746066 -82.99099670000003 7 0 0 0\n",
      "Florida Union US 2020-04-02 23:25:27 30.04412971 -82.37497443 1 0 0 0\n",
      "Florida Volusia US 2020-04-02 23:25:27 29.05858895 -81.18263252 102 1 0 0\n",
      "Florida Wakulla US 2020-04-02 23:25:27 30.16548905 -84.39895211 2 0 0 0\n",
      "Florida Walton US 2020-04-02 23:25:27 30.64204028 -86.16935664 19 0 0 0\n",
      "Florida Washington US 2020-04-02 23:25:27 30.61359259 -85.66002461 1 0 0 0\n",
      "\n",
      "\n",
      " 58\n"
     ]
    }
   ],
   "source": [
    "LASTFILE=\"csse_covid_19_data/csse_covid_19_daily_reports/04-02-2020.csv\"\n",
    "#LASTFILE=\"csse_covid_19_data/csse_covid_19_daily_reports/03-30-2020.csv\"\n",
    "DataIn = open(LASTFILE).readlines()\n",
    "LAT=[]\n",
    "LONG=[]\n",
    "STATES=[]\n",
    "cases=[]\n",
    "longitude = \"\"\n",
    "for line in DataIn:\n",
    "    if len(line)>10 and 'US' in line and \"Recovered\" not in line and \"Florida\" in line and \"DeSoto\" not in line  and \"Unassigned\" not in line:\n",
    "        line=line.replace(\"\\n\",\"\")\n",
    "        line = line.lstrip(\",\")\n",
    "        line = line.split(\",\")\n",
    "        if len(line)>5:print(line[2],line[1],line[3],line[4],line[5],line[6],line[7],line[8],line[9],line[10])\n",
    "        if len(line)>5:text = str(line[2]+' '+line[1]+' '+line[3]+' '+line[4]+' '+line[5]+' '+line[6]+' '+line[7]+' '+line[8]+' '+line[9]+' '+line[10])\n",
    "        \n",
    "        STATES.append(text)\n",
    "        LAT.append(line[5])\n",
    "        LONG.append(line[6])\n",
    "        cases.append(line[7])\n",
    "        longitude = longitude+line[6]+\",\"\n",
    "print(\"\\n\\n\",len(STATES))        "
   ]
  },
  {
   "cell_type": "raw",
   "metadata": {},
   "source": [
    "25.5516° N, 80.6327° W\n",
    "Florida Miami-Dade US 2020-04-01 21:58:49 25.6112362 -80.55170587 2202 7 0 0"
   ]
  },
  {
   "cell_type": "code",
   "execution_count": 5,
   "metadata": {},
   "outputs": [
    {
     "ename": "SyntaxError",
     "evalue": "invalid syntax (<ipython-input-5-ac10c1c19275>, line 1)",
     "output_type": "error",
     "traceback": [
      "\u001b[0;36m  File \u001b[0;32m\"<ipython-input-5-ac10c1c19275>\"\u001b[0;36m, line \u001b[0;32m1\u001b[0m\n\u001b[0;31m    27.18546175 -82.33174248  -82.33174248 is the same as 82.33174248° W\u001b[0m\n\u001b[0m                                                     ^\u001b[0m\n\u001b[0;31mSyntaxError\u001b[0m\u001b[0;31m:\u001b[0m invalid syntax\n"
     ]
    }
   ],
   "source": [
    "27.18546175 -82.33174248  -82.33174248 is the same as 82.33174248° W"
   ]
  },
  {
   "cell_type": "code",
   "execution_count": null,
   "metadata": {},
   "outputs": [],
   "source": [
    "from matplotlib.pyplot import text\n",
    "from matplotlib import pyplot as plt\n",
    "import numpy as np\n",
    "LT = np.array(LAT,dtype=np.float)\n",
    "LG = np.array(LONG,dtype=np.float)\n",
    "print (\"Max Latitude: \",max(LT))\n",
    "print (\"Min Latitude: \",min(LT))\n",
    "print (\"Max Longitude: \",max(LG))\n",
    "print (\"Max Longitude: \",min(LG))\n",
    "\n",
    "fig = plt.figure(num=None, figsize=(6,6), dpi=80, facecolor='salmon')\n",
    "#fig = plt.figure()\n",
    "ax = fig.gca()\n",
    "\n",
    "#s1= 'Miami-Dade'\n",
    "#plt.text(.3, .8, s1, fontsize=12)\n",
    "text(0.7, 0.2, 'Miami-Dade', horizontalalignment='center', verticalalignment='center', transform=ax.transAxes)\n",
    "\n",
    "#ax.set_facecolor('xkcd:green')\n",
    "ax.set_facecolor(('#8eda8b'))\n",
    "s=1\n",
    "#plt.axis([-130,-65,20,55])\n",
    "ax.grid(color='lightgray', linestyle='-', linewidth=1)\n",
    "plt.scatter(LG, LT, s=s, color=\"black\")\n",
    "plt.grid(True)\n",
    "\n",
    "\n",
    "\n",
    "plt.xlabel('First data sample was: 09/03/2020 04:30:00')\n",
    "plt.title('Using Latitude and Longitude from https://github.com/CSSEGISandData/COVID-19')\n",
    "plt.ylabel('Number of Cases')\n",
    "plt.show()"
   ]
  },
  {
   "cell_type": "code",
   "execution_count": null,
   "metadata": {},
   "outputs": [],
   "source": [
    "from matplotlib.pyplot import text\n",
    "from matplotlib import pyplot as plt\n",
    "import numpy as np\n",
    "LT = np.array(LAT,dtype=np.float)\n",
    "LG = np.array(LONG,dtype=np.float)\n",
    "print (\"Max Latitude: \",max(LT))\n",
    "print (\"Min Latitude: \",min(LT))\n",
    "print (\"Max Longitude: \",max(LG))\n",
    "print (\"Max Longitude: \",min(LG))\n",
    "\n",
    "fig = plt.figure(num=None, figsize=(8,9), dpi=120, facecolor='salmon')\n",
    "#fig = plt.figure()\n",
    "ax = fig.gca()\n",
    "\n",
    "text(0.8, 0.11, 'Miami-Dade', horizontalalignment='center', verticalalignment='center', transform=ax.transAxes)\n",
    "\n",
    "#ax.set_facecolor('xkcd:green')\n",
    "ax.set_facecolor(('#8eda8b'))\n",
    "S=1\n",
    "Size=[]\n",
    "for x in cases:\n",
    "    S=1+(float(x)*.1)\n",
    "    Size.append(int(S))\n",
    "    #print(int(S))\n",
    "s = np.array(Size)\n",
    "\n",
    "#plt.axis([-130,-65,20,55])\n",
    "ax.grid(color='lightgray', linestyle='-', linewidth=1)\n",
    "plt.scatter(LG, LT, s=s, color=\"black\")\n",
    "plt.grid(True)\n",
    "\n",
    "plt.xlabel('First data sample was: 09/03/2020 04:30:00')\n",
    "plt.title('Using Latitude and Longitude from https://github.com/CSSEGISandData/COVID-19')\n",
    "plt.ylabel('Number of Cases')\n",
    "plt.show()"
   ]
  },
  {
   "cell_type": "code",
   "execution_count": null,
   "metadata": {},
   "outputs": [],
   "source": [
    "w = 12\n",
    "h = 12\n",
    "d = 80\n",
    "plt.figure(figsize=(w, h,), dpi=d)\n",
    "fig, ax = plt.subplots()\n",
    "ax.scatter(x, y, s=2)"
   ]
  },
  {
   "cell_type": "code",
   "execution_count": null,
   "metadata": {},
   "outputs": [],
   "source": [
    "#y = [2.56422, 3.77284, 3.52623, 3.51468, 3.02199]\n",
    "#z = [0.15, 0.3, 0.45, 0.6, 0.75]\n",
    "#txt = 'Dade'\n",
    "ax.axis([-88, -80, 24, 31])\n",
    "\n",
    "ax.text(25,81, \". Data: (1, 5)\", transform=ax.transData)\n",
    "ax.text(85, 26, \". Axes: (0.5, 0.1)\", transform=ax.transAxes)\n",
    "ax.text(87, 27, \". Figure: (0.2, 0.2)\", transform=fig.transFigure);\n",
    "\n",
    "fig, ax = plt.subplots()\n",
    "#ax.annotate(txt, (3, 3))\n",
    "ax.scatter(x, y)\n",
    "\n",
    "\n"
   ]
  },
  {
   "cell_type": "code",
   "execution_count": null,
   "metadata": {},
   "outputs": [],
   "source": [
    "fig, ax = plt.subplots(facecolor='lightgray')\n",
    "ax.axis([0, 10, 0, 10])\n",
    "\n",
    "# transform=ax.transData is the default, but we'll specify it anyway\n",
    "ax.text(1, 5, \". Data: (1, 5)\", transform=ax.transData)\n",
    "ax.text(0.5, 0.1, \". Axes: (0.5, 0.1)\", transform=ax.transAxes)\n",
    "ax.text(0.2, 0.2, \". Figure: (0.2, 0.2)\", transform=fig.transFigure);\n",
    "fig, ax = plt.subplots()\n",
    "#ax.annotate(txt, (3, 3))\n",
    "ax.scatter(x, y)"
   ]
  },
  {
   "cell_type": "code",
   "execution_count": null,
   "metadata": {},
   "outputs": [],
   "source": [
    "%matplotlib inline\n",
    "\n",
    "fig, ax = plt.subplots()\n",
    "\n",
    "x = np.linspace(0, 20, 1000)\n",
    "ax.plot(x, np.cos(x))\n",
    "ax.axis('equal')\n",
    "\n",
    "ax.annotate('local maximum', xy=(6.28, 1), xytext=(10, 4),\n",
    "            arrowprops=dict(facecolor='black', shrink=0.05))\n",
    "\n",
    "ax.annotate('local minimum', xy=(5 * np.pi, -1), xytext=(2, -6),\n",
    "            arrowprops=dict(arrowstyle=\"->\",\n",
    "                            connectionstyle=\"angle3,angleA=0,angleB=-90\"));\n"
   ]
  },
  {
   "cell_type": "markdown",
   "metadata": {},
   "source": [
    "# Position Text\n",
    "https://jakevdp.github.io/PythonDataScienceHandbook/04.09-text-and-annotation.html"
   ]
  },
  {
   "cell_type": "code",
   "execution_count": null,
   "metadata": {},
   "outputs": [],
   "source": [
    "from matplotlib.pyplot import text\n",
    "from matplotlib import pyplot as plt\n",
    "import numpy as np\n",
    "LT = np.array(LAT,dtype=np.float)\n",
    "LG = np.array(LONG,dtype=np.float)\n",
    "print (\"Max Latitude: \",max(LT))\n",
    "print (\"Min Latitude: \",min(LT))\n",
    "print (\"Max Longitude: \",max(LG))\n",
    "print (\"Max Longitude: \",min(LG))\n",
    "\n",
    "fig = plt.figure(num=None, figsize=(6,6), dpi=80, facecolor='salmon')\n",
    "#fig = plt.figure()\n",
    "ax = fig.gca()\n",
    "\n",
    "text(0.8, 0.11, 'Miami-Dade', horizontalalignment='center', verticalalignment='center', transform=ax.transAxes)\n",
    "\n",
    "#ax.set_facecolor('xkcd:green')\n",
    "ax.set_facecolor(('#8eda8b'))\n",
    "S=1\n",
    "Size=[]\n",
    "for x in cases:\n",
    "    S=1+(float(x)*.1)\n",
    "    Size.append(int(S))\n",
    "    #print(int(S))\n",
    "s = np.array(Size)\n",
    "\n",
    "#plt.axis([-130,-65,20,55])\n",
    "ax.grid(color='lightgray', linestyle='-', linewidth=1)\n",
    "plt.scatter(LG, LT, s=s, color=\"black\")\n",
    "plt.grid(True)\n",
    "\n",
    "plt.xlabel('First data sample was: 09/03/2020 04:30:00')\n",
    "plt.title('Using Latitude and Longitude from https://github.com/CSSEGISandData/COVID-19')\n",
    "plt.ylabel('Number of Cases')\n",
    "plt.show()"
   ]
  },
  {
   "cell_type": "code",
   "execution_count": null,
   "metadata": {},
   "outputs": [],
   "source": [
    "fig, ax = plt.subplots(facecolor='lightgray')\n",
    "ax.axis([0, 10, 0, 10])\n",
    "\n",
    "# transform=ax.transData is the default, but we'll specify it anyway\n",
    "ax.text(1, 5, \". Data: (1, 5)\", transform=ax.transData)\n",
    "ax.text(0.5, 0.1, \". Axes: (0.5, 0.1)\", transform=ax.transAxes)\n",
    "ax.text(0.2, 0.2, \". Figure: (0.2, 0.2)\", transform=fig.transFigure);\n"
   ]
  },
  {
   "cell_type": "code",
   "execution_count": null,
   "metadata": {},
   "outputs": [],
   "source": [
    "# doubling the width of markers\n",
    "x = [0,2,4,6,8,10]\n",
    "y = [0]*len(x)\n",
    "s = [20*2**n for n in range(len(x))]\n",
    "plt.scatter(x,y,s=s)\n",
    "plt.show()"
   ]
  },
  {
   "cell_type": "code",
   "execution_count": null,
   "metadata": {},
   "outputs": [],
   "source": [
    "y = [2.56422, 3.77284, 3.52623, 3.51468, 3.02199]\n",
    "z = [0.15, 0.3, 0.45, 0.6, 0.75]\n",
    "n = [58, 651, 393, 203, 123]\n",
    "\n",
    "fig, ax = plt.subplots()\n",
    "ax.scatter(z, y)\n",
    "\n",
    "for i, txt in enumerate(n):\n",
    "    ax.annotate(txt, (z[i], y[i]))"
   ]
  },
  {
   "cell_type": "code",
   "execution_count": null,
   "metadata": {},
   "outputs": [],
   "source": [
    "14.5995° N, 120.9842° E"
   ]
  },
  {
   "cell_type": "code",
   "execution_count": null,
   "metadata": {},
   "outputs": [],
   "source": [
    "import matplotlib.pyplot as plt\n",
    "w = 4\n",
    "h = 3\n",
    "d = 70\n",
    "plt.figure(figsize=(w, h), dpi=d)\n",
    "x = LG\n",
    "y = LT\n",
    "x_pos = 1\n",
    "y_pos = 2\n",
    "#plt.text(x_pos, y_pos, \"text on plot\")\n",
    "\n",
    "plt.plot(x,y)"
   ]
  },
  {
   "cell_type": "code",
   "execution_count": null,
   "metadata": {},
   "outputs": [],
   "source": [
    "S=1\n",
    "Size=[]\n",
    "for x in cases:\n",
    "    S=1+(float(x)*.1)\n",
    "    Size.append(int(S))\n",
    "    print(int(S))\n",
    "s = np.array(Size)"
   ]
  },
  {
   "cell_type": "code",
   "execution_count": null,
   "metadata": {},
   "outputs": [],
   "source": [
    "s = [.1*n for n in range(len(cases))]\n",
    "for I in s:\n",
    "    print (int(I))"
   ]
  },
  {
   "cell_type": "code",
   "execution_count": null,
   "metadata": {},
   "outputs": [],
   "source": []
  }
 ],
 "metadata": {
  "kernelspec": {
   "display_name": "Python(base)",
   "language": "python",
   "name": "base"
  },
  "language_info": {
   "codemirror_mode": {
    "name": "ipython",
    "version": 3
   },
   "file_extension": ".py",
   "mimetype": "text/x-python",
   "name": "python",
   "nbconvert_exporter": "python",
   "pygments_lexer": "ipython3",
   "version": "3.7.4"
  },
  "toc": {
   "base_numbering": 1,
   "nav_menu": {},
   "number_sections": true,
   "sideBar": true,
   "skip_h1_title": false,
   "title_cell": "Table of Contents",
   "title_sidebar": "Contents",
   "toc_cell": false,
   "toc_position": {},
   "toc_section_display": true,
   "toc_window_display": false
  }
 },
 "nbformat": 4,
 "nbformat_minor": 4
}
