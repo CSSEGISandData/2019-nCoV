{
 "cells": [
  {
   "cell_type": "code",
   "execution_count": 46,
   "metadata": {},
   "outputs": [],
   "source": [
    "import numpy as np\n",
    "from pathlib import Path\n",
    "import pandas as pd\n",
    "import kmapper\n",
    "from sklearn import datasets\n",
    "from datetime import date, timedelta, datetime\n",
    "from sklearn.preprocessing import normalize\n",
    "import networkx as nx\n",
    "import IPython\n",
    "import tkinter"
   ]
  },
  {
   "cell_type": "code",
   "execution_count": 47,
   "metadata": {},
   "outputs": [],
   "source": [
    "data_folder = Path(\"csse_covid_19_data/csse_covid_19_daily_reports/\")\n",
    "\n",
    "# make days array based on inputs\n",
    "pandemic_start = date(2020, 1, 22)\n",
    "\n",
    "# don't do 3-21 or earlier\n",
    "start_date = date(2020, 3, 22)\n",
    "end_date = date(2020, 4, 19)\n",
    "\n",
    "delete_location = True\n",
    "delete_unassigned = True\n",
    "normalize_data = True\n",
    "sort_by_location = False\n",
    "\n",
    "delta = end_date - start_date"
   ]
  },
  {
   "cell_type": "code",
   "execution_count": 48,
   "metadata": {},
   "outputs": [],
   "source": [
    "for day in range(delta.days + 1):\n",
    "    # get the day\n",
    "    date = start_date + timedelta(days=day)\n",
    "    # convert to string/file name\n",
    "    day_file = date.strftime(\"%m-%d-%Y\") + \".csv\"\n",
    "\n",
    "    file_to_open = data_folder / day_file\n",
    "    raw_data = pd.read_csv(file_to_open, header=0, delimiter=',', encoding=None, usecols=(\n",
    "        \"Admin2\", \"Province_State\", \"Country_Region\", \"Lat\", \"Long_\", \"Confirmed\"))\n",
    "\n",
    "    # calculating days since covid hit US\n",
    "    days_since_start = date - pandemic_start\n",
    "\n",
    "    # adding another column with days since covid hit the US\n",
    "    raw_data['Days since start'] = days_since_start.days  # number of days\n",
    "    raw_data['Date'] = date.strftime(\"%m-%d-%Y\")\n",
    "    raw_data = raw_data[raw_data['Lat'].notna()] #drop rows where Lat is empty\n",
    "    raw_data = raw_data[raw_data['Long_'].notna()] #drop rows where Long_ is empty\n",
    "    raw_data = raw_data.fillna(value = \"N/A\")\n",
    "    \n",
    "    if day == 0:\n",
    "        final_array = raw_data.copy(deep=False)  # make shallow copy\n",
    "    else:\n",
    "        final_array = final_array.append(raw_data)\n",
    "        #print(final_array.iloc[-1])"
   ]
  },
  {
   "cell_type": "code",
   "execution_count": 49,
   "metadata": {},
   "outputs": [
    {
     "name": "stdout",
     "output_type": "stream",
     "text": [
      "['New York City, New York, 03-22-2020' 'Nassau, New York, 03-22-2020'\n",
      " 'Westchester, New York, 03-22-2020' ... 'Salt Lake, Utah, 04-19-2020'\n",
      " 'San Jacinto, Texas, 04-19-2020' 'San Juan, Utah, 04-19-2020']\n"
     ]
    }
   ],
   "source": [
    "final_array.drop(\n",
    "    final_array[final_array['Country_Region'] != \"US\"].index, inplace=True)\n",
    "\n",
    "if delete_unassigned:\n",
    "    final_array.drop(\n",
    "        final_array[final_array['Admin2'] == \"Unassigned\"].index, inplace=True)\n",
    "    final_array.drop(\n",
    "        final_array[final_array.Admin2.str.contains(\"Out of\")].index, inplace=True)\n",
    "\n",
    "if sort_by_location:\n",
    "    final_array = final_array.sort_values(['Province_State', 'Admin2'])\n",
    "\n",
    "if delete_location:\n",
    "    #matrix: \"Admin2\", \"Province_State\", \"Country_Region\", \"Lat\", \"Long_\", \"Confirmed\", \"days since start\", \"date\"\n",
    "    temp = final_array.to_numpy()\n",
    "    indices = np.empty(len(temp), dtype=object)\n",
    "    for i in range(len(temp)):\n",
    "        indices[i] = str(temp[i, 0]) + \", \" + str(temp[i, 1]) + \", \" + str(temp[i, 7])\n",
    "\n",
    "    print(indices)\n",
    "    final_array = final_array.drop(\n",
    "        columns=[\"Admin2\", \"Province_State\", \"Country_Region\", \"Date\"])\n",
    "    final_array = final_array.to_numpy()\n",
    "    \n",
    "    if normalize_data: #normalize the columns (axis = 0)            \n",
    "        data = normalize(final_array, axis=0, norm='l2')\n",
    "    else:\n",
    "        data = final_array.copy()\n",
    "else:\n",
    "    data = final_array.copy()"
   ]
  },
  {
   "cell_type": "code",
   "execution_count": 50,
   "metadata": {},
   "outputs": [],
   "source": [
    "km = kmapper.KeplerMapper()\n",
    "lens = km.project(data)\n",
    "graph = km.map(X=data, lens=lens, cover=kmapper.Cover(n_cubes=100, perc_overlap=0.08))"
   ]
  },
  {
   "cell_type": "code",
   "execution_count": 51,
   "metadata": {},
   "outputs": [
    {
     "name": "stderr",
     "output_type": "stream",
     "text": [
      "/Users/christinali/tda/venv/lib/python3.8/site-packages/IPython/core/display.py:717: UserWarning: Consider using IPython.display.IFrame instead\n",
      "  warnings.warn(\"Consider using IPython.display.IFrame instead\")\n"
     ]
    },
    {
     "data": {
      "text/html": [
       "<iframe src=make_circles_keplermapper_output.html width=1000 height=800></iframe>"
      ],
      "text/plain": [
       "<IPython.core.display.HTML object>"
      ]
     },
     "execution_count": 51,
     "metadata": {},
     "output_type": "execute_result"
    }
   ],
   "source": [
    "# nx_graph = kmapper.adapter.to_nx(graph)\n",
    "\n",
    "\n",
    "url = 'make_circles_keplermapper_output.html'\n",
    "\n",
    "\n",
    "km.visualize(graph,\n",
    "                 path_html=url,\n",
    "                 title=\"COVID-19 Dataset\", custom_tooltips = indices)\n",
    "\n",
    "iframe = '<iframe src=' + url + ' width=1000 height=800></iframe>'\n",
    "IPython.display.HTML(iframe)\n",
    "\n",
    "\n",
    "# import matplotlib.pyplot as plt\n",
    "# %matplotlib inline\n",
    "# #matplotlib.use('TKAgg',warn=False, force=True)\n",
    "# kmapper.draw_matplotlib(graph)\n",
    "# plt.show()"
   ]
  },
  {
   "cell_type": "code",
   "execution_count": 52,
   "metadata": {},
   "outputs": [],
   "source": [
    "# nx.draw(nx_graph)"
   ]
  },
  {
   "cell_type": "code",
   "execution_count": 53,
   "metadata": {},
   "outputs": [
    {
     "name": "stdout",
     "output_type": "stream",
     "text": [
      "[[ 4.28344558e-03 -3.25298871e-03  2.10763968e-02  3.26363909e-03]\n",
      " [ 4.28064992e-03 -3.23618506e-03  4.14803749e-03  3.26363909e-03]\n",
      " [ 4.32500221e-03 -3.24357297e-03  4.08909170e-03  3.26363909e-03]\n",
      " ...\n",
      " [ 4.27282217e-03 -4.92188985e-03  3.52583187e-03  4.78667067e-03]\n",
      " [ 3.21299211e-03 -4.18489233e-03  2.18317763e-05  4.78667067e-03]\n",
      " [ 3.95356113e-03 -4.82873810e-03  4.80299078e-05  4.78667067e-03]]\n"
     ]
    }
   ],
   "source": [
    "print(data)"
   ]
  },
  {
   "cell_type": "code",
   "execution_count": null,
   "metadata": {},
   "outputs": [],
   "source": []
  },
  {
   "cell_type": "code",
   "execution_count": null,
   "metadata": {},
   "outputs": [],
   "source": []
  }
 ],
 "metadata": {
  "kernelspec": {
   "display_name": "Python 3",
   "language": "python",
   "name": "python3"
  },
  "language_info": {
   "codemirror_mode": {
    "name": "ipython",
    "version": 3
   },
   "file_extension": ".py",
   "mimetype": "text/x-python",
   "name": "python",
   "nbconvert_exporter": "python",
   "pygments_lexer": "ipython3",
   "version": "3.8.5"
  }
 },
 "nbformat": 4,
 "nbformat_minor": 4
}
