{
 "cells": [
  {
   "cell_type": "code",
   "execution_count": 31,
   "metadata": {},
   "outputs": [],
   "source": [
    "import numpy as np\n",
    "from pathlib import Path\n",
    "import pandas as pd\n",
    "import kmapper\n",
    "from sklearn import datasets\n",
    "from datetime import date, timedelta, datetime\n",
    "from sklearn.preprocessing import normalize\n",
    "import networkx as nx\n",
    "import IPython\n",
    "import tkinter"
   ]
  },
  {
   "cell_type": "code",
   "execution_count": null,
   "metadata": {},
   "outputs": [],
   "source": []
  },
  {
   "cell_type": "code",
   "execution_count": null,
   "metadata": {},
   "outputs": [],
   "source": []
  },
  {
   "cell_type": "code",
   "execution_count": 32,
   "metadata": {},
   "outputs": [
    {
     "name": "stdout",
     "output_type": "stream",
     "text": [
      "[[ 0.00414776 -0.00752604  0.98222165  0.00610455]\n",
      " [ 0.0196404  -0.03547623  0.91595837  0.028925  ]\n",
      " [ 0.0200998  -0.03601577  0.91458642  0.02929802]\n",
      " ...\n",
      " [ 0.1706419  -0.43691574  0.01279703  0.37964532]\n",
      " [ 0.12208432 -0.44838463  0.02712828  0.40240278]\n",
      " [ 0.13203408 -0.45630528  0.00457401  0.40708664]]\n"
     ]
    }
   ],
   "source": [
    "# if delete_location:\n",
    "    #matrix: \"Admin2\", \"Province_State\", \"Country_Region\", \"Lat\", \"Long_\", \"Confirmed\", \"days since start\", \"date\"\n",
    "    \n",
    "#     indices = np.empty(len(final_array), dtype=object)\n",
    "#     for i in range(len(final_array)):\n",
    "#         indices[i] = str(final_array[i, 0]) + \", \" + str(final_array[i, 1]) + \", \" + str(final_array[i, 7])\n",
    "\n",
    "#     print(indices)\n",
    "#     selected_data1 = np.delete(final_array, [0, 1, 2, 7], 1)  # deleting locations\n",
    "    \n",
    "#     if normalize_data:            \n",
    "#         data = normalize(selected_data1, axis=0, norm='l2')\n",
    "#     else:\n",
    "#         data = selected_data1.copy()\n",
    "# else:\n",
    "#     data = final_array.copy()\n",
    "data = np.genfromtxt(\"yaydata.csv\",delimiter=',')\n",
    "print(data)"
   ]
  },
  {
   "cell_type": "code",
   "execution_count": 33,
   "metadata": {},
   "outputs": [],
   "source": [
    "km = kmapper.KeplerMapper()\n",
    "lens = km.project(data)\n",
    "graph = km.map(X=data, lens=lens, cover=kmapper.Cover(n_cubes=10, perc_overlap=0.08))"
   ]
  },
  {
   "cell_type": "code",
   "execution_count": 34,
   "metadata": {},
   "outputs": [
    {
     "name": "stderr",
     "output_type": "stream",
     "text": [
      "/Users/christinali/tda/venv/lib/python3.8/site-packages/IPython/core/display.py:717: UserWarning: Consider using IPython.display.IFrame instead\n",
      "  warnings.warn(\"Consider using IPython.display.IFrame instead\")\n"
     ]
    },
    {
     "data": {
      "text/html": [
       "<iframe src=make_circles_keplermapper_output.html width=1000 height=800></iframe>"
      ],
      "text/plain": [
       "<IPython.core.display.HTML object>"
      ]
     },
     "execution_count": 34,
     "metadata": {},
     "output_type": "execute_result"
    }
   ],
   "source": [
    "# nx_graph = kmapper.adapter.to_nx(graph)\n",
    "\n",
    "\n",
    "url = 'make_circles_keplermapper_output.html'\n",
    "\n",
    "\n",
    "# km.visualize(graph,\n",
    "#                  path_html=url,\n",
    "#                  title=\"COVID-19 Dataset\", custom_tooltips = indices)\n",
    "km.visualize(graph,\n",
    "                 path_html=url,\n",
    "                 title=\"COVID-19 Dataset\")\n",
    "\n",
    "iframe = '<iframe src=' + url + ' width=1000 height=800></iframe>'\n",
    "IPython.display.HTML(iframe)\n",
    "\n",
    "\n",
    "# import matplotlib.pyplot as plt\n",
    "# %matplotlib inline\n",
    "# #matplotlib.use('TKAgg',warn=False, force=True)\n",
    "# kmapper.draw_matplotlib(graph)\n",
    "# plt.show()"
   ]
  },
  {
   "cell_type": "code",
   "execution_count": 20,
   "metadata": {},
   "outputs": [],
   "source": [
    "# nx.draw(nx_graph)"
   ]
  },
  {
   "cell_type": "code",
   "execution_count": 11,
   "metadata": {},
   "outputs": [
    {
     "name": "stdout",
     "output_type": "stream",
     "text": [
      "[[ 2.08470888e-03 -1.58176329e-03  5.15756900e-03  1.09011520e-03]\n",
      " [ 2.08334826e-03 -1.57359252e-03  1.01505916e-03  1.09011520e-03]\n",
      " [ 2.10493406e-03 -1.57718489e-03  1.00063463e-03  1.09011520e-03]\n",
      " ...\n",
      " [ 1.38077424e-03 -2.12058977e-03  1.65614915e-05  2.70711942e-03]\n",
      " [ 1.47612440e-03 -2.13321959e-03  6.94514160e-06  2.70711942e-03]\n",
      " [ 2.30007398e-03 -2.17395400e-03  1.06848332e-06  2.70711942e-03]]\n"
     ]
    }
   ],
   "source": [
    "print(data)"
   ]
  },
  {
   "cell_type": "code",
   "execution_count": null,
   "metadata": {},
   "outputs": [],
   "source": []
  },
  {
   "cell_type": "code",
   "execution_count": null,
   "metadata": {},
   "outputs": [],
   "source": []
  }
 ],
 "metadata": {
  "kernelspec": {
   "display_name": "Python 3",
   "language": "python",
   "name": "python3"
  },
  "language_info": {
   "codemirror_mode": {
    "name": "ipython",
    "version": 3
   },
   "file_extension": ".py",
   "mimetype": "text/x-python",
   "name": "python",
   "nbconvert_exporter": "python",
   "pygments_lexer": "ipython3",
   "version": "3.8.5"
  }
 },
 "nbformat": 4,
 "nbformat_minor": 4
}
