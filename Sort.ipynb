{
  "nbformat": 4,
  "nbformat_minor": 0,
  "metadata": {
    "colab": {
      "name": "Sort.ipynb",
      "provenance": [],
      "authorship_tag": "ABX9TyNAUrmJfKsHdTZ5LuA1y89F",
      "include_colab_link": true
    },
    "kernelspec": {
      "name": "python3",
      "display_name": "Python 3"
    }
  },
  "cells": [
    {
      "cell_type": "markdown",
      "metadata": {
        "id": "view-in-github",
        "colab_type": "text"
      },
      "source": [
        "<a href=\"https://colab.research.google.com/github/loc1263/COVID-19/blob/master/Sort.ipynb\" target=\"_parent\"><img src=\"https://colab.research.google.com/assets/colab-badge.svg\" alt=\"Open In Colab\"/></a>"
      ]
    },
    {
      "cell_type": "code",
      "metadata": {
        "id": "dw3_rEXHOqZ4",
        "colab_type": "code",
        "outputId": "0612b1aa-4b69-408d-91ff-9cf1be6b603c",
        "colab": {
          "base_uri": "https://localhost:8080/",
          "height": 68
        }
      },
      "source": [
        "import numpy as np\n",
        "\n",
        "# generate random integer values\n",
        "from numpy.random import seed\n",
        "from numpy.random import randint\n",
        "\n",
        "# seed random number generator\n",
        "np.random.seed(0)\n",
        "\n",
        "Arreglo_Valores = randint(0, 100, 50)\n",
        "print(Arreglo_Valores)\n"
      ],
      "execution_count": 0,
      "outputs": [
        {
          "output_type": "stream",
          "text": [
            "[44 47 64 67 67  9 83 21 36 87 70 88 88 12 58 65 39 87 46 88 81 37 25 77\n",
            " 72  9 20 80 69 79 47 64 82 99 88 49 29 19 19 14 39 32 65  9 57 32 31 74\n",
            " 23 35]\n"
          ],
          "name": "stdout"
        }
      ]
    },
    {
      "cell_type": "code",
      "metadata": {
        "id": "1Xk11_jARLeQ",
        "colab_type": "code",
        "outputId": "9b2bab88-e915-4b72-b780-eb5949ce9833",
        "colab": {
          "base_uri": "https://localhost:8080/",
          "height": 51
        }
      },
      "source": [
        "print (len (Arreglo_Valores))  \n",
        "print (Arreglo_Valores[20])\n"
      ],
      "execution_count": 0,
      "outputs": [
        {
          "output_type": "stream",
          "text": [
            "50\n",
            "486\n"
          ],
          "name": "stdout"
        }
      ]
    },
    {
      "cell_type": "code",
      "metadata": {
        "id": "MCcz-POgZigY",
        "colab_type": "code",
        "colab": {}
      },
      "source": [
        "def partition(array, start, end):\n",
        "    pivot = array[start]\n",
        "    low = start + 1\n",
        "    high = end\n",
        "\n",
        "    while True:\n",
        "        while low <= high and array[high] >= pivot:\n",
        "            high = high - 1\n",
        "\n",
        "        while low <= high and array[low] <= pivot:\n",
        "            low = low + 1\n",
        "\n",
        "        if low <= high:\n",
        "            array[low], array[high] = array[high], array[low]\n",
        "        else:\n",
        "            break\n",
        "\n",
        "    array[start], array[high] = array[high], array[start]\n",
        "\n",
        "    return high\n"
      ],
      "execution_count": 0,
      "outputs": []
    },
    {
      "cell_type": "code",
      "metadata": {
        "id": "YIi8becMZlN5",
        "colab_type": "code",
        "colab": {}
      },
      "source": [
        "def quick_sort(array, start, end):\n",
        "    if start >= end:\n",
        "        return\n",
        "\n",
        "    p = partition(array, start, end)\n",
        "    quick_sort(array, start, p-1)\n",
        "    quick_sort(array, p+1, end)\n"
      ],
      "execution_count": 0,
      "outputs": []
    },
    {
      "cell_type": "code",
      "metadata": {
        "id": "_kT5Obn9f6PS",
        "colab_type": "code",
        "outputId": "37b1e938-ed4d-4c4e-f2e1-e90acd8b9edf",
        "colab": {
          "base_uri": "https://localhost:8080/",
          "height": 68
        }
      },
      "source": [
        "quick_sort(Arreglo_Valores, 0, len(Arreglo_Valores) - 1)\n",
        "print(Arreglo_Valores)"
      ],
      "execution_count": 0,
      "outputs": [
        {
          "output_type": "stream",
          "text": [
            "[ 9  9  9 12 14 19 19 20 21 23 25 29 31 32 32 35 36 37 39 39 44 46 47 47\n",
            " 49 57 58 64 64 65 65 67 67 69 70 72 74 77 79 80 81 82 83 87 87 88 88 88\n",
            " 88 99]\n"
          ],
          "name": "stdout"
        }
      ]
    }
  ]
}