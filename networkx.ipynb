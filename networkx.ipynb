{
 "cells": [
  {
   "cell_type": "code",
   "execution_count": 6,
   "metadata": {},
   "outputs": [],
   "source": [
    "import kmapper\n",
    "import numpy\n",
    "from sklearn import datasets\n",
    "import networkx as nx\n"
   ]
  },
  {
   "cell_type": "code",
   "execution_count": null,
   "metadata": {},
   "outputs": [],
   "source": []
  },
  {
   "cell_type": "code",
   "execution_count": null,
   "metadata": {},
   "outputs": [],
   "source": []
  },
  {
   "cell_type": "code",
   "execution_count": null,
   "metadata": {},
   "outputs": [],
   "source": []
  },
  {
   "cell_type": "code",
   "execution_count": 7,
   "metadata": {},
   "outputs": [],
   "source": [
    "\n",
    "# data = datasets.make_circles(n_samples=1000)[0]\n",
    "data1 = [[41.72980578, -70.28854339, 3739, 202, 0, 3537, 1], \n",
    "[42.37428441, -73.20524838, 2158, 91, 0, 2067, 1], \n",
    "[41.79228404, -71.10872211, 24598, 921, 0, 23677, 1], \n",
    "[41.40674725, -70.68763497, 840, 2, 0, 838, 1], \n",
    "[42.6687626, -70.94687179, 43110, 1510, 0, 41600, 1], \n",
    "[42.58119713, -72.58602547, 857, 80, 0, 777, 1], \n",
    "[42.13440424, -72.63235561, 19605, 957, 0, 18648, 1], \n",
    "[42.33997957, -72.65898478, 2774, 170, 0, 2604, 1], \n",
    "[42.48607732, -71.39049229, 55765, 2507, 0, 53258, 1], \n",
    "[42.16073095, -71.20530408, 19500, 1204, 0, 18296, 1], \n",
    "[41.94070556, -70.80802823, 17550, 925, 0, 16625, 1], \n",
    "[42.3279514, -71.07850442, 42667, 1291, 0, 41376, 1], \n",
    "[42.35026951, -71.90493363, 30516, 1343, 0, 29173, 1], \n",
    "[41.72980578, -70.28854339, 3671, 200, 0, 3471, 2], \n",
    "[42.37428441, -73.20524838, 2076, 87, 0, 1989, 2], \n",
    "[41.79228404, -71.10872211, 24157, 917, 0, 23240, 2], \n",
    "[41.40674725, -70.68763497, 816, 2, 0, 814, 2], \n",
    "[42.6687626, -70.94687179, 42222, 1505, 0, 40717, 2], \n",
    "[42.58119713, -72.58602547, 840, 80, 0, 760, 2], \n",
    "[42.13440424, -72.63235561, 19242, 951, 0, 18291, 2], \n",
    "[42.33997957, -72.65898478, 2701, 169, 0, 2532, 2], \n",
    "[42.48607732, -71.39049229, 54680, 2503, 0, 52177, 2], \n",
    "[42.16073095, -71.20530408, 19114, 1200, 0, 17914, 2], \n",
    "[41.94070556, -70.80802823, 17150, 922, 0, 16228, 2], \n",
    "[42.3279514, -71.07850442, 42036, 1288, 0, 40748, 2], \n",
    "[42.35026951, -71.90493363, 29875, 1336, 0, 28539, 2]]\n",
    "data1 = [[41.72980578, -70.28854339], \n",
    "[42.37428441, -73.20524838], \n",
    "[41.79228404, -71.10872211], \n",
    "[41.40674725, -70.68763497], \n",
    "[42.6687626, -70.94687179], \n",
    "[42.58119713, -72.58602547], \n",
    "[42.13440424, -72.63235561], \n",
    "[42.33997957, -72.65898478], \n",
    "[42.48607732, -71.39049229], \n",
    "[42.16073095, -71.20530408], \n",
    "[41.94070556, -70.80802823], \n",
    "[42.3279514, -71.07850442], \n",
    "[42.35026951, -71.90493363], \n",
    "[41.72980578, -70.28854339], \n",
    "[42.37428441, -73.20524838], \n",
    "[41.79228404, -71.10872211], \n",
    "[41.40674725, -70.68763497], \n",
    "[42.6687626, -70.94687179], \n",
    "[42.58119713, -72.58602547], \n",
    "[42.13440424, -72.63235561], \n",
    "[42.33997957, -72.65898478], \n",
    "[42.48607732, -71.39049229], \n",
    "[42.16073095, -71.20530408], \n",
    "[41.94070556, -70.80802823], \n",
    "[42.3279514, -71.07850442], \n",
    "[42.35026951, -71.90493363]]\n",
    "\n",
    "data = numpy.array(data1)"
   ]
  },
  {
   "cell_type": "code",
   "execution_count": null,
   "metadata": {},
   "outputs": [],
   "source": []
  },
  {
   "cell_type": "code",
   "execution_count": 8,
   "metadata": {},
   "outputs": [],
   "source": [
    "km = kmapper.KeplerMapper()\n",
    "lens = km.project(data)\n",
    "graph = km.map(X=data, lens=lens)"
   ]
  },
  {
   "cell_type": "code",
   "execution_count": 9,
   "metadata": {},
   "outputs": [],
   "source": [
    "nx_graph = kmapper.adapter.to_nx(graph)"
   ]
  },
  {
   "cell_type": "code",
   "execution_count": 10,
   "metadata": {},
   "outputs": [
    {
     "data": {
      "image/png": "[encoded data removed]",
      "text/plain": [
       "<Figure size 432x288 with 1 Axes>"
      ]
     },
     "metadata": {},
     "output_type": "display_data"
    }
   ],
   "source": [
    "nx.draw(nx_graph)"
   ]
  },
  {
   "cell_type": "code",
   "execution_count": 11,
   "metadata": {},
   "outputs": [
    {
     "name": "stdout",
     "output_type": "stream",
     "text": [
      "[[ 41.72980578 -70.28854339]\n",
      " [ 42.37428441 -73.20524838]\n",
      " [ 41.79228404 -71.10872211]\n",
      " [ 41.40674725 -70.68763497]\n",
      " [ 42.6687626  -70.94687179]\n",
      " [ 42.58119713 -72.58602547]\n",
      " [ 42.13440424 -72.63235561]\n",
      " [ 42.33997957 -72.65898478]\n",
      " [ 42.48607732 -71.39049229]\n",
      " [ 42.16073095 -71.20530408]\n",
      " [ 41.94070556 -70.80802823]\n",
      " [ 42.3279514  -71.07850442]\n",
      " [ 42.35026951 -71.90493363]\n",
      " [ 41.72980578 -70.28854339]\n",
      " [ 42.37428441 -73.20524838]\n",
      " [ 41.79228404 -71.10872211]\n",
      " [ 41.40674725 -70.68763497]\n",
      " [ 42.6687626  -70.94687179]\n",
      " [ 42.58119713 -72.58602547]\n",
      " [ 42.13440424 -72.63235561]\n",
      " [ 42.33997957 -72.65898478]\n",
      " [ 42.48607732 -71.39049229]\n",
      " [ 42.16073095 -71.20530408]\n",
      " [ 41.94070556 -70.80802823]\n",
      " [ 42.3279514  -71.07850442]\n",
      " [ 42.35026951 -71.90493363]]\n"
     ]
    }
   ],
   "source": [
    "print(data)"
   ]
  },
  {
   "cell_type": "code",
   "execution_count": 103,
   "metadata": {},
   "outputs": [
    {
     "data": {
      "text/plain": [
       "numpy.ndarray"
      ]
     },
     "execution_count": 103,
     "metadata": {},
     "output_type": "execute_result"
    }
   ],
   "source": [
    "type(data)"
   ]
  },
  {
   "cell_type": "code",
   "execution_count": 82,
   "metadata": {},
   "outputs": [
    {
     "data": {
      "text/plain": [
       "numpy.ndarray"
      ]
     },
     "execution_count": 82,
     "metadata": {},
     "output_type": "execute_result"
    }
   ],
   "source": [
    "type(lens)"
   ]
  },
  {
   "cell_type": "code",
   "execution_count": null,
   "metadata": {},
   "outputs": [],
   "source": []
  }
 ],
 "metadata": {
  "kernelspec": {
   "display_name": "Python 3",
   "language": "python",
   "name": "python3"
  },
  "language_info": {
   "codemirror_mode": {
    "name": "ipython",
    "version": 3
   },
   "file_extension": ".py",
   "mimetype": "text/x-python",
   "name": "python",
   "nbconvert_exporter": "python",
   "pygments_lexer": "ipython3",
   "version": "3.8.5"
  }
 },
 "nbformat": 4,
 "nbformat_minor": 4
}
