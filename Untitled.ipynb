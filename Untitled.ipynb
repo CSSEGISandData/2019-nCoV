{
 "cells": [
  {
   "cell_type": "code",
   "execution_count": 1,
   "metadata": {},
   "outputs": [],
   "source": [
    "import numpy as np\n",
    "import pandas as pd\n",
    "import matplotlib.pyplot as plt"
   ]
  },
  {
   "cell_type": "code",
   "execution_count": 125,
   "metadata": {},
   "outputs": [],
   "source": [
    "def term1(age):\n",
    "    if age > 50:\n",
    "        return 1.85*(age-50)\n",
    "    else:\n",
    "        return 0"
   ]
  },
  {
   "cell_type": "code",
   "execution_count": 126,
   "metadata": {},
   "outputs": [],
   "source": [
    "def term3(BMI, isAfrican, cigs):\n",
    "    term = 1.17*BMI;\n",
    "    if isAfrican :\n",
    "        term = term + 22.34\n",
    "    if cigs :\n",
    "        term = term + 14.33;\n",
    "    return term"
   ]
  },
  {
   "cell_type": "code",
   "execution_count": 127,
   "metadata": {},
   "outputs": [],
   "source": [
    "def term4(SBP, donor_sex, recipient_sex, ABO, related):\n",
    "    term = 0.44*SBP;\n",
    "    if donor_sex == 'male' and donor_sex == recipient_sex :\n",
    "        term = term - 21.68;\n",
    "    if ABO == 1:\n",
    "        term = term + 27.30\n",
    "    if related == 0:\n",
    "        term = term -10.61\n",
    "    return term"
   ]
  },
  {
   "cell_type": "code",
   "execution_count": 128,
   "metadata": {},
   "outputs": [],
   "source": [
    "def term7(donor_weight, recipient_weight):\n",
    "    DRWR = donor_weight/recipient_weight;\n",
    "    return min(DRWR, 0.9)"
   ]
  },
  {
   "cell_type": "markdown",
   "metadata": {},
   "source": [
    "# Input Parameters"
   ]
  },
  {
   "cell_type": "code",
   "execution_count": 158,
   "metadata": {},
   "outputs": [],
   "source": [
    "donor_age = 85\n",
    "donor_sex = 'male'\n",
    "recipient_sex = 'male'\n",
    "donor_eGFR = 92 # by 2 then 3\n",
    "donor_SBP = 85 # by 5s\n",
    "donor_BMI = 22\n",
    "isAfrican = 1\n",
    "cigs = 1\n",
    "related = 1\n",
    "ABO = 0\n",
    "donor_weight = 82 # by 2kgs\n",
    "recipient_weight = 82 # by 2kgs\n",
    "HLAB = 0\n",
    "HLADR = 0"
   ]
  },
  {
   "cell_type": "markdown",
   "metadata": {},
   "source": [
    "# Calculator"
   ]
  },
  {
   "cell_type": "code",
   "execution_count": 159,
   "metadata": {},
   "outputs": [],
   "source": [
    "LKDPI = [];\n",
    "LKDPI = -11.30 + term1(donor_age)- 0.381 * donor_eGFR+ term3(donor_BMI, isAfrican, cigs)+ term4(donor_SBP, donor_sex, recipient_sex, ABO, related)+ 8.57 * HLAB+ 8.26 * HLADR - 50.87 * term7(donor_weight, recipient_weight);\n",
    "\n"
   ]
  },
  {
   "cell_type": "code",
   "execution_count": 160,
   "metadata": {},
   "outputs": [
    {
     "data": {
      "text/plain": [
       "51"
      ]
     },
     "execution_count": 160,
     "metadata": {},
     "output_type": "execute_result"
    }
   ],
   "source": [
    "round(LKDPI)"
   ]
  },
  {
   "cell_type": "code",
   "execution_count": null,
   "metadata": {},
   "outputs": [],
   "source": []
  }
 ],
 "metadata": {
  "kernelspec": {
   "display_name": "Python 3",
   "language": "python",
   "name": "python3"
  },
  "language_info": {
   "codemirror_mode": {
    "name": "ipython",
    "version": 3
   },
   "file_extension": ".py",
   "mimetype": "text/x-python",
   "name": "python",
   "nbconvert_exporter": "python",
   "pygments_lexer": "ipython3",
   "version": "3.7.4"
  }
 },
 "nbformat": 4,
 "nbformat_minor": 2
}
