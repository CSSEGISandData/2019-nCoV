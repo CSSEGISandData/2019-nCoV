{
 "cells": [
  {
   "cell_type": "markdown",
   "metadata": {},
   "source": [
    "# Notebook to automatically fetch data from Polish official website"
   ]
  },
  {
   "cell_type": "code",
   "execution_count": 25,
   "metadata": {},
   "outputs": [],
   "source": [
    "from scrapy.selector import Selector\n",
    "import requests\n",
    "import json\n",
    "import pandas as pd\n",
    "from io import StringIO"
   ]
  },
  {
   "cell_type": "code",
   "execution_count": 21,
   "metadata": {},
   "outputs": [],
   "source": [
    "url = 'https://www.gov.pl/web/koronawirus/wykaz-zarazen-koronawirusem-sars-cov-2'\n",
    "body = requests.get(url).text"
   ]
  },
  {
   "cell_type": "markdown",
   "metadata": {},
   "source": [
    "Data is stored in one of hidden fields in html. Format is json with embedded CSV"
   ]
  },
  {
   "cell_type": "code",
   "execution_count": 28,
   "metadata": {},
   "outputs": [],
   "source": [
    "data_raw = Selector(text=body).css(\"#registerData::text\").get()"
   ]
  },
  {
   "cell_type": "code",
   "execution_count": 29,
   "metadata": {},
   "outputs": [],
   "source": [
    "data = json.loads(data_raw)['data']"
   ]
  },
  {
   "cell_type": "code",
   "execution_count": 36,
   "metadata": {},
   "outputs": [
    {
     "data": {
      "text/html": [
       "<div>\n",
       "<style scoped>\n",
       "    .dataframe tbody tr th:only-of-type {\n",
       "        vertical-align: middle;\n",
       "    }\n",
       "\n",
       "    .dataframe tbody tr th {\n",
       "        vertical-align: top;\n",
       "    }\n",
       "\n",
       "    .dataframe thead th {\n",
       "        text-align: right;\n",
       "    }\n",
       "</style>\n",
       "<table border=\"1\" class=\"dataframe\">\n",
       "  <thead>\n",
       "    <tr style=\"text-align: right;\">\n",
       "      <th></th>\n",
       "      <th>Województwo</th>\n",
       "      <th>Powiat/Miasto</th>\n",
       "      <th>Liczba</th>\n",
       "      <th>Liczba zgonów</th>\n",
       "      <th>Id</th>\n",
       "    </tr>\n",
       "  </thead>\n",
       "  <tbody>\n",
       "    <tr>\n",
       "      <th>0</th>\n",
       "      <td>Cała Polska</td>\n",
       "      <td>Łącznie</td>\n",
       "      <td>177</td>\n",
       "      <td>4.0</td>\n",
       "      <td>t0000</td>\n",
       "    </tr>\n",
       "    <tr>\n",
       "      <th>1</th>\n",
       "      <td>łódzkie</td>\n",
       "      <td>bełchatowski</td>\n",
       "      <td>1</td>\n",
       "      <td>NaN</td>\n",
       "      <td>t1001</td>\n",
       "    </tr>\n",
       "    <tr>\n",
       "      <th>2</th>\n",
       "      <td>śląskie</td>\n",
       "      <td>będziński</td>\n",
       "      <td>2</td>\n",
       "      <td>NaN</td>\n",
       "      <td>t2401</td>\n",
       "    </tr>\n",
       "    <tr>\n",
       "      <th>3</th>\n",
       "      <td>lubelskie</td>\n",
       "      <td>biłgorajski</td>\n",
       "      <td>1</td>\n",
       "      <td>NaN</td>\n",
       "      <td>t0602</td>\n",
       "    </tr>\n",
       "    <tr>\n",
       "      <th>4</th>\n",
       "      <td>dolnośląskie</td>\n",
       "      <td>bolesławiecki</td>\n",
       "      <td>1</td>\n",
       "      <td>NaN</td>\n",
       "      <td>t0201</td>\n",
       "    </tr>\n",
       "  </tbody>\n",
       "</table>\n",
       "</div>"
      ],
      "text/plain": [
       "    Województwo  Powiat/Miasto  Liczba  Liczba zgonów     Id\n",
       "0   Cała Polska        Łącznie     177            4.0  t0000\n",
       "1       łódzkie   bełchatowski       1            NaN  t1001\n",
       "2       śląskie      będziński       2            NaN  t2401\n",
       "3     lubelskie    biłgorajski       1            NaN  t0602\n",
       "4  dolnośląskie  bolesławiecki       1            NaN  t0201"
      ]
     },
     "execution_count": 36,
     "metadata": {},
     "output_type": "execute_result"
    }
   ],
   "source": [
    "dcsv = StringIO(data)\n",
    "df = pd.read_csv(dcsv, sep=\";\")\n",
    "df.head()"
   ]
  },
  {
   "cell_type": "markdown",
   "metadata": {},
   "source": [
    "Each row represents one region (Województwo) of Poland. First row with id `t0000` represents total for whole country "
   ]
  },
  {
   "cell_type": "code",
   "execution_count": null,
   "metadata": {},
   "outputs": [],
   "source": []
  }
 ],
 "metadata": {
  "kernelspec": {
   "display_name": "Python 3",
   "language": "python",
   "name": "python3"
  },
  "language_info": {
   "codemirror_mode": {
    "name": "ipython",
    "version": 3
   },
   "file_extension": ".py",
   "mimetype": "text/x-python",
   "name": "python",
   "nbconvert_exporter": "python",
   "pygments_lexer": "ipython3",
   "version": "3.7.4"
  }
 },
 "nbformat": 4,
 "nbformat_minor": 4
}
